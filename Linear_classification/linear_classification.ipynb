{
 "metadata": {
  "language_info": {
   "codemirror_mode": {
    "name": "ipython",
    "version": 3
   },
   "file_extension": ".py",
   "mimetype": "text/x-python",
   "name": "python",
   "nbconvert_exporter": "python",
   "pygments_lexer": "ipython3",
   "version": "3.8.8"
  },
  "orig_nbformat": 2,
  "kernelspec": {
   "name": "python388jvsc74a57bd0c6935f5dfcd9b308e02dc7f39d9fcfe9ff748baef71e019f4ffcb4c950a3ddd2",
   "display_name": "Python 3.8.8 64-bit ('tensorflow24': conda)"
  },
  "metadata": {
   "interpreter": {
    "hash": "c6935f5dfcd9b308e02dc7f39d9fcfe9ff748baef71e019f4ffcb4c950a3ddd2"
   }
  }
 },
 "nbformat": 4,
 "nbformat_minor": 2,
 "cells": [
  {
   "cell_type": "code",
   "execution_count": 1,
   "metadata": {},
   "outputs": [
    {
     "output_type": "stream",
     "name": "stdout",
     "text": [
      "1 Physical GPUs, 1 Logical GPUs\n"
     ]
    }
   ],
   "source": [
    "import tensorflow as tf\n",
    "import pandas as pd\n",
    "import matplotlib.pyplot as plt\n",
    "import tensorboard\n",
    "from datetime import datetime\n",
    "\n",
    "# Restrict GPU memory consumption\n",
    "gpus = tf.config.list_physical_devices('GPU')\n",
    "if gpus:\n",
    "  # Restrict TensorFlow to only allocate 1GB of memory on the first GPU\n",
    "  try:\n",
    "    tf.config.experimental.set_virtual_device_configuration(\n",
    "        gpus[0],\n",
    "        [tf.config.experimental.VirtualDeviceConfiguration(memory_limit=5000)])\n",
    "    logical_gpus = tf.config.experimental.list_logical_devices('GPU')\n",
    "    print(len(gpus), \"Physical GPUs,\", len(logical_gpus), \"Logical GPUs\")\n",
    "  except RuntimeError as e:\n",
    "    # Virtual devices must be set before GPUs have been initialized\n",
    "    print(e)"
   ]
  },
  {
   "cell_type": "code",
   "execution_count": 2,
   "metadata": {},
   "outputs": [],
   "source": [
    "# Configure tensorboard\n",
    "logdir = \"U:/Coding/~Learning/Pd/logs/\" + datetime.now().strftime(\"%Y%m%d-%H%M%S\")\n",
    "tensorboard_callback = tf.keras.callbacks.TensorBoard(log_dir=logdir)"
   ]
  },
  {
   "cell_type": "code",
   "execution_count": 3,
   "metadata": {},
   "outputs": [
    {
     "output_type": "execute_result",
     "data": {
      "text/plain": [
       "sklearn.utils.Bunch"
      ]
     },
     "metadata": {},
     "execution_count": 3
    }
   ],
   "source": [
    "# load in the data\n",
    "from sklearn.datasets import load_breast_cancer\n",
    "data = load_breast_cancer()\n",
    "type(data)"
   ]
  },
  {
   "source": [
    "** note: ** it is a Bunch object. This basically acts like a dictionary where you can treat the keys like attributes"
   ],
   "cell_type": "markdown",
   "metadata": {}
  },
  {
   "cell_type": "code",
   "execution_count": 4,
   "metadata": {},
   "outputs": [
    {
     "output_type": "execute_result",
     "data": {
      "text/plain": [
       "dict_keys(['data', 'target', 'frame', 'target_names', 'DESCR', 'feature_names', 'filename'])"
      ]
     },
     "metadata": {},
     "execution_count": 4
    }
   ],
   "source": [
    "data.keys()"
   ]
  },
  {
   "cell_type": "code",
   "execution_count": 5,
   "metadata": {},
   "outputs": [
    {
     "output_type": "execute_result",
     "data": {
      "text/plain": [
       "(569, 30)"
      ]
     },
     "metadata": {},
     "execution_count": 5
    }
   ],
   "source": [
    "# 'data' (the attributes) means the input data\n",
    "data.data.shape\n",
    "# it has 569 samples, 30 features"
   ]
  },
  {
   "cell_type": "code",
   "execution_count": 6,
   "metadata": {},
   "outputs": [
    {
     "output_type": "execute_result",
     "data": {
      "text/plain": [
       "(array([0, 0, 0, 0, 0, 0, 0, 0, 0, 0, 0, 0, 0, 0, 0, 0, 0, 0, 0, 1, 1, 1,\n",
       "        0, 0, 0, 0, 0, 0, 0, 0, 0, 0, 0, 0, 0, 0, 0, 1, 0, 0, 0, 0, 0, 0,\n",
       "        0, 0, 1, 0, 1, 1, 1, 1, 1, 0, 0, 1, 0, 0, 1, 1, 1, 1, 0, 1, 0, 0,\n",
       "        1, 1, 1, 1, 0, 1, 0, 0, 1, 0, 1, 0, 0, 1, 1, 1, 0, 0, 1, 0, 0, 0,\n",
       "        1, 1, 1, 0, 1, 1, 0, 0, 1, 1, 1, 0, 0, 1, 1, 1, 1, 0, 1, 1, 0, 1,\n",
       "        1, 1, 1, 1, 1, 1, 1, 0, 0, 0, 1, 0, 0, 1, 1, 1, 0, 0, 1, 0, 1, 0,\n",
       "        0, 1, 0, 0, 1, 1, 0, 1, 1, 0, 1, 1, 1, 1, 0, 1, 1, 1, 1, 1, 1, 1,\n",
       "        1, 1, 0, 1, 1, 1, 1, 0, 0, 1, 0, 1, 1, 0, 0, 1, 1, 0, 0, 1, 1, 1,\n",
       "        1, 0, 1, 1, 0, 0, 0, 1, 0, 1, 0, 1, 1, 1, 0, 1, 1, 0, 0, 1, 0, 0,\n",
       "        0, 0, 1, 0, 0, 0, 1, 0, 1, 0, 1, 1, 0, 1, 0, 0, 0, 0, 1, 1, 0, 0,\n",
       "        1, 1, 1, 0, 1, 1, 1, 1, 1, 0, 0, 1, 1, 0, 1, 1, 0, 0, 1, 0, 1, 1,\n",
       "        1, 1, 0, 1, 1, 1, 1, 1, 0, 1, 0, 0, 0, 0, 0, 0, 0, 0, 0, 0, 0, 0,\n",
       "        0, 0, 1, 1, 1, 1, 1, 1, 0, 1, 0, 1, 1, 0, 1, 1, 0, 1, 0, 0, 1, 1,\n",
       "        1, 1, 1, 1, 1, 1, 1, 1, 1, 1, 1, 0, 1, 1, 0, 1, 0, 1, 1, 1, 1, 1,\n",
       "        1, 1, 1, 1, 1, 1, 1, 1, 1, 0, 1, 1, 1, 0, 1, 0, 1, 1, 1, 1, 0, 0,\n",
       "        0, 1, 1, 1, 1, 0, 1, 0, 1, 0, 1, 1, 1, 0, 1, 1, 1, 1, 1, 1, 1, 0,\n",
       "        0, 0, 1, 1, 1, 1, 1, 1, 1, 1, 1, 1, 1, 0, 0, 1, 0, 0, 0, 1, 0, 0,\n",
       "        1, 1, 1, 1, 1, 0, 1, 1, 1, 1, 1, 0, 1, 1, 1, 0, 1, 1, 0, 0, 1, 1,\n",
       "        1, 1, 1, 1, 0, 1, 1, 1, 1, 1, 1, 1, 0, 1, 1, 1, 1, 1, 0, 1, 1, 0,\n",
       "        1, 1, 1, 1, 1, 1, 1, 1, 1, 1, 1, 1, 0, 1, 0, 0, 1, 0, 1, 1, 1, 1,\n",
       "        1, 0, 1, 1, 0, 1, 0, 1, 1, 0, 1, 0, 1, 1, 1, 1, 1, 1, 1, 1, 0, 0,\n",
       "        1, 1, 1, 1, 1, 1, 0, 1, 1, 1, 1, 1, 1, 1, 1, 1, 1, 0, 1, 1, 1, 1,\n",
       "        1, 1, 1, 0, 1, 0, 1, 1, 0, 1, 1, 1, 1, 1, 0, 0, 1, 0, 1, 0, 1, 1,\n",
       "        1, 1, 1, 0, 1, 1, 0, 1, 0, 1, 0, 0, 1, 1, 1, 0, 1, 1, 1, 1, 1, 1,\n",
       "        1, 1, 1, 1, 1, 0, 1, 0, 0, 1, 1, 1, 1, 1, 1, 1, 1, 1, 1, 1, 1, 1,\n",
       "        1, 1, 1, 1, 1, 1, 1, 1, 1, 1, 1, 1, 0, 0, 0, 0, 0, 0, 1]),\n",
       " (569,))"
      ]
     },
     "metadata": {},
     "execution_count": 6
    }
   ],
   "source": [
    "# 'targets'\n",
    "data.target, data.target.shape\n",
    "# note how the targets are just 0s and 1s\n",
    "# normally, when you have K targets, they are labeled 0..K-1\n"
   ]
  },
  {
   "cell_type": "code",
   "execution_count": 7,
   "metadata": {},
   "outputs": [
    {
     "output_type": "execute_result",
     "data": {
      "text/plain": [
       "(array(['malignant', 'benign'], dtype='<U9'),\n",
       " array(['mean radius', 'mean texture', 'mean perimeter', 'mean area',\n",
       "        'mean smoothness', 'mean compactness', 'mean concavity',\n",
       "        'mean concave points', 'mean symmetry', 'mean fractal dimension',\n",
       "        'radius error', 'texture error', 'perimeter error', 'area error',\n",
       "        'smoothness error', 'compactness error', 'concavity error',\n",
       "        'concave points error', 'symmetry error',\n",
       "        'fractal dimension error', 'worst radius', 'worst texture',\n",
       "        'worst perimeter', 'worst area', 'worst smoothness',\n",
       "        'worst compactness', 'worst concavity', 'worst concave points',\n",
       "        'worst symmetry', 'worst fractal dimension'], dtype='<U23'))"
      ]
     },
     "metadata": {},
     "execution_count": 7
    }
   ],
   "source": [
    "# they meaning is not lost\n",
    "data.target_names, data.feature_names"
   ]
  },
  {
   "cell_type": "code",
   "execution_count": 8,
   "metadata": {},
   "outputs": [
    {
     "output_type": "execute_result",
     "data": {
      "text/plain": [
       "(381, 30)"
      ]
     },
     "metadata": {},
     "execution_count": 8
    }
   ],
   "source": [
    "from sklearn.model_selection import train_test_split\n",
    "X_train, X_test, y_train, y_test = train_test_split(data.data, data.target, test_size=0.33)\n",
    "N, D = X_train.shape\n",
    "N, D"
   ]
  },
  {
   "cell_type": "code",
   "execution_count": 9,
   "metadata": {},
   "outputs": [],
   "source": [
    "# Scale the data (normalize)\n",
    "# you'll learn why scaling is needed in a later course\n",
    "from sklearn.preprocessing import StandardScaler\n",
    "\n",
    "scaler = StandardScaler()\n",
    "X_train = scaler.fit_transform(X_train)\n",
    "X_test = scaler.transform(X_test)\n"
   ]
  },
  {
   "cell_type": "code",
   "execution_count": 10,
   "metadata": {},
   "outputs": [],
   "source": [
    "# learning rate scheduler\n",
    "def schedule(epoch, lr):\n",
    "    if epoch >= 50:\n",
    "        return 0.001\n",
    "    return 0.01\n",
    "\n",
    "scheduler = tf.keras.callbacks.LearningRateScheduler(schedule)"
   ]
  },
  {
   "cell_type": "code",
   "execution_count": 11,
   "metadata": {
    "tags": [
     "outputPrepend"
    ]
   },
   "outputs": [
    {
     "output_type": "stream",
     "name": "stdout",
     "text": [
      "2 [==============================] - 0s 5ms/step - loss: 0.0658 - accuracy: 0.9790 - val_loss: 0.0778 - val_accuracy: 0.9681\n",
      "Epoch 364/500\n",
      "12/12 [==============================] - 0s 4ms/step - loss: 0.0390 - accuracy: 0.9890 - val_loss: 0.0777 - val_accuracy: 0.9681\n",
      "Epoch 365/500\n",
      "12/12 [==============================] - 0s 4ms/step - loss: 0.0502 - accuracy: 0.9887 - val_loss: 0.0777 - val_accuracy: 0.9681\n",
      "Epoch 366/500\n",
      "12/12 [==============================] - 0s 4ms/step - loss: 0.0337 - accuracy: 0.9933 - val_loss: 0.0775 - val_accuracy: 0.9681\n",
      "Epoch 367/500\n",
      "12/12 [==============================] - 0s 4ms/step - loss: 0.0637 - accuracy: 0.9842 - val_loss: 0.0779 - val_accuracy: 0.9681\n",
      "Epoch 368/500\n",
      "12/12 [==============================] - 0s 4ms/step - loss: 0.0578 - accuracy: 0.9870 - val_loss: 0.0782 - val_accuracy: 0.9681\n",
      "Epoch 369/500\n",
      "12/12 [==============================] - 0s 4ms/step - loss: 0.0368 - accuracy: 0.9944 - val_loss: 0.0774 - val_accuracy: 0.9681\n",
      "Epoch 370/500\n",
      "12/12 [==============================] - 0s 4ms/step - loss: 0.0415 - accuracy: 0.9904 - val_loss: 0.0775 - val_accuracy: 0.9681\n",
      "Epoch 371/500\n",
      "12/12 [==============================] - 0s 4ms/step - loss: 0.0447 - accuracy: 0.9863 - val_loss: 0.0780 - val_accuracy: 0.9681\n",
      "Epoch 372/500\n",
      "12/12 [==============================] - 0s 4ms/step - loss: 0.0586 - accuracy: 0.9864 - val_loss: 0.0780 - val_accuracy: 0.9681\n",
      "Epoch 373/500\n",
      "12/12 [==============================] - 0s 4ms/step - loss: 0.0525 - accuracy: 0.9885 - val_loss: 0.0780 - val_accuracy: 0.9681\n",
      "Epoch 374/500\n",
      "12/12 [==============================] - 0s 4ms/step - loss: 0.0397 - accuracy: 0.9929 - val_loss: 0.0780 - val_accuracy: 0.9681\n",
      "Epoch 375/500\n",
      "12/12 [==============================] - 0s 4ms/step - loss: 0.0576 - accuracy: 0.9828 - val_loss: 0.0784 - val_accuracy: 0.9681\n",
      "Epoch 376/500\n",
      "12/12 [==============================] - 0s 4ms/step - loss: 0.0430 - accuracy: 0.9918 - val_loss: 0.0785 - val_accuracy: 0.9681\n",
      "Epoch 377/500\n",
      "12/12 [==============================] - 0s 4ms/step - loss: 0.0338 - accuracy: 0.9957 - val_loss: 0.0778 - val_accuracy: 0.9681\n",
      "Epoch 378/500\n",
      "12/12 [==============================] - 0s 4ms/step - loss: 0.0560 - accuracy: 0.9876 - val_loss: 0.0780 - val_accuracy: 0.9681\n",
      "Epoch 379/500\n",
      "12/12 [==============================] - 0s 4ms/step - loss: 0.0445 - accuracy: 0.9886 - val_loss: 0.0784 - val_accuracy: 0.9681\n",
      "Epoch 380/500\n",
      "12/12 [==============================] - 0s 4ms/step - loss: 0.0317 - accuracy: 0.9943 - val_loss: 0.0781 - val_accuracy: 0.9681\n",
      "Epoch 381/500\n",
      "12/12 [==============================] - 0s 4ms/step - loss: 0.0604 - accuracy: 0.9868 - val_loss: 0.0782 - val_accuracy: 0.9681\n",
      "Epoch 382/500\n",
      "12/12 [==============================] - 0s 4ms/step - loss: 0.0349 - accuracy: 0.9960 - val_loss: 0.0781 - val_accuracy: 0.9681\n",
      "Epoch 383/500\n",
      "12/12 [==============================] - 0s 4ms/step - loss: 0.0518 - accuracy: 0.9865 - val_loss: 0.0784 - val_accuracy: 0.9681\n",
      "Epoch 384/500\n",
      "12/12 [==============================] - 0s 4ms/step - loss: 0.0630 - accuracy: 0.9839 - val_loss: 0.0788 - val_accuracy: 0.9681\n",
      "Epoch 385/500\n",
      "12/12 [==============================] - 0s 4ms/step - loss: 0.0381 - accuracy: 0.9961 - val_loss: 0.0779 - val_accuracy: 0.9681\n",
      "Epoch 386/500\n",
      "12/12 [==============================] - 0s 4ms/step - loss: 0.0346 - accuracy: 0.9934 - val_loss: 0.0784 - val_accuracy: 0.9681\n",
      "Epoch 387/500\n",
      "12/12 [==============================] - 0s 4ms/step - loss: 0.0440 - accuracy: 0.9866 - val_loss: 0.0788 - val_accuracy: 0.9681\n",
      "Epoch 388/500\n",
      "12/12 [==============================] - 0s 4ms/step - loss: 0.0582 - accuracy: 0.9857 - val_loss: 0.0790 - val_accuracy: 0.9681\n",
      "Epoch 389/500\n",
      "12/12 [==============================] - 0s 4ms/step - loss: 0.0305 - accuracy: 0.9945 - val_loss: 0.0787 - val_accuracy: 0.9681\n",
      "Epoch 390/500\n",
      "12/12 [==============================] - 0s 4ms/step - loss: 0.0425 - accuracy: 0.9913 - val_loss: 0.0785 - val_accuracy: 0.9681\n",
      "Epoch 391/500\n",
      "12/12 [==============================] - 0s 4ms/step - loss: 0.0506 - accuracy: 0.9887 - val_loss: 0.0789 - val_accuracy: 0.9681\n",
      "Epoch 392/500\n",
      "12/12 [==============================] - 0s 4ms/step - loss: 0.0348 - accuracy: 0.9967 - val_loss: 0.0785 - val_accuracy: 0.9681\n",
      "Epoch 393/500\n",
      "12/12 [==============================] - 0s 4ms/step - loss: 0.0492 - accuracy: 0.9904 - val_loss: 0.0789 - val_accuracy: 0.9681\n",
      "Epoch 394/500\n",
      "12/12 [==============================] - 0s 4ms/step - loss: 0.0429 - accuracy: 0.9897 - val_loss: 0.0788 - val_accuracy: 0.9681\n",
      "Epoch 395/500\n",
      "12/12 [==============================] - 0s 4ms/step - loss: 0.0337 - accuracy: 0.9948 - val_loss: 0.0788 - val_accuracy: 0.9681\n",
      "Epoch 396/500\n",
      "12/12 [==============================] - 0s 4ms/step - loss: 0.0435 - accuracy: 0.9900 - val_loss: 0.0786 - val_accuracy: 0.9681\n",
      "Epoch 397/500\n",
      "12/12 [==============================] - 0s 4ms/step - loss: 0.0406 - accuracy: 0.9914 - val_loss: 0.0790 - val_accuracy: 0.9681\n",
      "Epoch 398/500\n",
      "12/12 [==============================] - 0s 4ms/step - loss: 0.0329 - accuracy: 0.9923 - val_loss: 0.0788 - val_accuracy: 0.9681\n",
      "Epoch 399/500\n",
      "12/12 [==============================] - 0s 4ms/step - loss: 0.0601 - accuracy: 0.9876 - val_loss: 0.0790 - val_accuracy: 0.9681\n",
      "Epoch 400/500\n",
      "12/12 [==============================] - 0s 4ms/step - loss: 0.0576 - accuracy: 0.9826 - val_loss: 0.0795 - val_accuracy: 0.9681\n",
      "Epoch 401/500\n",
      "12/12 [==============================] - 0s 4ms/step - loss: 0.0437 - accuracy: 0.9906 - val_loss: 0.0794 - val_accuracy: 0.9681\n",
      "Epoch 402/500\n",
      "12/12 [==============================] - 0s 4ms/step - loss: 0.0529 - accuracy: 0.9881 - val_loss: 0.0792 - val_accuracy: 0.9681\n",
      "Epoch 403/500\n",
      "12/12 [==============================] - 0s 4ms/step - loss: 0.0371 - accuracy: 0.9943 - val_loss: 0.0792 - val_accuracy: 0.9681\n",
      "Epoch 404/500\n",
      "12/12 [==============================] - 0s 4ms/step - loss: 0.0413 - accuracy: 0.9938 - val_loss: 0.0790 - val_accuracy: 0.9681\n",
      "Epoch 405/500\n",
      "12/12 [==============================] - 0s 4ms/step - loss: 0.0323 - accuracy: 0.9966 - val_loss: 0.0793 - val_accuracy: 0.9681\n",
      "Epoch 406/500\n",
      "12/12 [==============================] - 0s 4ms/step - loss: 0.0436 - accuracy: 0.9874 - val_loss: 0.0794 - val_accuracy: 0.9681\n",
      "Epoch 407/500\n",
      "12/12 [==============================] - 0s 4ms/step - loss: 0.0394 - accuracy: 0.9933 - val_loss: 0.0798 - val_accuracy: 0.9681\n",
      "Epoch 408/500\n",
      "12/12 [==============================] - 0s 4ms/step - loss: 0.0501 - accuracy: 0.9886 - val_loss: 0.0798 - val_accuracy: 0.9681\n",
      "Epoch 409/500\n",
      "12/12 [==============================] - 0s 4ms/step - loss: 0.0584 - accuracy: 0.9844 - val_loss: 0.0799 - val_accuracy: 0.9681\n",
      "Epoch 410/500\n",
      "12/12 [==============================] - 0s 4ms/step - loss: 0.0370 - accuracy: 0.9917 - val_loss: 0.0800 - val_accuracy: 0.9681\n",
      "Epoch 411/500\n",
      "12/12 [==============================] - 0s 4ms/step - loss: 0.0472 - accuracy: 0.9896 - val_loss: 0.0795 - val_accuracy: 0.9681\n",
      "Epoch 412/500\n",
      "12/12 [==============================] - 0s 4ms/step - loss: 0.0418 - accuracy: 0.9907 - val_loss: 0.0794 - val_accuracy: 0.9681\n",
      "Epoch 413/500\n",
      "12/12 [==============================] - 0s 4ms/step - loss: 0.0380 - accuracy: 0.9921 - val_loss: 0.0796 - val_accuracy: 0.9681\n",
      "Epoch 414/500\n",
      "12/12 [==============================] - 0s 4ms/step - loss: 0.0468 - accuracy: 0.9915 - val_loss: 0.0799 - val_accuracy: 0.9681\n",
      "Epoch 415/500\n",
      "12/12 [==============================] - 0s 4ms/step - loss: 0.0525 - accuracy: 0.9882 - val_loss: 0.0799 - val_accuracy: 0.9681\n",
      "Epoch 416/500\n",
      "12/12 [==============================] - 0s 4ms/step - loss: 0.0451 - accuracy: 0.9912 - val_loss: 0.0800 - val_accuracy: 0.9681\n",
      "Epoch 417/500\n",
      "12/12 [==============================] - 0s 4ms/step - loss: 0.0519 - accuracy: 0.9825 - val_loss: 0.0798 - val_accuracy: 0.9681\n",
      "Epoch 418/500\n",
      "12/12 [==============================] - 0s 4ms/step - loss: 0.0427 - accuracy: 0.9877 - val_loss: 0.0797 - val_accuracy: 0.9681\n",
      "Epoch 419/500\n",
      "12/12 [==============================] - 0s 4ms/step - loss: 0.0446 - accuracy: 0.9915 - val_loss: 0.0801 - val_accuracy: 0.9681\n",
      "Epoch 420/500\n",
      "12/12 [==============================] - 0s 4ms/step - loss: 0.0274 - accuracy: 0.9972 - val_loss: 0.0797 - val_accuracy: 0.9681\n",
      "Epoch 421/500\n",
      "12/12 [==============================] - 0s 4ms/step - loss: 0.0468 - accuracy: 0.9894 - val_loss: 0.0802 - val_accuracy: 0.9681\n",
      "Epoch 422/500\n",
      "12/12 [==============================] - 0s 4ms/step - loss: 0.0431 - accuracy: 0.9891 - val_loss: 0.0805 - val_accuracy: 0.9681\n",
      "Epoch 423/500\n",
      "12/12 [==============================] - 0s 4ms/step - loss: 0.0341 - accuracy: 0.9934 - val_loss: 0.0801 - val_accuracy: 0.9681\n",
      "Epoch 424/500\n",
      "12/12 [==============================] - 0s 4ms/step - loss: 0.0468 - accuracy: 0.9891 - val_loss: 0.0802 - val_accuracy: 0.9681\n",
      "Epoch 425/500\n",
      "12/12 [==============================] - 0s 5ms/step - loss: 0.0419 - accuracy: 0.9920 - val_loss: 0.0800 - val_accuracy: 0.9681\n",
      "Epoch 426/500\n",
      "12/12 [==============================] - 0s 4ms/step - loss: 0.0397 - accuracy: 0.9907 - val_loss: 0.0802 - val_accuracy: 0.9681\n",
      "Epoch 427/500\n",
      "12/12 [==============================] - 0s 4ms/step - loss: 0.0458 - accuracy: 0.9886 - val_loss: 0.0803 - val_accuracy: 0.9681\n",
      "Epoch 428/500\n",
      "12/12 [==============================] - 0s 4ms/step - loss: 0.0336 - accuracy: 0.9952 - val_loss: 0.0802 - val_accuracy: 0.9681\n",
      "Epoch 429/500\n",
      "12/12 [==============================] - 0s 4ms/step - loss: 0.0469 - accuracy: 0.9928 - val_loss: 0.0804 - val_accuracy: 0.9681\n",
      "Epoch 430/500\n",
      "12/12 [==============================] - 0s 4ms/step - loss: 0.0441 - accuracy: 0.9898 - val_loss: 0.0807 - val_accuracy: 0.9681\n",
      "Epoch 431/500\n",
      "12/12 [==============================] - 0s 4ms/step - loss: 0.0357 - accuracy: 0.9942 - val_loss: 0.0805 - val_accuracy: 0.9681\n",
      "Epoch 432/500\n",
      "12/12 [==============================] - 0s 4ms/step - loss: 0.0464 - accuracy: 0.9863 - val_loss: 0.0805 - val_accuracy: 0.9681\n",
      "Epoch 433/500\n",
      "12/12 [==============================] - 0s 4ms/step - loss: 0.0440 - accuracy: 0.9894 - val_loss: 0.0809 - val_accuracy: 0.9681\n",
      "Epoch 434/500\n",
      "12/12 [==============================] - 0s 4ms/step - loss: 0.0441 - accuracy: 0.9910 - val_loss: 0.0808 - val_accuracy: 0.9681\n",
      "Epoch 435/500\n",
      "12/12 [==============================] - 0s 4ms/step - loss: 0.0540 - accuracy: 0.9835 - val_loss: 0.0809 - val_accuracy: 0.9681\n",
      "Epoch 436/500\n",
      "12/12 [==============================] - 0s 4ms/step - loss: 0.0312 - accuracy: 0.9948 - val_loss: 0.0807 - val_accuracy: 0.9681\n",
      "Epoch 437/500\n",
      "12/12 [==============================] - 0s 4ms/step - loss: 0.0269 - accuracy: 0.9951 - val_loss: 0.0803 - val_accuracy: 0.9681\n",
      "Epoch 438/500\n",
      "12/12 [==============================] - 0s 4ms/step - loss: 0.0429 - accuracy: 0.9881 - val_loss: 0.0807 - val_accuracy: 0.9681\n",
      "Epoch 439/500\n",
      "12/12 [==============================] - 0s 4ms/step - loss: 0.0443 - accuracy: 0.9887 - val_loss: 0.0810 - val_accuracy: 0.9681\n",
      "Epoch 440/500\n",
      "12/12 [==============================] - 0s 4ms/step - loss: 0.0314 - accuracy: 0.9947 - val_loss: 0.0811 - val_accuracy: 0.9681\n",
      "Epoch 441/500\n",
      "12/12 [==============================] - 0s 4ms/step - loss: 0.0528 - accuracy: 0.9904 - val_loss: 0.0809 - val_accuracy: 0.9681\n",
      "Epoch 442/500\n",
      "12/12 [==============================] - 0s 4ms/step - loss: 0.0554 - accuracy: 0.9884 - val_loss: 0.0810 - val_accuracy: 0.9681\n",
      "Epoch 443/500\n",
      "12/12 [==============================] - 0s 4ms/step - loss: 0.0681 - accuracy: 0.9820 - val_loss: 0.0809 - val_accuracy: 0.9681\n",
      "Epoch 444/500\n",
      "12/12 [==============================] - 0s 4ms/step - loss: 0.0276 - accuracy: 0.9957 - val_loss: 0.0807 - val_accuracy: 0.9681\n",
      "Epoch 445/500\n",
      "12/12 [==============================] - 0s 4ms/step - loss: 0.0617 - accuracy: 0.9847 - val_loss: 0.0809 - val_accuracy: 0.9681\n",
      "Epoch 446/500\n",
      "12/12 [==============================] - 0s 4ms/step - loss: 0.0471 - accuracy: 0.9818 - val_loss: 0.0811 - val_accuracy: 0.9681\n",
      "Epoch 447/500\n",
      "12/12 [==============================] - 0s 4ms/step - loss: 0.0411 - accuracy: 0.9928 - val_loss: 0.0809 - val_accuracy: 0.9681\n",
      "Epoch 448/500\n",
      "12/12 [==============================] - 0s 4ms/step - loss: 0.0333 - accuracy: 0.9945 - val_loss: 0.0805 - val_accuracy: 0.9681\n",
      "Epoch 449/500\n",
      "12/12 [==============================] - 0s 4ms/step - loss: 0.0450 - accuracy: 0.9929 - val_loss: 0.0810 - val_accuracy: 0.9681\n",
      "Epoch 450/500\n",
      "12/12 [==============================] - 0s 4ms/step - loss: 0.0296 - accuracy: 0.9968 - val_loss: 0.0809 - val_accuracy: 0.9681\n",
      "Epoch 451/500\n",
      "12/12 [==============================] - 0s 4ms/step - loss: 0.0611 - accuracy: 0.9844 - val_loss: 0.0813 - val_accuracy: 0.9681\n",
      "Epoch 452/500\n",
      "12/12 [==============================] - 0s 4ms/step - loss: 0.0402 - accuracy: 0.9915 - val_loss: 0.0814 - val_accuracy: 0.9681\n",
      "Epoch 453/500\n",
      "12/12 [==============================] - 0s 4ms/step - loss: 0.0373 - accuracy: 0.9920 - val_loss: 0.0812 - val_accuracy: 0.9681\n",
      "Epoch 454/500\n",
      "12/12 [==============================] - 0s 4ms/step - loss: 0.0342 - accuracy: 0.9946 - val_loss: 0.0809 - val_accuracy: 0.9681\n",
      "Epoch 455/500\n",
      "12/12 [==============================] - 0s 4ms/step - loss: 0.0484 - accuracy: 0.9890 - val_loss: 0.0811 - val_accuracy: 0.9681\n",
      "Epoch 456/500\n",
      "12/12 [==============================] - 0s 4ms/step - loss: 0.0398 - accuracy: 0.9941 - val_loss: 0.0811 - val_accuracy: 0.9681\n",
      "Epoch 457/500\n",
      "12/12 [==============================] - 0s 4ms/step - loss: 0.0648 - accuracy: 0.9824 - val_loss: 0.0814 - val_accuracy: 0.9681\n",
      "Epoch 458/500\n",
      "12/12 [==============================] - 0s 4ms/step - loss: 0.0482 - accuracy: 0.9874 - val_loss: 0.0817 - val_accuracy: 0.9681\n",
      "Epoch 459/500\n",
      "12/12 [==============================] - 0s 4ms/step - loss: 0.0493 - accuracy: 0.9865 - val_loss: 0.0819 - val_accuracy: 0.9681\n",
      "Epoch 460/500\n",
      "12/12 [==============================] - 0s 4ms/step - loss: 0.0465 - accuracy: 0.9911 - val_loss: 0.0818 - val_accuracy: 0.9681\n",
      "Epoch 461/500\n",
      "12/12 [==============================] - 0s 4ms/step - loss: 0.0447 - accuracy: 0.9911 - val_loss: 0.0815 - val_accuracy: 0.9681\n",
      "Epoch 462/500\n",
      "12/12 [==============================] - 0s 4ms/step - loss: 0.0416 - accuracy: 0.9888 - val_loss: 0.0814 - val_accuracy: 0.9681\n",
      "Epoch 463/500\n",
      "12/12 [==============================] - 0s 4ms/step - loss: 0.0531 - accuracy: 0.9889 - val_loss: 0.0816 - val_accuracy: 0.9681\n",
      "Epoch 464/500\n",
      "12/12 [==============================] - 0s 4ms/step - loss: 0.0382 - accuracy: 0.9903 - val_loss: 0.0816 - val_accuracy: 0.9681\n",
      "Epoch 465/500\n",
      "12/12 [==============================] - 0s 4ms/step - loss: 0.0424 - accuracy: 0.9923 - val_loss: 0.0815 - val_accuracy: 0.9681\n",
      "Epoch 466/500\n",
      "12/12 [==============================] - 0s 4ms/step - loss: 0.0302 - accuracy: 0.9954 - val_loss: 0.0816 - val_accuracy: 0.9681\n",
      "Epoch 467/500\n",
      "12/12 [==============================] - 0s 4ms/step - loss: 0.0381 - accuracy: 0.9923 - val_loss: 0.0821 - val_accuracy: 0.9681\n",
      "Epoch 468/500\n",
      "12/12 [==============================] - 0s 4ms/step - loss: 0.0349 - accuracy: 0.9918 - val_loss: 0.0820 - val_accuracy: 0.9681\n",
      "Epoch 469/500\n",
      "12/12 [==============================] - 0s 4ms/step - loss: 0.0372 - accuracy: 0.9935 - val_loss: 0.0819 - val_accuracy: 0.9681\n",
      "Epoch 470/500\n",
      "12/12 [==============================] - 0s 4ms/step - loss: 0.0356 - accuracy: 0.9947 - val_loss: 0.0818 - val_accuracy: 0.9681\n",
      "Epoch 471/500\n",
      "12/12 [==============================] - 0s 4ms/step - loss: 0.0312 - accuracy: 0.9926 - val_loss: 0.0819 - val_accuracy: 0.9681\n",
      "Epoch 472/500\n",
      "12/12 [==============================] - 0s 6ms/step - loss: 0.0367 - accuracy: 0.9933 - val_loss: 0.0820 - val_accuracy: 0.9681\n",
      "Epoch 473/500\n",
      "12/12 [==============================] - 0s 4ms/step - loss: 0.0520 - accuracy: 0.9820 - val_loss: 0.0827 - val_accuracy: 0.9681\n",
      "Epoch 474/500\n",
      "12/12 [==============================] - 0s 4ms/step - loss: 0.0436 - accuracy: 0.9840 - val_loss: 0.0825 - val_accuracy: 0.9681\n",
      "Epoch 475/500\n",
      "12/12 [==============================] - 0s 4ms/step - loss: 0.0431 - accuracy: 0.9892 - val_loss: 0.0819 - val_accuracy: 0.9681\n",
      "Epoch 476/500\n",
      "12/12 [==============================] - 0s 4ms/step - loss: 0.0343 - accuracy: 0.9926 - val_loss: 0.0822 - val_accuracy: 0.9681\n",
      "Epoch 477/500\n",
      "12/12 [==============================] - 0s 4ms/step - loss: 0.0520 - accuracy: 0.9828 - val_loss: 0.0827 - val_accuracy: 0.9681\n",
      "Epoch 478/500\n",
      "12/12 [==============================] - 0s 4ms/step - loss: 0.0350 - accuracy: 0.9934 - val_loss: 0.0819 - val_accuracy: 0.9681\n",
      "Epoch 479/500\n",
      "12/12 [==============================] - 0s 4ms/step - loss: 0.0436 - accuracy: 0.9869 - val_loss: 0.0825 - val_accuracy: 0.9681\n",
      "Epoch 480/500\n",
      "12/12 [==============================] - 0s 4ms/step - loss: 0.0603 - accuracy: 0.9838 - val_loss: 0.0826 - val_accuracy: 0.9681\n",
      "Epoch 481/500\n",
      "12/12 [==============================] - 0s 4ms/step - loss: 0.0397 - accuracy: 0.9918 - val_loss: 0.0819 - val_accuracy: 0.9681\n",
      "Epoch 482/500\n",
      "12/12 [==============================] - 0s 4ms/step - loss: 0.0489 - accuracy: 0.9897 - val_loss: 0.0823 - val_accuracy: 0.9681\n",
      "Epoch 483/500\n",
      "12/12 [==============================] - 0s 4ms/step - loss: 0.0524 - accuracy: 0.9863 - val_loss: 0.0826 - val_accuracy: 0.9681\n",
      "Epoch 484/500\n",
      "12/12 [==============================] - 0s 4ms/step - loss: 0.0445 - accuracy: 0.9906 - val_loss: 0.0825 - val_accuracy: 0.9681\n",
      "Epoch 485/500\n",
      "12/12 [==============================] - 0s 4ms/step - loss: 0.0586 - accuracy: 0.9849 - val_loss: 0.0827 - val_accuracy: 0.9681\n",
      "Epoch 486/500\n",
      "12/12 [==============================] - 0s 4ms/step - loss: 0.0501 - accuracy: 0.9866 - val_loss: 0.0827 - val_accuracy: 0.9681\n",
      "Epoch 487/500\n",
      "12/12 [==============================] - 0s 4ms/step - loss: 0.0446 - accuracy: 0.9890 - val_loss: 0.0830 - val_accuracy: 0.9681\n",
      "Epoch 488/500\n",
      "12/12 [==============================] - 0s 4ms/step - loss: 0.0500 - accuracy: 0.9875 - val_loss: 0.0829 - val_accuracy: 0.9681\n",
      "Epoch 489/500\n",
      "12/12 [==============================] - 0s 4ms/step - loss: 0.0364 - accuracy: 0.9955 - val_loss: 0.0821 - val_accuracy: 0.9681\n",
      "Epoch 490/500\n",
      "12/12 [==============================] - 0s 4ms/step - loss: 0.0521 - accuracy: 0.9857 - val_loss: 0.0828 - val_accuracy: 0.9681\n",
      "Epoch 491/500\n",
      "12/12 [==============================] - 0s 4ms/step - loss: 0.0325 - accuracy: 0.9961 - val_loss: 0.0824 - val_accuracy: 0.9681\n",
      "Epoch 492/500\n",
      "12/12 [==============================] - 0s 4ms/step - loss: 0.0309 - accuracy: 0.9917 - val_loss: 0.0825 - val_accuracy: 0.9681\n",
      "Epoch 493/500\n",
      "12/12 [==============================] - 0s 4ms/step - loss: 0.0395 - accuracy: 0.9930 - val_loss: 0.0828 - val_accuracy: 0.9681\n",
      "Epoch 494/500\n",
      "12/12 [==============================] - 0s 4ms/step - loss: 0.0509 - accuracy: 0.9847 - val_loss: 0.0830 - val_accuracy: 0.9681\n",
      "Epoch 495/500\n",
      "12/12 [==============================] - 0s 4ms/step - loss: 0.0515 - accuracy: 0.9889 - val_loss: 0.0832 - val_accuracy: 0.9681\n",
      "Epoch 496/500\n",
      "12/12 [==============================] - 0s 4ms/step - loss: 0.0419 - accuracy: 0.9914 - val_loss: 0.0827 - val_accuracy: 0.9681\n",
      "Epoch 497/500\n",
      "12/12 [==============================] - 0s 4ms/step - loss: 0.0344 - accuracy: 0.9931 - val_loss: 0.0828 - val_accuracy: 0.9681\n",
      "Epoch 498/500\n",
      "12/12 [==============================] - 0s 4ms/step - loss: 0.0473 - accuracy: 0.9906 - val_loss: 0.0831 - val_accuracy: 0.9681\n",
      "Epoch 499/500\n",
      "12/12 [==============================] - 0s 4ms/step - loss: 0.0397 - accuracy: 0.9936 - val_loss: 0.0829 - val_accuracy: 0.9681\n",
      "Epoch 500/500\n",
      "12/12 [==============================] - 0s 4ms/step - loss: 0.0441 - accuracy: 0.9907 - val_loss: 0.0831 - val_accuracy: 0.9681\n",
      "12/12 [==============================] - 0s 1ms/step - loss: 0.0441 - accuracy: 0.9895\n",
      "Train score:  [0.044056884944438934, 0.9895012974739075]\n",
      "6/6 [==============================] - 0s 1ms/step - loss: 0.0831 - accuracy: 0.9681\n",
      "Test score:  [0.08314289897680283, 0.9680851101875305]\n"
     ]
    }
   ],
   "source": [
    "# Now all the TF stuff - build the model\n",
    "model = tf.keras.Sequential([\n",
    "    tf.keras.layers.Input(shape=(D,)),\n",
    "    tf.keras.layers.Dense(1, activation='sigmoid')\n",
    "])\n",
    "\n",
    "# Alternatively, you can do:\n",
    "# model = tf.keras.Sequential()\n",
    "# model.add(tf.keras.layers.Dense(1, input_shape=(D,), activation='sigmoid'))\n",
    "\n",
    "model.compile(optimizer='adam',\n",
    "                loss = 'binary_crossentropy',\n",
    "                metrics=['accuracy'])\n",
    "\n",
    "# Train the model\n",
    "training_history = model.fit(X_train, y_train, validation_data=(X_test, y_test), epochs=500, callbacks=[tensorboard_callback, scheduler])\n",
    "\n",
    "# Evaluate the model - evaluate() returns loss and accuracy\n",
    "print(\"Train score: \", model.evaluate(X_train, y_train))\n",
    "print(\"Test score: \", model.evaluate(X_test, y_test))"
   ]
  },
  {
   "cell_type": "code",
   "execution_count": 12,
   "metadata": {},
   "outputs": [
    {
     "output_type": "execute_result",
     "data": {
      "text/plain": [
       "<matplotlib.legend.Legend at 0x1cc8ce9dee0>"
      ]
     },
     "metadata": {},
     "execution_count": 12
    },
    {
     "output_type": "display_data",
     "data": {
      "text/plain": "<Figure size 432x288 with 1 Axes>",
      "image/svg+xml": "<?xml version=\"1.0\" encoding=\"utf-8\" standalone=\"no\"?>\r\n<!DOCTYPE svg PUBLIC \"-//W3C//DTD SVG 1.1//EN\"\r\n  \"http://www.w3.org/Graphics/SVG/1.1/DTD/svg11.dtd\">\r\n<!-- Created with matplotlib (https://matplotlib.org/) -->\r\n<svg height=\"248.518125pt\" version=\"1.1\" viewBox=\"0 0 378.465625 248.518125\" width=\"378.465625pt\" xmlns=\"http://www.w3.org/2000/svg\" xmlns:xlink=\"http://www.w3.org/1999/xlink\">\r\n <metadata>\r\n  <rdf:RDF xmlns:cc=\"http://creativecommons.org/ns#\" xmlns:dc=\"http://purl.org/dc/elements/1.1/\" xmlns:rdf=\"http://www.w3.org/1999/02/22-rdf-syntax-ns#\">\r\n   <cc:Work>\r\n    <dc:type rdf:resource=\"http://purl.org/dc/dcmitype/StillImage\"/>\r\n    <dc:date>2021-05-10T23:40:29.270428</dc:date>\r\n    <dc:format>image/svg+xml</dc:format>\r\n    <dc:creator>\r\n     <cc:Agent>\r\n      <dc:title>Matplotlib v3.3.4, https://matplotlib.org/</dc:title>\r\n     </cc:Agent>\r\n    </dc:creator>\r\n   </cc:Work>\r\n  </rdf:RDF>\r\n </metadata>\r\n <defs>\r\n  <style type=\"text/css\">*{stroke-linecap:butt;stroke-linejoin:round;}</style>\r\n </defs>\r\n <g id=\"figure_1\">\r\n  <g id=\"patch_1\">\r\n   <path d=\"M 0 248.518125 \r\nL 378.465625 248.518125 \r\nL 378.465625 0 \r\nL 0 0 \r\nz\r\n\" style=\"fill:none;\"/>\r\n  </g>\r\n  <g id=\"axes_1\">\r\n   <g id=\"patch_2\">\r\n    <path d=\"M 36.465625 224.64 \r\nL 371.265625 224.64 \r\nL 371.265625 7.2 \r\nL 36.465625 7.2 \r\nz\r\n\" style=\"fill:#ffffff;\"/>\r\n   </g>\r\n   <g id=\"matplotlib.axis_1\">\r\n    <g id=\"xtick_1\">\r\n     <g id=\"line2d_1\">\r\n      <defs>\r\n       <path d=\"M 0 0 \r\nL 0 3.5 \r\n\" id=\"ma1df96aa82\" style=\"stroke:#000000;stroke-width:0.8;\"/>\r\n      </defs>\r\n      <g>\r\n       <use style=\"stroke:#000000;stroke-width:0.8;\" x=\"51.683807\" xlink:href=\"#ma1df96aa82\" y=\"224.64\"/>\r\n      </g>\r\n     </g>\r\n     <g id=\"text_1\">\r\n      <!-- 0 -->\r\n      <g transform=\"translate(48.502557 239.238437)scale(0.1 -0.1)\">\r\n       <defs>\r\n        <path d=\"M 31.78125 66.40625 \r\nQ 24.171875 66.40625 20.328125 58.90625 \r\nQ 16.5 51.421875 16.5 36.375 \r\nQ 16.5 21.390625 20.328125 13.890625 \r\nQ 24.171875 6.390625 31.78125 6.390625 \r\nQ 39.453125 6.390625 43.28125 13.890625 \r\nQ 47.125 21.390625 47.125 36.375 \r\nQ 47.125 51.421875 43.28125 58.90625 \r\nQ 39.453125 66.40625 31.78125 66.40625 \r\nz\r\nM 31.78125 74.21875 \r\nQ 44.046875 74.21875 50.515625 64.515625 \r\nQ 56.984375 54.828125 56.984375 36.375 \r\nQ 56.984375 17.96875 50.515625 8.265625 \r\nQ 44.046875 -1.421875 31.78125 -1.421875 \r\nQ 19.53125 -1.421875 13.0625 8.265625 \r\nQ 6.59375 17.96875 6.59375 36.375 \r\nQ 6.59375 54.828125 13.0625 64.515625 \r\nQ 19.53125 74.21875 31.78125 74.21875 \r\nz\r\n\" id=\"DejaVuSans-48\"/>\r\n       </defs>\r\n       <use xlink:href=\"#DejaVuSans-48\"/>\r\n      </g>\r\n     </g>\r\n    </g>\r\n    <g id=\"xtick_2\">\r\n     <g id=\"line2d_2\">\r\n      <g>\r\n       <use style=\"stroke:#000000;stroke-width:0.8;\" x=\"112.678524\" xlink:href=\"#ma1df96aa82\" y=\"224.64\"/>\r\n      </g>\r\n     </g>\r\n     <g id=\"text_2\">\r\n      <!-- 100 -->\r\n      <g transform=\"translate(103.134774 239.238437)scale(0.1 -0.1)\">\r\n       <defs>\r\n        <path d=\"M 12.40625 8.296875 \r\nL 28.515625 8.296875 \r\nL 28.515625 63.921875 \r\nL 10.984375 60.40625 \r\nL 10.984375 69.390625 \r\nL 28.421875 72.90625 \r\nL 38.28125 72.90625 \r\nL 38.28125 8.296875 \r\nL 54.390625 8.296875 \r\nL 54.390625 0 \r\nL 12.40625 0 \r\nz\r\n\" id=\"DejaVuSans-49\"/>\r\n       </defs>\r\n       <use xlink:href=\"#DejaVuSans-49\"/>\r\n       <use x=\"63.623047\" xlink:href=\"#DejaVuSans-48\"/>\r\n       <use x=\"127.246094\" xlink:href=\"#DejaVuSans-48\"/>\r\n      </g>\r\n     </g>\r\n    </g>\r\n    <g id=\"xtick_3\">\r\n     <g id=\"line2d_3\">\r\n      <g>\r\n       <use style=\"stroke:#000000;stroke-width:0.8;\" x=\"173.67324\" xlink:href=\"#ma1df96aa82\" y=\"224.64\"/>\r\n      </g>\r\n     </g>\r\n     <g id=\"text_3\">\r\n      <!-- 200 -->\r\n      <g transform=\"translate(164.12949 239.238437)scale(0.1 -0.1)\">\r\n       <defs>\r\n        <path d=\"M 19.1875 8.296875 \r\nL 53.609375 8.296875 \r\nL 53.609375 0 \r\nL 7.328125 0 \r\nL 7.328125 8.296875 \r\nQ 12.9375 14.109375 22.625 23.890625 \r\nQ 32.328125 33.6875 34.8125 36.53125 \r\nQ 39.546875 41.84375 41.421875 45.53125 \r\nQ 43.3125 49.21875 43.3125 52.78125 \r\nQ 43.3125 58.59375 39.234375 62.25 \r\nQ 35.15625 65.921875 28.609375 65.921875 \r\nQ 23.96875 65.921875 18.8125 64.3125 \r\nQ 13.671875 62.703125 7.8125 59.421875 \r\nL 7.8125 69.390625 \r\nQ 13.765625 71.78125 18.9375 73 \r\nQ 24.125 74.21875 28.421875 74.21875 \r\nQ 39.75 74.21875 46.484375 68.546875 \r\nQ 53.21875 62.890625 53.21875 53.421875 \r\nQ 53.21875 48.921875 51.53125 44.890625 \r\nQ 49.859375 40.875 45.40625 35.40625 \r\nQ 44.1875 33.984375 37.640625 27.21875 \r\nQ 31.109375 20.453125 19.1875 8.296875 \r\nz\r\n\" id=\"DejaVuSans-50\"/>\r\n       </defs>\r\n       <use xlink:href=\"#DejaVuSans-50\"/>\r\n       <use x=\"63.623047\" xlink:href=\"#DejaVuSans-48\"/>\r\n       <use x=\"127.246094\" xlink:href=\"#DejaVuSans-48\"/>\r\n      </g>\r\n     </g>\r\n    </g>\r\n    <g id=\"xtick_4\">\r\n     <g id=\"line2d_4\">\r\n      <g>\r\n       <use style=\"stroke:#000000;stroke-width:0.8;\" x=\"234.667957\" xlink:href=\"#ma1df96aa82\" y=\"224.64\"/>\r\n      </g>\r\n     </g>\r\n     <g id=\"text_4\">\r\n      <!-- 300 -->\r\n      <g transform=\"translate(225.124207 239.238437)scale(0.1 -0.1)\">\r\n       <defs>\r\n        <path d=\"M 40.578125 39.3125 \r\nQ 47.65625 37.796875 51.625 33 \r\nQ 55.609375 28.21875 55.609375 21.1875 \r\nQ 55.609375 10.40625 48.1875 4.484375 \r\nQ 40.765625 -1.421875 27.09375 -1.421875 \r\nQ 22.515625 -1.421875 17.65625 -0.515625 \r\nQ 12.796875 0.390625 7.625 2.203125 \r\nL 7.625 11.71875 \r\nQ 11.71875 9.328125 16.59375 8.109375 \r\nQ 21.484375 6.890625 26.8125 6.890625 \r\nQ 36.078125 6.890625 40.9375 10.546875 \r\nQ 45.796875 14.203125 45.796875 21.1875 \r\nQ 45.796875 27.640625 41.28125 31.265625 \r\nQ 36.765625 34.90625 28.71875 34.90625 \r\nL 20.21875 34.90625 \r\nL 20.21875 43.015625 \r\nL 29.109375 43.015625 \r\nQ 36.375 43.015625 40.234375 45.921875 \r\nQ 44.09375 48.828125 44.09375 54.296875 \r\nQ 44.09375 59.90625 40.109375 62.90625 \r\nQ 36.140625 65.921875 28.71875 65.921875 \r\nQ 24.65625 65.921875 20.015625 65.03125 \r\nQ 15.375 64.15625 9.8125 62.3125 \r\nL 9.8125 71.09375 \r\nQ 15.4375 72.65625 20.34375 73.4375 \r\nQ 25.25 74.21875 29.59375 74.21875 \r\nQ 40.828125 74.21875 47.359375 69.109375 \r\nQ 53.90625 64.015625 53.90625 55.328125 \r\nQ 53.90625 49.265625 50.4375 45.09375 \r\nQ 46.96875 40.921875 40.578125 39.3125 \r\nz\r\n\" id=\"DejaVuSans-51\"/>\r\n       </defs>\r\n       <use xlink:href=\"#DejaVuSans-51\"/>\r\n       <use x=\"63.623047\" xlink:href=\"#DejaVuSans-48\"/>\r\n       <use x=\"127.246094\" xlink:href=\"#DejaVuSans-48\"/>\r\n      </g>\r\n     </g>\r\n    </g>\r\n    <g id=\"xtick_5\">\r\n     <g id=\"line2d_5\">\r\n      <g>\r\n       <use style=\"stroke:#000000;stroke-width:0.8;\" x=\"295.662674\" xlink:href=\"#ma1df96aa82\" y=\"224.64\"/>\r\n      </g>\r\n     </g>\r\n     <g id=\"text_5\">\r\n      <!-- 400 -->\r\n      <g transform=\"translate(286.118924 239.238437)scale(0.1 -0.1)\">\r\n       <defs>\r\n        <path d=\"M 37.796875 64.3125 \r\nL 12.890625 25.390625 \r\nL 37.796875 25.390625 \r\nz\r\nM 35.203125 72.90625 \r\nL 47.609375 72.90625 \r\nL 47.609375 25.390625 \r\nL 58.015625 25.390625 \r\nL 58.015625 17.1875 \r\nL 47.609375 17.1875 \r\nL 47.609375 0 \r\nL 37.796875 0 \r\nL 37.796875 17.1875 \r\nL 4.890625 17.1875 \r\nL 4.890625 26.703125 \r\nz\r\n\" id=\"DejaVuSans-52\"/>\r\n       </defs>\r\n       <use xlink:href=\"#DejaVuSans-52\"/>\r\n       <use x=\"63.623047\" xlink:href=\"#DejaVuSans-48\"/>\r\n       <use x=\"127.246094\" xlink:href=\"#DejaVuSans-48\"/>\r\n      </g>\r\n     </g>\r\n    </g>\r\n    <g id=\"xtick_6\">\r\n     <g id=\"line2d_6\">\r\n      <g>\r\n       <use style=\"stroke:#000000;stroke-width:0.8;\" x=\"356.65739\" xlink:href=\"#ma1df96aa82\" y=\"224.64\"/>\r\n      </g>\r\n     </g>\r\n     <g id=\"text_6\">\r\n      <!-- 500 -->\r\n      <g transform=\"translate(347.11364 239.238437)scale(0.1 -0.1)\">\r\n       <defs>\r\n        <path d=\"M 10.796875 72.90625 \r\nL 49.515625 72.90625 \r\nL 49.515625 64.59375 \r\nL 19.828125 64.59375 \r\nL 19.828125 46.734375 \r\nQ 21.96875 47.46875 24.109375 47.828125 \r\nQ 26.265625 48.1875 28.421875 48.1875 \r\nQ 40.625 48.1875 47.75 41.5 \r\nQ 54.890625 34.8125 54.890625 23.390625 \r\nQ 54.890625 11.625 47.5625 5.09375 \r\nQ 40.234375 -1.421875 26.90625 -1.421875 \r\nQ 22.3125 -1.421875 17.546875 -0.640625 \r\nQ 12.796875 0.140625 7.71875 1.703125 \r\nL 7.71875 11.625 \r\nQ 12.109375 9.234375 16.796875 8.0625 \r\nQ 21.484375 6.890625 26.703125 6.890625 \r\nQ 35.15625 6.890625 40.078125 11.328125 \r\nQ 45.015625 15.765625 45.015625 23.390625 \r\nQ 45.015625 31 40.078125 35.4375 \r\nQ 35.15625 39.890625 26.703125 39.890625 \r\nQ 22.75 39.890625 18.8125 39.015625 \r\nQ 14.890625 38.140625 10.796875 36.28125 \r\nz\r\n\" id=\"DejaVuSans-53\"/>\r\n       </defs>\r\n       <use xlink:href=\"#DejaVuSans-53\"/>\r\n       <use x=\"63.623047\" xlink:href=\"#DejaVuSans-48\"/>\r\n       <use x=\"127.246094\" xlink:href=\"#DejaVuSans-48\"/>\r\n      </g>\r\n     </g>\r\n    </g>\r\n   </g>\r\n   <g id=\"matplotlib.axis_2\">\r\n    <g id=\"ytick_1\">\r\n     <g id=\"line2d_7\">\r\n      <defs>\r\n       <path d=\"M 0 0 \r\nL -3.5 0 \r\n\" id=\"m9327710ebf\" style=\"stroke:#000000;stroke-width:0.8;\"/>\r\n      </defs>\r\n      <g>\r\n       <use style=\"stroke:#000000;stroke-width:0.8;\" x=\"36.465625\" xlink:href=\"#m9327710ebf\" y=\"210.188678\"/>\r\n      </g>\r\n     </g>\r\n     <g id=\"text_7\">\r\n      <!-- 0.05 -->\r\n      <g transform=\"translate(7.2 213.987897)scale(0.1 -0.1)\">\r\n       <defs>\r\n        <path d=\"M 10.6875 12.40625 \r\nL 21 12.40625 \r\nL 21 0 \r\nL 10.6875 0 \r\nz\r\n\" id=\"DejaVuSans-46\"/>\r\n       </defs>\r\n       <use xlink:href=\"#DejaVuSans-48\"/>\r\n       <use x=\"63.623047\" xlink:href=\"#DejaVuSans-46\"/>\r\n       <use x=\"95.410156\" xlink:href=\"#DejaVuSans-48\"/>\r\n       <use x=\"159.033203\" xlink:href=\"#DejaVuSans-53\"/>\r\n      </g>\r\n     </g>\r\n    </g>\r\n    <g id=\"ytick_2\">\r\n     <g id=\"line2d_8\">\r\n      <g>\r\n       <use style=\"stroke:#000000;stroke-width:0.8;\" x=\"36.465625\" xlink:href=\"#m9327710ebf\" y=\"171.30784\"/>\r\n      </g>\r\n     </g>\r\n     <g id=\"text_8\">\r\n      <!-- 0.10 -->\r\n      <g transform=\"translate(7.2 175.107059)scale(0.1 -0.1)\">\r\n       <use xlink:href=\"#DejaVuSans-48\"/>\r\n       <use x=\"63.623047\" xlink:href=\"#DejaVuSans-46\"/>\r\n       <use x=\"95.410156\" xlink:href=\"#DejaVuSans-49\"/>\r\n       <use x=\"159.033203\" xlink:href=\"#DejaVuSans-48\"/>\r\n      </g>\r\n     </g>\r\n    </g>\r\n    <g id=\"ytick_3\">\r\n     <g id=\"line2d_9\">\r\n      <g>\r\n       <use style=\"stroke:#000000;stroke-width:0.8;\" x=\"36.465625\" xlink:href=\"#m9327710ebf\" y=\"132.427003\"/>\r\n      </g>\r\n     </g>\r\n     <g id=\"text_9\">\r\n      <!-- 0.15 -->\r\n      <g transform=\"translate(7.2 136.226222)scale(0.1 -0.1)\">\r\n       <use xlink:href=\"#DejaVuSans-48\"/>\r\n       <use x=\"63.623047\" xlink:href=\"#DejaVuSans-46\"/>\r\n       <use x=\"95.410156\" xlink:href=\"#DejaVuSans-49\"/>\r\n       <use x=\"159.033203\" xlink:href=\"#DejaVuSans-53\"/>\r\n      </g>\r\n     </g>\r\n    </g>\r\n    <g id=\"ytick_4\">\r\n     <g id=\"line2d_10\">\r\n      <g>\r\n       <use style=\"stroke:#000000;stroke-width:0.8;\" x=\"36.465625\" xlink:href=\"#m9327710ebf\" y=\"93.546165\"/>\r\n      </g>\r\n     </g>\r\n     <g id=\"text_10\">\r\n      <!-- 0.20 -->\r\n      <g transform=\"translate(7.2 97.345384)scale(0.1 -0.1)\">\r\n       <use xlink:href=\"#DejaVuSans-48\"/>\r\n       <use x=\"63.623047\" xlink:href=\"#DejaVuSans-46\"/>\r\n       <use x=\"95.410156\" xlink:href=\"#DejaVuSans-50\"/>\r\n       <use x=\"159.033203\" xlink:href=\"#DejaVuSans-48\"/>\r\n      </g>\r\n     </g>\r\n    </g>\r\n    <g id=\"ytick_5\">\r\n     <g id=\"line2d_11\">\r\n      <g>\r\n       <use style=\"stroke:#000000;stroke-width:0.8;\" x=\"36.465625\" xlink:href=\"#m9327710ebf\" y=\"54.665328\"/>\r\n      </g>\r\n     </g>\r\n     <g id=\"text_11\">\r\n      <!-- 0.25 -->\r\n      <g transform=\"translate(7.2 58.464547)scale(0.1 -0.1)\">\r\n       <use xlink:href=\"#DejaVuSans-48\"/>\r\n       <use x=\"63.623047\" xlink:href=\"#DejaVuSans-46\"/>\r\n       <use x=\"95.410156\" xlink:href=\"#DejaVuSans-50\"/>\r\n       <use x=\"159.033203\" xlink:href=\"#DejaVuSans-53\"/>\r\n      </g>\r\n     </g>\r\n    </g>\r\n    <g id=\"ytick_6\">\r\n     <g id=\"line2d_12\">\r\n      <g>\r\n       <use style=\"stroke:#000000;stroke-width:0.8;\" x=\"36.465625\" xlink:href=\"#m9327710ebf\" y=\"15.78449\"/>\r\n      </g>\r\n     </g>\r\n     <g id=\"text_12\">\r\n      <!-- 0.30 -->\r\n      <g transform=\"translate(7.2 19.583709)scale(0.1 -0.1)\">\r\n       <use xlink:href=\"#DejaVuSans-48\"/>\r\n       <use x=\"63.623047\" xlink:href=\"#DejaVuSans-46\"/>\r\n       <use x=\"95.410156\" xlink:href=\"#DejaVuSans-51\"/>\r\n       <use x=\"159.033203\" xlink:href=\"#DejaVuSans-48\"/>\r\n      </g>\r\n     </g>\r\n    </g>\r\n   </g>\r\n   <g id=\"line2d_13\">\r\n    <path clip-path=\"url(#p484e1bf8ff)\" d=\"M 51.683807 17.083636 \r\nL 52.293754 116.009239 \r\nL 52.903701 148.181912 \r\nL 53.513648 161.822 \r\nL 54.123595 170.366288 \r\nL 54.733543 175.531473 \r\nL 55.953437 182.542778 \r\nL 57.173331 186.752901 \r\nL 59.003173 191.310674 \r\nL 60.833014 194.331299 \r\nL 61.442961 195.170168 \r\nL 62.052909 195.689219 \r\nL 62.662856 196.590157 \r\nL 64.492697 198.390617 \r\nL 65.102644 198.625934 \r\nL 66.322539 199.845264 \r\nL 67.542433 200.454558 \r\nL 68.15238 200.547251 \r\nL 68.762327 201.518448 \r\nL 69.982222 202.043499 \r\nL 71.202116 202.692414 \r\nL 71.812063 202.748201 \r\nL 72.42201 203.264463 \r\nL 74.861799 204.403506 \r\nL 75.471746 204.504294 \r\nL 76.081694 204.807092 \r\nL 77.301588 205.132672 \r\nL 77.911535 205.597167 \r\nL 78.521482 205.724098 \r\nL 79.131429 205.999328 \r\nL 79.741377 205.864564 \r\nL 80.351324 206.321315 \r\nL 80.961271 206.306721 \r\nL 82.181165 207.119021 \r\nL 93.770161 207.524869 \r\nL 122.437678 208.484806 \r\nL 126.097361 208.627059 \r\nL 129.757044 208.737359 \r\nL 134.026674 208.854632 \r\nL 135.856516 208.934742 \r\nL 138.296305 209.024979 \r\nL 185.262236 210.484596 \r\nL 187.092078 210.577944 \r\nL 190.751761 210.671666 \r\nL 199.291021 210.937938 \r\nL 202.340757 211.004273 \r\nL 207.220334 211.160509 \r\nL 252.966372 212.365181 \r\nL 253.576319 212.337918 \r\nL 254.796213 212.414731 \r\nL 258.455896 212.506095 \r\nL 291.393043 213.346972 \r\nL 307.861617 213.722563 \r\nL 310.301406 213.749341 \r\nL 312.741194 213.82266 \r\nL 317.620772 213.937567 \r\nL 325.550085 214.111525 \r\nL 336.529134 214.347459 \r\nL 338.968923 214.415993 \r\nL 340.188817 214.437229 \r\nL 342.628606 214.43019 \r\nL 345.068394 214.521615 \r\nL 356.047443 214.756364 \r\nL 356.047443 214.756364 \r\n\" style=\"fill:none;stroke:#1f77b4;stroke-linecap:square;stroke-width:1.5;\"/>\r\n   </g>\r\n   <g id=\"line2d_14\">\r\n    <path clip-path=\"url(#p484e1bf8ff)\" d=\"M 51.683807 90.387811 \r\nL 52.293754 135.314994 \r\nL 52.903701 151.737133 \r\nL 54.123595 166.178662 \r\nL 54.733543 172.151303 \r\nL 55.34349 175.807768 \r\nL 55.953437 178.586002 \r\nL 57.173331 182.537488 \r\nL 57.783278 184.961571 \r\nL 58.393226 185.85756 \r\nL 59.003173 187.870551 \r\nL 59.61312 188.509265 \r\nL 60.223067 188.984522 \r\nL 60.833014 190.420055 \r\nL 61.442961 191.348994 \r\nL 62.052909 193.250734 \r\nL 62.662856 192.354941 \r\nL 63.272803 193.613135 \r\nL 63.88275 193.955294 \r\nL 64.492697 194.127569 \r\nL 65.712592 195.861536 \r\nL 66.322539 195.931436 \r\nL 66.932486 194.991288 \r\nL 67.542433 196.926736 \r\nL 68.15238 195.183719 \r\nL 68.762327 196.722392 \r\nL 69.372275 197.081792 \r\nL 69.982222 197.13711 \r\nL 70.592169 197.035199 \r\nL 71.202116 196.769222 \r\nL 71.812063 197.329438 \r\nL 72.42201 196.772699 \r\nL 73.031958 198.336545 \r\nL 73.641905 197.71721 \r\nL 74.251852 199.467347 \r\nL 74.861799 197.818461 \r\nL 75.471746 198.705916 \r\nL 76.691641 195.275555 \r\nL 77.301588 195.421499 \r\nL 77.911535 197.639192 \r\nL 78.521482 199.111741 \r\nL 79.131429 197.883171 \r\nL 79.741377 198.908116 \r\nL 80.351324 198.130602 \r\nL 80.961271 195.549244 \r\nL 81.571218 194.203942 \r\nL 82.181165 194.349323 \r\nL 82.791112 194.366003 \r\nL 84.011007 195.069514 \r\nL 85.230901 194.900744 \r\nL 85.840848 195.175672 \r\nL 87.060743 195.218812 \r\nL 87.67069 195.464998 \r\nL 88.280637 195.568195 \r\nL 89.500531 195.534846 \r\nL 93.770161 195.559423 \r\nL 94.380109 195.83412 \r\nL 94.990056 195.939635 \r\nL 95.600003 195.804074 \r\nL 96.819897 195.847799 \r\nL 97.429844 195.737829 \r\nL 98.649739 196.021001 \r\nL 99.259686 195.832926 \r\nL 100.47958 195.767058 \r\nL 101.089527 196.032143 \r\nL 101.699475 196.01559 \r\nL 102.309422 195.730001 \r\nL 102.919369 195.786403 \r\nL 104.139263 195.752788 \r\nL 104.74921 195.787515 \r\nL 105.359158 195.971314 \r\nL 106.579052 195.705181 \r\nL 107.188999 195.968006 \r\nL 108.408893 195.608531 \r\nL 109.018841 195.66696 \r\nL 109.628788 195.554701 \r\nL 111.458629 195.684046 \r\nL 112.068576 195.479157 \r\nL 113.288471 195.320549 \r\nL 113.898418 195.521585 \r\nL 114.508365 195.925382 \r\nL 115.118312 195.870782 \r\nL 116.338207 195.631885 \r\nL 116.948154 195.702035 \r\nL 118.168048 195.237328 \r\nL 118.777995 195.836431 \r\nL 119.387942 195.672545 \r\nL 119.99789 195.37067 \r\nL 120.607837 195.495044 \r\nL 121.217784 195.151617 \r\nL 123.657573 195.246934 \r\nL 124.877467 195.11956 \r\nL 125.487414 195.304141 \r\nL 126.097361 195.331013 \r\nL 126.707308 195.144676 \r\nL 127.927203 195.080447 \r\nL 128.53715 195.237004 \r\nL 129.757044 195.245098 \r\nL 130.366991 194.85772 \r\nL 130.976939 194.841092 \r\nL 131.586886 195.291615 \r\nL 132.196833 195.20234 \r\nL 132.80678 194.789522 \r\nL 133.416727 194.747964 \r\nL 134.026674 195.004439 \r\nL 135.246569 194.781909 \r\nL 135.856516 194.517948 \r\nL 136.466463 194.872007 \r\nL 137.07641 194.581534 \r\nL 138.296305 194.811231 \r\nL 140.126146 194.53453 \r\nL 140.736093 194.679882 \r\nL 141.34604 194.433836 \r\nL 141.955988 194.662368 \r\nL 142.565935 194.764974 \r\nL 143.175882 194.409884 \r\nL 143.785829 194.428859 \r\nL 144.395776 194.667484 \r\nL 145.615671 194.544188 \r\nL 146.225618 194.53588 \r\nL 146.835565 194.354752 \r\nL 147.445512 194.502369 \r\nL 148.055459 194.367005 \r\nL 148.665406 194.553864 \r\nL 149.275354 194.237418 \r\nL 149.885301 194.14188 \r\nL 150.495248 194.410545 \r\nL 151.105195 194.295621 \r\nL 151.715142 194.360563 \r\nL 152.935037 194.112598 \r\nL 153.544984 194.040565 \r\nL 154.154931 193.707451 \r\nL 155.374825 194.177824 \r\nL 157.204667 194.089574 \r\nL 157.814614 193.964216 \r\nL 159.034508 194.288796 \r\nL 159.644455 194.301409 \r\nL 160.254403 193.855341 \r\nL 160.86435 193.870781 \r\nL 161.474297 193.689438 \r\nL 162.084244 193.947414 \r\nL 162.694191 193.9072 \r\nL 163.304138 193.664879 \r\nL 164.524033 193.986991 \r\nL 165.13398 193.996875 \r\nL 165.743927 193.745353 \r\nL 168.183716 193.834802 \r\nL 168.793663 193.717462 \r\nL 169.40361 193.774768 \r\nL 170.013557 193.522875 \r\nL 170.623504 193.829385 \r\nL 171.233452 193.433861 \r\nL 171.843399 193.335003 \r\nL 172.453346 193.408629 \r\nL 173.063293 193.295264 \r\nL 174.893135 193.524011 \r\nL 175.503082 193.477603 \r\nL 176.113029 193.289581 \r\nL 176.722976 192.894201 \r\nL 177.332923 193.469295 \r\nL 177.94287 193.420582 \r\nL 179.162765 193.101314 \r\nL 179.772712 193.23045 \r\nL 182.212501 193.206551 \r\nL 182.822448 192.834289 \r\nL 184.042342 193.149193 \r\nL 184.652289 192.896241 \r\nL 185.872184 193.061552 \r\nL 186.482131 192.850557 \r\nL 187.092078 193.010713 \r\nL 188.311972 192.768264 \r\nL 188.921919 192.8216 \r\nL 190.751761 192.627071 \r\nL 191.971655 192.634522 \r\nL 192.581602 192.84189 \r\nL 193.801497 192.617037 \r\nL 196.851233 192.56056 \r\nL 197.46118 192.218112 \r\nL 198.071127 192.401615 \r\nL 199.291021 192.427983 \r\nL 199.900968 192.196223 \r\nL 200.510916 192.2769 \r\nL 201.120863 192.225406 \r\nL 201.73081 192.475236 \r\nL 202.340757 192.183089 \r\nL 203.560651 191.986845 \r\nL 204.170599 191.726204 \r\nL 204.780546 191.678863 \r\nL 205.390493 192.225296 \r\nL 207.220334 192.02601 \r\nL 207.830282 191.962911 \r\nL 208.440229 192.084411 \r\nL 209.050176 191.820595 \r\nL 209.660123 191.935791 \r\nL 210.880017 191.741088 \r\nL 211.489965 191.82275 \r\nL 212.099912 191.671349 \r\nL 212.709859 191.655382 \r\nL 213.319806 191.484357 \r\nL 213.929753 191.087657 \r\nL 214.5397 191.462654 \r\nL 215.149648 191.336462 \r\nL 215.759595 191.434769 \r\nL 216.369542 191.341143 \r\nL 218.199383 191.335726 \r\nL 218.809331 191.011227 \r\nL 219.419278 191.326752 \r\nL 220.029225 191.064031 \r\nL 220.639172 191.177228 \r\nL 222.469014 190.995329 \r\nL 223.078961 191.336288 \r\nL 224.298855 190.975381 \r\nL 224.908802 191.01669 \r\nL 225.518749 190.895811 \r\nL 226.128697 191.111156 \r\nL 226.738644 190.823783 \r\nL 228.568485 190.846692 \r\nL 229.178432 190.561323 \r\nL 229.78838 190.78007 \r\nL 230.398327 190.802561 \r\nL 231.008274 190.942062 \r\nL 231.618221 191.250779 \r\nL 232.228168 190.903673 \r\nL 232.838115 190.782538 \r\nL 233.448063 190.463039 \r\nL 235.277904 190.462378 \r\nL 236.497798 190.279889 \r\nL 237.107746 190.364934 \r\nL 237.717693 190.296644 \r\nL 238.32764 190.603136 \r\nL 238.937587 190.382211 \r\nL 239.547534 190.368335 \r\nL 240.157481 189.999972 \r\nL 240.767429 190.299807 \r\nL 243.207217 190.208643 \r\nL 243.817164 189.939717 \r\nL 245.037059 190.169855 \r\nL 246.256953 190.002498 \r\nL 246.8669 189.955198 \r\nL 247.476847 189.784417 \r\nL 248.086795 189.862766 \r\nL 248.696742 190.205741 \r\nL 249.306689 190.095533 \r\nL 249.916636 189.73509 \r\nL 250.526583 190.041281 \r\nL 251.13653 189.466819 \r\nL 251.746478 189.910546 \r\nL 252.966372 189.233431 \r\nL 253.576319 189.909944 \r\nL 254.186266 189.938223 \r\nL 254.796213 189.446124 \r\nL 255.406161 189.619865 \r\nL 256.016108 189.669152 \r\nL 256.626055 189.30934 \r\nL 259.065844 189.229063 \r\nL 259.675791 189.430602 \r\nL 260.895685 189.114794 \r\nL 261.505632 189.211931 \r\nL 262.115579 188.904135 \r\nL 262.725527 188.874355 \r\nL 263.335474 189.33029 \r\nL 263.945421 189.123988 \r\nL 264.555368 189.268205 \r\nL 265.165315 189.024464 \r\nL 265.775262 189.195963 \r\nL 266.38521 188.770109 \r\nL 266.995157 188.67905 \r\nL 268.215051 188.941017 \r\nL 268.824998 189.321762 \r\nL 270.044893 188.917066 \r\nL 270.65484 188.823799 \r\nL 271.264787 188.544346 \r\nL 271.874734 189.073091 \r\nL 272.484681 188.586206 \r\nL 273.094628 188.686645 \r\nL 273.704576 188.615904 \r\nL 274.314523 188.805648 \r\nL 275.534417 188.286834 \r\nL 276.144364 188.901817 \r\nL 276.754311 188.781169 \r\nL 277.364259 188.44824 \r\nL 279.1941 188.417296 \r\nL 279.804047 188.089628 \r\nL 280.413994 188.057693 \r\nL 281.023942 188.5685 \r\nL 282.243836 188.141244 \r\nL 282.853783 188.30122 \r\nL 283.46373 188.22217 \r\nL 284.073677 188.342697 \r\nL 285.293572 187.760714 \r\nL 285.903519 188.493524 \r\nL 287.123413 187.820974 \r\nL 287.73336 187.610849 \r\nL 288.953255 188.055839 \r\nL 289.563202 187.709005 \r\nL 290.173149 188.017583 \r\nL 290.783096 187.700767 \r\nL 292.612938 187.925637 \r\nL 293.222885 187.647951 \r\nL 293.832832 187.787319 \r\nL 294.442779 187.63469 \r\nL 295.052726 187.244223 \r\nL 296.882568 187.493573 \r\nL 297.492515 187.658855 \r\nL 298.102462 187.412965 \r\nL 298.712409 187.352067 \r\nL 299.322357 187.023397 \r\nL 299.932304 187.031322 \r\nL 301.152198 186.892413 \r\nL 301.762145 187.228638 \r\nL 302.372092 187.352681 \r\nL 302.98204 187.195974 \r\nL 303.591987 186.901051 \r\nL 304.201934 186.943942 \r\nL 304.811881 186.874493 \r\nL 305.421828 187.036178 \r\nL 306.031775 187.061931 \r\nL 306.641723 186.750137 \r\nL 307.25167 187.116061 \r\nL 307.861617 186.742032 \r\nL 308.471564 186.507474 \r\nL 309.081511 186.820525 \r\nL 309.691458 186.72534 \r\nL 310.301406 186.822865 \r\nL 311.5213 186.602131 \r\nL 312.131247 186.695555 \r\nL 312.741194 186.574982 \r\nL 313.351141 186.318663 \r\nL 313.961089 186.44525 \r\nL 314.571036 186.451032 \r\nL 315.180983 186.187256 \r\nL 315.79093 186.263814 \r\nL 316.400877 186.145814 \r\nL 317.010824 186.280685 \r\nL 317.620772 186.593394 \r\nL 318.840666 186.081405 \r\nL 319.450613 186.027084 \r\nL 320.06056 186.18221 \r\nL 321.280455 186.125542 \r\nL 321.890402 186.310934 \r\nL 323.110296 185.994251 \r\nL 323.720243 186.162367 \r\nL 324.33019 186.508662 \r\nL 324.940138 186.110217 \r\nL 325.550085 186.157929 \r\nL 326.160032 185.833783 \r\nL 326.769979 185.809513 \r\nL 327.989873 186.122987 \r\nL 328.599821 186.006313 \r\nL 329.209768 186.040311 \r\nL 330.429662 185.530292 \r\nL 331.039609 185.350872 \r\nL 332.869451 185.733813 \r\nL 333.479398 185.57809 \r\nL 334.699292 185.711675 \r\nL 335.30924 185.57959 \r\nL 335.919187 185.250363 \r\nL 337.749028 185.495535 \r\nL 338.968923 185.284297 \r\nL 339.57887 184.727911 \r\nL 340.188817 184.895934 \r\nL 340.798764 185.349592 \r\nL 341.408711 185.152288 \r\nL 342.018658 184.740136 \r\nL 342.628606 185.367286 \r\nL 343.238553 184.886421 \r\nL 343.8485 184.814208 \r\nL 344.458447 185.346423 \r\nL 345.678341 184.803472 \r\nL 346.288289 184.938663 \r\nL 346.898236 184.745935 \r\nL 347.508183 184.796972 \r\nL 348.11813 184.555543 \r\nL 348.728077 184.634801 \r\nL 349.338024 185.224929 \r\nL 349.947972 184.708062 \r\nL 350.557919 185.029531 \r\nL 351.167866 184.917353 \r\nL 352.38776 184.519859 \r\nL 352.997707 184.39767 \r\nL 353.607655 184.724168 \r\nL 354.217602 184.669528 \r\nL 354.827549 184.466639 \r\nL 355.437496 184.643723 \r\nL 356.047443 184.416204 \r\nL 356.047443 184.416204 \r\n\" style=\"fill:none;stroke:#ff7f0e;stroke-linecap:square;stroke-width:1.5;\"/>\r\n   </g>\r\n   <g id=\"patch_3\">\r\n    <path d=\"M 36.465625 224.64 \r\nL 36.465625 7.2 \r\n\" style=\"fill:none;stroke:#000000;stroke-linecap:square;stroke-linejoin:miter;stroke-width:0.8;\"/>\r\n   </g>\r\n   <g id=\"patch_4\">\r\n    <path d=\"M 371.265625 224.64 \r\nL 371.265625 7.2 \r\n\" style=\"fill:none;stroke:#000000;stroke-linecap:square;stroke-linejoin:miter;stroke-width:0.8;\"/>\r\n   </g>\r\n   <g id=\"patch_5\">\r\n    <path d=\"M 36.465625 224.64 \r\nL 371.265625 224.64 \r\n\" style=\"fill:none;stroke:#000000;stroke-linecap:square;stroke-linejoin:miter;stroke-width:0.8;\"/>\r\n   </g>\r\n   <g id=\"patch_6\">\r\n    <path d=\"M 36.465625 7.2 \r\nL 371.265625 7.2 \r\n\" style=\"fill:none;stroke:#000000;stroke-linecap:square;stroke-linejoin:miter;stroke-width:0.8;\"/>\r\n   </g>\r\n   <g id=\"legend_1\">\r\n    <g id=\"patch_7\">\r\n     <path d=\"M 293.125 44.834375 \r\nL 364.265625 44.834375 \r\nQ 366.265625 44.834375 366.265625 42.834375 \r\nL 366.265625 14.2 \r\nQ 366.265625 12.2 364.265625 12.2 \r\nL 293.125 12.2 \r\nQ 291.125 12.2 291.125 14.2 \r\nL 291.125 42.834375 \r\nQ 291.125 44.834375 293.125 44.834375 \r\nz\r\n\" style=\"fill:#ffffff;opacity:0.8;stroke:#cccccc;stroke-linejoin:miter;\"/>\r\n    </g>\r\n    <g id=\"line2d_15\">\r\n     <path d=\"M 295.125 20.298437 \r\nL 315.125 20.298437 \r\n\" style=\"fill:none;stroke:#1f77b4;stroke-linecap:square;stroke-width:1.5;\"/>\r\n    </g>\r\n    <g id=\"line2d_16\"/>\r\n    <g id=\"text_13\">\r\n     <!-- loss -->\r\n     <g transform=\"translate(323.125 23.798437)scale(0.1 -0.1)\">\r\n      <defs>\r\n       <path d=\"M 9.421875 75.984375 \r\nL 18.40625 75.984375 \r\nL 18.40625 0 \r\nL 9.421875 0 \r\nz\r\n\" id=\"DejaVuSans-108\"/>\r\n       <path d=\"M 30.609375 48.390625 \r\nQ 23.390625 48.390625 19.1875 42.75 \r\nQ 14.984375 37.109375 14.984375 27.296875 \r\nQ 14.984375 17.484375 19.15625 11.84375 \r\nQ 23.34375 6.203125 30.609375 6.203125 \r\nQ 37.796875 6.203125 41.984375 11.859375 \r\nQ 46.1875 17.53125 46.1875 27.296875 \r\nQ 46.1875 37.015625 41.984375 42.703125 \r\nQ 37.796875 48.390625 30.609375 48.390625 \r\nz\r\nM 30.609375 56 \r\nQ 42.328125 56 49.015625 48.375 \r\nQ 55.71875 40.765625 55.71875 27.296875 \r\nQ 55.71875 13.875 49.015625 6.21875 \r\nQ 42.328125 -1.421875 30.609375 -1.421875 \r\nQ 18.84375 -1.421875 12.171875 6.21875 \r\nQ 5.515625 13.875 5.515625 27.296875 \r\nQ 5.515625 40.765625 12.171875 48.375 \r\nQ 18.84375 56 30.609375 56 \r\nz\r\n\" id=\"DejaVuSans-111\"/>\r\n       <path d=\"M 44.28125 53.078125 \r\nL 44.28125 44.578125 \r\nQ 40.484375 46.53125 36.375 47.5 \r\nQ 32.28125 48.484375 27.875 48.484375 \r\nQ 21.1875 48.484375 17.84375 46.4375 \r\nQ 14.5 44.390625 14.5 40.28125 \r\nQ 14.5 37.15625 16.890625 35.375 \r\nQ 19.28125 33.59375 26.515625 31.984375 \r\nL 29.59375 31.296875 \r\nQ 39.15625 29.25 43.1875 25.515625 \r\nQ 47.21875 21.78125 47.21875 15.09375 \r\nQ 47.21875 7.46875 41.1875 3.015625 \r\nQ 35.15625 -1.421875 24.609375 -1.421875 \r\nQ 20.21875 -1.421875 15.453125 -0.5625 \r\nQ 10.6875 0.296875 5.421875 2 \r\nL 5.421875 11.28125 \r\nQ 10.40625 8.6875 15.234375 7.390625 \r\nQ 20.0625 6.109375 24.8125 6.109375 \r\nQ 31.15625 6.109375 34.5625 8.28125 \r\nQ 37.984375 10.453125 37.984375 14.40625 \r\nQ 37.984375 18.0625 35.515625 20.015625 \r\nQ 33.0625 21.96875 24.703125 23.78125 \r\nL 21.578125 24.515625 \r\nQ 13.234375 26.265625 9.515625 29.90625 \r\nQ 5.8125 33.546875 5.8125 39.890625 \r\nQ 5.8125 47.609375 11.28125 51.796875 \r\nQ 16.75 56 26.8125 56 \r\nQ 31.78125 56 36.171875 55.265625 \r\nQ 40.578125 54.546875 44.28125 53.078125 \r\nz\r\n\" id=\"DejaVuSans-115\"/>\r\n      </defs>\r\n      <use xlink:href=\"#DejaVuSans-108\"/>\r\n      <use x=\"27.783203\" xlink:href=\"#DejaVuSans-111\"/>\r\n      <use x=\"88.964844\" xlink:href=\"#DejaVuSans-115\"/>\r\n      <use x=\"141.064453\" xlink:href=\"#DejaVuSans-115\"/>\r\n     </g>\r\n    </g>\r\n    <g id=\"line2d_17\">\r\n     <path d=\"M 295.125 34.976562 \r\nL 315.125 34.976562 \r\n\" style=\"fill:none;stroke:#ff7f0e;stroke-linecap:square;stroke-width:1.5;\"/>\r\n    </g>\r\n    <g id=\"line2d_18\"/>\r\n    <g id=\"text_14\">\r\n     <!-- val_loss -->\r\n     <g transform=\"translate(323.125 38.476562)scale(0.1 -0.1)\">\r\n      <defs>\r\n       <path d=\"M 2.984375 54.6875 \r\nL 12.5 54.6875 \r\nL 29.59375 8.796875 \r\nL 46.6875 54.6875 \r\nL 56.203125 54.6875 \r\nL 35.6875 0 \r\nL 23.484375 0 \r\nz\r\n\" id=\"DejaVuSans-118\"/>\r\n       <path d=\"M 34.28125 27.484375 \r\nQ 23.390625 27.484375 19.1875 25 \r\nQ 14.984375 22.515625 14.984375 16.5 \r\nQ 14.984375 11.71875 18.140625 8.90625 \r\nQ 21.296875 6.109375 26.703125 6.109375 \r\nQ 34.1875 6.109375 38.703125 11.40625 \r\nQ 43.21875 16.703125 43.21875 25.484375 \r\nL 43.21875 27.484375 \r\nz\r\nM 52.203125 31.203125 \r\nL 52.203125 0 \r\nL 43.21875 0 \r\nL 43.21875 8.296875 \r\nQ 40.140625 3.328125 35.546875 0.953125 \r\nQ 30.953125 -1.421875 24.3125 -1.421875 \r\nQ 15.921875 -1.421875 10.953125 3.296875 \r\nQ 6 8.015625 6 15.921875 \r\nQ 6 25.140625 12.171875 29.828125 \r\nQ 18.359375 34.515625 30.609375 34.515625 \r\nL 43.21875 34.515625 \r\nL 43.21875 35.40625 \r\nQ 43.21875 41.609375 39.140625 45 \r\nQ 35.0625 48.390625 27.6875 48.390625 \r\nQ 23 48.390625 18.546875 47.265625 \r\nQ 14.109375 46.140625 10.015625 43.890625 \r\nL 10.015625 52.203125 \r\nQ 14.9375 54.109375 19.578125 55.046875 \r\nQ 24.21875 56 28.609375 56 \r\nQ 40.484375 56 46.34375 49.84375 \r\nQ 52.203125 43.703125 52.203125 31.203125 \r\nz\r\n\" id=\"DejaVuSans-97\"/>\r\n       <path d=\"M 50.984375 -16.609375 \r\nL 50.984375 -23.578125 \r\nL -0.984375 -23.578125 \r\nL -0.984375 -16.609375 \r\nz\r\n\" id=\"DejaVuSans-95\"/>\r\n      </defs>\r\n      <use xlink:href=\"#DejaVuSans-118\"/>\r\n      <use x=\"59.179688\" xlink:href=\"#DejaVuSans-97\"/>\r\n      <use x=\"120.458984\" xlink:href=\"#DejaVuSans-108\"/>\r\n      <use x=\"148.242188\" xlink:href=\"#DejaVuSans-95\"/>\r\n      <use x=\"198.242188\" xlink:href=\"#DejaVuSans-108\"/>\r\n      <use x=\"226.025391\" xlink:href=\"#DejaVuSans-111\"/>\r\n      <use x=\"287.207031\" xlink:href=\"#DejaVuSans-115\"/>\r\n      <use x=\"339.306641\" xlink:href=\"#DejaVuSans-115\"/>\r\n     </g>\r\n    </g>\r\n   </g>\r\n  </g>\r\n </g>\r\n <defs>\r\n  <clipPath id=\"p484e1bf8ff\">\r\n   <rect height=\"217.44\" width=\"334.8\" x=\"36.465625\" y=\"7.2\"/>\r\n  </clipPath>\r\n </defs>\r\n</svg>\r\n",
      "image/png": "[encoded data removed]"
     },
     "metadata": {
      "needs_background": "light"
     }
    }
   ],
   "source": [
    "# Plot what's returned by model.fit()\n",
    "plt.plot(training_history.history['loss'], label='loss')\n",
    "plt.plot(training_history.history['val_loss'], label='val_loss')\n",
    "plt.legend()"
   ]
  },
  {
   "cell_type": "code",
   "execution_count": 13,
   "metadata": {},
   "outputs": [
    {
     "output_type": "execute_result",
     "data": {
      "text/plain": [
       "<matplotlib.legend.Legend at 0x1cc8cf5af10>"
      ]
     },
     "metadata": {},
     "execution_count": 13
    },
    {
     "output_type": "display_data",
     "data": {
      "text/plain": "<Figure size 432x288 with 1 Axes>",
      "image/svg+xml": "<?xml version=\"1.0\" encoding=\"utf-8\" standalone=\"no\"?>\r\n<!DOCTYPE svg PUBLIC \"-//W3C//DTD SVG 1.1//EN\"\r\n  \"http://www.w3.org/Graphics/SVG/1.1/DTD/svg11.dtd\">\r\n<!-- Created with matplotlib (https://matplotlib.org/) -->\r\n<svg height=\"248.518125pt\" version=\"1.1\" viewBox=\"0 0 378.465625 248.518125\" width=\"378.465625pt\" xmlns=\"http://www.w3.org/2000/svg\" xmlns:xlink=\"http://www.w3.org/1999/xlink\">\r\n <metadata>\r\n  <rdf:RDF xmlns:cc=\"http://creativecommons.org/ns#\" xmlns:dc=\"http://purl.org/dc/elements/1.1/\" xmlns:rdf=\"http://www.w3.org/1999/02/22-rdf-syntax-ns#\">\r\n   <cc:Work>\r\n    <dc:type rdf:resource=\"http://purl.org/dc/dcmitype/StillImage\"/>\r\n    <dc:date>2021-05-10T23:40:29.461428</dc:date>\r\n    <dc:format>image/svg+xml</dc:format>\r\n    <dc:creator>\r\n     <cc:Agent>\r\n      <dc:title>Matplotlib v3.3.4, https://matplotlib.org/</dc:title>\r\n     </cc:Agent>\r\n    </dc:creator>\r\n   </cc:Work>\r\n  </rdf:RDF>\r\n </metadata>\r\n <defs>\r\n  <style type=\"text/css\">*{stroke-linecap:butt;stroke-linejoin:round;}</style>\r\n </defs>\r\n <g id=\"figure_1\">\r\n  <g id=\"patch_1\">\r\n   <path d=\"M 0 248.518125 \r\nL 378.465625 248.518125 \r\nL 378.465625 0 \r\nL 0 0 \r\nz\r\n\" style=\"fill:none;\"/>\r\n  </g>\r\n  <g id=\"axes_1\">\r\n   <g id=\"patch_2\">\r\n    <path d=\"M 36.465625 224.64 \r\nL 371.265625 224.64 \r\nL 371.265625 7.2 \r\nL 36.465625 7.2 \r\nz\r\n\" style=\"fill:#ffffff;\"/>\r\n   </g>\r\n   <g id=\"matplotlib.axis_1\">\r\n    <g id=\"xtick_1\">\r\n     <g id=\"line2d_1\">\r\n      <defs>\r\n       <path d=\"M 0 0 \r\nL 0 3.5 \r\n\" id=\"mbddbfa7107\" style=\"stroke:#000000;stroke-width:0.8;\"/>\r\n      </defs>\r\n      <g>\r\n       <use style=\"stroke:#000000;stroke-width:0.8;\" x=\"51.683807\" xlink:href=\"#mbddbfa7107\" y=\"224.64\"/>\r\n      </g>\r\n     </g>\r\n     <g id=\"text_1\">\r\n      <!-- 0 -->\r\n      <g transform=\"translate(48.502557 239.238437)scale(0.1 -0.1)\">\r\n       <defs>\r\n        <path d=\"M 31.78125 66.40625 \r\nQ 24.171875 66.40625 20.328125 58.90625 \r\nQ 16.5 51.421875 16.5 36.375 \r\nQ 16.5 21.390625 20.328125 13.890625 \r\nQ 24.171875 6.390625 31.78125 6.390625 \r\nQ 39.453125 6.390625 43.28125 13.890625 \r\nQ 47.125 21.390625 47.125 36.375 \r\nQ 47.125 51.421875 43.28125 58.90625 \r\nQ 39.453125 66.40625 31.78125 66.40625 \r\nz\r\nM 31.78125 74.21875 \r\nQ 44.046875 74.21875 50.515625 64.515625 \r\nQ 56.984375 54.828125 56.984375 36.375 \r\nQ 56.984375 17.96875 50.515625 8.265625 \r\nQ 44.046875 -1.421875 31.78125 -1.421875 \r\nQ 19.53125 -1.421875 13.0625 8.265625 \r\nQ 6.59375 17.96875 6.59375 36.375 \r\nQ 6.59375 54.828125 13.0625 64.515625 \r\nQ 19.53125 74.21875 31.78125 74.21875 \r\nz\r\n\" id=\"DejaVuSans-48\"/>\r\n       </defs>\r\n       <use xlink:href=\"#DejaVuSans-48\"/>\r\n      </g>\r\n     </g>\r\n    </g>\r\n    <g id=\"xtick_2\">\r\n     <g id=\"line2d_2\">\r\n      <g>\r\n       <use style=\"stroke:#000000;stroke-width:0.8;\" x=\"112.678524\" xlink:href=\"#mbddbfa7107\" y=\"224.64\"/>\r\n      </g>\r\n     </g>\r\n     <g id=\"text_2\">\r\n      <!-- 100 -->\r\n      <g transform=\"translate(103.134774 239.238437)scale(0.1 -0.1)\">\r\n       <defs>\r\n        <path d=\"M 12.40625 8.296875 \r\nL 28.515625 8.296875 \r\nL 28.515625 63.921875 \r\nL 10.984375 60.40625 \r\nL 10.984375 69.390625 \r\nL 28.421875 72.90625 \r\nL 38.28125 72.90625 \r\nL 38.28125 8.296875 \r\nL 54.390625 8.296875 \r\nL 54.390625 0 \r\nL 12.40625 0 \r\nz\r\n\" id=\"DejaVuSans-49\"/>\r\n       </defs>\r\n       <use xlink:href=\"#DejaVuSans-49\"/>\r\n       <use x=\"63.623047\" xlink:href=\"#DejaVuSans-48\"/>\r\n       <use x=\"127.246094\" xlink:href=\"#DejaVuSans-48\"/>\r\n      </g>\r\n     </g>\r\n    </g>\r\n    <g id=\"xtick_3\">\r\n     <g id=\"line2d_3\">\r\n      <g>\r\n       <use style=\"stroke:#000000;stroke-width:0.8;\" x=\"173.67324\" xlink:href=\"#mbddbfa7107\" y=\"224.64\"/>\r\n      </g>\r\n     </g>\r\n     <g id=\"text_3\">\r\n      <!-- 200 -->\r\n      <g transform=\"translate(164.12949 239.238437)scale(0.1 -0.1)\">\r\n       <defs>\r\n        <path d=\"M 19.1875 8.296875 \r\nL 53.609375 8.296875 \r\nL 53.609375 0 \r\nL 7.328125 0 \r\nL 7.328125 8.296875 \r\nQ 12.9375 14.109375 22.625 23.890625 \r\nQ 32.328125 33.6875 34.8125 36.53125 \r\nQ 39.546875 41.84375 41.421875 45.53125 \r\nQ 43.3125 49.21875 43.3125 52.78125 \r\nQ 43.3125 58.59375 39.234375 62.25 \r\nQ 35.15625 65.921875 28.609375 65.921875 \r\nQ 23.96875 65.921875 18.8125 64.3125 \r\nQ 13.671875 62.703125 7.8125 59.421875 \r\nL 7.8125 69.390625 \r\nQ 13.765625 71.78125 18.9375 73 \r\nQ 24.125 74.21875 28.421875 74.21875 \r\nQ 39.75 74.21875 46.484375 68.546875 \r\nQ 53.21875 62.890625 53.21875 53.421875 \r\nQ 53.21875 48.921875 51.53125 44.890625 \r\nQ 49.859375 40.875 45.40625 35.40625 \r\nQ 44.1875 33.984375 37.640625 27.21875 \r\nQ 31.109375 20.453125 19.1875 8.296875 \r\nz\r\n\" id=\"DejaVuSans-50\"/>\r\n       </defs>\r\n       <use xlink:href=\"#DejaVuSans-50\"/>\r\n       <use x=\"63.623047\" xlink:href=\"#DejaVuSans-48\"/>\r\n       <use x=\"127.246094\" xlink:href=\"#DejaVuSans-48\"/>\r\n      </g>\r\n     </g>\r\n    </g>\r\n    <g id=\"xtick_4\">\r\n     <g id=\"line2d_4\">\r\n      <g>\r\n       <use style=\"stroke:#000000;stroke-width:0.8;\" x=\"234.667957\" xlink:href=\"#mbddbfa7107\" y=\"224.64\"/>\r\n      </g>\r\n     </g>\r\n     <g id=\"text_4\">\r\n      <!-- 300 -->\r\n      <g transform=\"translate(225.124207 239.238437)scale(0.1 -0.1)\">\r\n       <defs>\r\n        <path d=\"M 40.578125 39.3125 \r\nQ 47.65625 37.796875 51.625 33 \r\nQ 55.609375 28.21875 55.609375 21.1875 \r\nQ 55.609375 10.40625 48.1875 4.484375 \r\nQ 40.765625 -1.421875 27.09375 -1.421875 \r\nQ 22.515625 -1.421875 17.65625 -0.515625 \r\nQ 12.796875 0.390625 7.625 2.203125 \r\nL 7.625 11.71875 \r\nQ 11.71875 9.328125 16.59375 8.109375 \r\nQ 21.484375 6.890625 26.8125 6.890625 \r\nQ 36.078125 6.890625 40.9375 10.546875 \r\nQ 45.796875 14.203125 45.796875 21.1875 \r\nQ 45.796875 27.640625 41.28125 31.265625 \r\nQ 36.765625 34.90625 28.71875 34.90625 \r\nL 20.21875 34.90625 \r\nL 20.21875 43.015625 \r\nL 29.109375 43.015625 \r\nQ 36.375 43.015625 40.234375 45.921875 \r\nQ 44.09375 48.828125 44.09375 54.296875 \r\nQ 44.09375 59.90625 40.109375 62.90625 \r\nQ 36.140625 65.921875 28.71875 65.921875 \r\nQ 24.65625 65.921875 20.015625 65.03125 \r\nQ 15.375 64.15625 9.8125 62.3125 \r\nL 9.8125 71.09375 \r\nQ 15.4375 72.65625 20.34375 73.4375 \r\nQ 25.25 74.21875 29.59375 74.21875 \r\nQ 40.828125 74.21875 47.359375 69.109375 \r\nQ 53.90625 64.015625 53.90625 55.328125 \r\nQ 53.90625 49.265625 50.4375 45.09375 \r\nQ 46.96875 40.921875 40.578125 39.3125 \r\nz\r\n\" id=\"DejaVuSans-51\"/>\r\n       </defs>\r\n       <use xlink:href=\"#DejaVuSans-51\"/>\r\n       <use x=\"63.623047\" xlink:href=\"#DejaVuSans-48\"/>\r\n       <use x=\"127.246094\" xlink:href=\"#DejaVuSans-48\"/>\r\n      </g>\r\n     </g>\r\n    </g>\r\n    <g id=\"xtick_5\">\r\n     <g id=\"line2d_5\">\r\n      <g>\r\n       <use style=\"stroke:#000000;stroke-width:0.8;\" x=\"295.662674\" xlink:href=\"#mbddbfa7107\" y=\"224.64\"/>\r\n      </g>\r\n     </g>\r\n     <g id=\"text_5\">\r\n      <!-- 400 -->\r\n      <g transform=\"translate(286.118924 239.238437)scale(0.1 -0.1)\">\r\n       <defs>\r\n        <path d=\"M 37.796875 64.3125 \r\nL 12.890625 25.390625 \r\nL 37.796875 25.390625 \r\nz\r\nM 35.203125 72.90625 \r\nL 47.609375 72.90625 \r\nL 47.609375 25.390625 \r\nL 58.015625 25.390625 \r\nL 58.015625 17.1875 \r\nL 47.609375 17.1875 \r\nL 47.609375 0 \r\nL 37.796875 0 \r\nL 37.796875 17.1875 \r\nL 4.890625 17.1875 \r\nL 4.890625 26.703125 \r\nz\r\n\" id=\"DejaVuSans-52\"/>\r\n       </defs>\r\n       <use xlink:href=\"#DejaVuSans-52\"/>\r\n       <use x=\"63.623047\" xlink:href=\"#DejaVuSans-48\"/>\r\n       <use x=\"127.246094\" xlink:href=\"#DejaVuSans-48\"/>\r\n      </g>\r\n     </g>\r\n    </g>\r\n    <g id=\"xtick_6\">\r\n     <g id=\"line2d_6\">\r\n      <g>\r\n       <use style=\"stroke:#000000;stroke-width:0.8;\" x=\"356.65739\" xlink:href=\"#mbddbfa7107\" y=\"224.64\"/>\r\n      </g>\r\n     </g>\r\n     <g id=\"text_6\">\r\n      <!-- 500 -->\r\n      <g transform=\"translate(347.11364 239.238437)scale(0.1 -0.1)\">\r\n       <defs>\r\n        <path d=\"M 10.796875 72.90625 \r\nL 49.515625 72.90625 \r\nL 49.515625 64.59375 \r\nL 19.828125 64.59375 \r\nL 19.828125 46.734375 \r\nQ 21.96875 47.46875 24.109375 47.828125 \r\nQ 26.265625 48.1875 28.421875 48.1875 \r\nQ 40.625 48.1875 47.75 41.5 \r\nQ 54.890625 34.8125 54.890625 23.390625 \r\nQ 54.890625 11.625 47.5625 5.09375 \r\nQ 40.234375 -1.421875 26.90625 -1.421875 \r\nQ 22.3125 -1.421875 17.546875 -0.640625 \r\nQ 12.796875 0.140625 7.71875 1.703125 \r\nL 7.71875 11.625 \r\nQ 12.109375 9.234375 16.796875 8.0625 \r\nQ 21.484375 6.890625 26.703125 6.890625 \r\nQ 35.15625 6.890625 40.078125 11.328125 \r\nQ 45.015625 15.765625 45.015625 23.390625 \r\nQ 45.015625 31 40.078125 35.4375 \r\nQ 35.15625 39.890625 26.703125 39.890625 \r\nQ 22.75 39.890625 18.8125 39.015625 \r\nQ 14.890625 38.140625 10.796875 36.28125 \r\nz\r\n\" id=\"DejaVuSans-53\"/>\r\n       </defs>\r\n       <use xlink:href=\"#DejaVuSans-53\"/>\r\n       <use x=\"63.623047\" xlink:href=\"#DejaVuSans-48\"/>\r\n       <use x=\"127.246094\" xlink:href=\"#DejaVuSans-48\"/>\r\n      </g>\r\n     </g>\r\n    </g>\r\n   </g>\r\n   <g id=\"matplotlib.axis_2\">\r\n    <g id=\"ytick_1\">\r\n     <g id=\"line2d_7\">\r\n      <defs>\r\n       <path d=\"M 0 0 \r\nL -3.5 0 \r\n\" id=\"m488d200a55\" style=\"stroke:#000000;stroke-width:0.8;\"/>\r\n      </defs>\r\n      <g>\r\n       <use style=\"stroke:#000000;stroke-width:0.8;\" x=\"36.465625\" xlink:href=\"#m488d200a55\" y=\"199.979412\"/>\r\n      </g>\r\n     </g>\r\n     <g id=\"text_7\">\r\n      <!-- 0.95 -->\r\n      <g transform=\"translate(7.2 203.778631)scale(0.1 -0.1)\">\r\n       <defs>\r\n        <path d=\"M 10.6875 12.40625 \r\nL 21 12.40625 \r\nL 21 0 \r\nL 10.6875 0 \r\nz\r\n\" id=\"DejaVuSans-46\"/>\r\n        <path d=\"M 10.984375 1.515625 \r\nL 10.984375 10.5 \r\nQ 14.703125 8.734375 18.5 7.8125 \r\nQ 22.3125 6.890625 25.984375 6.890625 \r\nQ 35.75 6.890625 40.890625 13.453125 \r\nQ 46.046875 20.015625 46.78125 33.40625 \r\nQ 43.953125 29.203125 39.59375 26.953125 \r\nQ 35.25 24.703125 29.984375 24.703125 \r\nQ 19.046875 24.703125 12.671875 31.3125 \r\nQ 6.296875 37.9375 6.296875 49.421875 \r\nQ 6.296875 60.640625 12.9375 67.421875 \r\nQ 19.578125 74.21875 30.609375 74.21875 \r\nQ 43.265625 74.21875 49.921875 64.515625 \r\nQ 56.59375 54.828125 56.59375 36.375 \r\nQ 56.59375 19.140625 48.40625 8.859375 \r\nQ 40.234375 -1.421875 26.421875 -1.421875 \r\nQ 22.703125 -1.421875 18.890625 -0.6875 \r\nQ 15.09375 0.046875 10.984375 1.515625 \r\nz\r\nM 30.609375 32.421875 \r\nQ 37.25 32.421875 41.125 36.953125 \r\nQ 45.015625 41.5 45.015625 49.421875 \r\nQ 45.015625 57.28125 41.125 61.84375 \r\nQ 37.25 66.40625 30.609375 66.40625 \r\nQ 23.96875 66.40625 20.09375 61.84375 \r\nQ 16.21875 57.28125 16.21875 49.421875 \r\nQ 16.21875 41.5 20.09375 36.953125 \r\nQ 23.96875 32.421875 30.609375 32.421875 \r\nz\r\n\" id=\"DejaVuSans-57\"/>\r\n       </defs>\r\n       <use xlink:href=\"#DejaVuSans-48\"/>\r\n       <use x=\"63.623047\" xlink:href=\"#DejaVuSans-46\"/>\r\n       <use x=\"95.410156\" xlink:href=\"#DejaVuSans-57\"/>\r\n       <use x=\"159.033203\" xlink:href=\"#DejaVuSans-53\"/>\r\n      </g>\r\n     </g>\r\n    </g>\r\n    <g id=\"ytick_2\">\r\n     <g id=\"line2d_8\">\r\n      <g>\r\n       <use style=\"stroke:#000000;stroke-width:0.8;\" x=\"36.465625\" xlink:href=\"#m488d200a55\" y=\"153.678205\"/>\r\n      </g>\r\n     </g>\r\n     <g id=\"text_8\">\r\n      <!-- 0.96 -->\r\n      <g transform=\"translate(7.2 157.477424)scale(0.1 -0.1)\">\r\n       <defs>\r\n        <path d=\"M 33.015625 40.375 \r\nQ 26.375 40.375 22.484375 35.828125 \r\nQ 18.609375 31.296875 18.609375 23.390625 \r\nQ 18.609375 15.53125 22.484375 10.953125 \r\nQ 26.375 6.390625 33.015625 6.390625 \r\nQ 39.65625 6.390625 43.53125 10.953125 \r\nQ 47.40625 15.53125 47.40625 23.390625 \r\nQ 47.40625 31.296875 43.53125 35.828125 \r\nQ 39.65625 40.375 33.015625 40.375 \r\nz\r\nM 52.59375 71.296875 \r\nL 52.59375 62.3125 \r\nQ 48.875 64.0625 45.09375 64.984375 \r\nQ 41.3125 65.921875 37.59375 65.921875 \r\nQ 27.828125 65.921875 22.671875 59.328125 \r\nQ 17.53125 52.734375 16.796875 39.40625 \r\nQ 19.671875 43.65625 24.015625 45.921875 \r\nQ 28.375 48.1875 33.59375 48.1875 \r\nQ 44.578125 48.1875 50.953125 41.515625 \r\nQ 57.328125 34.859375 57.328125 23.390625 \r\nQ 57.328125 12.15625 50.6875 5.359375 \r\nQ 44.046875 -1.421875 33.015625 -1.421875 \r\nQ 20.359375 -1.421875 13.671875 8.265625 \r\nQ 6.984375 17.96875 6.984375 36.375 \r\nQ 6.984375 53.65625 15.1875 63.9375 \r\nQ 23.390625 74.21875 37.203125 74.21875 \r\nQ 40.921875 74.21875 44.703125 73.484375 \r\nQ 48.484375 72.75 52.59375 71.296875 \r\nz\r\n\" id=\"DejaVuSans-54\"/>\r\n       </defs>\r\n       <use xlink:href=\"#DejaVuSans-48\"/>\r\n       <use x=\"63.623047\" xlink:href=\"#DejaVuSans-46\"/>\r\n       <use x=\"95.410156\" xlink:href=\"#DejaVuSans-57\"/>\r\n       <use x=\"159.033203\" xlink:href=\"#DejaVuSans-54\"/>\r\n      </g>\r\n     </g>\r\n    </g>\r\n    <g id=\"ytick_3\">\r\n     <g id=\"line2d_9\">\r\n      <g>\r\n       <use style=\"stroke:#000000;stroke-width:0.8;\" x=\"36.465625\" xlink:href=\"#m488d200a55\" y=\"107.376998\"/>\r\n      </g>\r\n     </g>\r\n     <g id=\"text_9\">\r\n      <!-- 0.97 -->\r\n      <g transform=\"translate(7.2 111.176216)scale(0.1 -0.1)\">\r\n       <defs>\r\n        <path d=\"M 8.203125 72.90625 \r\nL 55.078125 72.90625 \r\nL 55.078125 68.703125 \r\nL 28.609375 0 \r\nL 18.3125 0 \r\nL 43.21875 64.59375 \r\nL 8.203125 64.59375 \r\nz\r\n\" id=\"DejaVuSans-55\"/>\r\n       </defs>\r\n       <use xlink:href=\"#DejaVuSans-48\"/>\r\n       <use x=\"63.623047\" xlink:href=\"#DejaVuSans-46\"/>\r\n       <use x=\"95.410156\" xlink:href=\"#DejaVuSans-57\"/>\r\n       <use x=\"159.033203\" xlink:href=\"#DejaVuSans-55\"/>\r\n      </g>\r\n     </g>\r\n    </g>\r\n    <g id=\"ytick_4\">\r\n     <g id=\"line2d_10\">\r\n      <g>\r\n       <use style=\"stroke:#000000;stroke-width:0.8;\" x=\"36.465625\" xlink:href=\"#m488d200a55\" y=\"61.075791\"/>\r\n      </g>\r\n     </g>\r\n     <g id=\"text_10\">\r\n      <!-- 0.98 -->\r\n      <g transform=\"translate(7.2 64.875009)scale(0.1 -0.1)\">\r\n       <defs>\r\n        <path d=\"M 31.78125 34.625 \r\nQ 24.75 34.625 20.71875 30.859375 \r\nQ 16.703125 27.09375 16.703125 20.515625 \r\nQ 16.703125 13.921875 20.71875 10.15625 \r\nQ 24.75 6.390625 31.78125 6.390625 \r\nQ 38.8125 6.390625 42.859375 10.171875 \r\nQ 46.921875 13.96875 46.921875 20.515625 \r\nQ 46.921875 27.09375 42.890625 30.859375 \r\nQ 38.875 34.625 31.78125 34.625 \r\nz\r\nM 21.921875 38.8125 \r\nQ 15.578125 40.375 12.03125 44.71875 \r\nQ 8.5 49.078125 8.5 55.328125 \r\nQ 8.5 64.0625 14.71875 69.140625 \r\nQ 20.953125 74.21875 31.78125 74.21875 \r\nQ 42.671875 74.21875 48.875 69.140625 \r\nQ 55.078125 64.0625 55.078125 55.328125 \r\nQ 55.078125 49.078125 51.53125 44.71875 \r\nQ 48 40.375 41.703125 38.8125 \r\nQ 48.828125 37.15625 52.796875 32.3125 \r\nQ 56.78125 27.484375 56.78125 20.515625 \r\nQ 56.78125 9.90625 50.3125 4.234375 \r\nQ 43.84375 -1.421875 31.78125 -1.421875 \r\nQ 19.734375 -1.421875 13.25 4.234375 \r\nQ 6.78125 9.90625 6.78125 20.515625 \r\nQ 6.78125 27.484375 10.78125 32.3125 \r\nQ 14.796875 37.15625 21.921875 38.8125 \r\nz\r\nM 18.3125 54.390625 \r\nQ 18.3125 48.734375 21.84375 45.5625 \r\nQ 25.390625 42.390625 31.78125 42.390625 \r\nQ 38.140625 42.390625 41.71875 45.5625 \r\nQ 45.3125 48.734375 45.3125 54.390625 \r\nQ 45.3125 60.0625 41.71875 63.234375 \r\nQ 38.140625 66.40625 31.78125 66.40625 \r\nQ 25.390625 66.40625 21.84375 63.234375 \r\nQ 18.3125 60.0625 18.3125 54.390625 \r\nz\r\n\" id=\"DejaVuSans-56\"/>\r\n       </defs>\r\n       <use xlink:href=\"#DejaVuSans-48\"/>\r\n       <use x=\"63.623047\" xlink:href=\"#DejaVuSans-46\"/>\r\n       <use x=\"95.410156\" xlink:href=\"#DejaVuSans-57\"/>\r\n       <use x=\"159.033203\" xlink:href=\"#DejaVuSans-56\"/>\r\n      </g>\r\n     </g>\r\n    </g>\r\n    <g id=\"ytick_5\">\r\n     <g id=\"line2d_11\">\r\n      <g>\r\n       <use style=\"stroke:#000000;stroke-width:0.8;\" x=\"36.465625\" xlink:href=\"#m488d200a55\" y=\"14.774583\"/>\r\n      </g>\r\n     </g>\r\n     <g id=\"text_11\">\r\n      <!-- 0.99 -->\r\n      <g transform=\"translate(7.2 18.573802)scale(0.1 -0.1)\">\r\n       <use xlink:href=\"#DejaVuSans-48\"/>\r\n       <use x=\"63.623047\" xlink:href=\"#DejaVuSans-46\"/>\r\n       <use x=\"95.410156\" xlink:href=\"#DejaVuSans-57\"/>\r\n       <use x=\"159.033203\" xlink:href=\"#DejaVuSans-57\"/>\r\n      </g>\r\n     </g>\r\n    </g>\r\n   </g>\r\n   <g id=\"line2d_12\">\r\n    <path clip-path=\"url(#p49f38a039b)\" d=\"M 51.683807 199.371766 \r\nL 52.293754 114.30388 \r\nL 52.903701 89.998888 \r\nL 54.123595 65.693896 \r\nL 56.563384 65.693896 \r\nL 57.173331 41.388628 \r\nL 57.783278 65.693896 \r\nL 58.393226 41.388628 \r\nL 66.322539 41.388628 \r\nL 66.932486 29.235994 \r\nL 67.542433 41.388628 \r\nL 68.762327 17.083636 \r\nL 69.372275 29.235994 \r\nL 69.982222 29.235994 \r\nL 70.592169 17.083636 \r\nL 73.641905 17.083636 \r\nL 74.251852 29.235994 \r\nL 74.861799 17.083636 \r\nL 356.047443 17.083636 \r\nL 356.047443 17.083636 \r\n\" style=\"fill:none;stroke:#1f77b4;stroke-linecap:square;stroke-width:1.5;\"/>\r\n   </g>\r\n   <g id=\"line2d_13\">\r\n    <path clip-path=\"url(#p49f38a039b)\" d=\"M 51.683807 214.756364 \r\nL 52.293754 116.243169 \r\nL 53.513648 66.986571 \r\nL 55.34349 66.986571 \r\nL 55.953437 42.358411 \r\nL 66.322539 42.358411 \r\nL 66.932486 91.615008 \r\nL 67.542433 42.358411 \r\nL 68.15238 66.986571 \r\nL 69.372275 66.986571 \r\nL 69.982222 91.615008 \r\nL 70.592169 66.986571 \r\nL 71.202116 91.615008 \r\nL 72.42201 91.615008 \r\nL 73.031958 66.986571 \r\nL 73.641905 91.615008 \r\nL 74.251852 42.358411 \r\nL 74.861799 91.615008 \r\nL 75.471746 66.986571 \r\nL 76.081694 116.243169 \r\nL 76.691641 140.871605 \r\nL 77.301588 140.871605 \r\nL 78.521482 91.615008 \r\nL 79.131429 116.243169 \r\nL 79.741377 91.615008 \r\nL 80.351324 116.243169 \r\nL 356.047443 116.243169 \r\nL 356.047443 116.243169 \r\n\" style=\"fill:none;stroke:#ff7f0e;stroke-linecap:square;stroke-width:1.5;\"/>\r\n   </g>\r\n   <g id=\"patch_3\">\r\n    <path d=\"M 36.465625 224.64 \r\nL 36.465625 7.2 \r\n\" style=\"fill:none;stroke:#000000;stroke-linecap:square;stroke-linejoin:miter;stroke-width:0.8;\"/>\r\n   </g>\r\n   <g id=\"patch_4\">\r\n    <path d=\"M 371.265625 224.64 \r\nL 371.265625 7.2 \r\n\" style=\"fill:none;stroke:#000000;stroke-linecap:square;stroke-linejoin:miter;stroke-width:0.8;\"/>\r\n   </g>\r\n   <g id=\"patch_5\">\r\n    <path d=\"M 36.465625 224.64 \r\nL 371.265625 224.64 \r\n\" style=\"fill:none;stroke:#000000;stroke-linecap:square;stroke-linejoin:miter;stroke-width:0.8;\"/>\r\n   </g>\r\n   <g id=\"patch_6\">\r\n    <path d=\"M 36.465625 7.2 \r\nL 371.265625 7.2 \r\n\" style=\"fill:none;stroke:#000000;stroke-linecap:square;stroke-linejoin:miter;stroke-width:0.8;\"/>\r\n   </g>\r\n   <g id=\"legend_1\">\r\n    <g id=\"patch_7\">\r\n     <path d=\"M 295.315625 219.64 \r\nL 364.265625 219.64 \r\nQ 366.265625 219.64 366.265625 217.64 \r\nL 366.265625 189.005625 \r\nQ 366.265625 187.005625 364.265625 187.005625 \r\nL 295.315625 187.005625 \r\nQ 293.315625 187.005625 293.315625 189.005625 \r\nL 293.315625 217.64 \r\nQ 293.315625 219.64 295.315625 219.64 \r\nz\r\n\" style=\"fill:#ffffff;opacity:0.8;stroke:#cccccc;stroke-linejoin:miter;\"/>\r\n    </g>\r\n    <g id=\"line2d_14\">\r\n     <path d=\"M 297.315625 195.104062 \r\nL 317.315625 195.104062 \r\n\" style=\"fill:none;stroke:#1f77b4;stroke-linecap:square;stroke-width:1.5;\"/>\r\n    </g>\r\n    <g id=\"line2d_15\"/>\r\n    <g id=\"text_12\">\r\n     <!-- acc -->\r\n     <g transform=\"translate(325.315625 198.604062)scale(0.1 -0.1)\">\r\n      <defs>\r\n       <path d=\"M 34.28125 27.484375 \r\nQ 23.390625 27.484375 19.1875 25 \r\nQ 14.984375 22.515625 14.984375 16.5 \r\nQ 14.984375 11.71875 18.140625 8.90625 \r\nQ 21.296875 6.109375 26.703125 6.109375 \r\nQ 34.1875 6.109375 38.703125 11.40625 \r\nQ 43.21875 16.703125 43.21875 25.484375 \r\nL 43.21875 27.484375 \r\nz\r\nM 52.203125 31.203125 \r\nL 52.203125 0 \r\nL 43.21875 0 \r\nL 43.21875 8.296875 \r\nQ 40.140625 3.328125 35.546875 0.953125 \r\nQ 30.953125 -1.421875 24.3125 -1.421875 \r\nQ 15.921875 -1.421875 10.953125 3.296875 \r\nQ 6 8.015625 6 15.921875 \r\nQ 6 25.140625 12.171875 29.828125 \r\nQ 18.359375 34.515625 30.609375 34.515625 \r\nL 43.21875 34.515625 \r\nL 43.21875 35.40625 \r\nQ 43.21875 41.609375 39.140625 45 \r\nQ 35.0625 48.390625 27.6875 48.390625 \r\nQ 23 48.390625 18.546875 47.265625 \r\nQ 14.109375 46.140625 10.015625 43.890625 \r\nL 10.015625 52.203125 \r\nQ 14.9375 54.109375 19.578125 55.046875 \r\nQ 24.21875 56 28.609375 56 \r\nQ 40.484375 56 46.34375 49.84375 \r\nQ 52.203125 43.703125 52.203125 31.203125 \r\nz\r\n\" id=\"DejaVuSans-97\"/>\r\n       <path d=\"M 48.78125 52.59375 \r\nL 48.78125 44.1875 \r\nQ 44.96875 46.296875 41.140625 47.34375 \r\nQ 37.3125 48.390625 33.40625 48.390625 \r\nQ 24.65625 48.390625 19.8125 42.84375 \r\nQ 14.984375 37.3125 14.984375 27.296875 \r\nQ 14.984375 17.28125 19.8125 11.734375 \r\nQ 24.65625 6.203125 33.40625 6.203125 \r\nQ 37.3125 6.203125 41.140625 7.25 \r\nQ 44.96875 8.296875 48.78125 10.40625 \r\nL 48.78125 2.09375 \r\nQ 45.015625 0.34375 40.984375 -0.53125 \r\nQ 36.96875 -1.421875 32.421875 -1.421875 \r\nQ 20.0625 -1.421875 12.78125 6.34375 \r\nQ 5.515625 14.109375 5.515625 27.296875 \r\nQ 5.515625 40.671875 12.859375 48.328125 \r\nQ 20.21875 56 33.015625 56 \r\nQ 37.15625 56 41.109375 55.140625 \r\nQ 45.0625 54.296875 48.78125 52.59375 \r\nz\r\n\" id=\"DejaVuSans-99\"/>\r\n      </defs>\r\n      <use xlink:href=\"#DejaVuSans-97\"/>\r\n      <use x=\"61.279297\" xlink:href=\"#DejaVuSans-99\"/>\r\n      <use x=\"116.259766\" xlink:href=\"#DejaVuSans-99\"/>\r\n     </g>\r\n    </g>\r\n    <g id=\"line2d_16\">\r\n     <path d=\"M 297.315625 209.782187 \r\nL 317.315625 209.782187 \r\n\" style=\"fill:none;stroke:#ff7f0e;stroke-linecap:square;stroke-width:1.5;\"/>\r\n    </g>\r\n    <g id=\"line2d_17\"/>\r\n    <g id=\"text_13\">\r\n     <!-- val_acc -->\r\n     <g transform=\"translate(325.315625 213.282187)scale(0.1 -0.1)\">\r\n      <defs>\r\n       <path d=\"M 2.984375 54.6875 \r\nL 12.5 54.6875 \r\nL 29.59375 8.796875 \r\nL 46.6875 54.6875 \r\nL 56.203125 54.6875 \r\nL 35.6875 0 \r\nL 23.484375 0 \r\nz\r\n\" id=\"DejaVuSans-118\"/>\r\n       <path d=\"M 9.421875 75.984375 \r\nL 18.40625 75.984375 \r\nL 18.40625 0 \r\nL 9.421875 0 \r\nz\r\n\" id=\"DejaVuSans-108\"/>\r\n       <path d=\"M 50.984375 -16.609375 \r\nL 50.984375 -23.578125 \r\nL -0.984375 -23.578125 \r\nL -0.984375 -16.609375 \r\nz\r\n\" id=\"DejaVuSans-95\"/>\r\n      </defs>\r\n      <use xlink:href=\"#DejaVuSans-118\"/>\r\n      <use x=\"59.179688\" xlink:href=\"#DejaVuSans-97\"/>\r\n      <use x=\"120.458984\" xlink:href=\"#DejaVuSans-108\"/>\r\n      <use x=\"148.242188\" xlink:href=\"#DejaVuSans-95\"/>\r\n      <use x=\"198.242188\" xlink:href=\"#DejaVuSans-97\"/>\r\n      <use x=\"259.521484\" xlink:href=\"#DejaVuSans-99\"/>\r\n      <use x=\"314.501953\" xlink:href=\"#DejaVuSans-99\"/>\r\n     </g>\r\n    </g>\r\n   </g>\r\n  </g>\r\n </g>\r\n <defs>\r\n  <clipPath id=\"p49f38a039b\">\r\n   <rect height=\"217.44\" width=\"334.8\" x=\"36.465625\" y=\"7.2\"/>\r\n  </clipPath>\r\n </defs>\r\n</svg>\r\n",
      "image/png": "[encoded data removed]"
     },
     "metadata": {
      "needs_background": "light"
     }
    }
   ],
   "source": [
    "# Plot the accuracy too\n",
    "plt.plot(training_history.history['accuracy'], label='acc')\n",
    "plt.plot(training_history.history['val_accuracy'], label='val_acc')\n",
    "plt.legend()"
   ]
  },
  {
   "source": [
    "# Making Predictions"
   ],
   "cell_type": "markdown",
   "metadata": {}
  },
  {
   "cell_type": "code",
   "execution_count": 14,
   "metadata": {},
   "outputs": [
    {
     "output_type": "stream",
     "name": "stdout",
     "text": [
      "[[3.38523462e-02]\n [7.25661891e-07]\n [9.99343932e-01]\n [9.99062359e-01]\n [8.69389344e-03]\n [9.83208239e-01]\n [8.90832603e-01]\n [9.99370396e-01]\n [9.99793708e-01]\n [9.99732792e-01]\n [9.99975443e-01]\n [9.92733598e-01]\n [4.40984756e-01]\n [9.99952555e-01]\n [2.61616748e-04]\n [9.99841213e-01]\n [9.79695797e-01]\n [9.89099264e-01]\n [9.99988317e-01]\n [9.99654531e-01]\n [9.99977589e-01]\n [3.83441161e-17]\n [9.96755898e-01]\n [7.70280778e-01]\n [9.99951363e-01]\n [6.48661866e-04]\n [9.89459634e-01]\n [5.82532156e-12]\n [9.99071479e-01]\n [3.20975573e-07]\n [9.99810278e-01]\n [8.28927040e-01]\n [1.52820878e-09]\n [2.21269119e-07]\n [1.00000000e+00]\n [1.21605257e-03]\n [9.99970555e-01]\n [7.60006011e-01]\n [2.61083227e-02]\n [1.78303733e-01]\n [1.54966074e-05]\n [9.49522147e-17]\n [3.12271259e-05]\n [9.99999762e-01]\n [9.99999881e-01]\n [9.99970078e-01]\n [7.34248340e-01]\n [1.17512236e-07]\n [9.99988437e-01]\n [5.48797786e-01]\n [9.77920949e-01]\n [9.97320473e-01]\n [5.59788272e-02]\n [9.96558368e-01]\n [9.98655438e-01]\n [1.30019065e-10]\n [3.68893960e-09]\n [2.63532430e-01]\n [9.54987705e-01]\n [7.85411239e-01]\n [3.64186817e-05]\n [8.59096825e-01]\n [9.99991655e-01]\n [8.72479320e-01]\n [9.98341441e-01]\n [6.40674075e-03]\n [9.19601632e-07]\n [9.99855280e-01]\n [9.98965859e-01]\n [9.76493908e-09]\n [9.99860883e-01]\n [3.96962392e-08]\n [9.99972701e-01]\n [9.54416513e-01]\n [9.99999285e-01]\n [9.74356830e-01]\n [9.99344289e-01]\n [9.99997258e-01]\n [9.99830365e-01]\n [9.49973404e-01]\n [9.99976158e-01]\n [3.59834260e-08]\n [9.89722073e-01]\n [9.92498457e-01]\n [9.99962449e-01]\n [9.99991655e-01]\n [5.60270746e-05]\n [2.32943386e-01]\n [9.99991417e-01]\n [8.33368557e-34]\n [1.06449918e-10]\n [9.92904006e-07]\n [9.99178231e-01]\n [9.99955535e-01]\n [9.96164680e-01]\n [2.69205903e-12]\n [9.98657346e-01]\n [1.31805921e-02]\n [1.21684992e-04]\n [9.99994397e-01]\n [1.92646276e-05]\n [1.11953910e-11]\n [9.99293089e-01]\n [1.13690522e-10]\n [9.95763421e-01]\n [9.99804676e-01]\n [1.41835849e-12]\n [5.29211775e-07]\n [9.99804795e-01]\n [2.84895632e-05]\n [9.99123871e-01]\n [9.99972582e-01]\n [1.89140512e-04]\n [1.62124567e-18]\n [1.40267812e-05]\n [9.99954224e-01]\n [9.80691910e-01]\n [9.99948978e-01]\n [1.11387455e-09]\n [9.97746646e-01]\n [9.99998093e-01]\n [9.21467436e-05]\n [9.91427422e-01]\n [9.95782137e-01]\n [9.99475658e-01]\n [1.81393437e-02]\n [4.41935670e-04]\n [5.06657416e-16]\n [4.59217944e-08]\n [8.95024300e-01]\n [7.23026216e-01]\n [9.99694467e-01]\n [9.99995351e-01]\n [9.80398595e-01]\n [9.20984149e-01]\n [5.70636149e-03]\n [8.96029174e-01]\n [9.97545063e-01]\n [4.76747974e-10]\n [9.61911500e-01]\n [1.21077715e-09]\n [2.26928860e-01]\n [6.37666497e-09]\n [2.35078073e-08]\n [9.99911308e-01]\n [9.91279662e-01]\n [2.64962763e-01]\n [9.98691142e-01]\n [4.34479221e-13]\n [2.22269207e-08]\n [4.09144741e-06]\n [7.62571659e-08]\n [9.99980211e-01]\n [1.00000000e+00]\n [9.99983668e-01]\n [9.65811491e-01]\n [1.15690827e-05]\n [9.98975754e-01]\n [9.99530792e-01]\n [2.79977173e-01]\n [9.97047246e-01]\n [9.12817955e-01]\n [9.99785364e-01]\n [2.16666684e-01]\n [3.65237398e-12]\n [9.99924302e-01]\n [9.99642015e-01]\n [9.41021979e-01]\n [9.99427974e-01]\n [2.50644196e-04]\n [9.99998808e-01]\n [2.42967933e-01]\n [9.99574125e-01]\n [1.02494187e-05]\n [6.96671665e-01]\n [9.34466124e-01]\n [9.98911142e-01]\n [7.07498327e-09]\n [9.99928713e-01]\n [9.99999762e-01]\n [1.55819073e-01]\n [9.46742669e-02]\n [8.61523151e-01]\n [7.49520632e-03]\n [9.99998450e-01]\n [8.43286693e-01]\n [9.99985933e-01]\n [9.99983549e-01]]\n"
     ]
    }
   ],
   "source": [
    "P = model.predict(X_test)\n",
    "print(P) # they are outputs of the sigmoid, interpreted as probabilities p(y = 1 | x)"
   ]
  },
  {
   "cell_type": "code",
   "execution_count": 15,
   "metadata": {},
   "outputs": [
    {
     "output_type": "stream",
     "name": "stdout",
     "text": [
      "[0. 0. 1. 1. 0. 1. 1. 1. 1. 1. 1. 1. 0. 1. 0. 1. 1. 1. 1. 1. 1. 0. 1. 1.\n 1. 0. 1. 0. 1. 0. 1. 1. 0. 0. 1. 0. 1. 1. 0. 0. 0. 0. 0. 1. 1. 1. 1. 0.\n 1. 1. 1. 1. 0. 1. 1. 0. 0. 0. 1. 1. 0. 1. 1. 1. 1. 0. 0. 1. 1. 0. 1. 0.\n 1. 1. 1. 1. 1. 1. 1. 1. 1. 0. 1. 1. 1. 1. 0. 0. 1. 0. 0. 0. 1. 1. 1. 0.\n 1. 0. 0. 1. 0. 0. 1. 0. 1. 1. 0. 0. 1. 0. 1. 1. 0. 0. 0. 1. 1. 1. 0. 1.\n 1. 0. 1. 1. 1. 0. 0. 0. 0. 1. 1. 1. 1. 1. 1. 0. 1. 1. 0. 1. 0. 0. 0. 0.\n 1. 1. 0. 1. 0. 0. 0. 0. 1. 1. 1. 1. 0. 1. 1. 0. 1. 1. 1. 0. 0. 1. 1. 1.\n 1. 0. 1. 0. 1. 0. 1. 1. 1. 0. 1. 1. 0. 0. 1. 0. 1. 1. 1. 1.]\n"
     ]
    }
   ],
   "source": [
    "# Round to get the actural predictions\n",
    "# Note: has to be flattened since the targets are size (N,) while the predictions are size (N,1)\n",
    "import numpy as np\n",
    "P = np.round(P).flatten()\n",
    "print(P)"
   ]
  },
  {
   "cell_type": "code",
   "execution_count": 16,
   "metadata": {},
   "outputs": [
    {
     "output_type": "stream",
     "name": "stdout",
     "text": [
      "Manually calculated accurasy 0.9680851063829787\n",
      "6/6 [==============================] - 0s 1ms/step - loss: 0.0831 - accuracy: 0.9681\n",
      "Evaluate output: [0.08314289897680283, 0.9680851101875305]\n"
     ]
    }
   ],
   "source": [
    "# Calculate the accuracy, compare it to evaluate() output\n",
    "print(\"Manually calculated accurasy\", np.mean(P == y_test))\n",
    "print(\"Evaluate output:\", model.evaluate(X_test, y_test))"
   ]
  },
  {
   "source": [
    "#  Saving a model\n"
   ],
   "cell_type": "markdown",
   "metadata": {}
  },
  {
   "cell_type": "code",
   "execution_count": 17,
   "metadata": {},
   "outputs": [],
   "source": [
    "model.save('linear-classifier.h5')"
   ]
  },
  {
   "cell_type": "code",
   "execution_count": 18,
   "metadata": {},
   "outputs": [
    {
     "output_type": "stream",
     "name": "stdout",
     "text": [
      "[<tensorflow.python.keras.layers.core.Dense object at 0x000001CC8FD66400>]\n",
      "6/6 [==============================] - 0s 1ms/step - loss: 0.0831 - accuracy: 0.9681\n"
     ]
    },
    {
     "output_type": "execute_result",
     "data": {
      "text/plain": [
       "[0.08314289897680283, 0.9680851101875305]"
      ]
     },
     "metadata": {},
     "execution_count": 18
    }
   ],
   "source": [
    "# Let's load the model and confirm that it still works\n",
    "model = tf.keras.models.load_model('linear-classifier.h5')\n",
    "print(model.layers)\n",
    "model.evaluate(X_test, y_test)"
   ]
  },
  {
   "cell_type": "code",
   "execution_count": null,
   "metadata": {},
   "outputs": [],
   "source": []
  }
 ]
}