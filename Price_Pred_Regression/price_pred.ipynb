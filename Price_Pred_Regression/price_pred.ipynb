{
 "metadata": {
  "language_info": {
   "codemirror_mode": {
    "name": "ipython",
    "version": 3
   },
   "file_extension": ".py",
   "mimetype": "text/x-python",
   "name": "python",
   "nbconvert_exporter": "python",
   "pygments_lexer": "ipython3",
   "version": "3.9.4"
  },
  "orig_nbformat": 2,
  "kernelspec": {
   "name": "python394jvsc74a57bd07044b324f88c4208d441c8fce3c8f6c454026eeaf7e810a2852062e3590255dc",
   "display_name": "Python 3.9.4 64-bit ('tf': conda)"
  },
  "metadata": {
   "interpreter": {
    "hash": "7044b324f88c4208d441c8fce3c8f6c454026eeaf7e810a2852062e3590255dc"
   }
  }
 },
 "nbformat": 4,
 "nbformat_minor": 2,
 "cells": [
  {
   "source": [
    "# Predicting the Sale Price of Bulldozers using ML\n",
    "\n",
    "In this notebook, we're going to go through an example ML project with the goal of predicting the sale price of Bulldozers\n",
    "## 1. Problem definition\n",
    "> How well can we predict the future sale price of a Bulldozers, given its characteristics and previous examples of how much similar Bulldozers have been sold for?\n",
    "\n",
    "## 2. Data\n",
    "\n",
    "* Train.csv is the training set, which contains data through the end of 2011.\n",
    "* Valid.csv is the validation set, which contains data from January 1, 2012 - April 30, 2012 You make predictions on this set throughout the majority of the competition. Your score on this set is used to create the public leaderboard.\n",
    "* Test.csv is the test set, which won't be released until the last week of the competition. It contains data from May 1, 2012 - November 2012. Your score on the test set determines your final rank for the competition.\n",
    "\n",
    "\n",
    "## 3. Evaluation\n",
    "\n",
    "The evaluation metric for this competition is the RMSLE (root mean squared log error) between the actual and prdicted auction prices. See more (https://www.kaggle.com/c/bluebook-for-bulldozers/overview/evaluation)\n",
    "\n",
    "**Note:*** The goal for most regression evaluation metrics is to minimizee the error. For example, our goal for this project will be to build a ML model which minimises RMSLE.\n",
    "\n",
    "\n",
    "## 4. Features\n",
    "\n",
    "Kaggle provides a data dictionary detailing all of the features of the dataset. You can view this data dictionary in porject folder: .\\Data Dictionary.xlsx\n"
   ],
   "cell_type": "markdown",
   "metadata": {}
  },
  {
   "cell_type": "code",
   "execution_count": 29,
   "metadata": {},
   "outputs": [],
   "source": [
    "import numpy as np\n",
    "import pandas as pd\n",
    "import matplotlib.pyplot as plt\n",
    "import sklearn"
   ]
  },
  {
   "cell_type": "code",
   "execution_count": 43,
   "metadata": {},
   "outputs": [
    {
     "output_type": "stream",
     "name": "stderr",
     "text": [
      "C:\\ProgramData\\Anaconda3\\envs\\tf\\lib\\site-packages\\IPython\\core\\interactiveshell.py:3165: DtypeWarning: Columns (13,39,40,41) have mixed types.Specify dtype option on import or set low_memory=False.\n  has_raised = await self.run_ast_nodes(code_ast.body, cell_name,\n"
     ]
    }
   ],
   "source": [
    "# Import training and validation sets\n",
    "df = pd.read_csv('../bluebook-for-bulldozers/TrainAndValid.csv')"
   ]
  },
  {
   "cell_type": "code",
   "execution_count": 44,
   "metadata": {},
   "outputs": [
    {
     "output_type": "stream",
     "name": "stdout",
     "text": [
      "<class 'pandas.core.frame.DataFrame'>\nRangeIndex: 412698 entries, 0 to 412697\nData columns (total 53 columns):\n #   Column                    Non-Null Count   Dtype  \n---  ------                    --------------   -----  \n 0   SalesID                   412698 non-null  int64  \n 1   SalePrice                 412698 non-null  float64\n 2   MachineID                 412698 non-null  int64  \n 3   ModelID                   412698 non-null  int64  \n 4   datasource                412698 non-null  int64  \n 5   auctioneerID              392562 non-null  float64\n 6   YearMade                  412698 non-null  int64  \n 7   MachineHoursCurrentMeter  147504 non-null  float64\n 8   UsageBand                 73670 non-null   object \n 9   saledate                  412698 non-null  object \n 10  fiModelDesc               412698 non-null  object \n 11  fiBaseModel               412698 non-null  object \n 12  fiSecondaryDesc           271971 non-null  object \n 13  fiModelSeries             58667 non-null   object \n 14  fiModelDescriptor         74816 non-null   object \n 15  ProductSize               196093 non-null  object \n 16  fiProductClassDesc        412698 non-null  object \n 17  state                     412698 non-null  object \n 18  ProductGroup              412698 non-null  object \n 19  ProductGroupDesc          412698 non-null  object \n 20  Drive_System              107087 non-null  object \n 21  Enclosure                 412364 non-null  object \n 22  Forks                     197715 non-null  object \n 23  Pad_Type                  81096 non-null   object \n 24  Ride_Control              152728 non-null  object \n 25  Stick                     81096 non-null   object \n 26  Transmission              188007 non-null  object \n 27  Turbocharged              81096 non-null   object \n 28  Blade_Extension           25983 non-null   object \n 29  Blade_Width               25983 non-null   object \n 30  Enclosure_Type            25983 non-null   object \n 31  Engine_Horsepower         25983 non-null   object \n 32  Hydraulics                330133 non-null  object \n 33  Pushblock                 25983 non-null   object \n 34  Ripper                    106945 non-null  object \n 35  Scarifier                 25994 non-null   object \n 36  Tip_Control               25983 non-null   object \n 37  Tire_Size                 97638 non-null   object \n 38  Coupler                   220679 non-null  object \n 39  Coupler_System            44974 non-null   object \n 40  Grouser_Tracks            44875 non-null   object \n 41  Hydraulics_Flow           44875 non-null   object \n 42  Track_Type                102193 non-null  object \n 43  Undercarriage_Pad_Width   102916 non-null  object \n 44  Stick_Length              102261 non-null  object \n 45  Thumb                     102332 non-null  object \n 46  Pattern_Changer           102261 non-null  object \n 47  Grouser_Type              102193 non-null  object \n 48  Backhoe_Mounting          80712 non-null   object \n 49  Blade_Type                81875 non-null   object \n 50  Travel_Controls           81877 non-null   object \n 51  Differential_Type         71564 non-null   object \n 52  Steering_Controls         71522 non-null   object \ndtypes: float64(3), int64(5), object(45)\nmemory usage: 166.9+ MB\n"
     ]
    }
   ],
   "source": [
    "df.info()"
   ]
  },
  {
   "cell_type": "code",
   "execution_count": 45,
   "metadata": {},
   "outputs": [
    {
     "output_type": "execute_result",
     "data": {
      "text/plain": [
       "SalesID                          0\n",
       "SalePrice                        0\n",
       "MachineID                        0\n",
       "ModelID                          0\n",
       "datasource                       0\n",
       "auctioneerID                 20136\n",
       "YearMade                         0\n",
       "MachineHoursCurrentMeter    265194\n",
       "UsageBand                   339028\n",
       "saledate                         0\n",
       "fiModelDesc                      0\n",
       "fiBaseModel                      0\n",
       "fiSecondaryDesc             140727\n",
       "fiModelSeries               354031\n",
       "fiModelDescriptor           337882\n",
       "ProductSize                 216605\n",
       "fiProductClassDesc               0\n",
       "state                            0\n",
       "ProductGroup                     0\n",
       "ProductGroupDesc                 0\n",
       "Drive_System                305611\n",
       "Enclosure                      334\n",
       "Forks                       214983\n",
       "Pad_Type                    331602\n",
       "Ride_Control                259970\n",
       "Stick                       331602\n",
       "Transmission                224691\n",
       "Turbocharged                331602\n",
       "Blade_Extension             386715\n",
       "Blade_Width                 386715\n",
       "Enclosure_Type              386715\n",
       "Engine_Horsepower           386715\n",
       "Hydraulics                   82565\n",
       "Pushblock                   386715\n",
       "Ripper                      305753\n",
       "Scarifier                   386704\n",
       "Tip_Control                 386715\n",
       "Tire_Size                   315060\n",
       "Coupler                     192019\n",
       "Coupler_System              367724\n",
       "Grouser_Tracks              367823\n",
       "Hydraulics_Flow             367823\n",
       "Track_Type                  310505\n",
       "Undercarriage_Pad_Width     309782\n",
       "Stick_Length                310437\n",
       "Thumb                       310366\n",
       "Pattern_Changer             310437\n",
       "Grouser_Type                310505\n",
       "Backhoe_Mounting            331986\n",
       "Blade_Type                  330823\n",
       "Travel_Controls             330821\n",
       "Differential_Type           341134\n",
       "Steering_Controls           341176\n",
       "dtype: int64"
      ]
     },
     "metadata": {},
     "execution_count": 45
    }
   ],
   "source": [
    "df.isna().sum()"
   ]
  },
  {
   "cell_type": "code",
   "execution_count": 46,
   "metadata": {},
   "outputs": [
    {
     "output_type": "execute_result",
     "data": {
      "text/plain": [
       "<AxesSubplot:ylabel='Frequency'>"
      ]
     },
     "metadata": {},
     "execution_count": 46
    },
    {
     "output_type": "display_data",
     "data": {
      "text/plain": "<Figure size 432x288 with 1 Axes>",
      "image/svg+xml": "<?xml version=\"1.0\" encoding=\"utf-8\" standalone=\"no\"?>\r\n<!DOCTYPE svg PUBLIC \"-//W3C//DTD SVG 1.1//EN\"\r\n  \"http://www.w3.org/Graphics/SVG/1.1/DTD/svg11.dtd\">\r\n<!-- Created with matplotlib (https://matplotlib.org/) -->\r\n<svg height=\"248.518125pt\" version=\"1.1\" viewBox=\"0 0 408.053125 248.518125\" width=\"408.053125pt\" xmlns=\"http://www.w3.org/2000/svg\" xmlns:xlink=\"http://www.w3.org/1999/xlink\">\r\n <metadata>\r\n  <rdf:RDF xmlns:cc=\"http://creativecommons.org/ns#\" xmlns:dc=\"http://purl.org/dc/elements/1.1/\" xmlns:rdf=\"http://www.w3.org/1999/02/22-rdf-syntax-ns#\">\r\n   <cc:Work>\r\n    <dc:type rdf:resource=\"http://purl.org/dc/dcmitype/StillImage\"/>\r\n    <dc:date>2021-05-01T12:06:06.653805</dc:date>\r\n    <dc:format>image/svg+xml</dc:format>\r\n    <dc:creator>\r\n     <cc:Agent>\r\n      <dc:title>Matplotlib v3.3.4, https://matplotlib.org/</dc:title>\r\n     </cc:Agent>\r\n    </dc:creator>\r\n   </cc:Work>\r\n  </rdf:RDF>\r\n </metadata>\r\n <defs>\r\n  <style type=\"text/css\">*{stroke-linecap:butt;stroke-linejoin:round;}</style>\r\n </defs>\r\n <g id=\"figure_1\">\r\n  <g id=\"patch_1\">\r\n   <path d=\"M 0 248.518125 \r\nL 408.053125 248.518125 \r\nL 408.053125 0 \r\nL 0 0 \r\nz\r\n\" style=\"fill:none;\"/>\r\n  </g>\r\n  <g id=\"axes_1\">\r\n   <g id=\"patch_2\">\r\n    <path d=\"M 66.053125 224.64 \r\nL 400.853125 224.64 \r\nL 400.853125 7.2 \r\nL 66.053125 7.2 \r\nz\r\n\" style=\"fill:#ffffff;\"/>\r\n   </g>\r\n   <g id=\"patch_3\">\r\n    <path clip-path=\"url(#p182d6a8152)\" d=\"M 81.271307 224.64 \r\nL 111.70767 224.64 \r\nL 111.70767 17.554286 \r\nL 81.271307 17.554286 \r\nz\r\n\" style=\"fill:#1f77b4;\"/>\r\n   </g>\r\n   <g id=\"patch_4\">\r\n    <path clip-path=\"url(#p182d6a8152)\" d=\"M 111.70767 224.64 \r\nL 142.144034 224.64 \r\nL 142.144034 61.493895 \r\nL 111.70767 61.493895 \r\nz\r\n\" style=\"fill:#1f77b4;\"/>\r\n   </g>\r\n   <g id=\"patch_5\">\r\n    <path clip-path=\"url(#p182d6a8152)\" d=\"M 142.144034 224.64 \r\nL 172.580398 224.64 \r\nL 172.580398 145.136105 \r\nL 142.144034 145.136105 \r\nz\r\n\" style=\"fill:#1f77b4;\"/>\r\n   </g>\r\n   <g id=\"patch_6\">\r\n    <path clip-path=\"url(#p182d6a8152)\" d=\"M 172.580398 224.64 \r\nL 203.016761 224.64 \r\nL 203.016761 180.167166 \r\nL 172.580398 180.167166 \r\nz\r\n\" style=\"fill:#1f77b4;\"/>\r\n   </g>\r\n   <g id=\"patch_7\">\r\n    <path clip-path=\"url(#p182d6a8152)\" d=\"M 203.016761 224.64 \r\nL 233.453125 224.64 \r\nL 233.453125 193.282567 \r\nL 203.016761 193.282567 \r\nz\r\n\" style=\"fill:#1f77b4;\"/>\r\n   </g>\r\n   <g id=\"patch_8\">\r\n    <path clip-path=\"url(#p182d6a8152)\" d=\"M 233.453125 224.64 \r\nL 263.889489 224.64 \r\nL 263.889489 206.170423 \r\nL 233.453125 206.170423 \r\nz\r\n\" style=\"fill:#1f77b4;\"/>\r\n   </g>\r\n   <g id=\"patch_9\">\r\n    <path clip-path=\"url(#p182d6a8152)\" d=\"M 263.889489 224.64 \r\nL 294.325852 224.64 \r\nL 294.325852 211.850839 \r\nL 263.889489 211.850839 \r\nz\r\n\" style=\"fill:#1f77b4;\"/>\r\n   </g>\r\n   <g id=\"patch_10\">\r\n    <path clip-path=\"url(#p182d6a8152)\" d=\"M 294.325852 224.64 \r\nL 324.762216 224.64 \r\nL 324.762216 219.315981 \r\nL 294.325852 219.315981 \r\nz\r\n\" style=\"fill:#1f77b4;\"/>\r\n   </g>\r\n   <g id=\"patch_11\">\r\n    <path clip-path=\"url(#p182d6a8152)\" d=\"M 324.762216 224.64 \r\nL 355.19858 224.64 \r\nL 355.19858 221.849139 \r\nL 324.762216 221.849139 \r\nz\r\n\" style=\"fill:#1f77b4;\"/>\r\n   </g>\r\n   <g id=\"patch_12\">\r\n    <path clip-path=\"url(#p182d6a8152)\" d=\"M 355.19858 224.64 \r\nL 385.634943 224.64 \r\nL 385.634943 223.871005 \r\nL 355.19858 223.871005 \r\nz\r\n\" style=\"fill:#1f77b4;\"/>\r\n   </g>\r\n   <g id=\"matplotlib.axis_1\">\r\n    <g id=\"xtick_1\">\r\n     <g id=\"line2d_1\">\r\n      <defs>\r\n       <path d=\"M 0 0 \r\nL 0 3.5 \r\n\" id=\"mb5dad9442b\" style=\"stroke:#000000;stroke-width:0.8;\"/>\r\n      </defs>\r\n      <g>\r\n       <use style=\"stroke:#000000;stroke-width:0.8;\" x=\"70.737775\" xlink:href=\"#mb5dad9442b\" y=\"224.64\"/>\r\n      </g>\r\n     </g>\r\n     <g id=\"text_1\">\r\n      <!-- 0 -->\r\n      <g transform=\"translate(67.556525 239.238438)scale(0.1 -0.1)\">\r\n       <defs>\r\n        <path d=\"M 31.78125 66.40625 \r\nQ 24.171875 66.40625 20.328125 58.90625 \r\nQ 16.5 51.421875 16.5 36.375 \r\nQ 16.5 21.390625 20.328125 13.890625 \r\nQ 24.171875 6.390625 31.78125 6.390625 \r\nQ 39.453125 6.390625 43.28125 13.890625 \r\nQ 47.125 21.390625 47.125 36.375 \r\nQ 47.125 51.421875 43.28125 58.90625 \r\nQ 39.453125 66.40625 31.78125 66.40625 \r\nz\r\nM 31.78125 74.21875 \r\nQ 44.046875 74.21875 50.515625 64.515625 \r\nQ 56.984375 54.828125 56.984375 36.375 \r\nQ 56.984375 17.96875 50.515625 8.265625 \r\nQ 44.046875 -1.421875 31.78125 -1.421875 \r\nQ 19.53125 -1.421875 13.0625 8.265625 \r\nQ 6.59375 17.96875 6.59375 36.375 \r\nQ 6.59375 54.828125 13.0625 64.515625 \r\nQ 19.53125 74.21875 31.78125 74.21875 \r\nz\r\n\" id=\"DejaVuSans-48\"/>\r\n       </defs>\r\n       <use xlink:href=\"#DejaVuSans-48\"/>\r\n      </g>\r\n     </g>\r\n    </g>\r\n    <g id=\"xtick_2\">\r\n     <g id=\"line2d_2\">\r\n      <g>\r\n       <use style=\"stroke:#000000;stroke-width:0.8;\" x=\"115.089489\" xlink:href=\"#mb5dad9442b\" y=\"224.64\"/>\r\n      </g>\r\n     </g>\r\n     <g id=\"text_2\">\r\n      <!-- 20000 -->\r\n      <g transform=\"translate(99.183239 239.238438)scale(0.1 -0.1)\">\r\n       <defs>\r\n        <path d=\"M 19.1875 8.296875 \r\nL 53.609375 8.296875 \r\nL 53.609375 0 \r\nL 7.328125 0 \r\nL 7.328125 8.296875 \r\nQ 12.9375 14.109375 22.625 23.890625 \r\nQ 32.328125 33.6875 34.8125 36.53125 \r\nQ 39.546875 41.84375 41.421875 45.53125 \r\nQ 43.3125 49.21875 43.3125 52.78125 \r\nQ 43.3125 58.59375 39.234375 62.25 \r\nQ 35.15625 65.921875 28.609375 65.921875 \r\nQ 23.96875 65.921875 18.8125 64.3125 \r\nQ 13.671875 62.703125 7.8125 59.421875 \r\nL 7.8125 69.390625 \r\nQ 13.765625 71.78125 18.9375 73 \r\nQ 24.125 74.21875 28.421875 74.21875 \r\nQ 39.75 74.21875 46.484375 68.546875 \r\nQ 53.21875 62.890625 53.21875 53.421875 \r\nQ 53.21875 48.921875 51.53125 44.890625 \r\nQ 49.859375 40.875 45.40625 35.40625 \r\nQ 44.1875 33.984375 37.640625 27.21875 \r\nQ 31.109375 20.453125 19.1875 8.296875 \r\nz\r\n\" id=\"DejaVuSans-50\"/>\r\n       </defs>\r\n       <use xlink:href=\"#DejaVuSans-50\"/>\r\n       <use x=\"63.623047\" xlink:href=\"#DejaVuSans-48\"/>\r\n       <use x=\"127.246094\" xlink:href=\"#DejaVuSans-48\"/>\r\n       <use x=\"190.869141\" xlink:href=\"#DejaVuSans-48\"/>\r\n       <use x=\"254.492188\" xlink:href=\"#DejaVuSans-48\"/>\r\n      </g>\r\n     </g>\r\n    </g>\r\n    <g id=\"xtick_3\">\r\n     <g id=\"line2d_3\">\r\n      <g>\r\n       <use style=\"stroke:#000000;stroke-width:0.8;\" x=\"159.441202\" xlink:href=\"#mb5dad9442b\" y=\"224.64\"/>\r\n      </g>\r\n     </g>\r\n     <g id=\"text_3\">\r\n      <!-- 40000 -->\r\n      <g transform=\"translate(143.534952 239.238438)scale(0.1 -0.1)\">\r\n       <defs>\r\n        <path d=\"M 37.796875 64.3125 \r\nL 12.890625 25.390625 \r\nL 37.796875 25.390625 \r\nz\r\nM 35.203125 72.90625 \r\nL 47.609375 72.90625 \r\nL 47.609375 25.390625 \r\nL 58.015625 25.390625 \r\nL 58.015625 17.1875 \r\nL 47.609375 17.1875 \r\nL 47.609375 0 \r\nL 37.796875 0 \r\nL 37.796875 17.1875 \r\nL 4.890625 17.1875 \r\nL 4.890625 26.703125 \r\nz\r\n\" id=\"DejaVuSans-52\"/>\r\n       </defs>\r\n       <use xlink:href=\"#DejaVuSans-52\"/>\r\n       <use x=\"63.623047\" xlink:href=\"#DejaVuSans-48\"/>\r\n       <use x=\"127.246094\" xlink:href=\"#DejaVuSans-48\"/>\r\n       <use x=\"190.869141\" xlink:href=\"#DejaVuSans-48\"/>\r\n       <use x=\"254.492188\" xlink:href=\"#DejaVuSans-48\"/>\r\n      </g>\r\n     </g>\r\n    </g>\r\n    <g id=\"xtick_4\">\r\n     <g id=\"line2d_4\">\r\n      <g>\r\n       <use style=\"stroke:#000000;stroke-width:0.8;\" x=\"203.792916\" xlink:href=\"#mb5dad9442b\" y=\"224.64\"/>\r\n      </g>\r\n     </g>\r\n     <g id=\"text_4\">\r\n      <!-- 60000 -->\r\n      <g transform=\"translate(187.886666 239.238438)scale(0.1 -0.1)\">\r\n       <defs>\r\n        <path d=\"M 33.015625 40.375 \r\nQ 26.375 40.375 22.484375 35.828125 \r\nQ 18.609375 31.296875 18.609375 23.390625 \r\nQ 18.609375 15.53125 22.484375 10.953125 \r\nQ 26.375 6.390625 33.015625 6.390625 \r\nQ 39.65625 6.390625 43.53125 10.953125 \r\nQ 47.40625 15.53125 47.40625 23.390625 \r\nQ 47.40625 31.296875 43.53125 35.828125 \r\nQ 39.65625 40.375 33.015625 40.375 \r\nz\r\nM 52.59375 71.296875 \r\nL 52.59375 62.3125 \r\nQ 48.875 64.0625 45.09375 64.984375 \r\nQ 41.3125 65.921875 37.59375 65.921875 \r\nQ 27.828125 65.921875 22.671875 59.328125 \r\nQ 17.53125 52.734375 16.796875 39.40625 \r\nQ 19.671875 43.65625 24.015625 45.921875 \r\nQ 28.375 48.1875 33.59375 48.1875 \r\nQ 44.578125 48.1875 50.953125 41.515625 \r\nQ 57.328125 34.859375 57.328125 23.390625 \r\nQ 57.328125 12.15625 50.6875 5.359375 \r\nQ 44.046875 -1.421875 33.015625 -1.421875 \r\nQ 20.359375 -1.421875 13.671875 8.265625 \r\nQ 6.984375 17.96875 6.984375 36.375 \r\nQ 6.984375 53.65625 15.1875 63.9375 \r\nQ 23.390625 74.21875 37.203125 74.21875 \r\nQ 40.921875 74.21875 44.703125 73.484375 \r\nQ 48.484375 72.75 52.59375 71.296875 \r\nz\r\n\" id=\"DejaVuSans-54\"/>\r\n       </defs>\r\n       <use xlink:href=\"#DejaVuSans-54\"/>\r\n       <use x=\"63.623047\" xlink:href=\"#DejaVuSans-48\"/>\r\n       <use x=\"127.246094\" xlink:href=\"#DejaVuSans-48\"/>\r\n       <use x=\"190.869141\" xlink:href=\"#DejaVuSans-48\"/>\r\n       <use x=\"254.492188\" xlink:href=\"#DejaVuSans-48\"/>\r\n      </g>\r\n     </g>\r\n    </g>\r\n    <g id=\"xtick_5\">\r\n     <g id=\"line2d_5\">\r\n      <g>\r\n       <use style=\"stroke:#000000;stroke-width:0.8;\" x=\"248.14463\" xlink:href=\"#mb5dad9442b\" y=\"224.64\"/>\r\n      </g>\r\n     </g>\r\n     <g id=\"text_5\">\r\n      <!-- 80000 -->\r\n      <g transform=\"translate(232.23838 239.238438)scale(0.1 -0.1)\">\r\n       <defs>\r\n        <path d=\"M 31.78125 34.625 \r\nQ 24.75 34.625 20.71875 30.859375 \r\nQ 16.703125 27.09375 16.703125 20.515625 \r\nQ 16.703125 13.921875 20.71875 10.15625 \r\nQ 24.75 6.390625 31.78125 6.390625 \r\nQ 38.8125 6.390625 42.859375 10.171875 \r\nQ 46.921875 13.96875 46.921875 20.515625 \r\nQ 46.921875 27.09375 42.890625 30.859375 \r\nQ 38.875 34.625 31.78125 34.625 \r\nz\r\nM 21.921875 38.8125 \r\nQ 15.578125 40.375 12.03125 44.71875 \r\nQ 8.5 49.078125 8.5 55.328125 \r\nQ 8.5 64.0625 14.71875 69.140625 \r\nQ 20.953125 74.21875 31.78125 74.21875 \r\nQ 42.671875 74.21875 48.875 69.140625 \r\nQ 55.078125 64.0625 55.078125 55.328125 \r\nQ 55.078125 49.078125 51.53125 44.71875 \r\nQ 48 40.375 41.703125 38.8125 \r\nQ 48.828125 37.15625 52.796875 32.3125 \r\nQ 56.78125 27.484375 56.78125 20.515625 \r\nQ 56.78125 9.90625 50.3125 4.234375 \r\nQ 43.84375 -1.421875 31.78125 -1.421875 \r\nQ 19.734375 -1.421875 13.25 4.234375 \r\nQ 6.78125 9.90625 6.78125 20.515625 \r\nQ 6.78125 27.484375 10.78125 32.3125 \r\nQ 14.796875 37.15625 21.921875 38.8125 \r\nz\r\nM 18.3125 54.390625 \r\nQ 18.3125 48.734375 21.84375 45.5625 \r\nQ 25.390625 42.390625 31.78125 42.390625 \r\nQ 38.140625 42.390625 41.71875 45.5625 \r\nQ 45.3125 48.734375 45.3125 54.390625 \r\nQ 45.3125 60.0625 41.71875 63.234375 \r\nQ 38.140625 66.40625 31.78125 66.40625 \r\nQ 25.390625 66.40625 21.84375 63.234375 \r\nQ 18.3125 60.0625 18.3125 54.390625 \r\nz\r\n\" id=\"DejaVuSans-56\"/>\r\n       </defs>\r\n       <use xlink:href=\"#DejaVuSans-56\"/>\r\n       <use x=\"63.623047\" xlink:href=\"#DejaVuSans-48\"/>\r\n       <use x=\"127.246094\" xlink:href=\"#DejaVuSans-48\"/>\r\n       <use x=\"190.869141\" xlink:href=\"#DejaVuSans-48\"/>\r\n       <use x=\"254.492188\" xlink:href=\"#DejaVuSans-48\"/>\r\n      </g>\r\n     </g>\r\n    </g>\r\n    <g id=\"xtick_6\">\r\n     <g id=\"line2d_6\">\r\n      <g>\r\n       <use style=\"stroke:#000000;stroke-width:0.8;\" x=\"292.496344\" xlink:href=\"#mb5dad9442b\" y=\"224.64\"/>\r\n      </g>\r\n     </g>\r\n     <g id=\"text_6\">\r\n      <!-- 100000 -->\r\n      <g transform=\"translate(273.408844 239.238438)scale(0.1 -0.1)\">\r\n       <defs>\r\n        <path d=\"M 12.40625 8.296875 \r\nL 28.515625 8.296875 \r\nL 28.515625 63.921875 \r\nL 10.984375 60.40625 \r\nL 10.984375 69.390625 \r\nL 28.421875 72.90625 \r\nL 38.28125 72.90625 \r\nL 38.28125 8.296875 \r\nL 54.390625 8.296875 \r\nL 54.390625 0 \r\nL 12.40625 0 \r\nz\r\n\" id=\"DejaVuSans-49\"/>\r\n       </defs>\r\n       <use xlink:href=\"#DejaVuSans-49\"/>\r\n       <use x=\"63.623047\" xlink:href=\"#DejaVuSans-48\"/>\r\n       <use x=\"127.246094\" xlink:href=\"#DejaVuSans-48\"/>\r\n       <use x=\"190.869141\" xlink:href=\"#DejaVuSans-48\"/>\r\n       <use x=\"254.492188\" xlink:href=\"#DejaVuSans-48\"/>\r\n       <use x=\"318.115234\" xlink:href=\"#DejaVuSans-48\"/>\r\n      </g>\r\n     </g>\r\n    </g>\r\n    <g id=\"xtick_7\">\r\n     <g id=\"line2d_7\">\r\n      <g>\r\n       <use style=\"stroke:#000000;stroke-width:0.8;\" x=\"336.848058\" xlink:href=\"#mb5dad9442b\" y=\"224.64\"/>\r\n      </g>\r\n     </g>\r\n     <g id=\"text_7\">\r\n      <!-- 120000 -->\r\n      <g transform=\"translate(317.760558 239.238438)scale(0.1 -0.1)\">\r\n       <use xlink:href=\"#DejaVuSans-49\"/>\r\n       <use x=\"63.623047\" xlink:href=\"#DejaVuSans-50\"/>\r\n       <use x=\"127.246094\" xlink:href=\"#DejaVuSans-48\"/>\r\n       <use x=\"190.869141\" xlink:href=\"#DejaVuSans-48\"/>\r\n       <use x=\"254.492188\" xlink:href=\"#DejaVuSans-48\"/>\r\n       <use x=\"318.115234\" xlink:href=\"#DejaVuSans-48\"/>\r\n      </g>\r\n     </g>\r\n    </g>\r\n    <g id=\"xtick_8\">\r\n     <g id=\"line2d_8\">\r\n      <g>\r\n       <use style=\"stroke:#000000;stroke-width:0.8;\" x=\"381.199772\" xlink:href=\"#mb5dad9442b\" y=\"224.64\"/>\r\n      </g>\r\n     </g>\r\n     <g id=\"text_8\">\r\n      <!-- 140000 -->\r\n      <g transform=\"translate(362.112272 239.238438)scale(0.1 -0.1)\">\r\n       <use xlink:href=\"#DejaVuSans-49\"/>\r\n       <use x=\"63.623047\" xlink:href=\"#DejaVuSans-52\"/>\r\n       <use x=\"127.246094\" xlink:href=\"#DejaVuSans-48\"/>\r\n       <use x=\"190.869141\" xlink:href=\"#DejaVuSans-48\"/>\r\n       <use x=\"254.492188\" xlink:href=\"#DejaVuSans-48\"/>\r\n       <use x=\"318.115234\" xlink:href=\"#DejaVuSans-48\"/>\r\n      </g>\r\n     </g>\r\n    </g>\r\n   </g>\r\n   <g id=\"matplotlib.axis_2\">\r\n    <g id=\"ytick_1\">\r\n     <g id=\"line2d_9\">\r\n      <defs>\r\n       <path d=\"M 0 0 \r\nL -3.5 0 \r\n\" id=\"m31a35bb519\" style=\"stroke:#000000;stroke-width:0.8;\"/>\r\n      </defs>\r\n      <g>\r\n       <use style=\"stroke:#000000;stroke-width:0.8;\" x=\"66.053125\" xlink:href=\"#m31a35bb519\" y=\"224.64\"/>\r\n      </g>\r\n     </g>\r\n     <g id=\"text_9\">\r\n      <!-- 0 -->\r\n      <g transform=\"translate(52.690625 228.439219)scale(0.1 -0.1)\">\r\n       <use xlink:href=\"#DejaVuSans-48\"/>\r\n      </g>\r\n     </g>\r\n    </g>\r\n    <g id=\"ytick_2\">\r\n     <g id=\"line2d_10\">\r\n      <g>\r\n       <use style=\"stroke:#000000;stroke-width:0.8;\" x=\"66.053125\" xlink:href=\"#m31a35bb519\" y=\"197.224864\"/>\r\n      </g>\r\n     </g>\r\n     <g id=\"text_10\">\r\n      <!-- 20000 -->\r\n      <g transform=\"translate(27.240625 201.024083)scale(0.1 -0.1)\">\r\n       <use xlink:href=\"#DejaVuSans-50\"/>\r\n       <use x=\"63.623047\" xlink:href=\"#DejaVuSans-48\"/>\r\n       <use x=\"127.246094\" xlink:href=\"#DejaVuSans-48\"/>\r\n       <use x=\"190.869141\" xlink:href=\"#DejaVuSans-48\"/>\r\n       <use x=\"254.492188\" xlink:href=\"#DejaVuSans-48\"/>\r\n      </g>\r\n     </g>\r\n    </g>\r\n    <g id=\"ytick_3\">\r\n     <g id=\"line2d_11\">\r\n      <g>\r\n       <use style=\"stroke:#000000;stroke-width:0.8;\" x=\"66.053125\" xlink:href=\"#m31a35bb519\" y=\"169.809728\"/>\r\n      </g>\r\n     </g>\r\n     <g id=\"text_11\">\r\n      <!-- 40000 -->\r\n      <g transform=\"translate(27.240625 173.608946)scale(0.1 -0.1)\">\r\n       <use xlink:href=\"#DejaVuSans-52\"/>\r\n       <use x=\"63.623047\" xlink:href=\"#DejaVuSans-48\"/>\r\n       <use x=\"127.246094\" xlink:href=\"#DejaVuSans-48\"/>\r\n       <use x=\"190.869141\" xlink:href=\"#DejaVuSans-48\"/>\r\n       <use x=\"254.492188\" xlink:href=\"#DejaVuSans-48\"/>\r\n      </g>\r\n     </g>\r\n    </g>\r\n    <g id=\"ytick_4\">\r\n     <g id=\"line2d_12\">\r\n      <g>\r\n       <use style=\"stroke:#000000;stroke-width:0.8;\" x=\"66.053125\" xlink:href=\"#m31a35bb519\" y=\"142.394591\"/>\r\n      </g>\r\n     </g>\r\n     <g id=\"text_12\">\r\n      <!-- 60000 -->\r\n      <g transform=\"translate(27.240625 146.19381)scale(0.1 -0.1)\">\r\n       <use xlink:href=\"#DejaVuSans-54\"/>\r\n       <use x=\"63.623047\" xlink:href=\"#DejaVuSans-48\"/>\r\n       <use x=\"127.246094\" xlink:href=\"#DejaVuSans-48\"/>\r\n       <use x=\"190.869141\" xlink:href=\"#DejaVuSans-48\"/>\r\n       <use x=\"254.492188\" xlink:href=\"#DejaVuSans-48\"/>\r\n      </g>\r\n     </g>\r\n    </g>\r\n    <g id=\"ytick_5\">\r\n     <g id=\"line2d_13\">\r\n      <g>\r\n       <use style=\"stroke:#000000;stroke-width:0.8;\" x=\"66.053125\" xlink:href=\"#m31a35bb519\" y=\"114.979455\"/>\r\n      </g>\r\n     </g>\r\n     <g id=\"text_13\">\r\n      <!-- 80000 -->\r\n      <g transform=\"translate(27.240625 118.778674)scale(0.1 -0.1)\">\r\n       <use xlink:href=\"#DejaVuSans-56\"/>\r\n       <use x=\"63.623047\" xlink:href=\"#DejaVuSans-48\"/>\r\n       <use x=\"127.246094\" xlink:href=\"#DejaVuSans-48\"/>\r\n       <use x=\"190.869141\" xlink:href=\"#DejaVuSans-48\"/>\r\n       <use x=\"254.492188\" xlink:href=\"#DejaVuSans-48\"/>\r\n      </g>\r\n     </g>\r\n    </g>\r\n    <g id=\"ytick_6\">\r\n     <g id=\"line2d_14\">\r\n      <g>\r\n       <use style=\"stroke:#000000;stroke-width:0.8;\" x=\"66.053125\" xlink:href=\"#m31a35bb519\" y=\"87.564319\"/>\r\n      </g>\r\n     </g>\r\n     <g id=\"text_14\">\r\n      <!-- 100000 -->\r\n      <g transform=\"translate(20.878125 91.363538)scale(0.1 -0.1)\">\r\n       <use xlink:href=\"#DejaVuSans-49\"/>\r\n       <use x=\"63.623047\" xlink:href=\"#DejaVuSans-48\"/>\r\n       <use x=\"127.246094\" xlink:href=\"#DejaVuSans-48\"/>\r\n       <use x=\"190.869141\" xlink:href=\"#DejaVuSans-48\"/>\r\n       <use x=\"254.492188\" xlink:href=\"#DejaVuSans-48\"/>\r\n       <use x=\"318.115234\" xlink:href=\"#DejaVuSans-48\"/>\r\n      </g>\r\n     </g>\r\n    </g>\r\n    <g id=\"ytick_7\">\r\n     <g id=\"line2d_15\">\r\n      <g>\r\n       <use style=\"stroke:#000000;stroke-width:0.8;\" x=\"66.053125\" xlink:href=\"#m31a35bb519\" y=\"60.149183\"/>\r\n      </g>\r\n     </g>\r\n     <g id=\"text_15\">\r\n      <!-- 120000 -->\r\n      <g transform=\"translate(20.878125 63.948402)scale(0.1 -0.1)\">\r\n       <use xlink:href=\"#DejaVuSans-49\"/>\r\n       <use x=\"63.623047\" xlink:href=\"#DejaVuSans-50\"/>\r\n       <use x=\"127.246094\" xlink:href=\"#DejaVuSans-48\"/>\r\n       <use x=\"190.869141\" xlink:href=\"#DejaVuSans-48\"/>\r\n       <use x=\"254.492188\" xlink:href=\"#DejaVuSans-48\"/>\r\n       <use x=\"318.115234\" xlink:href=\"#DejaVuSans-48\"/>\r\n      </g>\r\n     </g>\r\n    </g>\r\n    <g id=\"ytick_8\">\r\n     <g id=\"line2d_16\">\r\n      <g>\r\n       <use style=\"stroke:#000000;stroke-width:0.8;\" x=\"66.053125\" xlink:href=\"#m31a35bb519\" y=\"32.734047\"/>\r\n      </g>\r\n     </g>\r\n     <g id=\"text_16\">\r\n      <!-- 140000 -->\r\n      <g transform=\"translate(20.878125 36.533265)scale(0.1 -0.1)\">\r\n       <use xlink:href=\"#DejaVuSans-49\"/>\r\n       <use x=\"63.623047\" xlink:href=\"#DejaVuSans-52\"/>\r\n       <use x=\"127.246094\" xlink:href=\"#DejaVuSans-48\"/>\r\n       <use x=\"190.869141\" xlink:href=\"#DejaVuSans-48\"/>\r\n       <use x=\"254.492188\" xlink:href=\"#DejaVuSans-48\"/>\r\n       <use x=\"318.115234\" xlink:href=\"#DejaVuSans-48\"/>\r\n      </g>\r\n     </g>\r\n    </g>\r\n    <g id=\"text_17\">\r\n     <!-- Frequency -->\r\n     <g transform=\"translate(14.798438 141.749687)rotate(-90)scale(0.1 -0.1)\">\r\n      <defs>\r\n       <path d=\"M 9.8125 72.90625 \r\nL 51.703125 72.90625 \r\nL 51.703125 64.59375 \r\nL 19.671875 64.59375 \r\nL 19.671875 43.109375 \r\nL 48.578125 43.109375 \r\nL 48.578125 34.8125 \r\nL 19.671875 34.8125 \r\nL 19.671875 0 \r\nL 9.8125 0 \r\nz\r\n\" id=\"DejaVuSans-70\"/>\r\n       <path d=\"M 41.109375 46.296875 \r\nQ 39.59375 47.171875 37.8125 47.578125 \r\nQ 36.03125 48 33.890625 48 \r\nQ 26.265625 48 22.1875 43.046875 \r\nQ 18.109375 38.09375 18.109375 28.8125 \r\nL 18.109375 0 \r\nL 9.078125 0 \r\nL 9.078125 54.6875 \r\nL 18.109375 54.6875 \r\nL 18.109375 46.1875 \r\nQ 20.953125 51.171875 25.484375 53.578125 \r\nQ 30.03125 56 36.53125 56 \r\nQ 37.453125 56 38.578125 55.875 \r\nQ 39.703125 55.765625 41.0625 55.515625 \r\nz\r\n\" id=\"DejaVuSans-114\"/>\r\n       <path d=\"M 56.203125 29.59375 \r\nL 56.203125 25.203125 \r\nL 14.890625 25.203125 \r\nQ 15.484375 15.921875 20.484375 11.0625 \r\nQ 25.484375 6.203125 34.421875 6.203125 \r\nQ 39.59375 6.203125 44.453125 7.46875 \r\nQ 49.3125 8.734375 54.109375 11.28125 \r\nL 54.109375 2.78125 \r\nQ 49.265625 0.734375 44.1875 -0.34375 \r\nQ 39.109375 -1.421875 33.890625 -1.421875 \r\nQ 20.796875 -1.421875 13.15625 6.1875 \r\nQ 5.515625 13.8125 5.515625 26.8125 \r\nQ 5.515625 40.234375 12.765625 48.109375 \r\nQ 20.015625 56 32.328125 56 \r\nQ 43.359375 56 49.78125 48.890625 \r\nQ 56.203125 41.796875 56.203125 29.59375 \r\nz\r\nM 47.21875 32.234375 \r\nQ 47.125 39.59375 43.09375 43.984375 \r\nQ 39.0625 48.390625 32.421875 48.390625 \r\nQ 24.90625 48.390625 20.390625 44.140625 \r\nQ 15.875 39.890625 15.1875 32.171875 \r\nz\r\n\" id=\"DejaVuSans-101\"/>\r\n       <path d=\"M 14.796875 27.296875 \r\nQ 14.796875 17.390625 18.875 11.75 \r\nQ 22.953125 6.109375 30.078125 6.109375 \r\nQ 37.203125 6.109375 41.296875 11.75 \r\nQ 45.40625 17.390625 45.40625 27.296875 \r\nQ 45.40625 37.203125 41.296875 42.84375 \r\nQ 37.203125 48.484375 30.078125 48.484375 \r\nQ 22.953125 48.484375 18.875 42.84375 \r\nQ 14.796875 37.203125 14.796875 27.296875 \r\nz\r\nM 45.40625 8.203125 \r\nQ 42.578125 3.328125 38.25 0.953125 \r\nQ 33.9375 -1.421875 27.875 -1.421875 \r\nQ 17.96875 -1.421875 11.734375 6.484375 \r\nQ 5.515625 14.40625 5.515625 27.296875 \r\nQ 5.515625 40.1875 11.734375 48.09375 \r\nQ 17.96875 56 27.875 56 \r\nQ 33.9375 56 38.25 53.625 \r\nQ 42.578125 51.265625 45.40625 46.390625 \r\nL 45.40625 54.6875 \r\nL 54.390625 54.6875 \r\nL 54.390625 -20.796875 \r\nL 45.40625 -20.796875 \r\nz\r\n\" id=\"DejaVuSans-113\"/>\r\n       <path d=\"M 8.5 21.578125 \r\nL 8.5 54.6875 \r\nL 17.484375 54.6875 \r\nL 17.484375 21.921875 \r\nQ 17.484375 14.15625 20.5 10.265625 \r\nQ 23.53125 6.390625 29.59375 6.390625 \r\nQ 36.859375 6.390625 41.078125 11.03125 \r\nQ 45.3125 15.671875 45.3125 23.6875 \r\nL 45.3125 54.6875 \r\nL 54.296875 54.6875 \r\nL 54.296875 0 \r\nL 45.3125 0 \r\nL 45.3125 8.40625 \r\nQ 42.046875 3.421875 37.71875 1 \r\nQ 33.40625 -1.421875 27.6875 -1.421875 \r\nQ 18.265625 -1.421875 13.375 4.4375 \r\nQ 8.5 10.296875 8.5 21.578125 \r\nz\r\nM 31.109375 56 \r\nz\r\n\" id=\"DejaVuSans-117\"/>\r\n       <path d=\"M 54.890625 33.015625 \r\nL 54.890625 0 \r\nL 45.90625 0 \r\nL 45.90625 32.71875 \r\nQ 45.90625 40.484375 42.875 44.328125 \r\nQ 39.84375 48.1875 33.796875 48.1875 \r\nQ 26.515625 48.1875 22.3125 43.546875 \r\nQ 18.109375 38.921875 18.109375 30.90625 \r\nL 18.109375 0 \r\nL 9.078125 0 \r\nL 9.078125 54.6875 \r\nL 18.109375 54.6875 \r\nL 18.109375 46.1875 \r\nQ 21.34375 51.125 25.703125 53.5625 \r\nQ 30.078125 56 35.796875 56 \r\nQ 45.21875 56 50.046875 50.171875 \r\nQ 54.890625 44.34375 54.890625 33.015625 \r\nz\r\n\" id=\"DejaVuSans-110\"/>\r\n       <path d=\"M 48.78125 52.59375 \r\nL 48.78125 44.1875 \r\nQ 44.96875 46.296875 41.140625 47.34375 \r\nQ 37.3125 48.390625 33.40625 48.390625 \r\nQ 24.65625 48.390625 19.8125 42.84375 \r\nQ 14.984375 37.3125 14.984375 27.296875 \r\nQ 14.984375 17.28125 19.8125 11.734375 \r\nQ 24.65625 6.203125 33.40625 6.203125 \r\nQ 37.3125 6.203125 41.140625 7.25 \r\nQ 44.96875 8.296875 48.78125 10.40625 \r\nL 48.78125 2.09375 \r\nQ 45.015625 0.34375 40.984375 -0.53125 \r\nQ 36.96875 -1.421875 32.421875 -1.421875 \r\nQ 20.0625 -1.421875 12.78125 6.34375 \r\nQ 5.515625 14.109375 5.515625 27.296875 \r\nQ 5.515625 40.671875 12.859375 48.328125 \r\nQ 20.21875 56 33.015625 56 \r\nQ 37.15625 56 41.109375 55.140625 \r\nQ 45.0625 54.296875 48.78125 52.59375 \r\nz\r\n\" id=\"DejaVuSans-99\"/>\r\n       <path d=\"M 32.171875 -5.078125 \r\nQ 28.375 -14.84375 24.75 -17.8125 \r\nQ 21.140625 -20.796875 15.09375 -20.796875 \r\nL 7.90625 -20.796875 \r\nL 7.90625 -13.28125 \r\nL 13.1875 -13.28125 \r\nQ 16.890625 -13.28125 18.9375 -11.515625 \r\nQ 21 -9.765625 23.484375 -3.21875 \r\nL 25.09375 0.875 \r\nL 2.984375 54.6875 \r\nL 12.5 54.6875 \r\nL 29.59375 11.921875 \r\nL 46.6875 54.6875 \r\nL 56.203125 54.6875 \r\nz\r\n\" id=\"DejaVuSans-121\"/>\r\n      </defs>\r\n      <use xlink:href=\"#DejaVuSans-70\"/>\r\n      <use x=\"50.269531\" xlink:href=\"#DejaVuSans-114\"/>\r\n      <use x=\"89.132812\" xlink:href=\"#DejaVuSans-101\"/>\r\n      <use x=\"150.65625\" xlink:href=\"#DejaVuSans-113\"/>\r\n      <use x=\"214.132812\" xlink:href=\"#DejaVuSans-117\"/>\r\n      <use x=\"277.511719\" xlink:href=\"#DejaVuSans-101\"/>\r\n      <use x=\"339.035156\" xlink:href=\"#DejaVuSans-110\"/>\r\n      <use x=\"402.414062\" xlink:href=\"#DejaVuSans-99\"/>\r\n      <use x=\"457.394531\" xlink:href=\"#DejaVuSans-121\"/>\r\n     </g>\r\n    </g>\r\n   </g>\r\n   <g id=\"patch_13\">\r\n    <path d=\"M 66.053125 224.64 \r\nL 66.053125 7.2 \r\n\" style=\"fill:none;stroke:#000000;stroke-linecap:square;stroke-linejoin:miter;stroke-width:0.8;\"/>\r\n   </g>\r\n   <g id=\"patch_14\">\r\n    <path d=\"M 400.853125 224.64 \r\nL 400.853125 7.2 \r\n\" style=\"fill:none;stroke:#000000;stroke-linecap:square;stroke-linejoin:miter;stroke-width:0.8;\"/>\r\n   </g>\r\n   <g id=\"patch_15\">\r\n    <path d=\"M 66.053125 224.64 \r\nL 400.853125 224.64 \r\n\" style=\"fill:none;stroke:#000000;stroke-linecap:square;stroke-linejoin:miter;stroke-width:0.8;\"/>\r\n   </g>\r\n   <g id=\"patch_16\">\r\n    <path d=\"M 66.053125 7.2 \r\nL 400.853125 7.2 \r\n\" style=\"fill:none;stroke:#000000;stroke-linecap:square;stroke-linejoin:miter;stroke-width:0.8;\"/>\r\n   </g>\r\n  </g>\r\n </g>\r\n <defs>\r\n  <clipPath id=\"p182d6a8152\">\r\n   <rect height=\"217.44\" width=\"334.8\" x=\"66.053125\" y=\"7.2\"/>\r\n  </clipPath>\r\n </defs>\r\n</svg>\r\n",
      "image/png": "[encoded data removed]"
     },
     "metadata": {
      "needs_background": "light"
     }
    }
   ],
   "source": [
    "df.SalePrice.plot.hist()"
   ]
  },
  {
   "source": [
    "### Parsing dates\n",
    "\n",
    "When we work with time series data, we want to enrich the time $ date component as much as possible.\n",
    "\n",
    "We can do that by telling pandas which of our columns has dates in it using the 'parse_dates' parameter."
   ],
   "cell_type": "markdown",
   "metadata": {}
  },
  {
   "cell_type": "code",
   "execution_count": 47,
   "metadata": {},
   "outputs": [],
   "source": [
    "# Import data again but this time parse dates\n",
    "df = pd.read_csv('../bluebook-for-bulldozers/TrainAndValid.csv',\n",
    "                    parse_dates=['saledate'])"
   ]
  },
  {
   "cell_type": "code",
   "execution_count": 48,
   "metadata": {},
   "outputs": [
    {
     "output_type": "execute_result",
     "data": {
      "text/plain": [
       "<matplotlib.collections.PathCollection at 0x1ed15ef86d0>"
      ]
     },
     "metadata": {},
     "execution_count": 48
    },
    {
     "output_type": "display_data",
     "data": {
      "text/plain": "<Figure size 432x288 with 1 Axes>",
      "image/svg+xml": "<?xml version=\"1.0\" encoding=\"utf-8\" standalone=\"no\"?>\r\n<!DOCTYPE svg PUBLIC \"-//W3C//DTD SVG 1.1//EN\"\r\n  \"http://www.w3.org/Graphics/SVG/1.1/DTD/svg11.dtd\">\r\n<!-- Created with matplotlib (https://matplotlib.org/) -->\r\n<svg height=\"248.518125pt\" version=\"1.1\" viewBox=\"0 0 405.920934 248.518125\" width=\"405.920934pt\" xmlns=\"http://www.w3.org/2000/svg\" xmlns:xlink=\"http://www.w3.org/1999/xlink\">\r\n <metadata>\r\n  <rdf:RDF xmlns:cc=\"http://creativecommons.org/ns#\" xmlns:dc=\"http://purl.org/dc/elements/1.1/\" xmlns:rdf=\"http://www.w3.org/1999/02/22-rdf-syntax-ns#\">\r\n   <cc:Work>\r\n    <dc:type rdf:resource=\"http://purl.org/dc/dcmitype/StillImage\"/>\r\n    <dc:date>2021-05-01T12:06:08.774524</dc:date>\r\n    <dc:format>image/svg+xml</dc:format>\r\n    <dc:creator>\r\n     <cc:Agent>\r\n      <dc:title>Matplotlib v3.3.4, https://matplotlib.org/</dc:title>\r\n     </cc:Agent>\r\n    </dc:creator>\r\n   </cc:Work>\r\n  </rdf:RDF>\r\n </metadata>\r\n <defs>\r\n  <style type=\"text/css\">*{stroke-linecap:butt;stroke-linejoin:round;}</style>\r\n </defs>\r\n <g id=\"figure_1\">\r\n  <g id=\"patch_1\">\r\n   <path d=\"M 0 248.518125 \r\nL 405.920934 248.518125 \r\nL 405.920934 0 \r\nL 0 0 \r\nz\r\n\" style=\"fill:none;\"/>\r\n  </g>\r\n  <g id=\"axes_1\">\r\n   <g id=\"patch_2\">\r\n    <path d=\"M 52.375 224.64 \r\nL 387.175 224.64 \r\nL 387.175 7.2 \r\nL 52.375 7.2 \r\nz\r\n\" style=\"fill:#ffffff;\"/>\r\n   </g>\r\n   <g id=\"PathCollection_1\">\r\n    <defs>\r\n     <path d=\"M 0 3 \r\nC 0.795609 3 1.55874 2.683901 2.12132 2.12132 \r\nC 2.683901 1.55874 3 0.795609 3 0 \r\nC 3 -0.795609 2.683901 -1.55874 2.12132 -2.12132 \r\nC 1.55874 -2.683901 0.795609 -3 0 -3 \r\nC -0.795609 -3 -1.55874 -2.683901 -2.12132 -2.12132 \r\nC -2.683901 -1.55874 -3 -0.795609 -3 0 \r\nC -3 0.795609 -2.683901 1.55874 -2.12132 2.12132 \r\nC -1.55874 2.683901 -0.795609 3 0 3 \r\nz\r\n\" id=\"m31a4faaf8c\" style=\"stroke:#1f77b4;\"/>\r\n    </defs>\r\n    <g clip-path=\"url(#p4e73af39d5)\">\r\n     <use style=\"fill:#1f77b4;stroke:#1f77b4;\" x=\"180.67387\" xlink:href=\"#m31a4faaf8c\" y=\"125.894312\"/>\r\n     <use style=\"fill:#1f77b4;stroke:#1f77b4;\" x=\"74.832101\" xlink:href=\"#m31a4faaf8c\" y=\"138.951593\"/>\r\n     <use style=\"fill:#1f77b4;stroke:#1f77b4;\" x=\"71.651364\" xlink:href=\"#m31a4faaf8c\" y=\"207.139616\"/>\r\n     <use style=\"fill:#1f77b4;stroke:#1f77b4;\" x=\"361.09844\" xlink:href=\"#m31a4faaf8c\" y=\"165.79156\"/>\r\n     <use style=\"fill:#1f77b4;stroke:#1f77b4;\" x=\"288.160848\" xlink:href=\"#m31a4faaf8c\" y=\"205.688807\"/>\r\n     <use style=\"fill:#1f77b4;stroke:#1f77b4;\" x=\"264.36016\" xlink:href=\"#m31a4faaf8c\" y=\"183.201268\"/>\r\n     <use style=\"fill:#1f77b4;stroke:#1f77b4;\" x=\"91.613231\" xlink:href=\"#m31a4faaf8c\" y=\"191.180717\"/>\r\n     <use style=\"fill:#1f77b4;stroke:#1f77b4;\" x=\"140.750135\" xlink:href=\"#m31a4faaf8c\" y=\"182.475863\"/>\r\n     <use style=\"fill:#1f77b4;stroke:#1f77b4;\" x=\"291.999668\" xlink:href=\"#m31a4faaf8c\" y=\"190.455313\"/>\r\n     <use style=\"fill:#1f77b4;stroke:#1f77b4;\" x=\"209.848907\" xlink:href=\"#m31a4faaf8c\" y=\"127.345121\"/>\r\n     <use style=\"fill:#1f77b4;stroke:#1f77b4;\" x=\"251.30817\" xlink:href=\"#m31a4faaf8c\" y=\"186.82829\"/>\r\n     <use style=\"fill:#1f77b4;stroke:#1f77b4;\" x=\"171.4607\" xlink:href=\"#m31a4faaf8c\" y=\"189.004504\"/>\r\n     <use style=\"fill:#1f77b4;stroke:#1f77b4;\" x=\"137.679079\" xlink:href=\"#m31a4faaf8c\" y=\"169.418582\"/>\r\n     <use style=\"fill:#1f77b4;stroke:#1f77b4;\" x=\"148.427776\" xlink:href=\"#m31a4faaf8c\" y=\"177.398032\"/>\r\n     <use style=\"fill:#1f77b4;stroke:#1f77b4;\" x=\"145.905123\" xlink:href=\"#m31a4faaf8c\" y=\"181.025054\"/>\r\n     <use style=\"fill:#1f77b4;stroke:#1f77b4;\" x=\"180.67387\" xlink:href=\"#m31a4faaf8c\" y=\"194.082335\"/>\r\n     <use style=\"fill:#1f77b4;stroke:#1f77b4;\" x=\"203.706794\" xlink:href=\"#m31a4faaf8c\" y=\"202.061785\"/>\r\n     <use style=\"fill:#1f77b4;stroke:#1f77b4;\" x=\"308.890479\" xlink:href=\"#m31a4faaf8c\" y=\"207.865021\"/>\r\n     <use style=\"fill:#1f77b4;stroke:#1f77b4;\" x=\"153.034361\" xlink:href=\"#m31a4faaf8c\" y=\"203.512594\"/>\r\n     <use style=\"fill:#1f77b4;stroke:#1f77b4;\" x=\"140.750135\" xlink:href=\"#m31a4faaf8c\" y=\"204.963403\"/>\r\n     <use style=\"fill:#1f77b4;stroke:#1f77b4;\" x=\"160.712002\" xlink:href=\"#m31a4faaf8c\" y=\"162.164537\"/>\r\n     <use style=\"fill:#1f77b4;stroke:#1f77b4;\" x=\"177.602813\" xlink:href=\"#m31a4faaf8c\" y=\"171.594796\"/>\r\n     <use style=\"fill:#1f77b4;stroke:#1f77b4;\" x=\"218.294312\" xlink:href=\"#m31a4faaf8c\" y=\"183.926672\"/>\r\n     <use style=\"fill:#1f77b4;stroke:#1f77b4;\" x=\"177.602813\" xlink:href=\"#m31a4faaf8c\" y=\"115.738649\"/>\r\n     <use style=\"fill:#1f77b4;stroke:#1f77b4;\" x=\"80.864533\" xlink:href=\"#m31a4faaf8c\" y=\"173.771009\"/>\r\n     <use style=\"fill:#1f77b4;stroke:#1f77b4;\" x=\"153.034361\" xlink:href=\"#m31a4faaf8c\" y=\"203.512594\"/>\r\n     <use style=\"fill:#1f77b4;stroke:#1f77b4;\" x=\"153.034361\" xlink:href=\"#m31a4faaf8c\" y=\"199.160167\"/>\r\n     <use style=\"fill:#1f77b4;stroke:#1f77b4;\" x=\"191.422568\" xlink:href=\"#m31a4faaf8c\" y=\"144.754829\"/>\r\n     <use style=\"fill:#1f77b4;stroke:#1f77b4;\" x=\"209.848907\" xlink:href=\"#m31a4faaf8c\" y=\"154.910492\"/>\r\n     <use style=\"fill:#1f77b4;stroke:#1f77b4;\" x=\"162.247531\" xlink:href=\"#m31a4faaf8c\" y=\"92.525705\"/>\r\n     <use style=\"fill:#1f77b4;stroke:#1f77b4;\" x=\"338.175197\" xlink:href=\"#m31a4faaf8c\" y=\"147.656447\"/>\r\n     <use style=\"fill:#1f77b4;stroke:#1f77b4;\" x=\"194.493624\" xlink:href=\"#m31a4faaf8c\" y=\"201.33638\"/>\r\n     <use style=\"fill:#1f77b4;stroke:#1f77b4;\" x=\"168.389644\" xlink:href=\"#m31a4faaf8c\" y=\"175.947223\"/>\r\n     <use style=\"fill:#1f77b4;stroke:#1f77b4;\" x=\"308.890479\" xlink:href=\"#m31a4faaf8c\" y=\"201.33638\"/>\r\n     <use style=\"fill:#1f77b4;stroke:#1f77b4;\" x=\"162.247531\" xlink:href=\"#m31a4faaf8c\" y=\"194.80774\"/>\r\n     <use style=\"fill:#1f77b4;stroke:#1f77b4;\" x=\"363.401732\" xlink:href=\"#m31a4faaf8c\" y=\"207.139616\"/>\r\n     <use style=\"fill:#1f77b4;stroke:#1f77b4;\" x=\"361.09844\" xlink:href=\"#m31a4faaf8c\" y=\"209.678532\"/>\r\n     <use style=\"fill:#1f77b4;stroke:#1f77b4;\" x=\"80.864533\" xlink:href=\"#m31a4faaf8c\" y=\"191.906122\"/>\r\n     <use style=\"fill:#1f77b4;stroke:#1f77b4;\" x=\"288.270528\" xlink:href=\"#m31a4faaf8c\" y=\"207.865021\"/>\r\n     <use style=\"fill:#1f77b4;stroke:#1f77b4;\" x=\"364.059816\" xlink:href=\"#m31a4faaf8c\" y=\"147.656447\"/>\r\n     <use style=\"fill:#1f77b4;stroke:#1f77b4;\" x=\"285.089791\" xlink:href=\"#m31a4faaf8c\" y=\"165.066155\"/>\r\n     <use style=\"fill:#1f77b4;stroke:#1f77b4;\" x=\"311.961536\" xlink:href=\"#m31a4faaf8c\" y=\"137.500784\"/>\r\n     <use style=\"fill:#1f77b4;stroke:#1f77b4;\" x=\"143.821192\" xlink:href=\"#m31a4faaf8c\" y=\"199.160167\"/>\r\n     <use style=\"fill:#1f77b4;stroke:#1f77b4;\" x=\"286.625319\" xlink:href=\"#m31a4faaf8c\" y=\"210.403937\"/>\r\n     <use style=\"fill:#1f77b4;stroke:#1f77b4;\" x=\"364.169496\" xlink:href=\"#m31a4faaf8c\" y=\"175.221818\"/>\r\n     <use style=\"fill:#1f77b4;stroke:#1f77b4;\" x=\"183.744926\" xlink:href=\"#m31a4faaf8c\" y=\"204.963403\"/>\r\n     <use style=\"fill:#1f77b4;stroke:#1f77b4;\" x=\"341.136572\" xlink:href=\"#m31a4faaf8c\" y=\"204.237998\"/>\r\n     <use style=\"fill:#1f77b4;stroke:#1f77b4;\" x=\"289.696376\" xlink:href=\"#m31a4faaf8c\" y=\"112.837031\"/>\r\n     <use style=\"fill:#1f77b4;stroke:#1f77b4;\" x=\"286.515639\" xlink:href=\"#m31a4faaf8c\" y=\"213.668257\"/>\r\n     <use style=\"fill:#1f77b4;stroke:#1f77b4;\" x=\"171.4607\" xlink:href=\"#m31a4faaf8c\" y=\"180.29965\"/>\r\n     <use style=\"fill:#1f77b4;stroke:#1f77b4;\" x=\"87.006646\" xlink:href=\"#m31a4faaf8c\" y=\"170.143987\"/>\r\n     <use style=\"fill:#1f77b4;stroke:#1f77b4;\" x=\"196.796916\" xlink:href=\"#m31a4faaf8c\" y=\"204.963403\"/>\r\n     <use style=\"fill:#1f77b4;stroke:#1f77b4;\" x=\"350.349742\" xlink:href=\"#m31a4faaf8c\" y=\"170.143987\"/>\r\n     <use style=\"fill:#1f77b4;stroke:#1f77b4;\" x=\"140.750135\" xlink:href=\"#m31a4faaf8c\" y=\"178.123436\"/>\r\n     <use style=\"fill:#1f77b4;stroke:#1f77b4;\" x=\"291.999668\" xlink:href=\"#m31a4faaf8c\" y=\"194.80774\"/>\r\n     <use style=\"fill:#1f77b4;stroke:#1f77b4;\" x=\"349.581978\" xlink:href=\"#m31a4faaf8c\" y=\"173.771009\"/>\r\n     <use style=\"fill:#1f77b4;stroke:#1f77b4;\" x=\"205.242322\" xlink:href=\"#m31a4faaf8c\" y=\"207.865021\"/>\r\n     <use style=\"fill:#1f77b4;stroke:#1f77b4;\" x=\"362.633968\" xlink:href=\"#m31a4faaf8c\" y=\"209.31583\"/>\r\n     <use style=\"fill:#1f77b4;stroke:#1f77b4;\" x=\"291.999668\" xlink:href=\"#m31a4faaf8c\" y=\"194.082335\"/>\r\n     <use style=\"fill:#1f77b4;stroke:#1f77b4;\" x=\"311.961536\" xlink:href=\"#m31a4faaf8c\" y=\"167.967773\"/>\r\n     <use style=\"fill:#1f77b4;stroke:#1f77b4;\" x=\"168.389644\" xlink:href=\"#m31a4faaf8c\" y=\"147.656447\"/>\r\n     <use style=\"fill:#1f77b4;stroke:#1f77b4;\" x=\"291.231904\" xlink:href=\"#m31a4faaf8c\" y=\"209.678532\"/>\r\n     <use style=\"fill:#1f77b4;stroke:#1f77b4;\" x=\"200.635737\" xlink:href=\"#m31a4faaf8c\" y=\"188.279099\"/>\r\n     <use style=\"fill:#1f77b4;stroke:#1f77b4;\" x=\"83.716229\" xlink:href=\"#m31a4faaf8c\" y=\"177.398032\"/>\r\n     <use style=\"fill:#1f77b4;stroke:#1f77b4;\" x=\"320.077899\" xlink:href=\"#m31a4faaf8c\" y=\"181.025054\"/>\r\n     <use style=\"fill:#1f77b4;stroke:#1f77b4;\" x=\"289.696376\" xlink:href=\"#m31a4faaf8c\" y=\"204.237998\"/>\r\n     <use style=\"fill:#1f77b4;stroke:#1f77b4;\" x=\"358.904828\" xlink:href=\"#m31a4faaf8c\" y=\"209.896153\"/>\r\n     <use style=\"fill:#1f77b4;stroke:#1f77b4;\" x=\"318.103649\" xlink:href=\"#m31a4faaf8c\" y=\"179.574245\"/>\r\n     <use style=\"fill:#1f77b4;stroke:#1f77b4;\" x=\"188.351511\" xlink:href=\"#m31a4faaf8c\" y=\"73.665188\"/>\r\n     <use style=\"fill:#1f77b4;stroke:#1f77b4;\" x=\"338.065516\" xlink:href=\"#m31a4faaf8c\" y=\"170.869391\"/>\r\n     <use style=\"fill:#1f77b4;stroke:#1f77b4;\" x=\"82.400061\" xlink:href=\"#m31a4faaf8c\" y=\"173.045605\"/>\r\n     <use style=\"fill:#1f77b4;stroke:#1f77b4;\" x=\"73.186892\" xlink:href=\"#m31a4faaf8c\" y=\"144.754829\"/>\r\n     <use style=\"fill:#1f77b4;stroke:#1f77b4;\" x=\"140.750135\" xlink:href=\"#m31a4faaf8c\" y=\"178.123436\"/>\r\n     <use style=\"fill:#1f77b4;stroke:#1f77b4;\" x=\"287.393084\" xlink:href=\"#m31a4faaf8c\" y=\"165.066155\"/>\r\n     <use style=\"fill:#1f77b4;stroke:#1f77b4;\" x=\"335.10414\" xlink:href=\"#m31a4faaf8c\" y=\"199.885571\"/>\r\n     <use style=\"fill:#1f77b4;stroke:#1f77b4;\" x=\"217.526548\" xlink:href=\"#m31a4faaf8c\" y=\"120.091076\"/>\r\n     <use style=\"fill:#1f77b4;stroke:#1f77b4;\" x=\"183.744926\" xlink:href=\"#m31a4faaf8c\" y=\"210.766639\"/>\r\n     <use style=\"fill:#1f77b4;stroke:#1f77b4;\" x=\"218.294312\" xlink:href=\"#m31a4faaf8c\" y=\"202.787189\"/>\r\n     <use style=\"fill:#1f77b4;stroke:#1f77b4;\" x=\"196.796916\" xlink:href=\"#m31a4faaf8c\" y=\"157.81211\"/>\r\n     <use style=\"fill:#1f77b4;stroke:#1f77b4;\" x=\"275.108857\" xlink:href=\"#m31a4faaf8c\" y=\"183.926672\"/>\r\n     <use style=\"fill:#1f77b4;stroke:#1f77b4;\" x=\"358.795147\" xlink:href=\"#m31a4faaf8c\" y=\"124.443503\"/>\r\n     <use style=\"fill:#1f77b4;stroke:#1f77b4;\" x=\"182.977162\" xlink:href=\"#m31a4faaf8c\" y=\"196.983953\"/>\r\n     <use style=\"fill:#1f77b4;stroke:#1f77b4;\" x=\"87.006646\" xlink:href=\"#m31a4faaf8c\" y=\"173.771009\"/>\r\n     <use style=\"fill:#1f77b4;stroke:#1f77b4;\" x=\"288.160848\" xlink:href=\"#m31a4faaf8c\" y=\"204.237998\"/>\r\n     <use style=\"fill:#1f77b4;stroke:#1f77b4;\" x=\"183.744926\" xlink:href=\"#m31a4faaf8c\" y=\"146.205638\"/>\r\n     <use style=\"fill:#1f77b4;stroke:#1f77b4;\" x=\"220.597604\" xlink:href=\"#m31a4faaf8c\" y=\"173.771009\"/>\r\n     <use style=\"fill:#1f77b4;stroke:#1f77b4;\" x=\"271.270037\" xlink:href=\"#m31a4faaf8c\" y=\"149.107256\"/>\r\n     <use style=\"fill:#1f77b4;stroke:#1f77b4;\" x=\"273.573329\" xlink:href=\"#m31a4faaf8c\" y=\"138.951593\"/>\r\n     <use style=\"fill:#1f77b4;stroke:#1f77b4;\" x=\"200.635737\" xlink:href=\"#m31a4faaf8c\" y=\"169.418582\"/>\r\n     <use style=\"fill:#1f77b4;stroke:#1f77b4;\" x=\"130.001437\" xlink:href=\"#m31a4faaf8c\" y=\"207.139616\"/>\r\n     <use style=\"fill:#1f77b4;stroke:#1f77b4;\" x=\"209.848907\" xlink:href=\"#m31a4faaf8c\" y=\"182.475863\"/>\r\n     <use style=\"fill:#1f77b4;stroke:#1f77b4;\" x=\"256.024435\" xlink:href=\"#m31a4faaf8c\" y=\"191.180717\"/>\r\n     <use style=\"fill:#1f77b4;stroke:#1f77b4;\" x=\"189.887039\" xlink:href=\"#m31a4faaf8c\" y=\"185.377481\"/>\r\n     <use style=\"fill:#1f77b4;stroke:#1f77b4;\" x=\"286.625319\" xlink:href=\"#m31a4faaf8c\" y=\"203.512594\"/>\r\n     <use style=\"fill:#1f77b4;stroke:#1f77b4;\" x=\"137.679079\" xlink:href=\"#m31a4faaf8c\" y=\"204.963403\"/>\r\n     <use style=\"fill:#1f77b4;stroke:#1f77b4;\" x=\"143.821192\" xlink:href=\"#m31a4faaf8c\" y=\"184.652077\"/>\r\n     <use style=\"fill:#1f77b4;stroke:#1f77b4;\" x=\"68.580307\" xlink:href=\"#m31a4faaf8c\" y=\"196.258549\"/>\r\n     <use style=\"fill:#1f77b4;stroke:#1f77b4;\" x=\"254.379226\" xlink:href=\"#m31a4faaf8c\" y=\"128.79593\"/>\r\n     <use style=\"fill:#1f77b4;stroke:#1f77b4;\" x=\"139.214607\" xlink:href=\"#m31a4faaf8c\" y=\"191.906122\"/>\r\n     <use style=\"fill:#1f77b4;stroke:#1f77b4;\" x=\"162.247531\" xlink:href=\"#m31a4faaf8c\" y=\"182.475863\"/>\r\n     <use style=\"fill:#1f77b4;stroke:#1f77b4;\" x=\"78.561241\" xlink:href=\"#m31a4faaf8c\" y=\"204.237998\"/>\r\n     <use style=\"fill:#1f77b4;stroke:#1f77b4;\" x=\"203.706794\" xlink:href=\"#m31a4faaf8c\" y=\"198.434762\"/>\r\n     <use style=\"fill:#1f77b4;stroke:#1f77b4;\" x=\"196.796916\" xlink:href=\"#m31a4faaf8c\" y=\"125.894312\"/>\r\n     <use style=\"fill:#1f77b4;stroke:#1f77b4;\" x=\"308.890479\" xlink:href=\"#m31a4faaf8c\" y=\"140.402402\"/>\r\n     <use style=\"fill:#1f77b4;stroke:#1f77b4;\" x=\"217.526548\" xlink:href=\"#m31a4faaf8c\" y=\"212.217448\"/>\r\n     <use style=\"fill:#1f77b4;stroke:#1f77b4;\" x=\"70.115835\" xlink:href=\"#m31a4faaf8c\" y=\"193.356931\"/>\r\n     <use style=\"fill:#1f77b4;stroke:#1f77b4;\" x=\"321.832789\" xlink:href=\"#m31a4faaf8c\" y=\"160.713728\"/>\r\n     <use style=\"fill:#1f77b4;stroke:#1f77b4;\" x=\"183.744926\" xlink:href=\"#m31a4faaf8c\" y=\"175.221818\"/>\r\n     <use style=\"fill:#1f77b4;stroke:#1f77b4;\" x=\"157.640946\" xlink:href=\"#m31a4faaf8c\" y=\"198.434762\"/>\r\n     <use style=\"fill:#1f77b4;stroke:#1f77b4;\" x=\"283.554263\" xlink:href=\"#m31a4faaf8c\" y=\"209.31583\"/>\r\n     <use style=\"fill:#1f77b4;stroke:#1f77b4;\" x=\"140.750135\" xlink:href=\"#m31a4faaf8c\" y=\"199.160167\"/>\r\n     <use style=\"fill:#1f77b4;stroke:#1f77b4;\" x=\"192.958096\" xlink:href=\"#m31a4faaf8c\" y=\"101.230559\"/>\r\n     <use style=\"fill:#1f77b4;stroke:#1f77b4;\" x=\"361.09844\" xlink:href=\"#m31a4faaf8c\" y=\"156.361301\"/>\r\n     <use style=\"fill:#1f77b4;stroke:#1f77b4;\" x=\"172.996229\" xlink:href=\"#m31a4faaf8c\" y=\"204.963403\"/>\r\n     <use style=\"fill:#1f77b4;stroke:#1f77b4;\" x=\"151.498833\" xlink:href=\"#m31a4faaf8c\" y=\"178.848841\"/>\r\n     <use style=\"fill:#1f77b4;stroke:#1f77b4;\" x=\"322.710233\" xlink:href=\"#m31a4faaf8c\" y=\"156.361301\"/>\r\n     <use style=\"fill:#1f77b4;stroke:#1f77b4;\" x=\"340.368808\" xlink:href=\"#m31a4faaf8c\" y=\"199.160167\"/>\r\n     <use style=\"fill:#1f77b4;stroke:#1f77b4;\" x=\"208.313378\" xlink:href=\"#m31a4faaf8c\" y=\"149.107256\"/>\r\n     <use style=\"fill:#1f77b4;stroke:#1f77b4;\" x=\"198.003403\" xlink:href=\"#m31a4faaf8c\" y=\"195.533144\"/>\r\n     <use style=\"fill:#1f77b4;stroke:#1f77b4;\" x=\"277.41215\" xlink:href=\"#m31a4faaf8c\" y=\"208.590425\"/>\r\n     <use style=\"fill:#1f77b4;stroke:#1f77b4;\" x=\"211.384435\" xlink:href=\"#m31a4faaf8c\" y=\"199.160167\"/>\r\n     <use style=\"fill:#1f77b4;stroke:#1f77b4;\" x=\"137.679079\" xlink:href=\"#m31a4faaf8c\" y=\"176.672627\"/>\r\n     <use style=\"fill:#1f77b4;stroke:#1f77b4;\" x=\"214.455491\" xlink:href=\"#m31a4faaf8c\" y=\"207.139616\"/>\r\n     <use style=\"fill:#1f77b4;stroke:#1f77b4;\" x=\"222.900897\" xlink:href=\"#m31a4faaf8c\" y=\"127.345121\"/>\r\n     <use style=\"fill:#1f77b4;stroke:#1f77b4;\" x=\"286.625319\" xlink:href=\"#m31a4faaf8c\" y=\"207.574859\"/>\r\n     <use style=\"fill:#1f77b4;stroke:#1f77b4;\" x=\"272.805565\" xlink:href=\"#m31a4faaf8c\" y=\"184.652077\"/>\r\n     <use style=\"fill:#1f77b4;stroke:#1f77b4;\" x=\"289.696376\" xlink:href=\"#m31a4faaf8c\" y=\"206.414212\"/>\r\n     <use style=\"fill:#1f77b4;stroke:#1f77b4;\" x=\"363.401732\" xlink:href=\"#m31a4faaf8c\" y=\"162.164537\"/>\r\n     <use style=\"fill:#1f77b4;stroke:#1f77b4;\" x=\"308.890479\" xlink:href=\"#m31a4faaf8c\" y=\"186.102886\"/>\r\n     <use style=\"fill:#1f77b4;stroke:#1f77b4;\" x=\"318.103649\" xlink:href=\"#m31a4faaf8c\" y=\"157.81211\"/>\r\n     <use style=\"fill:#1f77b4;stroke:#1f77b4;\" x=\"339.601044\" xlink:href=\"#m31a4faaf8c\" y=\"165.066155\"/>\r\n     <use style=\"fill:#1f77b4;stroke:#1f77b4;\" x=\"123.859324\" xlink:href=\"#m31a4faaf8c\" y=\"134.599166\"/>\r\n     <use style=\"fill:#1f77b4;stroke:#1f77b4;\" x=\"172.996229\" xlink:href=\"#m31a4faaf8c\" y=\"213.668257\"/>\r\n     <use style=\"fill:#1f77b4;stroke:#1f77b4;\" x=\"74.72242\" xlink:href=\"#m31a4faaf8c\" y=\"184.652077\"/>\r\n     <use style=\"fill:#1f77b4;stroke:#1f77b4;\" x=\"362.633968\" xlink:href=\"#m31a4faaf8c\" y=\"182.475863\"/>\r\n     <use style=\"fill:#1f77b4;stroke:#1f77b4;\" x=\"251.30817\" xlink:href=\"#m31a4faaf8c\" y=\"182.475863\"/>\r\n     <use style=\"fill:#1f77b4;stroke:#1f77b4;\" x=\"183.744926\" xlink:href=\"#m31a4faaf8c\" y=\"212.217448\"/>\r\n     <use style=\"fill:#1f77b4;stroke:#1f77b4;\" x=\"159.176474\" xlink:href=\"#m31a4faaf8c\" y=\"192.631526\"/>\r\n     <use style=\"fill:#1f77b4;stroke:#1f77b4;\" x=\"361.866204\" xlink:href=\"#m31a4faaf8c\" y=\"96.878132\"/>\r\n     <use style=\"fill:#1f77b4;stroke:#1f77b4;\" x=\"329.620111\" xlink:href=\"#m31a4faaf8c\" y=\"207.865021\"/>\r\n     <use style=\"fill:#1f77b4;stroke:#1f77b4;\" x=\"214.455491\" xlink:href=\"#m31a4faaf8c\" y=\"200.610976\"/>\r\n     <use style=\"fill:#1f77b4;stroke:#1f77b4;\" x=\"168.389644\" xlink:href=\"#m31a4faaf8c\" y=\"206.414212\"/>\r\n     <use style=\"fill:#1f77b4;stroke:#1f77b4;\" x=\"159.176474\" xlink:href=\"#m31a4faaf8c\" y=\"143.30402\"/>\r\n     <use style=\"fill:#1f77b4;stroke:#1f77b4;\" x=\"194.493624\" xlink:href=\"#m31a4faaf8c\" y=\"154.910492\"/>\r\n     <use style=\"fill:#1f77b4;stroke:#1f77b4;\" x=\"291.231904\" xlink:href=\"#m31a4faaf8c\" y=\"196.983953\"/>\r\n     <use style=\"fill:#1f77b4;stroke:#1f77b4;\" x=\"199.100209\" xlink:href=\"#m31a4faaf8c\" y=\"198.434762\"/>\r\n     <use style=\"fill:#1f77b4;stroke:#1f77b4;\" x=\"222.900897\" xlink:href=\"#m31a4faaf8c\" y=\"181.025054\"/>\r\n     <use style=\"fill:#1f77b4;stroke:#1f77b4;\" x=\"286.625319\" xlink:href=\"#m31a4faaf8c\" y=\"167.967773\"/>\r\n     <use style=\"fill:#1f77b4;stroke:#1f77b4;\" x=\"245.166057\" xlink:href=\"#m31a4faaf8c\" y=\"189.729908\"/>\r\n     <use style=\"fill:#1f77b4;stroke:#1f77b4;\" x=\"171.4607\" xlink:href=\"#m31a4faaf8c\" y=\"163.615346\"/>\r\n     <use style=\"fill:#1f77b4;stroke:#1f77b4;\" x=\"291.999668\" xlink:href=\"#m31a4faaf8c\" y=\"198.434762\"/>\r\n     <use style=\"fill:#1f77b4;stroke:#1f77b4;\" x=\"289.696376\" xlink:href=\"#m31a4faaf8c\" y=\"193.356931\"/>\r\n     <use style=\"fill:#1f77b4;stroke:#1f77b4;\" x=\"217.526548\" xlink:href=\"#m31a4faaf8c\" y=\"130.246739\"/>\r\n     <use style=\"fill:#1f77b4;stroke:#1f77b4;\" x=\"209.848907\" xlink:href=\"#m31a4faaf8c\" y=\"181.750459\"/>\r\n     <use style=\"fill:#1f77b4;stroke:#1f77b4;\" x=\"278.947678\" xlink:href=\"#m31a4faaf8c\" y=\"204.237998\"/>\r\n     <use style=\"fill:#1f77b4;stroke:#1f77b4;\" x=\"157.640946\" xlink:href=\"#m31a4faaf8c\" y=\"38.845771\"/>\r\n     <use style=\"fill:#1f77b4;stroke:#1f77b4;\" x=\"200.635737\" xlink:href=\"#m31a4faaf8c\" y=\"163.615346\"/>\r\n     <use style=\"fill:#1f77b4;stroke:#1f77b4;\" x=\"79.219324\" xlink:href=\"#m31a4faaf8c\" y=\"179.574245\"/>\r\n     <use style=\"fill:#1f77b4;stroke:#1f77b4;\" x=\"168.499324\" xlink:href=\"#m31a4faaf8c\" y=\"150.558065\"/>\r\n     <use style=\"fill:#1f77b4;stroke:#1f77b4;\" x=\"130.001437\" xlink:href=\"#m31a4faaf8c\" y=\"196.983953\"/>\r\n     <use style=\"fill:#1f77b4;stroke:#1f77b4;\" x=\"308.890479\" xlink:href=\"#m31a4faaf8c\" y=\"177.398032\"/>\r\n     <use style=\"fill:#1f77b4;stroke:#1f77b4;\" x=\"74.72242\" xlink:href=\"#m31a4faaf8c\" y=\"197.709358\"/>\r\n     <use style=\"fill:#1f77b4;stroke:#1f77b4;\" x=\"168.499324\" xlink:href=\"#m31a4faaf8c\" y=\"114.28784\"/>\r\n     <use style=\"fill:#1f77b4;stroke:#1f77b4;\" x=\"172.996229\" xlink:href=\"#m31a4faaf8c\" y=\"170.869391\"/>\r\n     <use style=\"fill:#1f77b4;stroke:#1f77b4;\" x=\"308.890479\" xlink:href=\"#m31a4faaf8c\" y=\"99.77975\"/>\r\n     <use style=\"fill:#1f77b4;stroke:#1f77b4;\" x=\"259.753575\" xlink:href=\"#m31a4faaf8c\" y=\"183.926672\"/>\r\n     <use style=\"fill:#1f77b4;stroke:#1f77b4;\" x=\"154.569889\" xlink:href=\"#m31a4faaf8c\" y=\"156.361301\"/>\r\n     <use style=\"fill:#1f77b4;stroke:#1f77b4;\" x=\"338.065516\" xlink:href=\"#m31a4faaf8c\" y=\"162.164537\"/>\r\n     <use style=\"fill:#1f77b4;stroke:#1f77b4;\" x=\"91.613231\" xlink:href=\"#m31a4faaf8c\" y=\"189.729908\"/>\r\n     <use style=\"fill:#1f77b4;stroke:#1f77b4;\" x=\"125.394853\" xlink:href=\"#m31a4faaf8c\" y=\"193.356931\"/>\r\n     <use style=\"fill:#1f77b4;stroke:#1f77b4;\" x=\"199.867973\" xlink:href=\"#m31a4faaf8c\" y=\"199.885571\"/>\r\n     <use style=\"fill:#1f77b4;stroke:#1f77b4;\" x=\"91.613231\" xlink:href=\"#m31a4faaf8c\" y=\"85.27166\"/>\r\n     <use style=\"fill:#1f77b4;stroke:#1f77b4;\" x=\"291.231904\" xlink:href=\"#m31a4faaf8c\" y=\"153.459683\"/>\r\n     <use style=\"fill:#1f77b4;stroke:#1f77b4;\" x=\"199.867973\" xlink:href=\"#m31a4faaf8c\" y=\"186.82829\"/>\r\n     <use style=\"fill:#1f77b4;stroke:#1f77b4;\" x=\"244.398292\" xlink:href=\"#m31a4faaf8c\" y=\"125.894312\"/>\r\n     <use style=\"fill:#1f77b4;stroke:#1f77b4;\" x=\"206.77785\" xlink:href=\"#m31a4faaf8c\" y=\"213.305555\"/>\r\n     <use style=\"fill:#1f77b4;stroke:#1f77b4;\" x=\"73.186892\" xlink:href=\"#m31a4faaf8c\" y=\"203.512594\"/>\r\n     <use style=\"fill:#1f77b4;stroke:#1f77b4;\" x=\"284.322027\" xlink:href=\"#m31a4faaf8c\" y=\"133.148357\"/>\r\n     <use style=\"fill:#1f77b4;stroke:#1f77b4;\" x=\"154.569889\" xlink:href=\"#m31a4faaf8c\" y=\"162.164537\"/>\r\n     <use style=\"fill:#1f77b4;stroke:#1f77b4;\" x=\"83.93559\" xlink:href=\"#m31a4faaf8c\" y=\"201.33638\"/>\r\n     <use style=\"fill:#1f77b4;stroke:#1f77b4;\" x=\"363.401732\" xlink:href=\"#m31a4faaf8c\" y=\"181.750459\"/>\r\n     <use style=\"fill:#1f77b4;stroke:#1f77b4;\" x=\"139.214607\" xlink:href=\"#m31a4faaf8c\" y=\"175.221818\"/>\r\n     <use style=\"fill:#1f77b4;stroke:#1f77b4;\" x=\"70.115835\" xlink:href=\"#m31a4faaf8c\" y=\"184.652077\"/>\r\n     <use style=\"fill:#1f77b4;stroke:#1f77b4;\" x=\"218.294312\" xlink:href=\"#m31a4faaf8c\" y=\"182.475863\"/>\r\n     <use style=\"fill:#1f77b4;stroke:#1f77b4;\" x=\"126.930381\" xlink:href=\"#m31a4faaf8c\" y=\"179.574245\"/>\r\n     <use style=\"fill:#1f77b4;stroke:#1f77b4;\" x=\"128.465909\" xlink:href=\"#m31a4faaf8c\" y=\"167.967773\"/>\r\n     <use style=\"fill:#1f77b4;stroke:#1f77b4;\" x=\"77.025713\" xlink:href=\"#m31a4faaf8c\" y=\"204.237998\"/>\r\n     <use style=\"fill:#1f77b4;stroke:#1f77b4;\" x=\"220.597604\" xlink:href=\"#m31a4faaf8c\" y=\"111.386222\"/>\r\n     <use style=\"fill:#1f77b4;stroke:#1f77b4;\" x=\"283.554263\" xlink:href=\"#m31a4faaf8c\" y=\"131.697548\"/>\r\n     <use style=\"fill:#1f77b4;stroke:#1f77b4;\" x=\"180.67387\" xlink:href=\"#m31a4faaf8c\" y=\"165.066155\"/>\r\n     <use style=\"fill:#1f77b4;stroke:#1f77b4;\" x=\"212.919963\" xlink:href=\"#m31a4faaf8c\" y=\"157.086706\"/>\r\n     <use style=\"fill:#1f77b4;stroke:#1f77b4;\" x=\"179.138342\" xlink:href=\"#m31a4faaf8c\" y=\"176.672627\"/>\r\n     <use style=\"fill:#1f77b4;stroke:#1f77b4;\" x=\"199.100209\" xlink:href=\"#m31a4faaf8c\" y=\"125.894312\"/>\r\n     <use style=\"fill:#1f77b4;stroke:#1f77b4;\" x=\"341.136572\" xlink:href=\"#m31a4faaf8c\" y=\"196.983953\"/>\r\n     <use style=\"fill:#1f77b4;stroke:#1f77b4;\" x=\"318.103649\" xlink:href=\"#m31a4faaf8c\" y=\"201.33638\"/>\r\n     <use style=\"fill:#1f77b4;stroke:#1f77b4;\" x=\"286.625319\" xlink:href=\"#m31a4faaf8c\" y=\"183.201268\"/>\r\n     <use style=\"fill:#1f77b4;stroke:#1f77b4;\" x=\"362.633968\" xlink:href=\"#m31a4faaf8c\" y=\"207.139616\"/>\r\n     <use style=\"fill:#1f77b4;stroke:#1f77b4;\" x=\"366.472789\" xlink:href=\"#m31a4faaf8c\" y=\"205.688807\"/>\r\n     <use style=\"fill:#1f77b4;stroke:#1f77b4;\" x=\"214.455491\" xlink:href=\"#m31a4faaf8c\" y=\"159.262919\"/>\r\n     <use style=\"fill:#1f77b4;stroke:#1f77b4;\" x=\"134.608022\" xlink:href=\"#m31a4faaf8c\" y=\"182.475863\"/>\r\n     <use style=\"fill:#1f77b4;stroke:#1f77b4;\" x=\"211.384435\" xlink:href=\"#m31a4faaf8c\" y=\"134.599166\"/>\r\n     <use style=\"fill:#1f77b4;stroke:#1f77b4;\" x=\"140.750135\" xlink:href=\"#m31a4faaf8c\" y=\"182.475863\"/>\r\n     <use style=\"fill:#1f77b4;stroke:#1f77b4;\" x=\"217.526548\" xlink:href=\"#m31a4faaf8c\" y=\"187.553695\"/>\r\n     <use style=\"fill:#1f77b4;stroke:#1f77b4;\" x=\"70.115835\" xlink:href=\"#m31a4faaf8c\" y=\"175.947223\"/>\r\n     <use style=\"fill:#1f77b4;stroke:#1f77b4;\" x=\"272.805565\" xlink:href=\"#m31a4faaf8c\" y=\"189.004504\"/>\r\n     <use style=\"fill:#1f77b4;stroke:#1f77b4;\" x=\"192.958096\" xlink:href=\"#m31a4faaf8c\" y=\"37.394962\"/>\r\n     <use style=\"fill:#1f77b4;stroke:#1f77b4;\" x=\"159.176474\" xlink:href=\"#m31a4faaf8c\" y=\"190.455313\"/>\r\n     <use style=\"fill:#1f77b4;stroke:#1f77b4;\" x=\"341.136572\" xlink:href=\"#m31a4faaf8c\" y=\"181.750459\"/>\r\n     <use style=\"fill:#1f77b4;stroke:#1f77b4;\" x=\"182.977162\" xlink:href=\"#m31a4faaf8c\" y=\"169.418582\"/>\r\n     <use style=\"fill:#1f77b4;stroke:#1f77b4;\" x=\"329.620111\" xlink:href=\"#m31a4faaf8c\" y=\"169.418582\"/>\r\n     <use style=\"fill:#1f77b4;stroke:#1f77b4;\" x=\"80.864533\" xlink:href=\"#m31a4faaf8c\" y=\"191.906122\"/>\r\n     <use style=\"fill:#1f77b4;stroke:#1f77b4;\" x=\"291.341585\" xlink:href=\"#m31a4faaf8c\" y=\"202.787189\"/>\r\n     <use style=\"fill:#1f77b4;stroke:#1f77b4;\" x=\"157.640946\" xlink:href=\"#m31a4faaf8c\" y=\"201.33638\"/>\r\n     <use style=\"fill:#1f77b4;stroke:#1f77b4;\" x=\"80.864533\" xlink:href=\"#m31a4faaf8c\" y=\"174.496414\"/>\r\n     <use style=\"fill:#1f77b4;stroke:#1f77b4;\" x=\"359.562912\" xlink:href=\"#m31a4faaf8c\" y=\"194.082335\"/>\r\n     <use style=\"fill:#1f77b4;stroke:#1f77b4;\" x=\"340.368808\" xlink:href=\"#m31a4faaf8c\" y=\"176.672627\"/>\r\n     <use style=\"fill:#1f77b4;stroke:#1f77b4;\" x=\"156.105418\" xlink:href=\"#m31a4faaf8c\" y=\"133.148357\"/>\r\n     <use style=\"fill:#1f77b4;stroke:#1f77b4;\" x=\"199.867973\" xlink:href=\"#m31a4faaf8c\" y=\"203.512594\"/>\r\n     <use style=\"fill:#1f77b4;stroke:#1f77b4;\" x=\"209.848907\" xlink:href=\"#m31a4faaf8c\" y=\"189.004504\"/>\r\n     <use style=\"fill:#1f77b4;stroke:#1f77b4;\" x=\"275.218538\" xlink:href=\"#m31a4faaf8c\" y=\"163.615346\"/>\r\n     <use style=\"fill:#1f77b4;stroke:#1f77b4;\" x=\"214.455491\" xlink:href=\"#m31a4faaf8c\" y=\"152.008874\"/>\r\n     <use style=\"fill:#1f77b4;stroke:#1f77b4;\" x=\"165.318587\" xlink:href=\"#m31a4faaf8c\" y=\"196.983953\"/>\r\n     <use style=\"fill:#1f77b4;stroke:#1f77b4;\" x=\"295.070725\" xlink:href=\"#m31a4faaf8c\" y=\"183.201268\"/>\r\n     <use style=\"fill:#1f77b4;stroke:#1f77b4;\" x=\"163.783059\" xlink:href=\"#m31a4faaf8c\" y=\"182.475863\"/>\r\n     <use style=\"fill:#1f77b4;stroke:#1f77b4;\" x=\"311.961536\" xlink:href=\"#m31a4faaf8c\" y=\"207.139616\"/>\r\n     <use style=\"fill:#1f77b4;stroke:#1f77b4;\" x=\"220.597604\" xlink:href=\"#m31a4faaf8c\" y=\"73.665188\"/>\r\n     <use style=\"fill:#1f77b4;stroke:#1f77b4;\" x=\"196.796916\" xlink:href=\"#m31a4faaf8c\" y=\"199.160167\"/>\r\n     <use style=\"fill:#1f77b4;stroke:#1f77b4;\" x=\"130.001437\" xlink:href=\"#m31a4faaf8c\" y=\"140.402402\"/>\r\n     <use style=\"fill:#1f77b4;stroke:#1f77b4;\" x=\"189.887039\" xlink:href=\"#m31a4faaf8c\" y=\"154.910492\"/>\r\n     <use style=\"fill:#1f77b4;stroke:#1f77b4;\" x=\"169.925172\" xlink:href=\"#m31a4faaf8c\" y=\"166.516964\"/>\r\n     <use style=\"fill:#1f77b4;stroke:#1f77b4;\" x=\"128.465909\" xlink:href=\"#m31a4faaf8c\" y=\"102.681368\"/>\r\n     <use style=\"fill:#1f77b4;stroke:#1f77b4;\" x=\"192.958096\" xlink:href=\"#m31a4faaf8c\" y=\"182.475863\"/>\r\n     <use style=\"fill:#1f77b4;stroke:#1f77b4;\" x=\"308.890479\" xlink:href=\"#m31a4faaf8c\" y=\"154.910492\"/>\r\n     <use style=\"fill:#1f77b4;stroke:#1f77b4;\" x=\"218.294312\" xlink:href=\"#m31a4faaf8c\" y=\"154.910492\"/>\r\n     <use style=\"fill:#1f77b4;stroke:#1f77b4;\" x=\"71.651364\" xlink:href=\"#m31a4faaf8c\" y=\"180.29965\"/>\r\n     <use style=\"fill:#1f77b4;stroke:#1f77b4;\" x=\"312.071216\" xlink:href=\"#m31a4faaf8c\" y=\"207.865021\"/>\r\n     <use style=\"fill:#1f77b4;stroke:#1f77b4;\" x=\"71.651364\" xlink:href=\"#m31a4faaf8c\" y=\"203.512594\"/>\r\n     <use style=\"fill:#1f77b4;stroke:#1f77b4;\" x=\"172.996229\" xlink:href=\"#m31a4faaf8c\" y=\"195.533144\"/>\r\n     <use style=\"fill:#1f77b4;stroke:#1f77b4;\" x=\"169.925172\" xlink:href=\"#m31a4faaf8c\" y=\"144.754829\"/>\r\n     <use style=\"fill:#1f77b4;stroke:#1f77b4;\" x=\"350.0207\" xlink:href=\"#m31a4faaf8c\" y=\"184.652077\"/>\r\n     <use style=\"fill:#1f77b4;stroke:#1f77b4;\" x=\"363.401732\" xlink:href=\"#m31a4faaf8c\" y=\"199.885571\"/>\r\n     <use style=\"fill:#1f77b4;stroke:#1f77b4;\" x=\"303.51613\" xlink:href=\"#m31a4faaf8c\" y=\"192.631526\"/>\r\n     <use style=\"fill:#1f77b4;stroke:#1f77b4;\" x=\"196.796916\" xlink:href=\"#m31a4faaf8c\" y=\"206.414212\"/>\r\n     <use style=\"fill:#1f77b4;stroke:#1f77b4;\" x=\"67.593182\" xlink:href=\"#m31a4faaf8c\" y=\"173.771009\"/>\r\n     <use style=\"fill:#1f77b4;stroke:#1f77b4;\" x=\"284.322027\" xlink:href=\"#m31a4faaf8c\" y=\"186.102886\"/>\r\n     <use style=\"fill:#1f77b4;stroke:#1f77b4;\" x=\"271.270037\" xlink:href=\"#m31a4faaf8c\" y=\"172.3202\"/>\r\n     <use style=\"fill:#1f77b4;stroke:#1f77b4;\" x=\"194.493624\" xlink:href=\"#m31a4faaf8c\" y=\"203.512594\"/>\r\n     <use style=\"fill:#1f77b4;stroke:#1f77b4;\" x=\"131.536966\" xlink:href=\"#m31a4faaf8c\" y=\"207.502319\"/>\r\n     <use style=\"fill:#1f77b4;stroke:#1f77b4;\" x=\"222.900897\" xlink:href=\"#m31a4faaf8c\" y=\"178.123436\"/>\r\n     <use style=\"fill:#1f77b4;stroke:#1f77b4;\" x=\"171.4607\" xlink:href=\"#m31a4faaf8c\" y=\"183.201268\"/>\r\n     <use style=\"fill:#1f77b4;stroke:#1f77b4;\" x=\"148.427776\" xlink:href=\"#m31a4faaf8c\" y=\"169.418582\"/>\r\n     <use style=\"fill:#1f77b4;stroke:#1f77b4;\" x=\"361.09844\" xlink:href=\"#m31a4faaf8c\" y=\"172.3202\"/>\r\n     <use style=\"fill:#1f77b4;stroke:#1f77b4;\" x=\"293.535197\" xlink:href=\"#m31a4faaf8c\" y=\"78.017615\"/>\r\n     <use style=\"fill:#1f77b4;stroke:#1f77b4;\" x=\"73.186892\" xlink:href=\"#m31a4faaf8c\" y=\"179.574245\"/>\r\n     <use style=\"fill:#1f77b4;stroke:#1f77b4;\" x=\"211.384435\" xlink:href=\"#m31a4faaf8c\" y=\"98.328941\"/>\r\n     <use style=\"fill:#1f77b4;stroke:#1f77b4;\" x=\"196.796916\" xlink:href=\"#m31a4faaf8c\" y=\"186.102886\"/>\r\n     <use style=\"fill:#1f77b4;stroke:#1f77b4;\" x=\"291.231904\" xlink:href=\"#m31a4faaf8c\" y=\"189.729908\"/>\r\n     <use style=\"fill:#1f77b4;stroke:#1f77b4;\" x=\"78.561241\" xlink:href=\"#m31a4faaf8c\" y=\"195.533144\"/>\r\n     <use style=\"fill:#1f77b4;stroke:#1f77b4;\" x=\"166.854115\" xlink:href=\"#m31a4faaf8c\" y=\"169.418582\"/>\r\n     <use style=\"fill:#1f77b4;stroke:#1f77b4;\" x=\"125.394853\" xlink:href=\"#m31a4faaf8c\" y=\"205.688807\"/>\r\n     <use style=\"fill:#1f77b4;stroke:#1f77b4;\" x=\"182.977162\" xlink:href=\"#m31a4faaf8c\" y=\"209.31583\"/>\r\n     <use style=\"fill:#1f77b4;stroke:#1f77b4;\" x=\"295.070725\" xlink:href=\"#m31a4faaf8c\" y=\"191.906122\"/>\r\n     <use style=\"fill:#1f77b4;stroke:#1f77b4;\" x=\"214.455491\" xlink:href=\"#m31a4faaf8c\" y=\"157.81211\"/>\r\n     <use style=\"fill:#1f77b4;stroke:#1f77b4;\" x=\"186.815983\" xlink:href=\"#m31a4faaf8c\" y=\"133.148357\"/>\r\n     <use style=\"fill:#1f77b4;stroke:#1f77b4;\" x=\"315.800356\" xlink:href=\"#m31a4faaf8c\" y=\"195.533144\"/>\r\n     <use style=\"fill:#1f77b4;stroke:#1f77b4;\" x=\"177.602813\" xlink:href=\"#m31a4faaf8c\" y=\"160.713728\"/>\r\n     <use style=\"fill:#1f77b4;stroke:#1f77b4;\" x=\"218.294312\" xlink:href=\"#m31a4faaf8c\" y=\"207.865021\"/>\r\n     <use style=\"fill:#1f77b4;stroke:#1f77b4;\" x=\"169.925172\" xlink:href=\"#m31a4faaf8c\" y=\"165.066155\"/>\r\n     <use style=\"fill:#1f77b4;stroke:#1f77b4;\" x=\"205.242322\" xlink:href=\"#m31a4faaf8c\" y=\"207.865021\"/>\r\n     <use style=\"fill:#1f77b4;stroke:#1f77b4;\" x=\"295.070725\" xlink:href=\"#m31a4faaf8c\" y=\"186.82829\"/>\r\n     <use style=\"fill:#1f77b4;stroke:#1f77b4;\" x=\"308.890479\" xlink:href=\"#m31a4faaf8c\" y=\"118.640267\"/>\r\n     <use style=\"fill:#1f77b4;stroke:#1f77b4;\" x=\"208.313378\" xlink:href=\"#m31a4faaf8c\" y=\"204.237998\"/>\r\n     <use style=\"fill:#1f77b4;stroke:#1f77b4;\" x=\"192.958096\" xlink:href=\"#m31a4faaf8c\" y=\"118.640267\"/>\r\n     <use style=\"fill:#1f77b4;stroke:#1f77b4;\" x=\"361.09844\" xlink:href=\"#m31a4faaf8c\" y=\"112.837031\"/>\r\n     <use style=\"fill:#1f77b4;stroke:#1f77b4;\" x=\"338.175197\" xlink:href=\"#m31a4faaf8c\" y=\"195.533144\"/>\r\n     <use style=\"fill:#1f77b4;stroke:#1f77b4;\" x=\"275.108857\" xlink:href=\"#m31a4faaf8c\" y=\"200.610976\"/>\r\n     <use style=\"fill:#1f77b4;stroke:#1f77b4;\" x=\"130.001437\" xlink:href=\"#m31a4faaf8c\" y=\"209.31583\"/>\r\n     <use style=\"fill:#1f77b4;stroke:#1f77b4;\" x=\"131.536966\" xlink:href=\"#m31a4faaf8c\" y=\"177.398032\"/>\r\n     <use style=\"fill:#1f77b4;stroke:#1f77b4;\" x=\"211.384435\" xlink:href=\"#m31a4faaf8c\" y=\"165.066155\"/>\r\n     <use style=\"fill:#1f77b4;stroke:#1f77b4;\" x=\"131.536966\" xlink:href=\"#m31a4faaf8c\" y=\"185.377481\"/>\r\n     <use style=\"fill:#1f77b4;stroke:#1f77b4;\" x=\"180.67387\" xlink:href=\"#m31a4faaf8c\" y=\"191.906122\"/>\r\n     <use style=\"fill:#1f77b4;stroke:#1f77b4;\" x=\"275.108857\" xlink:href=\"#m31a4faaf8c\" y=\"198.434762\"/>\r\n     <use style=\"fill:#1f77b4;stroke:#1f77b4;\" x=\"264.36016\" xlink:href=\"#m31a4faaf8c\" y=\"169.418582\"/>\r\n     <use style=\"fill:#1f77b4;stroke:#1f77b4;\" x=\"219.062076\" xlink:href=\"#m31a4faaf8c\" y=\"182.475863\"/>\r\n     <use style=\"fill:#1f77b4;stroke:#1f77b4;\" x=\"249.772641\" xlink:href=\"#m31a4faaf8c\" y=\"177.398032\"/>\r\n     <use style=\"fill:#1f77b4;stroke:#1f77b4;\" x=\"220.597604\" xlink:href=\"#m31a4faaf8c\" y=\"104.132177\"/>\r\n     <use style=\"fill:#1f77b4;stroke:#1f77b4;\" x=\"196.796916\" xlink:href=\"#m31a4faaf8c\" y=\"112.837031\"/>\r\n     <use style=\"fill:#1f77b4;stroke:#1f77b4;\" x=\"371.847138\" xlink:href=\"#m31a4faaf8c\" y=\"170.143987\"/>\r\n     <use style=\"fill:#1f77b4;stroke:#1f77b4;\" x=\"258.985811\" xlink:href=\"#m31a4faaf8c\" y=\"178.123436\"/>\r\n     <use style=\"fill:#1f77b4;stroke:#1f77b4;\" x=\"293.535197\" xlink:href=\"#m31a4faaf8c\" y=\"146.205638\"/>\r\n     <use style=\"fill:#1f77b4;stroke:#1f77b4;\" x=\"214.455491\" xlink:href=\"#m31a4faaf8c\" y=\"165.066155\"/>\r\n     <use style=\"fill:#1f77b4;stroke:#1f77b4;\" x=\"284.322027\" xlink:href=\"#m31a4faaf8c\" y=\"160.713728\"/>\r\n     <use style=\"fill:#1f77b4;stroke:#1f77b4;\" x=\"361.09844\" xlink:href=\"#m31a4faaf8c\" y=\"191.906122\"/>\r\n     <use style=\"fill:#1f77b4;stroke:#1f77b4;\" x=\"285.089791\" xlink:href=\"#m31a4faaf8c\" y=\"188.279099\"/>\r\n     <use style=\"fill:#1f77b4;stroke:#1f77b4;\" x=\"168.389644\" xlink:href=\"#m31a4faaf8c\" y=\"205.688807\"/>\r\n     <use style=\"fill:#1f77b4;stroke:#1f77b4;\" x=\"169.925172\" xlink:href=\"#m31a4faaf8c\" y=\"196.983953\"/>\r\n     <use style=\"fill:#1f77b4;stroke:#1f77b4;\" x=\"222.900897\" xlink:href=\"#m31a4faaf8c\" y=\"109.935413\"/>\r\n     <use style=\"fill:#1f77b4;stroke:#1f77b4;\" x=\"80.864533\" xlink:href=\"#m31a4faaf8c\" y=\"172.3202\"/>\r\n     <use style=\"fill:#1f77b4;stroke:#1f77b4;\" x=\"308.890479\" xlink:href=\"#m31a4faaf8c\" y=\"109.935413\"/>\r\n     <use style=\"fill:#1f77b4;stroke:#1f77b4;\" x=\"176.067285\" xlink:href=\"#m31a4faaf8c\" y=\"193.356931\"/>\r\n     <use style=\"fill:#1f77b4;stroke:#1f77b4;\" x=\"219.062076\" xlink:href=\"#m31a4faaf8c\" y=\"194.80774\"/>\r\n     <use style=\"fill:#1f77b4;stroke:#1f77b4;\" x=\"196.029152\" xlink:href=\"#m31a4faaf8c\" y=\"201.33638\"/>\r\n     <use style=\"fill:#1f77b4;stroke:#1f77b4;\" x=\"344.207629\" xlink:href=\"#m31a4faaf8c\" y=\"143.30402\"/>\r\n     <use style=\"fill:#1f77b4;stroke:#1f77b4;\" x=\"160.712002\" xlink:href=\"#m31a4faaf8c\" y=\"166.516964\"/>\r\n     <use style=\"fill:#1f77b4;stroke:#1f77b4;\" x=\"361.866204\" xlink:href=\"#m31a4faaf8c\" y=\"207.865021\"/>\r\n     <use style=\"fill:#1f77b4;stroke:#1f77b4;\" x=\"206.77785\" xlink:href=\"#m31a4faaf8c\" y=\"203.512594\"/>\r\n     <use style=\"fill:#1f77b4;stroke:#1f77b4;\" x=\"327.865221\" xlink:href=\"#m31a4faaf8c\" y=\"80.919233\"/>\r\n     <use style=\"fill:#1f77b4;stroke:#1f77b4;\" x=\"218.294312\" xlink:href=\"#m31a4faaf8c\" y=\"46.099817\"/>\r\n     <use style=\"fill:#1f77b4;stroke:#1f77b4;\" x=\"179.138342\" xlink:href=\"#m31a4faaf8c\" y=\"202.061785\"/>\r\n     <use style=\"fill:#1f77b4;stroke:#1f77b4;\" x=\"160.712002\" xlink:href=\"#m31a4faaf8c\" y=\"63.509525\"/>\r\n     <use style=\"fill:#1f77b4;stroke:#1f77b4;\" x=\"196.796916\" xlink:href=\"#m31a4faaf8c\" y=\"201.33638\"/>\r\n     <use style=\"fill:#1f77b4;stroke:#1f77b4;\" x=\"287.393084\" xlink:href=\"#m31a4faaf8c\" y=\"210.766639\"/>\r\n     <use style=\"fill:#1f77b4;stroke:#1f77b4;\" x=\"215.99102\" xlink:href=\"#m31a4faaf8c\" y=\"173.771009\"/>\r\n     <use style=\"fill:#1f77b4;stroke:#1f77b4;\" x=\"338.175197\" xlink:href=\"#m31a4faaf8c\" y=\"198.434762\"/>\r\n     <use style=\"fill:#1f77b4;stroke:#1f77b4;\" x=\"280.483206\" xlink:href=\"#m31a4faaf8c\" y=\"183.926672\"/>\r\n     <use style=\"fill:#1f77b4;stroke:#1f77b4;\" x=\"199.100209\" xlink:href=\"#m31a4faaf8c\" y=\"204.963403\"/>\r\n     <use style=\"fill:#1f77b4;stroke:#1f77b4;\" x=\"208.313378\" xlink:href=\"#m31a4faaf8c\" y=\"176.672627\"/>\r\n     <use style=\"fill:#1f77b4;stroke:#1f77b4;\" x=\"174.531757\" xlink:href=\"#m31a4faaf8c\" y=\"210.041234\"/>\r\n     <use style=\"fill:#1f77b4;stroke:#1f77b4;\" x=\"222.900897\" xlink:href=\"#m31a4faaf8c\" y=\"175.221818\"/>\r\n     <use style=\"fill:#1f77b4;stroke:#1f77b4;\" x=\"137.679079\" xlink:href=\"#m31a4faaf8c\" y=\"169.418582\"/>\r\n     <use style=\"fill:#1f77b4;stroke:#1f77b4;\" x=\"291.999668\" xlink:href=\"#m31a4faaf8c\" y=\"163.615346\"/>\r\n     <use style=\"fill:#1f77b4;stroke:#1f77b4;\" x=\"143.821192\" xlink:href=\"#m31a4faaf8c\" y=\"202.061785\"/>\r\n     <use style=\"fill:#1f77b4;stroke:#1f77b4;\" x=\"166.854115\" xlink:href=\"#m31a4faaf8c\" y=\"207.139616\"/>\r\n     <use style=\"fill:#1f77b4;stroke:#1f77b4;\" x=\"285.089791\" xlink:href=\"#m31a4faaf8c\" y=\"203.512594\"/>\r\n     <use style=\"fill:#1f77b4;stroke:#1f77b4;\" x=\"364.169496\" xlink:href=\"#m31a4faaf8c\" y=\"173.771009\"/>\r\n     <use style=\"fill:#1f77b4;stroke:#1f77b4;\" x=\"196.796916\" xlink:href=\"#m31a4faaf8c\" y=\"156.361301\"/>\r\n     <use style=\"fill:#1f77b4;stroke:#1f77b4;\" x=\"140.750135\" xlink:href=\"#m31a4faaf8c\" y=\"172.3202\"/>\r\n     <use style=\"fill:#1f77b4;stroke:#1f77b4;\" x=\"160.712002\" xlink:href=\"#m31a4faaf8c\" y=\"96.878132\"/>\r\n     <use style=\"fill:#1f77b4;stroke:#1f77b4;\" x=\"128.465909\" xlink:href=\"#m31a4faaf8c\" y=\"186.102886\"/>\r\n     <use style=\"fill:#1f77b4;stroke:#1f77b4;\" x=\"218.294312\" xlink:href=\"#m31a4faaf8c\" y=\"188.279099\"/>\r\n     <use style=\"fill:#1f77b4;stroke:#1f77b4;\" x=\"312.071216\" xlink:href=\"#m31a4faaf8c\" y=\"189.729908\"/>\r\n     <use style=\"fill:#1f77b4;stroke:#1f77b4;\" x=\"220.597604\" xlink:href=\"#m31a4faaf8c\" y=\"207.139616\"/>\r\n     <use style=\"fill:#1f77b4;stroke:#1f77b4;\" x=\"289.696376\" xlink:href=\"#m31a4faaf8c\" y=\"92.525705\"/>\r\n     <use style=\"fill:#1f77b4;stroke:#1f77b4;\" x=\"218.294312\" xlink:href=\"#m31a4faaf8c\" y=\"204.963403\"/>\r\n     <use style=\"fill:#1f77b4;stroke:#1f77b4;\" x=\"287.393084\" xlink:href=\"#m31a4faaf8c\" y=\"167.967773\"/>\r\n     <use style=\"fill:#1f77b4;stroke:#1f77b4;\" x=\"214.455491\" xlink:href=\"#m31a4faaf8c\" y=\"183.926672\"/>\r\n     <use style=\"fill:#1f77b4;stroke:#1f77b4;\" x=\"222.900897\" xlink:href=\"#m31a4faaf8c\" y=\"166.516964\"/>\r\n     <use style=\"fill:#1f77b4;stroke:#1f77b4;\" x=\"311.961536\" xlink:href=\"#m31a4faaf8c\" y=\"202.787189\"/>\r\n     <use style=\"fill:#1f77b4;stroke:#1f77b4;\" x=\"74.72242\" xlink:href=\"#m31a4faaf8c\" y=\"177.398032\"/>\r\n     <use style=\"fill:#1f77b4;stroke:#1f77b4;\" x=\"78.561241\" xlink:href=\"#m31a4faaf8c\" y=\"196.258549\"/>\r\n     <use style=\"fill:#1f77b4;stroke:#1f77b4;\" x=\"361.09844\" xlink:href=\"#m31a4faaf8c\" y=\"198.434762\"/>\r\n     <use style=\"fill:#1f77b4;stroke:#1f77b4;\" x=\"285.089791\" xlink:href=\"#m31a4faaf8c\" y=\"208.590425\"/>\r\n     <use style=\"fill:#1f77b4;stroke:#1f77b4;\" x=\"172.996229\" xlink:href=\"#m31a4faaf8c\" y=\"203.512594\"/>\r\n     <use style=\"fill:#1f77b4;stroke:#1f77b4;\" x=\"156.105418\" xlink:href=\"#m31a4faaf8c\" y=\"207.139616\"/>\r\n     <use style=\"fill:#1f77b4;stroke:#1f77b4;\" x=\"120.788268\" xlink:href=\"#m31a4faaf8c\" y=\"202.787189\"/>\r\n     <use style=\"fill:#1f77b4;stroke:#1f77b4;\" x=\"311.961536\" xlink:href=\"#m31a4faaf8c\" y=\"194.80774\"/>\r\n     <use style=\"fill:#1f77b4;stroke:#1f77b4;\" x=\"157.640946\" xlink:href=\"#m31a4faaf8c\" y=\"197.709358\"/>\r\n     <use style=\"fill:#1f77b4;stroke:#1f77b4;\" x=\"154.569889\" xlink:href=\"#m31a4faaf8c\" y=\"214.030959\"/>\r\n     <use style=\"fill:#1f77b4;stroke:#1f77b4;\" x=\"184.183649\" xlink:href=\"#m31a4faaf8c\" y=\"130.972143\"/>\r\n     <use style=\"fill:#1f77b4;stroke:#1f77b4;\" x=\"68.580307\" xlink:href=\"#m31a4faaf8c\" y=\"188.279099\"/>\r\n     <use style=\"fill:#1f77b4;stroke:#1f77b4;\" x=\"288.160848\" xlink:href=\"#m31a4faaf8c\" y=\"201.33638\"/>\r\n     <use style=\"fill:#1f77b4;stroke:#1f77b4;\" x=\"157.640946\" xlink:href=\"#m31a4faaf8c\" y=\"137.500784\"/>\r\n     <use style=\"fill:#1f77b4;stroke:#1f77b4;\" x=\"157.640946\" xlink:href=\"#m31a4faaf8c\" y=\"203.512594\"/>\r\n     <use style=\"fill:#1f77b4;stroke:#1f77b4;\" x=\"332.033084\" xlink:href=\"#m31a4faaf8c\" y=\"200.248274\"/>\r\n     <use style=\"fill:#1f77b4;stroke:#1f77b4;\" x=\"196.796916\" xlink:href=\"#m31a4faaf8c\" y=\"122.992694\"/>\r\n     <use style=\"fill:#1f77b4;stroke:#1f77b4;\" x=\"169.925172\" xlink:href=\"#m31a4faaf8c\" y=\"207.139616\"/>\r\n     <use style=\"fill:#1f77b4;stroke:#1f77b4;\" x=\"95.452052\" xlink:href=\"#m31a4faaf8c\" y=\"169.418582\"/>\r\n     <use style=\"fill:#1f77b4;stroke:#1f77b4;\" x=\"308.890479\" xlink:href=\"#m31a4faaf8c\" y=\"149.107256\"/>\r\n     <use style=\"fill:#1f77b4;stroke:#1f77b4;\" x=\"200.635737\" xlink:href=\"#m31a4faaf8c\" y=\"144.754829\"/>\r\n     <use style=\"fill:#1f77b4;stroke:#1f77b4;\" x=\"77.025713\" xlink:href=\"#m31a4faaf8c\" y=\"122.992694\"/>\r\n     <use style=\"fill:#1f77b4;stroke:#1f77b4;\" x=\"287.393084\" xlink:href=\"#m31a4faaf8c\" y=\"205.688807\"/>\r\n     <use style=\"fill:#1f77b4;stroke:#1f77b4;\" x=\"79.329005\" xlink:href=\"#m31a4faaf8c\" y=\"162.164537\"/>\r\n     <use style=\"fill:#1f77b4;stroke:#1f77b4;\" x=\"183.744926\" xlink:href=\"#m31a4faaf8c\" y=\"117.189458\"/>\r\n     <use style=\"fill:#1f77b4;stroke:#1f77b4;\" x=\"271.270037\" xlink:href=\"#m31a4faaf8c\" y=\"183.201268\"/>\r\n     <use style=\"fill:#1f77b4;stroke:#1f77b4;\" x=\"211.384435\" xlink:href=\"#m31a4faaf8c\" y=\"144.754829\"/>\r\n     <use style=\"fill:#1f77b4;stroke:#1f77b4;\" x=\"211.384435\" xlink:href=\"#m31a4faaf8c\" y=\"17.083636\"/>\r\n     <use style=\"fill:#1f77b4;stroke:#1f77b4;\" x=\"140.750135\" xlink:href=\"#m31a4faaf8c\" y=\"207.865021\"/>\r\n     <use style=\"fill:#1f77b4;stroke:#1f77b4;\" x=\"220.597604\" xlink:href=\"#m31a4faaf8c\" y=\"205.688807\"/>\r\n     <use style=\"fill:#1f77b4;stroke:#1f77b4;\" x=\"200.635737\" xlink:href=\"#m31a4faaf8c\" y=\"190.455313\"/>\r\n     <use style=\"fill:#1f77b4;stroke:#1f77b4;\" x=\"338.175197\" xlink:href=\"#m31a4faaf8c\" y=\"180.29965\"/>\r\n     <use style=\"fill:#1f77b4;stroke:#1f77b4;\" x=\"288.270528\" xlink:href=\"#m31a4faaf8c\" y=\"150.558065\"/>\r\n     <use style=\"fill:#1f77b4;stroke:#1f77b4;\" x=\"196.796916\" xlink:href=\"#m31a4faaf8c\" y=\"193.356931\"/>\r\n     <use style=\"fill:#1f77b4;stroke:#1f77b4;\" x=\"71.651364\" xlink:href=\"#m31a4faaf8c\" y=\"86.722469\"/>\r\n     <use style=\"fill:#1f77b4;stroke:#1f77b4;\" x=\"364.169496\" xlink:href=\"#m31a4faaf8c\" y=\"207.865021\"/>\r\n     <use style=\"fill:#1f77b4;stroke:#1f77b4;\" x=\"140.750135\" xlink:href=\"#m31a4faaf8c\" y=\"207.139616\"/>\r\n     <use style=\"fill:#1f77b4;stroke:#1f77b4;\" x=\"196.796916\" xlink:href=\"#m31a4faaf8c\" y=\"144.754829\"/>\r\n     <use style=\"fill:#1f77b4;stroke:#1f77b4;\" x=\"280.483206\" xlink:href=\"#m31a4faaf8c\" y=\"202.061785\"/>\r\n     <use style=\"fill:#1f77b4;stroke:#1f77b4;\" x=\"349.581978\" xlink:href=\"#m31a4faaf8c\" y=\"205.181024\"/>\r\n     <use style=\"fill:#1f77b4;stroke:#1f77b4;\" x=\"277.41215\" xlink:href=\"#m31a4faaf8c\" y=\"169.418582\"/>\r\n     <use style=\"fill:#1f77b4;stroke:#1f77b4;\" x=\"308.890479\" xlink:href=\"#m31a4faaf8c\" y=\"167.967773\"/>\r\n     <use style=\"fill:#1f77b4;stroke:#1f77b4;\" x=\"217.526548\" xlink:href=\"#m31a4faaf8c\" y=\"117.189458\"/>\r\n     <use style=\"fill:#1f77b4;stroke:#1f77b4;\" x=\"340.368808\" xlink:href=\"#m31a4faaf8c\" y=\"188.279099\"/>\r\n     <use style=\"fill:#1f77b4;stroke:#1f77b4;\" x=\"171.4607\" xlink:href=\"#m31a4faaf8c\" y=\"175.221818\"/>\r\n     <use style=\"fill:#1f77b4;stroke:#1f77b4;\" x=\"194.493624\" xlink:href=\"#m31a4faaf8c\" y=\"167.967773\"/>\r\n     <use style=\"fill:#1f77b4;stroke:#1f77b4;\" x=\"203.706794\" xlink:href=\"#m31a4faaf8c\" y=\"136.049975\"/>\r\n     <use style=\"fill:#1f77b4;stroke:#1f77b4;\" x=\"350.349742\" xlink:href=\"#m31a4faaf8c\" y=\"205.688807\"/>\r\n     <use style=\"fill:#1f77b4;stroke:#1f77b4;\" x=\"80.864533\" xlink:href=\"#m31a4faaf8c\" y=\"174.496414\"/>\r\n     <use style=\"fill:#1f77b4;stroke:#1f77b4;\" x=\"318.103649\" xlink:href=\"#m31a4faaf8c\" y=\"124.443503\"/>\r\n     <use style=\"fill:#1f77b4;stroke:#1f77b4;\" x=\"165.318587\" xlink:href=\"#m31a4faaf8c\" y=\"195.533144\"/>\r\n     <use style=\"fill:#1f77b4;stroke:#1f77b4;\" x=\"87.006646\" xlink:href=\"#m31a4faaf8c\" y=\"175.947223\"/>\r\n     <use style=\"fill:#1f77b4;stroke:#1f77b4;\" x=\"171.4607\" xlink:href=\"#m31a4faaf8c\" y=\"167.967773\"/>\r\n     <use style=\"fill:#1f77b4;stroke:#1f77b4;\" x=\"123.859324\" xlink:href=\"#m31a4faaf8c\" y=\"117.189458\"/>\r\n     <use style=\"fill:#1f77b4;stroke:#1f77b4;\" x=\"293.535197\" xlink:href=\"#m31a4faaf8c\" y=\"117.189458\"/>\r\n     <use style=\"fill:#1f77b4;stroke:#1f77b4;\" x=\"285.089791\" xlink:href=\"#m31a4faaf8c\" y=\"163.615346\"/>\r\n     <use style=\"fill:#1f77b4;stroke:#1f77b4;\" x=\"344.097948\" xlink:href=\"#m31a4faaf8c\" y=\"212.942852\"/>\r\n     <use style=\"fill:#1f77b4;stroke:#1f77b4;\" x=\"291.231904\" xlink:href=\"#m31a4faaf8c\" y=\"165.79156\"/>\r\n     <use style=\"fill:#1f77b4;stroke:#1f77b4;\" x=\"162.247531\" xlink:href=\"#m31a4faaf8c\" y=\"193.356931\"/>\r\n     <use style=\"fill:#1f77b4;stroke:#1f77b4;\" x=\"285.089791\" xlink:href=\"#m31a4faaf8c\" y=\"204.963403\"/>\r\n     <use style=\"fill:#1f77b4;stroke:#1f77b4;\" x=\"215.99102\" xlink:href=\"#m31a4faaf8c\" y=\"173.771009\"/>\r\n     <use style=\"fill:#1f77b4;stroke:#1f77b4;\" x=\"277.52183\" xlink:href=\"#m31a4faaf8c\" y=\"205.688807\"/>\r\n     <use style=\"fill:#1f77b4;stroke:#1f77b4;\" x=\"200.635737\" xlink:href=\"#m31a4faaf8c\" y=\"178.848841\"/>\r\n     <use style=\"fill:#1f77b4;stroke:#1f77b4;\" x=\"70.115835\" xlink:href=\"#m31a4faaf8c\" y=\"175.221818\"/>\r\n     <use style=\"fill:#1f77b4;stroke:#1f77b4;\" x=\"159.176474\" xlink:href=\"#m31a4faaf8c\" y=\"138.951593\"/>\r\n     <use style=\"fill:#1f77b4;stroke:#1f77b4;\" x=\"83.93559\" xlink:href=\"#m31a4faaf8c\" y=\"159.262919\"/>\r\n     <use style=\"fill:#1f77b4;stroke:#1f77b4;\" x=\"153.034361\" xlink:href=\"#m31a4faaf8c\" y=\"92.525705\"/>\r\n     <use style=\"fill:#1f77b4;stroke:#1f77b4;\" x=\"177.602813\" xlink:href=\"#m31a4faaf8c\" y=\"199.885571\"/>\r\n     <use style=\"fill:#1f77b4;stroke:#1f77b4;\" x=\"142.285663\" xlink:href=\"#m31a4faaf8c\" y=\"83.820851\"/>\r\n     <use style=\"fill:#1f77b4;stroke:#1f77b4;\" x=\"311.961536\" xlink:href=\"#m31a4faaf8c\" y=\"115.738649\"/>\r\n     <use style=\"fill:#1f77b4;stroke:#1f77b4;\" x=\"339.601044\" xlink:href=\"#m31a4faaf8c\" y=\"133.148357\"/>\r\n     <use style=\"fill:#1f77b4;stroke:#1f77b4;\" x=\"128.465909\" xlink:href=\"#m31a4faaf8c\" y=\"128.79593\"/>\r\n     <use style=\"fill:#1f77b4;stroke:#1f77b4;\" x=\"183.744926\" xlink:href=\"#m31a4faaf8c\" y=\"205.688807\"/>\r\n     <use style=\"fill:#1f77b4;stroke:#1f77b4;\" x=\"136.14355\" xlink:href=\"#m31a4faaf8c\" y=\"181.025054\"/>\r\n     <use style=\"fill:#1f77b4;stroke:#1f77b4;\" x=\"130.001437\" xlink:href=\"#m31a4faaf8c\" y=\"108.484604\"/>\r\n     <use style=\"fill:#1f77b4;stroke:#1f77b4;\" x=\"196.796916\" xlink:href=\"#m31a4faaf8c\" y=\"169.418582\"/>\r\n     <use style=\"fill:#1f77b4;stroke:#1f77b4;\" x=\"194.603305\" xlink:href=\"#m31a4faaf8c\" y=\"191.906122\"/>\r\n     <use style=\"fill:#1f77b4;stroke:#1f77b4;\" x=\"148.427776\" xlink:href=\"#m31a4faaf8c\" y=\"138.951593\"/>\r\n     <use style=\"fill:#1f77b4;stroke:#1f77b4;\" x=\"341.136572\" xlink:href=\"#m31a4faaf8c\" y=\"181.025054\"/>\r\n     <use style=\"fill:#1f77b4;stroke:#1f77b4;\" x=\"143.821192\" xlink:href=\"#m31a4faaf8c\" y=\"195.533144\"/>\r\n     <use style=\"fill:#1f77b4;stroke:#1f77b4;\" x=\"285.089791\" xlink:href=\"#m31a4faaf8c\" y=\"210.766639\"/>\r\n     <use style=\"fill:#1f77b4;stroke:#1f77b4;\" x=\"290.46414\" xlink:href=\"#m31a4faaf8c\" y=\"187.553695\"/>\r\n     <use style=\"fill:#1f77b4;stroke:#1f77b4;\" x=\"194.493624\" xlink:href=\"#m31a4faaf8c\" y=\"201.33638\"/>\r\n     <use style=\"fill:#1f77b4;stroke:#1f77b4;\" x=\"362.633968\" xlink:href=\"#m31a4faaf8c\" y=\"207.139616\"/>\r\n     <use style=\"fill:#1f77b4;stroke:#1f77b4;\" x=\"143.821192\" xlink:href=\"#m31a4faaf8c\" y=\"175.947223\"/>\r\n     <use style=\"fill:#1f77b4;stroke:#1f77b4;\" x=\"188.351511\" xlink:href=\"#m31a4faaf8c\" y=\"131.697548\"/>\r\n     <use style=\"fill:#1f77b4;stroke:#1f77b4;\" x=\"218.294312\" xlink:href=\"#m31a4faaf8c\" y=\"150.558065\"/>\r\n     <use style=\"fill:#1f77b4;stroke:#1f77b4;\" x=\"153.034361\" xlink:href=\"#m31a4faaf8c\" y=\"195.533144\"/>\r\n     <use style=\"fill:#1f77b4;stroke:#1f77b4;\" x=\"361.09844\" xlink:href=\"#m31a4faaf8c\" y=\"208.590425\"/>\r\n     <use style=\"fill:#1f77b4;stroke:#1f77b4;\" x=\"233.539914\" xlink:href=\"#m31a4faaf8c\" y=\"163.615346\"/>\r\n     <use style=\"fill:#1f77b4;stroke:#1f77b4;\" x=\"134.608022\" xlink:href=\"#m31a4faaf8c\" y=\"212.58015\"/>\r\n     <use style=\"fill:#1f77b4;stroke:#1f77b4;\" x=\"284.322027\" xlink:href=\"#m31a4faaf8c\" y=\"170.869391\"/>\r\n     <use style=\"fill:#1f77b4;stroke:#1f77b4;\" x=\"290.46414\" xlink:href=\"#m31a4faaf8c\" y=\"206.414212\"/>\r\n     <use style=\"fill:#1f77b4;stroke:#1f77b4;\" x=\"272.805565\" xlink:href=\"#m31a4faaf8c\" y=\"199.885571\"/>\r\n     <use style=\"fill:#1f77b4;stroke:#1f77b4;\" x=\"364.169496\" xlink:href=\"#m31a4faaf8c\" y=\"196.983953\"/>\r\n     <use style=\"fill:#1f77b4;stroke:#1f77b4;\" x=\"140.750135\" xlink:href=\"#m31a4faaf8c\" y=\"180.29965\"/>\r\n     <use style=\"fill:#1f77b4;stroke:#1f77b4;\" x=\"123.859324\" xlink:href=\"#m31a4faaf8c\" y=\"83.820851\"/>\r\n     <use style=\"fill:#1f77b4;stroke:#1f77b4;\" x=\"209.848907\" xlink:href=\"#m31a4faaf8c\" y=\"157.81211\"/>\r\n     <use style=\"fill:#1f77b4;stroke:#1f77b4;\" x=\"172.996229\" xlink:href=\"#m31a4faaf8c\" y=\"201.33638\"/>\r\n     <use style=\"fill:#1f77b4;stroke:#1f77b4;\" x=\"310.535688\" xlink:href=\"#m31a4faaf8c\" y=\"186.82829\"/>\r\n     <use style=\"fill:#1f77b4;stroke:#1f77b4;\" x=\"338.175197\" xlink:href=\"#m31a4faaf8c\" y=\"205.688807\"/>\r\n     <use style=\"fill:#1f77b4;stroke:#1f77b4;\" x=\"143.711511\" xlink:href=\"#m31a4faaf8c\" y=\"194.082335\"/>\r\n     <use style=\"fill:#1f77b4;stroke:#1f77b4;\" x=\"284.322027\" xlink:href=\"#m31a4faaf8c\" y=\"172.3202\"/>\r\n     <use style=\"fill:#1f77b4;stroke:#1f77b4;\" x=\"177.602813\" xlink:href=\"#m31a4faaf8c\" y=\"147.656447\"/>\r\n     <use style=\"fill:#1f77b4;stroke:#1f77b4;\" x=\"272.805565\" xlink:href=\"#m31a4faaf8c\" y=\"159.262919\"/>\r\n     <use style=\"fill:#1f77b4;stroke:#1f77b4;\" x=\"291.231904\" xlink:href=\"#m31a4faaf8c\" y=\"199.885571\"/>\r\n     <use style=\"fill:#1f77b4;stroke:#1f77b4;\" x=\"169.925172\" xlink:href=\"#m31a4faaf8c\" y=\"194.80774\"/>\r\n     <use style=\"fill:#1f77b4;stroke:#1f77b4;\" x=\"291.999668\" xlink:href=\"#m31a4faaf8c\" y=\"152.008874\"/>\r\n     <use style=\"fill:#1f77b4;stroke:#1f77b4;\" x=\"285.089791\" xlink:href=\"#m31a4faaf8c\" y=\"207.139616\"/>\r\n     <use style=\"fill:#1f77b4;stroke:#1f77b4;\" x=\"308.890479\" xlink:href=\"#m31a4faaf8c\" y=\"127.345121\"/>\r\n     <use style=\"fill:#1f77b4;stroke:#1f77b4;\" x=\"128.465909\" xlink:href=\"#m31a4faaf8c\" y=\"205.326105\"/>\r\n     <use style=\"fill:#1f77b4;stroke:#1f77b4;\" x=\"340.368808\" xlink:href=\"#m31a4faaf8c\" y=\"162.164537\"/>\r\n     <use style=\"fill:#1f77b4;stroke:#1f77b4;\" x=\"285.089791\" xlink:href=\"#m31a4faaf8c\" y=\"199.885571\"/>\r\n     <use style=\"fill:#1f77b4;stroke:#1f77b4;\" x=\"261.289103\" xlink:href=\"#m31a4faaf8c\" y=\"172.3202\"/>\r\n     <use style=\"fill:#1f77b4;stroke:#1f77b4;\" x=\"222.900897\" xlink:href=\"#m31a4faaf8c\" y=\"118.640267\"/>\r\n     <use style=\"fill:#1f77b4;stroke:#1f77b4;\" x=\"73.186892\" xlink:href=\"#m31a4faaf8c\" y=\"147.656447\"/>\r\n     <use style=\"fill:#1f77b4;stroke:#1f77b4;\" x=\"177.602813\" xlink:href=\"#m31a4faaf8c\" y=\"157.81211\"/>\r\n     <use style=\"fill:#1f77b4;stroke:#1f77b4;\" x=\"272.805565\" xlink:href=\"#m31a4faaf8c\" y=\"185.377481\"/>\r\n     <use style=\"fill:#1f77b4;stroke:#1f77b4;\" x=\"366.472789\" xlink:href=\"#m31a4faaf8c\" y=\"167.967773\"/>\r\n     <use style=\"fill:#1f77b4;stroke:#1f77b4;\" x=\"286.625319\" xlink:href=\"#m31a4faaf8c\" y=\"197.709358\"/>\r\n     <use style=\"fill:#1f77b4;stroke:#1f77b4;\" x=\"287.393084\" xlink:href=\"#m31a4faaf8c\" y=\"179.574245\"/>\r\n     <use style=\"fill:#1f77b4;stroke:#1f77b4;\" x=\"218.294312\" xlink:href=\"#m31a4faaf8c\" y=\"210.041234\"/>\r\n     <use style=\"fill:#1f77b4;stroke:#1f77b4;\" x=\"302.748366\" xlink:href=\"#m31a4faaf8c\" y=\"184.652077\"/>\r\n     <use style=\"fill:#1f77b4;stroke:#1f77b4;\" x=\"291.999668\" xlink:href=\"#m31a4faaf8c\" y=\"211.854746\"/>\r\n     <use style=\"fill:#1f77b4;stroke:#1f77b4;\" x=\"218.294312\" xlink:href=\"#m31a4faaf8c\" y=\"194.80774\"/>\r\n     <use style=\"fill:#1f77b4;stroke:#1f77b4;\" x=\"73.186892\" xlink:href=\"#m31a4faaf8c\" y=\"194.082335\"/>\r\n     <use style=\"fill:#1f77b4;stroke:#1f77b4;\" x=\"273.68301\" xlink:href=\"#m31a4faaf8c\" y=\"178.123436\"/>\r\n     <use style=\"fill:#1f77b4;stroke:#1f77b4;\" x=\"68.580307\" xlink:href=\"#m31a4faaf8c\" y=\"202.787189\"/>\r\n     <use style=\"fill:#1f77b4;stroke:#1f77b4;\" x=\"290.46414\" xlink:href=\"#m31a4faaf8c\" y=\"138.951593\"/>\r\n     <use style=\"fill:#1f77b4;stroke:#1f77b4;\" x=\"237.378735\" xlink:href=\"#m31a4faaf8c\" y=\"184.652077\"/>\r\n     <use style=\"fill:#1f77b4;stroke:#1f77b4;\" x=\"286.625319\" xlink:href=\"#m31a4faaf8c\" y=\"204.963403\"/>\r\n     <use style=\"fill:#1f77b4;stroke:#1f77b4;\" x=\"291.231904\" xlink:href=\"#m31a4faaf8c\" y=\"167.967773\"/>\r\n     <use style=\"fill:#1f77b4;stroke:#1f77b4;\" x=\"77.025713\" xlink:href=\"#m31a4faaf8c\" y=\"210.041234\"/>\r\n     <use style=\"fill:#1f77b4;stroke:#1f77b4;\" x=\"214.455491\" xlink:href=\"#m31a4faaf8c\" y=\"121.541885\"/>\r\n     <use style=\"fill:#1f77b4;stroke:#1f77b4;\" x=\"188.351511\" xlink:href=\"#m31a4faaf8c\" y=\"172.3202\"/>\r\n     <use style=\"fill:#1f77b4;stroke:#1f77b4;\" x=\"133.182174\" xlink:href=\"#m31a4faaf8c\" y=\"179.574245\"/>\r\n     <use style=\"fill:#1f77b4;stroke:#1f77b4;\" x=\"311.961536\" xlink:href=\"#m31a4faaf8c\" y=\"195.533144\"/>\r\n     <use style=\"fill:#1f77b4;stroke:#1f77b4;\" x=\"163.783059\" xlink:href=\"#m31a4faaf8c\" y=\"194.082335\"/>\r\n     <use style=\"fill:#1f77b4;stroke:#1f77b4;\" x=\"311.961536\" xlink:href=\"#m31a4faaf8c\" y=\"209.31583\"/>\r\n     <use style=\"fill:#1f77b4;stroke:#1f77b4;\" x=\"308.890479\" xlink:href=\"#m31a4faaf8c\" y=\"204.237998\"/>\r\n     <use style=\"fill:#1f77b4;stroke:#1f77b4;\" x=\"329.620111\" xlink:href=\"#m31a4faaf8c\" y=\"92.525705\"/>\r\n     <use style=\"fill:#1f77b4;stroke:#1f77b4;\" x=\"211.384435\" xlink:href=\"#m31a4faaf8c\" y=\"163.615346\"/>\r\n     <use style=\"fill:#1f77b4;stroke:#1f77b4;\" x=\"263.702076\" xlink:href=\"#m31a4faaf8c\" y=\"202.787189\"/>\r\n     <use style=\"fill:#1f77b4;stroke:#1f77b4;\" x=\"133.072494\" xlink:href=\"#m31a4faaf8c\" y=\"181.750459\"/>\r\n     <use style=\"fill:#1f77b4;stroke:#1f77b4;\" x=\"212.919963\" xlink:href=\"#m31a4faaf8c\" y=\"133.148357\"/>\r\n     <use style=\"fill:#1f77b4;stroke:#1f77b4;\" x=\"133.182174\" xlink:href=\"#m31a4faaf8c\" y=\"114.28784\"/>\r\n     <use style=\"fill:#1f77b4;stroke:#1f77b4;\" x=\"128.465909\" xlink:href=\"#m31a4faaf8c\" y=\"38.845771\"/>\r\n     <use style=\"fill:#1f77b4;stroke:#1f77b4;\" x=\"130.001437\" xlink:href=\"#m31a4faaf8c\" y=\"206.414212\"/>\r\n     <use style=\"fill:#1f77b4;stroke:#1f77b4;\" x=\"196.796916\" xlink:href=\"#m31a4faaf8c\" y=\"95.427323\"/>\r\n     <use style=\"fill:#1f77b4;stroke:#1f77b4;\" x=\"163.783059\" xlink:href=\"#m31a4faaf8c\" y=\"148.381852\"/>\r\n     <use style=\"fill:#1f77b4;stroke:#1f77b4;\" x=\"182.977162\" xlink:href=\"#m31a4faaf8c\" y=\"207.139616\"/>\r\n     <use style=\"fill:#1f77b4;stroke:#1f77b4;\" x=\"361.866204\" xlink:href=\"#m31a4faaf8c\" y=\"210.041234\"/>\r\n     <use style=\"fill:#1f77b4;stroke:#1f77b4;\" x=\"218.294312\" xlink:href=\"#m31a4faaf8c\" y=\"166.516964\"/>\r\n     <use style=\"fill:#1f77b4;stroke:#1f77b4;\" x=\"128.465909\" xlink:href=\"#m31a4faaf8c\" y=\"131.697548\"/>\r\n     <use style=\"fill:#1f77b4;stroke:#1f77b4;\" x=\"338.065516\" xlink:href=\"#m31a4faaf8c\" y=\"114.28784\"/>\r\n     <use style=\"fill:#1f77b4;stroke:#1f77b4;\" x=\"120.788268\" xlink:href=\"#m31a4faaf8c\" y=\"194.80774\"/>\r\n     <use style=\"fill:#1f77b4;stroke:#1f77b4;\" x=\"83.93559\" xlink:href=\"#m31a4faaf8c\" y=\"196.258549\"/>\r\n     <use style=\"fill:#1f77b4;stroke:#1f77b4;\" x=\"215.99102\" xlink:href=\"#m31a4faaf8c\" y=\"206.414212\"/>\r\n     <use style=\"fill:#1f77b4;stroke:#1f77b4;\" x=\"290.46414\" xlink:href=\"#m31a4faaf8c\" y=\"196.983953\"/>\r\n     <use style=\"fill:#1f77b4;stroke:#1f77b4;\" x=\"329.620111\" xlink:href=\"#m31a4faaf8c\" y=\"173.771009\"/>\r\n     <use style=\"fill:#1f77b4;stroke:#1f77b4;\" x=\"362.633968\" xlink:href=\"#m31a4faaf8c\" y=\"197.709358\"/>\r\n     <use style=\"fill:#1f77b4;stroke:#1f77b4;\" x=\"361.09844\" xlink:href=\"#m31a4faaf8c\" y=\"120.091076\"/>\r\n     <use style=\"fill:#1f77b4;stroke:#1f77b4;\" x=\"337.955835\" xlink:href=\"#m31a4faaf8c\" y=\"188.279099\"/>\r\n     <use style=\"fill:#1f77b4;stroke:#1f77b4;\" x=\"255.14699\" xlink:href=\"#m31a4faaf8c\" y=\"128.79593\"/>\r\n     <use style=\"fill:#1f77b4;stroke:#1f77b4;\" x=\"128.465909\" xlink:href=\"#m31a4faaf8c\" y=\"196.983953\"/>\r\n     <use style=\"fill:#1f77b4;stroke:#1f77b4;\" x=\"308.890479\" xlink:href=\"#m31a4faaf8c\" y=\"160.713728\"/>\r\n     <use style=\"fill:#1f77b4;stroke:#1f77b4;\" x=\"214.455491\" xlink:href=\"#m31a4faaf8c\" y=\"202.061785\"/>\r\n     <use style=\"fill:#1f77b4;stroke:#1f77b4;\" x=\"70.115835\" xlink:href=\"#m31a4faaf8c\" y=\"183.926672\"/>\r\n     <use style=\"fill:#1f77b4;stroke:#1f77b4;\" x=\"199.867973\" xlink:href=\"#m31a4faaf8c\" y=\"193.356931\"/>\r\n     <use style=\"fill:#1f77b4;stroke:#1f77b4;\" x=\"196.796916\" xlink:href=\"#m31a4faaf8c\" y=\"214.393661\"/>\r\n     <use style=\"fill:#1f77b4;stroke:#1f77b4;\" x=\"143.711511\" xlink:href=\"#m31a4faaf8c\" y=\"125.894312\"/>\r\n     <use style=\"fill:#1f77b4;stroke:#1f77b4;\" x=\"165.318587\" xlink:href=\"#m31a4faaf8c\" y=\"186.82829\"/>\r\n     <use style=\"fill:#1f77b4;stroke:#1f77b4;\" x=\"275.876622\" xlink:href=\"#m31a4faaf8c\" y=\"186.102886\"/>\r\n     <use style=\"fill:#1f77b4;stroke:#1f77b4;\" x=\"219.062076\" xlink:href=\"#m31a4faaf8c\" y=\"167.967773\"/>\r\n     <use style=\"fill:#1f77b4;stroke:#1f77b4;\" x=\"308.890479\" xlink:href=\"#m31a4faaf8c\" y=\"202.061785\"/>\r\n     <use style=\"fill:#1f77b4;stroke:#1f77b4;\" x=\"169.925172\" xlink:href=\"#m31a4faaf8c\" y=\"200.610976\"/>\r\n     <use style=\"fill:#1f77b4;stroke:#1f77b4;\" x=\"163.783059\" xlink:href=\"#m31a4faaf8c\" y=\"206.414212\"/>\r\n     <use style=\"fill:#1f77b4;stroke:#1f77b4;\" x=\"360.330676\" xlink:href=\"#m31a4faaf8c\" y=\"181.750459\"/>\r\n     <use style=\"fill:#1f77b4;stroke:#1f77b4;\" x=\"284.322027\" xlink:href=\"#m31a4faaf8c\" y=\"191.906122\"/>\r\n     <use style=\"fill:#1f77b4;stroke:#1f77b4;\" x=\"266.663452\" xlink:href=\"#m31a4faaf8c\" y=\"151.28347\"/>\r\n     <use style=\"fill:#1f77b4;stroke:#1f77b4;\" x=\"311.632494\" xlink:href=\"#m31a4faaf8c\" y=\"73.665188\"/>\r\n     <use style=\"fill:#1f77b4;stroke:#1f77b4;\" x=\"86.896966\" xlink:href=\"#m31a4faaf8c\" y=\"173.771009\"/>\r\n     <use style=\"fill:#1f77b4;stroke:#1f77b4;\" x=\"361.09844\" xlink:href=\"#m31a4faaf8c\" y=\"117.189458\"/>\r\n     <use style=\"fill:#1f77b4;stroke:#1f77b4;\" x=\"174.531757\" xlink:href=\"#m31a4faaf8c\" y=\"187.553695\"/>\r\n     <use style=\"fill:#1f77b4;stroke:#1f77b4;\" x=\"100.8264\" xlink:href=\"#m31a4faaf8c\" y=\"166.516964\"/>\r\n     <use style=\"fill:#1f77b4;stroke:#1f77b4;\" x=\"269.734509\" xlink:href=\"#m31a4faaf8c\" y=\"149.107256\"/>\r\n     <use style=\"fill:#1f77b4;stroke:#1f77b4;\" x=\"288.270528\" xlink:href=\"#m31a4faaf8c\" y=\"199.885571\"/>\r\n     <use style=\"fill:#1f77b4;stroke:#1f77b4;\" x=\"344.207629\" xlink:href=\"#m31a4faaf8c\" y=\"207.865021\"/>\r\n     <use style=\"fill:#1f77b4;stroke:#1f77b4;\" x=\"364.169496\" xlink:href=\"#m31a4faaf8c\" y=\"156.361301\"/>\r\n     <use style=\"fill:#1f77b4;stroke:#1f77b4;\" x=\"85.471118\" xlink:href=\"#m31a4faaf8c\" y=\"204.600701\"/>\r\n     <use style=\"fill:#1f77b4;stroke:#1f77b4;\" x=\"344.097948\" xlink:href=\"#m31a4faaf8c\" y=\"196.258549\"/>\r\n     <use style=\"fill:#1f77b4;stroke:#1f77b4;\" x=\"220.597604\" xlink:href=\"#m31a4faaf8c\" y=\"107.033795\"/>\r\n     <use style=\"fill:#1f77b4;stroke:#1f77b4;\" x=\"312.071216\" xlink:href=\"#m31a4faaf8c\" y=\"204.963403\"/>\r\n     <use style=\"fill:#1f77b4;stroke:#1f77b4;\" x=\"172.996229\" xlink:href=\"#m31a4faaf8c\" y=\"78.017615\"/>\r\n     <use style=\"fill:#1f77b4;stroke:#1f77b4;\" x=\"284.322027\" xlink:href=\"#m31a4faaf8c\" y=\"200.610976\"/>\r\n     <use style=\"fill:#1f77b4;stroke:#1f77b4;\" x=\"148.427776\" xlink:href=\"#m31a4faaf8c\" y=\"185.377481\"/>\r\n     <use style=\"fill:#1f77b4;stroke:#1f77b4;\" x=\"126.930381\" xlink:href=\"#m31a4faaf8c\" y=\"202.787189\"/>\r\n     <use style=\"fill:#1f77b4;stroke:#1f77b4;\" x=\"131.536966\" xlink:href=\"#m31a4faaf8c\" y=\"157.81211\"/>\r\n     <use style=\"fill:#1f77b4;stroke:#1f77b4;\" x=\"226.739717\" xlink:href=\"#m31a4faaf8c\" y=\"200.610976\"/>\r\n     <use style=\"fill:#1f77b4;stroke:#1f77b4;\" x=\"78.561241\" xlink:href=\"#m31a4faaf8c\" y=\"185.377481\"/>\r\n     <use style=\"fill:#1f77b4;stroke:#1f77b4;\" x=\"344.097948\" xlink:href=\"#m31a4faaf8c\" y=\"205.688807\"/>\r\n     <use style=\"fill:#1f77b4;stroke:#1f77b4;\" x=\"341.136572\" xlink:href=\"#m31a4faaf8c\" y=\"208.953128\"/>\r\n     <use style=\"fill:#1f77b4;stroke:#1f77b4;\" x=\"188.351511\" xlink:href=\"#m31a4faaf8c\" y=\"204.963403\"/>\r\n     <use style=\"fill:#1f77b4;stroke:#1f77b4;\" x=\"271.270037\" xlink:href=\"#m31a4faaf8c\" y=\"118.640267\"/>\r\n     <use style=\"fill:#1f77b4;stroke:#1f77b4;\" x=\"318.103649\" xlink:href=\"#m31a4faaf8c\" y=\"203.512594\"/>\r\n     <use style=\"fill:#1f77b4;stroke:#1f77b4;\" x=\"220.597604\" xlink:href=\"#m31a4faaf8c\" y=\"141.853211\"/>\r\n     <use style=\"fill:#1f77b4;stroke:#1f77b4;\" x=\"273.573329\" xlink:href=\"#m31a4faaf8c\" y=\"136.049975\"/>\r\n     <use style=\"fill:#1f77b4;stroke:#1f77b4;\" x=\"176.067285\" xlink:href=\"#m31a4faaf8c\" y=\"140.402402\"/>\r\n     <use style=\"fill:#1f77b4;stroke:#1f77b4;\" x=\"295.070725\" xlink:href=\"#m31a4faaf8c\" y=\"93.976514\"/>\r\n     <use style=\"fill:#1f77b4;stroke:#1f77b4;\" x=\"363.401732\" xlink:href=\"#m31a4faaf8c\" y=\"178.123436\"/>\r\n     <use style=\"fill:#1f77b4;stroke:#1f77b4;\" x=\"146.892248\" xlink:href=\"#m31a4faaf8c\" y=\"178.123436\"/>\r\n     <use style=\"fill:#1f77b4;stroke:#1f77b4;\" x=\"80.864533\" xlink:href=\"#m31a4faaf8c\" y=\"120.091076\"/>\r\n     <use style=\"fill:#1f77b4;stroke:#1f77b4;\" x=\"199.867973\" xlink:href=\"#m31a4faaf8c\" y=\"187.553695\"/>\r\n     <use style=\"fill:#1f77b4;stroke:#1f77b4;\" x=\"344.097948\" xlink:href=\"#m31a4faaf8c\" y=\"204.237998\"/>\r\n     <use style=\"fill:#1f77b4;stroke:#1f77b4;\" x=\"258.985811\" xlink:href=\"#m31a4faaf8c\" y=\"202.787189\"/>\r\n     <use style=\"fill:#1f77b4;stroke:#1f77b4;\" x=\"143.821192\" xlink:href=\"#m31a4faaf8c\" y=\"184.652077\"/>\r\n     <use style=\"fill:#1f77b4;stroke:#1f77b4;\" x=\"143.821192\" xlink:href=\"#m31a4faaf8c\" y=\"195.533144\"/>\r\n     <use style=\"fill:#1f77b4;stroke:#1f77b4;\" x=\"214.455491\" xlink:href=\"#m31a4faaf8c\" y=\"205.688807\"/>\r\n     <use style=\"fill:#1f77b4;stroke:#1f77b4;\" x=\"361.866204\" xlink:href=\"#m31a4faaf8c\" y=\"214.393661\"/>\r\n     <use style=\"fill:#1f77b4;stroke:#1f77b4;\" x=\"196.796916\" xlink:href=\"#m31a4faaf8c\" y=\"160.713728\"/>\r\n     <use style=\"fill:#1f77b4;stroke:#1f77b4;\" x=\"196.796916\" xlink:href=\"#m31a4faaf8c\" y=\"188.279099\"/>\r\n     <use style=\"fill:#1f77b4;stroke:#1f77b4;\" x=\"318.103649\" xlink:href=\"#m31a4faaf8c\" y=\"124.443503\"/>\r\n     <use style=\"fill:#1f77b4;stroke:#1f77b4;\" x=\"160.712002\" xlink:href=\"#m31a4faaf8c\" y=\"200.610976\"/>\r\n     <use style=\"fill:#1f77b4;stroke:#1f77b4;\" x=\"143.821192\" xlink:href=\"#m31a4faaf8c\" y=\"99.77975\"/>\r\n     <use style=\"fill:#1f77b4;stroke:#1f77b4;\" x=\"280.483206\" xlink:href=\"#m31a4faaf8c\" y=\"194.082335\"/>\r\n     <use style=\"fill:#1f77b4;stroke:#1f77b4;\" x=\"130.001437\" xlink:href=\"#m31a4faaf8c\" y=\"195.533144\"/>\r\n     <use style=\"fill:#1f77b4;stroke:#1f77b4;\" x=\"318.103649\" xlink:href=\"#m31a4faaf8c\" y=\"120.091076\"/>\r\n     <use style=\"fill:#1f77b4;stroke:#1f77b4;\" x=\"340.368808\" xlink:href=\"#m31a4faaf8c\" y=\"183.926672\"/>\r\n     <use style=\"fill:#1f77b4;stroke:#1f77b4;\" x=\"285.089791\" xlink:href=\"#m31a4faaf8c\" y=\"179.574245\"/>\r\n     <use style=\"fill:#1f77b4;stroke:#1f77b4;\" x=\"215.99102\" xlink:href=\"#m31a4faaf8c\" y=\"159.262919\"/>\r\n     <use style=\"fill:#1f77b4;stroke:#1f77b4;\" x=\"318.652052\" xlink:href=\"#m31a4faaf8c\" y=\"109.935413\"/>\r\n     <use style=\"fill:#1f77b4;stroke:#1f77b4;\" x=\"361.866204\" xlink:href=\"#m31a4faaf8c\" y=\"172.3202\"/>\r\n     <use style=\"fill:#1f77b4;stroke:#1f77b4;\" x=\"344.207629\" xlink:href=\"#m31a4faaf8c\" y=\"185.377481\"/>\r\n     <use style=\"fill:#1f77b4;stroke:#1f77b4;\" x=\"361.866204\" xlink:href=\"#m31a4faaf8c\" y=\"193.356931\"/>\r\n     <use style=\"fill:#1f77b4;stroke:#1f77b4;\" x=\"151.498833\" xlink:href=\"#m31a4faaf8c\" y=\"159.262919\"/>\r\n     <use style=\"fill:#1f77b4;stroke:#1f77b4;\" x=\"208.313378\" xlink:href=\"#m31a4faaf8c\" y=\"207.139616\"/>\r\n     <use style=\"fill:#1f77b4;stroke:#1f77b4;\" x=\"140.750135\" xlink:href=\"#m31a4faaf8c\" y=\"183.201268\"/>\r\n     <use style=\"fill:#1f77b4;stroke:#1f77b4;\" x=\"329.291069\" xlink:href=\"#m31a4faaf8c\" y=\"188.279099\"/>\r\n     <use style=\"fill:#1f77b4;stroke:#1f77b4;\" x=\"82.400061\" xlink:href=\"#m31a4faaf8c\" y=\"202.061785\"/>\r\n     <use style=\"fill:#1f77b4;stroke:#1f77b4;\" x=\"176.067285\" xlink:href=\"#m31a4faaf8c\" y=\"141.853211\"/>\r\n     <use style=\"fill:#1f77b4;stroke:#1f77b4;\" x=\"271.708759\" xlink:href=\"#m31a4faaf8c\" y=\"140.402402\"/>\r\n     <use style=\"fill:#1f77b4;stroke:#1f77b4;\" x=\"140.750135\" xlink:href=\"#m31a4faaf8c\" y=\"179.574245\"/>\r\n     <use style=\"fill:#1f77b4;stroke:#1f77b4;\" x=\"209.848907\" xlink:href=\"#m31a4faaf8c\" y=\"186.82829\"/>\r\n     <use style=\"fill:#1f77b4;stroke:#1f77b4;\" x=\"286.625319\" xlink:href=\"#m31a4faaf8c\" y=\"170.869391\"/>\r\n     <use style=\"fill:#1f77b4;stroke:#1f77b4;\" x=\"291.999668\" xlink:href=\"#m31a4faaf8c\" y=\"173.771009\"/>\r\n     <use style=\"fill:#1f77b4;stroke:#1f77b4;\" x=\"222.900897\" xlink:href=\"#m31a4faaf8c\" y=\"175.221818\"/>\r\n     <use style=\"fill:#1f77b4;stroke:#1f77b4;\" x=\"143.821192\" xlink:href=\"#m31a4faaf8c\" y=\"210.041234\"/>\r\n     <use style=\"fill:#1f77b4;stroke:#1f77b4;\" x=\"131.536966\" xlink:href=\"#m31a4faaf8c\" y=\"177.398032\"/>\r\n     <use style=\"fill:#1f77b4;stroke:#1f77b4;\" x=\"120.788268\" xlink:href=\"#m31a4faaf8c\" y=\"49.001435\"/>\r\n     <use style=\"fill:#1f77b4;stroke:#1f77b4;\" x=\"368.447039\" xlink:href=\"#m31a4faaf8c\" y=\"94.701918\"/>\r\n     <use style=\"fill:#1f77b4;stroke:#1f77b4;\" x=\"83.93559\" xlink:href=\"#m31a4faaf8c\" y=\"178.123436\"/>\r\n     <use style=\"fill:#1f77b4;stroke:#1f77b4;\" x=\"143.711511\" xlink:href=\"#m31a4faaf8c\" y=\"188.279099\"/>\r\n     <use style=\"fill:#1f77b4;stroke:#1f77b4;\" x=\"87.006646\" xlink:href=\"#m31a4faaf8c\" y=\"199.160167\"/>\r\n     <use style=\"fill:#1f77b4;stroke:#1f77b4;\" x=\"81.412936\" xlink:href=\"#m31a4faaf8c\" y=\"180.29965\"/>\r\n     <use style=\"fill:#1f77b4;stroke:#1f77b4;\" x=\"292.767432\" xlink:href=\"#m31a4faaf8c\" y=\"185.377481\"/>\r\n     <use style=\"fill:#1f77b4;stroke:#1f77b4;\" x=\"128.465909\" xlink:href=\"#m31a4faaf8c\" y=\"185.377481\"/>\r\n     <use style=\"fill:#1f77b4;stroke:#1f77b4;\" x=\"169.925172\" xlink:href=\"#m31a4faaf8c\" y=\"153.459683\"/>\r\n     <use style=\"fill:#1f77b4;stroke:#1f77b4;\" x=\"171.4607\" xlink:href=\"#m31a4faaf8c\" y=\"159.262919\"/>\r\n     <use style=\"fill:#1f77b4;stroke:#1f77b4;\" x=\"307.24527\" xlink:href=\"#m31a4faaf8c\" y=\"101.230559\"/>\r\n     <use style=\"fill:#1f77b4;stroke:#1f77b4;\" x=\"362.633968\" xlink:href=\"#m31a4faaf8c\" y=\"127.345121\"/>\r\n     <use style=\"fill:#1f77b4;stroke:#1f77b4;\" x=\"159.176474\" xlink:href=\"#m31a4faaf8c\" y=\"175.221818\"/>\r\n     <use style=\"fill:#1f77b4;stroke:#1f77b4;\" x=\"329.620111\" xlink:href=\"#m31a4faaf8c\" y=\"165.066155\"/>\r\n     <use style=\"fill:#1f77b4;stroke:#1f77b4;\" x=\"143.821192\" xlink:href=\"#m31a4faaf8c\" y=\"202.061785\"/>\r\n     <use style=\"fill:#1f77b4;stroke:#1f77b4;\" x=\"250.540405\" xlink:href=\"#m31a4faaf8c\" y=\"181.025054\"/>\r\n     <use style=\"fill:#1f77b4;stroke:#1f77b4;\" x=\"361.866204\" xlink:href=\"#m31a4faaf8c\" y=\"183.201268\"/>\r\n     <use style=\"fill:#1f77b4;stroke:#1f77b4;\" x=\"142.285663\" xlink:href=\"#m31a4faaf8c\" y=\"172.3202\"/>\r\n     <use style=\"fill:#1f77b4;stroke:#1f77b4;\" x=\"131.536966\" xlink:href=\"#m31a4faaf8c\" y=\"153.459683\"/>\r\n     <use style=\"fill:#1f77b4;stroke:#1f77b4;\" x=\"295.838489\" xlink:href=\"#m31a4faaf8c\" y=\"173.771009\"/>\r\n     <use style=\"fill:#1f77b4;stroke:#1f77b4;\" x=\"142.285663\" xlink:href=\"#m31a4faaf8c\" y=\"212.942852\"/>\r\n     <use style=\"fill:#1f77b4;stroke:#1f77b4;\" x=\"176.067285\" xlink:href=\"#m31a4faaf8c\" y=\"207.139616\"/>\r\n     <use style=\"fill:#1f77b4;stroke:#1f77b4;\" x=\"71.651364\" xlink:href=\"#m31a4faaf8c\" y=\"109.935413\"/>\r\n     <use style=\"fill:#1f77b4;stroke:#1f77b4;\" x=\"80.864533\" xlink:href=\"#m31a4faaf8c\" y=\"207.139616\"/>\r\n     <use style=\"fill:#1f77b4;stroke:#1f77b4;\" x=\"177.602813\" xlink:href=\"#m31a4faaf8c\" y=\"206.414212\"/>\r\n     <use style=\"fill:#1f77b4;stroke:#1f77b4;\" x=\"311.961536\" xlink:href=\"#m31a4faaf8c\" y=\"203.512594\"/>\r\n     <use style=\"fill:#1f77b4;stroke:#1f77b4;\" x=\"311.961536\" xlink:href=\"#m31a4faaf8c\" y=\"154.910492\"/>\r\n     <use style=\"fill:#1f77b4;stroke:#1f77b4;\" x=\"159.176474\" xlink:href=\"#m31a4faaf8c\" y=\"101.230559\"/>\r\n     <use style=\"fill:#1f77b4;stroke:#1f77b4;\" x=\"294.302961\" xlink:href=\"#m31a4faaf8c\" y=\"209.31583\"/>\r\n     <use style=\"fill:#1f77b4;stroke:#1f77b4;\" x=\"148.427776\" xlink:href=\"#m31a4faaf8c\" y=\"169.418582\"/>\r\n     <use style=\"fill:#1f77b4;stroke:#1f77b4;\" x=\"361.866204\" xlink:href=\"#m31a4faaf8c\" y=\"35.944153\"/>\r\n     <use style=\"fill:#1f77b4;stroke:#1f77b4;\" x=\"68.580307\" xlink:href=\"#m31a4faaf8c\" y=\"206.414212\"/>\r\n     <use style=\"fill:#1f77b4;stroke:#1f77b4;\" x=\"154.569889\" xlink:href=\"#m31a4faaf8c\" y=\"195.533144\"/>\r\n     <use style=\"fill:#1f77b4;stroke:#1f77b4;\" x=\"286.625319\" xlink:href=\"#m31a4faaf8c\" y=\"196.983953\"/>\r\n     <use style=\"fill:#1f77b4;stroke:#1f77b4;\" x=\"212.919963\" xlink:href=\"#m31a4faaf8c\" y=\"96.878132\"/>\r\n     <use style=\"fill:#1f77b4;stroke:#1f77b4;\" x=\"71.651364\" xlink:href=\"#m31a4faaf8c\" y=\"194.082335\"/>\r\n     <use style=\"fill:#1f77b4;stroke:#1f77b4;\" x=\"176.067285\" xlink:href=\"#m31a4faaf8c\" y=\"160.713728\"/>\r\n     <use style=\"fill:#1f77b4;stroke:#1f77b4;\" x=\"291.231904\" xlink:href=\"#m31a4faaf8c\" y=\"195.533144\"/>\r\n     <use style=\"fill:#1f77b4;stroke:#1f77b4;\" x=\"344.207629\" xlink:href=\"#m31a4faaf8c\" y=\"122.992694\"/>\r\n     <use style=\"fill:#1f77b4;stroke:#1f77b4;\" x=\"157.640946\" xlink:href=\"#m31a4faaf8c\" y=\"212.217448\"/>\r\n     <use style=\"fill:#1f77b4;stroke:#1f77b4;\" x=\"151.498833\" xlink:href=\"#m31a4faaf8c\" y=\"204.237998\"/>\r\n     <use style=\"fill:#1f77b4;stroke:#1f77b4;\" x=\"137.679079\" xlink:href=\"#m31a4faaf8c\" y=\"167.967773\"/>\r\n     <use style=\"fill:#1f77b4;stroke:#1f77b4;\" x=\"73.186892\" xlink:href=\"#m31a4faaf8c\" y=\"198.434762\"/>\r\n     <use style=\"fill:#1f77b4;stroke:#1f77b4;\" x=\"308.890479\" xlink:href=\"#m31a4faaf8c\" y=\"170.869391\"/>\r\n     <use style=\"fill:#1f77b4;stroke:#1f77b4;\" x=\"179.138342\" xlink:href=\"#m31a4faaf8c\" y=\"206.414212\"/>\r\n     <use style=\"fill:#1f77b4;stroke:#1f77b4;\" x=\"214.455491\" xlink:href=\"#m31a4faaf8c\" y=\"176.672627\"/>\r\n     <use style=\"fill:#1f77b4;stroke:#1f77b4;\" x=\"140.750135\" xlink:href=\"#m31a4faaf8c\" y=\"170.869391\"/>\r\n     <use style=\"fill:#1f77b4;stroke:#1f77b4;\" x=\"271.708759\" xlink:href=\"#m31a4faaf8c\" y=\"163.615346\"/>\r\n     <use style=\"fill:#1f77b4;stroke:#1f77b4;\" x=\"312.071216\" xlink:href=\"#m31a4faaf8c\" y=\"209.31583\"/>\r\n     <use style=\"fill:#1f77b4;stroke:#1f77b4;\" x=\"156.105418\" xlink:href=\"#m31a4faaf8c\" y=\"189.004504\"/>\r\n     <use style=\"fill:#1f77b4;stroke:#1f77b4;\" x=\"79.329005\" xlink:href=\"#m31a4faaf8c\" y=\"185.377481\"/>\r\n     <use style=\"fill:#1f77b4;stroke:#1f77b4;\" x=\"91.613231\" xlink:href=\"#m31a4faaf8c\" y=\"133.148357\"/>\r\n     <use style=\"fill:#1f77b4;stroke:#1f77b4;\" x=\"157.640946\" xlink:href=\"#m31a4faaf8c\" y=\"136.049975\"/>\r\n     <use style=\"fill:#1f77b4;stroke:#1f77b4;\" x=\"284.322027\" xlink:href=\"#m31a4faaf8c\" y=\"198.434762\"/>\r\n     <use style=\"fill:#1f77b4;stroke:#1f77b4;\" x=\"159.176474\" xlink:href=\"#m31a4faaf8c\" y=\"202.787189\"/>\r\n     <use style=\"fill:#1f77b4;stroke:#1f77b4;\" x=\"208.313378\" xlink:href=\"#m31a4faaf8c\" y=\"62.058716\"/>\r\n     <use style=\"fill:#1f77b4;stroke:#1f77b4;\" x=\"289.696376\" xlink:href=\"#m31a4faaf8c\" y=\"138.951593\"/>\r\n     <use style=\"fill:#1f77b4;stroke:#1f77b4;\" x=\"283.554263\" xlink:href=\"#m31a4faaf8c\" y=\"156.361301\"/>\r\n     <use style=\"fill:#1f77b4;stroke:#1f77b4;\" x=\"188.351511\" xlink:href=\"#m31a4faaf8c\" y=\"85.27166\"/>\r\n     <use style=\"fill:#1f77b4;stroke:#1f77b4;\" x=\"220.597604\" xlink:href=\"#m31a4faaf8c\" y=\"191.906122\"/>\r\n     <use style=\"fill:#1f77b4;stroke:#1f77b4;\" x=\"220.597604\" xlink:href=\"#m31a4faaf8c\" y=\"202.061785\"/>\r\n     <use style=\"fill:#1f77b4;stroke:#1f77b4;\" x=\"291.999668\" xlink:href=\"#m31a4faaf8c\" y=\"190.455313\"/>\r\n     <use style=\"fill:#1f77b4;stroke:#1f77b4;\" x=\"285.089791\" xlink:href=\"#m31a4faaf8c\" y=\"184.652077\"/>\r\n     <use style=\"fill:#1f77b4;stroke:#1f77b4;\" x=\"371.847138\" xlink:href=\"#m31a4faaf8c\" y=\"206.05151\"/>\r\n     <use style=\"fill:#1f77b4;stroke:#1f77b4;\" x=\"363.401732\" xlink:href=\"#m31a4faaf8c\" y=\"191.906122\"/>\r\n     <use style=\"fill:#1f77b4;stroke:#1f77b4;\" x=\"196.029152\" xlink:href=\"#m31a4faaf8c\" y=\"180.29965\"/>\r\n     <use style=\"fill:#1f77b4;stroke:#1f77b4;\" x=\"134.608022\" xlink:href=\"#m31a4faaf8c\" y=\"157.81211\"/>\r\n     <use style=\"fill:#1f77b4;stroke:#1f77b4;\" x=\"208.313378\" xlink:href=\"#m31a4faaf8c\" y=\"196.258549\"/>\r\n     <use style=\"fill:#1f77b4;stroke:#1f77b4;\" x=\"143.821192\" xlink:href=\"#m31a4faaf8c\" y=\"211.854746\"/>\r\n     <use style=\"fill:#1f77b4;stroke:#1f77b4;\" x=\"201.074459\" xlink:href=\"#m31a4faaf8c\" y=\"175.221818\"/>\r\n     <use style=\"fill:#1f77b4;stroke:#1f77b4;\" x=\"88.542174\" xlink:href=\"#m31a4faaf8c\" y=\"190.455313\"/>\r\n     <use style=\"fill:#1f77b4;stroke:#1f77b4;\" x=\"218.294312\" xlink:href=\"#m31a4faaf8c\" y=\"150.558065\"/>\r\n     <use style=\"fill:#1f77b4;stroke:#1f77b4;\" x=\"199.100209\" xlink:href=\"#m31a4faaf8c\" y=\"186.82829\"/>\r\n     <use style=\"fill:#1f77b4;stroke:#1f77b4;\" x=\"311.961536\" xlink:href=\"#m31a4faaf8c\" y=\"160.713728\"/>\r\n     <use style=\"fill:#1f77b4;stroke:#1f77b4;\" x=\"68.580307\" xlink:href=\"#m31a4faaf8c\" y=\"199.885571\"/>\r\n     <use style=\"fill:#1f77b4;stroke:#1f77b4;\" x=\"308.890479\" xlink:href=\"#m31a4faaf8c\" y=\"144.754829\"/>\r\n     <use style=\"fill:#1f77b4;stroke:#1f77b4;\" x=\"308.890479\" xlink:href=\"#m31a4faaf8c\" y=\"136.049975\"/>\r\n     <use style=\"fill:#1f77b4;stroke:#1f77b4;\" x=\"70.115835\" xlink:href=\"#m31a4faaf8c\" y=\"196.983953\"/>\r\n     <use style=\"fill:#1f77b4;stroke:#1f77b4;\" x=\"68.580307\" xlink:href=\"#m31a4faaf8c\" y=\"182.475863\"/>\r\n     <use style=\"fill:#1f77b4;stroke:#1f77b4;\" x=\"151.498833\" xlink:href=\"#m31a4faaf8c\" y=\"158.537515\"/>\r\n     <use style=\"fill:#1f77b4;stroke:#1f77b4;\" x=\"174.531757\" xlink:href=\"#m31a4faaf8c\" y=\"163.615346\"/>\r\n     <use style=\"fill:#1f77b4;stroke:#1f77b4;\" x=\"211.384435\" xlink:href=\"#m31a4faaf8c\" y=\"188.279099\"/>\r\n     <use style=\"fill:#1f77b4;stroke:#1f77b4;\" x=\"291.231904\" xlink:href=\"#m31a4faaf8c\" y=\"169.418582\"/>\r\n     <use style=\"fill:#1f77b4;stroke:#1f77b4;\" x=\"359.562912\" xlink:href=\"#m31a4faaf8c\" y=\"209.31583\"/>\r\n     <use style=\"fill:#1f77b4;stroke:#1f77b4;\" x=\"344.097948\" xlink:href=\"#m31a4faaf8c\" y=\"179.574245\"/>\r\n     <use style=\"fill:#1f77b4;stroke:#1f77b4;\" x=\"219.062076\" xlink:href=\"#m31a4faaf8c\" y=\"204.237998\"/>\r\n     <use style=\"fill:#1f77b4;stroke:#1f77b4;\" x=\"194.493624\" xlink:href=\"#m31a4faaf8c\" y=\"196.258549\"/>\r\n     <use style=\"fill:#1f77b4;stroke:#1f77b4;\" x=\"290.46414\" xlink:href=\"#m31a4faaf8c\" y=\"156.361301\"/>\r\n     <use style=\"fill:#1f77b4;stroke:#1f77b4;\" x=\"360.330676\" xlink:href=\"#m31a4faaf8c\" y=\"82.370042\"/>\r\n     <use style=\"fill:#1f77b4;stroke:#1f77b4;\" x=\"68.580307\" xlink:href=\"#m31a4faaf8c\" y=\"194.082335\"/>\r\n     <use style=\"fill:#1f77b4;stroke:#1f77b4;\" x=\"143.711511\" xlink:href=\"#m31a4faaf8c\" y=\"163.615346\"/>\r\n     <use style=\"fill:#1f77b4;stroke:#1f77b4;\" x=\"148.976179\" xlink:href=\"#m31a4faaf8c\" y=\"105.220284\"/>\r\n     <use style=\"fill:#1f77b4;stroke:#1f77b4;\" x=\"322.710233\" xlink:href=\"#m31a4faaf8c\" y=\"200.610976\"/>\r\n     <use style=\"fill:#1f77b4;stroke:#1f77b4;\" x=\"212.919963\" xlink:href=\"#m31a4faaf8c\" y=\"73.665188\"/>\r\n     <use style=\"fill:#1f77b4;stroke:#1f77b4;\" x=\"371.956818\" xlink:href=\"#m31a4faaf8c\" y=\"204.963403\"/>\r\n     <use style=\"fill:#1f77b4;stroke:#1f77b4;\" x=\"222.900897\" xlink:href=\"#m31a4faaf8c\" y=\"170.869391\"/>\r\n     <use style=\"fill:#1f77b4;stroke:#1f77b4;\" x=\"148.427776\" xlink:href=\"#m31a4faaf8c\" y=\"167.967773\"/>\r\n     <use style=\"fill:#1f77b4;stroke:#1f77b4;\" x=\"143.711511\" xlink:href=\"#m31a4faaf8c\" y=\"195.533144\"/>\r\n     <use style=\"fill:#1f77b4;stroke:#1f77b4;\" x=\"153.034361\" xlink:href=\"#m31a4faaf8c\" y=\"198.434762\"/>\r\n     <use style=\"fill:#1f77b4;stroke:#1f77b4;\" x=\"200.635737\" xlink:href=\"#m31a4faaf8c\" y=\"178.123436\"/>\r\n     <use style=\"fill:#1f77b4;stroke:#1f77b4;\" x=\"77.025713\" xlink:href=\"#m31a4faaf8c\" y=\"182.475863\"/>\r\n     <use style=\"fill:#1f77b4;stroke:#1f77b4;\" x=\"157.640946\" xlink:href=\"#m31a4faaf8c\" y=\"197.709358\"/>\r\n     <use style=\"fill:#1f77b4;stroke:#1f77b4;\" x=\"291.999668\" xlink:href=\"#m31a4faaf8c\" y=\"186.82829\"/>\r\n     <use style=\"fill:#1f77b4;stroke:#1f77b4;\" x=\"149.963305\" xlink:href=\"#m31a4faaf8c\" y=\"204.237998\"/>\r\n     <use style=\"fill:#1f77b4;stroke:#1f77b4;\" x=\"85.471118\" xlink:href=\"#m31a4faaf8c\" y=\"178.123436\"/>\r\n     <use style=\"fill:#1f77b4;stroke:#1f77b4;\" x=\"154.569889\" xlink:href=\"#m31a4faaf8c\" y=\"140.402402\"/>\r\n     <use style=\"fill:#1f77b4;stroke:#1f77b4;\" x=\"209.848907\" xlink:href=\"#m31a4faaf8c\" y=\"207.865021\"/>\r\n     <use style=\"fill:#1f77b4;stroke:#1f77b4;\" x=\"183.744926\" xlink:href=\"#m31a4faaf8c\" y=\"67.861952\"/>\r\n     <use style=\"fill:#1f77b4;stroke:#1f77b4;\" x=\"194.603305\" xlink:href=\"#m31a4faaf8c\" y=\"199.160167\"/>\r\n     <use style=\"fill:#1f77b4;stroke:#1f77b4;\" x=\"217.526548\" xlink:href=\"#m31a4faaf8c\" y=\"179.574245\"/>\r\n     <use style=\"fill:#1f77b4;stroke:#1f77b4;\" x=\"177.602813\" xlink:href=\"#m31a4faaf8c\" y=\"153.459683\"/>\r\n     <use style=\"fill:#1f77b4;stroke:#1f77b4;\" x=\"354.188563\" xlink:href=\"#m31a4faaf8c\" y=\"193.356931\"/>\r\n     <use style=\"fill:#1f77b4;stroke:#1f77b4;\" x=\"179.138342\" xlink:href=\"#m31a4faaf8c\" y=\"196.258549\"/>\r\n     <use style=\"fill:#1f77b4;stroke:#1f77b4;\" x=\"159.176474\" xlink:href=\"#m31a4faaf8c\" y=\"191.180717\"/>\r\n     <use style=\"fill:#1f77b4;stroke:#1f77b4;\" x=\"133.182174\" xlink:href=\"#m31a4faaf8c\" y=\"130.246739\"/>\r\n     <use style=\"fill:#1f77b4;stroke:#1f77b4;\" x=\"68.580307\" xlink:href=\"#m31a4faaf8c\" y=\"204.963403\"/>\r\n     <use style=\"fill:#1f77b4;stroke:#1f77b4;\" x=\"217.526548\" xlink:href=\"#m31a4faaf8c\" y=\"162.164537\"/>\r\n     <use style=\"fill:#1f77b4;stroke:#1f77b4;\" x=\"313.387383\" xlink:href=\"#m31a4faaf8c\" y=\"114.28784\"/>\r\n     <use style=\"fill:#1f77b4;stroke:#1f77b4;\" x=\"169.925172\" xlink:href=\"#m31a4faaf8c\" y=\"166.516964\"/>\r\n     <use style=\"fill:#1f77b4;stroke:#1f77b4;\" x=\"361.09844\" xlink:href=\"#m31a4faaf8c\" y=\"200.610976\"/>\r\n     <use style=\"fill:#1f77b4;stroke:#1f77b4;\" x=\"157.640946\" xlink:href=\"#m31a4faaf8c\" y=\"147.656447\"/>\r\n     <use style=\"fill:#1f77b4;stroke:#1f77b4;\" x=\"312.071216\" xlink:href=\"#m31a4faaf8c\" y=\"207.139616\"/>\r\n     <use style=\"fill:#1f77b4;stroke:#1f77b4;\" x=\"273.573329\" xlink:href=\"#m31a4faaf8c\" y=\"202.061785\"/>\r\n     <use style=\"fill:#1f77b4;stroke:#1f77b4;\" x=\"140.750135\" xlink:href=\"#m31a4faaf8c\" y=\"197.709358\"/>\r\n     <use style=\"fill:#1f77b4;stroke:#1f77b4;\" x=\"295.070725\" xlink:href=\"#m31a4faaf8c\" y=\"125.894312\"/>\r\n     <use style=\"fill:#1f77b4;stroke:#1f77b4;\" x=\"200.635737\" xlink:href=\"#m31a4faaf8c\" y=\"144.754829\"/>\r\n     <use style=\"fill:#1f77b4;stroke:#1f77b4;\" x=\"371.956818\" xlink:href=\"#m31a4faaf8c\" y=\"214.393661\"/>\r\n     <use style=\"fill:#1f77b4;stroke:#1f77b4;\" x=\"100.8264\" xlink:href=\"#m31a4faaf8c\" y=\"206.414212\"/>\r\n     <use style=\"fill:#1f77b4;stroke:#1f77b4;\" x=\"200.635737\" xlink:href=\"#m31a4faaf8c\" y=\"165.79156\"/>\r\n     <use style=\"fill:#1f77b4;stroke:#1f77b4;\" x=\"260.521339\" xlink:href=\"#m31a4faaf8c\" y=\"193.356931\"/>\r\n     <use style=\"fill:#1f77b4;stroke:#1f77b4;\" x=\"209.848907\" xlink:href=\"#m31a4faaf8c\" y=\"196.983953\"/>\r\n     <use style=\"fill:#1f77b4;stroke:#1f77b4;\" x=\"128.465909\" xlink:href=\"#m31a4faaf8c\" y=\"160.713728\"/>\r\n     <use style=\"fill:#1f77b4;stroke:#1f77b4;\" x=\"169.925172\" xlink:href=\"#m31a4faaf8c\" y=\"169.418582\"/>\r\n     <use style=\"fill:#1f77b4;stroke:#1f77b4;\" x=\"176.067285\" xlink:href=\"#m31a4faaf8c\" y=\"79.468424\"/>\r\n     <use style=\"fill:#1f77b4;stroke:#1f77b4;\" x=\"365.705025\" xlink:href=\"#m31a4faaf8c\" y=\"195.533144\"/>\r\n     <use style=\"fill:#1f77b4;stroke:#1f77b4;\" x=\"208.313378\" xlink:href=\"#m31a4faaf8c\" y=\"205.688807\"/>\r\n     <use style=\"fill:#1f77b4;stroke:#1f77b4;\" x=\"290.46414\" xlink:href=\"#m31a4faaf8c\" y=\"154.910492\"/>\r\n     <use style=\"fill:#1f77b4;stroke:#1f77b4;\" x=\"290.46414\" xlink:href=\"#m31a4faaf8c\" y=\"186.102886\"/>\r\n     <use style=\"fill:#1f77b4;stroke:#1f77b4;\" x=\"362.524287\" xlink:href=\"#m31a4faaf8c\" y=\"210.041234\"/>\r\n     <use style=\"fill:#1f77b4;stroke:#1f77b4;\" x=\"212.919963\" xlink:href=\"#m31a4faaf8c\" y=\"133.148357\"/>\r\n     <use style=\"fill:#1f77b4;stroke:#1f77b4;\" x=\"258.985811\" xlink:href=\"#m31a4faaf8c\" y=\"206.414212\"/>\r\n     <use style=\"fill:#1f77b4;stroke:#1f77b4;\" x=\"80.864533\" xlink:href=\"#m31a4faaf8c\" y=\"154.910492\"/>\r\n     <use style=\"fill:#1f77b4;stroke:#1f77b4;\" x=\"289.696376\" xlink:href=\"#m31a4faaf8c\" y=\"160.713728\"/>\r\n     <use style=\"fill:#1f77b4;stroke:#1f77b4;\" x=\"208.313378\" xlink:href=\"#m31a4faaf8c\" y=\"185.377481\"/>\r\n     <use style=\"fill:#1f77b4;stroke:#1f77b4;\" x=\"283.663943\" xlink:href=\"#m31a4faaf8c\" y=\"205.688807\"/>\r\n     <use style=\"fill:#1f77b4;stroke:#1f77b4;\" x=\"218.294312\" xlink:href=\"#m31a4faaf8c\" y=\"203.512594\"/>\r\n     <use style=\"fill:#1f77b4;stroke:#1f77b4;\" x=\"182.977162\" xlink:href=\"#m31a4faaf8c\" y=\"208.590425\"/>\r\n     <use style=\"fill:#1f77b4;stroke:#1f77b4;\" x=\"143.821192\" xlink:href=\"#m31a4faaf8c\" y=\"210.766639\"/>\r\n     <use style=\"fill:#1f77b4;stroke:#1f77b4;\" x=\"359.562912\" xlink:href=\"#m31a4faaf8c\" y=\"95.427323\"/>\r\n     <use style=\"fill:#1f77b4;stroke:#1f77b4;\" x=\"264.36016\" xlink:href=\"#m31a4faaf8c\" y=\"186.102886\"/>\r\n     <use style=\"fill:#1f77b4;stroke:#1f77b4;\" x=\"199.100209\" xlink:href=\"#m31a4faaf8c\" y=\"175.221818\"/>\r\n     <use style=\"fill:#1f77b4;stroke:#1f77b4;\" x=\"285.089791\" xlink:href=\"#m31a4faaf8c\" y=\"201.33638\"/>\r\n     <use style=\"fill:#1f77b4;stroke:#1f77b4;\" x=\"289.696376\" xlink:href=\"#m31a4faaf8c\" y=\"181.750459\"/>\r\n     <use style=\"fill:#1f77b4;stroke:#1f77b4;\" x=\"289.696376\" xlink:href=\"#m31a4faaf8c\" y=\"205.688807\"/>\r\n     <use style=\"fill:#1f77b4;stroke:#1f77b4;\" x=\"139.214607\" xlink:href=\"#m31a4faaf8c\" y=\"211.492043\"/>\r\n     <use style=\"fill:#1f77b4;stroke:#1f77b4;\" x=\"80.864533\" xlink:href=\"#m31a4faaf8c\" y=\"210.766639\"/>\r\n     <use style=\"fill:#1f77b4;stroke:#1f77b4;\" x=\"371.847138\" xlink:href=\"#m31a4faaf8c\" y=\"173.045605\"/>\r\n     <use style=\"fill:#1f77b4;stroke:#1f77b4;\" x=\"217.526548\" xlink:href=\"#m31a4faaf8c\" y=\"75.115997\"/>\r\n     <use style=\"fill:#1f77b4;stroke:#1f77b4;\" x=\"87.006646\" xlink:href=\"#m31a4faaf8c\" y=\"176.672627\"/>\r\n     <use style=\"fill:#1f77b4;stroke:#1f77b4;\" x=\"136.14355\" xlink:href=\"#m31a4faaf8c\" y=\"175.221818\"/>\r\n     <use style=\"fill:#1f77b4;stroke:#1f77b4;\" x=\"82.400061\" xlink:href=\"#m31a4faaf8c\" y=\"159.988324\"/>\r\n     <use style=\"fill:#1f77b4;stroke:#1f77b4;\" x=\"157.640946\" xlink:href=\"#m31a4faaf8c\" y=\"200.610976\"/>\r\n     <use style=\"fill:#1f77b4;stroke:#1f77b4;\" x=\"332.362125\" xlink:href=\"#m31a4faaf8c\" y=\"128.79593\"/>\r\n     <use style=\"fill:#1f77b4;stroke:#1f77b4;\" x=\"346.620602\" xlink:href=\"#m31a4faaf8c\" y=\"127.345121\"/>\r\n     <use style=\"fill:#1f77b4;stroke:#1f77b4;\" x=\"344.207629\" xlink:href=\"#m31a4faaf8c\" y=\"209.31583\"/>\r\n     <use style=\"fill:#1f77b4;stroke:#1f77b4;\" x=\"82.400061\" xlink:href=\"#m31a4faaf8c\" y=\"204.963403\"/>\r\n     <use style=\"fill:#1f77b4;stroke:#1f77b4;\" x=\"186.815983\" xlink:href=\"#m31a4faaf8c\" y=\"102.681368\"/>\r\n     <use style=\"fill:#1f77b4;stroke:#1f77b4;\" x=\"168.389644\" xlink:href=\"#m31a4faaf8c\" y=\"99.77975\"/>\r\n     <use style=\"fill:#1f77b4;stroke:#1f77b4;\" x=\"143.821192\" xlink:href=\"#m31a4faaf8c\" y=\"213.668257\"/>\r\n     <use style=\"fill:#1f77b4;stroke:#1f77b4;\" x=\"192.958096\" xlink:href=\"#m31a4faaf8c\" y=\"209.31583\"/>\r\n     <use style=\"fill:#1f77b4;stroke:#1f77b4;\" x=\"128.465909\" xlink:href=\"#m31a4faaf8c\" y=\"127.345121\"/>\r\n     <use style=\"fill:#1f77b4;stroke:#1f77b4;\" x=\"169.925172\" xlink:href=\"#m31a4faaf8c\" y=\"115.738649\"/>\r\n     <use style=\"fill:#1f77b4;stroke:#1f77b4;\" x=\"278.179914\" xlink:href=\"#m31a4faaf8c\" y=\"57.706289\"/>\r\n     <use style=\"fill:#1f77b4;stroke:#1f77b4;\" x=\"196.796916\" xlink:href=\"#m31a4faaf8c\" y=\"206.414212\"/>\r\n     <use style=\"fill:#1f77b4;stroke:#1f77b4;\" x=\"344.207629\" xlink:href=\"#m31a4faaf8c\" y=\"138.951593\"/>\r\n     <use style=\"fill:#1f77b4;stroke:#1f77b4;\" x=\"130.001437\" xlink:href=\"#m31a4faaf8c\" y=\"154.910492\"/>\r\n     <use style=\"fill:#1f77b4;stroke:#1f77b4;\" x=\"364.169496\" xlink:href=\"#m31a4faaf8c\" y=\"214.756364\"/>\r\n     <use style=\"fill:#1f77b4;stroke:#1f77b4;\" x=\"344.207629\" xlink:href=\"#m31a4faaf8c\" y=\"146.205638\"/>\r\n     <use style=\"fill:#1f77b4;stroke:#1f77b4;\" x=\"163.783059\" xlink:href=\"#m31a4faaf8c\" y=\"125.894312\"/>\r\n     <use style=\"fill:#1f77b4;stroke:#1f77b4;\" x=\"308.890479\" xlink:href=\"#m31a4faaf8c\" y=\"167.967773\"/>\r\n     <use style=\"fill:#1f77b4;stroke:#1f77b4;\" x=\"177.602813\" xlink:href=\"#m31a4faaf8c\" y=\"181.750459\"/>\r\n     <use style=\"fill:#1f77b4;stroke:#1f77b4;\" x=\"280.483206\" xlink:href=\"#m31a4faaf8c\" y=\"159.262919\"/>\r\n     <use style=\"fill:#1f77b4;stroke:#1f77b4;\" x=\"275.108857\" xlink:href=\"#m31a4faaf8c\" y=\"186.82829\"/>\r\n     <use style=\"fill:#1f77b4;stroke:#1f77b4;\" x=\"286.625319\" xlink:href=\"#m31a4faaf8c\" y=\"198.434762\"/>\r\n     <use style=\"fill:#1f77b4;stroke:#1f77b4;\" x=\"133.072494\" xlink:href=\"#m31a4faaf8c\" y=\"198.434762\"/>\r\n     <use style=\"fill:#1f77b4;stroke:#1f77b4;\" x=\"338.065516\" xlink:href=\"#m31a4faaf8c\" y=\"150.558065\"/>\r\n     <use style=\"fill:#1f77b4;stroke:#1f77b4;\" x=\"215.99102\" xlink:href=\"#m31a4faaf8c\" y=\"165.066155\"/>\r\n     <use style=\"fill:#1f77b4;stroke:#1f77b4;\" x=\"133.072494\" xlink:href=\"#m31a4faaf8c\" y=\"178.848841\"/>\r\n     <use style=\"fill:#1f77b4;stroke:#1f77b4;\" x=\"364.169496\" xlink:href=\"#m31a4faaf8c\" y=\"193.356931\"/>\r\n     <use style=\"fill:#1f77b4;stroke:#1f77b4;\" x=\"341.136572\" xlink:href=\"#m31a4faaf8c\" y=\"193.356931\"/>\r\n     <use style=\"fill:#1f77b4;stroke:#1f77b4;\" x=\"99.290872\" xlink:href=\"#m31a4faaf8c\" y=\"205.688807\"/>\r\n     <use style=\"fill:#1f77b4;stroke:#1f77b4;\" x=\"278.947678\" xlink:href=\"#m31a4faaf8c\" y=\"79.468424\"/>\r\n     <use style=\"fill:#1f77b4;stroke:#1f77b4;\" x=\"182.977162\" xlink:href=\"#m31a4faaf8c\" y=\"204.237998\"/>\r\n     <use style=\"fill:#1f77b4;stroke:#1f77b4;\" x=\"348.15613\" xlink:href=\"#m31a4faaf8c\" y=\"175.947223\"/>\r\n     <use style=\"fill:#1f77b4;stroke:#1f77b4;\" x=\"68.580307\" xlink:href=\"#m31a4faaf8c\" y=\"198.434762\"/>\r\n     <use style=\"fill:#1f77b4;stroke:#1f77b4;\" x=\"275.108857\" xlink:href=\"#m31a4faaf8c\" y=\"182.475863\"/>\r\n     <use style=\"fill:#1f77b4;stroke:#1f77b4;\" x=\"126.930381\" xlink:href=\"#m31a4faaf8c\" y=\"197.709358\"/>\r\n     <use style=\"fill:#1f77b4;stroke:#1f77b4;\" x=\"272.805565\" xlink:href=\"#m31a4faaf8c\" y=\"202.061785\"/>\r\n     <use style=\"fill:#1f77b4;stroke:#1f77b4;\" x=\"146.892248\" xlink:href=\"#m31a4faaf8c\" y=\"207.139616\"/>\r\n     <use style=\"fill:#1f77b4;stroke:#1f77b4;\" x=\"338.175197\" xlink:href=\"#m31a4faaf8c\" y=\"210.041234\"/>\r\n     <use style=\"fill:#1f77b4;stroke:#1f77b4;\" x=\"287.941486\" xlink:href=\"#m31a4faaf8c\" y=\"194.082335\"/>\r\n     <use style=\"fill:#1f77b4;stroke:#1f77b4;\" x=\"291.231904\" xlink:href=\"#m31a4faaf8c\" y=\"202.787189\"/>\r\n     <use style=\"fill:#1f77b4;stroke:#1f77b4;\" x=\"272.805565\" xlink:href=\"#m31a4faaf8c\" y=\"179.574245\"/>\r\n     <use style=\"fill:#1f77b4;stroke:#1f77b4;\" x=\"245.166057\" xlink:href=\"#m31a4faaf8c\" y=\"80.919233\"/>\r\n     <use style=\"fill:#1f77b4;stroke:#1f77b4;\" x=\"203.706794\" xlink:href=\"#m31a4faaf8c\" y=\"175.221818\"/>\r\n     <use style=\"fill:#1f77b4;stroke:#1f77b4;\" x=\"275.108857\" xlink:href=\"#m31a4faaf8c\" y=\"183.926672\"/>\r\n     <use style=\"fill:#1f77b4;stroke:#1f77b4;\" x=\"219.062076\" xlink:href=\"#m31a4faaf8c\" y=\"204.237998\"/>\r\n     <use style=\"fill:#1f77b4;stroke:#1f77b4;\" x=\"284.322027\" xlink:href=\"#m31a4faaf8c\" y=\"207.865021\"/>\r\n     <use style=\"fill:#1f77b4;stroke:#1f77b4;\" x=\"70.115835\" xlink:href=\"#m31a4faaf8c\" y=\"212.58015\"/>\r\n     <use style=\"fill:#1f77b4;stroke:#1f77b4;\" x=\"189.887039\" xlink:href=\"#m31a4faaf8c\" y=\"176.672627\"/>\r\n     <use style=\"fill:#1f77b4;stroke:#1f77b4;\" x=\"282.018735\" xlink:href=\"#m31a4faaf8c\" y=\"194.082335\"/>\r\n     <use style=\"fill:#1f77b4;stroke:#1f77b4;\" x=\"169.925172\" xlink:href=\"#m31a4faaf8c\" y=\"203.512594\"/>\r\n     <use style=\"fill:#1f77b4;stroke:#1f77b4;\" x=\"340.368808\" xlink:href=\"#m31a4faaf8c\" y=\"188.279099\"/>\r\n     <use style=\"fill:#1f77b4;stroke:#1f77b4;\" x=\"291.999668\" xlink:href=\"#m31a4faaf8c\" y=\"130.246739\"/>\r\n     <use style=\"fill:#1f77b4;stroke:#1f77b4;\" x=\"218.294312\" xlink:href=\"#m31a4faaf8c\" y=\"200.610976\"/>\r\n     <use style=\"fill:#1f77b4;stroke:#1f77b4;\" x=\"220.597604\" xlink:href=\"#m31a4faaf8c\" y=\"201.33638\"/>\r\n     <use style=\"fill:#1f77b4;stroke:#1f77b4;\" x=\"364.169496\" xlink:href=\"#m31a4faaf8c\" y=\"207.139616\"/>\r\n     <use style=\"fill:#1f77b4;stroke:#1f77b4;\" x=\"311.961536\" xlink:href=\"#m31a4faaf8c\" y=\"144.754829\"/>\r\n     <use style=\"fill:#1f77b4;stroke:#1f77b4;\" x=\"308.890479\" xlink:href=\"#m31a4faaf8c\" y=\"153.459683\"/>\r\n     <use style=\"fill:#1f77b4;stroke:#1f77b4;\" x=\"168.389644\" xlink:href=\"#m31a4faaf8c\" y=\"204.963403\"/>\r\n     <use style=\"fill:#1f77b4;stroke:#1f77b4;\" x=\"151.498833\" xlink:href=\"#m31a4faaf8c\" y=\"124.443503\"/>\r\n     <use style=\"fill:#1f77b4;stroke:#1f77b4;\" x=\"291.231904\" xlink:href=\"#m31a4faaf8c\" y=\"98.328941\"/>\r\n     <use style=\"fill:#1f77b4;stroke:#1f77b4;\" x=\"275.108857\" xlink:href=\"#m31a4faaf8c\" y=\"109.935413\"/>\r\n     <use style=\"fill:#1f77b4;stroke:#1f77b4;\" x=\"160.712002\" xlink:href=\"#m31a4faaf8c\" y=\"144.754829\"/>\r\n     <use style=\"fill:#1f77b4;stroke:#1f77b4;\" x=\"371.956818\" xlink:href=\"#m31a4faaf8c\" y=\"204.963403\"/>\r\n     <use style=\"fill:#1f77b4;stroke:#1f77b4;\" x=\"144.698636\" xlink:href=\"#m31a4faaf8c\" y=\"145.480234\"/>\r\n     <use style=\"fill:#1f77b4;stroke:#1f77b4;\" x=\"284.322027\" xlink:href=\"#m31a4faaf8c\" y=\"182.475863\"/>\r\n     <use style=\"fill:#1f77b4;stroke:#1f77b4;\" x=\"128.465909\" xlink:href=\"#m31a4faaf8c\" y=\"206.414212\"/>\r\n     <use style=\"fill:#1f77b4;stroke:#1f77b4;\" x=\"116.181683\" xlink:href=\"#m31a4faaf8c\" y=\"210.766639\"/>\r\n     <use style=\"fill:#1f77b4;stroke:#1f77b4;\" x=\"212.919963\" xlink:href=\"#m31a4faaf8c\" y=\"143.30402\"/>\r\n     <use style=\"fill:#1f77b4;stroke:#1f77b4;\" x=\"248.237113\" xlink:href=\"#m31a4faaf8c\" y=\"209.31583\"/>\r\n     <use style=\"fill:#1f77b4;stroke:#1f77b4;\" x=\"340.368808\" xlink:href=\"#m31a4faaf8c\" y=\"138.951593\"/>\r\n     <use style=\"fill:#1f77b4;stroke:#1f77b4;\" x=\"123.859324\" xlink:href=\"#m31a4faaf8c\" y=\"198.434762\"/>\r\n     <use style=\"fill:#1f77b4;stroke:#1f77b4;\" x=\"248.237113\" xlink:href=\"#m31a4faaf8c\" y=\"210.766639\"/>\r\n     <use style=\"fill:#1f77b4;stroke:#1f77b4;\" x=\"148.427776\" xlink:href=\"#m31a4faaf8c\" y=\"204.237998\"/>\r\n     <use style=\"fill:#1f77b4;stroke:#1f77b4;\" x=\"371.079373\" xlink:href=\"#m31a4faaf8c\" y=\"84.546255\"/>\r\n     <use style=\"fill:#1f77b4;stroke:#1f77b4;\" x=\"218.294312\" xlink:href=\"#m31a4faaf8c\" y=\"186.82829\"/>\r\n     <use style=\"fill:#1f77b4;stroke:#1f77b4;\" x=\"293.973919\" xlink:href=\"#m31a4faaf8c\" y=\"177.398032\"/>\r\n     <use style=\"fill:#1f77b4;stroke:#1f77b4;\" x=\"90.077703\" xlink:href=\"#m31a4faaf8c\" y=\"195.533144\"/>\r\n     <use style=\"fill:#1f77b4;stroke:#1f77b4;\" x=\"149.963305\" xlink:href=\"#m31a4faaf8c\" y=\"195.533144\"/>\r\n     <use style=\"fill:#1f77b4;stroke:#1f77b4;\" x=\"151.498833\" xlink:href=\"#m31a4faaf8c\" y=\"191.180717\"/>\r\n     <use style=\"fill:#1f77b4;stroke:#1f77b4;\" x=\"361.866204\" xlink:href=\"#m31a4faaf8c\" y=\"202.061785\"/>\r\n     <use style=\"fill:#1f77b4;stroke:#1f77b4;\" x=\"284.322027\" xlink:href=\"#m31a4faaf8c\" y=\"206.414212\"/>\r\n     <use style=\"fill:#1f77b4;stroke:#1f77b4;\" x=\"153.034361\" xlink:href=\"#m31a4faaf8c\" y=\"193.356931\"/>\r\n     <use style=\"fill:#1f77b4;stroke:#1f77b4;\" x=\"82.400061\" xlink:href=\"#m31a4faaf8c\" y=\"203.875296\"/>\r\n     <use style=\"fill:#1f77b4;stroke:#1f77b4;\" x=\"339.601044\" xlink:href=\"#m31a4faaf8c\" y=\"181.025054\"/>\r\n     <use style=\"fill:#1f77b4;stroke:#1f77b4;\" x=\"77.025713\" xlink:href=\"#m31a4faaf8c\" y=\"150.558065\"/>\r\n     <use style=\"fill:#1f77b4;stroke:#1f77b4;\" x=\"254.379226\" xlink:href=\"#m31a4faaf8c\" y=\"182.475863\"/>\r\n     <use style=\"fill:#1f77b4;stroke:#1f77b4;\" x=\"363.401732\" xlink:href=\"#m31a4faaf8c\" y=\"195.533144\"/>\r\n     <use style=\"fill:#1f77b4;stroke:#1f77b4;\" x=\"122.323796\" xlink:href=\"#m31a4faaf8c\" y=\"214.030959\"/>\r\n     <use style=\"fill:#1f77b4;stroke:#1f77b4;\" x=\"218.294312\" xlink:href=\"#m31a4faaf8c\" y=\"183.926672\"/>\r\n     <use style=\"fill:#1f77b4;stroke:#1f77b4;\" x=\"143.821192\" xlink:href=\"#m31a4faaf8c\" y=\"184.652077\"/>\r\n     <use style=\"fill:#1f77b4;stroke:#1f77b4;\" x=\"78.561241\" xlink:href=\"#m31a4faaf8c\" y=\"175.221818\"/>\r\n     <use style=\"fill:#1f77b4;stroke:#1f77b4;\" x=\"136.14355\" xlink:href=\"#m31a4faaf8c\" y=\"161.439133\"/>\r\n     <use style=\"fill:#1f77b4;stroke:#1f77b4;\" x=\"291.341585\" xlink:href=\"#m31a4faaf8c\" y=\"213.668257\"/>\r\n     <use style=\"fill:#1f77b4;stroke:#1f77b4;\" x=\"212.919963\" xlink:href=\"#m31a4faaf8c\" y=\"108.484604\"/>\r\n     <use style=\"fill:#1f77b4;stroke:#1f77b4;\" x=\"284.322027\" xlink:href=\"#m31a4faaf8c\" y=\"203.512594\"/>\r\n     <use style=\"fill:#1f77b4;stroke:#1f77b4;\" x=\"208.313378\" xlink:href=\"#m31a4faaf8c\" y=\"182.475863\"/>\r\n     <use style=\"fill:#1f77b4;stroke:#1f77b4;\" x=\"168.389644\" xlink:href=\"#m31a4faaf8c\" y=\"111.386222\"/>\r\n     <use style=\"fill:#1f77b4;stroke:#1f77b4;\" x=\"157.640946\" xlink:href=\"#m31a4faaf8c\" y=\"206.414212\"/>\r\n     <use style=\"fill:#1f77b4;stroke:#1f77b4;\" x=\"318.103649\" xlink:href=\"#m31a4faaf8c\" y=\"183.926672\"/>\r\n     <use style=\"fill:#1f77b4;stroke:#1f77b4;\" x=\"214.455491\" xlink:href=\"#m31a4faaf8c\" y=\"156.361301\"/>\r\n     <use style=\"fill:#1f77b4;stroke:#1f77b4;\" x=\"344.207629\" xlink:href=\"#m31a4faaf8c\" y=\"130.246739\"/>\r\n     <use style=\"fill:#1f77b4;stroke:#1f77b4;\" x=\"74.72242\" xlink:href=\"#m31a4faaf8c\" y=\"194.082335\"/>\r\n     <use style=\"fill:#1f77b4;stroke:#1f77b4;\" x=\"68.580307\" xlink:href=\"#m31a4faaf8c\" y=\"210.041234\"/>\r\n     <use style=\"fill:#1f77b4;stroke:#1f77b4;\" x=\"212.919963\" xlink:href=\"#m31a4faaf8c\" y=\"199.885571\"/>\r\n     <use style=\"fill:#1f77b4;stroke:#1f77b4;\" x=\"285.089791\" xlink:href=\"#m31a4faaf8c\" y=\"154.910492\"/>\r\n     <use style=\"fill:#1f77b4;stroke:#1f77b4;\" x=\"196.796916\" xlink:href=\"#m31a4faaf8c\" y=\"178.123436\"/>\r\n     <use style=\"fill:#1f77b4;stroke:#1f77b4;\" x=\"136.14355\" xlink:href=\"#m31a4faaf8c\" y=\"211.854746\"/>\r\n     <use style=\"fill:#1f77b4;stroke:#1f77b4;\" x=\"156.105418\" xlink:href=\"#m31a4faaf8c\" y=\"153.459683\"/>\r\n     <use style=\"fill:#1f77b4;stroke:#1f77b4;\" x=\"288.160848\" xlink:href=\"#m31a4faaf8c\" y=\"202.787189\"/>\r\n     <use style=\"fill:#1f77b4;stroke:#1f77b4;\" x=\"192.958096\" xlink:href=\"#m31a4faaf8c\" y=\"157.81211\"/>\r\n     <use style=\"fill:#1f77b4;stroke:#1f77b4;\" x=\"361.09844\" xlink:href=\"#m31a4faaf8c\" y=\"167.967773\"/>\r\n     <use style=\"fill:#1f77b4;stroke:#1f77b4;\" x=\"188.351511\" xlink:href=\"#m31a4faaf8c\" y=\"83.820851\"/>\r\n     <use style=\"fill:#1f77b4;stroke:#1f77b4;\" x=\"176.067285\" xlink:href=\"#m31a4faaf8c\" y=\"170.869391\"/>\r\n     <use style=\"fill:#1f77b4;stroke:#1f77b4;\" x=\"260.521339\" xlink:href=\"#m31a4faaf8c\" y=\"209.31583\"/>\r\n     <use style=\"fill:#1f77b4;stroke:#1f77b4;\" x=\"143.821192\" xlink:href=\"#m31a4faaf8c\" y=\"174.496414\"/>\r\n     <use style=\"fill:#1f77b4;stroke:#1f77b4;\" x=\"322.05215\" xlink:href=\"#m31a4faaf8c\" y=\"208.227723\"/>\r\n     <use style=\"fill:#1f77b4;stroke:#1f77b4;\" x=\"220.597604\" xlink:href=\"#m31a4faaf8c\" y=\"175.221818\"/>\r\n     <use style=\"fill:#1f77b4;stroke:#1f77b4;\" x=\"338.065516\" xlink:href=\"#m31a4faaf8c\" y=\"114.28784\"/>\r\n     <use style=\"fill:#1f77b4;stroke:#1f77b4;\" x=\"194.493624\" xlink:href=\"#m31a4faaf8c\" y=\"202.061785\"/>\r\n     <use style=\"fill:#1f77b4;stroke:#1f77b4;\" x=\"130.001437\" xlink:href=\"#m31a4faaf8c\" y=\"188.279099\"/>\r\n     <use style=\"fill:#1f77b4;stroke:#1f77b4;\" x=\"143.821192\" xlink:href=\"#m31a4faaf8c\" y=\"153.459683\"/>\r\n     <use style=\"fill:#1f77b4;stroke:#1f77b4;\" x=\"128.465909\" xlink:href=\"#m31a4faaf8c\" y=\"187.553695\"/>\r\n     <use style=\"fill:#1f77b4;stroke:#1f77b4;\" x=\"143.821192\" xlink:href=\"#m31a4faaf8c\" y=\"120.091076\"/>\r\n     <use style=\"fill:#1f77b4;stroke:#1f77b4;\" x=\"68.580307\" xlink:href=\"#m31a4faaf8c\" y=\"204.963403\"/>\r\n     <use style=\"fill:#1f77b4;stroke:#1f77b4;\" x=\"171.4607\" xlink:href=\"#m31a4faaf8c\" y=\"192.631526\"/>\r\n     <use style=\"fill:#1f77b4;stroke:#1f77b4;\" x=\"130.001437\" xlink:href=\"#m31a4faaf8c\" y=\"203.512594\"/>\r\n     <use style=\"fill:#1f77b4;stroke:#1f77b4;\" x=\"222.900897\" xlink:href=\"#m31a4faaf8c\" y=\"194.80774\"/>\r\n     <use style=\"fill:#1f77b4;stroke:#1f77b4;\" x=\"338.065516\" xlink:href=\"#m31a4faaf8c\" y=\"176.672627\"/>\r\n     <use style=\"fill:#1f77b4;stroke:#1f77b4;\" x=\"88.542174\" xlink:href=\"#m31a4faaf8c\" y=\"194.80774\"/>\r\n     <use style=\"fill:#1f77b4;stroke:#1f77b4;\" x=\"365.485663\" xlink:href=\"#m31a4faaf8c\" y=\"82.370042\"/>\r\n     <use style=\"fill:#1f77b4;stroke:#1f77b4;\" x=\"78.561241\" xlink:href=\"#m31a4faaf8c\" y=\"199.160167\"/>\r\n     <use style=\"fill:#1f77b4;stroke:#1f77b4;\" x=\"286.625319\" xlink:href=\"#m31a4faaf8c\" y=\"203.512594\"/>\r\n     <use style=\"fill:#1f77b4;stroke:#1f77b4;\" x=\"284.322027\" xlink:href=\"#m31a4faaf8c\" y=\"190.455313\"/>\r\n     <use style=\"fill:#1f77b4;stroke:#1f77b4;\" x=\"291.231904\" xlink:href=\"#m31a4faaf8c\" y=\"202.787189\"/>\r\n     <use style=\"fill:#1f77b4;stroke:#1f77b4;\" x=\"258.985811\" xlink:href=\"#m31a4faaf8c\" y=\"207.865021\"/>\r\n     <use style=\"fill:#1f77b4;stroke:#1f77b4;\" x=\"68.580307\" xlink:href=\"#m31a4faaf8c\" y=\"199.160167\"/>\r\n     <use style=\"fill:#1f77b4;stroke:#1f77b4;\" x=\"81.632297\" xlink:href=\"#m31a4faaf8c\" y=\"186.82829\"/>\r\n     <use style=\"fill:#1f77b4;stroke:#1f77b4;\" x=\"295.838489\" xlink:href=\"#m31a4faaf8c\" y=\"198.434762\"/>\r\n     <use style=\"fill:#1f77b4;stroke:#1f77b4;\" x=\"146.892248\" xlink:href=\"#m31a4faaf8c\" y=\"193.356931\"/>\r\n     <use style=\"fill:#1f77b4;stroke:#1f77b4;\" x=\"340.368808\" xlink:href=\"#m31a4faaf8c\" y=\"160.713728\"/>\r\n     <use style=\"fill:#1f77b4;stroke:#1f77b4;\" x=\"73.186892\" xlink:href=\"#m31a4faaf8c\" y=\"105.582986\"/>\r\n     <use style=\"fill:#1f77b4;stroke:#1f77b4;\" x=\"140.640455\" xlink:href=\"#m31a4faaf8c\" y=\"173.771009\"/>\r\n     <use style=\"fill:#1f77b4;stroke:#1f77b4;\" x=\"196.796916\" xlink:href=\"#m31a4faaf8c\" y=\"141.853211\"/>\r\n     <use style=\"fill:#1f77b4;stroke:#1f77b4;\" x=\"218.294312\" xlink:href=\"#m31a4faaf8c\" y=\"170.869391\"/>\r\n     <use style=\"fill:#1f77b4;stroke:#1f77b4;\" x=\"289.806057\" xlink:href=\"#m31a4faaf8c\" y=\"196.258549\"/>\r\n     <use style=\"fill:#1f77b4;stroke:#1f77b4;\" x=\"294.19328\" xlink:href=\"#m31a4faaf8c\" y=\"154.910492\"/>\r\n     <use style=\"fill:#1f77b4;stroke:#1f77b4;\" x=\"194.493624\" xlink:href=\"#m31a4faaf8c\" y=\"168.693178\"/>\r\n     <use style=\"fill:#1f77b4;stroke:#1f77b4;\" x=\"168.389644\" xlink:href=\"#m31a4faaf8c\" y=\"198.434762\"/>\r\n     <use style=\"fill:#1f77b4;stroke:#1f77b4;\" x=\"83.93559\" xlink:href=\"#m31a4faaf8c\" y=\"199.885571\"/>\r\n     <use style=\"fill:#1f77b4;stroke:#1f77b4;\" x=\"128.465909\" xlink:href=\"#m31a4faaf8c\" y=\"152.008874\"/>\r\n     <use style=\"fill:#1f77b4;stroke:#1f77b4;\" x=\"265.676327\" xlink:href=\"#m31a4faaf8c\" y=\"187.553695\"/>\r\n     <use style=\"fill:#1f77b4;stroke:#1f77b4;\" x=\"371.847138\" xlink:href=\"#m31a4faaf8c\" y=\"203.512594\"/>\r\n     <use style=\"fill:#1f77b4;stroke:#1f77b4;\" x=\"364.169496\" xlink:href=\"#m31a4faaf8c\" y=\"206.414212\"/>\r\n     <use style=\"fill:#1f77b4;stroke:#1f77b4;\" x=\"157.640946\" xlink:href=\"#m31a4faaf8c\" y=\"154.910492\"/>\r\n     <use style=\"fill:#1f77b4;stroke:#1f77b4;\" x=\"275.108857\" xlink:href=\"#m31a4faaf8c\" y=\"181.750459\"/>\r\n     <use style=\"fill:#1f77b4;stroke:#1f77b4;\" x=\"308.890479\" xlink:href=\"#m31a4faaf8c\" y=\"160.713728\"/>\r\n     <use style=\"fill:#1f77b4;stroke:#1f77b4;\" x=\"168.499324\" xlink:href=\"#m31a4faaf8c\" y=\"63.509525\"/>\r\n     <use style=\"fill:#1f77b4;stroke:#1f77b4;\" x=\"180.67387\" xlink:href=\"#m31a4faaf8c\" y=\"196.983953\"/>\r\n     <use style=\"fill:#1f77b4;stroke:#1f77b4;\" x=\"371.189054\" xlink:href=\"#m31a4faaf8c\" y=\"189.729908\"/>\r\n     <use style=\"fill:#1f77b4;stroke:#1f77b4;\" x=\"202.171265\" xlink:href=\"#m31a4faaf8c\" y=\"203.512594\"/>\r\n     <use style=\"fill:#1f77b4;stroke:#1f77b4;\" x=\"311.961536\" xlink:href=\"#m31a4faaf8c\" y=\"82.370042\"/>\r\n     <use style=\"fill:#1f77b4;stroke:#1f77b4;\" x=\"122.323796\" xlink:href=\"#m31a4faaf8c\" y=\"195.533144\"/>\r\n     <use style=\"fill:#1f77b4;stroke:#1f77b4;\" x=\"287.393084\" xlink:href=\"#m31a4faaf8c\" y=\"178.123436\"/>\r\n     <use style=\"fill:#1f77b4;stroke:#1f77b4;\" x=\"286.625319\" xlink:href=\"#m31a4faaf8c\" y=\"153.459683\"/>\r\n     <use style=\"fill:#1f77b4;stroke:#1f77b4;\" x=\"148.427776\" xlink:href=\"#m31a4faaf8c\" y=\"50.452244\"/>\r\n     <use style=\"fill:#1f77b4;stroke:#1f77b4;\" x=\"148.427776\" xlink:href=\"#m31a4faaf8c\" y=\"201.33638\"/>\r\n     <use style=\"fill:#1f77b4;stroke:#1f77b4;\" x=\"131.536966\" xlink:href=\"#m31a4faaf8c\" y=\"195.533144\"/>\r\n     <use style=\"fill:#1f77b4;stroke:#1f77b4;\" x=\"162.247531\" xlink:href=\"#m31a4faaf8c\" y=\"205.688807\"/>\r\n     <use style=\"fill:#1f77b4;stroke:#1f77b4;\" x=\"142.285663\" xlink:href=\"#m31a4faaf8c\" y=\"171.594796\"/>\r\n     <use style=\"fill:#1f77b4;stroke:#1f77b4;\" x=\"80.864533\" xlink:href=\"#m31a4faaf8c\" y=\"210.766639\"/>\r\n     <use style=\"fill:#1f77b4;stroke:#1f77b4;\" x=\"78.561241\" xlink:href=\"#m31a4faaf8c\" y=\"208.227723\"/>\r\n     <use style=\"fill:#1f77b4;stroke:#1f77b4;\" x=\"308.890479\" xlink:href=\"#m31a4faaf8c\" y=\"165.066155\"/>\r\n     <use style=\"fill:#1f77b4;stroke:#1f77b4;\" x=\"291.231904\" xlink:href=\"#m31a4faaf8c\" y=\"157.81211\"/>\r\n     <use style=\"fill:#1f77b4;stroke:#1f77b4;\" x=\"209.848907\" xlink:href=\"#m31a4faaf8c\" y=\"75.115997\"/>\r\n     <use style=\"fill:#1f77b4;stroke:#1f77b4;\" x=\"308.890479\" xlink:href=\"#m31a4faaf8c\" y=\"163.615346\"/>\r\n     <use style=\"fill:#1f77b4;stroke:#1f77b4;\" x=\"289.696376\" xlink:href=\"#m31a4faaf8c\" y=\"153.459683\"/>\r\n     <use style=\"fill:#1f77b4;stroke:#1f77b4;\" x=\"220.597604\" xlink:href=\"#m31a4faaf8c\" y=\"165.066155\"/>\r\n     <use style=\"fill:#1f77b4;stroke:#1f77b4;\" x=\"361.09844\" xlink:href=\"#m31a4faaf8c\" y=\"182.475863\"/>\r\n     <use style=\"fill:#1f77b4;stroke:#1f77b4;\" x=\"291.231904\" xlink:href=\"#m31a4faaf8c\" y=\"203.512594\"/>\r\n     <use style=\"fill:#1f77b4;stroke:#1f77b4;\" x=\"162.247531\" xlink:href=\"#m31a4faaf8c\" y=\"163.615346\"/>\r\n     <use style=\"fill:#1f77b4;stroke:#1f77b4;\" x=\"78.561241\" xlink:href=\"#m31a4faaf8c\" y=\"169.418582\"/>\r\n     <use style=\"fill:#1f77b4;stroke:#1f77b4;\" x=\"83.93559\" xlink:href=\"#m31a4faaf8c\" y=\"169.418582\"/>\r\n     <use style=\"fill:#1f77b4;stroke:#1f77b4;\" x=\"188.351511\" xlink:href=\"#m31a4faaf8c\" y=\"153.459683\"/>\r\n     <use style=\"fill:#1f77b4;stroke:#1f77b4;\" x=\"214.455491\" xlink:href=\"#m31a4faaf8c\" y=\"200.610976\"/>\r\n     <use style=\"fill:#1f77b4;stroke:#1f77b4;\" x=\"364.169496\" xlink:href=\"#m31a4faaf8c\" y=\"200.610976\"/>\r\n     <use style=\"fill:#1f77b4;stroke:#1f77b4;\" x=\"172.996229\" xlink:href=\"#m31a4faaf8c\" y=\"91.074896\"/>\r\n     <use style=\"fill:#1f77b4;stroke:#1f77b4;\" x=\"239.023943\" xlink:href=\"#m31a4faaf8c\" y=\"149.107256\"/>\r\n     <use style=\"fill:#1f77b4;stroke:#1f77b4;\" x=\"344.097948\" xlink:href=\"#m31a4faaf8c\" y=\"196.983953\"/>\r\n     <use style=\"fill:#1f77b4;stroke:#1f77b4;\" x=\"86.896966\" xlink:href=\"#m31a4faaf8c\" y=\"186.102886\"/>\r\n     <use style=\"fill:#1f77b4;stroke:#1f77b4;\" x=\"347.059324\" xlink:href=\"#m31a4faaf8c\" y=\"157.81211\"/>\r\n     <use style=\"fill:#1f77b4;stroke:#1f77b4;\" x=\"168.499324\" xlink:href=\"#m31a4faaf8c\" y=\"154.910492\"/>\r\n     <use style=\"fill:#1f77b4;stroke:#1f77b4;\" x=\"214.455491\" xlink:href=\"#m31a4faaf8c\" y=\"57.706289\"/>\r\n     <use style=\"fill:#1f77b4;stroke:#1f77b4;\" x=\"293.535197\" xlink:href=\"#m31a4faaf8c\" y=\"160.713728\"/>\r\n     <use style=\"fill:#1f77b4;stroke:#1f77b4;\" x=\"215.332936\" xlink:href=\"#m31a4faaf8c\" y=\"76.566806\"/>\r\n     <use style=\"fill:#1f77b4;stroke:#1f77b4;\" x=\"128.465909\" xlink:href=\"#m31a4faaf8c\" y=\"209.31583\"/>\r\n     <use style=\"fill:#1f77b4;stroke:#1f77b4;\" x=\"364.169496\" xlink:href=\"#m31a4faaf8c\" y=\"173.771009\"/>\r\n     <use style=\"fill:#1f77b4;stroke:#1f77b4;\" x=\"196.029152\" xlink:href=\"#m31a4faaf8c\" y=\"199.885571\"/>\r\n     <use style=\"fill:#1f77b4;stroke:#1f77b4;\" x=\"280.483206\" xlink:href=\"#m31a4faaf8c\" y=\"190.455313\"/>\r\n     <use style=\"fill:#1f77b4;stroke:#1f77b4;\" x=\"262.824631\" xlink:href=\"#m31a4faaf8c\" y=\"207.865021\"/>\r\n     <use style=\"fill:#1f77b4;stroke:#1f77b4;\" x=\"220.597604\" xlink:href=\"#m31a4faaf8c\" y=\"175.221818\"/>\r\n     <use style=\"fill:#1f77b4;stroke:#1f77b4;\" x=\"220.597604\" xlink:href=\"#m31a4faaf8c\" y=\"203.512594\"/>\r\n     <use style=\"fill:#1f77b4;stroke:#1f77b4;\" x=\"311.961536\" xlink:href=\"#m31a4faaf8c\" y=\"156.361301\"/>\r\n     <use style=\"fill:#1f77b4;stroke:#1f77b4;\" x=\"137.679079\" xlink:href=\"#m31a4faaf8c\" y=\"154.910492\"/>\r\n     <use style=\"fill:#1f77b4;stroke:#1f77b4;\" x=\"310.535688\" xlink:href=\"#m31a4faaf8c\" y=\"109.935413\"/>\r\n     <use style=\"fill:#1f77b4;stroke:#1f77b4;\" x=\"363.401732\" xlink:href=\"#m31a4faaf8c\" y=\"211.854746\"/>\r\n     <use style=\"fill:#1f77b4;stroke:#1f77b4;\" x=\"363.401732\" xlink:href=\"#m31a4faaf8c\" y=\"154.910492\"/>\r\n     <use style=\"fill:#1f77b4;stroke:#1f77b4;\" x=\"273.573329\" xlink:href=\"#m31a4faaf8c\" y=\"169.418582\"/>\r\n     <use style=\"fill:#1f77b4;stroke:#1f77b4;\" x=\"162.247531\" xlink:href=\"#m31a4faaf8c\" y=\"166.516964\"/>\r\n     <use style=\"fill:#1f77b4;stroke:#1f77b4;\" x=\"338.175197\" xlink:href=\"#m31a4faaf8c\" y=\"202.061785\"/>\r\n     <use style=\"fill:#1f77b4;stroke:#1f77b4;\" x=\"197.564681\" xlink:href=\"#m31a4faaf8c\" y=\"199.160167\"/>\r\n     <use style=\"fill:#1f77b4;stroke:#1f77b4;\" x=\"177.602813\" xlink:href=\"#m31a4faaf8c\" y=\"152.008874\"/>\r\n     <use style=\"fill:#1f77b4;stroke:#1f77b4;\" x=\"307.464631\" xlink:href=\"#m31a4faaf8c\" y=\"173.771009\"/>\r\n     <use style=\"fill:#1f77b4;stroke:#1f77b4;\" x=\"289.696376\" xlink:href=\"#m31a4faaf8c\" y=\"178.123436\"/>\r\n     <use style=\"fill:#1f77b4;stroke:#1f77b4;\" x=\"83.93559\" xlink:href=\"#m31a4faaf8c\" y=\"204.237998\"/>\r\n     <use style=\"fill:#1f77b4;stroke:#1f77b4;\" x=\"196.796916\" xlink:href=\"#m31a4faaf8c\" y=\"199.160167\"/>\r\n     <use style=\"fill:#1f77b4;stroke:#1f77b4;\" x=\"71.651364\" xlink:href=\"#m31a4faaf8c\" y=\"199.885571\"/>\r\n     <use style=\"fill:#1f77b4;stroke:#1f77b4;\" x=\"366.472789\" xlink:href=\"#m31a4faaf8c\" y=\"197.709358\"/>\r\n     <use style=\"fill:#1f77b4;stroke:#1f77b4;\" x=\"340.368808\" xlink:href=\"#m31a4faaf8c\" y=\"189.004504\"/>\r\n     <use style=\"fill:#1f77b4;stroke:#1f77b4;\" x=\"159.176474\" xlink:href=\"#m31a4faaf8c\" y=\"170.869391\"/>\r\n     <use style=\"fill:#1f77b4;stroke:#1f77b4;\" x=\"169.925172\" xlink:href=\"#m31a4faaf8c\" y=\"188.279099\"/>\r\n     <use style=\"fill:#1f77b4;stroke:#1f77b4;\" x=\"272.805565\" xlink:href=\"#m31a4faaf8c\" y=\"138.951593\"/>\r\n     <use style=\"fill:#1f77b4;stroke:#1f77b4;\" x=\"169.925172\" xlink:href=\"#m31a4faaf8c\" y=\"199.160167\"/>\r\n     <use style=\"fill:#1f77b4;stroke:#1f77b4;\" x=\"153.034361\" xlink:href=\"#m31a4faaf8c\" y=\"201.33638\"/>\r\n     <use style=\"fill:#1f77b4;stroke:#1f77b4;\" x=\"222.900897\" xlink:href=\"#m31a4faaf8c\" y=\"196.983953\"/>\r\n     <use style=\"fill:#1f77b4;stroke:#1f77b4;\" x=\"194.493624\" xlink:href=\"#m31a4faaf8c\" y=\"202.061785\"/>\r\n     <use style=\"fill:#1f77b4;stroke:#1f77b4;\" x=\"70.115835\" xlink:href=\"#m31a4faaf8c\" y=\"201.33638\"/>\r\n     <use style=\"fill:#1f77b4;stroke:#1f77b4;\" x=\"289.696376\" xlink:href=\"#m31a4faaf8c\" y=\"207.139616\"/>\r\n     <use style=\"fill:#1f77b4;stroke:#1f77b4;\" x=\"68.580307\" xlink:href=\"#m31a4faaf8c\" y=\"203.512594\"/>\r\n     <use style=\"fill:#1f77b4;stroke:#1f77b4;\" x=\"179.138342\" xlink:href=\"#m31a4faaf8c\" y=\"188.279099\"/>\r\n     <use style=\"fill:#1f77b4;stroke:#1f77b4;\" x=\"366.472789\" xlink:href=\"#m31a4faaf8c\" y=\"194.80774\"/>\r\n     <use style=\"fill:#1f77b4;stroke:#1f77b4;\" x=\"215.99102\" xlink:href=\"#m31a4faaf8c\" y=\"153.459683\"/>\r\n     <use style=\"fill:#1f77b4;stroke:#1f77b4;\" x=\"220.597604\" xlink:href=\"#m31a4faaf8c\" y=\"204.237998\"/>\r\n     <use style=\"fill:#1f77b4;stroke:#1f77b4;\" x=\"163.783059\" xlink:href=\"#m31a4faaf8c\" y=\"197.709358\"/>\r\n     <use style=\"fill:#1f77b4;stroke:#1f77b4;\" x=\"148.427776\" xlink:href=\"#m31a4faaf8c\" y=\"95.427323\"/>\r\n     <use style=\"fill:#1f77b4;stroke:#1f77b4;\" x=\"157.640946\" xlink:href=\"#m31a4faaf8c\" y=\"199.885571\"/>\r\n     <use style=\"fill:#1f77b4;stroke:#1f77b4;\" x=\"151.498833\" xlink:href=\"#m31a4faaf8c\" y=\"204.237998\"/>\r\n     <use style=\"fill:#1f77b4;stroke:#1f77b4;\" x=\"128.465909\" xlink:href=\"#m31a4faaf8c\" y=\"191.906122\"/>\r\n     <use style=\"fill:#1f77b4;stroke:#1f77b4;\" x=\"120.788268\" xlink:href=\"#m31a4faaf8c\" y=\"107.033795\"/>\r\n     <use style=\"fill:#1f77b4;stroke:#1f77b4;\" x=\"68.580307\" xlink:href=\"#m31a4faaf8c\" y=\"154.910492\"/>\r\n     <use style=\"fill:#1f77b4;stroke:#1f77b4;\" x=\"179.686744\" xlink:href=\"#m31a4faaf8c\" y=\"180.29965\"/>\r\n     <use style=\"fill:#1f77b4;stroke:#1f77b4;\" x=\"143.821192\" xlink:href=\"#m31a4faaf8c\" y=\"128.79593\"/>\r\n     <use style=\"fill:#1f77b4;stroke:#1f77b4;\" x=\"292.109349\" xlink:href=\"#m31a4faaf8c\" y=\"211.492043\"/>\r\n     <use style=\"fill:#1f77b4;stroke:#1f77b4;\" x=\"159.176474\" xlink:href=\"#m31a4faaf8c\" y=\"199.160167\"/>\r\n     <use style=\"fill:#1f77b4;stroke:#1f77b4;\" x=\"134.608022\" xlink:href=\"#m31a4faaf8c\" y=\"140.402402\"/>\r\n     <use style=\"fill:#1f77b4;stroke:#1f77b4;\" x=\"277.41215\" xlink:href=\"#m31a4faaf8c\" y=\"199.885571\"/>\r\n     <use style=\"fill:#1f77b4;stroke:#1f77b4;\" x=\"222.900897\" xlink:href=\"#m31a4faaf8c\" y=\"194.80774\"/>\r\n     <use style=\"fill:#1f77b4;stroke:#1f77b4;\" x=\"331.265319\" xlink:href=\"#m31a4faaf8c\" y=\"151.28347\"/>\r\n     <use style=\"fill:#1f77b4;stroke:#1f77b4;\" x=\"287.393084\" xlink:href=\"#m31a4faaf8c\" y=\"173.771009\"/>\r\n     <use style=\"fill:#1f77b4;stroke:#1f77b4;\" x=\"203.706794\" xlink:href=\"#m31a4faaf8c\" y=\"131.697548\"/>\r\n     <use style=\"fill:#1f77b4;stroke:#1f77b4;\" x=\"134.608022\" xlink:href=\"#m31a4faaf8c\" y=\"210.041234\"/>\r\n     <use style=\"fill:#1f77b4;stroke:#1f77b4;\" x=\"128.465909\" xlink:href=\"#m31a4faaf8c\" y=\"198.434762\"/>\r\n     <use style=\"fill:#1f77b4;stroke:#1f77b4;\" x=\"364.169496\" xlink:href=\"#m31a4faaf8c\" y=\"200.610976\"/>\r\n    </g>\r\n   </g>\r\n   <g id=\"matplotlib.axis_1\">\r\n    <g id=\"xtick_1\">\r\n     <g id=\"line2d_1\">\r\n      <defs>\r\n       <path d=\"M 0 0 \r\nL 0 3.5 \r\n\" id=\"m0b4dd6e958\" style=\"stroke:#000000;stroke-width:0.8;\"/>\r\n      </defs>\r\n      <g>\r\n       <use style=\"stroke:#000000;stroke-width:0.8;\" x=\"65.509251\" xlink:href=\"#m0b4dd6e958\" y=\"224.64\"/>\r\n      </g>\r\n     </g>\r\n     <g id=\"text_1\">\r\n      <!-- 2004 -->\r\n      <g transform=\"translate(52.784251 239.238437)scale(0.1 -0.1)\">\r\n       <defs>\r\n        <path d=\"M 19.1875 8.296875 \r\nL 53.609375 8.296875 \r\nL 53.609375 0 \r\nL 7.328125 0 \r\nL 7.328125 8.296875 \r\nQ 12.9375 14.109375 22.625 23.890625 \r\nQ 32.328125 33.6875 34.8125 36.53125 \r\nQ 39.546875 41.84375 41.421875 45.53125 \r\nQ 43.3125 49.21875 43.3125 52.78125 \r\nQ 43.3125 58.59375 39.234375 62.25 \r\nQ 35.15625 65.921875 28.609375 65.921875 \r\nQ 23.96875 65.921875 18.8125 64.3125 \r\nQ 13.671875 62.703125 7.8125 59.421875 \r\nL 7.8125 69.390625 \r\nQ 13.765625 71.78125 18.9375 73 \r\nQ 24.125 74.21875 28.421875 74.21875 \r\nQ 39.75 74.21875 46.484375 68.546875 \r\nQ 53.21875 62.890625 53.21875 53.421875 \r\nQ 53.21875 48.921875 51.53125 44.890625 \r\nQ 49.859375 40.875 45.40625 35.40625 \r\nQ 44.1875 33.984375 37.640625 27.21875 \r\nQ 31.109375 20.453125 19.1875 8.296875 \r\nz\r\n\" id=\"DejaVuSans-50\"/>\r\n        <path d=\"M 31.78125 66.40625 \r\nQ 24.171875 66.40625 20.328125 58.90625 \r\nQ 16.5 51.421875 16.5 36.375 \r\nQ 16.5 21.390625 20.328125 13.890625 \r\nQ 24.171875 6.390625 31.78125 6.390625 \r\nQ 39.453125 6.390625 43.28125 13.890625 \r\nQ 47.125 21.390625 47.125 36.375 \r\nQ 47.125 51.421875 43.28125 58.90625 \r\nQ 39.453125 66.40625 31.78125 66.40625 \r\nz\r\nM 31.78125 74.21875 \r\nQ 44.046875 74.21875 50.515625 64.515625 \r\nQ 56.984375 54.828125 56.984375 36.375 \r\nQ 56.984375 17.96875 50.515625 8.265625 \r\nQ 44.046875 -1.421875 31.78125 -1.421875 \r\nQ 19.53125 -1.421875 13.0625 8.265625 \r\nQ 6.59375 17.96875 6.59375 36.375 \r\nQ 6.59375 54.828125 13.0625 64.515625 \r\nQ 19.53125 74.21875 31.78125 74.21875 \r\nz\r\n\" id=\"DejaVuSans-48\"/>\r\n        <path d=\"M 37.796875 64.3125 \r\nL 12.890625 25.390625 \r\nL 37.796875 25.390625 \r\nz\r\nM 35.203125 72.90625 \r\nL 47.609375 72.90625 \r\nL 47.609375 25.390625 \r\nL 58.015625 25.390625 \r\nL 58.015625 17.1875 \r\nL 47.609375 17.1875 \r\nL 47.609375 0 \r\nL 37.796875 0 \r\nL 37.796875 17.1875 \r\nL 4.890625 17.1875 \r\nL 4.890625 26.703125 \r\nz\r\n\" id=\"DejaVuSans-52\"/>\r\n       </defs>\r\n       <use xlink:href=\"#DejaVuSans-50\"/>\r\n       <use x=\"63.623047\" xlink:href=\"#DejaVuSans-48\"/>\r\n       <use x=\"127.246094\" xlink:href=\"#DejaVuSans-48\"/>\r\n       <use x=\"190.869141\" xlink:href=\"#DejaVuSans-52\"/>\r\n      </g>\r\n     </g>\r\n    </g>\r\n    <g id=\"xtick_2\">\r\n     <g id=\"line2d_2\">\r\n      <g>\r\n       <use style=\"stroke:#000000;stroke-width:0.8;\" x=\"105.652346\" xlink:href=\"#m0b4dd6e958\" y=\"224.64\"/>\r\n      </g>\r\n     </g>\r\n     <g id=\"text_2\">\r\n      <!-- 2005 -->\r\n      <g transform=\"translate(92.927346 239.238437)scale(0.1 -0.1)\">\r\n       <defs>\r\n        <path d=\"M 10.796875 72.90625 \r\nL 49.515625 72.90625 \r\nL 49.515625 64.59375 \r\nL 19.828125 64.59375 \r\nL 19.828125 46.734375 \r\nQ 21.96875 47.46875 24.109375 47.828125 \r\nQ 26.265625 48.1875 28.421875 48.1875 \r\nQ 40.625 48.1875 47.75 41.5 \r\nQ 54.890625 34.8125 54.890625 23.390625 \r\nQ 54.890625 11.625 47.5625 5.09375 \r\nQ 40.234375 -1.421875 26.90625 -1.421875 \r\nQ 22.3125 -1.421875 17.546875 -0.640625 \r\nQ 12.796875 0.140625 7.71875 1.703125 \r\nL 7.71875 11.625 \r\nQ 12.109375 9.234375 16.796875 8.0625 \r\nQ 21.484375 6.890625 26.703125 6.890625 \r\nQ 35.15625 6.890625 40.078125 11.328125 \r\nQ 45.015625 15.765625 45.015625 23.390625 \r\nQ 45.015625 31 40.078125 35.4375 \r\nQ 35.15625 39.890625 26.703125 39.890625 \r\nQ 22.75 39.890625 18.8125 39.015625 \r\nQ 14.890625 38.140625 10.796875 36.28125 \r\nz\r\n\" id=\"DejaVuSans-53\"/>\r\n       </defs>\r\n       <use xlink:href=\"#DejaVuSans-50\"/>\r\n       <use x=\"63.623047\" xlink:href=\"#DejaVuSans-48\"/>\r\n       <use x=\"127.246094\" xlink:href=\"#DejaVuSans-48\"/>\r\n       <use x=\"190.869141\" xlink:href=\"#DejaVuSans-53\"/>\r\n      </g>\r\n     </g>\r\n    </g>\r\n    <g id=\"xtick_3\">\r\n     <g id=\"line2d_3\">\r\n      <g>\r\n       <use style=\"stroke:#000000;stroke-width:0.8;\" x=\"145.685762\" xlink:href=\"#m0b4dd6e958\" y=\"224.64\"/>\r\n      </g>\r\n     </g>\r\n     <g id=\"text_3\">\r\n      <!-- 2006 -->\r\n      <g transform=\"translate(132.960762 239.238437)scale(0.1 -0.1)\">\r\n       <defs>\r\n        <path d=\"M 33.015625 40.375 \r\nQ 26.375 40.375 22.484375 35.828125 \r\nQ 18.609375 31.296875 18.609375 23.390625 \r\nQ 18.609375 15.53125 22.484375 10.953125 \r\nQ 26.375 6.390625 33.015625 6.390625 \r\nQ 39.65625 6.390625 43.53125 10.953125 \r\nQ 47.40625 15.53125 47.40625 23.390625 \r\nQ 47.40625 31.296875 43.53125 35.828125 \r\nQ 39.65625 40.375 33.015625 40.375 \r\nz\r\nM 52.59375 71.296875 \r\nL 52.59375 62.3125 \r\nQ 48.875 64.0625 45.09375 64.984375 \r\nQ 41.3125 65.921875 37.59375 65.921875 \r\nQ 27.828125 65.921875 22.671875 59.328125 \r\nQ 17.53125 52.734375 16.796875 39.40625 \r\nQ 19.671875 43.65625 24.015625 45.921875 \r\nQ 28.375 48.1875 33.59375 48.1875 \r\nQ 44.578125 48.1875 50.953125 41.515625 \r\nQ 57.328125 34.859375 57.328125 23.390625 \r\nQ 57.328125 12.15625 50.6875 5.359375 \r\nQ 44.046875 -1.421875 33.015625 -1.421875 \r\nQ 20.359375 -1.421875 13.671875 8.265625 \r\nQ 6.984375 17.96875 6.984375 36.375 \r\nQ 6.984375 53.65625 15.1875 63.9375 \r\nQ 23.390625 74.21875 37.203125 74.21875 \r\nQ 40.921875 74.21875 44.703125 73.484375 \r\nQ 48.484375 72.75 52.59375 71.296875 \r\nz\r\n\" id=\"DejaVuSans-54\"/>\r\n       </defs>\r\n       <use xlink:href=\"#DejaVuSans-50\"/>\r\n       <use x=\"63.623047\" xlink:href=\"#DejaVuSans-48\"/>\r\n       <use x=\"127.246094\" xlink:href=\"#DejaVuSans-48\"/>\r\n       <use x=\"190.869141\" xlink:href=\"#DejaVuSans-54\"/>\r\n      </g>\r\n     </g>\r\n    </g>\r\n    <g id=\"xtick_4\">\r\n     <g id=\"line2d_4\">\r\n      <g>\r\n       <use style=\"stroke:#000000;stroke-width:0.8;\" x=\"185.719177\" xlink:href=\"#m0b4dd6e958\" y=\"224.64\"/>\r\n      </g>\r\n     </g>\r\n     <g id=\"text_4\">\r\n      <!-- 2007 -->\r\n      <g transform=\"translate(172.994177 239.238437)scale(0.1 -0.1)\">\r\n       <defs>\r\n        <path d=\"M 8.203125 72.90625 \r\nL 55.078125 72.90625 \r\nL 55.078125 68.703125 \r\nL 28.609375 0 \r\nL 18.3125 0 \r\nL 43.21875 64.59375 \r\nL 8.203125 64.59375 \r\nz\r\n\" id=\"DejaVuSans-55\"/>\r\n       </defs>\r\n       <use xlink:href=\"#DejaVuSans-50\"/>\r\n       <use x=\"63.623047\" xlink:href=\"#DejaVuSans-48\"/>\r\n       <use x=\"127.246094\" xlink:href=\"#DejaVuSans-48\"/>\r\n       <use x=\"190.869141\" xlink:href=\"#DejaVuSans-55\"/>\r\n      </g>\r\n     </g>\r\n    </g>\r\n    <g id=\"xtick_5\">\r\n     <g id=\"line2d_5\">\r\n      <g>\r\n       <use style=\"stroke:#000000;stroke-width:0.8;\" x=\"225.752592\" xlink:href=\"#m0b4dd6e958\" y=\"224.64\"/>\r\n      </g>\r\n     </g>\r\n     <g id=\"text_5\">\r\n      <!-- 2008 -->\r\n      <g transform=\"translate(213.027592 239.238437)scale(0.1 -0.1)\">\r\n       <defs>\r\n        <path d=\"M 31.78125 34.625 \r\nQ 24.75 34.625 20.71875 30.859375 \r\nQ 16.703125 27.09375 16.703125 20.515625 \r\nQ 16.703125 13.921875 20.71875 10.15625 \r\nQ 24.75 6.390625 31.78125 6.390625 \r\nQ 38.8125 6.390625 42.859375 10.171875 \r\nQ 46.921875 13.96875 46.921875 20.515625 \r\nQ 46.921875 27.09375 42.890625 30.859375 \r\nQ 38.875 34.625 31.78125 34.625 \r\nz\r\nM 21.921875 38.8125 \r\nQ 15.578125 40.375 12.03125 44.71875 \r\nQ 8.5 49.078125 8.5 55.328125 \r\nQ 8.5 64.0625 14.71875 69.140625 \r\nQ 20.953125 74.21875 31.78125 74.21875 \r\nQ 42.671875 74.21875 48.875 69.140625 \r\nQ 55.078125 64.0625 55.078125 55.328125 \r\nQ 55.078125 49.078125 51.53125 44.71875 \r\nQ 48 40.375 41.703125 38.8125 \r\nQ 48.828125 37.15625 52.796875 32.3125 \r\nQ 56.78125 27.484375 56.78125 20.515625 \r\nQ 56.78125 9.90625 50.3125 4.234375 \r\nQ 43.84375 -1.421875 31.78125 -1.421875 \r\nQ 19.734375 -1.421875 13.25 4.234375 \r\nQ 6.78125 9.90625 6.78125 20.515625 \r\nQ 6.78125 27.484375 10.78125 32.3125 \r\nQ 14.796875 37.15625 21.921875 38.8125 \r\nz\r\nM 18.3125 54.390625 \r\nQ 18.3125 48.734375 21.84375 45.5625 \r\nQ 25.390625 42.390625 31.78125 42.390625 \r\nQ 38.140625 42.390625 41.71875 45.5625 \r\nQ 45.3125 48.734375 45.3125 54.390625 \r\nQ 45.3125 60.0625 41.71875 63.234375 \r\nQ 38.140625 66.40625 31.78125 66.40625 \r\nQ 25.390625 66.40625 21.84375 63.234375 \r\nQ 18.3125 60.0625 18.3125 54.390625 \r\nz\r\n\" id=\"DejaVuSans-56\"/>\r\n       </defs>\r\n       <use xlink:href=\"#DejaVuSans-50\"/>\r\n       <use x=\"63.623047\" xlink:href=\"#DejaVuSans-48\"/>\r\n       <use x=\"127.246094\" xlink:href=\"#DejaVuSans-48\"/>\r\n       <use x=\"190.869141\" xlink:href=\"#DejaVuSans-56\"/>\r\n      </g>\r\n     </g>\r\n    </g>\r\n    <g id=\"xtick_6\">\r\n     <g id=\"line2d_6\">\r\n      <g>\r\n       <use style=\"stroke:#000000;stroke-width:0.8;\" x=\"265.895688\" xlink:href=\"#m0b4dd6e958\" y=\"224.64\"/>\r\n      </g>\r\n     </g>\r\n     <g id=\"text_6\">\r\n      <!-- 2009 -->\r\n      <g transform=\"translate(253.170688 239.238437)scale(0.1 -0.1)\">\r\n       <defs>\r\n        <path d=\"M 10.984375 1.515625 \r\nL 10.984375 10.5 \r\nQ 14.703125 8.734375 18.5 7.8125 \r\nQ 22.3125 6.890625 25.984375 6.890625 \r\nQ 35.75 6.890625 40.890625 13.453125 \r\nQ 46.046875 20.015625 46.78125 33.40625 \r\nQ 43.953125 29.203125 39.59375 26.953125 \r\nQ 35.25 24.703125 29.984375 24.703125 \r\nQ 19.046875 24.703125 12.671875 31.3125 \r\nQ 6.296875 37.9375 6.296875 49.421875 \r\nQ 6.296875 60.640625 12.9375 67.421875 \r\nQ 19.578125 74.21875 30.609375 74.21875 \r\nQ 43.265625 74.21875 49.921875 64.515625 \r\nQ 56.59375 54.828125 56.59375 36.375 \r\nQ 56.59375 19.140625 48.40625 8.859375 \r\nQ 40.234375 -1.421875 26.421875 -1.421875 \r\nQ 22.703125 -1.421875 18.890625 -0.6875 \r\nQ 15.09375 0.046875 10.984375 1.515625 \r\nz\r\nM 30.609375 32.421875 \r\nQ 37.25 32.421875 41.125 36.953125 \r\nQ 45.015625 41.5 45.015625 49.421875 \r\nQ 45.015625 57.28125 41.125 61.84375 \r\nQ 37.25 66.40625 30.609375 66.40625 \r\nQ 23.96875 66.40625 20.09375 61.84375 \r\nQ 16.21875 57.28125 16.21875 49.421875 \r\nQ 16.21875 41.5 20.09375 36.953125 \r\nQ 23.96875 32.421875 30.609375 32.421875 \r\nz\r\n\" id=\"DejaVuSans-57\"/>\r\n       </defs>\r\n       <use xlink:href=\"#DejaVuSans-50\"/>\r\n       <use x=\"63.623047\" xlink:href=\"#DejaVuSans-48\"/>\r\n       <use x=\"127.246094\" xlink:href=\"#DejaVuSans-48\"/>\r\n       <use x=\"190.869141\" xlink:href=\"#DejaVuSans-57\"/>\r\n      </g>\r\n     </g>\r\n    </g>\r\n    <g id=\"xtick_7\">\r\n     <g id=\"line2d_7\">\r\n      <g>\r\n       <use style=\"stroke:#000000;stroke-width:0.8;\" x=\"305.929103\" xlink:href=\"#m0b4dd6e958\" y=\"224.64\"/>\r\n      </g>\r\n     </g>\r\n     <g id=\"text_7\">\r\n      <!-- 2010 -->\r\n      <g transform=\"translate(293.204103 239.238437)scale(0.1 -0.1)\">\r\n       <defs>\r\n        <path d=\"M 12.40625 8.296875 \r\nL 28.515625 8.296875 \r\nL 28.515625 63.921875 \r\nL 10.984375 60.40625 \r\nL 10.984375 69.390625 \r\nL 28.421875 72.90625 \r\nL 38.28125 72.90625 \r\nL 38.28125 8.296875 \r\nL 54.390625 8.296875 \r\nL 54.390625 0 \r\nL 12.40625 0 \r\nz\r\n\" id=\"DejaVuSans-49\"/>\r\n       </defs>\r\n       <use xlink:href=\"#DejaVuSans-50\"/>\r\n       <use x=\"63.623047\" xlink:href=\"#DejaVuSans-48\"/>\r\n       <use x=\"127.246094\" xlink:href=\"#DejaVuSans-49\"/>\r\n       <use x=\"190.869141\" xlink:href=\"#DejaVuSans-48\"/>\r\n      </g>\r\n     </g>\r\n    </g>\r\n    <g id=\"xtick_8\">\r\n     <g id=\"line2d_8\">\r\n      <g>\r\n       <use style=\"stroke:#000000;stroke-width:0.8;\" x=\"345.962518\" xlink:href=\"#m0b4dd6e958\" y=\"224.64\"/>\r\n      </g>\r\n     </g>\r\n     <g id=\"text_8\">\r\n      <!-- 2011 -->\r\n      <g transform=\"translate(333.237518 239.238437)scale(0.1 -0.1)\">\r\n       <use xlink:href=\"#DejaVuSans-50\"/>\r\n       <use x=\"63.623047\" xlink:href=\"#DejaVuSans-48\"/>\r\n       <use x=\"127.246094\" xlink:href=\"#DejaVuSans-49\"/>\r\n       <use x=\"190.869141\" xlink:href=\"#DejaVuSans-49\"/>\r\n      </g>\r\n     </g>\r\n    </g>\r\n    <g id=\"xtick_9\">\r\n     <g id=\"line2d_9\">\r\n      <g>\r\n       <use style=\"stroke:#000000;stroke-width:0.8;\" x=\"385.995934\" xlink:href=\"#m0b4dd6e958\" y=\"224.64\"/>\r\n      </g>\r\n     </g>\r\n     <g id=\"text_9\">\r\n      <!-- 2012 -->\r\n      <g transform=\"translate(373.270934 239.238437)scale(0.1 -0.1)\">\r\n       <use xlink:href=\"#DejaVuSans-50\"/>\r\n       <use x=\"63.623047\" xlink:href=\"#DejaVuSans-48\"/>\r\n       <use x=\"127.246094\" xlink:href=\"#DejaVuSans-49\"/>\r\n       <use x=\"190.869141\" xlink:href=\"#DejaVuSans-50\"/>\r\n      </g>\r\n     </g>\r\n    </g>\r\n   </g>\r\n   <g id=\"matplotlib.axis_2\">\r\n    <g id=\"ytick_1\">\r\n     <g id=\"line2d_10\">\r\n      <defs>\r\n       <path d=\"M 0 0 \r\nL -3.5 0 \r\n\" id=\"m9d25699080\" style=\"stroke:#000000;stroke-width:0.8;\"/>\r\n      </defs>\r\n      <g>\r\n       <use style=\"stroke:#000000;stroke-width:0.8;\" x=\"52.375\" xlink:href=\"#m9d25699080\" y=\"221.647706\"/>\r\n      </g>\r\n     </g>\r\n     <g id=\"text_10\">\r\n      <!-- 0 -->\r\n      <g transform=\"translate(39.0125 225.446925)scale(0.1 -0.1)\">\r\n       <use xlink:href=\"#DejaVuSans-48\"/>\r\n      </g>\r\n     </g>\r\n    </g>\r\n    <g id=\"ytick_2\">\r\n     <g id=\"line2d_11\">\r\n      <g>\r\n       <use style=\"stroke:#000000;stroke-width:0.8;\" x=\"52.375\" xlink:href=\"#m9d25699080\" y=\"192.631526\"/>\r\n      </g>\r\n     </g>\r\n     <g id=\"text_11\">\r\n      <!-- 20000 -->\r\n      <g transform=\"translate(13.5625 196.430745)scale(0.1 -0.1)\">\r\n       <use xlink:href=\"#DejaVuSans-50\"/>\r\n       <use x=\"63.623047\" xlink:href=\"#DejaVuSans-48\"/>\r\n       <use x=\"127.246094\" xlink:href=\"#DejaVuSans-48\"/>\r\n       <use x=\"190.869141\" xlink:href=\"#DejaVuSans-48\"/>\r\n       <use x=\"254.492188\" xlink:href=\"#DejaVuSans-48\"/>\r\n      </g>\r\n     </g>\r\n    </g>\r\n    <g id=\"ytick_3\">\r\n     <g id=\"line2d_12\">\r\n      <g>\r\n       <use style=\"stroke:#000000;stroke-width:0.8;\" x=\"52.375\" xlink:href=\"#m9d25699080\" y=\"163.615346\"/>\r\n      </g>\r\n     </g>\r\n     <g id=\"text_12\">\r\n      <!-- 40000 -->\r\n      <g transform=\"translate(13.5625 167.414565)scale(0.1 -0.1)\">\r\n       <use xlink:href=\"#DejaVuSans-52\"/>\r\n       <use x=\"63.623047\" xlink:href=\"#DejaVuSans-48\"/>\r\n       <use x=\"127.246094\" xlink:href=\"#DejaVuSans-48\"/>\r\n       <use x=\"190.869141\" xlink:href=\"#DejaVuSans-48\"/>\r\n       <use x=\"254.492188\" xlink:href=\"#DejaVuSans-48\"/>\r\n      </g>\r\n     </g>\r\n    </g>\r\n    <g id=\"ytick_4\">\r\n     <g id=\"line2d_13\">\r\n      <g>\r\n       <use style=\"stroke:#000000;stroke-width:0.8;\" x=\"52.375\" xlink:href=\"#m9d25699080\" y=\"134.599166\"/>\r\n      </g>\r\n     </g>\r\n     <g id=\"text_13\">\r\n      <!-- 60000 -->\r\n      <g transform=\"translate(13.5625 138.398385)scale(0.1 -0.1)\">\r\n       <use xlink:href=\"#DejaVuSans-54\"/>\r\n       <use x=\"63.623047\" xlink:href=\"#DejaVuSans-48\"/>\r\n       <use x=\"127.246094\" xlink:href=\"#DejaVuSans-48\"/>\r\n       <use x=\"190.869141\" xlink:href=\"#DejaVuSans-48\"/>\r\n       <use x=\"254.492188\" xlink:href=\"#DejaVuSans-48\"/>\r\n      </g>\r\n     </g>\r\n    </g>\r\n    <g id=\"ytick_5\">\r\n     <g id=\"line2d_14\">\r\n      <g>\r\n       <use style=\"stroke:#000000;stroke-width:0.8;\" x=\"52.375\" xlink:href=\"#m9d25699080\" y=\"105.582986\"/>\r\n      </g>\r\n     </g>\r\n     <g id=\"text_14\">\r\n      <!-- 80000 -->\r\n      <g transform=\"translate(13.5625 109.382205)scale(0.1 -0.1)\">\r\n       <use xlink:href=\"#DejaVuSans-56\"/>\r\n       <use x=\"63.623047\" xlink:href=\"#DejaVuSans-48\"/>\r\n       <use x=\"127.246094\" xlink:href=\"#DejaVuSans-48\"/>\r\n       <use x=\"190.869141\" xlink:href=\"#DejaVuSans-48\"/>\r\n       <use x=\"254.492188\" xlink:href=\"#DejaVuSans-48\"/>\r\n      </g>\r\n     </g>\r\n    </g>\r\n    <g id=\"ytick_6\">\r\n     <g id=\"line2d_15\">\r\n      <g>\r\n       <use style=\"stroke:#000000;stroke-width:0.8;\" x=\"52.375\" xlink:href=\"#m9d25699080\" y=\"76.566806\"/>\r\n      </g>\r\n     </g>\r\n     <g id=\"text_15\">\r\n      <!-- 100000 -->\r\n      <g transform=\"translate(7.2 80.366024)scale(0.1 -0.1)\">\r\n       <use xlink:href=\"#DejaVuSans-49\"/>\r\n       <use x=\"63.623047\" xlink:href=\"#DejaVuSans-48\"/>\r\n       <use x=\"127.246094\" xlink:href=\"#DejaVuSans-48\"/>\r\n       <use x=\"190.869141\" xlink:href=\"#DejaVuSans-48\"/>\r\n       <use x=\"254.492188\" xlink:href=\"#DejaVuSans-48\"/>\r\n       <use x=\"318.115234\" xlink:href=\"#DejaVuSans-48\"/>\r\n      </g>\r\n     </g>\r\n    </g>\r\n    <g id=\"ytick_7\">\r\n     <g id=\"line2d_16\">\r\n      <g>\r\n       <use style=\"stroke:#000000;stroke-width:0.8;\" x=\"52.375\" xlink:href=\"#m9d25699080\" y=\"47.550626\"/>\r\n      </g>\r\n     </g>\r\n     <g id=\"text_16\">\r\n      <!-- 120000 -->\r\n      <g transform=\"translate(7.2 51.349844)scale(0.1 -0.1)\">\r\n       <use xlink:href=\"#DejaVuSans-49\"/>\r\n       <use x=\"63.623047\" xlink:href=\"#DejaVuSans-50\"/>\r\n       <use x=\"127.246094\" xlink:href=\"#DejaVuSans-48\"/>\r\n       <use x=\"190.869141\" xlink:href=\"#DejaVuSans-48\"/>\r\n       <use x=\"254.492188\" xlink:href=\"#DejaVuSans-48\"/>\r\n       <use x=\"318.115234\" xlink:href=\"#DejaVuSans-48\"/>\r\n      </g>\r\n     </g>\r\n    </g>\r\n    <g id=\"ytick_8\">\r\n     <g id=\"line2d_17\">\r\n      <g>\r\n       <use style=\"stroke:#000000;stroke-width:0.8;\" x=\"52.375\" xlink:href=\"#m9d25699080\" y=\"18.534445\"/>\r\n      </g>\r\n     </g>\r\n     <g id=\"text_17\">\r\n      <!-- 140000 -->\r\n      <g transform=\"translate(7.2 22.333664)scale(0.1 -0.1)\">\r\n       <use xlink:href=\"#DejaVuSans-49\"/>\r\n       <use x=\"63.623047\" xlink:href=\"#DejaVuSans-52\"/>\r\n       <use x=\"127.246094\" xlink:href=\"#DejaVuSans-48\"/>\r\n       <use x=\"190.869141\" xlink:href=\"#DejaVuSans-48\"/>\r\n       <use x=\"254.492188\" xlink:href=\"#DejaVuSans-48\"/>\r\n       <use x=\"318.115234\" xlink:href=\"#DejaVuSans-48\"/>\r\n      </g>\r\n     </g>\r\n    </g>\r\n   </g>\r\n   <g id=\"patch_3\">\r\n    <path d=\"M 52.375 224.64 \r\nL 52.375 7.2 \r\n\" style=\"fill:none;stroke:#000000;stroke-linecap:square;stroke-linejoin:miter;stroke-width:0.8;\"/>\r\n   </g>\r\n   <g id=\"patch_4\">\r\n    <path d=\"M 387.175 224.64 \r\nL 387.175 7.2 \r\n\" style=\"fill:none;stroke:#000000;stroke-linecap:square;stroke-linejoin:miter;stroke-width:0.8;\"/>\r\n   </g>\r\n   <g id=\"patch_5\">\r\n    <path d=\"M 52.375 224.64 \r\nL 387.175 224.64 \r\n\" style=\"fill:none;stroke:#000000;stroke-linecap:square;stroke-linejoin:miter;stroke-width:0.8;\"/>\r\n   </g>\r\n   <g id=\"patch_6\">\r\n    <path d=\"M 52.375 7.2 \r\nL 387.175 7.2 \r\n\" style=\"fill:none;stroke:#000000;stroke-linecap:square;stroke-linejoin:miter;stroke-width:0.8;\"/>\r\n   </g>\r\n  </g>\r\n </g>\r\n <defs>\r\n  <clipPath id=\"p4e73af39d5\">\r\n   <rect height=\"217.44\" width=\"334.8\" x=\"52.375\" y=\"7.2\"/>\r\n  </clipPath>\r\n </defs>\r\n</svg>\r\n",
      "image/png": "[encoded data removed]"
     },
     "metadata": {
      "needs_background": "light"
     }
    }
   ],
   "source": [
    "fig, ax = plt.subplots()\n",
    "ax.scatter(df['saledate'][:1000], df['SalePrice'][:1000])"
   ]
  },
  {
   "source": [
    "### Sort DataFrame by saledata\n",
    "\n",
    "When working with time series data, it's a good idea to sort it by date."
   ],
   "cell_type": "markdown",
   "metadata": {}
  },
  {
   "cell_type": "code",
   "execution_count": 49,
   "metadata": {},
   "outputs": [
    {
     "output_type": "execute_result",
     "data": {
      "text/plain": [
       "205615   1989-01-17\n",
       "274835   1989-01-31\n",
       "141296   1989-01-31\n",
       "212552   1989-01-31\n",
       "62755    1989-01-31\n",
       "54653    1989-01-31\n",
       "81383    1989-01-31\n",
       "204924   1989-01-31\n",
       "135376   1989-01-31\n",
       "113390   1989-01-31\n",
       "113394   1989-01-31\n",
       "116419   1989-01-31\n",
       "32138    1989-01-31\n",
       "127610   1989-01-31\n",
       "76171    1989-01-31\n",
       "127000   1989-01-31\n",
       "128130   1989-01-31\n",
       "127626   1989-01-31\n",
       "55455    1989-01-31\n",
       "55454    1989-01-31\n",
       "Name: saledate, dtype: datetime64[ns]"
      ]
     },
     "metadata": {},
     "execution_count": 49
    }
   ],
   "source": [
    "# Sort DataFrame in date order\n",
    "df = df.sort_values(by=['saledate'], ascending=True)\n",
    "df.saledate.head(20)"
   ]
  },
  {
   "source": [
    "## Make a copy of the original DataFrame\n",
    "We make a copy of the original dataframe so when we mnipulate the copy, we've still got our original dataframe"
   ],
   "cell_type": "markdown",
   "metadata": {}
  },
  {
   "cell_type": "code",
   "execution_count": 50,
   "metadata": {},
   "outputs": [],
   "source": [
    "# make a copy\n",
    "df_tmp = df.copy()"
   ]
  },
  {
   "source": [
    "## Add DateTime parameters for saledate column"
   ],
   "cell_type": "markdown",
   "metadata": {}
  },
  {
   "cell_type": "code",
   "execution_count": 51,
   "metadata": {},
   "outputs": [],
   "source": [
    "df_tmp['saleYear'] = df_tmp.saledate.dt.year\n",
    "df_tmp['saleMonth'] = df_tmp.saledate.dt.month\n",
    "df_tmp['saleDay'] = df_tmp.saledate.dt.day\n",
    "df_tmp['saleDayOfWeek'] = df_tmp.saledate.dt.dayofweek\n",
    "df_tmp['saleDayOfYear'] = df_tmp.saledate.dt.dayofyear"
   ]
  },
  {
   "cell_type": "code",
   "execution_count": 52,
   "metadata": {},
   "outputs": [],
   "source": [
    "# Now we've enriched our DataFrame with date time features, we can remove saledate\n",
    "df_tmp = df_tmp.drop('saledate', axis=1)"
   ]
  },
  {
   "cell_type": "code",
   "execution_count": 53,
   "metadata": {},
   "outputs": [
    {
     "output_type": "execute_result",
     "data": {
      "text/plain": [
       "Florida           67320\n",
       "Texas             53110\n",
       "California        29761\n",
       "Washington        16222\n",
       "Georgia           14633\n",
       "Maryland          13322\n",
       "Mississippi       13240\n",
       "Ohio              12369\n",
       "Illinois          11540\n",
       "Colorado          11529\n",
       "New Jersey        11156\n",
       "North Carolina    10636\n",
       "Tennessee         10298\n",
       "Alabama           10292\n",
       "Pennsylvania      10234\n",
       "South Carolina     9951\n",
       "Arizona            9364\n",
       "New York           8639\n",
       "Connecticut        8276\n",
       "Minnesota          7885\n",
       "Missouri           7178\n",
       "Nevada             6932\n",
       "Louisiana          6627\n",
       "Kentucky           5351\n",
       "Maine              5096\n",
       "Indiana            4124\n",
       "Arkansas           3933\n",
       "New Mexico         3631\n",
       "Utah               3046\n",
       "Unspecified        2801\n",
       "Wisconsin          2745\n",
       "New Hampshire      2738\n",
       "Virginia           2353\n",
       "Idaho              2025\n",
       "Oregon             1911\n",
       "Michigan           1831\n",
       "Wyoming            1672\n",
       "Iowa               1336\n",
       "Montana            1336\n",
       "Oklahoma           1326\n",
       "Nebraska            866\n",
       "West Virginia       840\n",
       "Kansas              667\n",
       "Delaware            510\n",
       "North Dakota        480\n",
       "Alaska              430\n",
       "Massachusetts       347\n",
       "Vermont             300\n",
       "South Dakota        244\n",
       "Hawaii              118\n",
       "Rhode Island         83\n",
       "Puerto Rico          42\n",
       "Washington DC         2\n",
       "Name: state, dtype: int64"
      ]
     },
     "metadata": {},
     "execution_count": 53
    }
   ],
   "source": [
    "# Check the values of different columns\n",
    "df_tmp.state.value_counts()"
   ]
  },
  {
   "source": [
    "## 5. Modelling\n",
    "\n",
    "We've dont enought EDA (we could always do more) but let's start to do some model-driven EDA.\n"
   ],
   "cell_type": "markdown",
   "metadata": {}
  },
  {
   "cell_type": "code",
   "execution_count": 54,
   "metadata": {},
   "outputs": [
    {
     "output_type": "error",
     "ename": "ValueError",
     "evalue": "could not convert string to float: 'Low'",
     "traceback": [
      "\u001b[1;31m---------------------------------------------------------------------------\u001b[0m",
      "\u001b[1;31mValueError\u001b[0m                                Traceback (most recent call last)",
      "\u001b[1;32m<ipython-input-54-0fb70ea69315>\u001b[0m in \u001b[0;36m<module>\u001b[1;34m\u001b[0m\n\u001b[0;32m      4\u001b[0m \u001b[0mmodel\u001b[0m \u001b[1;33m=\u001b[0m \u001b[0mRandomForestRegressor\u001b[0m\u001b[1;33m(\u001b[0m\u001b[0mn_jobs\u001b[0m\u001b[1;33m=\u001b[0m\u001b[1;33m-\u001b[0m\u001b[1;36m1\u001b[0m\u001b[1;33m,\u001b[0m \u001b[0mrandom_state\u001b[0m\u001b[1;33m=\u001b[0m\u001b[1;36m42\u001b[0m\u001b[1;33m)\u001b[0m \u001b[1;31m# random_state equals to random.seed()\u001b[0m\u001b[1;33m\u001b[0m\u001b[1;33m\u001b[0m\u001b[0m\n\u001b[0;32m      5\u001b[0m \u001b[1;33m\u001b[0m\u001b[0m\n\u001b[1;32m----> 6\u001b[1;33m \u001b[0mmodel\u001b[0m\u001b[1;33m.\u001b[0m\u001b[0mfit\u001b[0m\u001b[1;33m(\u001b[0m\u001b[0mdf_tmp\u001b[0m\u001b[1;33m.\u001b[0m\u001b[0mdrop\u001b[0m\u001b[1;33m(\u001b[0m\u001b[1;34m'SalePrice'\u001b[0m\u001b[1;33m,\u001b[0m \u001b[0maxis\u001b[0m\u001b[1;33m=\u001b[0m\u001b[1;36m1\u001b[0m\u001b[1;33m)\u001b[0m\u001b[1;33m,\u001b[0m \u001b[0mdf_tmp\u001b[0m\u001b[1;33m[\u001b[0m\u001b[1;34m'SalePrice'\u001b[0m\u001b[1;33m]\u001b[0m\u001b[1;33m)\u001b[0m\u001b[1;33m\u001b[0m\u001b[1;33m\u001b[0m\u001b[0m\n\u001b[0m",
      "\u001b[1;32mC:\\ProgramData\\Anaconda3\\envs\\tf\\lib\\site-packages\\sklearn\\ensemble\\_forest.py\u001b[0m in \u001b[0;36mfit\u001b[1;34m(self, X, y, sample_weight)\u001b[0m\n\u001b[0;32m    302\u001b[0m                 \u001b[1;34m\"sparse multilabel-indicator for y is not supported.\"\u001b[0m\u001b[1;33m\u001b[0m\u001b[1;33m\u001b[0m\u001b[0m\n\u001b[0;32m    303\u001b[0m             )\n\u001b[1;32m--> 304\u001b[1;33m         X, y = self._validate_data(X, y, multi_output=True,\n\u001b[0m\u001b[0;32m    305\u001b[0m                                    accept_sparse=\"csc\", dtype=DTYPE)\n\u001b[0;32m    306\u001b[0m         \u001b[1;32mif\u001b[0m \u001b[0msample_weight\u001b[0m \u001b[1;32mis\u001b[0m \u001b[1;32mnot\u001b[0m \u001b[1;32mNone\u001b[0m\u001b[1;33m:\u001b[0m\u001b[1;33m\u001b[0m\u001b[1;33m\u001b[0m\u001b[0m\n",
      "\u001b[1;32mC:\\ProgramData\\Anaconda3\\envs\\tf\\lib\\site-packages\\sklearn\\base.py\u001b[0m in \u001b[0;36m_validate_data\u001b[1;34m(self, X, y, reset, validate_separately, **check_params)\u001b[0m\n\u001b[0;32m    431\u001b[0m                 \u001b[0my\u001b[0m \u001b[1;33m=\u001b[0m \u001b[0mcheck_array\u001b[0m\u001b[1;33m(\u001b[0m\u001b[0my\u001b[0m\u001b[1;33m,\u001b[0m \u001b[1;33m**\u001b[0m\u001b[0mcheck_y_params\u001b[0m\u001b[1;33m)\u001b[0m\u001b[1;33m\u001b[0m\u001b[1;33m\u001b[0m\u001b[0m\n\u001b[0;32m    432\u001b[0m             \u001b[1;32melse\u001b[0m\u001b[1;33m:\u001b[0m\u001b[1;33m\u001b[0m\u001b[1;33m\u001b[0m\u001b[0m\n\u001b[1;32m--> 433\u001b[1;33m                 \u001b[0mX\u001b[0m\u001b[1;33m,\u001b[0m \u001b[0my\u001b[0m \u001b[1;33m=\u001b[0m \u001b[0mcheck_X_y\u001b[0m\u001b[1;33m(\u001b[0m\u001b[0mX\u001b[0m\u001b[1;33m,\u001b[0m \u001b[0my\u001b[0m\u001b[1;33m,\u001b[0m \u001b[1;33m**\u001b[0m\u001b[0mcheck_params\u001b[0m\u001b[1;33m)\u001b[0m\u001b[1;33m\u001b[0m\u001b[1;33m\u001b[0m\u001b[0m\n\u001b[0m\u001b[0;32m    434\u001b[0m             \u001b[0mout\u001b[0m \u001b[1;33m=\u001b[0m \u001b[0mX\u001b[0m\u001b[1;33m,\u001b[0m \u001b[0my\u001b[0m\u001b[1;33m\u001b[0m\u001b[1;33m\u001b[0m\u001b[0m\n\u001b[0;32m    435\u001b[0m \u001b[1;33m\u001b[0m\u001b[0m\n",
      "\u001b[1;32mC:\\ProgramData\\Anaconda3\\envs\\tf\\lib\\site-packages\\sklearn\\utils\\validation.py\u001b[0m in \u001b[0;36minner_f\u001b[1;34m(*args, **kwargs)\u001b[0m\n\u001b[0;32m     61\u001b[0m             \u001b[0mextra_args\u001b[0m \u001b[1;33m=\u001b[0m \u001b[0mlen\u001b[0m\u001b[1;33m(\u001b[0m\u001b[0margs\u001b[0m\u001b[1;33m)\u001b[0m \u001b[1;33m-\u001b[0m \u001b[0mlen\u001b[0m\u001b[1;33m(\u001b[0m\u001b[0mall_args\u001b[0m\u001b[1;33m)\u001b[0m\u001b[1;33m\u001b[0m\u001b[1;33m\u001b[0m\u001b[0m\n\u001b[0;32m     62\u001b[0m             \u001b[1;32mif\u001b[0m \u001b[0mextra_args\u001b[0m \u001b[1;33m<=\u001b[0m \u001b[1;36m0\u001b[0m\u001b[1;33m:\u001b[0m\u001b[1;33m\u001b[0m\u001b[1;33m\u001b[0m\u001b[0m\n\u001b[1;32m---> 63\u001b[1;33m                 \u001b[1;32mreturn\u001b[0m \u001b[0mf\u001b[0m\u001b[1;33m(\u001b[0m\u001b[1;33m*\u001b[0m\u001b[0margs\u001b[0m\u001b[1;33m,\u001b[0m \u001b[1;33m**\u001b[0m\u001b[0mkwargs\u001b[0m\u001b[1;33m)\u001b[0m\u001b[1;33m\u001b[0m\u001b[1;33m\u001b[0m\u001b[0m\n\u001b[0m\u001b[0;32m     64\u001b[0m \u001b[1;33m\u001b[0m\u001b[0m\n\u001b[0;32m     65\u001b[0m             \u001b[1;31m# extra_args > 0\u001b[0m\u001b[1;33m\u001b[0m\u001b[1;33m\u001b[0m\u001b[1;33m\u001b[0m\u001b[0m\n",
      "\u001b[1;32mC:\\ProgramData\\Anaconda3\\envs\\tf\\lib\\site-packages\\sklearn\\utils\\validation.py\u001b[0m in \u001b[0;36mcheck_X_y\u001b[1;34m(X, y, accept_sparse, accept_large_sparse, dtype, order, copy, force_all_finite, ensure_2d, allow_nd, multi_output, ensure_min_samples, ensure_min_features, y_numeric, estimator)\u001b[0m\n\u001b[0;32m    812\u001b[0m         \u001b[1;32mraise\u001b[0m \u001b[0mValueError\u001b[0m\u001b[1;33m(\u001b[0m\u001b[1;34m\"y cannot be None\"\u001b[0m\u001b[1;33m)\u001b[0m\u001b[1;33m\u001b[0m\u001b[1;33m\u001b[0m\u001b[0m\n\u001b[0;32m    813\u001b[0m \u001b[1;33m\u001b[0m\u001b[0m\n\u001b[1;32m--> 814\u001b[1;33m     X = check_array(X, accept_sparse=accept_sparse,\n\u001b[0m\u001b[0;32m    815\u001b[0m                     \u001b[0maccept_large_sparse\u001b[0m\u001b[1;33m=\u001b[0m\u001b[0maccept_large_sparse\u001b[0m\u001b[1;33m,\u001b[0m\u001b[1;33m\u001b[0m\u001b[1;33m\u001b[0m\u001b[0m\n\u001b[0;32m    816\u001b[0m                     \u001b[0mdtype\u001b[0m\u001b[1;33m=\u001b[0m\u001b[0mdtype\u001b[0m\u001b[1;33m,\u001b[0m \u001b[0morder\u001b[0m\u001b[1;33m=\u001b[0m\u001b[0morder\u001b[0m\u001b[1;33m,\u001b[0m \u001b[0mcopy\u001b[0m\u001b[1;33m=\u001b[0m\u001b[0mcopy\u001b[0m\u001b[1;33m,\u001b[0m\u001b[1;33m\u001b[0m\u001b[1;33m\u001b[0m\u001b[0m\n",
      "\u001b[1;32mC:\\ProgramData\\Anaconda3\\envs\\tf\\lib\\site-packages\\sklearn\\utils\\validation.py\u001b[0m in \u001b[0;36minner_f\u001b[1;34m(*args, **kwargs)\u001b[0m\n\u001b[0;32m     61\u001b[0m             \u001b[0mextra_args\u001b[0m \u001b[1;33m=\u001b[0m \u001b[0mlen\u001b[0m\u001b[1;33m(\u001b[0m\u001b[0margs\u001b[0m\u001b[1;33m)\u001b[0m \u001b[1;33m-\u001b[0m \u001b[0mlen\u001b[0m\u001b[1;33m(\u001b[0m\u001b[0mall_args\u001b[0m\u001b[1;33m)\u001b[0m\u001b[1;33m\u001b[0m\u001b[1;33m\u001b[0m\u001b[0m\n\u001b[0;32m     62\u001b[0m             \u001b[1;32mif\u001b[0m \u001b[0mextra_args\u001b[0m \u001b[1;33m<=\u001b[0m \u001b[1;36m0\u001b[0m\u001b[1;33m:\u001b[0m\u001b[1;33m\u001b[0m\u001b[1;33m\u001b[0m\u001b[0m\n\u001b[1;32m---> 63\u001b[1;33m                 \u001b[1;32mreturn\u001b[0m \u001b[0mf\u001b[0m\u001b[1;33m(\u001b[0m\u001b[1;33m*\u001b[0m\u001b[0margs\u001b[0m\u001b[1;33m,\u001b[0m \u001b[1;33m**\u001b[0m\u001b[0mkwargs\u001b[0m\u001b[1;33m)\u001b[0m\u001b[1;33m\u001b[0m\u001b[1;33m\u001b[0m\u001b[0m\n\u001b[0m\u001b[0;32m     64\u001b[0m \u001b[1;33m\u001b[0m\u001b[0m\n\u001b[0;32m     65\u001b[0m             \u001b[1;31m# extra_args > 0\u001b[0m\u001b[1;33m\u001b[0m\u001b[1;33m\u001b[0m\u001b[1;33m\u001b[0m\u001b[0m\n",
      "\u001b[1;32mC:\\ProgramData\\Anaconda3\\envs\\tf\\lib\\site-packages\\sklearn\\utils\\validation.py\u001b[0m in \u001b[0;36mcheck_array\u001b[1;34m(array, accept_sparse, accept_large_sparse, dtype, order, copy, force_all_finite, ensure_2d, allow_nd, ensure_min_samples, ensure_min_features, estimator)\u001b[0m\n\u001b[0;32m    614\u001b[0m                     \u001b[0marray\u001b[0m \u001b[1;33m=\u001b[0m \u001b[0marray\u001b[0m\u001b[1;33m.\u001b[0m\u001b[0mastype\u001b[0m\u001b[1;33m(\u001b[0m\u001b[0mdtype\u001b[0m\u001b[1;33m,\u001b[0m \u001b[0mcasting\u001b[0m\u001b[1;33m=\u001b[0m\u001b[1;34m\"unsafe\"\u001b[0m\u001b[1;33m,\u001b[0m \u001b[0mcopy\u001b[0m\u001b[1;33m=\u001b[0m\u001b[1;32mFalse\u001b[0m\u001b[1;33m)\u001b[0m\u001b[1;33m\u001b[0m\u001b[1;33m\u001b[0m\u001b[0m\n\u001b[0;32m    615\u001b[0m                 \u001b[1;32melse\u001b[0m\u001b[1;33m:\u001b[0m\u001b[1;33m\u001b[0m\u001b[1;33m\u001b[0m\u001b[0m\n\u001b[1;32m--> 616\u001b[1;33m                     \u001b[0marray\u001b[0m \u001b[1;33m=\u001b[0m \u001b[0mnp\u001b[0m\u001b[1;33m.\u001b[0m\u001b[0masarray\u001b[0m\u001b[1;33m(\u001b[0m\u001b[0marray\u001b[0m\u001b[1;33m,\u001b[0m \u001b[0morder\u001b[0m\u001b[1;33m=\u001b[0m\u001b[0morder\u001b[0m\u001b[1;33m,\u001b[0m \u001b[0mdtype\u001b[0m\u001b[1;33m=\u001b[0m\u001b[0mdtype\u001b[0m\u001b[1;33m)\u001b[0m\u001b[1;33m\u001b[0m\u001b[1;33m\u001b[0m\u001b[0m\n\u001b[0m\u001b[0;32m    617\u001b[0m             \u001b[1;32mexcept\u001b[0m \u001b[0mComplexWarning\u001b[0m \u001b[1;32mas\u001b[0m \u001b[0mcomplex_warning\u001b[0m\u001b[1;33m:\u001b[0m\u001b[1;33m\u001b[0m\u001b[1;33m\u001b[0m\u001b[0m\n\u001b[0;32m    618\u001b[0m                 raise ValueError(\"Complex data not supported\\n\"\n",
      "\u001b[1;32mC:\\ProgramData\\Anaconda3\\envs\\tf\\lib\\site-packages\\numpy\\core\\_asarray.py\u001b[0m in \u001b[0;36masarray\u001b[1;34m(a, dtype, order, like)\u001b[0m\n\u001b[0;32m    100\u001b[0m         \u001b[1;32mreturn\u001b[0m \u001b[0m_asarray_with_like\u001b[0m\u001b[1;33m(\u001b[0m\u001b[0ma\u001b[0m\u001b[1;33m,\u001b[0m \u001b[0mdtype\u001b[0m\u001b[1;33m=\u001b[0m\u001b[0mdtype\u001b[0m\u001b[1;33m,\u001b[0m \u001b[0morder\u001b[0m\u001b[1;33m=\u001b[0m\u001b[0morder\u001b[0m\u001b[1;33m,\u001b[0m \u001b[0mlike\u001b[0m\u001b[1;33m=\u001b[0m\u001b[0mlike\u001b[0m\u001b[1;33m)\u001b[0m\u001b[1;33m\u001b[0m\u001b[1;33m\u001b[0m\u001b[0m\n\u001b[0;32m    101\u001b[0m \u001b[1;33m\u001b[0m\u001b[0m\n\u001b[1;32m--> 102\u001b[1;33m     \u001b[1;32mreturn\u001b[0m \u001b[0marray\u001b[0m\u001b[1;33m(\u001b[0m\u001b[0ma\u001b[0m\u001b[1;33m,\u001b[0m \u001b[0mdtype\u001b[0m\u001b[1;33m,\u001b[0m \u001b[0mcopy\u001b[0m\u001b[1;33m=\u001b[0m\u001b[1;32mFalse\u001b[0m\u001b[1;33m,\u001b[0m \u001b[0morder\u001b[0m\u001b[1;33m=\u001b[0m\u001b[0morder\u001b[0m\u001b[1;33m)\u001b[0m\u001b[1;33m\u001b[0m\u001b[1;33m\u001b[0m\u001b[0m\n\u001b[0m\u001b[0;32m    103\u001b[0m \u001b[1;33m\u001b[0m\u001b[0m\n\u001b[0;32m    104\u001b[0m \u001b[1;33m\u001b[0m\u001b[0m\n",
      "\u001b[1;32mC:\\ProgramData\\Anaconda3\\envs\\tf\\lib\\site-packages\\pandas\\core\\generic.py\u001b[0m in \u001b[0;36m__array__\u001b[1;34m(self, dtype)\u001b[0m\n\u001b[0;32m   1897\u001b[0m \u001b[1;33m\u001b[0m\u001b[0m\n\u001b[0;32m   1898\u001b[0m     \u001b[1;32mdef\u001b[0m \u001b[0m__array__\u001b[0m\u001b[1;33m(\u001b[0m\u001b[0mself\u001b[0m\u001b[1;33m,\u001b[0m \u001b[0mdtype\u001b[0m\u001b[1;33m=\u001b[0m\u001b[1;32mNone\u001b[0m\u001b[1;33m)\u001b[0m \u001b[1;33m->\u001b[0m \u001b[0mnp\u001b[0m\u001b[1;33m.\u001b[0m\u001b[0mndarray\u001b[0m\u001b[1;33m:\u001b[0m\u001b[1;33m\u001b[0m\u001b[1;33m\u001b[0m\u001b[0m\n\u001b[1;32m-> 1899\u001b[1;33m         \u001b[1;32mreturn\u001b[0m \u001b[0mnp\u001b[0m\u001b[1;33m.\u001b[0m\u001b[0masarray\u001b[0m\u001b[1;33m(\u001b[0m\u001b[0mself\u001b[0m\u001b[1;33m.\u001b[0m\u001b[0m_values\u001b[0m\u001b[1;33m,\u001b[0m \u001b[0mdtype\u001b[0m\u001b[1;33m=\u001b[0m\u001b[0mdtype\u001b[0m\u001b[1;33m)\u001b[0m\u001b[1;33m\u001b[0m\u001b[1;33m\u001b[0m\u001b[0m\n\u001b[0m\u001b[0;32m   1900\u001b[0m \u001b[1;33m\u001b[0m\u001b[0m\n\u001b[0;32m   1901\u001b[0m     def __array_wrap__(\n",
      "\u001b[1;32mC:\\ProgramData\\Anaconda3\\envs\\tf\\lib\\site-packages\\numpy\\core\\_asarray.py\u001b[0m in \u001b[0;36masarray\u001b[1;34m(a, dtype, order, like)\u001b[0m\n\u001b[0;32m    100\u001b[0m         \u001b[1;32mreturn\u001b[0m \u001b[0m_asarray_with_like\u001b[0m\u001b[1;33m(\u001b[0m\u001b[0ma\u001b[0m\u001b[1;33m,\u001b[0m \u001b[0mdtype\u001b[0m\u001b[1;33m=\u001b[0m\u001b[0mdtype\u001b[0m\u001b[1;33m,\u001b[0m \u001b[0morder\u001b[0m\u001b[1;33m=\u001b[0m\u001b[0morder\u001b[0m\u001b[1;33m,\u001b[0m \u001b[0mlike\u001b[0m\u001b[1;33m=\u001b[0m\u001b[0mlike\u001b[0m\u001b[1;33m)\u001b[0m\u001b[1;33m\u001b[0m\u001b[1;33m\u001b[0m\u001b[0m\n\u001b[0;32m    101\u001b[0m \u001b[1;33m\u001b[0m\u001b[0m\n\u001b[1;32m--> 102\u001b[1;33m     \u001b[1;32mreturn\u001b[0m \u001b[0marray\u001b[0m\u001b[1;33m(\u001b[0m\u001b[0ma\u001b[0m\u001b[1;33m,\u001b[0m \u001b[0mdtype\u001b[0m\u001b[1;33m,\u001b[0m \u001b[0mcopy\u001b[0m\u001b[1;33m=\u001b[0m\u001b[1;32mFalse\u001b[0m\u001b[1;33m,\u001b[0m \u001b[0morder\u001b[0m\u001b[1;33m=\u001b[0m\u001b[0morder\u001b[0m\u001b[1;33m)\u001b[0m\u001b[1;33m\u001b[0m\u001b[1;33m\u001b[0m\u001b[0m\n\u001b[0m\u001b[0;32m    103\u001b[0m \u001b[1;33m\u001b[0m\u001b[0m\n\u001b[0;32m    104\u001b[0m \u001b[1;33m\u001b[0m\u001b[0m\n",
      "\u001b[1;31mValueError\u001b[0m: could not convert string to float: 'Low'"
     ]
    }
   ],
   "source": [
    "# Let's build a ML model\n",
    "from sklearn.ensemble import RandomForestRegressor\n",
    "\n",
    "model = RandomForestRegressor(n_jobs=-1, random_state=42) # random_state equals to random.seed()\n",
    "\n",
    "model.fit(df_tmp.drop('SalePrice', axis=1), df_tmp['SalePrice'])"
   ]
  },
  {
   "source": [
    "### Convert string to categories\n",
    "\n",
    "One way we can turn all of our data into numbers is by converting them into Pandas categories.\n",
    "We can check the different datatypes compatible with pandas here:\n",
    "\n",
    "https://pandas.pydata.org/docs/reference/general_utility_functions.html#data-types-related-functionality\n",
    "\n"
   ],
   "cell_type": "markdown",
   "metadata": {}
  },
  {
   "cell_type": "code",
   "execution_count": 55,
   "metadata": {},
   "outputs": [
    {
     "output_type": "execute_result",
     "data": {
      "text/plain": [
       "True"
      ]
     },
     "metadata": {},
     "execution_count": 55
    }
   ],
   "source": [
    "pd.api.types.is_string_dtype(df_tmp['UsageBand'])"
   ]
  },
  {
   "cell_type": "code",
   "execution_count": 56,
   "metadata": {},
   "outputs": [
    {
     "output_type": "stream",
     "name": "stdout",
     "text": [
      "UsageBand\nfiModelDesc\nfiBaseModel\nfiSecondaryDesc\nfiModelSeries\nfiModelDescriptor\nProductSize\nfiProductClassDesc\nstate\nProductGroup\nProductGroupDesc\nDrive_System\nEnclosure\nForks\nPad_Type\nRide_Control\nStick\nTransmission\nTurbocharged\nBlade_Extension\nBlade_Width\nEnclosure_Type\nEngine_Horsepower\nHydraulics\nPushblock\nRipper\nScarifier\nTip_Control\nTire_Size\nCoupler\nCoupler_System\nGrouser_Tracks\nHydraulics_Flow\nTrack_Type\nUndercarriage_Pad_Width\nStick_Length\nThumb\nPattern_Changer\nGrouser_Type\nBackhoe_Mounting\nBlade_Type\nTravel_Controls\nDifferential_Type\nSteering_Controls\n"
     ]
    }
   ],
   "source": [
    "# Find the columns which contain strings\n",
    "for label, content in df_tmp.items():\n",
    "    if pd.api.types.is_string_dtype(content):\n",
    "        print(label)"
   ]
  },
  {
   "cell_type": "code",
   "execution_count": 57,
   "metadata": {},
   "outputs": [
    {
     "output_type": "stream",
     "name": "stdout",
     "text": [
      "this is a key: key1 this is a value: hello\nthis is a key: key2 this is a value: world!\n"
     ]
    }
   ],
   "source": [
    "# If you're wondering what df.items() does, here's an example\n",
    "random_dict = {'key1': 'hello',\n",
    "                'key2': 'world!'}\n",
    "\n",
    "for key, value in random_dict.items():\n",
    "    print(f'this is a key: {key}',\n",
    "            f'this is a value: {value}')"
   ]
  },
  {
   "cell_type": "code",
   "execution_count": 58,
   "metadata": {},
   "outputs": [],
   "source": [
    "# This will turn all of the string value into category values\n",
    "for label, content in df_tmp.items():\n",
    "    if pd.api.types.is_string_dtype(content):\n",
    "        df_tmp[label] = content.astype('category').cat.as_ordered()"
   ]
  },
  {
   "cell_type": "code",
   "execution_count": 19,
   "metadata": {},
   "outputs": [
    {
     "output_type": "stream",
     "name": "stdout",
     "text": [
      "<class 'pandas.core.frame.DataFrame'>\nInt64Index: 412698 entries, 205615 to 409203\nData columns (total 57 columns):\n #   Column                    Non-Null Count   Dtype   \n---  ------                    --------------   -----   \n 0   SalesID                   412698 non-null  int64   \n 1   SalePrice                 412698 non-null  float64 \n 2   MachineID                 412698 non-null  int64   \n 3   ModelID                   412698 non-null  int64   \n 4   datasource                412698 non-null  int64   \n 5   auctioneerID              392562 non-null  float64 \n 6   YearMade                  412698 non-null  int64   \n 7   MachineHoursCurrentMeter  147504 non-null  float64 \n 8   UsageBand                 73670 non-null   category\n 9   fiModelDesc               412698 non-null  category\n 10  fiBaseModel               412698 non-null  category\n 11  fiSecondaryDesc           271971 non-null  category\n 12  fiModelSeries             58667 non-null   category\n 13  fiModelDescriptor         74816 non-null   category\n 14  ProductSize               196093 non-null  category\n 15  fiProductClassDesc        412698 non-null  category\n 16  state                     412698 non-null  category\n 17  ProductGroup              412698 non-null  category\n 18  ProductGroupDesc          412698 non-null  category\n 19  Drive_System              107087 non-null  category\n 20  Enclosure                 412364 non-null  category\n 21  Forks                     197715 non-null  category\n 22  Pad_Type                  81096 non-null   category\n 23  Ride_Control              152728 non-null  category\n 24  Stick                     81096 non-null   category\n 25  Transmission              188007 non-null  category\n 26  Turbocharged              81096 non-null   category\n 27  Blade_Extension           25983 non-null   category\n 28  Blade_Width               25983 non-null   category\n 29  Enclosure_Type            25983 non-null   category\n 30  Engine_Horsepower         25983 non-null   category\n 31  Hydraulics                330133 non-null  category\n 32  Pushblock                 25983 non-null   category\n 33  Ripper                    106945 non-null  category\n 34  Scarifier                 25994 non-null   category\n 35  Tip_Control               25983 non-null   category\n 36  Tire_Size                 97638 non-null   category\n 37  Coupler                   220679 non-null  category\n 38  Coupler_System            44974 non-null   category\n 39  Grouser_Tracks            44875 non-null   category\n 40  Hydraulics_Flow           44875 non-null   category\n 41  Track_Type                102193 non-null  category\n 42  Undercarriage_Pad_Width   102916 non-null  category\n 43  Stick_Length              102261 non-null  category\n 44  Thumb                     102332 non-null  category\n 45  Pattern_Changer           102261 non-null  category\n 46  Grouser_Type              102193 non-null  category\n 47  Backhoe_Mounting          80712 non-null   category\n 48  Blade_Type                81875 non-null   category\n 49  Travel_Controls           81877 non-null   category\n 50  Differential_Type         71564 non-null   category\n 51  Steering_Controls         71522 non-null   category\n 52  saleYear                  412698 non-null  int64   \n 53  saleMonth                 412698 non-null  int64   \n 54  saleDay                   412698 non-null  int64   \n 55  saleDayOfWeek             412698 non-null  int64   \n 56  saleDayOfYear             412698 non-null  int64   \ndtypes: category(44), float64(3), int64(10)\nmemory usage: 63.6 MB\n"
     ]
    }
   ],
   "source": [
    "df_tmp.info()"
   ]
  },
  {
   "cell_type": "code",
   "execution_count": 59,
   "metadata": {},
   "outputs": [
    {
     "output_type": "execute_result",
     "data": {
      "text/plain": [
       "Index(['Alabama', 'Alaska', 'Arizona', 'Arkansas', 'California', 'Colorado',\n",
       "       'Connecticut', 'Delaware', 'Florida', 'Georgia', 'Hawaii', 'Idaho',\n",
       "       'Illinois', 'Indiana', 'Iowa', 'Kansas', 'Kentucky', 'Louisiana',\n",
       "       'Maine', 'Maryland', 'Massachusetts', 'Michigan', 'Minnesota',\n",
       "       'Mississippi', 'Missouri', 'Montana', 'Nebraska', 'Nevada',\n",
       "       'New Hampshire', 'New Jersey', 'New Mexico', 'New York',\n",
       "       'North Carolina', 'North Dakota', 'Ohio', 'Oklahoma', 'Oregon',\n",
       "       'Pennsylvania', 'Puerto Rico', 'Rhode Island', 'South Carolina',\n",
       "       'South Dakota', 'Tennessee', 'Texas', 'Unspecified', 'Utah', 'Vermont',\n",
       "       'Virginia', 'Washington', 'Washington DC', 'West Virginia', 'Wisconsin',\n",
       "       'Wyoming'],\n",
       "      dtype='object')"
      ]
     },
     "metadata": {},
     "execution_count": 59
    }
   ],
   "source": [
    "df_tmp.state.cat.categories"
   ]
  },
  {
   "cell_type": "code",
   "execution_count": 60,
   "metadata": {},
   "outputs": [
    {
     "output_type": "execute_result",
     "data": {
      "text/plain": [
       "205615    43\n",
       "274835     8\n",
       "141296     8\n",
       "212552     8\n",
       "62755      8\n",
       "          ..\n",
       "410879     4\n",
       "412476     4\n",
       "411927     4\n",
       "407124     4\n",
       "409203     4\n",
       "Length: 412698, dtype: int8"
      ]
     },
     "metadata": {},
     "execution_count": 60
    }
   ],
   "source": [
    "df_tmp.state.cat.codes"
   ]
  },
  {
   "source": [
    "### Thanks to pandas Categories we now have a way to access all of our data in the form of numbers.abs\n",
    "But we still have a bunch of missing data..."
   ],
   "cell_type": "markdown",
   "metadata": {}
  },
  {
   "cell_type": "code",
   "execution_count": 61,
   "metadata": {},
   "outputs": [
    {
     "output_type": "execute_result",
     "data": {
      "text/plain": [
       "SalesID                     0.000000\n",
       "SalePrice                   0.000000\n",
       "MachineID                   0.000000\n",
       "ModelID                     0.000000\n",
       "datasource                  0.000000\n",
       "auctioneerID                0.048791\n",
       "YearMade                    0.000000\n",
       "MachineHoursCurrentMeter    0.642586\n",
       "UsageBand                   0.821492\n",
       "fiModelDesc                 0.000000\n",
       "fiBaseModel                 0.000000\n",
       "fiSecondaryDesc             0.340993\n",
       "fiModelSeries               0.857845\n",
       "fiModelDescriptor           0.818715\n",
       "ProductSize                 0.524851\n",
       "fiProductClassDesc          0.000000\n",
       "state                       0.000000\n",
       "ProductGroup                0.000000\n",
       "ProductGroupDesc            0.000000\n",
       "Drive_System                0.740520\n",
       "Enclosure                   0.000809\n",
       "Forks                       0.520921\n",
       "Pad_Type                    0.803498\n",
       "Ride_Control                0.629928\n",
       "Stick                       0.803498\n",
       "Transmission                0.544444\n",
       "Turbocharged                0.803498\n",
       "Blade_Extension             0.937041\n",
       "Blade_Width                 0.937041\n",
       "Enclosure_Type              0.937041\n",
       "Engine_Horsepower           0.937041\n",
       "Hydraulics                  0.200062\n",
       "Pushblock                   0.937041\n",
       "Ripper                      0.740864\n",
       "Scarifier                   0.937014\n",
       "Tip_Control                 0.937041\n",
       "Tire_Size                   0.763415\n",
       "Coupler                     0.465277\n",
       "Coupler_System              0.891024\n",
       "Grouser_Tracks              0.891264\n",
       "Hydraulics_Flow             0.891264\n",
       "Track_Type                  0.752378\n",
       "Undercarriage_Pad_Width     0.750626\n",
       "Stick_Length                0.752213\n",
       "Thumb                       0.752041\n",
       "Pattern_Changer             0.752213\n",
       "Grouser_Type                0.752378\n",
       "Backhoe_Mounting            0.804428\n",
       "Blade_Type                  0.801610\n",
       "Travel_Controls             0.801606\n",
       "Differential_Type           0.826595\n",
       "Steering_Controls           0.826697\n",
       "saleYear                    0.000000\n",
       "saleMonth                   0.000000\n",
       "saleDay                     0.000000\n",
       "saleDayOfWeek               0.000000\n",
       "saleDayOfYear               0.000000\n",
       "dtype: float64"
      ]
     },
     "metadata": {},
     "execution_count": 61
    }
   ],
   "source": [
    "# Check missing values\n",
    "df_tmp.isnull().sum() / len (df_tmp)"
   ]
  },
  {
   "source": [
    "### Save preprocessed"
   ],
   "cell_type": "markdown",
   "metadata": {}
  },
  {
   "cell_type": "code",
   "execution_count": 62,
   "metadata": {},
   "outputs": [],
   "source": [
    "# Export current tmp dataframe\n",
    "df_tmp.to_csv('../bluebook-for-bulldozers/train_tmp.csv', index=False)"
   ]
  },
  {
   "cell_type": "code",
   "execution_count": 64,
   "metadata": {},
   "outputs": [],
   "source": [
    "# Import preporcessed data\n",
    "df_tmp = pd.read_csv('../bluebook-for-bulldozers/train_tmp.csv', low_memory=False)"
   ]
  },
  {
   "source": [
    "## Filling missing values\n",
    "\n",
    "### Fill numeric missing values first"
   ],
   "cell_type": "markdown",
   "metadata": {}
  },
  {
   "cell_type": "code",
   "execution_count": 65,
   "metadata": {},
   "outputs": [
    {
     "output_type": "stream",
     "name": "stdout",
     "text": [
      "SalesID\nSalePrice\nMachineID\nModelID\ndatasource\nauctioneerID\nYearMade\nMachineHoursCurrentMeter\nsaleYear\nsaleMonth\nsaleDay\nsaleDayOfWeek\nsaleDayOfYear\n"
     ]
    }
   ],
   "source": [
    "for label, content in df_tmp.items():\n",
    "    if pd.api.types.is_numeric_dtype(content):\n",
    "        print(label)\n",
    "        "
   ]
  },
  {
   "cell_type": "code",
   "execution_count": 66,
   "metadata": {},
   "outputs": [
    {
     "output_type": "stream",
     "name": "stdout",
     "text": [
      "auctioneerID\nMachineHoursCurrentMeter\n"
     ]
    }
   ],
   "source": [
    "# Check for which numeric columns have null values\n",
    "for label, content in df_tmp.items():\n",
    "    if pd.api.types.is_numeric_dtype(content):\n",
    "        if pd.isnull(content).sum():\n",
    "            print(label)\n"
   ]
  },
  {
   "cell_type": "code",
   "execution_count": 67,
   "metadata": {},
   "outputs": [
    {
     "output_type": "stream",
     "name": "stdout",
     "text": [
      "auctioneerID\nMachineHoursCurrentMeter\n"
     ]
    }
   ],
   "source": [
    "# Fill numeric rows with the median\n",
    "for label, content in df_tmp.items():\n",
    "    if pd.api.types.is_numeric_dtype(content):\n",
    "        if pd.isnull(content).sum():\n",
    "            print(label)\n",
    "            # Add a binary column which tells us if the data was misssing\n",
    "            df_tmp[label + '_is_missing'] = pd.isnull(content)\n",
    "            # Filling missing numeric values with median\n",
    "            df_tmp[label] = content.fillna(content.median())"
   ]
  },
  {
   "cell_type": "code",
   "execution_count": 68,
   "metadata": {},
   "outputs": [
    {
     "output_type": "execute_result",
     "data": {
      "text/plain": [
       "(100.0, 9990109.89010989, 100.0, 100.0)"
      ]
     },
     "metadata": {},
     "execution_count": 68
    }
   ],
   "source": [
    "# Demo why median is more robust than mean\n",
    "hundrends = np.full((1000,), 100)\n",
    "hundrends_billion = np.append(hundrends, 10000000000)\n",
    "np.mean(hundrends), np.mean(hundrends_billion), np.median(hundrends), np.median(hundrends_billion)"
   ]
  },
  {
   "cell_type": "code",
   "execution_count": 69,
   "metadata": {},
   "outputs": [],
   "source": [
    "# Check if there's any null numeric values\n",
    "for label, content in df_tmp.items():\n",
    "    if pd.api.types.is_numeric_dtype(content):\n",
    "        if pd.isnull(content).sum():\n",
    "            print(label)"
   ]
  },
  {
   "cell_type": "code",
   "execution_count": 70,
   "metadata": {},
   "outputs": [
    {
     "output_type": "execute_result",
     "data": {
      "text/plain": [
       "False    392562\n",
       "True      20136\n",
       "Name: auctioneerID_is_missing, dtype: int64"
      ]
     },
     "metadata": {},
     "execution_count": 70
    }
   ],
   "source": [
    "# Check to see how many examples were missing\n",
    "df_tmp.auctioneerID_is_missing.value_counts()"
   ]
  },
  {
   "cell_type": "code",
   "execution_count": 71,
   "metadata": {},
   "outputs": [
    {
     "output_type": "execute_result",
     "data": {
      "text/plain": [
       "SalesID                                     0\n",
       "SalePrice                                   0\n",
       "MachineID                                   0\n",
       "ModelID                                     0\n",
       "datasource                                  0\n",
       "auctioneerID                                0\n",
       "YearMade                                    0\n",
       "MachineHoursCurrentMeter                    0\n",
       "UsageBand                              339028\n",
       "fiModelDesc                                 0\n",
       "fiBaseModel                                 0\n",
       "fiSecondaryDesc                        140727\n",
       "fiModelSeries                          354031\n",
       "fiModelDescriptor                      337882\n",
       "ProductSize                            216605\n",
       "fiProductClassDesc                          0\n",
       "state                                       0\n",
       "ProductGroup                                0\n",
       "ProductGroupDesc                            0\n",
       "Drive_System                           305611\n",
       "Enclosure                                 334\n",
       "Forks                                  214983\n",
       "Pad_Type                               331602\n",
       "Ride_Control                           259970\n",
       "Stick                                  331602\n",
       "Transmission                           224691\n",
       "Turbocharged                           331602\n",
       "Blade_Extension                        386715\n",
       "Blade_Width                            386715\n",
       "Enclosure_Type                         386715\n",
       "Engine_Horsepower                      386715\n",
       "Hydraulics                              82565\n",
       "Pushblock                              386715\n",
       "Ripper                                 305753\n",
       "Scarifier                              386704\n",
       "Tip_Control                            386715\n",
       "Tire_Size                              315060\n",
       "Coupler                                192019\n",
       "Coupler_System                         367724\n",
       "Grouser_Tracks                         367823\n",
       "Hydraulics_Flow                        367823\n",
       "Track_Type                             310505\n",
       "Undercarriage_Pad_Width                309782\n",
       "Stick_Length                           310437\n",
       "Thumb                                  310366\n",
       "Pattern_Changer                        310437\n",
       "Grouser_Type                           310505\n",
       "Backhoe_Mounting                       331986\n",
       "Blade_Type                             330823\n",
       "Travel_Controls                        330821\n",
       "Differential_Type                      341134\n",
       "Steering_Controls                      341176\n",
       "saleYear                                    0\n",
       "saleMonth                                   0\n",
       "saleDay                                     0\n",
       "saleDayOfWeek                               0\n",
       "saleDayOfYear                               0\n",
       "auctioneerID_is_missing                     0\n",
       "MachineHoursCurrentMeter_is_missing         0\n",
       "dtype: int64"
      ]
     },
     "metadata": {},
     "execution_count": 71
    }
   ],
   "source": [
    "df_tmp.isna().sum()"
   ]
  },
  {
   "source": [
    "### Filling and turning categorcal variables into numbers"
   ],
   "cell_type": "markdown",
   "metadata": {}
  },
  {
   "cell_type": "code",
   "execution_count": 72,
   "metadata": {},
   "outputs": [
    {
     "output_type": "stream",
     "name": "stdout",
     "text": [
      "UsageBand\nfiModelDesc\nfiBaseModel\nfiSecondaryDesc\nfiModelSeries\nfiModelDescriptor\nProductSize\nfiProductClassDesc\nstate\nProductGroup\nProductGroupDesc\nDrive_System\nEnclosure\nForks\nPad_Type\nRide_Control\nStick\nTransmission\nTurbocharged\nBlade_Extension\nBlade_Width\nEnclosure_Type\nEngine_Horsepower\nHydraulics\nPushblock\nRipper\nScarifier\nTip_Control\nTire_Size\nCoupler\nCoupler_System\nGrouser_Tracks\nHydraulics_Flow\nTrack_Type\nUndercarriage_Pad_Width\nStick_Length\nThumb\nPattern_Changer\nGrouser_Type\nBackhoe_Mounting\nBlade_Type\nTravel_Controls\nDifferential_Type\nSteering_Controls\n"
     ]
    }
   ],
   "source": [
    "# Check for columns which aren't numeric\n",
    "for label, content in df_tmp.items():\n",
    "    if not pd.api.types.is_numeric_dtype(content):\n",
    "        print(label)"
   ]
  },
  {
   "cell_type": "code",
   "execution_count": 73,
   "metadata": {},
   "outputs": [],
   "source": [
    "# Turn categorical variable into numbers an fill missing\n",
    "for label, content in df_tmp.items():\n",
    "    if not pd.api.types.is_numeric_dtype(content):\n",
    "        # Add binary column to indicate whether sample had missing value\n",
    "        df_tmp[label + '_is_missing'] = pd.isnull(content)\n",
    "        # Turn categories into numbers ad add +1\n",
    "        df_tmp[label] = pd.Categorical(content).codes + 1"
   ]
  },
  {
   "cell_type": "code",
   "execution_count": 74,
   "metadata": {},
   "outputs": [
    {
     "output_type": "execute_result",
     "data": {
      "text/plain": [
       "array([44,  9,  9, ...,  5,  5,  5], dtype=int8)"
      ]
     },
     "metadata": {},
     "execution_count": 74
    }
   ],
   "source": [
    "pd.Categorical(df_tmp['state']).codes + 1"
   ]
  },
  {
   "cell_type": "code",
   "execution_count": 75,
   "metadata": {},
   "outputs": [
    {
     "output_type": "execute_result",
     "data": {
      "text/plain": [
       "array([0, 0, 0, ..., 0, 0, 0], dtype=int8)"
      ]
     },
     "metadata": {},
     "execution_count": 75
    }
   ],
   "source": [
    "pd.Categorical(df_tmp['UsageBand']).codes"
   ]
  },
  {
   "cell_type": "code",
   "execution_count": 76,
   "metadata": {},
   "outputs": [
    {
     "output_type": "execute_result",
     "data": {
      "text/plain": [
       "SalesID                     0\n",
       "SalePrice                   0\n",
       "MachineID                   0\n",
       "ModelID                     0\n",
       "datasource                  0\n",
       "auctioneerID                0\n",
       "YearMade                    0\n",
       "MachineHoursCurrentMeter    0\n",
       "UsageBand                   0\n",
       "fiModelDesc                 0\n",
       "dtype: int64"
      ]
     },
     "metadata": {},
     "execution_count": 76
    }
   ],
   "source": [
    "df_tmp.isna().sum()[:10]"
   ]
  },
  {
   "source": [
    "### Now that all data is numeric as well as our dataframe has no missing values, we should be able to build a machine learning model\n"
   ],
   "cell_type": "markdown",
   "metadata": {}
  },
  {
   "cell_type": "code",
   "execution_count": 77,
   "metadata": {},
   "outputs": [
    {
     "output_type": "stream",
     "name": "stdout",
     "text": [
      "Wall time: 1min 52s\n"
     ]
    },
    {
     "output_type": "execute_result",
     "data": {
      "text/plain": [
       "RandomForestRegressor(n_jobs=-1, random_state=42)"
      ]
     },
     "metadata": {},
     "execution_count": 77
    }
   ],
   "source": [
    "%%time\n",
    "# Instantiate model\n",
    "model = RandomForestRegressor(n_jobs=-1,\n",
    "                                random_state=42)\n",
    "\n",
    "# Fit the model\n",
    "model.fit(df_tmp.drop('SalePrice', axis=1), df_tmp[\"SalePrice\"])"
   ]
  },
  {
   "cell_type": "code",
   "execution_count": 78,
   "metadata": {},
   "outputs": [
    {
     "output_type": "execute_result",
     "data": {
      "text/plain": [
       "0.9875516841918182"
      ]
     },
     "metadata": {},
     "execution_count": 78
    }
   ],
   "source": [
    "# Score the model\n",
    "model.score(df_tmp.drop('SalePrice', axis=1), df_tmp['SalePrice'])"
   ]
  },
  {
   "source": [
    "** Question: ** Why doesn't the above metric hold water? (why isn't the metric  rliable)\n",
    "\n",
    "### Splitting data int otrain/validation sets"
   ],
   "cell_type": "markdown",
   "metadata": {}
  },
  {
   "cell_type": "code",
   "execution_count": 79,
   "metadata": {},
   "outputs": [
    {
     "output_type": "execute_result",
     "data": {
      "text/plain": [
       "0         1989\n",
       "1         1989\n",
       "2         1989\n",
       "3         1989\n",
       "4         1989\n",
       "          ... \n",
       "412693    2012\n",
       "412694    2012\n",
       "412695    2012\n",
       "412696    2012\n",
       "412697    2012\n",
       "Name: saleYear, Length: 412698, dtype: int64"
      ]
     },
     "metadata": {},
     "execution_count": 79
    }
   ],
   "source": [
    "df_tmp.saleYear"
   ]
  },
  {
   "cell_type": "code",
   "execution_count": 80,
   "metadata": {},
   "outputs": [
    {
     "output_type": "execute_result",
     "data": {
      "text/plain": [
       "2009    43849\n",
       "2008    39767\n",
       "2011    35197\n",
       "2010    33390\n",
       "2007    32208\n",
       "2006    21685\n",
       "2005    20463\n",
       "2004    19879\n",
       "2001    17594\n",
       "2000    17415\n",
       "2002    17246\n",
       "2003    15254\n",
       "1998    13046\n",
       "1999    12793\n",
       "2012    11573\n",
       "1997     9785\n",
       "1996     8829\n",
       "1995     8530\n",
       "1994     7929\n",
       "1993     6303\n",
       "1992     5519\n",
       "1991     5109\n",
       "1989     4806\n",
       "1990     4529\n",
       "Name: saleYear, dtype: int64"
      ]
     },
     "metadata": {},
     "execution_count": 80
    }
   ],
   "source": [
    "df_tmp.saleYear.value_counts()"
   ]
  },
  {
   "cell_type": "code",
   "execution_count": 81,
   "metadata": {},
   "outputs": [
    {
     "output_type": "execute_result",
     "data": {
      "text/plain": [
       "(11573, 401125)"
      ]
     },
     "metadata": {},
     "execution_count": 81
    }
   ],
   "source": [
    "# Split data into training and validation\n",
    "df_val = df_tmp[df_tmp.saleYear == 2012]\n",
    "df_train = df_tmp[df_tmp.saleYear != 2012]\n",
    "\n",
    "len(df_val), len(df_train)"
   ]
  },
  {
   "cell_type": "code",
   "execution_count": 131,
   "metadata": {},
   "outputs": [
    {
     "output_type": "execute_result",
     "data": {
      "text/plain": [
       "((401125, 102), (401125,), (11573, 102), (11573,))"
      ]
     },
     "metadata": {},
     "execution_count": 131
    }
   ],
   "source": [
    "# Split data into X & y\n",
    "X_train, y_train = df_train.drop('SalePrice', axis=1), df_train.SalePrice\n",
    "X_valid, y_valid = df_val.drop('SalePrice', axis=1), df_val.SalePrice\n",
    "\n",
    "X_train.shape, y_train.shape, X_valid.shape, y_valid.shape"
   ]
  },
  {
   "source": [
    "### Building an avaluatoin function"
   ],
   "cell_type": "markdown",
   "metadata": {}
  },
  {
   "cell_type": "code",
   "execution_count": 83,
   "metadata": {},
   "outputs": [],
   "source": [
    "# Create evaluation function (the competition uses RMSLE)\n",
    "from sklearn.metrics import mean_squared_log_error, mean_absolute_error, r2_score\n",
    "\n",
    "def rmsle(y_test, y_preds):\n",
    "    '''\n",
    "    Calculates root mean squared log error between predictions and true labels.\n",
    "    '''\n",
    "    return np.sqrt(mean_squared_log_error(y_test, y_preds))\n",
    "\n",
    "# Create function to evaluate model on a few different levels \n",
    "def show_scores(model):\n",
    "    train_preds = model.predict(X_train)\n",
    "    val_preds = model.predict(X_valid)\n",
    "    scores = {'Training MAE': mean_absolute_error(y_train, train_preds),\n",
    "                'Valid MAE': mean_absolute_error(y_valid, val_preds),\n",
    "                'Training RMSLE': rmsle(y_train, train_preds),\n",
    "                'Valid RMSLE': rmsle(y_valid, val_preds),\n",
    "                'Training R^2': r2_score(y_train, train_preds),\n",
    "                'Valid R&2': r2_score(y_valid, val_preds)}\n",
    "    return scores"
   ]
  },
  {
   "source": [
    "### Testing our model on a subset (to tune the hyperparameters)"
   ],
   "cell_type": "markdown",
   "metadata": {}
  },
  {
   "cell_type": "code",
   "execution_count": 84,
   "metadata": {},
   "outputs": [
    {
     "output_type": "stream",
     "name": "stdout",
     "text": [
      "Wall time: 5.35 s\n"
     ]
    },
    {
     "output_type": "execute_result",
     "data": {
      "text/plain": [
       "RandomForestRegressor(max_samples=10000, n_jobs=-1, random_state=42)"
      ]
     },
     "metadata": {},
     "execution_count": 84
    }
   ],
   "source": [
    "%%time\n",
    "# This takes far too long for experimenting, so we cut our dataset with max_samples value\n",
    "model = RandomForestRegressor(n_jobs=-1, random_state=42, max_samples=10000)\n",
    "\n",
    "model.fit(X_train, y_train)"
   ]
  },
  {
   "cell_type": "code",
   "execution_count": 85,
   "metadata": {},
   "outputs": [
    {
     "output_type": "execute_result",
     "data": {
      "text/plain": [
       "{'Training MAE': 5561.162486855717,\n",
       " 'Valid MAE': 7175.539684610732,\n",
       " 'Training RMSLE': 0.2577413666148792,\n",
       " 'Valid RMSLE': 0.29362620003305046,\n",
       " 'Training R^2': 0.8606724557441926,\n",
       " 'Valid R&2': 0.8320287347586728}"
      ]
     },
     "metadata": {},
     "execution_count": 85
    }
   ],
   "source": [
    "show_scores(model)"
   ]
  },
  {
   "source": [
    "## Hyperparameters tuning wiht RAndomizedSearchCV"
   ],
   "cell_type": "markdown",
   "metadata": {}
  },
  {
   "cell_type": "code",
   "execution_count": 87,
   "metadata": {
    "tags": [
     "outputPrepend"
    ]
   },
   "outputs": [
    {
     "output_type": "stream",
     "name": "stdout",
     "text": [
      "ation.py\", line 593, in _fit_and_score\n",
      "    estimator.fit(X_train, y_train, **fit_params)\n",
      "  File \"C:\\ProgramData\\Anaconda3\\envs\\tf\\lib\\site-packages\\sklearn\\ensemble\\_forest.py\", line 387, in fit\n",
      "    trees = Parallel(n_jobs=self.n_jobs, verbose=self.verbose,\n",
      "  File \"C:\\ProgramData\\Anaconda3\\envs\\tf\\lib\\site-packages\\joblib\\parallel.py\", line 1054, in __call__\n",
      "    self.retrieve()\n",
      "  File \"C:\\ProgramData\\Anaconda3\\envs\\tf\\lib\\site-packages\\joblib\\parallel.py\", line 933, in retrieve\n",
      "    self._output.extend(job.get(timeout=self.timeout))\n",
      "  File \"C:\\ProgramData\\Anaconda3\\envs\\tf\\lib\\site-packages\\joblib\\_parallel_backends.py\", line 542, in wrap_future_result\n",
      "    return future.result(timeout=timeout)\n",
      "  File \"C:\\ProgramData\\Anaconda3\\envs\\tf\\lib\\concurrent\\futures\\_base.py\", line 445, in result\n",
      "    return self.__get_result()\n",
      "  File \"C:\\ProgramData\\Anaconda3\\envs\\tf\\lib\\concurrent\\futures\\_base.py\", line 390, in __get_result\n",
      "    raise self._exception\n",
      "joblib.externals.loky.process_executor.TerminatedWorkerError: A worker process managed by the executor was unexpectedly terminated. This could be caused by a segmentation fault while calling the function or by an excessive memory usage causing the Operating System to kill the worker.\n",
      "\n",
      "\n",
      "  warnings.warn(\"Estimator fit failed. The score on this train-test\"\n",
      "C:\\ProgramData\\Anaconda3\\envs\\tf\\lib\\site-packages\\sklearn\\model_selection\\_validation.py:610: FitFailedWarning: Estimator fit failed. The score on this train-test partition for these parameters will be set to nan. Details: \n",
      "Traceback (most recent call last):\n",
      "  File \"C:\\ProgramData\\Anaconda3\\envs\\tf\\lib\\site-packages\\sklearn\\model_selection\\_validation.py\", line 593, in _fit_and_score\n",
      "    estimator.fit(X_train, y_train, **fit_params)\n",
      "  File \"C:\\ProgramData\\Anaconda3\\envs\\tf\\lib\\site-packages\\sklearn\\ensemble\\_forest.py\", line 387, in fit\n",
      "    trees = Parallel(n_jobs=self.n_jobs, verbose=self.verbose,\n",
      "  File \"C:\\ProgramData\\Anaconda3\\envs\\tf\\lib\\site-packages\\joblib\\parallel.py\", line 1054, in __call__\n",
      "    self.retrieve()\n",
      "  File \"C:\\ProgramData\\Anaconda3\\envs\\tf\\lib\\site-packages\\joblib\\parallel.py\", line 933, in retrieve\n",
      "    self._output.extend(job.get(timeout=self.timeout))\n",
      "  File \"C:\\ProgramData\\Anaconda3\\envs\\tf\\lib\\site-packages\\joblib\\_parallel_backends.py\", line 542, in wrap_future_result\n",
      "    return future.result(timeout=timeout)\n",
      "  File \"C:\\ProgramData\\Anaconda3\\envs\\tf\\lib\\concurrent\\futures\\_base.py\", line 445, in result\n",
      "    return self.__get_result()\n",
      "  File \"C:\\ProgramData\\Anaconda3\\envs\\tf\\lib\\concurrent\\futures\\_base.py\", line 390, in __get_result\n",
      "    raise self._exception\n",
      "joblib.externals.loky.process_executor.TerminatedWorkerError: A worker process managed by the executor was unexpectedly terminated. This could be caused by a segmentation fault while calling the function or by an excessive memory usage causing the Operating System to kill the worker.\n",
      "\n",
      "\n",
      "  warnings.warn(\"Estimator fit failed. The score on this train-test\"\n",
      "C:\\ProgramData\\Anaconda3\\envs\\tf\\lib\\site-packages\\sklearn\\model_selection\\_validation.py:610: FitFailedWarning: Estimator fit failed. The score on this train-test partition for these parameters will be set to nan. Details: \n",
      "Traceback (most recent call last):\n",
      "  File \"C:\\ProgramData\\Anaconda3\\envs\\tf\\lib\\site-packages\\sklearn\\model_selection\\_validation.py\", line 593, in _fit_and_score\n",
      "    estimator.fit(X_train, y_train, **fit_params)\n",
      "  File \"C:\\ProgramData\\Anaconda3\\envs\\tf\\lib\\site-packages\\sklearn\\ensemble\\_forest.py\", line 387, in fit\n",
      "    trees = Parallel(n_jobs=self.n_jobs, verbose=self.verbose,\n",
      "  File \"C:\\ProgramData\\Anaconda3\\envs\\tf\\lib\\site-packages\\joblib\\parallel.py\", line 1054, in __call__\n",
      "    self.retrieve()\n",
      "  File \"C:\\ProgramData\\Anaconda3\\envs\\tf\\lib\\site-packages\\joblib\\parallel.py\", line 933, in retrieve\n",
      "    self._output.extend(job.get(timeout=self.timeout))\n",
      "  File \"C:\\ProgramData\\Anaconda3\\envs\\tf\\lib\\site-packages\\joblib\\_parallel_backends.py\", line 542, in wrap_future_result\n",
      "    return future.result(timeout=timeout)\n",
      "  File \"C:\\ProgramData\\Anaconda3\\envs\\tf\\lib\\concurrent\\futures\\_base.py\", line 445, in result\n",
      "    return self.__get_result()\n",
      "  File \"C:\\ProgramData\\Anaconda3\\envs\\tf\\lib\\concurrent\\futures\\_base.py\", line 390, in __get_result\n",
      "    raise self._exception\n",
      "joblib.externals.loky.process_executor.TerminatedWorkerError: A worker process managed by the executor was unexpectedly terminated. This could be caused by a segmentation fault while calling the function or by an excessive memory usage causing the Operating System to kill the worker.\n",
      "\n",
      "\n",
      "  warnings.warn(\"Estimator fit failed. The score on this train-test\"\n",
      "exception calling callback for <Future at 0x1ed3e538c70 state=finished raised TerminatedWorkerError>\n",
      "Traceback (most recent call last):\n",
      "  File \"C:\\ProgramData\\Anaconda3\\envs\\tf\\lib\\site-packages\\joblib\\externals\\loky\\_base.py\", line 625, in _invoke_callbacks\n",
      "    callback(self)\n",
      "  File \"C:\\ProgramData\\Anaconda3\\envs\\tf\\lib\\site-packages\\joblib\\parallel.py\", line 359, in __call__\n",
      "    self.parallel.dispatch_next()\n",
      "  File \"C:\\ProgramData\\Anaconda3\\envs\\tf\\lib\\site-packages\\joblib\\parallel.py\", line 792, in dispatch_next\n",
      "    if not self.dispatch_one_batch(self._original_iterator):\n",
      "  File \"C:\\ProgramData\\Anaconda3\\envs\\tf\\lib\\site-packages\\joblib\\parallel.py\", line 859, in dispatch_one_batch\n",
      "    self._dispatch(tasks)\n",
      "  File \"C:\\ProgramData\\Anaconda3\\envs\\tf\\lib\\site-packages\\joblib\\parallel.py\", line 777, in _dispatch\n",
      "    job = self._backend.apply_async(batch, callback=cb)\n",
      "  File \"C:\\ProgramData\\Anaconda3\\envs\\tf\\lib\\site-packages\\joblib\\_parallel_backends.py\", line 531, in apply_async\n",
      "    future = self._workers.submit(SafeFunction(func))\n",
      "  File \"C:\\ProgramData\\Anaconda3\\envs\\tf\\lib\\site-packages\\joblib\\externals\\loky\\reusable_executor.py\", line 177, in submit\n",
      "    return super(_ReusablePoolExecutor, self).submit(\n",
      "  File \"C:\\ProgramData\\Anaconda3\\envs\\tf\\lib\\site-packages\\joblib\\externals\\loky\\process_executor.py\", line 1102, in submit\n",
      "    raise self._flags.broken\n",
      "joblib.externals.loky.process_executor.TerminatedWorkerError: A worker process managed by the executor was unexpectedly terminated. This could be caused by a segmentation fault while calling the function or by an excessive memory usage causing the Operating System to kill the worker.\n",
      "\n",
      "C:\\ProgramData\\Anaconda3\\envs\\tf\\lib\\site-packages\\sklearn\\model_selection\\_validation.py:610: FitFailedWarning: Estimator fit failed. The score on this train-test partition for these parameters will be set to nan. Details: \n",
      "Traceback (most recent call last):\n",
      "  File \"C:\\ProgramData\\Anaconda3\\envs\\tf\\lib\\site-packages\\sklearn\\model_selection\\_validation.py\", line 593, in _fit_and_score\n",
      "    estimator.fit(X_train, y_train, **fit_params)\n",
      "  File \"C:\\ProgramData\\Anaconda3\\envs\\tf\\lib\\site-packages\\sklearn\\ensemble\\_forest.py\", line 387, in fit\n",
      "    trees = Parallel(n_jobs=self.n_jobs, verbose=self.verbose,\n",
      "  File \"C:\\ProgramData\\Anaconda3\\envs\\tf\\lib\\site-packages\\joblib\\parallel.py\", line 1054, in __call__\n",
      "    self.retrieve()\n",
      "  File \"C:\\ProgramData\\Anaconda3\\envs\\tf\\lib\\site-packages\\joblib\\parallel.py\", line 933, in retrieve\n",
      "    self._output.extend(job.get(timeout=self.timeout))\n",
      "  File \"C:\\ProgramData\\Anaconda3\\envs\\tf\\lib\\site-packages\\joblib\\_parallel_backends.py\", line 542, in wrap_future_result\n",
      "    return future.result(timeout=timeout)\n",
      "  File \"C:\\ProgramData\\Anaconda3\\envs\\tf\\lib\\concurrent\\futures\\_base.py\", line 445, in result\n",
      "    return self.__get_result()\n",
      "  File \"C:\\ProgramData\\Anaconda3\\envs\\tf\\lib\\concurrent\\futures\\_base.py\", line 390, in __get_result\n",
      "    raise self._exception\n",
      "  File \"C:\\ProgramData\\Anaconda3\\envs\\tf\\lib\\site-packages\\joblib\\externals\\loky\\_base.py\", line 625, in _invoke_callbacks\n",
      "    callback(self)\n",
      "  File \"C:\\ProgramData\\Anaconda3\\envs\\tf\\lib\\site-packages\\joblib\\parallel.py\", line 359, in __call__\n",
      "    self.parallel.dispatch_next()\n",
      "  File \"C:\\ProgramData\\Anaconda3\\envs\\tf\\lib\\site-packages\\joblib\\parallel.py\", line 792, in dispatch_next\n",
      "    if not self.dispatch_one_batch(self._original_iterator):\n",
      "  File \"C:\\ProgramData\\Anaconda3\\envs\\tf\\lib\\site-packages\\joblib\\parallel.py\", line 859, in dispatch_one_batch\n",
      "    self._dispatch(tasks)\n",
      "  File \"C:\\ProgramData\\Anaconda3\\envs\\tf\\lib\\site-packages\\joblib\\parallel.py\", line 777, in _dispatch\n",
      "    job = self._backend.apply_async(batch, callback=cb)\n",
      "  File \"C:\\ProgramData\\Anaconda3\\envs\\tf\\lib\\site-packages\\joblib\\_parallel_backends.py\", line 531, in apply_async\n",
      "    future = self._workers.submit(SafeFunction(func))\n",
      "  File \"C:\\ProgramData\\Anaconda3\\envs\\tf\\lib\\site-packages\\joblib\\externals\\loky\\reusable_executor.py\", line 177, in submit\n",
      "    return super(_ReusablePoolExecutor, self).submit(\n",
      "  File \"C:\\ProgramData\\Anaconda3\\envs\\tf\\lib\\site-packages\\joblib\\externals\\loky\\process_executor.py\", line 1102, in submit\n",
      "    raise self._flags.broken\n",
      "joblib.externals.loky.process_executor.TerminatedWorkerError: A worker process managed by the executor was unexpectedly terminated. This could be caused by a segmentation fault while calling the function or by an excessive memory usage causing the Operating System to kill the worker.\n",
      "\n",
      "\n",
      "  warnings.warn(\"Estimator fit failed. The score on this train-test\"\n",
      "exception calling callback for <Future at 0x1ed2b0a07f0 state=finished raised TerminatedWorkerError>\n",
      "Traceback (most recent call last):\n",
      "  File \"C:\\ProgramData\\Anaconda3\\envs\\tf\\lib\\site-packages\\joblib\\externals\\loky\\_base.py\", line 625, in _invoke_callbacks\n",
      "    callback(self)\n",
      "  File \"C:\\ProgramData\\Anaconda3\\envs\\tf\\lib\\site-packages\\joblib\\parallel.py\", line 359, in __call__\n",
      "    self.parallel.dispatch_next()\n",
      "  File \"C:\\ProgramData\\Anaconda3\\envs\\tf\\lib\\site-packages\\joblib\\parallel.py\", line 792, in dispatch_next\n",
      "    if not self.dispatch_one_batch(self._original_iterator):\n",
      "  File \"C:\\ProgramData\\Anaconda3\\envs\\tf\\lib\\site-packages\\joblib\\parallel.py\", line 859, in dispatch_one_batch\n",
      "    self._dispatch(tasks)\n",
      "  File \"C:\\ProgramData\\Anaconda3\\envs\\tf\\lib\\site-packages\\joblib\\parallel.py\", line 777, in _dispatch\n",
      "    job = self._backend.apply_async(batch, callback=cb)\n",
      "  File \"C:\\ProgramData\\Anaconda3\\envs\\tf\\lib\\site-packages\\joblib\\_parallel_backends.py\", line 531, in apply_async\n",
      "    future = self._workers.submit(SafeFunction(func))\n",
      "  File \"C:\\ProgramData\\Anaconda3\\envs\\tf\\lib\\site-packages\\joblib\\externals\\loky\\reusable_executor.py\", line 177, in submit\n",
      "    return super(_ReusablePoolExecutor, self).submit(\n",
      "  File \"C:\\ProgramData\\Anaconda3\\envs\\tf\\lib\\site-packages\\joblib\\externals\\loky\\process_executor.py\", line 1102, in submit\n",
      "    raise self._flags.broken\n",
      "joblib.externals.loky.process_executor.TerminatedWorkerError: A worker process managed by the executor was unexpectedly terminated. This could be caused by a segmentation fault while calling the function or by an excessive memory usage causing the Operating System to kill the worker.\n",
      "\n",
      "C:\\ProgramData\\Anaconda3\\envs\\tf\\lib\\site-packages\\sklearn\\model_selection\\_validation.py:610: FitFailedWarning: Estimator fit failed. The score on this train-test partition for these parameters will be set to nan. Details: \n",
      "Traceback (most recent call last):\n",
      "  File \"C:\\ProgramData\\Anaconda3\\envs\\tf\\lib\\site-packages\\sklearn\\model_selection\\_validation.py\", line 593, in _fit_and_score\n",
      "    estimator.fit(X_train, y_train, **fit_params)\n",
      "  File \"C:\\ProgramData\\Anaconda3\\envs\\tf\\lib\\site-packages\\sklearn\\ensemble\\_forest.py\", line 387, in fit\n",
      "    trees = Parallel(n_jobs=self.n_jobs, verbose=self.verbose,\n",
      "  File \"C:\\ProgramData\\Anaconda3\\envs\\tf\\lib\\site-packages\\joblib\\parallel.py\", line 1054, in __call__\n",
      "    self.retrieve()\n",
      "  File \"C:\\ProgramData\\Anaconda3\\envs\\tf\\lib\\site-packages\\joblib\\parallel.py\", line 933, in retrieve\n",
      "    self._output.extend(job.get(timeout=self.timeout))\n",
      "  File \"C:\\ProgramData\\Anaconda3\\envs\\tf\\lib\\site-packages\\joblib\\_parallel_backends.py\", line 542, in wrap_future_result\n",
      "    return future.result(timeout=timeout)\n",
      "  File \"C:\\ProgramData\\Anaconda3\\envs\\tf\\lib\\concurrent\\futures\\_base.py\", line 445, in result\n",
      "    return self.__get_result()\n",
      "  File \"C:\\ProgramData\\Anaconda3\\envs\\tf\\lib\\concurrent\\futures\\_base.py\", line 390, in __get_result\n",
      "    raise self._exception\n",
      "  File \"C:\\ProgramData\\Anaconda3\\envs\\tf\\lib\\site-packages\\joblib\\externals\\loky\\_base.py\", line 625, in _invoke_callbacks\n",
      "    callback(self)\n",
      "  File \"C:\\ProgramData\\Anaconda3\\envs\\tf\\lib\\site-packages\\joblib\\parallel.py\", line 359, in __call__\n",
      "    self.parallel.dispatch_next()\n",
      "  File \"C:\\ProgramData\\Anaconda3\\envs\\tf\\lib\\site-packages\\joblib\\parallel.py\", line 792, in dispatch_next\n",
      "    if not self.dispatch_one_batch(self._original_iterator):\n",
      "  File \"C:\\ProgramData\\Anaconda3\\envs\\tf\\lib\\site-packages\\joblib\\parallel.py\", line 859, in dispatch_one_batch\n",
      "    self._dispatch(tasks)\n",
      "  File \"C:\\ProgramData\\Anaconda3\\envs\\tf\\lib\\site-packages\\joblib\\parallel.py\", line 777, in _dispatch\n",
      "    job = self._backend.apply_async(batch, callback=cb)\n",
      "  File \"C:\\ProgramData\\Anaconda3\\envs\\tf\\lib\\site-packages\\joblib\\_parallel_backends.py\", line 531, in apply_async\n",
      "    future = self._workers.submit(SafeFunction(func))\n",
      "  File \"C:\\ProgramData\\Anaconda3\\envs\\tf\\lib\\site-packages\\joblib\\externals\\loky\\reusable_executor.py\", line 177, in submit\n",
      "    return super(_ReusablePoolExecutor, self).submit(\n",
      "  File \"C:\\ProgramData\\Anaconda3\\envs\\tf\\lib\\site-packages\\joblib\\externals\\loky\\process_executor.py\", line 1102, in submit\n",
      "    raise self._flags.broken\n",
      "joblib.externals.loky.process_executor.TerminatedWorkerError: A worker process managed by the executor was unexpectedly terminated. This could be caused by a segmentation fault while calling the function or by an excessive memory usage causing the Operating System to kill the worker.\n",
      "\n",
      "\n",
      "  warnings.warn(\"Estimator fit failed. The score on this train-test\"\n",
      "exception calling callback for <Future at 0x1ed3e4ca940 state=finished raised TerminatedWorkerError>\n",
      "Traceback (most recent call last):\n",
      "  File \"C:\\ProgramData\\Anaconda3\\envs\\tf\\lib\\site-packages\\joblib\\externals\\loky\\_base.py\", line 625, in _invoke_callbacks\n",
      "    callback(self)\n",
      "  File \"C:\\ProgramData\\Anaconda3\\envs\\tf\\lib\\site-packages\\joblib\\parallel.py\", line 359, in __call__\n",
      "    self.parallel.dispatch_next()\n",
      "  File \"C:\\ProgramData\\Anaconda3\\envs\\tf\\lib\\site-packages\\joblib\\parallel.py\", line 792, in dispatch_next\n",
      "    if not self.dispatch_one_batch(self._original_iterator):\n",
      "  File \"C:\\ProgramData\\Anaconda3\\envs\\tf\\lib\\site-packages\\joblib\\parallel.py\", line 859, in dispatch_one_batch\n",
      "    self._dispatch(tasks)\n",
      "  File \"C:\\ProgramData\\Anaconda3\\envs\\tf\\lib\\site-packages\\joblib\\parallel.py\", line 777, in _dispatch\n",
      "    job = self._backend.apply_async(batch, callback=cb)\n",
      "  File \"C:\\ProgramData\\Anaconda3\\envs\\tf\\lib\\site-packages\\joblib\\_parallel_backends.py\", line 531, in apply_async\n",
      "    future = self._workers.submit(SafeFunction(func))\n",
      "  File \"C:\\ProgramData\\Anaconda3\\envs\\tf\\lib\\site-packages\\joblib\\externals\\loky\\reusable_executor.py\", line 177, in submit\n",
      "    return super(_ReusablePoolExecutor, self).submit(\n",
      "  File \"C:\\ProgramData\\Anaconda3\\envs\\tf\\lib\\site-packages\\joblib\\externals\\loky\\process_executor.py\", line 1102, in submit\n",
      "    raise self._flags.broken\n",
      "joblib.externals.loky.process_executor.TerminatedWorkerError: A worker process managed by the executor was unexpectedly terminated. This could be caused by a segmentation fault while calling the function or by an excessive memory usage causing the Operating System to kill the worker.\n",
      "\n",
      "C:\\ProgramData\\Anaconda3\\envs\\tf\\lib\\site-packages\\sklearn\\model_selection\\_validation.py:610: FitFailedWarning: Estimator fit failed. The score on this train-test partition for these parameters will be set to nan. Details: \n",
      "Traceback (most recent call last):\n",
      "  File \"C:\\ProgramData\\Anaconda3\\envs\\tf\\lib\\site-packages\\sklearn\\model_selection\\_validation.py\", line 593, in _fit_and_score\n",
      "    estimator.fit(X_train, y_train, **fit_params)\n",
      "  File \"C:\\ProgramData\\Anaconda3\\envs\\tf\\lib\\site-packages\\sklearn\\ensemble\\_forest.py\", line 387, in fit\n",
      "    trees = Parallel(n_jobs=self.n_jobs, verbose=self.verbose,\n",
      "  File \"C:\\ProgramData\\Anaconda3\\envs\\tf\\lib\\site-packages\\joblib\\parallel.py\", line 1054, in __call__\n",
      "    self.retrieve()\n",
      "  File \"C:\\ProgramData\\Anaconda3\\envs\\tf\\lib\\site-packages\\joblib\\parallel.py\", line 933, in retrieve\n",
      "    self._output.extend(job.get(timeout=self.timeout))\n",
      "  File \"C:\\ProgramData\\Anaconda3\\envs\\tf\\lib\\site-packages\\joblib\\_parallel_backends.py\", line 542, in wrap_future_result\n",
      "    return future.result(timeout=timeout)\n",
      "  File \"C:\\ProgramData\\Anaconda3\\envs\\tf\\lib\\concurrent\\futures\\_base.py\", line 445, in result\n",
      "    return self.__get_result()\n",
      "  File \"C:\\ProgramData\\Anaconda3\\envs\\tf\\lib\\concurrent\\futures\\_base.py\", line 390, in __get_result\n",
      "    raise self._exception\n",
      "  File \"C:\\ProgramData\\Anaconda3\\envs\\tf\\lib\\site-packages\\joblib\\externals\\loky\\_base.py\", line 625, in _invoke_callbacks\n",
      "    callback(self)\n",
      "  File \"C:\\ProgramData\\Anaconda3\\envs\\tf\\lib\\site-packages\\joblib\\parallel.py\", line 359, in __call__\n",
      "    self.parallel.dispatch_next()\n",
      "  File \"C:\\ProgramData\\Anaconda3\\envs\\tf\\lib\\site-packages\\joblib\\parallel.py\", line 792, in dispatch_next\n",
      "    if not self.dispatch_one_batch(self._original_iterator):\n",
      "  File \"C:\\ProgramData\\Anaconda3\\envs\\tf\\lib\\site-packages\\joblib\\parallel.py\", line 859, in dispatch_one_batch\n",
      "    self._dispatch(tasks)\n",
      "  File \"C:\\ProgramData\\Anaconda3\\envs\\tf\\lib\\site-packages\\joblib\\parallel.py\", line 777, in _dispatch\n",
      "    job = self._backend.apply_async(batch, callback=cb)\n",
      "  File \"C:\\ProgramData\\Anaconda3\\envs\\tf\\lib\\site-packages\\joblib\\_parallel_backends.py\", line 531, in apply_async\n",
      "    future = self._workers.submit(SafeFunction(func))\n",
      "  File \"C:\\ProgramData\\Anaconda3\\envs\\tf\\lib\\site-packages\\joblib\\externals\\loky\\reusable_executor.py\", line 177, in submit\n",
      "    return super(_ReusablePoolExecutor, self).submit(\n",
      "  File \"C:\\ProgramData\\Anaconda3\\envs\\tf\\lib\\site-packages\\joblib\\externals\\loky\\process_executor.py\", line 1102, in submit\n",
      "    raise self._flags.broken\n",
      "joblib.externals.loky.process_executor.TerminatedWorkerError: A worker process managed by the executor was unexpectedly terminated. This could be caused by a segmentation fault while calling the function or by an excessive memory usage causing the Operating System to kill the worker.\n",
      "\n",
      "\n",
      "  warnings.warn(\"Estimator fit failed. The score on this train-test\"\n",
      "exception calling callback for <Future at 0x1ed3e4ea6a0 state=finished raised TerminatedWorkerError>\n",
      "Traceback (most recent call last):\n",
      "  File \"C:\\ProgramData\\Anaconda3\\envs\\tf\\lib\\site-packages\\joblib\\externals\\loky\\_base.py\", line 625, in _invoke_callbacks\n",
      "    callback(self)\n",
      "  File \"C:\\ProgramData\\Anaconda3\\envs\\tf\\lib\\site-packages\\joblib\\parallel.py\", line 359, in __call__\n",
      "    self.parallel.dispatch_next()\n",
      "  File \"C:\\ProgramData\\Anaconda3\\envs\\tf\\lib\\site-packages\\joblib\\parallel.py\", line 792, in dispatch_next\n",
      "    if not self.dispatch_one_batch(self._original_iterator):\n",
      "  File \"C:\\ProgramData\\Anaconda3\\envs\\tf\\lib\\site-packages\\joblib\\parallel.py\", line 859, in dispatch_one_batch\n",
      "    self._dispatch(tasks)\n",
      "  File \"C:\\ProgramData\\Anaconda3\\envs\\tf\\lib\\site-packages\\joblib\\parallel.py\", line 777, in _dispatch\n",
      "    job = self._backend.apply_async(batch, callback=cb)\n",
      "  File \"C:\\ProgramData\\Anaconda3\\envs\\tf\\lib\\site-packages\\joblib\\_parallel_backends.py\", line 531, in apply_async\n",
      "    future = self._workers.submit(SafeFunction(func))\n",
      "  File \"C:\\ProgramData\\Anaconda3\\envs\\tf\\lib\\site-packages\\joblib\\externals\\loky\\reusable_executor.py\", line 177, in submit\n",
      "    return super(_ReusablePoolExecutor, self).submit(\n",
      "  File \"C:\\ProgramData\\Anaconda3\\envs\\tf\\lib\\site-packages\\joblib\\externals\\loky\\process_executor.py\", line 1102, in submit\n",
      "    raise self._flags.broken\n",
      "joblib.externals.loky.process_executor.TerminatedWorkerError: A worker process managed by the executor was unexpectedly terminated. This could be caused by a segmentation fault while calling the function or by an excessive memory usage causing the Operating System to kill the worker.\n",
      "\n"
     ]
    },
    {
     "output_type": "error",
     "ename": "KeyboardInterrupt",
     "evalue": "",
     "traceback": [
      "\u001b[1;31m---------------------------------------------------------------------------\u001b[0m",
      "\u001b[1;31mKeyboardInterrupt\u001b[0m                         Traceback (most recent call last)",
      "\u001b[1;32m<timed exec>\u001b[0m in \u001b[0;36m<module>\u001b[1;34m\u001b[0m\n",
      "\u001b[1;32mC:\\ProgramData\\Anaconda3\\envs\\tf\\lib\\site-packages\\sklearn\\utils\\validation.py\u001b[0m in \u001b[0;36minner_f\u001b[1;34m(*args, **kwargs)\u001b[0m\n\u001b[0;32m     61\u001b[0m             \u001b[0mextra_args\u001b[0m \u001b[1;33m=\u001b[0m \u001b[0mlen\u001b[0m\u001b[1;33m(\u001b[0m\u001b[0margs\u001b[0m\u001b[1;33m)\u001b[0m \u001b[1;33m-\u001b[0m \u001b[0mlen\u001b[0m\u001b[1;33m(\u001b[0m\u001b[0mall_args\u001b[0m\u001b[1;33m)\u001b[0m\u001b[1;33m\u001b[0m\u001b[1;33m\u001b[0m\u001b[0m\n\u001b[0;32m     62\u001b[0m             \u001b[1;32mif\u001b[0m \u001b[0mextra_args\u001b[0m \u001b[1;33m<=\u001b[0m \u001b[1;36m0\u001b[0m\u001b[1;33m:\u001b[0m\u001b[1;33m\u001b[0m\u001b[1;33m\u001b[0m\u001b[0m\n\u001b[1;32m---> 63\u001b[1;33m                 \u001b[1;32mreturn\u001b[0m \u001b[0mf\u001b[0m\u001b[1;33m(\u001b[0m\u001b[1;33m*\u001b[0m\u001b[0margs\u001b[0m\u001b[1;33m,\u001b[0m \u001b[1;33m**\u001b[0m\u001b[0mkwargs\u001b[0m\u001b[1;33m)\u001b[0m\u001b[1;33m\u001b[0m\u001b[1;33m\u001b[0m\u001b[0m\n\u001b[0m\u001b[0;32m     64\u001b[0m \u001b[1;33m\u001b[0m\u001b[0m\n\u001b[0;32m     65\u001b[0m             \u001b[1;31m# extra_args > 0\u001b[0m\u001b[1;33m\u001b[0m\u001b[1;33m\u001b[0m\u001b[1;33m\u001b[0m\u001b[0m\n",
      "\u001b[1;32mC:\\ProgramData\\Anaconda3\\envs\\tf\\lib\\site-packages\\sklearn\\model_selection\\_search.py\u001b[0m in \u001b[0;36mfit\u001b[1;34m(self, X, y, groups, **fit_params)\u001b[0m\n\u001b[0;32m    839\u001b[0m                 \u001b[1;32mreturn\u001b[0m \u001b[0mresults\u001b[0m\u001b[1;33m\u001b[0m\u001b[1;33m\u001b[0m\u001b[0m\n\u001b[0;32m    840\u001b[0m \u001b[1;33m\u001b[0m\u001b[0m\n\u001b[1;32m--> 841\u001b[1;33m             \u001b[0mself\u001b[0m\u001b[1;33m.\u001b[0m\u001b[0m_run_search\u001b[0m\u001b[1;33m(\u001b[0m\u001b[0mevaluate_candidates\u001b[0m\u001b[1;33m)\u001b[0m\u001b[1;33m\u001b[0m\u001b[1;33m\u001b[0m\u001b[0m\n\u001b[0m\u001b[0;32m    842\u001b[0m \u001b[1;33m\u001b[0m\u001b[0m\n\u001b[0;32m    843\u001b[0m             \u001b[1;31m# multimetric is determined here because in the case of a callable\u001b[0m\u001b[1;33m\u001b[0m\u001b[1;33m\u001b[0m\u001b[1;33m\u001b[0m\u001b[0m\n",
      "\u001b[1;32mC:\\ProgramData\\Anaconda3\\envs\\tf\\lib\\site-packages\\sklearn\\model_selection\\_search.py\u001b[0m in \u001b[0;36m_run_search\u001b[1;34m(self, evaluate_candidates)\u001b[0m\n\u001b[0;32m   1617\u001b[0m     \u001b[1;32mdef\u001b[0m \u001b[0m_run_search\u001b[0m\u001b[1;33m(\u001b[0m\u001b[0mself\u001b[0m\u001b[1;33m,\u001b[0m \u001b[0mevaluate_candidates\u001b[0m\u001b[1;33m)\u001b[0m\u001b[1;33m:\u001b[0m\u001b[1;33m\u001b[0m\u001b[1;33m\u001b[0m\u001b[0m\n\u001b[0;32m   1618\u001b[0m         \u001b[1;34m\"\"\"Search n_iter candidates from param_distributions\"\"\"\u001b[0m\u001b[1;33m\u001b[0m\u001b[1;33m\u001b[0m\u001b[0m\n\u001b[1;32m-> 1619\u001b[1;33m         evaluate_candidates(ParameterSampler(\n\u001b[0m\u001b[0;32m   1620\u001b[0m             \u001b[0mself\u001b[0m\u001b[1;33m.\u001b[0m\u001b[0mparam_distributions\u001b[0m\u001b[1;33m,\u001b[0m \u001b[0mself\u001b[0m\u001b[1;33m.\u001b[0m\u001b[0mn_iter\u001b[0m\u001b[1;33m,\u001b[0m\u001b[1;33m\u001b[0m\u001b[1;33m\u001b[0m\u001b[0m\n\u001b[0;32m   1621\u001b[0m             random_state=self.random_state))\n",
      "\u001b[1;32mC:\\ProgramData\\Anaconda3\\envs\\tf\\lib\\site-packages\\sklearn\\model_selection\\_search.py\u001b[0m in \u001b[0;36mevaluate_candidates\u001b[1;34m(candidate_params, cv, more_results)\u001b[0m\n\u001b[0;32m    793\u001b[0m                               n_splits, n_candidates, n_candidates * n_splits))\n\u001b[0;32m    794\u001b[0m \u001b[1;33m\u001b[0m\u001b[0m\n\u001b[1;32m--> 795\u001b[1;33m                 out = parallel(delayed(_fit_and_score)(clone(base_estimator),\n\u001b[0m\u001b[0;32m    796\u001b[0m                                                        \u001b[0mX\u001b[0m\u001b[1;33m,\u001b[0m \u001b[0my\u001b[0m\u001b[1;33m,\u001b[0m\u001b[1;33m\u001b[0m\u001b[1;33m\u001b[0m\u001b[0m\n\u001b[0;32m    797\u001b[0m                                                        \u001b[0mtrain\u001b[0m\u001b[1;33m=\u001b[0m\u001b[0mtrain\u001b[0m\u001b[1;33m,\u001b[0m \u001b[0mtest\u001b[0m\u001b[1;33m=\u001b[0m\u001b[0mtest\u001b[0m\u001b[1;33m,\u001b[0m\u001b[1;33m\u001b[0m\u001b[1;33m\u001b[0m\u001b[0m\n",
      "\u001b[1;32mC:\\ProgramData\\Anaconda3\\envs\\tf\\lib\\site-packages\\joblib\\parallel.py\u001b[0m in \u001b[0;36m__call__\u001b[1;34m(self, iterable)\u001b[0m\n\u001b[0;32m   1042\u001b[0m                 \u001b[0mself\u001b[0m\u001b[1;33m.\u001b[0m\u001b[0m_iterating\u001b[0m \u001b[1;33m=\u001b[0m \u001b[0mself\u001b[0m\u001b[1;33m.\u001b[0m\u001b[0m_original_iterator\u001b[0m \u001b[1;32mis\u001b[0m \u001b[1;32mnot\u001b[0m \u001b[1;32mNone\u001b[0m\u001b[1;33m\u001b[0m\u001b[1;33m\u001b[0m\u001b[0m\n\u001b[0;32m   1043\u001b[0m \u001b[1;33m\u001b[0m\u001b[0m\n\u001b[1;32m-> 1044\u001b[1;33m             \u001b[1;32mwhile\u001b[0m \u001b[0mself\u001b[0m\u001b[1;33m.\u001b[0m\u001b[0mdispatch_one_batch\u001b[0m\u001b[1;33m(\u001b[0m\u001b[0miterator\u001b[0m\u001b[1;33m)\u001b[0m\u001b[1;33m:\u001b[0m\u001b[1;33m\u001b[0m\u001b[1;33m\u001b[0m\u001b[0m\n\u001b[0m\u001b[0;32m   1045\u001b[0m                 \u001b[1;32mpass\u001b[0m\u001b[1;33m\u001b[0m\u001b[1;33m\u001b[0m\u001b[0m\n\u001b[0;32m   1046\u001b[0m \u001b[1;33m\u001b[0m\u001b[0m\n",
      "\u001b[1;32mC:\\ProgramData\\Anaconda3\\envs\\tf\\lib\\site-packages\\joblib\\parallel.py\u001b[0m in \u001b[0;36mdispatch_one_batch\u001b[1;34m(self, iterator)\u001b[0m\n\u001b[0;32m    857\u001b[0m                 \u001b[1;32mreturn\u001b[0m \u001b[1;32mFalse\u001b[0m\u001b[1;33m\u001b[0m\u001b[1;33m\u001b[0m\u001b[0m\n\u001b[0;32m    858\u001b[0m             \u001b[1;32melse\u001b[0m\u001b[1;33m:\u001b[0m\u001b[1;33m\u001b[0m\u001b[1;33m\u001b[0m\u001b[0m\n\u001b[1;32m--> 859\u001b[1;33m                 \u001b[0mself\u001b[0m\u001b[1;33m.\u001b[0m\u001b[0m_dispatch\u001b[0m\u001b[1;33m(\u001b[0m\u001b[0mtasks\u001b[0m\u001b[1;33m)\u001b[0m\u001b[1;33m\u001b[0m\u001b[1;33m\u001b[0m\u001b[0m\n\u001b[0m\u001b[0;32m    860\u001b[0m                 \u001b[1;32mreturn\u001b[0m \u001b[1;32mTrue\u001b[0m\u001b[1;33m\u001b[0m\u001b[1;33m\u001b[0m\u001b[0m\n\u001b[0;32m    861\u001b[0m \u001b[1;33m\u001b[0m\u001b[0m\n",
      "\u001b[1;32mC:\\ProgramData\\Anaconda3\\envs\\tf\\lib\\site-packages\\joblib\\parallel.py\u001b[0m in \u001b[0;36m_dispatch\u001b[1;34m(self, batch)\u001b[0m\n\u001b[0;32m    775\u001b[0m         \u001b[1;32mwith\u001b[0m \u001b[0mself\u001b[0m\u001b[1;33m.\u001b[0m\u001b[0m_lock\u001b[0m\u001b[1;33m:\u001b[0m\u001b[1;33m\u001b[0m\u001b[1;33m\u001b[0m\u001b[0m\n\u001b[0;32m    776\u001b[0m             \u001b[0mjob_idx\u001b[0m \u001b[1;33m=\u001b[0m \u001b[0mlen\u001b[0m\u001b[1;33m(\u001b[0m\u001b[0mself\u001b[0m\u001b[1;33m.\u001b[0m\u001b[0m_jobs\u001b[0m\u001b[1;33m)\u001b[0m\u001b[1;33m\u001b[0m\u001b[1;33m\u001b[0m\u001b[0m\n\u001b[1;32m--> 777\u001b[1;33m             \u001b[0mjob\u001b[0m \u001b[1;33m=\u001b[0m \u001b[0mself\u001b[0m\u001b[1;33m.\u001b[0m\u001b[0m_backend\u001b[0m\u001b[1;33m.\u001b[0m\u001b[0mapply_async\u001b[0m\u001b[1;33m(\u001b[0m\u001b[0mbatch\u001b[0m\u001b[1;33m,\u001b[0m \u001b[0mcallback\u001b[0m\u001b[1;33m=\u001b[0m\u001b[0mcb\u001b[0m\u001b[1;33m)\u001b[0m\u001b[1;33m\u001b[0m\u001b[1;33m\u001b[0m\u001b[0m\n\u001b[0m\u001b[0;32m    778\u001b[0m             \u001b[1;31m# A job can complete so quickly than its callback is\u001b[0m\u001b[1;33m\u001b[0m\u001b[1;33m\u001b[0m\u001b[1;33m\u001b[0m\u001b[0m\n\u001b[0;32m    779\u001b[0m             \u001b[1;31m# called before we get here, causing self._jobs to\u001b[0m\u001b[1;33m\u001b[0m\u001b[1;33m\u001b[0m\u001b[1;33m\u001b[0m\u001b[0m\n",
      "\u001b[1;32mC:\\ProgramData\\Anaconda3\\envs\\tf\\lib\\site-packages\\joblib\\_parallel_backends.py\u001b[0m in \u001b[0;36mapply_async\u001b[1;34m(self, func, callback)\u001b[0m\n\u001b[0;32m    206\u001b[0m     \u001b[1;32mdef\u001b[0m \u001b[0mapply_async\u001b[0m\u001b[1;33m(\u001b[0m\u001b[0mself\u001b[0m\u001b[1;33m,\u001b[0m \u001b[0mfunc\u001b[0m\u001b[1;33m,\u001b[0m \u001b[0mcallback\u001b[0m\u001b[1;33m=\u001b[0m\u001b[1;32mNone\u001b[0m\u001b[1;33m)\u001b[0m\u001b[1;33m:\u001b[0m\u001b[1;33m\u001b[0m\u001b[1;33m\u001b[0m\u001b[0m\n\u001b[0;32m    207\u001b[0m         \u001b[1;34m\"\"\"Schedule a func to be run\"\"\"\u001b[0m\u001b[1;33m\u001b[0m\u001b[1;33m\u001b[0m\u001b[0m\n\u001b[1;32m--> 208\u001b[1;33m         \u001b[0mresult\u001b[0m \u001b[1;33m=\u001b[0m \u001b[0mImmediateResult\u001b[0m\u001b[1;33m(\u001b[0m\u001b[0mfunc\u001b[0m\u001b[1;33m)\u001b[0m\u001b[1;33m\u001b[0m\u001b[1;33m\u001b[0m\u001b[0m\n\u001b[0m\u001b[0;32m    209\u001b[0m         \u001b[1;32mif\u001b[0m \u001b[0mcallback\u001b[0m\u001b[1;33m:\u001b[0m\u001b[1;33m\u001b[0m\u001b[1;33m\u001b[0m\u001b[0m\n\u001b[0;32m    210\u001b[0m             \u001b[0mcallback\u001b[0m\u001b[1;33m(\u001b[0m\u001b[0mresult\u001b[0m\u001b[1;33m)\u001b[0m\u001b[1;33m\u001b[0m\u001b[1;33m\u001b[0m\u001b[0m\n",
      "\u001b[1;32mC:\\ProgramData\\Anaconda3\\envs\\tf\\lib\\site-packages\\joblib\\_parallel_backends.py\u001b[0m in \u001b[0;36m__init__\u001b[1;34m(self, batch)\u001b[0m\n\u001b[0;32m    570\u001b[0m         \u001b[1;31m# Don't delay the application, to avoid keeping the input\u001b[0m\u001b[1;33m\u001b[0m\u001b[1;33m\u001b[0m\u001b[1;33m\u001b[0m\u001b[0m\n\u001b[0;32m    571\u001b[0m         \u001b[1;31m# arguments in memory\u001b[0m\u001b[1;33m\u001b[0m\u001b[1;33m\u001b[0m\u001b[1;33m\u001b[0m\u001b[0m\n\u001b[1;32m--> 572\u001b[1;33m         \u001b[0mself\u001b[0m\u001b[1;33m.\u001b[0m\u001b[0mresults\u001b[0m \u001b[1;33m=\u001b[0m \u001b[0mbatch\u001b[0m\u001b[1;33m(\u001b[0m\u001b[1;33m)\u001b[0m\u001b[1;33m\u001b[0m\u001b[1;33m\u001b[0m\u001b[0m\n\u001b[0m\u001b[0;32m    573\u001b[0m \u001b[1;33m\u001b[0m\u001b[0m\n\u001b[0;32m    574\u001b[0m     \u001b[1;32mdef\u001b[0m \u001b[0mget\u001b[0m\u001b[1;33m(\u001b[0m\u001b[0mself\u001b[0m\u001b[1;33m)\u001b[0m\u001b[1;33m:\u001b[0m\u001b[1;33m\u001b[0m\u001b[1;33m\u001b[0m\u001b[0m\n",
      "\u001b[1;32mC:\\ProgramData\\Anaconda3\\envs\\tf\\lib\\site-packages\\joblib\\parallel.py\u001b[0m in \u001b[0;36m__call__\u001b[1;34m(self)\u001b[0m\n\u001b[0;32m    260\u001b[0m         \u001b[1;31m# change the default number of processes to -1\u001b[0m\u001b[1;33m\u001b[0m\u001b[1;33m\u001b[0m\u001b[1;33m\u001b[0m\u001b[0m\n\u001b[0;32m    261\u001b[0m         \u001b[1;32mwith\u001b[0m \u001b[0mparallel_backend\u001b[0m\u001b[1;33m(\u001b[0m\u001b[0mself\u001b[0m\u001b[1;33m.\u001b[0m\u001b[0m_backend\u001b[0m\u001b[1;33m,\u001b[0m \u001b[0mn_jobs\u001b[0m\u001b[1;33m=\u001b[0m\u001b[0mself\u001b[0m\u001b[1;33m.\u001b[0m\u001b[0m_n_jobs\u001b[0m\u001b[1;33m)\u001b[0m\u001b[1;33m:\u001b[0m\u001b[1;33m\u001b[0m\u001b[1;33m\u001b[0m\u001b[0m\n\u001b[1;32m--> 262\u001b[1;33m             return [func(*args, **kwargs)\n\u001b[0m\u001b[0;32m    263\u001b[0m                     for func, args, kwargs in self.items]\n\u001b[0;32m    264\u001b[0m \u001b[1;33m\u001b[0m\u001b[0m\n",
      "\u001b[1;32mC:\\ProgramData\\Anaconda3\\envs\\tf\\lib\\site-packages\\joblib\\parallel.py\u001b[0m in \u001b[0;36m<listcomp>\u001b[1;34m(.0)\u001b[0m\n\u001b[0;32m    260\u001b[0m         \u001b[1;31m# change the default number of processes to -1\u001b[0m\u001b[1;33m\u001b[0m\u001b[1;33m\u001b[0m\u001b[1;33m\u001b[0m\u001b[0m\n\u001b[0;32m    261\u001b[0m         \u001b[1;32mwith\u001b[0m \u001b[0mparallel_backend\u001b[0m\u001b[1;33m(\u001b[0m\u001b[0mself\u001b[0m\u001b[1;33m.\u001b[0m\u001b[0m_backend\u001b[0m\u001b[1;33m,\u001b[0m \u001b[0mn_jobs\u001b[0m\u001b[1;33m=\u001b[0m\u001b[0mself\u001b[0m\u001b[1;33m.\u001b[0m\u001b[0m_n_jobs\u001b[0m\u001b[1;33m)\u001b[0m\u001b[1;33m:\u001b[0m\u001b[1;33m\u001b[0m\u001b[1;33m\u001b[0m\u001b[0m\n\u001b[1;32m--> 262\u001b[1;33m             return [func(*args, **kwargs)\n\u001b[0m\u001b[0;32m    263\u001b[0m                     for func, args, kwargs in self.items]\n\u001b[0;32m    264\u001b[0m \u001b[1;33m\u001b[0m\u001b[0m\n",
      "\u001b[1;32mC:\\ProgramData\\Anaconda3\\envs\\tf\\lib\\site-packages\\sklearn\\utils\\fixes.py\u001b[0m in \u001b[0;36m__call__\u001b[1;34m(self, *args, **kwargs)\u001b[0m\n\u001b[0;32m    220\u001b[0m     \u001b[1;32mdef\u001b[0m \u001b[0m__call__\u001b[0m\u001b[1;33m(\u001b[0m\u001b[0mself\u001b[0m\u001b[1;33m,\u001b[0m \u001b[1;33m*\u001b[0m\u001b[0margs\u001b[0m\u001b[1;33m,\u001b[0m \u001b[1;33m**\u001b[0m\u001b[0mkwargs\u001b[0m\u001b[1;33m)\u001b[0m\u001b[1;33m:\u001b[0m\u001b[1;33m\u001b[0m\u001b[1;33m\u001b[0m\u001b[0m\n\u001b[0;32m    221\u001b[0m         \u001b[1;32mwith\u001b[0m \u001b[0mconfig_context\u001b[0m\u001b[1;33m(\u001b[0m\u001b[1;33m**\u001b[0m\u001b[0mself\u001b[0m\u001b[1;33m.\u001b[0m\u001b[0mconfig\u001b[0m\u001b[1;33m)\u001b[0m\u001b[1;33m:\u001b[0m\u001b[1;33m\u001b[0m\u001b[1;33m\u001b[0m\u001b[0m\n\u001b[1;32m--> 222\u001b[1;33m             \u001b[1;32mreturn\u001b[0m \u001b[0mself\u001b[0m\u001b[1;33m.\u001b[0m\u001b[0mfunction\u001b[0m\u001b[1;33m(\u001b[0m\u001b[1;33m*\u001b[0m\u001b[0margs\u001b[0m\u001b[1;33m,\u001b[0m \u001b[1;33m**\u001b[0m\u001b[0mkwargs\u001b[0m\u001b[1;33m)\u001b[0m\u001b[1;33m\u001b[0m\u001b[1;33m\u001b[0m\u001b[0m\n\u001b[0m",
      "\u001b[1;32mC:\\ProgramData\\Anaconda3\\envs\\tf\\lib\\site-packages\\sklearn\\model_selection\\_validation.py\u001b[0m in \u001b[0;36m_fit_and_score\u001b[1;34m(estimator, X, y, scorer, train, test, verbose, parameters, fit_params, return_train_score, return_parameters, return_n_test_samples, return_times, return_estimator, split_progress, candidate_progress, error_score)\u001b[0m\n\u001b[0;32m    591\u001b[0m             \u001b[0mestimator\u001b[0m\u001b[1;33m.\u001b[0m\u001b[0mfit\u001b[0m\u001b[1;33m(\u001b[0m\u001b[0mX_train\u001b[0m\u001b[1;33m,\u001b[0m \u001b[1;33m**\u001b[0m\u001b[0mfit_params\u001b[0m\u001b[1;33m)\u001b[0m\u001b[1;33m\u001b[0m\u001b[1;33m\u001b[0m\u001b[0m\n\u001b[0;32m    592\u001b[0m         \u001b[1;32melse\u001b[0m\u001b[1;33m:\u001b[0m\u001b[1;33m\u001b[0m\u001b[1;33m\u001b[0m\u001b[0m\n\u001b[1;32m--> 593\u001b[1;33m             \u001b[0mestimator\u001b[0m\u001b[1;33m.\u001b[0m\u001b[0mfit\u001b[0m\u001b[1;33m(\u001b[0m\u001b[0mX_train\u001b[0m\u001b[1;33m,\u001b[0m \u001b[0my_train\u001b[0m\u001b[1;33m,\u001b[0m \u001b[1;33m**\u001b[0m\u001b[0mfit_params\u001b[0m\u001b[1;33m)\u001b[0m\u001b[1;33m\u001b[0m\u001b[1;33m\u001b[0m\u001b[0m\n\u001b[0m\u001b[0;32m    594\u001b[0m \u001b[1;33m\u001b[0m\u001b[0m\n\u001b[0;32m    595\u001b[0m     \u001b[1;32mexcept\u001b[0m \u001b[0mException\u001b[0m \u001b[1;32mas\u001b[0m \u001b[0me\u001b[0m\u001b[1;33m:\u001b[0m\u001b[1;33m\u001b[0m\u001b[1;33m\u001b[0m\u001b[0m\n",
      "\u001b[1;32mC:\\ProgramData\\Anaconda3\\envs\\tf\\lib\\site-packages\\sklearn\\ensemble\\_forest.py\u001b[0m in \u001b[0;36mfit\u001b[1;34m(self, X, y, sample_weight)\u001b[0m\n\u001b[0;32m    385\u001b[0m             \u001b[1;31m# parallel_backend contexts set at a higher level,\u001b[0m\u001b[1;33m\u001b[0m\u001b[1;33m\u001b[0m\u001b[1;33m\u001b[0m\u001b[0m\n\u001b[0;32m    386\u001b[0m             \u001b[1;31m# since correctness does not rely on using threads.\u001b[0m\u001b[1;33m\u001b[0m\u001b[1;33m\u001b[0m\u001b[1;33m\u001b[0m\u001b[0m\n\u001b[1;32m--> 387\u001b[1;33m             trees = Parallel(n_jobs=self.n_jobs, verbose=self.verbose,\n\u001b[0m\u001b[0;32m    388\u001b[0m                              \u001b[1;33m**\u001b[0m\u001b[0m_joblib_parallel_args\u001b[0m\u001b[1;33m(\u001b[0m\u001b[0mprefer\u001b[0m\u001b[1;33m=\u001b[0m\u001b[1;34m'threads'\u001b[0m\u001b[1;33m)\u001b[0m\u001b[1;33m)\u001b[0m\u001b[1;33m(\u001b[0m\u001b[1;33m\u001b[0m\u001b[1;33m\u001b[0m\u001b[0m\n\u001b[0;32m    389\u001b[0m                 delayed(_parallel_build_trees)(\n",
      "\u001b[1;32mC:\\ProgramData\\Anaconda3\\envs\\tf\\lib\\site-packages\\joblib\\parallel.py\u001b[0m in \u001b[0;36m__call__\u001b[1;34m(self, iterable)\u001b[0m\n\u001b[0;32m   1052\u001b[0m \u001b[1;33m\u001b[0m\u001b[0m\n\u001b[0;32m   1053\u001b[0m             \u001b[1;32mwith\u001b[0m \u001b[0mself\u001b[0m\u001b[1;33m.\u001b[0m\u001b[0m_backend\u001b[0m\u001b[1;33m.\u001b[0m\u001b[0mretrieval_context\u001b[0m\u001b[1;33m(\u001b[0m\u001b[1;33m)\u001b[0m\u001b[1;33m:\u001b[0m\u001b[1;33m\u001b[0m\u001b[1;33m\u001b[0m\u001b[0m\n\u001b[1;32m-> 1054\u001b[1;33m                 \u001b[0mself\u001b[0m\u001b[1;33m.\u001b[0m\u001b[0mretrieve\u001b[0m\u001b[1;33m(\u001b[0m\u001b[1;33m)\u001b[0m\u001b[1;33m\u001b[0m\u001b[1;33m\u001b[0m\u001b[0m\n\u001b[0m\u001b[0;32m   1055\u001b[0m             \u001b[1;31m# Make sure that we get a last message telling us we are done\u001b[0m\u001b[1;33m\u001b[0m\u001b[1;33m\u001b[0m\u001b[1;33m\u001b[0m\u001b[0m\n\u001b[0;32m   1056\u001b[0m             \u001b[0melapsed_time\u001b[0m \u001b[1;33m=\u001b[0m \u001b[0mtime\u001b[0m\u001b[1;33m.\u001b[0m\u001b[0mtime\u001b[0m\u001b[1;33m(\u001b[0m\u001b[1;33m)\u001b[0m \u001b[1;33m-\u001b[0m \u001b[0mself\u001b[0m\u001b[1;33m.\u001b[0m\u001b[0m_start_time\u001b[0m\u001b[1;33m\u001b[0m\u001b[1;33m\u001b[0m\u001b[0m\n",
      "\u001b[1;32mC:\\ProgramData\\Anaconda3\\envs\\tf\\lib\\site-packages\\joblib\\parallel.py\u001b[0m in \u001b[0;36mretrieve\u001b[1;34m(self)\u001b[0m\n\u001b[0;32m    931\u001b[0m             \u001b[1;32mtry\u001b[0m\u001b[1;33m:\u001b[0m\u001b[1;33m\u001b[0m\u001b[1;33m\u001b[0m\u001b[0m\n\u001b[0;32m    932\u001b[0m                 \u001b[1;32mif\u001b[0m \u001b[0mgetattr\u001b[0m\u001b[1;33m(\u001b[0m\u001b[0mself\u001b[0m\u001b[1;33m.\u001b[0m\u001b[0m_backend\u001b[0m\u001b[1;33m,\u001b[0m \u001b[1;34m'supports_timeout'\u001b[0m\u001b[1;33m,\u001b[0m \u001b[1;32mFalse\u001b[0m\u001b[1;33m)\u001b[0m\u001b[1;33m:\u001b[0m\u001b[1;33m\u001b[0m\u001b[1;33m\u001b[0m\u001b[0m\n\u001b[1;32m--> 933\u001b[1;33m                     \u001b[0mself\u001b[0m\u001b[1;33m.\u001b[0m\u001b[0m_output\u001b[0m\u001b[1;33m.\u001b[0m\u001b[0mextend\u001b[0m\u001b[1;33m(\u001b[0m\u001b[0mjob\u001b[0m\u001b[1;33m.\u001b[0m\u001b[0mget\u001b[0m\u001b[1;33m(\u001b[0m\u001b[0mtimeout\u001b[0m\u001b[1;33m=\u001b[0m\u001b[0mself\u001b[0m\u001b[1;33m.\u001b[0m\u001b[0mtimeout\u001b[0m\u001b[1;33m)\u001b[0m\u001b[1;33m)\u001b[0m\u001b[1;33m\u001b[0m\u001b[1;33m\u001b[0m\u001b[0m\n\u001b[0m\u001b[0;32m    934\u001b[0m                 \u001b[1;32melse\u001b[0m\u001b[1;33m:\u001b[0m\u001b[1;33m\u001b[0m\u001b[1;33m\u001b[0m\u001b[0m\n\u001b[0;32m    935\u001b[0m                     \u001b[0mself\u001b[0m\u001b[1;33m.\u001b[0m\u001b[0m_output\u001b[0m\u001b[1;33m.\u001b[0m\u001b[0mextend\u001b[0m\u001b[1;33m(\u001b[0m\u001b[0mjob\u001b[0m\u001b[1;33m.\u001b[0m\u001b[0mget\u001b[0m\u001b[1;33m(\u001b[0m\u001b[1;33m)\u001b[0m\u001b[1;33m)\u001b[0m\u001b[1;33m\u001b[0m\u001b[1;33m\u001b[0m\u001b[0m\n",
      "\u001b[1;32mC:\\ProgramData\\Anaconda3\\envs\\tf\\lib\\site-packages\\joblib\\_parallel_backends.py\u001b[0m in \u001b[0;36mwrap_future_result\u001b[1;34m(future, timeout)\u001b[0m\n\u001b[0;32m    540\u001b[0m         AsyncResults.get from multiprocessing.\"\"\"\n\u001b[0;32m    541\u001b[0m         \u001b[1;32mtry\u001b[0m\u001b[1;33m:\u001b[0m\u001b[1;33m\u001b[0m\u001b[1;33m\u001b[0m\u001b[0m\n\u001b[1;32m--> 542\u001b[1;33m             \u001b[1;32mreturn\u001b[0m \u001b[0mfuture\u001b[0m\u001b[1;33m.\u001b[0m\u001b[0mresult\u001b[0m\u001b[1;33m(\u001b[0m\u001b[0mtimeout\u001b[0m\u001b[1;33m=\u001b[0m\u001b[0mtimeout\u001b[0m\u001b[1;33m)\u001b[0m\u001b[1;33m\u001b[0m\u001b[1;33m\u001b[0m\u001b[0m\n\u001b[0m\u001b[0;32m    543\u001b[0m         \u001b[1;32mexcept\u001b[0m \u001b[0mCfTimeoutError\u001b[0m \u001b[1;32mas\u001b[0m \u001b[0me\u001b[0m\u001b[1;33m:\u001b[0m\u001b[1;33m\u001b[0m\u001b[1;33m\u001b[0m\u001b[0m\n\u001b[0;32m    544\u001b[0m             \u001b[1;32mraise\u001b[0m \u001b[0mTimeoutError\u001b[0m \u001b[1;32mfrom\u001b[0m \u001b[0me\u001b[0m\u001b[1;33m\u001b[0m\u001b[1;33m\u001b[0m\u001b[0m\n",
      "\u001b[1;32mC:\\ProgramData\\Anaconda3\\envs\\tf\\lib\\concurrent\\futures\\_base.py\u001b[0m in \u001b[0;36mresult\u001b[1;34m(self, timeout)\u001b[0m\n\u001b[0;32m    438\u001b[0m                     \u001b[1;32mreturn\u001b[0m \u001b[0mself\u001b[0m\u001b[1;33m.\u001b[0m\u001b[0m__get_result\u001b[0m\u001b[1;33m(\u001b[0m\u001b[1;33m)\u001b[0m\u001b[1;33m\u001b[0m\u001b[1;33m\u001b[0m\u001b[0m\n\u001b[0;32m    439\u001b[0m \u001b[1;33m\u001b[0m\u001b[0m\n\u001b[1;32m--> 440\u001b[1;33m                 \u001b[0mself\u001b[0m\u001b[1;33m.\u001b[0m\u001b[0m_condition\u001b[0m\u001b[1;33m.\u001b[0m\u001b[0mwait\u001b[0m\u001b[1;33m(\u001b[0m\u001b[0mtimeout\u001b[0m\u001b[1;33m)\u001b[0m\u001b[1;33m\u001b[0m\u001b[1;33m\u001b[0m\u001b[0m\n\u001b[0m\u001b[0;32m    441\u001b[0m \u001b[1;33m\u001b[0m\u001b[0m\n\u001b[0;32m    442\u001b[0m                 \u001b[1;32mif\u001b[0m \u001b[0mself\u001b[0m\u001b[1;33m.\u001b[0m\u001b[0m_state\u001b[0m \u001b[1;32min\u001b[0m \u001b[1;33m[\u001b[0m\u001b[0mCANCELLED\u001b[0m\u001b[1;33m,\u001b[0m \u001b[0mCANCELLED_AND_NOTIFIED\u001b[0m\u001b[1;33m]\u001b[0m\u001b[1;33m:\u001b[0m\u001b[1;33m\u001b[0m\u001b[1;33m\u001b[0m\u001b[0m\n",
      "\u001b[1;32mC:\\ProgramData\\Anaconda3\\envs\\tf\\lib\\threading.py\u001b[0m in \u001b[0;36mwait\u001b[1;34m(self, timeout)\u001b[0m\n\u001b[0;32m    310\u001b[0m         \u001b[1;32mtry\u001b[0m\u001b[1;33m:\u001b[0m    \u001b[1;31m# restore state no matter what (e.g., KeyboardInterrupt)\u001b[0m\u001b[1;33m\u001b[0m\u001b[1;33m\u001b[0m\u001b[0m\n\u001b[0;32m    311\u001b[0m             \u001b[1;32mif\u001b[0m \u001b[0mtimeout\u001b[0m \u001b[1;32mis\u001b[0m \u001b[1;32mNone\u001b[0m\u001b[1;33m:\u001b[0m\u001b[1;33m\u001b[0m\u001b[1;33m\u001b[0m\u001b[0m\n\u001b[1;32m--> 312\u001b[1;33m                 \u001b[0mwaiter\u001b[0m\u001b[1;33m.\u001b[0m\u001b[0macquire\u001b[0m\u001b[1;33m(\u001b[0m\u001b[1;33m)\u001b[0m\u001b[1;33m\u001b[0m\u001b[1;33m\u001b[0m\u001b[0m\n\u001b[0m\u001b[0;32m    313\u001b[0m                 \u001b[0mgotit\u001b[0m \u001b[1;33m=\u001b[0m \u001b[1;32mTrue\u001b[0m\u001b[1;33m\u001b[0m\u001b[1;33m\u001b[0m\u001b[0m\n\u001b[0;32m    314\u001b[0m             \u001b[1;32melse\u001b[0m\u001b[1;33m:\u001b[0m\u001b[1;33m\u001b[0m\u001b[1;33m\u001b[0m\u001b[0m\n",
      "\u001b[1;31mKeyboardInterrupt\u001b[0m: "
     ]
    }
   ],
   "source": [
    "%%time\n",
    "from sklearn.model_selection import RandomizedSearchCV\n",
    "\n",
    "# Different RandomForestRegressor import RandomizedSearchCV\n",
    "rf_grid = {'n_estimators': np.arange(10, 100, 10),\n",
    "            'max_depth': [None, 3, 5, 10],\n",
    "            'min_samples_split': np.arange(2, 20, 2),\n",
    "            'min_samples_leaf': np.arange(1, 20, 2),\n",
    "            'max_features': [0.5, 1, 'sqrt', 'auto'],\n",
    "            'max_samples': [10000]}\n",
    "\n",
    "# Instantiate RandomizedSearchCV model\n",
    "rs_model = RandomizedSearchCV(RandomForestRegressor(n_jobs=-1,\n",
    "                                                    random_state=42),\n",
    "                                param_distributions=rf_grid,\n",
    "                                n_iter=5,\n",
    "                                cv=5,\n",
    "                                verbose=True)\n",
    "# Fit the RandomizedSearchCV model\n",
    "rs_model.fit(X_train, y_train)"
   ]
  },
  {
   "cell_type": "code",
   "execution_count": 88,
   "metadata": {},
   "outputs": [
    {
     "output_type": "error",
     "ename": "AttributeError",
     "evalue": "'RandomizedSearchCV' object has no attribute 'best_params_'",
     "traceback": [
      "\u001b[1;31m---------------------------------------------------------------------------\u001b[0m",
      "\u001b[1;31mAttributeError\u001b[0m                            Traceback (most recent call last)",
      "\u001b[1;32m<ipython-input-88-2625385d757e>\u001b[0m in \u001b[0;36m<module>\u001b[1;34m\u001b[0m\n\u001b[0;32m      1\u001b[0m \u001b[1;31m# Find the best model hyperparameters\u001b[0m\u001b[1;33m\u001b[0m\u001b[1;33m\u001b[0m\u001b[1;33m\u001b[0m\u001b[0m\n\u001b[1;32m----> 2\u001b[1;33m \u001b[0mrs_model\u001b[0m\u001b[1;33m.\u001b[0m\u001b[0mbest_params_\u001b[0m\u001b[1;33m\u001b[0m\u001b[1;33m\u001b[0m\u001b[0m\n\u001b[0m",
      "\u001b[1;31mAttributeError\u001b[0m: 'RandomizedSearchCV' object has no attribute 'best_params_'"
     ]
    }
   ],
   "source": [
    "# Find the best model hyperparameters\n",
    "rs_model.best_params_"
   ]
  },
  {
   "cell_type": "code",
   "execution_count": 48,
   "metadata": {},
   "outputs": [
    {
     "output_type": "execute_result",
     "data": {
      "text/plain": [
       "{'Training MAE': 6364.475450726353,\n",
       " 'Valid MAE': 7962.335114464912,\n",
       " 'Training RMSLE': 0.2867283695669576,\n",
       " 'Valid RMSLE': 0.3162400309612427,\n",
       " 'Training R^2': 0.816851050534233,\n",
       " 'Valid R&2': 0.7849018922185527}"
      ]
     },
     "metadata": {},
     "execution_count": 48
    }
   ],
   "source": [
    "# Evaluate the RandomizedSearchCV model\n",
    "show_scores(rs_model)"
   ]
  },
  {
   "source": [
    "## Train a model with the best hyperparameters\n",
    "NOTE: These were found after 100 iterations of RandomizedSearchCV"
   ],
   "cell_type": "markdown",
   "metadata": {}
  },
  {
   "cell_type": "code",
   "execution_count": 89,
   "metadata": {},
   "outputs": [
    {
     "output_type": "stream",
     "name": "stdout",
     "text": [
      "Wall time: 3.73 s\n"
     ]
    },
    {
     "output_type": "execute_result",
     "data": {
      "text/plain": [
       "RandomForestRegressor(max_features=1, min_samples_leaf=3, min_samples_split=12,\n",
       "                      n_estimators=40, n_jobs=-1, random_state=42)"
      ]
     },
     "metadata": {},
     "execution_count": 89
    }
   ],
   "source": [
    "%%time\n",
    "# Most ideal hyperparameters\n",
    "ideal_model = RandomForestRegressor(n_estimators=40,\n",
    "                                    min_samples_split=12,\n",
    "                                    min_samples_leaf=3,\n",
    "                                    max_features=1,\n",
    "                                    n_jobs=-1,\n",
    "                                    max_depth=None,\n",
    "                                    max_samples=None,\n",
    "                                    random_state=42) # Random state for reproducable results \n",
    "# Fit the ideal model\n",
    "ideal_model.fit(X_train, y_train)"
   ]
  },
  {
   "cell_type": "code",
   "execution_count": 90,
   "metadata": {},
   "outputs": [
    {
     "output_type": "execute_result",
     "data": {
      "text/plain": [
       "{'Training MAE': 7103.62281536997,\n",
       " 'Valid MAE': 10114.269979183971,\n",
       " 'Training RMSLE': 0.3267398032560023,\n",
       " 'Valid RMSLE': 0.4048856069452835,\n",
       " 'Training R^2': 0.7949929996161365,\n",
       " 'Valid R&2': 0.6983560799120782}"
      ]
     },
     "metadata": {},
     "execution_count": 90
    }
   ],
   "source": [
    "# Scores for ideal_model (trained on all the data)\n",
    "show_scores(ideal_model)"
   ]
  },
  {
   "cell_type": "code",
   "execution_count": 91,
   "metadata": {},
   "outputs": [
    {
     "output_type": "error",
     "ename": "NotFittedError",
     "evalue": "This RandomizedSearchCV instance is not fitted yet. Call 'fit' with appropriate arguments before using this estimator.",
     "traceback": [
      "\u001b[1;31m---------------------------------------------------------------------------\u001b[0m",
      "\u001b[1;31mNotFittedError\u001b[0m                            Traceback (most recent call last)",
      "\u001b[1;32m<ipython-input-91-52812ed1758a>\u001b[0m in \u001b[0;36m<module>\u001b[1;34m\u001b[0m\n\u001b[0;32m      1\u001b[0m \u001b[1;31m# Scores on rs_model (only trained on 10000 examples)\u001b[0m\u001b[1;33m\u001b[0m\u001b[1;33m\u001b[0m\u001b[1;33m\u001b[0m\u001b[0m\n\u001b[1;32m----> 2\u001b[1;33m \u001b[0mshow_scores\u001b[0m\u001b[1;33m(\u001b[0m\u001b[0mrs_model\u001b[0m\u001b[1;33m)\u001b[0m\u001b[1;33m\u001b[0m\u001b[1;33m\u001b[0m\u001b[0m\n\u001b[0m",
      "\u001b[1;32m<ipython-input-83-bd504482d81c>\u001b[0m in \u001b[0;36mshow_scores\u001b[1;34m(model)\u001b[0m\n\u001b[0;32m     10\u001b[0m \u001b[1;31m# Create function to evaluate model on a few different levels\u001b[0m\u001b[1;33m\u001b[0m\u001b[1;33m\u001b[0m\u001b[1;33m\u001b[0m\u001b[0m\n\u001b[0;32m     11\u001b[0m \u001b[1;32mdef\u001b[0m \u001b[0mshow_scores\u001b[0m\u001b[1;33m(\u001b[0m\u001b[0mmodel\u001b[0m\u001b[1;33m)\u001b[0m\u001b[1;33m:\u001b[0m\u001b[1;33m\u001b[0m\u001b[1;33m\u001b[0m\u001b[0m\n\u001b[1;32m---> 12\u001b[1;33m     \u001b[0mtrain_preds\u001b[0m \u001b[1;33m=\u001b[0m \u001b[0mmodel\u001b[0m\u001b[1;33m.\u001b[0m\u001b[0mpredict\u001b[0m\u001b[1;33m(\u001b[0m\u001b[0mX_train\u001b[0m\u001b[1;33m)\u001b[0m\u001b[1;33m\u001b[0m\u001b[1;33m\u001b[0m\u001b[0m\n\u001b[0m\u001b[0;32m     13\u001b[0m     \u001b[0mval_preds\u001b[0m \u001b[1;33m=\u001b[0m \u001b[0mmodel\u001b[0m\u001b[1;33m.\u001b[0m\u001b[0mpredict\u001b[0m\u001b[1;33m(\u001b[0m\u001b[0mX_valid\u001b[0m\u001b[1;33m)\u001b[0m\u001b[1;33m\u001b[0m\u001b[1;33m\u001b[0m\u001b[0m\n\u001b[0;32m     14\u001b[0m     scores = {'Training MAE': mean_absolute_error(y_train, train_preds),\n",
      "\u001b[1;32mC:\\ProgramData\\Anaconda3\\envs\\tf\\lib\\site-packages\\sklearn\\utils\\metaestimators.py\u001b[0m in \u001b[0;36m<lambda>\u001b[1;34m(*args, **kwargs)\u001b[0m\n\u001b[0;32m    118\u001b[0m \u001b[1;33m\u001b[0m\u001b[0m\n\u001b[0;32m    119\u001b[0m         \u001b[1;31m# lambda, but not partial, allows help() to work with update_wrapper\u001b[0m\u001b[1;33m\u001b[0m\u001b[1;33m\u001b[0m\u001b[1;33m\u001b[0m\u001b[0m\n\u001b[1;32m--> 120\u001b[1;33m         \u001b[0mout\u001b[0m \u001b[1;33m=\u001b[0m \u001b[1;32mlambda\u001b[0m \u001b[1;33m*\u001b[0m\u001b[0margs\u001b[0m\u001b[1;33m,\u001b[0m \u001b[1;33m**\u001b[0m\u001b[0mkwargs\u001b[0m\u001b[1;33m:\u001b[0m \u001b[0mself\u001b[0m\u001b[1;33m.\u001b[0m\u001b[0mfn\u001b[0m\u001b[1;33m(\u001b[0m\u001b[0mobj\u001b[0m\u001b[1;33m,\u001b[0m \u001b[1;33m*\u001b[0m\u001b[0margs\u001b[0m\u001b[1;33m,\u001b[0m \u001b[1;33m**\u001b[0m\u001b[0mkwargs\u001b[0m\u001b[1;33m)\u001b[0m\u001b[1;33m\u001b[0m\u001b[1;33m\u001b[0m\u001b[0m\n\u001b[0m\u001b[0;32m    121\u001b[0m         \u001b[1;31m# update the docstring of the returned function\u001b[0m\u001b[1;33m\u001b[0m\u001b[1;33m\u001b[0m\u001b[1;33m\u001b[0m\u001b[0m\n\u001b[0;32m    122\u001b[0m         \u001b[0mupdate_wrapper\u001b[0m\u001b[1;33m(\u001b[0m\u001b[0mout\u001b[0m\u001b[1;33m,\u001b[0m \u001b[0mself\u001b[0m\u001b[1;33m.\u001b[0m\u001b[0mfn\u001b[0m\u001b[1;33m)\u001b[0m\u001b[1;33m\u001b[0m\u001b[1;33m\u001b[0m\u001b[0m\n",
      "\u001b[1;32mC:\\ProgramData\\Anaconda3\\envs\\tf\\lib\\site-packages\\sklearn\\model_selection\\_search.py\u001b[0m in \u001b[0;36mpredict\u001b[1;34m(self, X)\u001b[0m\n\u001b[0;32m    537\u001b[0m \u001b[1;33m\u001b[0m\u001b[0m\n\u001b[0;32m    538\u001b[0m         \"\"\"\n\u001b[1;32m--> 539\u001b[1;33m         \u001b[0mself\u001b[0m\u001b[1;33m.\u001b[0m\u001b[0m_check_is_fitted\u001b[0m\u001b[1;33m(\u001b[0m\u001b[1;34m'predict'\u001b[0m\u001b[1;33m)\u001b[0m\u001b[1;33m\u001b[0m\u001b[1;33m\u001b[0m\u001b[0m\n\u001b[0m\u001b[0;32m    540\u001b[0m         \u001b[1;32mreturn\u001b[0m \u001b[0mself\u001b[0m\u001b[1;33m.\u001b[0m\u001b[0mbest_estimator_\u001b[0m\u001b[1;33m.\u001b[0m\u001b[0mpredict\u001b[0m\u001b[1;33m(\u001b[0m\u001b[0mX\u001b[0m\u001b[1;33m)\u001b[0m\u001b[1;33m\u001b[0m\u001b[1;33m\u001b[0m\u001b[0m\n\u001b[0;32m    541\u001b[0m \u001b[1;33m\u001b[0m\u001b[0m\n",
      "\u001b[1;32mC:\\ProgramData\\Anaconda3\\envs\\tf\\lib\\site-packages\\sklearn\\model_selection\\_search.py\u001b[0m in \u001b[0;36m_check_is_fitted\u001b[1;34m(self, method_name)\u001b[0m\n\u001b[0;32m    521\u001b[0m                                  % (type(self).__name__, method_name))\n\u001b[0;32m    522\u001b[0m         \u001b[1;32melse\u001b[0m\u001b[1;33m:\u001b[0m\u001b[1;33m\u001b[0m\u001b[1;33m\u001b[0m\u001b[0m\n\u001b[1;32m--> 523\u001b[1;33m             \u001b[0mcheck_is_fitted\u001b[0m\u001b[1;33m(\u001b[0m\u001b[0mself\u001b[0m\u001b[1;33m)\u001b[0m\u001b[1;33m\u001b[0m\u001b[1;33m\u001b[0m\u001b[0m\n\u001b[0m\u001b[0;32m    524\u001b[0m \u001b[1;33m\u001b[0m\u001b[0m\n\u001b[0;32m    525\u001b[0m     \u001b[1;33m@\u001b[0m\u001b[0mif_delegate_has_method\u001b[0m\u001b[1;33m(\u001b[0m\u001b[0mdelegate\u001b[0m\u001b[1;33m=\u001b[0m\u001b[1;33m(\u001b[0m\u001b[1;34m'best_estimator_'\u001b[0m\u001b[1;33m,\u001b[0m \u001b[1;34m'estimator'\u001b[0m\u001b[1;33m)\u001b[0m\u001b[1;33m)\u001b[0m\u001b[1;33m\u001b[0m\u001b[1;33m\u001b[0m\u001b[0m\n",
      "\u001b[1;32mC:\\ProgramData\\Anaconda3\\envs\\tf\\lib\\site-packages\\sklearn\\utils\\validation.py\u001b[0m in \u001b[0;36minner_f\u001b[1;34m(*args, **kwargs)\u001b[0m\n\u001b[0;32m     61\u001b[0m             \u001b[0mextra_args\u001b[0m \u001b[1;33m=\u001b[0m \u001b[0mlen\u001b[0m\u001b[1;33m(\u001b[0m\u001b[0margs\u001b[0m\u001b[1;33m)\u001b[0m \u001b[1;33m-\u001b[0m \u001b[0mlen\u001b[0m\u001b[1;33m(\u001b[0m\u001b[0mall_args\u001b[0m\u001b[1;33m)\u001b[0m\u001b[1;33m\u001b[0m\u001b[1;33m\u001b[0m\u001b[0m\n\u001b[0;32m     62\u001b[0m             \u001b[1;32mif\u001b[0m \u001b[0mextra_args\u001b[0m \u001b[1;33m<=\u001b[0m \u001b[1;36m0\u001b[0m\u001b[1;33m:\u001b[0m\u001b[1;33m\u001b[0m\u001b[1;33m\u001b[0m\u001b[0m\n\u001b[1;32m---> 63\u001b[1;33m                 \u001b[1;32mreturn\u001b[0m \u001b[0mf\u001b[0m\u001b[1;33m(\u001b[0m\u001b[1;33m*\u001b[0m\u001b[0margs\u001b[0m\u001b[1;33m,\u001b[0m \u001b[1;33m**\u001b[0m\u001b[0mkwargs\u001b[0m\u001b[1;33m)\u001b[0m\u001b[1;33m\u001b[0m\u001b[1;33m\u001b[0m\u001b[0m\n\u001b[0m\u001b[0;32m     64\u001b[0m \u001b[1;33m\u001b[0m\u001b[0m\n\u001b[0;32m     65\u001b[0m             \u001b[1;31m# extra_args > 0\u001b[0m\u001b[1;33m\u001b[0m\u001b[1;33m\u001b[0m\u001b[1;33m\u001b[0m\u001b[0m\n",
      "\u001b[1;32mC:\\ProgramData\\Anaconda3\\envs\\tf\\lib\\site-packages\\sklearn\\utils\\validation.py\u001b[0m in \u001b[0;36mcheck_is_fitted\u001b[1;34m(estimator, attributes, msg, all_or_any)\u001b[0m\n\u001b[0;32m   1039\u001b[0m \u001b[1;33m\u001b[0m\u001b[0m\n\u001b[0;32m   1040\u001b[0m     \u001b[1;32mif\u001b[0m \u001b[1;32mnot\u001b[0m \u001b[0mattrs\u001b[0m\u001b[1;33m:\u001b[0m\u001b[1;33m\u001b[0m\u001b[1;33m\u001b[0m\u001b[0m\n\u001b[1;32m-> 1041\u001b[1;33m         \u001b[1;32mraise\u001b[0m \u001b[0mNotFittedError\u001b[0m\u001b[1;33m(\u001b[0m\u001b[0mmsg\u001b[0m \u001b[1;33m%\u001b[0m \u001b[1;33m{\u001b[0m\u001b[1;34m'name'\u001b[0m\u001b[1;33m:\u001b[0m \u001b[0mtype\u001b[0m\u001b[1;33m(\u001b[0m\u001b[0mestimator\u001b[0m\u001b[1;33m)\u001b[0m\u001b[1;33m.\u001b[0m\u001b[0m__name__\u001b[0m\u001b[1;33m}\u001b[0m\u001b[1;33m)\u001b[0m\u001b[1;33m\u001b[0m\u001b[1;33m\u001b[0m\u001b[0m\n\u001b[0m\u001b[0;32m   1042\u001b[0m \u001b[1;33m\u001b[0m\u001b[0m\n\u001b[0;32m   1043\u001b[0m \u001b[1;33m\u001b[0m\u001b[0m\n",
      "\u001b[1;31mNotFittedError\u001b[0m: This RandomizedSearchCV instance is not fitted yet. Call 'fit' with appropriate arguments before using this estimator."
     ]
    }
   ],
   "source": [
    "# Scores on rs_model (only trained on 10000 examples)\n",
    "show_scores(rs_model)"
   ]
  },
  {
   "source": [
    "# Make predictions on test data\n"
   ],
   "cell_type": "markdown",
   "metadata": {}
  },
  {
   "cell_type": "code",
   "execution_count": 117,
   "metadata": {},
   "outputs": [],
   "source": [
    "# Import the test data\n",
    "df_test = pd.read_csv(\"../bluebook-for-bulldozers/Test.csv\",\n",
    "                    parse_dates=['saledate'])"
   ]
  },
  {
   "source": [
    "### Preprocessing the data (getting the test dataset in the same format as our training dataset)"
   ],
   "cell_type": "markdown",
   "metadata": {}
  },
  {
   "cell_type": "code",
   "execution_count": 118,
   "metadata": {},
   "outputs": [
    {
     "output_type": "execute_result",
     "data": {
      "text/plain": [
       "Index(['SalesID', 'MachineID', 'ModelID', 'datasource', 'auctioneerID',\n",
       "       'YearMade', 'MachineHoursCurrentMeter', 'UsageBand', 'saledate',\n",
       "       'fiModelDesc', 'fiBaseModel', 'fiSecondaryDesc', 'fiModelSeries',\n",
       "       'fiModelDescriptor', 'ProductSize', 'fiProductClassDesc', 'state',\n",
       "       'ProductGroup', 'ProductGroupDesc', 'Drive_System', 'Enclosure',\n",
       "       'Forks', 'Pad_Type', 'Ride_Control', 'Stick', 'Transmission',\n",
       "       'Turbocharged', 'Blade_Extension', 'Blade_Width', 'Enclosure_Type',\n",
       "       'Engine_Horsepower', 'Hydraulics', 'Pushblock', 'Ripper', 'Scarifier',\n",
       "       'Tip_Control', 'Tire_Size', 'Coupler', 'Coupler_System',\n",
       "       'Grouser_Tracks', 'Hydraulics_Flow', 'Track_Type',\n",
       "       'Undercarriage_Pad_Width', 'Stick_Length', 'Thumb', 'Pattern_Changer',\n",
       "       'Grouser_Type', 'Backhoe_Mounting', 'Blade_Type', 'Travel_Controls',\n",
       "       'Differential_Type', 'Steering_Controls'],\n",
       "      dtype='object')"
      ]
     },
     "metadata": {},
     "execution_count": 118
    }
   ],
   "source": [
    "df_test.columns"
   ]
  },
  {
   "cell_type": "code",
   "execution_count": 119,
   "metadata": {},
   "outputs": [],
   "source": [
    "def preprocess_data(df):\n",
    "    '''\n",
    "    Performs transformations on df and returns transformed df\n",
    "    '''\n",
    "    df['saleYear'] = df.saledate.dt.year\n",
    "    df['saleMonth'] = df.saledate.dt.month\n",
    "    df['saleDay'] = df.saledate.dt.day\n",
    "    df['saleDayOfWeek'] = df.saledate.dt.dayofweek\n",
    "    df['saleDayOfYear'] = df.saledate.dt.dayofyear\n",
    "\n",
    "    df.drop('saledate', axis=1, inplace=True)\n",
    "\n",
    "    # Fill the numeric rows with median\n",
    "    for label, content in df.items():\n",
    "        if pd.api.types.is_numeric_dtype(content):\n",
    "            if pd.isnull(content).sum():\n",
    "                # Add binary column to indicate whether sample had missing value\n",
    "                df[label + '_is_missing'] = pd.isnull(content)\n",
    "                # Fill missing numeric values with median\n",
    "                df[label] = content.fillna(content.median())\n",
    "\n",
    "        # Filled categorical missing data and turned categorical into numbers\n",
    "        if not pd.api.types.is_numeric_dtype(content):\n",
    "            df[label + \"_is_missing\"] = pd.isnull(content)\n",
    "            # We add +1 to the category code because Pandas encodes missing categories as -1\n",
    "            df[label] = pd.Categorical(content).codes + 1 \n",
    "    return df"
   ]
  },
  {
   "cell_type": "code",
   "execution_count": 120,
   "metadata": {},
   "outputs": [],
   "source": [
    "# Process the test data\n",
    "df_test = preprocess_data(df_test)"
   ]
  },
  {
   "cell_type": "code",
   "execution_count": 121,
   "metadata": {},
   "outputs": [
    {
     "output_type": "error",
     "ename": "ValueError",
     "evalue": "X has 101 features, but DecisionTreeRegressor is expecting 102 features as input.",
     "traceback": [
      "\u001b[1;31m---------------------------------------------------------------------------\u001b[0m",
      "\u001b[1;31mValueError\u001b[0m                                Traceback (most recent call last)",
      "\u001b[1;32m<ipython-input-121-816969861579>\u001b[0m in \u001b[0;36m<module>\u001b[1;34m\u001b[0m\n\u001b[0;32m      1\u001b[0m \u001b[1;31m# Make predictions on updated test data\u001b[0m\u001b[1;33m\u001b[0m\u001b[1;33m\u001b[0m\u001b[1;33m\u001b[0m\u001b[0m\n\u001b[1;32m----> 2\u001b[1;33m \u001b[0mtest_preds\u001b[0m \u001b[1;33m=\u001b[0m \u001b[0mideal_model\u001b[0m\u001b[1;33m.\u001b[0m\u001b[0mpredict\u001b[0m\u001b[1;33m(\u001b[0m\u001b[0mdf_test\u001b[0m\u001b[1;33m)\u001b[0m\u001b[1;33m\u001b[0m\u001b[1;33m\u001b[0m\u001b[0m\n\u001b[0m",
      "\u001b[1;32mC:\\ProgramData\\Anaconda3\\envs\\tf\\lib\\site-packages\\sklearn\\ensemble\\_forest.py\u001b[0m in \u001b[0;36mpredict\u001b[1;34m(self, X)\u001b[0m\n\u001b[0;32m    782\u001b[0m         \u001b[0mcheck_is_fitted\u001b[0m\u001b[1;33m(\u001b[0m\u001b[0mself\u001b[0m\u001b[1;33m)\u001b[0m\u001b[1;33m\u001b[0m\u001b[1;33m\u001b[0m\u001b[0m\n\u001b[0;32m    783\u001b[0m         \u001b[1;31m# Check data\u001b[0m\u001b[1;33m\u001b[0m\u001b[1;33m\u001b[0m\u001b[1;33m\u001b[0m\u001b[0m\n\u001b[1;32m--> 784\u001b[1;33m         \u001b[0mX\u001b[0m \u001b[1;33m=\u001b[0m \u001b[0mself\u001b[0m\u001b[1;33m.\u001b[0m\u001b[0m_validate_X_predict\u001b[0m\u001b[1;33m(\u001b[0m\u001b[0mX\u001b[0m\u001b[1;33m)\u001b[0m\u001b[1;33m\u001b[0m\u001b[1;33m\u001b[0m\u001b[0m\n\u001b[0m\u001b[0;32m    785\u001b[0m \u001b[1;33m\u001b[0m\u001b[0m\n\u001b[0;32m    786\u001b[0m         \u001b[1;31m# Assign chunk of trees to jobs\u001b[0m\u001b[1;33m\u001b[0m\u001b[1;33m\u001b[0m\u001b[1;33m\u001b[0m\u001b[0m\n",
      "\u001b[1;32mC:\\ProgramData\\Anaconda3\\envs\\tf\\lib\\site-packages\\sklearn\\ensemble\\_forest.py\u001b[0m in \u001b[0;36m_validate_X_predict\u001b[1;34m(self, X)\u001b[0m\n\u001b[0;32m    420\u001b[0m         \u001b[0mcheck_is_fitted\u001b[0m\u001b[1;33m(\u001b[0m\u001b[0mself\u001b[0m\u001b[1;33m)\u001b[0m\u001b[1;33m\u001b[0m\u001b[1;33m\u001b[0m\u001b[0m\n\u001b[0;32m    421\u001b[0m \u001b[1;33m\u001b[0m\u001b[0m\n\u001b[1;32m--> 422\u001b[1;33m         \u001b[1;32mreturn\u001b[0m \u001b[0mself\u001b[0m\u001b[1;33m.\u001b[0m\u001b[0mestimators_\u001b[0m\u001b[1;33m[\u001b[0m\u001b[1;36m0\u001b[0m\u001b[1;33m]\u001b[0m\u001b[1;33m.\u001b[0m\u001b[0m_validate_X_predict\u001b[0m\u001b[1;33m(\u001b[0m\u001b[0mX\u001b[0m\u001b[1;33m,\u001b[0m \u001b[0mcheck_input\u001b[0m\u001b[1;33m=\u001b[0m\u001b[1;32mTrue\u001b[0m\u001b[1;33m)\u001b[0m\u001b[1;33m\u001b[0m\u001b[1;33m\u001b[0m\u001b[0m\n\u001b[0m\u001b[0;32m    423\u001b[0m \u001b[1;33m\u001b[0m\u001b[0m\n\u001b[0;32m    424\u001b[0m     \u001b[1;33m@\u001b[0m\u001b[0mproperty\u001b[0m\u001b[1;33m\u001b[0m\u001b[1;33m\u001b[0m\u001b[0m\n",
      "\u001b[1;32mC:\\ProgramData\\Anaconda3\\envs\\tf\\lib\\site-packages\\sklearn\\tree\\_classes.py\u001b[0m in \u001b[0;36m_validate_X_predict\u001b[1;34m(self, X, check_input)\u001b[0m\n\u001b[0;32m    400\u001b[0m         \u001b[1;34m\"\"\"Validate the training data on predict (probabilities).\"\"\"\u001b[0m\u001b[1;33m\u001b[0m\u001b[1;33m\u001b[0m\u001b[0m\n\u001b[0;32m    401\u001b[0m         \u001b[1;32mif\u001b[0m \u001b[0mcheck_input\u001b[0m\u001b[1;33m:\u001b[0m\u001b[1;33m\u001b[0m\u001b[1;33m\u001b[0m\u001b[0m\n\u001b[1;32m--> 402\u001b[1;33m             X = self._validate_data(X, dtype=DTYPE, accept_sparse=\"csr\",\n\u001b[0m\u001b[0;32m    403\u001b[0m                                     reset=False)\n\u001b[0;32m    404\u001b[0m             if issparse(X) and (X.indices.dtype != np.intc or\n",
      "\u001b[1;32mC:\\ProgramData\\Anaconda3\\envs\\tf\\lib\\site-packages\\sklearn\\base.py\u001b[0m in \u001b[0;36m_validate_data\u001b[1;34m(self, X, y, reset, validate_separately, **check_params)\u001b[0m\n\u001b[0;32m    435\u001b[0m \u001b[1;33m\u001b[0m\u001b[0m\n\u001b[0;32m    436\u001b[0m         \u001b[1;32mif\u001b[0m \u001b[0mcheck_params\u001b[0m\u001b[1;33m.\u001b[0m\u001b[0mget\u001b[0m\u001b[1;33m(\u001b[0m\u001b[1;34m'ensure_2d'\u001b[0m\u001b[1;33m,\u001b[0m \u001b[1;32mTrue\u001b[0m\u001b[1;33m)\u001b[0m\u001b[1;33m:\u001b[0m\u001b[1;33m\u001b[0m\u001b[1;33m\u001b[0m\u001b[0m\n\u001b[1;32m--> 437\u001b[1;33m             \u001b[0mself\u001b[0m\u001b[1;33m.\u001b[0m\u001b[0m_check_n_features\u001b[0m\u001b[1;33m(\u001b[0m\u001b[0mX\u001b[0m\u001b[1;33m,\u001b[0m \u001b[0mreset\u001b[0m\u001b[1;33m=\u001b[0m\u001b[0mreset\u001b[0m\u001b[1;33m)\u001b[0m\u001b[1;33m\u001b[0m\u001b[1;33m\u001b[0m\u001b[0m\n\u001b[0m\u001b[0;32m    438\u001b[0m \u001b[1;33m\u001b[0m\u001b[0m\n\u001b[0;32m    439\u001b[0m         \u001b[1;32mreturn\u001b[0m \u001b[0mout\u001b[0m\u001b[1;33m\u001b[0m\u001b[1;33m\u001b[0m\u001b[0m\n",
      "\u001b[1;32mC:\\ProgramData\\Anaconda3\\envs\\tf\\lib\\site-packages\\sklearn\\base.py\u001b[0m in \u001b[0;36m_check_n_features\u001b[1;34m(self, X, reset)\u001b[0m\n\u001b[0;32m    363\u001b[0m \u001b[1;33m\u001b[0m\u001b[0m\n\u001b[0;32m    364\u001b[0m         \u001b[1;32mif\u001b[0m \u001b[0mn_features\u001b[0m \u001b[1;33m!=\u001b[0m \u001b[0mself\u001b[0m\u001b[1;33m.\u001b[0m\u001b[0mn_features_in_\u001b[0m\u001b[1;33m:\u001b[0m\u001b[1;33m\u001b[0m\u001b[1;33m\u001b[0m\u001b[0m\n\u001b[1;32m--> 365\u001b[1;33m             raise ValueError(\n\u001b[0m\u001b[0;32m    366\u001b[0m                 \u001b[1;34mf\"X has {n_features} features, but {self.__class__.__name__} \"\u001b[0m\u001b[1;33m\u001b[0m\u001b[1;33m\u001b[0m\u001b[0m\n\u001b[0;32m    367\u001b[0m                 f\"is expecting {self.n_features_in_} features as input.\")\n",
      "\u001b[1;31mValueError\u001b[0m: X has 101 features, but DecisionTreeRegressor is expecting 102 features as input."
     ]
    }
   ],
   "source": [
    "# Make predictions on updated test data\n",
    "test_preds = ideal_model.predict(df_test)"
   ]
  },
  {
   "cell_type": "code",
   "execution_count": 122,
   "metadata": {},
   "outputs": [
    {
     "output_type": "execute_result",
     "data": {
      "text/plain": [
       "{'auctioneerID_is_missing'}"
      ]
     },
     "metadata": {},
     "execution_count": 122
    }
   ],
   "source": [
    "# We can find how the columns differ using sets\n",
    "set(X_train.columns) - set(df_test.columns)"
   ]
  },
  {
   "cell_type": "code",
   "execution_count": 123,
   "metadata": {},
   "outputs": [
    {
     "output_type": "execute_result",
     "data": {
      "text/plain": [
       "   SalesID  MachineID  ModelID  datasource  auctioneerID  YearMade  \\\n",
       "0  1227829    1006309     3168         121             3      1999   \n",
       "1  1227844    1022817     7271         121             3      1000   \n",
       "2  1227847    1031560    22805         121             3      2004   \n",
       "3  1227848      56204     1269         121             3      2006   \n",
       "4  1227863    1053887    22312         121             3      2005   \n",
       "\n",
       "   MachineHoursCurrentMeter  UsageBand  fiModelDesc  fiBaseModel  ...  \\\n",
       "0                    3688.0          2          499          180  ...   \n",
       "1                   28555.0          1          831          292  ...   \n",
       "2                    6038.0          3         1177          404  ...   \n",
       "3                    8940.0          1          287          113  ...   \n",
       "4                    2286.0          2          566          196  ...   \n",
       "\n",
       "   Stick_Length_is_missing  Thumb_is_missing  Pattern_Changer_is_missing  \\\n",
       "0                     True              True                        True   \n",
       "1                     True              True                        True   \n",
       "2                    False             False                       False   \n",
       "3                    False             False                       False   \n",
       "4                     True              True                        True   \n",
       "\n",
       "   Grouser_Type_is_missing  Backhoe_Mounting_is_missing  \\\n",
       "0                     True                         True   \n",
       "1                     True                         True   \n",
       "2                    False                         True   \n",
       "3                    False                         True   \n",
       "4                     True                        False   \n",
       "\n",
       "   Blade_Type_is_missing  Travel_Controls_is_missing  \\\n",
       "0                   True                        True   \n",
       "1                   True                        True   \n",
       "2                   True                        True   \n",
       "3                   True                        True   \n",
       "4                  False                       False   \n",
       "\n",
       "   Differential_Type_is_missing  Steering_Controls_is_missing  \\\n",
       "0                          True                          True   \n",
       "1                         False                         False   \n",
       "2                          True                          True   \n",
       "3                          True                          True   \n",
       "4                          True                          True   \n",
       "\n",
       "   auctioneerID_is_missing  \n",
       "0                    False  \n",
       "1                    False  \n",
       "2                    False  \n",
       "3                    False  \n",
       "4                    False  \n",
       "\n",
       "[5 rows x 102 columns]"
      ],
      "text/html": "<div>\n<style scoped>\n    .dataframe tbody tr th:only-of-type {\n        vertical-align: middle;\n    }\n\n    .dataframe tbody tr th {\n        vertical-align: top;\n    }\n\n    .dataframe thead th {\n        text-align: right;\n    }\n</style>\n<table border=\"1\" class=\"dataframe\">\n  <thead>\n    <tr style=\"text-align: right;\">\n      <th></th>\n      <th>SalesID</th>\n      <th>MachineID</th>\n      <th>ModelID</th>\n      <th>datasource</th>\n      <th>auctioneerID</th>\n      <th>YearMade</th>\n      <th>MachineHoursCurrentMeter</th>\n      <th>UsageBand</th>\n      <th>fiModelDesc</th>\n      <th>fiBaseModel</th>\n      <th>...</th>\n      <th>Stick_Length_is_missing</th>\n      <th>Thumb_is_missing</th>\n      <th>Pattern_Changer_is_missing</th>\n      <th>Grouser_Type_is_missing</th>\n      <th>Backhoe_Mounting_is_missing</th>\n      <th>Blade_Type_is_missing</th>\n      <th>Travel_Controls_is_missing</th>\n      <th>Differential_Type_is_missing</th>\n      <th>Steering_Controls_is_missing</th>\n      <th>auctioneerID_is_missing</th>\n    </tr>\n  </thead>\n  <tbody>\n    <tr>\n      <th>0</th>\n      <td>1227829</td>\n      <td>1006309</td>\n      <td>3168</td>\n      <td>121</td>\n      <td>3</td>\n      <td>1999</td>\n      <td>3688.0</td>\n      <td>2</td>\n      <td>499</td>\n      <td>180</td>\n      <td>...</td>\n      <td>True</td>\n      <td>True</td>\n      <td>True</td>\n      <td>True</td>\n      <td>True</td>\n      <td>True</td>\n      <td>True</td>\n      <td>True</td>\n      <td>True</td>\n      <td>False</td>\n    </tr>\n    <tr>\n      <th>1</th>\n      <td>1227844</td>\n      <td>1022817</td>\n      <td>7271</td>\n      <td>121</td>\n      <td>3</td>\n      <td>1000</td>\n      <td>28555.0</td>\n      <td>1</td>\n      <td>831</td>\n      <td>292</td>\n      <td>...</td>\n      <td>True</td>\n      <td>True</td>\n      <td>True</td>\n      <td>True</td>\n      <td>True</td>\n      <td>True</td>\n      <td>True</td>\n      <td>False</td>\n      <td>False</td>\n      <td>False</td>\n    </tr>\n    <tr>\n      <th>2</th>\n      <td>1227847</td>\n      <td>1031560</td>\n      <td>22805</td>\n      <td>121</td>\n      <td>3</td>\n      <td>2004</td>\n      <td>6038.0</td>\n      <td>3</td>\n      <td>1177</td>\n      <td>404</td>\n      <td>...</td>\n      <td>False</td>\n      <td>False</td>\n      <td>False</td>\n      <td>False</td>\n      <td>True</td>\n      <td>True</td>\n      <td>True</td>\n      <td>True</td>\n      <td>True</td>\n      <td>False</td>\n    </tr>\n    <tr>\n      <th>3</th>\n      <td>1227848</td>\n      <td>56204</td>\n      <td>1269</td>\n      <td>121</td>\n      <td>3</td>\n      <td>2006</td>\n      <td>8940.0</td>\n      <td>1</td>\n      <td>287</td>\n      <td>113</td>\n      <td>...</td>\n      <td>False</td>\n      <td>False</td>\n      <td>False</td>\n      <td>False</td>\n      <td>True</td>\n      <td>True</td>\n      <td>True</td>\n      <td>True</td>\n      <td>True</td>\n      <td>False</td>\n    </tr>\n    <tr>\n      <th>4</th>\n      <td>1227863</td>\n      <td>1053887</td>\n      <td>22312</td>\n      <td>121</td>\n      <td>3</td>\n      <td>2005</td>\n      <td>2286.0</td>\n      <td>2</td>\n      <td>566</td>\n      <td>196</td>\n      <td>...</td>\n      <td>True</td>\n      <td>True</td>\n      <td>True</td>\n      <td>True</td>\n      <td>False</td>\n      <td>False</td>\n      <td>False</td>\n      <td>True</td>\n      <td>True</td>\n      <td>False</td>\n    </tr>\n  </tbody>\n</table>\n<p>5 rows × 102 columns</p>\n</div>"
     },
     "metadata": {},
     "execution_count": 123
    }
   ],
   "source": [
    "# Manually adjust df_test to have autioneerID_is_missing column\n",
    "df_test['auctioneerID_is_missing'] = False\n",
    "df_test.head()"
   ]
  },
  {
   "source": [
    "### Finally now our test datafaame has the same features as our trainning dataframe, we can make predictions!"
   ],
   "cell_type": "markdown",
   "metadata": {}
  },
  {
   "cell_type": "code",
   "execution_count": 124,
   "metadata": {},
   "outputs": [],
   "source": [
    "# Make predictions on the test data \n",
    "test_preds = ideal_model.predict(df_test)"
   ]
  },
  {
   "source": [
    "### Finally now ort test datafame has the same features as our training dataframe, we can make predictions!"
   ],
   "cell_type": "markdown",
   "metadata": {}
  },
  {
   "cell_type": "code",
   "execution_count": 125,
   "metadata": {},
   "outputs": [],
   "source": [
    "# Make predictions on the test data\n",
    "test_preds = ideal_model.predict(df_test)"
   ]
  },
  {
   "source": [
    "### We've made some predictions but they're not in the same format KAggle is asking for:\n",
    "https://www.kaggle.com/c/bluebook-for-bulldozers/overview"
   ],
   "cell_type": "markdown",
   "metadata": {}
  },
  {
   "cell_type": "code",
   "execution_count": 126,
   "metadata": {},
   "outputs": [
    {
     "output_type": "execute_result",
     "data": {
      "text/plain": [
       "       SalesID    SalesPrice\n",
       "0      1227829  22992.668430\n",
       "1      1227844  34346.518399\n",
       "2      1227847  36772.492108\n",
       "3      1227848  38205.853828\n",
       "4      1227863  33009.006997\n",
       "...        ...           ...\n",
       "12452  6643171  39550.026383\n",
       "12453  6643173  32344.105059\n",
       "12454  6643184  31466.933751\n",
       "12455  6643186  34342.883143\n",
       "12456  6643196  38960.981969\n",
       "\n",
       "[12457 rows x 2 columns]"
      ],
      "text/html": "<div>\n<style scoped>\n    .dataframe tbody tr th:only-of-type {\n        vertical-align: middle;\n    }\n\n    .dataframe tbody tr th {\n        vertical-align: top;\n    }\n\n    .dataframe thead th {\n        text-align: right;\n    }\n</style>\n<table border=\"1\" class=\"dataframe\">\n  <thead>\n    <tr style=\"text-align: right;\">\n      <th></th>\n      <th>SalesID</th>\n      <th>SalesPrice</th>\n    </tr>\n  </thead>\n  <tbody>\n    <tr>\n      <th>0</th>\n      <td>1227829</td>\n      <td>22992.668430</td>\n    </tr>\n    <tr>\n      <th>1</th>\n      <td>1227844</td>\n      <td>34346.518399</td>\n    </tr>\n    <tr>\n      <th>2</th>\n      <td>1227847</td>\n      <td>36772.492108</td>\n    </tr>\n    <tr>\n      <th>3</th>\n      <td>1227848</td>\n      <td>38205.853828</td>\n    </tr>\n    <tr>\n      <th>4</th>\n      <td>1227863</td>\n      <td>33009.006997</td>\n    </tr>\n    <tr>\n      <th>...</th>\n      <td>...</td>\n      <td>...</td>\n    </tr>\n    <tr>\n      <th>12452</th>\n      <td>6643171</td>\n      <td>39550.026383</td>\n    </tr>\n    <tr>\n      <th>12453</th>\n      <td>6643173</td>\n      <td>32344.105059</td>\n    </tr>\n    <tr>\n      <th>12454</th>\n      <td>6643184</td>\n      <td>31466.933751</td>\n    </tr>\n    <tr>\n      <th>12455</th>\n      <td>6643186</td>\n      <td>34342.883143</td>\n    </tr>\n    <tr>\n      <th>12456</th>\n      <td>6643196</td>\n      <td>38960.981969</td>\n    </tr>\n  </tbody>\n</table>\n<p>12457 rows × 2 columns</p>\n</div>"
     },
     "metadata": {},
     "execution_count": 126
    }
   ],
   "source": [
    "# Format predictions into the same format Kaggle is after\n",
    "df_preds = pd.DataFrame()\n",
    "df_preds[\"SalesID\"] = df_test[\"SalesID\"]\n",
    "df_preds[\"SalesPrice\"] = test_preds\n",
    "df_preds"
   ]
  },
  {
   "cell_type": "code",
   "execution_count": 127,
   "metadata": {},
   "outputs": [],
   "source": [
    "# Export predicitons data\n",
    "df_preds.to_csv('./test_predicitons.csv', index=False)"
   ]
  },
  {
   "source": [
    "###  Feature importance\n",
    "\n",
    "Feature importance seeks to figure out which different attributes of the data were most importance when it comes to predicting the target variable (SalePrice)."
   ],
   "cell_type": "markdown",
   "metadata": {}
  },
  {
   "cell_type": "code",
   "execution_count": 128,
   "metadata": {},
   "outputs": [
    {
     "output_type": "execute_result",
     "data": {
      "text/plain": [
       "array([3.39741891e-02, 3.17969469e-02, 4.84040910e-02, 5.48225360e-03,\n",
       "       7.71068225e-03, 8.21521597e-02, 1.02997745e-02, 5.65727314e-03,\n",
       "       4.81870311e-02, 3.85976605e-02, 6.84686302e-02, 1.32931979e-02,\n",
       "       2.09550098e-02, 5.12392642e-02, 4.23176001e-02, 9.18879796e-03,\n",
       "       8.99914046e-03, 4.98543175e-03, 5.68508469e-03, 4.02784694e-02,\n",
       "       8.99608745e-03, 3.26519620e-03, 1.29634662e-02, 5.89825658e-03,\n",
       "       6.86624029e-03, 4.13417419e-03, 2.73246699e-03, 2.55742031e-03,\n",
       "       4.58214530e-03, 4.75213450e-03, 8.10882665e-03, 5.44908697e-03,\n",
       "       9.43930501e-03, 8.79856443e-04, 5.75618844e-03, 4.88474484e-03,\n",
       "       4.63795353e-03, 1.04758071e-02, 1.93461828e-02, 2.15778950e-03,\n",
       "       9.60681746e-03, 3.76858736e-03, 7.93206808e-03, 3.56284929e-03,\n",
       "       3.43905113e-03, 4.65564640e-03, 3.10163472e-03, 8.25475617e-03,\n",
       "       7.93056344e-03, 1.43005989e-03, 1.78549684e-03, 1.94417861e-02,\n",
       "       6.36132142e-03, 7.76104208e-03, 6.17344209e-03, 9.95507975e-03,\n",
       "       8.51568079e-04, 3.85815445e-03, 3.58105590e-03, 0.00000000e+00,\n",
       "       0.00000000e+00, 1.82127475e-02, 6.07736766e-03, 2.13414440e-02,\n",
       "       1.80362803e-02, 0.00000000e+00, 0.00000000e+00, 0.00000000e+00,\n",
       "       0.00000000e+00, 3.44495006e-03, 4.44822789e-05, 2.61363820e-03,\n",
       "       1.19844688e-03, 1.24763282e-03, 5.26077435e-03, 9.70023293e-04,\n",
       "       6.95940059e-03, 5.26033318e-03, 2.55491434e-03, 6.32596365e-03,\n",
       "       1.76710203e-03, 4.90132023e-03, 3.23377849e-03, 4.68872473e-03,\n",
       "       3.68241675e-03, 6.87978909e-03, 5.82864661e-03, 1.48222955e-03,\n",
       "       7.58734453e-03, 1.00759347e-02, 5.42627760e-03, 1.28284563e-03,\n",
       "       4.27811179e-03, 1.67553596e-03, 1.37714417e-03, 1.88818957e-03,\n",
       "       2.23343985e-03, 1.10876660e-03, 5.80516642e-04, 1.60567781e-03,\n",
       "       5.40523253e-03, 4.45557807e-03])"
      ]
     },
     "metadata": {},
     "execution_count": 128
    }
   ],
   "source": [
    "ideal_model.feature_importances_"
   ]
  },
  {
   "cell_type": "code",
   "execution_count": 133,
   "metadata": {},
   "outputs": [
    {
     "output_type": "execute_result",
     "data": {
      "text/plain": [
       "Index(['SalesID', 'MachineID', 'ModelID', 'datasource', 'auctioneerID',\n",
       "       'YearMade', 'MachineHoursCurrentMeter', 'UsageBand', 'fiModelDesc',\n",
       "       'fiBaseModel',\n",
       "       ...\n",
       "       'Undercarriage_Pad_Width_is_missing', 'Stick_Length_is_missing',\n",
       "       'Thumb_is_missing', 'Pattern_Changer_is_missing',\n",
       "       'Grouser_Type_is_missing', 'Backhoe_Mounting_is_missing',\n",
       "       'Blade_Type_is_missing', 'Travel_Controls_is_missing',\n",
       "       'Differential_Type_is_missing', 'Steering_Controls_is_missing'],\n",
       "      dtype='object', length=102)"
      ]
     },
     "metadata": {},
     "execution_count": 133
    }
   ],
   "source": [
    "X_train.columns"
   ]
  },
  {
   "cell_type": "code",
   "execution_count": 139,
   "metadata": {},
   "outputs": [],
   "source": [
    "# Helper funciton for plotting feature importance\n",
    "def plot_features(columns, importances, n=20):\n",
    "    df = (pd.DataFrame({\"features\": columns, \"feature_importances\": importances})\n",
    "    .sort_values(\"feature_importances\", ascending=False)\n",
    "    .reset_index(drop=True))\n",
    "\n",
    "    # Plot the dataframe\n",
    "    fig, ax = plt.subplots()\n",
    "    ax.barh(df['features'][:n], df['feature_importances'][:20])\n",
    "    ax.set_ylabel(\"Features\")\n",
    "    ax.set_xlabel(\"Feature importance\")\n",
    "    ax.invert_yaxis()"
   ]
  },
  {
   "cell_type": "code",
   "execution_count": 140,
   "metadata": {},
   "outputs": [
    {
     "output_type": "display_data",
     "data": {
      "text/plain": "<Figure size 432x288 with 1 Axes>",
      "image/svg+xml": "<?xml version=\"1.0\" encoding=\"utf-8\" standalone=\"no\"?>\r\n<!DOCTYPE svg PUBLIC \"-//W3C//DTD SVG 1.1//EN\"\r\n  \"http://www.w3.org/Graphics/SVG/1.1/DTD/svg11.dtd\">\r\n<!-- Created with matplotlib (https://matplotlib.org/) -->\r\n<svg height=\"262.19625pt\" version=\"1.1\" viewBox=\"0 0 514.540625 262.19625\" width=\"514.540625pt\" xmlns=\"http://www.w3.org/2000/svg\" xmlns:xlink=\"http://www.w3.org/1999/xlink\">\r\n <metadata>\r\n  <rdf:RDF xmlns:cc=\"http://creativecommons.org/ns#\" xmlns:dc=\"http://purl.org/dc/elements/1.1/\" xmlns:rdf=\"http://www.w3.org/1999/02/22-rdf-syntax-ns#\">\r\n   <cc:Work>\r\n    <dc:type rdf:resource=\"http://purl.org/dc/dcmitype/StillImage\"/>\r\n    <dc:date>2021-05-02T13:48:51.133452</dc:date>\r\n    <dc:format>image/svg+xml</dc:format>\r\n    <dc:creator>\r\n     <cc:Agent>\r\n      <dc:title>Matplotlib v3.3.4, https://matplotlib.org/</dc:title>\r\n     </cc:Agent>\r\n    </dc:creator>\r\n   </cc:Work>\r\n  </rdf:RDF>\r\n </metadata>\r\n <defs>\r\n  <style type=\"text/css\">*{stroke-linecap:butt;stroke-linejoin:round;}</style>\r\n </defs>\r\n <g id=\"figure_1\">\r\n  <g id=\"patch_1\">\r\n   <path d=\"M 0 262.19625 \r\nL 514.540625 262.19625 \r\nL 514.540625 0 \r\nL 0 0 \r\nz\r\n\" style=\"fill:none;\"/>\r\n  </g>\r\n  <g id=\"axes_1\">\r\n   <g id=\"patch_2\">\r\n    <path d=\"M 172.540625 224.64 \r\nL 507.340625 224.64 \r\nL 507.340625 7.2 \r\nL 172.540625 7.2 \r\nz\r\n\" style=\"fill:#ffffff;\"/>\r\n   </g>\r\n   <g id=\"patch_3\">\r\n    <path clip-path=\"url(#p029122f0c2)\" d=\"M 172.540625 17.083636 \r\nL 491.397768 17.083636 \r\nL 491.397768 25.070413 \r\nL 172.540625 25.070413 \r\nz\r\n\" style=\"fill:#1f77b4;\"/>\r\n   </g>\r\n   <g id=\"patch_4\">\r\n    <path clip-path=\"url(#p029122f0c2)\" d=\"M 172.540625 27.067107 \r\nL 438.287891 27.067107 \r\nL 438.287891 35.053884 \r\nL 172.540625 35.053884 \r\nz\r\n\" style=\"fill:#1f77b4;\"/>\r\n   </g>\r\n   <g id=\"patch_5\">\r\n    <path clip-path=\"url(#p029122f0c2)\" d=\"M 172.540625 37.050579 \r\nL 371.41556 37.050579 \r\nL 371.41556 45.037355 \r\nL 172.540625 45.037355 \r\nz\r\n\" style=\"fill:#1f77b4;\"/>\r\n   </g>\r\n   <g id=\"patch_6\">\r\n    <path clip-path=\"url(#p029122f0c2)\" d=\"M 172.540625 47.03405 \r\nL 360.411403 47.03405 \r\nL 360.411403 55.020826 \r\nL 172.540625 55.020826 \r\nz\r\n\" style=\"fill:#1f77b4;\"/>\r\n   </g>\r\n   <g id=\"patch_7\">\r\n    <path clip-path=\"url(#p029122f0c2)\" d=\"M 172.540625 57.017521 \r\nL 359.568928 57.017521 \r\nL 359.568928 65.004298 \r\nL 172.540625 65.004298 \r\nz\r\n\" style=\"fill:#1f77b4;\"/>\r\n   </g>\r\n   <g id=\"patch_8\">\r\n    <path clip-path=\"url(#p029122f0c2)\" d=\"M 172.540625 67.000992 \r\nL 336.787908 67.000992 \r\nL 336.787908 74.987769 \r\nL 172.540625 74.987769 \r\nz\r\n\" style=\"fill:#1f77b4;\"/>\r\n   </g>\r\n   <g id=\"patch_9\">\r\n    <path clip-path=\"url(#p029122f0c2)\" d=\"M 172.540625 76.984463 \r\nL 328.873431 76.984463 \r\nL 328.873431 84.97124 \r\nL 172.540625 84.97124 \r\nz\r\n\" style=\"fill:#1f77b4;\"/>\r\n   </g>\r\n   <g id=\"patch_10\">\r\n    <path clip-path=\"url(#p029122f0c2)\" d=\"M 172.540625 86.967934 \r\nL 322.349708 86.967934 \r\nL 322.349708 94.954711 \r\nL 172.540625 94.954711 \r\nz\r\n\" style=\"fill:#1f77b4;\"/>\r\n   </g>\r\n   <g id=\"patch_11\">\r\n    <path clip-path=\"url(#p029122f0c2)\" d=\"M 172.540625 96.951405 \r\nL 304.404631 96.951405 \r\nL 304.404631 104.938182 \r\nL 172.540625 104.938182 \r\nz\r\n\" style=\"fill:#1f77b4;\"/>\r\n   </g>\r\n   <g id=\"patch_12\">\r\n    <path clip-path=\"url(#p029122f0c2)\" d=\"M 172.540625 106.934876 \r\nL 295.954101 106.934876 \r\nL 295.954101 114.921653 \r\nL 172.540625 114.921653 \r\nz\r\n\" style=\"fill:#1f77b4;\"/>\r\n   </g>\r\n   <g id=\"patch_13\">\r\n    <path clip-path=\"url(#p029122f0c2)\" d=\"M 172.540625 116.918347 \r\nL 255.373163 116.918347 \r\nL 255.373163 124.905124 \r\nL 172.540625 124.905124 \r\nz\r\n\" style=\"fill:#1f77b4;\"/>\r\n   </g>\r\n   <g id=\"patch_14\">\r\n    <path clip-path=\"url(#p029122f0c2)\" d=\"M 172.540625 126.901818 \r\nL 253.873296 126.901818 \r\nL 253.873296 134.888595 \r\nL 172.540625 134.888595 \r\nz\r\n\" style=\"fill:#1f77b4;\"/>\r\n   </g>\r\n   <g id=\"patch_15\">\r\n    <path clip-path=\"url(#p029122f0c2)\" d=\"M 172.540625 136.885289 \r\nL 248.000021 136.885289 \r\nL 248.000021 144.872066 \r\nL 172.540625 144.872066 \r\nz\r\n\" style=\"fill:#1f77b4;\"/>\r\n   </g>\r\n   <g id=\"patch_16\">\r\n    <path clip-path=\"url(#p029122f0c2)\" d=\"M 172.540625 146.86876 \r\nL 247.628956 146.86876 \r\nL 247.628956 154.855537 \r\nL 172.540625 154.855537 \r\nz\r\n\" style=\"fill:#1f77b4;\"/>\r\n   </g>\r\n   <g id=\"patch_17\">\r\n    <path clip-path=\"url(#p029122f0c2)\" d=\"M 172.540625 156.852231 \r\nL 243.229754 156.852231 \r\nL 243.229754 164.839008 \r\nL 172.540625 164.839008 \r\nz\r\n\" style=\"fill:#1f77b4;\"/>\r\n   </g>\r\n   <g id=\"patch_18\">\r\n    <path clip-path=\"url(#p029122f0c2)\" d=\"M 172.540625 166.835702 \r\nL 242.544832 166.835702 \r\nL 242.544832 174.822479 \r\nL 172.540625 174.822479 \r\nz\r\n\" style=\"fill:#1f77b4;\"/>\r\n   </g>\r\n   <g id=\"patch_19\">\r\n    <path clip-path=\"url(#p029122f0c2)\" d=\"M 172.540625 176.819174 \r\nL 224.135508 176.819174 \r\nL 224.135508 184.80595 \r\nL 172.540625 184.80595 \r\nz\r\n\" style=\"fill:#1f77b4;\"/>\r\n   </g>\r\n   <g id=\"patch_20\">\r\n    <path clip-path=\"url(#p029122f0c2)\" d=\"M 172.540625 186.802645 \r\nL 222.855721 186.802645 \r\nL 222.855721 194.789421 \r\nL 172.540625 194.789421 \r\nz\r\n\" style=\"fill:#1f77b4;\"/>\r\n   </g>\r\n   <g id=\"patch_21\">\r\n    <path clip-path=\"url(#p029122f0c2)\" d=\"M 172.540625 196.786116 \r\nL 213.200371 196.786116 \r\nL 213.200371 204.772893 \r\nL 172.540625 204.772893 \r\nz\r\n\" style=\"fill:#1f77b4;\"/>\r\n   </g>\r\n   <g id=\"patch_22\">\r\n    <path clip-path=\"url(#p029122f0c2)\" d=\"M 172.540625 206.769587 \r\nL 212.517135 206.769587 \r\nL 212.517135 214.756364 \r\nL 172.540625 214.756364 \r\nz\r\n\" style=\"fill:#1f77b4;\"/>\r\n   </g>\r\n   <g id=\"matplotlib.axis_1\">\r\n    <g id=\"xtick_1\">\r\n     <g id=\"line2d_1\">\r\n      <defs>\r\n       <path d=\"M 0 0 \r\nL 0 3.5 \r\n\" id=\"m2ca83a1122\" style=\"stroke:#000000;stroke-width:0.8;\"/>\r\n      </defs>\r\n      <g>\r\n       <use style=\"stroke:#000000;stroke-width:0.8;\" x=\"172.540625\" xlink:href=\"#m2ca83a1122\" y=\"224.64\"/>\r\n      </g>\r\n     </g>\r\n     <g id=\"text_1\">\r\n      <!-- 0.00 -->\r\n      <g transform=\"translate(161.407813 239.238437)scale(0.1 -0.1)\">\r\n       <defs>\r\n        <path d=\"M 31.78125 66.40625 \r\nQ 24.171875 66.40625 20.328125 58.90625 \r\nQ 16.5 51.421875 16.5 36.375 \r\nQ 16.5 21.390625 20.328125 13.890625 \r\nQ 24.171875 6.390625 31.78125 6.390625 \r\nQ 39.453125 6.390625 43.28125 13.890625 \r\nQ 47.125 21.390625 47.125 36.375 \r\nQ 47.125 51.421875 43.28125 58.90625 \r\nQ 39.453125 66.40625 31.78125 66.40625 \r\nz\r\nM 31.78125 74.21875 \r\nQ 44.046875 74.21875 50.515625 64.515625 \r\nQ 56.984375 54.828125 56.984375 36.375 \r\nQ 56.984375 17.96875 50.515625 8.265625 \r\nQ 44.046875 -1.421875 31.78125 -1.421875 \r\nQ 19.53125 -1.421875 13.0625 8.265625 \r\nQ 6.59375 17.96875 6.59375 36.375 \r\nQ 6.59375 54.828125 13.0625 64.515625 \r\nQ 19.53125 74.21875 31.78125 74.21875 \r\nz\r\n\" id=\"DejaVuSans-48\"/>\r\n        <path d=\"M 10.6875 12.40625 \r\nL 21 12.40625 \r\nL 21 0 \r\nL 10.6875 0 \r\nz\r\n\" id=\"DejaVuSans-46\"/>\r\n       </defs>\r\n       <use xlink:href=\"#DejaVuSans-48\"/>\r\n       <use x=\"63.623047\" xlink:href=\"#DejaVuSans-46\"/>\r\n       <use x=\"95.410156\" xlink:href=\"#DejaVuSans-48\"/>\r\n       <use x=\"159.033203\" xlink:href=\"#DejaVuSans-48\"/>\r\n      </g>\r\n     </g>\r\n    </g>\r\n    <g id=\"xtick_2\">\r\n     <g id=\"line2d_2\">\r\n      <g>\r\n       <use style=\"stroke:#000000;stroke-width:0.8;\" x=\"211.353621\" xlink:href=\"#m2ca83a1122\" y=\"224.64\"/>\r\n      </g>\r\n     </g>\r\n     <g id=\"text_2\">\r\n      <!-- 0.01 -->\r\n      <g transform=\"translate(200.220808 239.238437)scale(0.1 -0.1)\">\r\n       <defs>\r\n        <path d=\"M 12.40625 8.296875 \r\nL 28.515625 8.296875 \r\nL 28.515625 63.921875 \r\nL 10.984375 60.40625 \r\nL 10.984375 69.390625 \r\nL 28.421875 72.90625 \r\nL 38.28125 72.90625 \r\nL 38.28125 8.296875 \r\nL 54.390625 8.296875 \r\nL 54.390625 0 \r\nL 12.40625 0 \r\nz\r\n\" id=\"DejaVuSans-49\"/>\r\n       </defs>\r\n       <use xlink:href=\"#DejaVuSans-48\"/>\r\n       <use x=\"63.623047\" xlink:href=\"#DejaVuSans-46\"/>\r\n       <use x=\"95.410156\" xlink:href=\"#DejaVuSans-48\"/>\r\n       <use x=\"159.033203\" xlink:href=\"#DejaVuSans-49\"/>\r\n      </g>\r\n     </g>\r\n    </g>\r\n    <g id=\"xtick_3\">\r\n     <g id=\"line2d_3\">\r\n      <g>\r\n       <use style=\"stroke:#000000;stroke-width:0.8;\" x=\"250.166617\" xlink:href=\"#m2ca83a1122\" y=\"224.64\"/>\r\n      </g>\r\n     </g>\r\n     <g id=\"text_3\">\r\n      <!-- 0.02 -->\r\n      <g transform=\"translate(239.033804 239.238437)scale(0.1 -0.1)\">\r\n       <defs>\r\n        <path d=\"M 19.1875 8.296875 \r\nL 53.609375 8.296875 \r\nL 53.609375 0 \r\nL 7.328125 0 \r\nL 7.328125 8.296875 \r\nQ 12.9375 14.109375 22.625 23.890625 \r\nQ 32.328125 33.6875 34.8125 36.53125 \r\nQ 39.546875 41.84375 41.421875 45.53125 \r\nQ 43.3125 49.21875 43.3125 52.78125 \r\nQ 43.3125 58.59375 39.234375 62.25 \r\nQ 35.15625 65.921875 28.609375 65.921875 \r\nQ 23.96875 65.921875 18.8125 64.3125 \r\nQ 13.671875 62.703125 7.8125 59.421875 \r\nL 7.8125 69.390625 \r\nQ 13.765625 71.78125 18.9375 73 \r\nQ 24.125 74.21875 28.421875 74.21875 \r\nQ 39.75 74.21875 46.484375 68.546875 \r\nQ 53.21875 62.890625 53.21875 53.421875 \r\nQ 53.21875 48.921875 51.53125 44.890625 \r\nQ 49.859375 40.875 45.40625 35.40625 \r\nQ 44.1875 33.984375 37.640625 27.21875 \r\nQ 31.109375 20.453125 19.1875 8.296875 \r\nz\r\n\" id=\"DejaVuSans-50\"/>\r\n       </defs>\r\n       <use xlink:href=\"#DejaVuSans-48\"/>\r\n       <use x=\"63.623047\" xlink:href=\"#DejaVuSans-46\"/>\r\n       <use x=\"95.410156\" xlink:href=\"#DejaVuSans-48\"/>\r\n       <use x=\"159.033203\" xlink:href=\"#DejaVuSans-50\"/>\r\n      </g>\r\n     </g>\r\n    </g>\r\n    <g id=\"xtick_4\">\r\n     <g id=\"line2d_4\">\r\n      <g>\r\n       <use style=\"stroke:#000000;stroke-width:0.8;\" x=\"288.979612\" xlink:href=\"#m2ca83a1122\" y=\"224.64\"/>\r\n      </g>\r\n     </g>\r\n     <g id=\"text_4\">\r\n      <!-- 0.03 -->\r\n      <g transform=\"translate(277.8468 239.238437)scale(0.1 -0.1)\">\r\n       <defs>\r\n        <path d=\"M 40.578125 39.3125 \r\nQ 47.65625 37.796875 51.625 33 \r\nQ 55.609375 28.21875 55.609375 21.1875 \r\nQ 55.609375 10.40625 48.1875 4.484375 \r\nQ 40.765625 -1.421875 27.09375 -1.421875 \r\nQ 22.515625 -1.421875 17.65625 -0.515625 \r\nQ 12.796875 0.390625 7.625 2.203125 \r\nL 7.625 11.71875 \r\nQ 11.71875 9.328125 16.59375 8.109375 \r\nQ 21.484375 6.890625 26.8125 6.890625 \r\nQ 36.078125 6.890625 40.9375 10.546875 \r\nQ 45.796875 14.203125 45.796875 21.1875 \r\nQ 45.796875 27.640625 41.28125 31.265625 \r\nQ 36.765625 34.90625 28.71875 34.90625 \r\nL 20.21875 34.90625 \r\nL 20.21875 43.015625 \r\nL 29.109375 43.015625 \r\nQ 36.375 43.015625 40.234375 45.921875 \r\nQ 44.09375 48.828125 44.09375 54.296875 \r\nQ 44.09375 59.90625 40.109375 62.90625 \r\nQ 36.140625 65.921875 28.71875 65.921875 \r\nQ 24.65625 65.921875 20.015625 65.03125 \r\nQ 15.375 64.15625 9.8125 62.3125 \r\nL 9.8125 71.09375 \r\nQ 15.4375 72.65625 20.34375 73.4375 \r\nQ 25.25 74.21875 29.59375 74.21875 \r\nQ 40.828125 74.21875 47.359375 69.109375 \r\nQ 53.90625 64.015625 53.90625 55.328125 \r\nQ 53.90625 49.265625 50.4375 45.09375 \r\nQ 46.96875 40.921875 40.578125 39.3125 \r\nz\r\n\" id=\"DejaVuSans-51\"/>\r\n       </defs>\r\n       <use xlink:href=\"#DejaVuSans-48\"/>\r\n       <use x=\"63.623047\" xlink:href=\"#DejaVuSans-46\"/>\r\n       <use x=\"95.410156\" xlink:href=\"#DejaVuSans-48\"/>\r\n       <use x=\"159.033203\" xlink:href=\"#DejaVuSans-51\"/>\r\n      </g>\r\n     </g>\r\n    </g>\r\n    <g id=\"xtick_5\">\r\n     <g id=\"line2d_5\">\r\n      <g>\r\n       <use style=\"stroke:#000000;stroke-width:0.8;\" x=\"327.792608\" xlink:href=\"#m2ca83a1122\" y=\"224.64\"/>\r\n      </g>\r\n     </g>\r\n     <g id=\"text_5\">\r\n      <!-- 0.04 -->\r\n      <g transform=\"translate(316.659796 239.238437)scale(0.1 -0.1)\">\r\n       <defs>\r\n        <path d=\"M 37.796875 64.3125 \r\nL 12.890625 25.390625 \r\nL 37.796875 25.390625 \r\nz\r\nM 35.203125 72.90625 \r\nL 47.609375 72.90625 \r\nL 47.609375 25.390625 \r\nL 58.015625 25.390625 \r\nL 58.015625 17.1875 \r\nL 47.609375 17.1875 \r\nL 47.609375 0 \r\nL 37.796875 0 \r\nL 37.796875 17.1875 \r\nL 4.890625 17.1875 \r\nL 4.890625 26.703125 \r\nz\r\n\" id=\"DejaVuSans-52\"/>\r\n       </defs>\r\n       <use xlink:href=\"#DejaVuSans-48\"/>\r\n       <use x=\"63.623047\" xlink:href=\"#DejaVuSans-46\"/>\r\n       <use x=\"95.410156\" xlink:href=\"#DejaVuSans-48\"/>\r\n       <use x=\"159.033203\" xlink:href=\"#DejaVuSans-52\"/>\r\n      </g>\r\n     </g>\r\n    </g>\r\n    <g id=\"xtick_6\">\r\n     <g id=\"line2d_6\">\r\n      <g>\r\n       <use style=\"stroke:#000000;stroke-width:0.8;\" x=\"366.605604\" xlink:href=\"#m2ca83a1122\" y=\"224.64\"/>\r\n      </g>\r\n     </g>\r\n     <g id=\"text_6\">\r\n      <!-- 0.05 -->\r\n      <g transform=\"translate(355.472792 239.238437)scale(0.1 -0.1)\">\r\n       <defs>\r\n        <path d=\"M 10.796875 72.90625 \r\nL 49.515625 72.90625 \r\nL 49.515625 64.59375 \r\nL 19.828125 64.59375 \r\nL 19.828125 46.734375 \r\nQ 21.96875 47.46875 24.109375 47.828125 \r\nQ 26.265625 48.1875 28.421875 48.1875 \r\nQ 40.625 48.1875 47.75 41.5 \r\nQ 54.890625 34.8125 54.890625 23.390625 \r\nQ 54.890625 11.625 47.5625 5.09375 \r\nQ 40.234375 -1.421875 26.90625 -1.421875 \r\nQ 22.3125 -1.421875 17.546875 -0.640625 \r\nQ 12.796875 0.140625 7.71875 1.703125 \r\nL 7.71875 11.625 \r\nQ 12.109375 9.234375 16.796875 8.0625 \r\nQ 21.484375 6.890625 26.703125 6.890625 \r\nQ 35.15625 6.890625 40.078125 11.328125 \r\nQ 45.015625 15.765625 45.015625 23.390625 \r\nQ 45.015625 31 40.078125 35.4375 \r\nQ 35.15625 39.890625 26.703125 39.890625 \r\nQ 22.75 39.890625 18.8125 39.015625 \r\nQ 14.890625 38.140625 10.796875 36.28125 \r\nz\r\n\" id=\"DejaVuSans-53\"/>\r\n       </defs>\r\n       <use xlink:href=\"#DejaVuSans-48\"/>\r\n       <use x=\"63.623047\" xlink:href=\"#DejaVuSans-46\"/>\r\n       <use x=\"95.410156\" xlink:href=\"#DejaVuSans-48\"/>\r\n       <use x=\"159.033203\" xlink:href=\"#DejaVuSans-53\"/>\r\n      </g>\r\n     </g>\r\n    </g>\r\n    <g id=\"xtick_7\">\r\n     <g id=\"line2d_7\">\r\n      <g>\r\n       <use style=\"stroke:#000000;stroke-width:0.8;\" x=\"405.4186\" xlink:href=\"#m2ca83a1122\" y=\"224.64\"/>\r\n      </g>\r\n     </g>\r\n     <g id=\"text_7\">\r\n      <!-- 0.06 -->\r\n      <g transform=\"translate(394.285787 239.238437)scale(0.1 -0.1)\">\r\n       <defs>\r\n        <path d=\"M 33.015625 40.375 \r\nQ 26.375 40.375 22.484375 35.828125 \r\nQ 18.609375 31.296875 18.609375 23.390625 \r\nQ 18.609375 15.53125 22.484375 10.953125 \r\nQ 26.375 6.390625 33.015625 6.390625 \r\nQ 39.65625 6.390625 43.53125 10.953125 \r\nQ 47.40625 15.53125 47.40625 23.390625 \r\nQ 47.40625 31.296875 43.53125 35.828125 \r\nQ 39.65625 40.375 33.015625 40.375 \r\nz\r\nM 52.59375 71.296875 \r\nL 52.59375 62.3125 \r\nQ 48.875 64.0625 45.09375 64.984375 \r\nQ 41.3125 65.921875 37.59375 65.921875 \r\nQ 27.828125 65.921875 22.671875 59.328125 \r\nQ 17.53125 52.734375 16.796875 39.40625 \r\nQ 19.671875 43.65625 24.015625 45.921875 \r\nQ 28.375 48.1875 33.59375 48.1875 \r\nQ 44.578125 48.1875 50.953125 41.515625 \r\nQ 57.328125 34.859375 57.328125 23.390625 \r\nQ 57.328125 12.15625 50.6875 5.359375 \r\nQ 44.046875 -1.421875 33.015625 -1.421875 \r\nQ 20.359375 -1.421875 13.671875 8.265625 \r\nQ 6.984375 17.96875 6.984375 36.375 \r\nQ 6.984375 53.65625 15.1875 63.9375 \r\nQ 23.390625 74.21875 37.203125 74.21875 \r\nQ 40.921875 74.21875 44.703125 73.484375 \r\nQ 48.484375 72.75 52.59375 71.296875 \r\nz\r\n\" id=\"DejaVuSans-54\"/>\r\n       </defs>\r\n       <use xlink:href=\"#DejaVuSans-48\"/>\r\n       <use x=\"63.623047\" xlink:href=\"#DejaVuSans-46\"/>\r\n       <use x=\"95.410156\" xlink:href=\"#DejaVuSans-48\"/>\r\n       <use x=\"159.033203\" xlink:href=\"#DejaVuSans-54\"/>\r\n      </g>\r\n     </g>\r\n    </g>\r\n    <g id=\"xtick_8\">\r\n     <g id=\"line2d_8\">\r\n      <g>\r\n       <use style=\"stroke:#000000;stroke-width:0.8;\" x=\"444.231596\" xlink:href=\"#m2ca83a1122\" y=\"224.64\"/>\r\n      </g>\r\n     </g>\r\n     <g id=\"text_8\">\r\n      <!-- 0.07 -->\r\n      <g transform=\"translate(433.098783 239.238437)scale(0.1 -0.1)\">\r\n       <defs>\r\n        <path d=\"M 8.203125 72.90625 \r\nL 55.078125 72.90625 \r\nL 55.078125 68.703125 \r\nL 28.609375 0 \r\nL 18.3125 0 \r\nL 43.21875 64.59375 \r\nL 8.203125 64.59375 \r\nz\r\n\" id=\"DejaVuSans-55\"/>\r\n       </defs>\r\n       <use xlink:href=\"#DejaVuSans-48\"/>\r\n       <use x=\"63.623047\" xlink:href=\"#DejaVuSans-46\"/>\r\n       <use x=\"95.410156\" xlink:href=\"#DejaVuSans-48\"/>\r\n       <use x=\"159.033203\" xlink:href=\"#DejaVuSans-55\"/>\r\n      </g>\r\n     </g>\r\n    </g>\r\n    <g id=\"xtick_9\">\r\n     <g id=\"line2d_9\">\r\n      <g>\r\n       <use style=\"stroke:#000000;stroke-width:0.8;\" x=\"483.044591\" xlink:href=\"#m2ca83a1122\" y=\"224.64\"/>\r\n      </g>\r\n     </g>\r\n     <g id=\"text_9\">\r\n      <!-- 0.08 -->\r\n      <g transform=\"translate(471.911779 239.238437)scale(0.1 -0.1)\">\r\n       <defs>\r\n        <path d=\"M 31.78125 34.625 \r\nQ 24.75 34.625 20.71875 30.859375 \r\nQ 16.703125 27.09375 16.703125 20.515625 \r\nQ 16.703125 13.921875 20.71875 10.15625 \r\nQ 24.75 6.390625 31.78125 6.390625 \r\nQ 38.8125 6.390625 42.859375 10.171875 \r\nQ 46.921875 13.96875 46.921875 20.515625 \r\nQ 46.921875 27.09375 42.890625 30.859375 \r\nQ 38.875 34.625 31.78125 34.625 \r\nz\r\nM 21.921875 38.8125 \r\nQ 15.578125 40.375 12.03125 44.71875 \r\nQ 8.5 49.078125 8.5 55.328125 \r\nQ 8.5 64.0625 14.71875 69.140625 \r\nQ 20.953125 74.21875 31.78125 74.21875 \r\nQ 42.671875 74.21875 48.875 69.140625 \r\nQ 55.078125 64.0625 55.078125 55.328125 \r\nQ 55.078125 49.078125 51.53125 44.71875 \r\nQ 48 40.375 41.703125 38.8125 \r\nQ 48.828125 37.15625 52.796875 32.3125 \r\nQ 56.78125 27.484375 56.78125 20.515625 \r\nQ 56.78125 9.90625 50.3125 4.234375 \r\nQ 43.84375 -1.421875 31.78125 -1.421875 \r\nQ 19.734375 -1.421875 13.25 4.234375 \r\nQ 6.78125 9.90625 6.78125 20.515625 \r\nQ 6.78125 27.484375 10.78125 32.3125 \r\nQ 14.796875 37.15625 21.921875 38.8125 \r\nz\r\nM 18.3125 54.390625 \r\nQ 18.3125 48.734375 21.84375 45.5625 \r\nQ 25.390625 42.390625 31.78125 42.390625 \r\nQ 38.140625 42.390625 41.71875 45.5625 \r\nQ 45.3125 48.734375 45.3125 54.390625 \r\nQ 45.3125 60.0625 41.71875 63.234375 \r\nQ 38.140625 66.40625 31.78125 66.40625 \r\nQ 25.390625 66.40625 21.84375 63.234375 \r\nQ 18.3125 60.0625 18.3125 54.390625 \r\nz\r\n\" id=\"DejaVuSans-56\"/>\r\n       </defs>\r\n       <use xlink:href=\"#DejaVuSans-48\"/>\r\n       <use x=\"63.623047\" xlink:href=\"#DejaVuSans-46\"/>\r\n       <use x=\"95.410156\" xlink:href=\"#DejaVuSans-48\"/>\r\n       <use x=\"159.033203\" xlink:href=\"#DejaVuSans-56\"/>\r\n      </g>\r\n     </g>\r\n    </g>\r\n    <g id=\"text_10\">\r\n     <!-- Feature importance -->\r\n     <g transform=\"translate(290.894531 252.916562)scale(0.1 -0.1)\">\r\n      <defs>\r\n       <path d=\"M 9.8125 72.90625 \r\nL 51.703125 72.90625 \r\nL 51.703125 64.59375 \r\nL 19.671875 64.59375 \r\nL 19.671875 43.109375 \r\nL 48.578125 43.109375 \r\nL 48.578125 34.8125 \r\nL 19.671875 34.8125 \r\nL 19.671875 0 \r\nL 9.8125 0 \r\nz\r\n\" id=\"DejaVuSans-70\"/>\r\n       <path d=\"M 56.203125 29.59375 \r\nL 56.203125 25.203125 \r\nL 14.890625 25.203125 \r\nQ 15.484375 15.921875 20.484375 11.0625 \r\nQ 25.484375 6.203125 34.421875 6.203125 \r\nQ 39.59375 6.203125 44.453125 7.46875 \r\nQ 49.3125 8.734375 54.109375 11.28125 \r\nL 54.109375 2.78125 \r\nQ 49.265625 0.734375 44.1875 -0.34375 \r\nQ 39.109375 -1.421875 33.890625 -1.421875 \r\nQ 20.796875 -1.421875 13.15625 6.1875 \r\nQ 5.515625 13.8125 5.515625 26.8125 \r\nQ 5.515625 40.234375 12.765625 48.109375 \r\nQ 20.015625 56 32.328125 56 \r\nQ 43.359375 56 49.78125 48.890625 \r\nQ 56.203125 41.796875 56.203125 29.59375 \r\nz\r\nM 47.21875 32.234375 \r\nQ 47.125 39.59375 43.09375 43.984375 \r\nQ 39.0625 48.390625 32.421875 48.390625 \r\nQ 24.90625 48.390625 20.390625 44.140625 \r\nQ 15.875 39.890625 15.1875 32.171875 \r\nz\r\n\" id=\"DejaVuSans-101\"/>\r\n       <path d=\"M 34.28125 27.484375 \r\nQ 23.390625 27.484375 19.1875 25 \r\nQ 14.984375 22.515625 14.984375 16.5 \r\nQ 14.984375 11.71875 18.140625 8.90625 \r\nQ 21.296875 6.109375 26.703125 6.109375 \r\nQ 34.1875 6.109375 38.703125 11.40625 \r\nQ 43.21875 16.703125 43.21875 25.484375 \r\nL 43.21875 27.484375 \r\nz\r\nM 52.203125 31.203125 \r\nL 52.203125 0 \r\nL 43.21875 0 \r\nL 43.21875 8.296875 \r\nQ 40.140625 3.328125 35.546875 0.953125 \r\nQ 30.953125 -1.421875 24.3125 -1.421875 \r\nQ 15.921875 -1.421875 10.953125 3.296875 \r\nQ 6 8.015625 6 15.921875 \r\nQ 6 25.140625 12.171875 29.828125 \r\nQ 18.359375 34.515625 30.609375 34.515625 \r\nL 43.21875 34.515625 \r\nL 43.21875 35.40625 \r\nQ 43.21875 41.609375 39.140625 45 \r\nQ 35.0625 48.390625 27.6875 48.390625 \r\nQ 23 48.390625 18.546875 47.265625 \r\nQ 14.109375 46.140625 10.015625 43.890625 \r\nL 10.015625 52.203125 \r\nQ 14.9375 54.109375 19.578125 55.046875 \r\nQ 24.21875 56 28.609375 56 \r\nQ 40.484375 56 46.34375 49.84375 \r\nQ 52.203125 43.703125 52.203125 31.203125 \r\nz\r\n\" id=\"DejaVuSans-97\"/>\r\n       <path d=\"M 18.3125 70.21875 \r\nL 18.3125 54.6875 \r\nL 36.8125 54.6875 \r\nL 36.8125 47.703125 \r\nL 18.3125 47.703125 \r\nL 18.3125 18.015625 \r\nQ 18.3125 11.328125 20.140625 9.421875 \r\nQ 21.96875 7.515625 27.59375 7.515625 \r\nL 36.8125 7.515625 \r\nL 36.8125 0 \r\nL 27.59375 0 \r\nQ 17.1875 0 13.234375 3.875 \r\nQ 9.28125 7.765625 9.28125 18.015625 \r\nL 9.28125 47.703125 \r\nL 2.6875 47.703125 \r\nL 2.6875 54.6875 \r\nL 9.28125 54.6875 \r\nL 9.28125 70.21875 \r\nz\r\n\" id=\"DejaVuSans-116\"/>\r\n       <path d=\"M 8.5 21.578125 \r\nL 8.5 54.6875 \r\nL 17.484375 54.6875 \r\nL 17.484375 21.921875 \r\nQ 17.484375 14.15625 20.5 10.265625 \r\nQ 23.53125 6.390625 29.59375 6.390625 \r\nQ 36.859375 6.390625 41.078125 11.03125 \r\nQ 45.3125 15.671875 45.3125 23.6875 \r\nL 45.3125 54.6875 \r\nL 54.296875 54.6875 \r\nL 54.296875 0 \r\nL 45.3125 0 \r\nL 45.3125 8.40625 \r\nQ 42.046875 3.421875 37.71875 1 \r\nQ 33.40625 -1.421875 27.6875 -1.421875 \r\nQ 18.265625 -1.421875 13.375 4.4375 \r\nQ 8.5 10.296875 8.5 21.578125 \r\nz\r\nM 31.109375 56 \r\nz\r\n\" id=\"DejaVuSans-117\"/>\r\n       <path d=\"M 41.109375 46.296875 \r\nQ 39.59375 47.171875 37.8125 47.578125 \r\nQ 36.03125 48 33.890625 48 \r\nQ 26.265625 48 22.1875 43.046875 \r\nQ 18.109375 38.09375 18.109375 28.8125 \r\nL 18.109375 0 \r\nL 9.078125 0 \r\nL 9.078125 54.6875 \r\nL 18.109375 54.6875 \r\nL 18.109375 46.1875 \r\nQ 20.953125 51.171875 25.484375 53.578125 \r\nQ 30.03125 56 36.53125 56 \r\nQ 37.453125 56 38.578125 55.875 \r\nQ 39.703125 55.765625 41.0625 55.515625 \r\nz\r\n\" id=\"DejaVuSans-114\"/>\r\n       <path id=\"DejaVuSans-32\"/>\r\n       <path d=\"M 9.421875 54.6875 \r\nL 18.40625 54.6875 \r\nL 18.40625 0 \r\nL 9.421875 0 \r\nz\r\nM 9.421875 75.984375 \r\nL 18.40625 75.984375 \r\nL 18.40625 64.59375 \r\nL 9.421875 64.59375 \r\nz\r\n\" id=\"DejaVuSans-105\"/>\r\n       <path d=\"M 52 44.1875 \r\nQ 55.375 50.25 60.0625 53.125 \r\nQ 64.75 56 71.09375 56 \r\nQ 79.640625 56 84.28125 50.015625 \r\nQ 88.921875 44.046875 88.921875 33.015625 \r\nL 88.921875 0 \r\nL 79.890625 0 \r\nL 79.890625 32.71875 \r\nQ 79.890625 40.578125 77.09375 44.375 \r\nQ 74.3125 48.1875 68.609375 48.1875 \r\nQ 61.625 48.1875 57.5625 43.546875 \r\nQ 53.515625 38.921875 53.515625 30.90625 \r\nL 53.515625 0 \r\nL 44.484375 0 \r\nL 44.484375 32.71875 \r\nQ 44.484375 40.625 41.703125 44.40625 \r\nQ 38.921875 48.1875 33.109375 48.1875 \r\nQ 26.21875 48.1875 22.15625 43.53125 \r\nQ 18.109375 38.875 18.109375 30.90625 \r\nL 18.109375 0 \r\nL 9.078125 0 \r\nL 9.078125 54.6875 \r\nL 18.109375 54.6875 \r\nL 18.109375 46.1875 \r\nQ 21.1875 51.21875 25.484375 53.609375 \r\nQ 29.78125 56 35.6875 56 \r\nQ 41.65625 56 45.828125 52.96875 \r\nQ 50 49.953125 52 44.1875 \r\nz\r\n\" id=\"DejaVuSans-109\"/>\r\n       <path d=\"M 18.109375 8.203125 \r\nL 18.109375 -20.796875 \r\nL 9.078125 -20.796875 \r\nL 9.078125 54.6875 \r\nL 18.109375 54.6875 \r\nL 18.109375 46.390625 \r\nQ 20.953125 51.265625 25.265625 53.625 \r\nQ 29.59375 56 35.59375 56 \r\nQ 45.5625 56 51.78125 48.09375 \r\nQ 58.015625 40.1875 58.015625 27.296875 \r\nQ 58.015625 14.40625 51.78125 6.484375 \r\nQ 45.5625 -1.421875 35.59375 -1.421875 \r\nQ 29.59375 -1.421875 25.265625 0.953125 \r\nQ 20.953125 3.328125 18.109375 8.203125 \r\nz\r\nM 48.6875 27.296875 \r\nQ 48.6875 37.203125 44.609375 42.84375 \r\nQ 40.53125 48.484375 33.40625 48.484375 \r\nQ 26.265625 48.484375 22.1875 42.84375 \r\nQ 18.109375 37.203125 18.109375 27.296875 \r\nQ 18.109375 17.390625 22.1875 11.75 \r\nQ 26.265625 6.109375 33.40625 6.109375 \r\nQ 40.53125 6.109375 44.609375 11.75 \r\nQ 48.6875 17.390625 48.6875 27.296875 \r\nz\r\n\" id=\"DejaVuSans-112\"/>\r\n       <path d=\"M 30.609375 48.390625 \r\nQ 23.390625 48.390625 19.1875 42.75 \r\nQ 14.984375 37.109375 14.984375 27.296875 \r\nQ 14.984375 17.484375 19.15625 11.84375 \r\nQ 23.34375 6.203125 30.609375 6.203125 \r\nQ 37.796875 6.203125 41.984375 11.859375 \r\nQ 46.1875 17.53125 46.1875 27.296875 \r\nQ 46.1875 37.015625 41.984375 42.703125 \r\nQ 37.796875 48.390625 30.609375 48.390625 \r\nz\r\nM 30.609375 56 \r\nQ 42.328125 56 49.015625 48.375 \r\nQ 55.71875 40.765625 55.71875 27.296875 \r\nQ 55.71875 13.875 49.015625 6.21875 \r\nQ 42.328125 -1.421875 30.609375 -1.421875 \r\nQ 18.84375 -1.421875 12.171875 6.21875 \r\nQ 5.515625 13.875 5.515625 27.296875 \r\nQ 5.515625 40.765625 12.171875 48.375 \r\nQ 18.84375 56 30.609375 56 \r\nz\r\n\" id=\"DejaVuSans-111\"/>\r\n       <path d=\"M 54.890625 33.015625 \r\nL 54.890625 0 \r\nL 45.90625 0 \r\nL 45.90625 32.71875 \r\nQ 45.90625 40.484375 42.875 44.328125 \r\nQ 39.84375 48.1875 33.796875 48.1875 \r\nQ 26.515625 48.1875 22.3125 43.546875 \r\nQ 18.109375 38.921875 18.109375 30.90625 \r\nL 18.109375 0 \r\nL 9.078125 0 \r\nL 9.078125 54.6875 \r\nL 18.109375 54.6875 \r\nL 18.109375 46.1875 \r\nQ 21.34375 51.125 25.703125 53.5625 \r\nQ 30.078125 56 35.796875 56 \r\nQ 45.21875 56 50.046875 50.171875 \r\nQ 54.890625 44.34375 54.890625 33.015625 \r\nz\r\n\" id=\"DejaVuSans-110\"/>\r\n       <path d=\"M 48.78125 52.59375 \r\nL 48.78125 44.1875 \r\nQ 44.96875 46.296875 41.140625 47.34375 \r\nQ 37.3125 48.390625 33.40625 48.390625 \r\nQ 24.65625 48.390625 19.8125 42.84375 \r\nQ 14.984375 37.3125 14.984375 27.296875 \r\nQ 14.984375 17.28125 19.8125 11.734375 \r\nQ 24.65625 6.203125 33.40625 6.203125 \r\nQ 37.3125 6.203125 41.140625 7.25 \r\nQ 44.96875 8.296875 48.78125 10.40625 \r\nL 48.78125 2.09375 \r\nQ 45.015625 0.34375 40.984375 -0.53125 \r\nQ 36.96875 -1.421875 32.421875 -1.421875 \r\nQ 20.0625 -1.421875 12.78125 6.34375 \r\nQ 5.515625 14.109375 5.515625 27.296875 \r\nQ 5.515625 40.671875 12.859375 48.328125 \r\nQ 20.21875 56 33.015625 56 \r\nQ 37.15625 56 41.109375 55.140625 \r\nQ 45.0625 54.296875 48.78125 52.59375 \r\nz\r\n\" id=\"DejaVuSans-99\"/>\r\n      </defs>\r\n      <use xlink:href=\"#DejaVuSans-70\"/>\r\n      <use x=\"52.019531\" xlink:href=\"#DejaVuSans-101\"/>\r\n      <use x=\"113.542969\" xlink:href=\"#DejaVuSans-97\"/>\r\n      <use x=\"174.822266\" xlink:href=\"#DejaVuSans-116\"/>\r\n      <use x=\"214.03125\" xlink:href=\"#DejaVuSans-117\"/>\r\n      <use x=\"277.410156\" xlink:href=\"#DejaVuSans-114\"/>\r\n      <use x=\"316.273438\" xlink:href=\"#DejaVuSans-101\"/>\r\n      <use x=\"377.796875\" xlink:href=\"#DejaVuSans-32\"/>\r\n      <use x=\"409.583984\" xlink:href=\"#DejaVuSans-105\"/>\r\n      <use x=\"437.367188\" xlink:href=\"#DejaVuSans-109\"/>\r\n      <use x=\"534.779297\" xlink:href=\"#DejaVuSans-112\"/>\r\n      <use x=\"598.255859\" xlink:href=\"#DejaVuSans-111\"/>\r\n      <use x=\"659.4375\" xlink:href=\"#DejaVuSans-114\"/>\r\n      <use x=\"700.550781\" xlink:href=\"#DejaVuSans-116\"/>\r\n      <use x=\"739.759766\" xlink:href=\"#DejaVuSans-97\"/>\r\n      <use x=\"801.039062\" xlink:href=\"#DejaVuSans-110\"/>\r\n      <use x=\"864.417969\" xlink:href=\"#DejaVuSans-99\"/>\r\n      <use x=\"919.398438\" xlink:href=\"#DejaVuSans-101\"/>\r\n     </g>\r\n    </g>\r\n   </g>\r\n   <g id=\"matplotlib.axis_2\">\r\n    <g id=\"ytick_1\">\r\n     <g id=\"line2d_10\">\r\n      <defs>\r\n       <path d=\"M 0 0 \r\nL -3.5 0 \r\n\" id=\"me274da2d50\" style=\"stroke:#000000;stroke-width:0.8;\"/>\r\n      </defs>\r\n      <g>\r\n       <use style=\"stroke:#000000;stroke-width:0.8;\" x=\"172.540625\" xlink:href=\"#me274da2d50\" y=\"21.077025\"/>\r\n      </g>\r\n     </g>\r\n     <g id=\"text_11\">\r\n      <!-- YearMade -->\r\n      <g transform=\"translate(117.107812 24.876244)scale(0.1 -0.1)\">\r\n       <defs>\r\n        <path d=\"M -0.203125 72.90625 \r\nL 10.40625 72.90625 \r\nL 30.609375 42.921875 \r\nL 50.6875 72.90625 \r\nL 61.28125 72.90625 \r\nL 35.5 34.71875 \r\nL 35.5 0 \r\nL 25.59375 0 \r\nL 25.59375 34.71875 \r\nz\r\n\" id=\"DejaVuSans-89\"/>\r\n        <path d=\"M 9.8125 72.90625 \r\nL 24.515625 72.90625 \r\nL 43.109375 23.296875 \r\nL 61.8125 72.90625 \r\nL 76.515625 72.90625 \r\nL 76.515625 0 \r\nL 66.890625 0 \r\nL 66.890625 64.015625 \r\nL 48.09375 14.015625 \r\nL 38.1875 14.015625 \r\nL 19.390625 64.015625 \r\nL 19.390625 0 \r\nL 9.8125 0 \r\nz\r\n\" id=\"DejaVuSans-77\"/>\r\n        <path d=\"M 45.40625 46.390625 \r\nL 45.40625 75.984375 \r\nL 54.390625 75.984375 \r\nL 54.390625 0 \r\nL 45.40625 0 \r\nL 45.40625 8.203125 \r\nQ 42.578125 3.328125 38.25 0.953125 \r\nQ 33.9375 -1.421875 27.875 -1.421875 \r\nQ 17.96875 -1.421875 11.734375 6.484375 \r\nQ 5.515625 14.40625 5.515625 27.296875 \r\nQ 5.515625 40.1875 11.734375 48.09375 \r\nQ 17.96875 56 27.875 56 \r\nQ 33.9375 56 38.25 53.625 \r\nQ 42.578125 51.265625 45.40625 46.390625 \r\nz\r\nM 14.796875 27.296875 \r\nQ 14.796875 17.390625 18.875 11.75 \r\nQ 22.953125 6.109375 30.078125 6.109375 \r\nQ 37.203125 6.109375 41.296875 11.75 \r\nQ 45.40625 17.390625 45.40625 27.296875 \r\nQ 45.40625 37.203125 41.296875 42.84375 \r\nQ 37.203125 48.484375 30.078125 48.484375 \r\nQ 22.953125 48.484375 18.875 42.84375 \r\nQ 14.796875 37.203125 14.796875 27.296875 \r\nz\r\n\" id=\"DejaVuSans-100\"/>\r\n       </defs>\r\n       <use xlink:href=\"#DejaVuSans-89\"/>\r\n       <use x=\"47.833984\" xlink:href=\"#DejaVuSans-101\"/>\r\n       <use x=\"109.357422\" xlink:href=\"#DejaVuSans-97\"/>\r\n       <use x=\"170.636719\" xlink:href=\"#DejaVuSans-114\"/>\r\n       <use x=\"211.75\" xlink:href=\"#DejaVuSans-77\"/>\r\n       <use x=\"298.029297\" xlink:href=\"#DejaVuSans-97\"/>\r\n       <use x=\"359.308594\" xlink:href=\"#DejaVuSans-100\"/>\r\n       <use x=\"422.785156\" xlink:href=\"#DejaVuSans-101\"/>\r\n      </g>\r\n     </g>\r\n    </g>\r\n    <g id=\"ytick_2\">\r\n     <g id=\"line2d_11\">\r\n      <g>\r\n       <use style=\"stroke:#000000;stroke-width:0.8;\" x=\"172.540625\" xlink:href=\"#me274da2d50\" y=\"31.060496\"/>\r\n      </g>\r\n     </g>\r\n     <g id=\"text_12\">\r\n      <!-- fiSecondaryDesc -->\r\n      <g transform=\"translate(81.71875 34.859715)scale(0.1 -0.1)\">\r\n       <defs>\r\n        <path d=\"M 37.109375 75.984375 \r\nL 37.109375 68.5 \r\nL 28.515625 68.5 \r\nQ 23.6875 68.5 21.796875 66.546875 \r\nQ 19.921875 64.59375 19.921875 59.515625 \r\nL 19.921875 54.6875 \r\nL 34.71875 54.6875 \r\nL 34.71875 47.703125 \r\nL 19.921875 47.703125 \r\nL 19.921875 0 \r\nL 10.890625 0 \r\nL 10.890625 47.703125 \r\nL 2.296875 47.703125 \r\nL 2.296875 54.6875 \r\nL 10.890625 54.6875 \r\nL 10.890625 58.5 \r\nQ 10.890625 67.625 15.140625 71.796875 \r\nQ 19.390625 75.984375 28.609375 75.984375 \r\nz\r\n\" id=\"DejaVuSans-102\"/>\r\n        <path d=\"M 53.515625 70.515625 \r\nL 53.515625 60.890625 \r\nQ 47.90625 63.578125 42.921875 64.890625 \r\nQ 37.9375 66.21875 33.296875 66.21875 \r\nQ 25.25 66.21875 20.875 63.09375 \r\nQ 16.5 59.96875 16.5 54.203125 \r\nQ 16.5 49.359375 19.40625 46.890625 \r\nQ 22.3125 44.4375 30.421875 42.921875 \r\nL 36.375 41.703125 \r\nQ 47.40625 39.59375 52.65625 34.296875 \r\nQ 57.90625 29 57.90625 20.125 \r\nQ 57.90625 9.515625 50.796875 4.046875 \r\nQ 43.703125 -1.421875 29.984375 -1.421875 \r\nQ 24.8125 -1.421875 18.96875 -0.25 \r\nQ 13.140625 0.921875 6.890625 3.21875 \r\nL 6.890625 13.375 \r\nQ 12.890625 10.015625 18.65625 8.296875 \r\nQ 24.421875 6.59375 29.984375 6.59375 \r\nQ 38.421875 6.59375 43.015625 9.90625 \r\nQ 47.609375 13.234375 47.609375 19.390625 \r\nQ 47.609375 24.75 44.3125 27.78125 \r\nQ 41.015625 30.8125 33.5 32.328125 \r\nL 27.484375 33.5 \r\nQ 16.453125 35.6875 11.515625 40.375 \r\nQ 6.59375 45.0625 6.59375 53.421875 \r\nQ 6.59375 63.09375 13.40625 68.65625 \r\nQ 20.21875 74.21875 32.171875 74.21875 \r\nQ 37.3125 74.21875 42.625 73.28125 \r\nQ 47.953125 72.359375 53.515625 70.515625 \r\nz\r\n\" id=\"DejaVuSans-83\"/>\r\n        <path d=\"M 32.171875 -5.078125 \r\nQ 28.375 -14.84375 24.75 -17.8125 \r\nQ 21.140625 -20.796875 15.09375 -20.796875 \r\nL 7.90625 -20.796875 \r\nL 7.90625 -13.28125 \r\nL 13.1875 -13.28125 \r\nQ 16.890625 -13.28125 18.9375 -11.515625 \r\nQ 21 -9.765625 23.484375 -3.21875 \r\nL 25.09375 0.875 \r\nL 2.984375 54.6875 \r\nL 12.5 54.6875 \r\nL 29.59375 11.921875 \r\nL 46.6875 54.6875 \r\nL 56.203125 54.6875 \r\nz\r\n\" id=\"DejaVuSans-121\"/>\r\n        <path d=\"M 19.671875 64.796875 \r\nL 19.671875 8.109375 \r\nL 31.59375 8.109375 \r\nQ 46.6875 8.109375 53.6875 14.9375 \r\nQ 60.6875 21.78125 60.6875 36.53125 \r\nQ 60.6875 51.171875 53.6875 57.984375 \r\nQ 46.6875 64.796875 31.59375 64.796875 \r\nz\r\nM 9.8125 72.90625 \r\nL 30.078125 72.90625 \r\nQ 51.265625 72.90625 61.171875 64.09375 \r\nQ 71.09375 55.28125 71.09375 36.53125 \r\nQ 71.09375 17.671875 61.125 8.828125 \r\nQ 51.171875 0 30.078125 0 \r\nL 9.8125 0 \r\nz\r\n\" id=\"DejaVuSans-68\"/>\r\n        <path d=\"M 44.28125 53.078125 \r\nL 44.28125 44.578125 \r\nQ 40.484375 46.53125 36.375 47.5 \r\nQ 32.28125 48.484375 27.875 48.484375 \r\nQ 21.1875 48.484375 17.84375 46.4375 \r\nQ 14.5 44.390625 14.5 40.28125 \r\nQ 14.5 37.15625 16.890625 35.375 \r\nQ 19.28125 33.59375 26.515625 31.984375 \r\nL 29.59375 31.296875 \r\nQ 39.15625 29.25 43.1875 25.515625 \r\nQ 47.21875 21.78125 47.21875 15.09375 \r\nQ 47.21875 7.46875 41.1875 3.015625 \r\nQ 35.15625 -1.421875 24.609375 -1.421875 \r\nQ 20.21875 -1.421875 15.453125 -0.5625 \r\nQ 10.6875 0.296875 5.421875 2 \r\nL 5.421875 11.28125 \r\nQ 10.40625 8.6875 15.234375 7.390625 \r\nQ 20.0625 6.109375 24.8125 6.109375 \r\nQ 31.15625 6.109375 34.5625 8.28125 \r\nQ 37.984375 10.453125 37.984375 14.40625 \r\nQ 37.984375 18.0625 35.515625 20.015625 \r\nQ 33.0625 21.96875 24.703125 23.78125 \r\nL 21.578125 24.515625 \r\nQ 13.234375 26.265625 9.515625 29.90625 \r\nQ 5.8125 33.546875 5.8125 39.890625 \r\nQ 5.8125 47.609375 11.28125 51.796875 \r\nQ 16.75 56 26.8125 56 \r\nQ 31.78125 56 36.171875 55.265625 \r\nQ 40.578125 54.546875 44.28125 53.078125 \r\nz\r\n\" id=\"DejaVuSans-115\"/>\r\n       </defs>\r\n       <use xlink:href=\"#DejaVuSans-102\"/>\r\n       <use x=\"35.205078\" xlink:href=\"#DejaVuSans-105\"/>\r\n       <use x=\"62.988281\" xlink:href=\"#DejaVuSans-83\"/>\r\n       <use x=\"126.464844\" xlink:href=\"#DejaVuSans-101\"/>\r\n       <use x=\"187.988281\" xlink:href=\"#DejaVuSans-99\"/>\r\n       <use x=\"242.96875\" xlink:href=\"#DejaVuSans-111\"/>\r\n       <use x=\"304.150391\" xlink:href=\"#DejaVuSans-110\"/>\r\n       <use x=\"367.529297\" xlink:href=\"#DejaVuSans-100\"/>\r\n       <use x=\"431.005859\" xlink:href=\"#DejaVuSans-97\"/>\r\n       <use x=\"492.285156\" xlink:href=\"#DejaVuSans-114\"/>\r\n       <use x=\"533.398438\" xlink:href=\"#DejaVuSans-121\"/>\r\n       <use x=\"592.578125\" xlink:href=\"#DejaVuSans-68\"/>\r\n       <use x=\"669.580078\" xlink:href=\"#DejaVuSans-101\"/>\r\n       <use x=\"731.103516\" xlink:href=\"#DejaVuSans-115\"/>\r\n       <use x=\"783.203125\" xlink:href=\"#DejaVuSans-99\"/>\r\n      </g>\r\n     </g>\r\n    </g>\r\n    <g id=\"ytick_3\">\r\n     <g id=\"line2d_12\">\r\n      <g>\r\n       <use style=\"stroke:#000000;stroke-width:0.8;\" x=\"172.540625\" xlink:href=\"#me274da2d50\" y=\"41.043967\"/>\r\n      </g>\r\n     </g>\r\n     <g id=\"text_13\">\r\n      <!-- ProductSize -->\r\n      <g transform=\"translate(107.048438 44.843186)scale(0.1 -0.1)\">\r\n       <defs>\r\n        <path d=\"M 19.671875 64.796875 \r\nL 19.671875 37.40625 \r\nL 32.078125 37.40625 \r\nQ 38.96875 37.40625 42.71875 40.96875 \r\nQ 46.484375 44.53125 46.484375 51.125 \r\nQ 46.484375 57.671875 42.71875 61.234375 \r\nQ 38.96875 64.796875 32.078125 64.796875 \r\nz\r\nM 9.8125 72.90625 \r\nL 32.078125 72.90625 \r\nQ 44.34375 72.90625 50.609375 67.359375 \r\nQ 56.890625 61.8125 56.890625 51.125 \r\nQ 56.890625 40.328125 50.609375 34.8125 \r\nQ 44.34375 29.296875 32.078125 29.296875 \r\nL 19.671875 29.296875 \r\nL 19.671875 0 \r\nL 9.8125 0 \r\nz\r\n\" id=\"DejaVuSans-80\"/>\r\n        <path d=\"M 5.515625 54.6875 \r\nL 48.1875 54.6875 \r\nL 48.1875 46.484375 \r\nL 14.40625 7.171875 \r\nL 48.1875 7.171875 \r\nL 48.1875 0 \r\nL 4.296875 0 \r\nL 4.296875 8.203125 \r\nL 38.09375 47.515625 \r\nL 5.515625 47.515625 \r\nz\r\n\" id=\"DejaVuSans-122\"/>\r\n       </defs>\r\n       <use xlink:href=\"#DejaVuSans-80\"/>\r\n       <use x=\"58.552734\" xlink:href=\"#DejaVuSans-114\"/>\r\n       <use x=\"97.416016\" xlink:href=\"#DejaVuSans-111\"/>\r\n       <use x=\"158.597656\" xlink:href=\"#DejaVuSans-100\"/>\r\n       <use x=\"222.074219\" xlink:href=\"#DejaVuSans-117\"/>\r\n       <use x=\"285.453125\" xlink:href=\"#DejaVuSans-99\"/>\r\n       <use x=\"340.433594\" xlink:href=\"#DejaVuSans-116\"/>\r\n       <use x=\"379.642578\" xlink:href=\"#DejaVuSans-83\"/>\r\n       <use x=\"443.119141\" xlink:href=\"#DejaVuSans-105\"/>\r\n       <use x=\"470.902344\" xlink:href=\"#DejaVuSans-122\"/>\r\n       <use x=\"523.392578\" xlink:href=\"#DejaVuSans-101\"/>\r\n      </g>\r\n     </g>\r\n    </g>\r\n    <g id=\"ytick_4\">\r\n     <g id=\"line2d_13\">\r\n      <g>\r\n       <use style=\"stroke:#000000;stroke-width:0.8;\" x=\"172.540625\" xlink:href=\"#me274da2d50\" y=\"51.027438\"/>\r\n      </g>\r\n     </g>\r\n     <g id=\"text_14\">\r\n      <!-- ModelID -->\r\n      <g transform=\"translate(124.864063 54.826657)scale(0.1 -0.1)\">\r\n       <defs>\r\n        <path d=\"M 9.421875 75.984375 \r\nL 18.40625 75.984375 \r\nL 18.40625 0 \r\nL 9.421875 0 \r\nz\r\n\" id=\"DejaVuSans-108\"/>\r\n        <path d=\"M 9.8125 72.90625 \r\nL 19.671875 72.90625 \r\nL 19.671875 0 \r\nL 9.8125 0 \r\nz\r\n\" id=\"DejaVuSans-73\"/>\r\n       </defs>\r\n       <use xlink:href=\"#DejaVuSans-77\"/>\r\n       <use x=\"86.279297\" xlink:href=\"#DejaVuSans-111\"/>\r\n       <use x=\"147.460938\" xlink:href=\"#DejaVuSans-100\"/>\r\n       <use x=\"210.9375\" xlink:href=\"#DejaVuSans-101\"/>\r\n       <use x=\"272.460938\" xlink:href=\"#DejaVuSans-108\"/>\r\n       <use x=\"300.244141\" xlink:href=\"#DejaVuSans-73\"/>\r\n       <use x=\"329.736328\" xlink:href=\"#DejaVuSans-68\"/>\r\n      </g>\r\n     </g>\r\n    </g>\r\n    <g id=\"ytick_5\">\r\n     <g id=\"line2d_14\">\r\n      <g>\r\n       <use style=\"stroke:#000000;stroke-width:0.8;\" x=\"172.540625\" xlink:href=\"#me274da2d50\" y=\"61.010909\"/>\r\n      </g>\r\n     </g>\r\n     <g id=\"text_15\">\r\n      <!-- fiModelDesc -->\r\n      <g transform=\"translate(104.654687 64.810128)scale(0.1 -0.1)\">\r\n       <use xlink:href=\"#DejaVuSans-102\"/>\r\n       <use x=\"35.205078\" xlink:href=\"#DejaVuSans-105\"/>\r\n       <use x=\"62.988281\" xlink:href=\"#DejaVuSans-77\"/>\r\n       <use x=\"149.267578\" xlink:href=\"#DejaVuSans-111\"/>\r\n       <use x=\"210.449219\" xlink:href=\"#DejaVuSans-100\"/>\r\n       <use x=\"273.925781\" xlink:href=\"#DejaVuSans-101\"/>\r\n       <use x=\"335.449219\" xlink:href=\"#DejaVuSans-108\"/>\r\n       <use x=\"363.232422\" xlink:href=\"#DejaVuSans-68\"/>\r\n       <use x=\"440.234375\" xlink:href=\"#DejaVuSans-101\"/>\r\n       <use x=\"501.757812\" xlink:href=\"#DejaVuSans-115\"/>\r\n       <use x=\"553.857422\" xlink:href=\"#DejaVuSans-99\"/>\r\n      </g>\r\n     </g>\r\n    </g>\r\n    <g id=\"ytick_6\">\r\n     <g id=\"line2d_15\">\r\n      <g>\r\n       <use style=\"stroke:#000000;stroke-width:0.8;\" x=\"172.540625\" xlink:href=\"#me274da2d50\" y=\"70.99438\"/>\r\n      </g>\r\n     </g>\r\n     <g id=\"text_16\">\r\n      <!-- fiProductClassDesc -->\r\n      <g transform=\"translate(70.409375 74.793599)scale(0.1 -0.1)\">\r\n       <defs>\r\n        <path d=\"M 64.40625 67.28125 \r\nL 64.40625 56.890625 \r\nQ 59.421875 61.53125 53.78125 63.8125 \r\nQ 48.140625 66.109375 41.796875 66.109375 \r\nQ 29.296875 66.109375 22.65625 58.46875 \r\nQ 16.015625 50.828125 16.015625 36.375 \r\nQ 16.015625 21.96875 22.65625 14.328125 \r\nQ 29.296875 6.6875 41.796875 6.6875 \r\nQ 48.140625 6.6875 53.78125 8.984375 \r\nQ 59.421875 11.28125 64.40625 15.921875 \r\nL 64.40625 5.609375 \r\nQ 59.234375 2.09375 53.4375 0.328125 \r\nQ 47.65625 -1.421875 41.21875 -1.421875 \r\nQ 24.65625 -1.421875 15.125 8.703125 \r\nQ 5.609375 18.84375 5.609375 36.375 \r\nQ 5.609375 53.953125 15.125 64.078125 \r\nQ 24.65625 74.21875 41.21875 74.21875 \r\nQ 47.75 74.21875 53.53125 72.484375 \r\nQ 59.328125 70.75 64.40625 67.28125 \r\nz\r\n\" id=\"DejaVuSans-67\"/>\r\n       </defs>\r\n       <use xlink:href=\"#DejaVuSans-102\"/>\r\n       <use x=\"35.205078\" xlink:href=\"#DejaVuSans-105\"/>\r\n       <use x=\"62.988281\" xlink:href=\"#DejaVuSans-80\"/>\r\n       <use x=\"121.541016\" xlink:href=\"#DejaVuSans-114\"/>\r\n       <use x=\"160.404297\" xlink:href=\"#DejaVuSans-111\"/>\r\n       <use x=\"221.585938\" xlink:href=\"#DejaVuSans-100\"/>\r\n       <use x=\"285.0625\" xlink:href=\"#DejaVuSans-117\"/>\r\n       <use x=\"348.441406\" xlink:href=\"#DejaVuSans-99\"/>\r\n       <use x=\"403.421875\" xlink:href=\"#DejaVuSans-116\"/>\r\n       <use x=\"442.630859\" xlink:href=\"#DejaVuSans-67\"/>\r\n       <use x=\"512.455078\" xlink:href=\"#DejaVuSans-108\"/>\r\n       <use x=\"540.238281\" xlink:href=\"#DejaVuSans-97\"/>\r\n       <use x=\"601.517578\" xlink:href=\"#DejaVuSans-115\"/>\r\n       <use x=\"653.617188\" xlink:href=\"#DejaVuSans-115\"/>\r\n       <use x=\"705.716797\" xlink:href=\"#DejaVuSans-68\"/>\r\n       <use x=\"782.71875\" xlink:href=\"#DejaVuSans-101\"/>\r\n       <use x=\"844.242188\" xlink:href=\"#DejaVuSans-115\"/>\r\n       <use x=\"896.341797\" xlink:href=\"#DejaVuSans-99\"/>\r\n      </g>\r\n     </g>\r\n    </g>\r\n    <g id=\"ytick_7\">\r\n     <g id=\"line2d_16\">\r\n      <g>\r\n       <use style=\"stroke:#000000;stroke-width:0.8;\" x=\"172.540625\" xlink:href=\"#me274da2d50\" y=\"80.977851\"/>\r\n      </g>\r\n     </g>\r\n     <g id=\"text_17\">\r\n      <!-- Enclosure -->\r\n      <g transform=\"translate(116.903125 84.77707)scale(0.1 -0.1)\">\r\n       <defs>\r\n        <path d=\"M 9.8125 72.90625 \r\nL 55.90625 72.90625 \r\nL 55.90625 64.59375 \r\nL 19.671875 64.59375 \r\nL 19.671875 43.015625 \r\nL 54.390625 43.015625 \r\nL 54.390625 34.71875 \r\nL 19.671875 34.71875 \r\nL 19.671875 8.296875 \r\nL 56.78125 8.296875 \r\nL 56.78125 0 \r\nL 9.8125 0 \r\nz\r\n\" id=\"DejaVuSans-69\"/>\r\n       </defs>\r\n       <use xlink:href=\"#DejaVuSans-69\"/>\r\n       <use x=\"63.183594\" xlink:href=\"#DejaVuSans-110\"/>\r\n       <use x=\"126.5625\" xlink:href=\"#DejaVuSans-99\"/>\r\n       <use x=\"181.542969\" xlink:href=\"#DejaVuSans-108\"/>\r\n       <use x=\"209.326172\" xlink:href=\"#DejaVuSans-111\"/>\r\n       <use x=\"270.507812\" xlink:href=\"#DejaVuSans-115\"/>\r\n       <use x=\"322.607422\" xlink:href=\"#DejaVuSans-117\"/>\r\n       <use x=\"385.986328\" xlink:href=\"#DejaVuSans-114\"/>\r\n       <use x=\"424.849609\" xlink:href=\"#DejaVuSans-101\"/>\r\n      </g>\r\n     </g>\r\n    </g>\r\n    <g id=\"ytick_8\">\r\n     <g id=\"line2d_17\">\r\n      <g>\r\n       <use style=\"stroke:#000000;stroke-width:0.8;\" x=\"172.540625\" xlink:href=\"#me274da2d50\" y=\"90.961322\"/>\r\n      </g>\r\n     </g>\r\n     <g id=\"text_18\">\r\n      <!-- fiBaseModel -->\r\n      <g transform=\"translate(104.864063 94.760541)scale(0.1 -0.1)\">\r\n       <defs>\r\n        <path d=\"M 19.671875 34.8125 \r\nL 19.671875 8.109375 \r\nL 35.5 8.109375 \r\nQ 43.453125 8.109375 47.28125 11.40625 \r\nQ 51.125 14.703125 51.125 21.484375 \r\nQ 51.125 28.328125 47.28125 31.5625 \r\nQ 43.453125 34.8125 35.5 34.8125 \r\nz\r\nM 19.671875 64.796875 \r\nL 19.671875 42.828125 \r\nL 34.28125 42.828125 \r\nQ 41.5 42.828125 45.03125 45.53125 \r\nQ 48.578125 48.25 48.578125 53.8125 \r\nQ 48.578125 59.328125 45.03125 62.0625 \r\nQ 41.5 64.796875 34.28125 64.796875 \r\nz\r\nM 9.8125 72.90625 \r\nL 35.015625 72.90625 \r\nQ 46.296875 72.90625 52.390625 68.21875 \r\nQ 58.5 63.53125 58.5 54.890625 \r\nQ 58.5 48.1875 55.375 44.234375 \r\nQ 52.25 40.28125 46.1875 39.3125 \r\nQ 53.46875 37.75 57.5 32.78125 \r\nQ 61.53125 27.828125 61.53125 20.40625 \r\nQ 61.53125 10.640625 54.890625 5.3125 \r\nQ 48.25 0 35.984375 0 \r\nL 9.8125 0 \r\nz\r\n\" id=\"DejaVuSans-66\"/>\r\n       </defs>\r\n       <use xlink:href=\"#DejaVuSans-102\"/>\r\n       <use x=\"35.205078\" xlink:href=\"#DejaVuSans-105\"/>\r\n       <use x=\"62.988281\" xlink:href=\"#DejaVuSans-66\"/>\r\n       <use x=\"131.591797\" xlink:href=\"#DejaVuSans-97\"/>\r\n       <use x=\"192.871094\" xlink:href=\"#DejaVuSans-115\"/>\r\n       <use x=\"244.970703\" xlink:href=\"#DejaVuSans-101\"/>\r\n       <use x=\"306.494141\" xlink:href=\"#DejaVuSans-77\"/>\r\n       <use x=\"392.773438\" xlink:href=\"#DejaVuSans-111\"/>\r\n       <use x=\"453.955078\" xlink:href=\"#DejaVuSans-100\"/>\r\n       <use x=\"517.431641\" xlink:href=\"#DejaVuSans-101\"/>\r\n       <use x=\"578.955078\" xlink:href=\"#DejaVuSans-108\"/>\r\n      </g>\r\n     </g>\r\n    </g>\r\n    <g id=\"ytick_9\">\r\n     <g id=\"line2d_18\">\r\n      <g>\r\n       <use style=\"stroke:#000000;stroke-width:0.8;\" x=\"172.540625\" xlink:href=\"#me274da2d50\" y=\"100.944793\"/>\r\n      </g>\r\n     </g>\r\n     <g id=\"text_19\">\r\n      <!-- SalesID -->\r\n      <g transform=\"translate(128.273438 104.744012)scale(0.1 -0.1)\">\r\n       <use xlink:href=\"#DejaVuSans-83\"/>\r\n       <use x=\"63.476562\" xlink:href=\"#DejaVuSans-97\"/>\r\n       <use x=\"124.755859\" xlink:href=\"#DejaVuSans-108\"/>\r\n       <use x=\"152.539062\" xlink:href=\"#DejaVuSans-101\"/>\r\n       <use x=\"214.0625\" xlink:href=\"#DejaVuSans-115\"/>\r\n       <use x=\"266.162109\" xlink:href=\"#DejaVuSans-73\"/>\r\n       <use x=\"295.654297\" xlink:href=\"#DejaVuSans-68\"/>\r\n      </g>\r\n     </g>\r\n    </g>\r\n    <g id=\"ytick_10\">\r\n     <g id=\"line2d_19\">\r\n      <g>\r\n       <use style=\"stroke:#000000;stroke-width:0.8;\" x=\"172.540625\" xlink:href=\"#me274da2d50\" y=\"110.928264\"/>\r\n      </g>\r\n     </g>\r\n     <g id=\"text_20\">\r\n      <!-- MachineID -->\r\n      <g transform=\"translate(113.029687 114.727483)scale(0.1 -0.1)\">\r\n       <defs>\r\n        <path d=\"M 54.890625 33.015625 \r\nL 54.890625 0 \r\nL 45.90625 0 \r\nL 45.90625 32.71875 \r\nQ 45.90625 40.484375 42.875 44.328125 \r\nQ 39.84375 48.1875 33.796875 48.1875 \r\nQ 26.515625 48.1875 22.3125 43.546875 \r\nQ 18.109375 38.921875 18.109375 30.90625 \r\nL 18.109375 0 \r\nL 9.078125 0 \r\nL 9.078125 75.984375 \r\nL 18.109375 75.984375 \r\nL 18.109375 46.1875 \r\nQ 21.34375 51.125 25.703125 53.5625 \r\nQ 30.078125 56 35.796875 56 \r\nQ 45.21875 56 50.046875 50.171875 \r\nQ 54.890625 44.34375 54.890625 33.015625 \r\nz\r\n\" id=\"DejaVuSans-104\"/>\r\n       </defs>\r\n       <use xlink:href=\"#DejaVuSans-77\"/>\r\n       <use x=\"86.279297\" xlink:href=\"#DejaVuSans-97\"/>\r\n       <use x=\"147.558594\" xlink:href=\"#DejaVuSans-99\"/>\r\n       <use x=\"202.539062\" xlink:href=\"#DejaVuSans-104\"/>\r\n       <use x=\"265.917969\" xlink:href=\"#DejaVuSans-105\"/>\r\n       <use x=\"293.701172\" xlink:href=\"#DejaVuSans-110\"/>\r\n       <use x=\"357.080078\" xlink:href=\"#DejaVuSans-101\"/>\r\n       <use x=\"418.603516\" xlink:href=\"#DejaVuSans-73\"/>\r\n       <use x=\"448.095703\" xlink:href=\"#DejaVuSans-68\"/>\r\n      </g>\r\n     </g>\r\n    </g>\r\n    <g id=\"ytick_11\">\r\n     <g id=\"line2d_20\">\r\n      <g>\r\n       <use style=\"stroke:#000000;stroke-width:0.8;\" x=\"172.540625\" xlink:href=\"#me274da2d50\" y=\"120.911736\"/>\r\n      </g>\r\n     </g>\r\n     <g id=\"text_21\">\r\n      <!-- fiModelDescriptor_is_missing -->\r\n      <g transform=\"translate(20.878125 124.710954)scale(0.1 -0.1)\">\r\n       <defs>\r\n        <path d=\"M 50.984375 -16.609375 \r\nL 50.984375 -23.578125 \r\nL -0.984375 -23.578125 \r\nL -0.984375 -16.609375 \r\nz\r\n\" id=\"DejaVuSans-95\"/>\r\n        <path d=\"M 45.40625 27.984375 \r\nQ 45.40625 37.75 41.375 43.109375 \r\nQ 37.359375 48.484375 30.078125 48.484375 \r\nQ 22.859375 48.484375 18.828125 43.109375 \r\nQ 14.796875 37.75 14.796875 27.984375 \r\nQ 14.796875 18.265625 18.828125 12.890625 \r\nQ 22.859375 7.515625 30.078125 7.515625 \r\nQ 37.359375 7.515625 41.375 12.890625 \r\nQ 45.40625 18.265625 45.40625 27.984375 \r\nz\r\nM 54.390625 6.78125 \r\nQ 54.390625 -7.171875 48.1875 -13.984375 \r\nQ 42 -20.796875 29.203125 -20.796875 \r\nQ 24.46875 -20.796875 20.265625 -20.09375 \r\nQ 16.0625 -19.390625 12.109375 -17.921875 \r\nL 12.109375 -9.1875 \r\nQ 16.0625 -11.328125 19.921875 -12.34375 \r\nQ 23.78125 -13.375 27.78125 -13.375 \r\nQ 36.625 -13.375 41.015625 -8.765625 \r\nQ 45.40625 -4.15625 45.40625 5.171875 \r\nL 45.40625 9.625 \r\nQ 42.625 4.78125 38.28125 2.390625 \r\nQ 33.9375 0 27.875 0 \r\nQ 17.828125 0 11.671875 7.65625 \r\nQ 5.515625 15.328125 5.515625 27.984375 \r\nQ 5.515625 40.671875 11.671875 48.328125 \r\nQ 17.828125 56 27.875 56 \r\nQ 33.9375 56 38.28125 53.609375 \r\nQ 42.625 51.21875 45.40625 46.390625 \r\nL 45.40625 54.6875 \r\nL 54.390625 54.6875 \r\nz\r\n\" id=\"DejaVuSans-103\"/>\r\n       </defs>\r\n       <use xlink:href=\"#DejaVuSans-102\"/>\r\n       <use x=\"35.205078\" xlink:href=\"#DejaVuSans-105\"/>\r\n       <use x=\"62.988281\" xlink:href=\"#DejaVuSans-77\"/>\r\n       <use x=\"149.267578\" xlink:href=\"#DejaVuSans-111\"/>\r\n       <use x=\"210.449219\" xlink:href=\"#DejaVuSans-100\"/>\r\n       <use x=\"273.925781\" xlink:href=\"#DejaVuSans-101\"/>\r\n       <use x=\"335.449219\" xlink:href=\"#DejaVuSans-108\"/>\r\n       <use x=\"363.232422\" xlink:href=\"#DejaVuSans-68\"/>\r\n       <use x=\"440.234375\" xlink:href=\"#DejaVuSans-101\"/>\r\n       <use x=\"501.757812\" xlink:href=\"#DejaVuSans-115\"/>\r\n       <use x=\"553.857422\" xlink:href=\"#DejaVuSans-99\"/>\r\n       <use x=\"608.837891\" xlink:href=\"#DejaVuSans-114\"/>\r\n       <use x=\"649.951172\" xlink:href=\"#DejaVuSans-105\"/>\r\n       <use x=\"677.734375\" xlink:href=\"#DejaVuSans-112\"/>\r\n       <use x=\"741.210938\" xlink:href=\"#DejaVuSans-116\"/>\r\n       <use x=\"780.419922\" xlink:href=\"#DejaVuSans-111\"/>\r\n       <use x=\"841.601562\" xlink:href=\"#DejaVuSans-114\"/>\r\n       <use x=\"882.714844\" xlink:href=\"#DejaVuSans-95\"/>\r\n       <use x=\"932.714844\" xlink:href=\"#DejaVuSans-105\"/>\r\n       <use x=\"960.498047\" xlink:href=\"#DejaVuSans-115\"/>\r\n       <use x=\"1012.597656\" xlink:href=\"#DejaVuSans-95\"/>\r\n       <use x=\"1062.597656\" xlink:href=\"#DejaVuSans-109\"/>\r\n       <use x=\"1160.009766\" xlink:href=\"#DejaVuSans-105\"/>\r\n       <use x=\"1187.792969\" xlink:href=\"#DejaVuSans-115\"/>\r\n       <use x=\"1239.892578\" xlink:href=\"#DejaVuSans-115\"/>\r\n       <use x=\"1291.992188\" xlink:href=\"#DejaVuSans-105\"/>\r\n       <use x=\"1319.775391\" xlink:href=\"#DejaVuSans-110\"/>\r\n       <use x=\"1383.154297\" xlink:href=\"#DejaVuSans-103\"/>\r\n      </g>\r\n     </g>\r\n    </g>\r\n    <g id=\"ytick_12\">\r\n     <g id=\"line2d_21\">\r\n      <g>\r\n       <use style=\"stroke:#000000;stroke-width:0.8;\" x=\"172.540625\" xlink:href=\"#me274da2d50\" y=\"130.895207\"/>\r\n      </g>\r\n     </g>\r\n     <g id=\"text_22\">\r\n      <!-- fiModelDescriptor -->\r\n      <g transform=\"translate(77.267188 134.694425)scale(0.1 -0.1)\">\r\n       <use xlink:href=\"#DejaVuSans-102\"/>\r\n       <use x=\"35.205078\" xlink:href=\"#DejaVuSans-105\"/>\r\n       <use x=\"62.988281\" xlink:href=\"#DejaVuSans-77\"/>\r\n       <use x=\"149.267578\" xlink:href=\"#DejaVuSans-111\"/>\r\n       <use x=\"210.449219\" xlink:href=\"#DejaVuSans-100\"/>\r\n       <use x=\"273.925781\" xlink:href=\"#DejaVuSans-101\"/>\r\n       <use x=\"335.449219\" xlink:href=\"#DejaVuSans-108\"/>\r\n       <use x=\"363.232422\" xlink:href=\"#DejaVuSans-68\"/>\r\n       <use x=\"440.234375\" xlink:href=\"#DejaVuSans-101\"/>\r\n       <use x=\"501.757812\" xlink:href=\"#DejaVuSans-115\"/>\r\n       <use x=\"553.857422\" xlink:href=\"#DejaVuSans-99\"/>\r\n       <use x=\"608.837891\" xlink:href=\"#DejaVuSans-114\"/>\r\n       <use x=\"649.951172\" xlink:href=\"#DejaVuSans-105\"/>\r\n       <use x=\"677.734375\" xlink:href=\"#DejaVuSans-112\"/>\r\n       <use x=\"741.210938\" xlink:href=\"#DejaVuSans-116\"/>\r\n       <use x=\"780.419922\" xlink:href=\"#DejaVuSans-111\"/>\r\n       <use x=\"841.601562\" xlink:href=\"#DejaVuSans-114\"/>\r\n      </g>\r\n     </g>\r\n    </g>\r\n    <g id=\"ytick_13\">\r\n     <g id=\"line2d_22\">\r\n      <g>\r\n       <use style=\"stroke:#000000;stroke-width:0.8;\" x=\"172.540625\" xlink:href=\"#me274da2d50\" y=\"140.878678\"/>\r\n      </g>\r\n     </g>\r\n     <g id=\"text_23\">\r\n      <!-- saleYear -->\r\n      <g transform=\"translate(124.096875 144.677896)scale(0.1 -0.1)\">\r\n       <use xlink:href=\"#DejaVuSans-115\"/>\r\n       <use x=\"52.099609\" xlink:href=\"#DejaVuSans-97\"/>\r\n       <use x=\"113.378906\" xlink:href=\"#DejaVuSans-108\"/>\r\n       <use x=\"141.162109\" xlink:href=\"#DejaVuSans-101\"/>\r\n       <use x=\"202.685547\" xlink:href=\"#DejaVuSans-89\"/>\r\n       <use x=\"250.519531\" xlink:href=\"#DejaVuSans-101\"/>\r\n       <use x=\"312.042969\" xlink:href=\"#DejaVuSans-97\"/>\r\n       <use x=\"373.322266\" xlink:href=\"#DejaVuSans-114\"/>\r\n      </g>\r\n     </g>\r\n    </g>\r\n    <g id=\"ytick_14\">\r\n     <g id=\"line2d_23\">\r\n      <g>\r\n       <use style=\"stroke:#000000;stroke-width:0.8;\" x=\"172.540625\" xlink:href=\"#me274da2d50\" y=\"150.862149\"/>\r\n      </g>\r\n     </g>\r\n     <g id=\"text_24\">\r\n      <!-- Grouser_Tracks -->\r\n      <g transform=\"translate(89.60625 154.661368)scale(0.1 -0.1)\">\r\n       <defs>\r\n        <path d=\"M 59.515625 10.40625 \r\nL 59.515625 29.984375 \r\nL 43.40625 29.984375 \r\nL 43.40625 38.09375 \r\nL 69.28125 38.09375 \r\nL 69.28125 6.78125 \r\nQ 63.578125 2.734375 56.6875 0.65625 \r\nQ 49.8125 -1.421875 42 -1.421875 \r\nQ 24.90625 -1.421875 15.25 8.5625 \r\nQ 5.609375 18.5625 5.609375 36.375 \r\nQ 5.609375 54.25 15.25 64.234375 \r\nQ 24.90625 74.21875 42 74.21875 \r\nQ 49.125 74.21875 55.546875 72.453125 \r\nQ 61.96875 70.703125 67.390625 67.28125 \r\nL 67.390625 56.78125 \r\nQ 61.921875 61.421875 55.765625 63.765625 \r\nQ 49.609375 66.109375 42.828125 66.109375 \r\nQ 29.4375 66.109375 22.71875 58.640625 \r\nQ 16.015625 51.171875 16.015625 36.375 \r\nQ 16.015625 21.625 22.71875 14.15625 \r\nQ 29.4375 6.6875 42.828125 6.6875 \r\nQ 48.046875 6.6875 52.140625 7.59375 \r\nQ 56.25 8.5 59.515625 10.40625 \r\nz\r\n\" id=\"DejaVuSans-71\"/>\r\n        <path d=\"M -0.296875 72.90625 \r\nL 61.375 72.90625 \r\nL 61.375 64.59375 \r\nL 35.5 64.59375 \r\nL 35.5 0 \r\nL 25.59375 0 \r\nL 25.59375 64.59375 \r\nL -0.296875 64.59375 \r\nz\r\n\" id=\"DejaVuSans-84\"/>\r\n        <path d=\"M 9.078125 75.984375 \r\nL 18.109375 75.984375 \r\nL 18.109375 31.109375 \r\nL 44.921875 54.6875 \r\nL 56.390625 54.6875 \r\nL 27.390625 29.109375 \r\nL 57.625 0 \r\nL 45.90625 0 \r\nL 18.109375 26.703125 \r\nL 18.109375 0 \r\nL 9.078125 0 \r\nz\r\n\" id=\"DejaVuSans-107\"/>\r\n       </defs>\r\n       <use xlink:href=\"#DejaVuSans-71\"/>\r\n       <use x=\"77.490234\" xlink:href=\"#DejaVuSans-114\"/>\r\n       <use x=\"116.353516\" xlink:href=\"#DejaVuSans-111\"/>\r\n       <use x=\"177.535156\" xlink:href=\"#DejaVuSans-117\"/>\r\n       <use x=\"240.914062\" xlink:href=\"#DejaVuSans-115\"/>\r\n       <use x=\"293.013672\" xlink:href=\"#DejaVuSans-101\"/>\r\n       <use x=\"354.537109\" xlink:href=\"#DejaVuSans-114\"/>\r\n       <use x=\"395.650391\" xlink:href=\"#DejaVuSans-95\"/>\r\n       <use x=\"445.650391\" xlink:href=\"#DejaVuSans-84\"/>\r\n       <use x=\"491.984375\" xlink:href=\"#DejaVuSans-114\"/>\r\n       <use x=\"533.097656\" xlink:href=\"#DejaVuSans-97\"/>\r\n       <use x=\"594.376953\" xlink:href=\"#DejaVuSans-99\"/>\r\n       <use x=\"649.357422\" xlink:href=\"#DejaVuSans-107\"/>\r\n       <use x=\"707.267578\" xlink:href=\"#DejaVuSans-115\"/>\r\n      </g>\r\n     </g>\r\n    </g>\r\n    <g id=\"ytick_15\">\r\n     <g id=\"line2d_24\">\r\n      <g>\r\n       <use style=\"stroke:#000000;stroke-width:0.8;\" x=\"172.540625\" xlink:href=\"#me274da2d50\" y=\"160.84562\"/>\r\n      </g>\r\n     </g>\r\n     <g id=\"text_25\">\r\n      <!-- fiSecondaryDesc_is_missing -->\r\n      <g transform=\"translate(25.329688 164.644839)scale(0.1 -0.1)\">\r\n       <use xlink:href=\"#DejaVuSans-102\"/>\r\n       <use x=\"35.205078\" xlink:href=\"#DejaVuSans-105\"/>\r\n       <use x=\"62.988281\" xlink:href=\"#DejaVuSans-83\"/>\r\n       <use x=\"126.464844\" xlink:href=\"#DejaVuSans-101\"/>\r\n       <use x=\"187.988281\" xlink:href=\"#DejaVuSans-99\"/>\r\n       <use x=\"242.96875\" xlink:href=\"#DejaVuSans-111\"/>\r\n       <use x=\"304.150391\" xlink:href=\"#DejaVuSans-110\"/>\r\n       <use x=\"367.529297\" xlink:href=\"#DejaVuSans-100\"/>\r\n       <use x=\"431.005859\" xlink:href=\"#DejaVuSans-97\"/>\r\n       <use x=\"492.285156\" xlink:href=\"#DejaVuSans-114\"/>\r\n       <use x=\"533.398438\" xlink:href=\"#DejaVuSans-121\"/>\r\n       <use x=\"592.578125\" xlink:href=\"#DejaVuSans-68\"/>\r\n       <use x=\"669.580078\" xlink:href=\"#DejaVuSans-101\"/>\r\n       <use x=\"731.103516\" xlink:href=\"#DejaVuSans-115\"/>\r\n       <use x=\"783.203125\" xlink:href=\"#DejaVuSans-99\"/>\r\n       <use x=\"838.183594\" xlink:href=\"#DejaVuSans-95\"/>\r\n       <use x=\"888.183594\" xlink:href=\"#DejaVuSans-105\"/>\r\n       <use x=\"915.966797\" xlink:href=\"#DejaVuSans-115\"/>\r\n       <use x=\"968.066406\" xlink:href=\"#DejaVuSans-95\"/>\r\n       <use x=\"1018.066406\" xlink:href=\"#DejaVuSans-109\"/>\r\n       <use x=\"1115.478516\" xlink:href=\"#DejaVuSans-105\"/>\r\n       <use x=\"1143.261719\" xlink:href=\"#DejaVuSans-115\"/>\r\n       <use x=\"1195.361328\" xlink:href=\"#DejaVuSans-115\"/>\r\n       <use x=\"1247.460938\" xlink:href=\"#DejaVuSans-105\"/>\r\n       <use x=\"1275.244141\" xlink:href=\"#DejaVuSans-110\"/>\r\n       <use x=\"1338.623047\" xlink:href=\"#DejaVuSans-103\"/>\r\n      </g>\r\n     </g>\r\n    </g>\r\n    <g id=\"ytick_16\">\r\n     <g id=\"line2d_25\">\r\n      <g>\r\n       <use style=\"stroke:#000000;stroke-width:0.8;\" x=\"172.540625\" xlink:href=\"#me274da2d50\" y=\"170.829091\"/>\r\n      </g>\r\n     </g>\r\n     <g id=\"text_26\">\r\n      <!-- ProductSize_is_missing -->\r\n      <g transform=\"translate(50.659375 174.62831)scale(0.1 -0.1)\">\r\n       <use xlink:href=\"#DejaVuSans-80\"/>\r\n       <use x=\"58.552734\" xlink:href=\"#DejaVuSans-114\"/>\r\n       <use x=\"97.416016\" xlink:href=\"#DejaVuSans-111\"/>\r\n       <use x=\"158.597656\" xlink:href=\"#DejaVuSans-100\"/>\r\n       <use x=\"222.074219\" xlink:href=\"#DejaVuSans-117\"/>\r\n       <use x=\"285.453125\" xlink:href=\"#DejaVuSans-99\"/>\r\n       <use x=\"340.433594\" xlink:href=\"#DejaVuSans-116\"/>\r\n       <use x=\"379.642578\" xlink:href=\"#DejaVuSans-83\"/>\r\n       <use x=\"443.119141\" xlink:href=\"#DejaVuSans-105\"/>\r\n       <use x=\"470.902344\" xlink:href=\"#DejaVuSans-122\"/>\r\n       <use x=\"523.392578\" xlink:href=\"#DejaVuSans-101\"/>\r\n       <use x=\"584.916016\" xlink:href=\"#DejaVuSans-95\"/>\r\n       <use x=\"634.916016\" xlink:href=\"#DejaVuSans-105\"/>\r\n       <use x=\"662.699219\" xlink:href=\"#DejaVuSans-115\"/>\r\n       <use x=\"714.798828\" xlink:href=\"#DejaVuSans-95\"/>\r\n       <use x=\"764.798828\" xlink:href=\"#DejaVuSans-109\"/>\r\n       <use x=\"862.210938\" xlink:href=\"#DejaVuSans-105\"/>\r\n       <use x=\"889.994141\" xlink:href=\"#DejaVuSans-115\"/>\r\n       <use x=\"942.09375\" xlink:href=\"#DejaVuSans-115\"/>\r\n       <use x=\"994.193359\" xlink:href=\"#DejaVuSans-105\"/>\r\n       <use x=\"1021.976562\" xlink:href=\"#DejaVuSans-110\"/>\r\n       <use x=\"1085.355469\" xlink:href=\"#DejaVuSans-103\"/>\r\n      </g>\r\n     </g>\r\n    </g>\r\n    <g id=\"ytick_17\">\r\n     <g id=\"line2d_26\">\r\n      <g>\r\n       <use style=\"stroke:#000000;stroke-width:0.8;\" x=\"172.540625\" xlink:href=\"#me274da2d50\" y=\"180.812562\"/>\r\n      </g>\r\n     </g>\r\n     <g id=\"text_27\">\r\n      <!-- fiModelSeries -->\r\n      <g transform=\"translate(98.4625 184.611781)scale(0.1 -0.1)\">\r\n       <use xlink:href=\"#DejaVuSans-102\"/>\r\n       <use x=\"35.205078\" xlink:href=\"#DejaVuSans-105\"/>\r\n       <use x=\"62.988281\" xlink:href=\"#DejaVuSans-77\"/>\r\n       <use x=\"149.267578\" xlink:href=\"#DejaVuSans-111\"/>\r\n       <use x=\"210.449219\" xlink:href=\"#DejaVuSans-100\"/>\r\n       <use x=\"273.925781\" xlink:href=\"#DejaVuSans-101\"/>\r\n       <use x=\"335.449219\" xlink:href=\"#DejaVuSans-108\"/>\r\n       <use x=\"363.232422\" xlink:href=\"#DejaVuSans-83\"/>\r\n       <use x=\"426.708984\" xlink:href=\"#DejaVuSans-101\"/>\r\n       <use x=\"488.232422\" xlink:href=\"#DejaVuSans-114\"/>\r\n       <use x=\"529.345703\" xlink:href=\"#DejaVuSans-105\"/>\r\n       <use x=\"557.128906\" xlink:href=\"#DejaVuSans-101\"/>\r\n       <use x=\"618.652344\" xlink:href=\"#DejaVuSans-115\"/>\r\n      </g>\r\n     </g>\r\n    </g>\r\n    <g id=\"ytick_18\">\r\n     <g id=\"line2d_27\">\r\n      <g>\r\n       <use style=\"stroke:#000000;stroke-width:0.8;\" x=\"172.540625\" xlink:href=\"#me274da2d50\" y=\"190.796033\"/>\r\n      </g>\r\n     </g>\r\n     <g id=\"text_28\">\r\n      <!-- Ride_Control -->\r\n      <g transform=\"translate(102.170312 194.595252)scale(0.1 -0.1)\">\r\n       <defs>\r\n        <path d=\"M 44.390625 34.1875 \r\nQ 47.5625 33.109375 50.5625 29.59375 \r\nQ 53.5625 26.078125 56.59375 19.921875 \r\nL 66.609375 0 \r\nL 56 0 \r\nL 46.6875 18.703125 \r\nQ 43.0625 26.03125 39.671875 28.421875 \r\nQ 36.28125 30.8125 30.421875 30.8125 \r\nL 19.671875 30.8125 \r\nL 19.671875 0 \r\nL 9.8125 0 \r\nL 9.8125 72.90625 \r\nL 32.078125 72.90625 \r\nQ 44.578125 72.90625 50.734375 67.671875 \r\nQ 56.890625 62.453125 56.890625 51.90625 \r\nQ 56.890625 45.015625 53.6875 40.46875 \r\nQ 50.484375 35.9375 44.390625 34.1875 \r\nz\r\nM 19.671875 64.796875 \r\nL 19.671875 38.921875 \r\nL 32.078125 38.921875 \r\nQ 39.203125 38.921875 42.84375 42.21875 \r\nQ 46.484375 45.515625 46.484375 51.90625 \r\nQ 46.484375 58.296875 42.84375 61.546875 \r\nQ 39.203125 64.796875 32.078125 64.796875 \r\nz\r\n\" id=\"DejaVuSans-82\"/>\r\n       </defs>\r\n       <use xlink:href=\"#DejaVuSans-82\"/>\r\n       <use x=\"69.482422\" xlink:href=\"#DejaVuSans-105\"/>\r\n       <use x=\"97.265625\" xlink:href=\"#DejaVuSans-100\"/>\r\n       <use x=\"160.742188\" xlink:href=\"#DejaVuSans-101\"/>\r\n       <use x=\"222.265625\" xlink:href=\"#DejaVuSans-95\"/>\r\n       <use x=\"272.265625\" xlink:href=\"#DejaVuSans-67\"/>\r\n       <use x=\"342.089844\" xlink:href=\"#DejaVuSans-111\"/>\r\n       <use x=\"403.271484\" xlink:href=\"#DejaVuSans-110\"/>\r\n       <use x=\"466.650391\" xlink:href=\"#DejaVuSans-116\"/>\r\n       <use x=\"505.859375\" xlink:href=\"#DejaVuSans-114\"/>\r\n       <use x=\"544.722656\" xlink:href=\"#DejaVuSans-111\"/>\r\n       <use x=\"605.904297\" xlink:href=\"#DejaVuSans-108\"/>\r\n      </g>\r\n     </g>\r\n    </g>\r\n    <g id=\"ytick_19\">\r\n     <g id=\"line2d_28\">\r\n      <g>\r\n       <use style=\"stroke:#000000;stroke-width:0.8;\" x=\"172.540625\" xlink:href=\"#me274da2d50\" y=\"200.779504\"/>\r\n      </g>\r\n     </g>\r\n     <g id=\"text_29\">\r\n      <!-- Coupler_System -->\r\n      <g transform=\"translate(84.420312 204.578723)scale(0.1 -0.1)\">\r\n       <use xlink:href=\"#DejaVuSans-67\"/>\r\n       <use x=\"69.824219\" xlink:href=\"#DejaVuSans-111\"/>\r\n       <use x=\"131.005859\" xlink:href=\"#DejaVuSans-117\"/>\r\n       <use x=\"194.384766\" xlink:href=\"#DejaVuSans-112\"/>\r\n       <use x=\"257.861328\" xlink:href=\"#DejaVuSans-108\"/>\r\n       <use x=\"285.644531\" xlink:href=\"#DejaVuSans-101\"/>\r\n       <use x=\"347.167969\" xlink:href=\"#DejaVuSans-114\"/>\r\n       <use x=\"388.28125\" xlink:href=\"#DejaVuSans-95\"/>\r\n       <use x=\"438.28125\" xlink:href=\"#DejaVuSans-83\"/>\r\n       <use x=\"501.757812\" xlink:href=\"#DejaVuSans-121\"/>\r\n       <use x=\"560.9375\" xlink:href=\"#DejaVuSans-115\"/>\r\n       <use x=\"613.037109\" xlink:href=\"#DejaVuSans-116\"/>\r\n       <use x=\"652.246094\" xlink:href=\"#DejaVuSans-101\"/>\r\n       <use x=\"713.769531\" xlink:href=\"#DejaVuSans-109\"/>\r\n      </g>\r\n     </g>\r\n    </g>\r\n    <g id=\"ytick_20\">\r\n     <g id=\"line2d_29\">\r\n      <g>\r\n       <use style=\"stroke:#000000;stroke-width:0.8;\" x=\"172.540625\" xlink:href=\"#me274da2d50\" y=\"210.762975\"/>\r\n      </g>\r\n     </g>\r\n     <g id=\"text_30\">\r\n      <!-- MachineHoursCurrentMeter -->\r\n      <g transform=\"translate(27.864062 214.562194)scale(0.1 -0.1)\">\r\n       <defs>\r\n        <path d=\"M 9.8125 72.90625 \r\nL 19.671875 72.90625 \r\nL 19.671875 43.015625 \r\nL 55.515625 43.015625 \r\nL 55.515625 72.90625 \r\nL 65.375 72.90625 \r\nL 65.375 0 \r\nL 55.515625 0 \r\nL 55.515625 34.71875 \r\nL 19.671875 34.71875 \r\nL 19.671875 0 \r\nL 9.8125 0 \r\nz\r\n\" id=\"DejaVuSans-72\"/>\r\n       </defs>\r\n       <use xlink:href=\"#DejaVuSans-77\"/>\r\n       <use x=\"86.279297\" xlink:href=\"#DejaVuSans-97\"/>\r\n       <use x=\"147.558594\" xlink:href=\"#DejaVuSans-99\"/>\r\n       <use x=\"202.539062\" xlink:href=\"#DejaVuSans-104\"/>\r\n       <use x=\"265.917969\" xlink:href=\"#DejaVuSans-105\"/>\r\n       <use x=\"293.701172\" xlink:href=\"#DejaVuSans-110\"/>\r\n       <use x=\"357.080078\" xlink:href=\"#DejaVuSans-101\"/>\r\n       <use x=\"418.603516\" xlink:href=\"#DejaVuSans-72\"/>\r\n       <use x=\"493.798828\" xlink:href=\"#DejaVuSans-111\"/>\r\n       <use x=\"554.980469\" xlink:href=\"#DejaVuSans-117\"/>\r\n       <use x=\"618.359375\" xlink:href=\"#DejaVuSans-114\"/>\r\n       <use x=\"659.472656\" xlink:href=\"#DejaVuSans-115\"/>\r\n       <use x=\"711.572266\" xlink:href=\"#DejaVuSans-67\"/>\r\n       <use x=\"781.396484\" xlink:href=\"#DejaVuSans-117\"/>\r\n       <use x=\"844.775391\" xlink:href=\"#DejaVuSans-114\"/>\r\n       <use x=\"884.138672\" xlink:href=\"#DejaVuSans-114\"/>\r\n       <use x=\"923.001953\" xlink:href=\"#DejaVuSans-101\"/>\r\n       <use x=\"984.525391\" xlink:href=\"#DejaVuSans-110\"/>\r\n       <use x=\"1047.904297\" xlink:href=\"#DejaVuSans-116\"/>\r\n       <use x=\"1087.113281\" xlink:href=\"#DejaVuSans-77\"/>\r\n       <use x=\"1173.392578\" xlink:href=\"#DejaVuSans-101\"/>\r\n       <use x=\"1234.916016\" xlink:href=\"#DejaVuSans-116\"/>\r\n       <use x=\"1274.125\" xlink:href=\"#DejaVuSans-101\"/>\r\n       <use x=\"1335.648438\" xlink:href=\"#DejaVuSans-114\"/>\r\n      </g>\r\n     </g>\r\n    </g>\r\n    <g id=\"text_31\">\r\n     <!-- Features -->\r\n     <g transform=\"translate(14.798438 137.414531)rotate(-90)scale(0.1 -0.1)\">\r\n      <use xlink:href=\"#DejaVuSans-70\"/>\r\n      <use x=\"52.019531\" xlink:href=\"#DejaVuSans-101\"/>\r\n      <use x=\"113.542969\" xlink:href=\"#DejaVuSans-97\"/>\r\n      <use x=\"174.822266\" xlink:href=\"#DejaVuSans-116\"/>\r\n      <use x=\"214.03125\" xlink:href=\"#DejaVuSans-117\"/>\r\n      <use x=\"277.410156\" xlink:href=\"#DejaVuSans-114\"/>\r\n      <use x=\"316.273438\" xlink:href=\"#DejaVuSans-101\"/>\r\n      <use x=\"377.796875\" xlink:href=\"#DejaVuSans-115\"/>\r\n     </g>\r\n    </g>\r\n   </g>\r\n   <g id=\"patch_23\">\r\n    <path d=\"M 172.540625 224.64 \r\nL 172.540625 7.2 \r\n\" style=\"fill:none;stroke:#000000;stroke-linecap:square;stroke-linejoin:miter;stroke-width:0.8;\"/>\r\n   </g>\r\n   <g id=\"patch_24\">\r\n    <path d=\"M 507.340625 224.64 \r\nL 507.340625 7.2 \r\n\" style=\"fill:none;stroke:#000000;stroke-linecap:square;stroke-linejoin:miter;stroke-width:0.8;\"/>\r\n   </g>\r\n   <g id=\"patch_25\">\r\n    <path d=\"M 172.540625 224.64 \r\nL 507.340625 224.64 \r\n\" style=\"fill:none;stroke:#000000;stroke-linecap:square;stroke-linejoin:miter;stroke-width:0.8;\"/>\r\n   </g>\r\n   <g id=\"patch_26\">\r\n    <path d=\"M 172.540625 7.2 \r\nL 507.340625 7.2 \r\n\" style=\"fill:none;stroke:#000000;stroke-linecap:square;stroke-linejoin:miter;stroke-width:0.8;\"/>\r\n   </g>\r\n  </g>\r\n </g>\r\n <defs>\r\n  <clipPath id=\"p029122f0c2\">\r\n   <rect height=\"217.44\" width=\"334.8\" x=\"172.540625\" y=\"7.2\"/>\r\n  </clipPath>\r\n </defs>\r\n</svg>\r\n",
      "image/png": "[encoded data removed]"
     },
     "metadata": {
      "needs_background": "light"
     }
    }
   ],
   "source": [
    "plot_features(X_train.columns, ideal_model.feature_importances_)"
   ]
  },
  {
   "cell_type": "code",
   "execution_count": 141,
   "metadata": {},
   "outputs": [
    {
     "output_type": "execute_result",
     "data": {
      "text/plain": [
       "0    210775\n",
       "4     62274\n",
       "3     49678\n",
       "6     26494\n",
       "5     24840\n",
       "2     20975\n",
       "1      6089\n",
       "Name: ProductSize, dtype: int64"
      ]
     },
     "metadata": {},
     "execution_count": 141
    }
   ],
   "source": [
    "X_train['ProductSize'].value_counts()"
   ]
  },
  {
   "cell_type": "code",
   "execution_count": 142,
   "metadata": {},
   "outputs": [
    {
     "output_type": "execute_result",
     "data": {
      "text/plain": [
       "OROPS                  177971\n",
       "EROPS                  141769\n",
       "EROPS w AC              92601\n",
       "EROPS AC                   18\n",
       "NO ROPS                     3\n",
       "None or Unspecified         2\n",
       "Name: Enclosure, dtype: int64"
      ]
     },
     "metadata": {},
     "execution_count": 142
    }
   ],
   "source": [
    "df['Enclosure'].value_counts()"
   ]
  },
  {
   "source": [
    "** Question to finish ** Why might knowing the ffeature importances of a trained ML model be helpful?\n",
    "\n",
    "** Final challenge: ** What other ML models could you try on our dataset?\n",
    "\n",
    "Check out the regression section of this map, or try to look at something like CatBoost.ai of XGBost.ai"
   ],
   "cell_type": "markdown",
   "metadata": {}
  },
  {
   "cell_type": "code",
   "execution_count": null,
   "metadata": {},
   "outputs": [],
   "source": []
  }
 ]
}