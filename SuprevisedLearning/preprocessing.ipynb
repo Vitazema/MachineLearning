{
 "metadata": {
  "language_info": {
   "codemirror_mode": {
    "name": "ipython",
    "version": 3
   },
   "file_extension": ".py",
   "mimetype": "text/x-python",
   "name": "python",
   "nbconvert_exporter": "python",
   "pygments_lexer": "ipython3",
   "version": "3.9.4"
  },
  "orig_nbformat": 2,
  "kernelspec": {
   "name": "python394jvsc74a57bd07044b324f88c4208d441c8fce3c8f6c454026eeaf7e810a2852062e3590255dc",
   "display_name": "Python 3.9.4 64-bit ('tf': conda)"
  }
 },
 "nbformat": 4,
 "nbformat_minor": 2,
 "cells": [
  {
   "cell_type": "code",
   "execution_count": 1,
   "metadata": {},
   "outputs": [],
   "source": [
    "import numpy as np\n",
    "from sklearn.preprocessing import MinMaxScaler"
   ]
  },
  {
   "cell_type": "code",
   "execution_count": 3,
   "metadata": {},
   "outputs": [
    {
     "output_type": "execute_result",
     "data": {
      "text/plain": [
       "array([[ 22, 231],\n",
       "       [125, 240],\n",
       "       [543, 821],\n",
       "       [814, 331],\n",
       "       [ 32, 830],\n",
       "       [755, 316],\n",
       "       [894, 926],\n",
       "       [446, 742],\n",
       "       [522,  66],\n",
       "       [831, 957]])"
      ]
     },
     "metadata": {},
     "execution_count": 3
    }
   ],
   "source": [
    "data = np.random.randint(0,1000,(10,2))\n",
    "data"
   ]
  },
  {
   "cell_type": "code",
   "execution_count": 4,
   "metadata": {},
   "outputs": [],
   "source": [
    "scaler_model = MinMaxScaler()"
   ]
  },
  {
   "cell_type": "code",
   "execution_count": 5,
   "metadata": {},
   "outputs": [
    {
     "output_type": "execute_result",
     "data": {
      "text/plain": [
       "sklearn.preprocessing._data.MinMaxScaler"
      ]
     },
     "metadata": {},
     "execution_count": 5
    }
   ],
   "source": [
    "type(scaler_model)"
   ]
  },
  {
   "cell_type": "code",
   "execution_count": 6,
   "metadata": {},
   "outputs": [
    {
     "output_type": "execute_result",
     "data": {
      "text/plain": [
       "MinMaxScaler()"
      ]
     },
     "metadata": {},
     "execution_count": 6
    }
   ],
   "source": [
    "scaler_model.fit(data) # Model to lear what the minimum and maximum value for each column"
   ]
  },
  {
   "cell_type": "code",
   "execution_count": 7,
   "metadata": {},
   "outputs": [
    {
     "output_type": "execute_result",
     "data": {
      "text/plain": [
       "array([[0.        , 0.18518519],\n",
       "       [0.11811927, 0.1952862 ],\n",
       "       [0.59747706, 0.84736251],\n",
       "       [0.90825688, 0.29741863],\n",
       "       [0.01146789, 0.85746352],\n",
       "       [0.84059633, 0.28058361],\n",
       "       [1.        , 0.96520763],\n",
       "       [0.48623853, 0.75869809],\n",
       "       [0.5733945 , 0.        ],\n",
       "       [0.92775229, 1.        ]])"
      ]
     },
     "metadata": {},
     "execution_count": 7
    }
   ],
   "source": [
    "scaler_model.transform(data)"
   ]
  },
  {
   "cell_type": "code",
   "execution_count": 8,
   "metadata": {},
   "outputs": [
    {
     "output_type": "execute_result",
     "data": {
      "text/plain": [
       "array([[0.        , 0.18518519],\n",
       "       [0.11811927, 0.1952862 ],\n",
       "       [0.59747706, 0.84736251],\n",
       "       [0.90825688, 0.29741863],\n",
       "       [0.01146789, 0.85746352],\n",
       "       [0.84059633, 0.28058361],\n",
       "       [1.        , 0.96520763],\n",
       "       [0.48623853, 0.75869809],\n",
       "       [0.5733945 , 0.        ],\n",
       "       [0.92775229, 1.        ]])"
      ]
     },
     "metadata": {},
     "execution_count": 8
    }
   ],
   "source": [
    "scaler_model.fit_transform(data) # In one step"
   ]
  },
  {
   "cell_type": "code",
   "execution_count": 9,
   "metadata": {},
   "outputs": [],
   "source": [
    "import pandas as pd"
   ]
  },
  {
   "source": [
    "# Let's simulate a supervised ML data"
   ],
   "cell_type": "markdown",
   "metadata": {}
  },
  {
   "cell_type": "code",
   "execution_count": 14,
   "metadata": {},
   "outputs": [
    {
     "output_type": "execute_result",
     "data": {
      "text/plain": [
       "   weight  height  age\n",
       "0      22      46   45\n",
       "1      81       3   33\n",
       "2      66      18    8\n",
       "3      35       1   83\n",
       "4      96      54   90"
      ],
      "text/html": "<div>\n<style scoped>\n    .dataframe tbody tr th:only-of-type {\n        vertical-align: middle;\n    }\n\n    .dataframe tbody tr th {\n        vertical-align: top;\n    }\n\n    .dataframe thead th {\n        text-align: right;\n    }\n</style>\n<table border=\"1\" class=\"dataframe\">\n  <thead>\n    <tr style=\"text-align: right;\">\n      <th></th>\n      <th>weight</th>\n      <th>height</th>\n      <th>age</th>\n    </tr>\n  </thead>\n  <tbody>\n    <tr>\n      <th>0</th>\n      <td>22</td>\n      <td>46</td>\n      <td>45</td>\n    </tr>\n    <tr>\n      <th>1</th>\n      <td>81</td>\n      <td>3</td>\n      <td>33</td>\n    </tr>\n    <tr>\n      <th>2</th>\n      <td>66</td>\n      <td>18</td>\n      <td>8</td>\n    </tr>\n    <tr>\n      <th>3</th>\n      <td>35</td>\n      <td>1</td>\n      <td>83</td>\n    </tr>\n    <tr>\n      <th>4</th>\n      <td>96</td>\n      <td>54</td>\n      <td>90</td>\n    </tr>\n  </tbody>\n</table>\n</div>"
     },
     "metadata": {},
     "execution_count": 14
    }
   ],
   "source": [
    "data = np.random.randint(0, 101, (50, 3))\n",
    "df = pd.DataFrame(data=data, columns=['weight', 'height', 'age'])\n",
    "df.head()"
   ]
  },
  {
   "cell_type": "code",
   "execution_count": 15,
   "metadata": {},
   "outputs": [],
   "source": [
    "X = df[['weight', 'height']]\n",
    "y = df['age']"
   ]
  },
  {
   "cell_type": "code",
   "execution_count": 17,
   "metadata": {},
   "outputs": [],
   "source": [
    "from sklearn.model_selection import train_test_split\n",
    "X_train, X_test, y_train, y_test = train_test_split(X, y, test_size=0.33, random_state=42)"
   ]
  },
  {
   "cell_type": "code",
   "execution_count": 21,
   "metadata": {},
   "outputs": [
    {
     "output_type": "execute_result",
     "data": {
      "text/plain": [
       "((33, 2), (17, 2))"
      ]
     },
     "metadata": {},
     "execution_count": 21
    }
   ],
   "source": [
    "X_train.shape, X_test.shape"
   ]
  }
 ]
}