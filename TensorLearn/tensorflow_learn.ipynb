{
 "metadata": {
  "language_info": {
   "codemirror_mode": {
    "name": "ipython",
    "version": 3
   },
   "file_extension": ".py",
   "mimetype": "text/x-python",
   "name": "python",
   "nbconvert_exporter": "python",
   "pygments_lexer": "ipython3",
   "version": "3.9.4"
  },
  "orig_nbformat": 2,
  "kernelspec": {
   "name": "python394jvsc74a57bd07044b324f88c4208d441c8fce3c8f6c454026eeaf7e810a2852062e3590255dc",
   "display_name": "Python 3.9.4 64-bit ('tf': conda)"
  }
 },
 "nbformat": 4,
 "nbformat_minor": 2,
 "cells": [
  {
   "cell_type": "code",
   "execution_count": 1,
   "metadata": {},
   "outputs": [
    {
     "output_type": "stream",
     "name": "stdout",
     "text": [
      "INFO:tensorflow:Enabling eager execution\n",
      "INFO:tensorflow:Enabling v2 tensorshape\n",
      "INFO:tensorflow:Enabling resource variables\n",
      "INFO:tensorflow:Enabling tensor equality\n",
      "INFO:tensorflow:Enabling control flow v2\n"
     ]
    }
   ],
   "source": [
    "import tensorflow as tf"
   ]
  },
  {
   "cell_type": "code",
   "execution_count": 2,
   "metadata": {},
   "outputs": [
    {
     "output_type": "stream",
     "name": "stdout",
     "text": [
      "helloworld\n"
     ]
    }
   ],
   "source": [
    "\n",
    "tf.print(tf.constant(\"hello\") + tf.constant(\"world\"))"
   ]
  },
  {
   "cell_type": "code",
   "execution_count": 8,
   "metadata": {},
   "outputs": [
    {
     "output_type": "execute_result",
     "data": {
      "text/plain": [
       "tensorflow.python.framework.ops.EagerTensor"
      ]
     },
     "metadata": {},
     "execution_count": 8
    }
   ],
   "source": [
    "a = tf.constant(10)\n",
    "b = tf.constant(20)\n",
    "c = a + b\n",
    "type(a)"
   ]
  },
  {
   "cell_type": "code",
   "execution_count": 9,
   "metadata": {},
   "outputs": [
    {
     "output_type": "stream",
     "name": "stdout",
     "text": [
      "30\n",
      "tf.Tensor(30, shape=(), dtype=int32)\n"
     ]
    },
    {
     "output_type": "execute_result",
     "data": {
      "text/plain": [
       "(None, None)"
      ]
     },
     "metadata": {},
     "execution_count": 9
    }
   ],
   "source": [
    "tf.print(a + b), print(c)"
   ]
  },
  {
   "cell_type": "code",
   "execution_count": 10,
   "metadata": {},
   "outputs": [],
   "source": [
    "fill_mat = tf.fill((4,5), 10)"
   ]
  },
  {
   "cell_type": "code",
   "execution_count": 11,
   "metadata": {},
   "outputs": [],
   "source": [
    "my_zeros = tf.zeros((4,5))\n",
    "my_ones = tf.ones((4,5))\n",
    "myrandn = tf.random.normal((4,5), mean=0, stddev=1.0)\n",
    "myrandu = tf.random.uniform((4,5), minval=0, maxval=1)"
   ]
  },
  {
   "cell_type": "code",
   "execution_count": 12,
   "metadata": {},
   "outputs": [
    {
     "output_type": "stream",
     "name": "stdout",
     "text": [
      "10\n",
      "\n",
      "\n",
      "[[10 10 10 10 10]\n",
      " [10 10 10 10 10]\n",
      " [10 10 10 10 10]\n",
      " [10 10 10 10 10]]\n",
      "\n",
      "\n",
      "[[0 0 0 0 0]\n",
      " [0 0 0 0 0]\n",
      " [0 0 0 0 0]\n",
      " [0 0 0 0 0]]\n",
      "\n",
      "\n",
      "[[1 1 1 1 1]\n",
      " [1 1 1 1 1]\n",
      " [1 1 1 1 1]\n",
      " [1 1 1 1 1]]\n",
      "\n",
      "\n",
      "[[-0.737118423 0.429291 1.60712123 0.441361964 -0.910629332]\n",
      " [-0.557100892 -0.877674401 -0.112463251 0.831537366 -0.151828721]\n",
      " [-0.793870568 0.399505407 -0.714152336 -0.531755626 0.0024629524]\n",
      " [-0.638634622 -0.561333597 0.966260135 -0.954557776 0.285447627]]\n",
      "\n",
      "\n",
      "[[0.831645727 0.827078819 0.126921058 0.115712881 0.789498091]\n",
      " [0.0305063725 0.333105445 0.432439089 0.251762033 0.0420199633]\n",
      " [0.563636541 0.0300326347 0.278181434 0.214271784 0.882096648]\n",
      " [0.450122714 0.635629535 0.0335947275 0.671189547 0.528993249]]\n",
      "\n",
      "\n"
     ]
    }
   ],
   "source": [
    "my_ops = [a, fill_mat, my_zeros, my_ones, myrandn, myrandu]\n",
    "for o in my_ops:\n",
    "    tf.print(o)\n",
    "    print(\"\\n\")"
   ]
  },
  {
   "cell_type": "code",
   "execution_count": 13,
   "metadata": {},
   "outputs": [
    {
     "output_type": "execute_result",
     "data": {
      "text/plain": [
       "TensorShape([2, 2])"
      ]
     },
     "metadata": {},
     "execution_count": 13
    }
   ],
   "source": [
    "a = tf.constant([ [1, 2],\n",
    "                [3, 4] ])\n",
    "a.shape"
   ]
  },
  {
   "cell_type": "code",
   "execution_count": 14,
   "metadata": {},
   "outputs": [
    {
     "output_type": "execute_result",
     "data": {
      "text/plain": [
       "TensorShape([2, 1])"
      ]
     },
     "metadata": {},
     "execution_count": 14
    }
   ],
   "source": [
    "b = tf.constant([ [10], [100] ])\n",
    "b.shape"
   ]
  },
  {
   "cell_type": "code",
   "execution_count": 15,
   "metadata": {},
   "outputs": [
    {
     "output_type": "stream",
     "name": "stdout",
     "text": [
      "[[210]\n [430]]\n"
     ]
    }
   ],
   "source": [
    "result = tf.matmul(a, b)\n",
    "tf.print(result)"
   ]
  },
  {
   "source": [
    "# TF Graphs"
   ],
   "cell_type": "markdown",
   "metadata": {}
  },
  {
   "cell_type": "code",
   "execution_count": 16,
   "metadata": {},
   "outputs": [
    {
     "output_type": "stream",
     "name": "stdout",
     "text": [
      "30\n"
     ]
    }
   ],
   "source": [
    "a = tf.constant(10)\n",
    "b = tf.constant(20)\n",
    "n = a + b\n",
    "tf.print(n)"
   ]
  },
  {
   "cell_type": "code",
   "execution_count": 17,
   "metadata": {},
   "outputs": [],
   "source": [
    "default_graph = tf.compat.v1.get_default_graph()"
   ]
  },
  {
   "cell_type": "code",
   "execution_count": 18,
   "metadata": {},
   "outputs": [],
   "source": [
    "graph2 = tf.Graph()\n"
   ]
  },
  {
   "cell_type": "code",
   "execution_count": 19,
   "metadata": {},
   "outputs": [
    {
     "output_type": "stream",
     "name": "stdout",
     "text": [
      "True\n"
     ]
    }
   ],
   "source": [
    "with graph2.as_default():\n",
    "    print(graph2 is tf.compat.v1.get_default_graph())"
   ]
  },
  {
   "cell_type": "code",
   "execution_count": 20,
   "metadata": {},
   "outputs": [
    {
     "output_type": "stream",
     "name": "stdout",
     "text": [
      "False\n"
     ]
    }
   ],
   "source": [
    "print(graph2 is tf.compat.v1.get_default_graph())"
   ]
  },
  {
   "cell_type": "code",
   "execution_count": 22,
   "metadata": {},
   "outputs": [
    {
     "output_type": "execute_result",
     "data": {
      "text/plain": [
       "TensorShape([4, 4])"
      ]
     },
     "metadata": {},
     "execution_count": 22
    }
   ],
   "source": [
    "tensor = tf.random.uniform((4, 4), 0, 1)\n",
    "tensor.shape"
   ]
  },
  {
   "cell_type": "code",
   "execution_count": 25,
   "metadata": {},
   "outputs": [
    {
     "output_type": "stream",
     "name": "stdout",
     "text": [
      "<tf.Variable 'Variable:0' shape=(4, 4) dtype=float32, numpy=\narray([[0.49332988, 0.3149389 , 0.75313795, 0.93582845],\n       [0.82848775, 0.8663161 , 0.97890127, 0.536445  ],\n       [0.93986404, 0.8856337 , 0.33595228, 0.4871974 ],\n       [0.68694055, 0.7361766 , 0.04364061, 0.9582343 ]], dtype=float32)>\n"
     ]
    }
   ],
   "source": [
    "var_1 = tf.Variable(initial_value=tensor)\n",
    "print(var_1)"
   ]
  },
  {
   "cell_type": "code",
   "execution_count": 24,
   "metadata": {},
   "outputs": [
    {
     "output_type": "stream",
     "name": "stdout",
     "text": [
      "<tf.Variable 'Variable:0' shape=(4, 4) dtype=float32, numpy=\narray([[0.49332988, 0.3149389 , 0.75313795, 0.93582845],\n       [0.82848775, 0.8663161 , 0.97890127, 0.536445  ],\n       [0.93986404, 0.8856337 , 0.33595228, 0.4871974 ],\n       [0.68694055, 0.7361766 , 0.04364061, 0.9582343 ]], dtype=float32)>\n"
     ]
    }
   ],
   "source": [
    "print(var_1)"
   ]
  },
  {
   "cell_type": "code",
   "execution_count": null,
   "metadata": {},
   "outputs": [],
   "source": []
  }
 ]
}