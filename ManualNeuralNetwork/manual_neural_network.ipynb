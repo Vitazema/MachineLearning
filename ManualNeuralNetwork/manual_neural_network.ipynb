{
 "metadata": {
  "language_info": {
   "codemirror_mode": {
    "name": "ipython",
    "version": 3
   },
   "file_extension": ".py",
   "mimetype": "text/x-python",
   "name": "python",
   "nbconvert_exporter": "python",
   "pygments_lexer": "ipython3",
   "version": "3.9.4"
  },
  "orig_nbformat": 2,
  "kernelspec": {
   "name": "python394jvsc74a57bd07044b324f88c4208d441c8fce3c8f6c454026eeaf7e810a2852062e3590255dc",
   "display_name": "Python 3.9.4 64-bit ('tf': conda)"
  }
 },
 "nbformat": 4,
 "nbformat_minor": 2,
 "cells": [
  {
   "source": [
    "# Build a Manual Neural Network\n",
    "\n",
    "In this section we will build out a neural network minics the TensorFlow API. This will greatly help your understanding when working with the real TensorFlow!"
   ],
   "cell_type": "markdown",
   "metadata": {}
  },
  {
   "cell_type": "code",
   "execution_count": 6,
   "metadata": {},
   "outputs": [],
   "source": [
    "class SimpleClass():\n",
    "    def __init__(self):\n",
    "        print(\"hello world!\")\n",
    "    \n",
    "    def yell(self):\n",
    "        print(\"I'M DOG\")"
   ]
  },
  {
   "cell_type": "code",
   "execution_count": 9,
   "metadata": {},
   "outputs": [
    {
     "output_type": "stream",
     "name": "stdout",
     "text": [
      "hello world!\n"
     ]
    }
   ],
   "source": [
    "x = SimpleClass()"
   ]
  },
  {
   "cell_type": "code",
   "execution_count": 14,
   "metadata": {},
   "outputs": [],
   "source": [
    "class ExtendedClass(SimpleClass): # Inherits from SimpleClass\n",
    "    def __init__(self):\n",
    "        super().__init__() # Grab derived class\n",
    "        print(\"EXTEND!\")"
   ]
  },
  {
   "cell_type": "code",
   "execution_count": 15,
   "metadata": {},
   "outputs": [
    {
     "output_type": "stream",
     "name": "stdout",
     "text": [
      "hello world!\nEXTEND!\n"
     ]
    }
   ],
   "source": [
    "y = ExtendedClass()"
   ]
  },
  {
   "source": [
    "## Operation class"
   ],
   "cell_type": "markdown",
   "metadata": {}
  },
  {
   "cell_type": "code",
   "execution_count": 149,
   "metadata": {},
   "outputs": [],
   "source": [
    "import numpy as np\n",
    "\n",
    "class Operation():\n",
    "    '''\n",
    "    An Operation is a node in a \"Graph\". TensorFlow will also use this concept of a Graph.\n",
    "\n",
    "    This Operation class wil be inherited by other classes that actually compute the specific operation, such as adding or multiplication.\n",
    "    '''\n",
    "    def __init__(self, input_nodes=[]):\n",
    "        '''\n",
    "        Initialize an Operation\n",
    "        '''\n",
    "        self.input_nodes = input_nodes # List of input nodes\n",
    "        self.output_nodes = [] # List of nodes consuming this node's output\n",
    "\n",
    "        # For every node in the input, we append this operation (self) to the\n",
    "        # list of the consumers of the input nodes\n",
    "        for node in input_nodes:\n",
    "            node.output_nodes.append(self)\n",
    "\n",
    "        # There will be a global default graph (TF works whi way)\n",
    "        # We will then append this particular operation\n",
    "        # Append this operation to the list of operations in the curently active default graph\n",
    "        _default_graph.operations.append(self)\n",
    "\n",
    "    def compute(self):\n",
    "        '''\n",
    "        This is a placeholder function. It will be overwritten by the actual specific operation\n",
    "        that inherits from this class.\n",
    "        '''\n",
    "        pass\n",
    "\n",
    "class Add(Operation):\n",
    "    def __init__(self, x, y):\n",
    "         \n",
    "        super().__init__([x, y])\n",
    "\n",
    "    def compute(self, x_var, y_var):\n",
    "         \n",
    "        self.inputs = [x_var, y_var]\n",
    "        return x_var + y_var\n",
    "\n",
    "class Multiply(Operation):\n",
    "     \n",
    "    def __init__(self, a, b):\n",
    "        \n",
    "        super().__init__([a, b])\n",
    "    \n",
    "    def compute(self, a_var, b_var):\n",
    "         \n",
    "        self.inputs = [a_var, b_var]\n",
    "        return a_var * b_var\n",
    "\n",
    "class MatMul(Operation):\n",
    "     \n",
    "    def __init__(self, a, b):\n",
    "        \n",
    "        super().__init__([a, b])\n",
    "    \n",
    "    def compute(self, a_mat, b_mat):\n",
    "         \n",
    "        self.inputs = [a_mat, b_mat]\n",
    "        return a_mat.dot(b_mat)"
   ]
  },
  {
   "cell_type": "code",
   "execution_count": 150,
   "metadata": {},
   "outputs": [],
   "source": [
    "class Placeholder():\n",
    "    \"\"\"\n",
    "    A placeholder is a node that needs to be provided a value for computing the output in the Graph.\n",
    "    \"\"\"\n",
    "    \n",
    "    def __init__(self):\n",
    "        \n",
    "        self.output_nodes = []\n",
    "        \n",
    "        _default_graph.placeholders.append(self)\n",
    "\n",
    "class Variable():\n",
    "    \"\"\"\n",
    "    This variable is a changeable parameter of the Graph.\n",
    "    \"\"\"\n",
    "    \n",
    "    def __init__(self, initial_value = None):\n",
    "        \n",
    "        self.value = initial_value\n",
    "        self.output_nodes = []\n",
    "        \n",
    "         \n",
    "        _default_graph.variables.append(self)\n",
    "\n",
    "class Graph():\n",
    "    \n",
    "    \n",
    "    def __init__(self):\n",
    "        \n",
    "        self.operations = []\n",
    "        self.placeholders = []\n",
    "        self.variables = []\n",
    "        \n",
    "    def set_as_default(self):\n",
    "        \"\"\"\n",
    "        Sets this Graph instance as the Global Default Graph\n",
    "        \"\"\"\n",
    "        global _default_graph\n",
    "        _default_graph = self"
   ]
  },
  {
   "source": [
    "z = Ax + b\n",
    "\n",
    "A = 10\n",
    "\n",
    "b = 1\n",
    "\n",
    "z = 10x + 1"
   ],
   "cell_type": "markdown",
   "metadata": {}
  },
  {
   "cell_type": "code",
   "execution_count": 151,
   "metadata": {},
   "outputs": [],
   "source": [
    "g = Graph()\n",
    "g.set_as_default()\n",
    "A = Variable(10)\n",
    "b = Variable(2)\n",
    "x = Placeholder()"
   ]
  },
  {
   "cell_type": "code",
   "execution_count": 152,
   "metadata": {},
   "outputs": [],
   "source": [
    "y = Multiply(A, x)\n",
    "z = Add(y, b)"
   ]
  },
  {
   "source": [
    "## Traversing Operation Nodes"
   ],
   "cell_type": "markdown",
   "metadata": {}
  },
  {
   "cell_type": "code",
   "execution_count": 153,
   "metadata": {},
   "outputs": [],
   "source": [
    "def traverse_postorder(operation):\n",
    "    \"\"\" \n",
    "    PostOrder Traversal of Nodes. Basically makes sure computations are done in \n",
    "    the correct order (Ax first , then Ax + b). Feel free to copy and paste this code.\n",
    "    It is not super important for understanding the basic fundamentals of deep learning.\n",
    "    \"\"\"\n",
    "    \n",
    "    nodes_postorder = []\n",
    "    def recurse(node):\n",
    "        if isinstance(node, Operation):\n",
    "            for input_node in node.input_nodes:\n",
    "                recurse(input_node)\n",
    "        nodes_postorder.append(node)\n",
    "\n",
    "    recurse(operation)\n",
    "    return nodes_postorder"
   ]
  },
  {
   "cell_type": "code",
   "execution_count": 154,
   "metadata": {},
   "outputs": [],
   "source": [
    "class Session:\n",
    "    \n",
    "    def run(self, operation, feed_dict = {}):\n",
    "        \"\"\" \n",
    "          operation: The operation to compute\n",
    "          feed_dict: Dictionary mapping placeholders to input values (the data)  \n",
    "        \"\"\"\n",
    "        \n",
    "        # Puts nodes in correct order\n",
    "        nodes_postorder = traverse_postorder(operation)\n",
    "        \n",
    "        for node in nodes_postorder:\n",
    "\n",
    "            if type(node) == Placeholder:\n",
    "                \n",
    "                node.output = feed_dict[node]\n",
    "                \n",
    "            elif type(node) == Variable:\n",
    "                \n",
    "                node.output = node.value\n",
    "                \n",
    "            else: # Operation\n",
    "                \n",
    "                node.inputs = [input_node.output for input_node in node.input_nodes]\n",
    "\n",
    "                 \n",
    "                node.output = node.compute(*node.inputs)\n",
    "                \n",
    "            # Convert lists to numpy arrays\n",
    "            if type(node.output) == list:\n",
    "                node.output = np.array(node.output)\n",
    "        \n",
    "        # Return the requested node value\n",
    "        return operation.output"
   ]
  },
  {
   "cell_type": "code",
   "execution_count": 155,
   "metadata": {},
   "outputs": [
    {
     "output_type": "execute_result",
     "data": {
      "text/plain": [
       "102"
      ]
     },
     "metadata": {},
     "execution_count": 155
    }
   ],
   "source": [
    "session = Session()\n",
    "results = session.run(operation=z, feed_dict={x:10})\n",
    "results"
   ]
  },
  {
   "cell_type": "code",
   "execution_count": 156,
   "metadata": {},
   "outputs": [],
   "source": [
    "g = Graph()\n",
    "g.set_as_default()\n",
    "A = Variable([[10, 30], [39, 24]])\n",
    "b = Variable([1, 2])\n",
    "\n",
    "x = Placeholder()\n",
    "y = MatMul(A, x)\n",
    "\n",
    "z = Add(y, b)"
   ]
  },
  {
   "cell_type": "code",
   "execution_count": 157,
   "metadata": {},
   "outputs": [
    {
     "output_type": "execute_result",
     "data": {
      "text/plain": [
       "array([[101, 302],\n",
       "       [391, 242]])"
      ]
     },
     "metadata": {},
     "execution_count": 157
    }
   ],
   "source": [
    "session = Session()\n",
    "session.run(operation=z, feed_dict={x:10})"
   ]
  },
  {
   "source": [
    "## Activation functions"
   ],
   "cell_type": "markdown",
   "metadata": {}
  },
  {
   "cell_type": "code",
   "execution_count": 158,
   "metadata": {},
   "outputs": [],
   "source": [
    "import matplotlib.pyplot as plt\n",
    "%matplotlib inline"
   ]
  },
  {
   "cell_type": "code",
   "execution_count": 159,
   "metadata": {},
   "outputs": [],
   "source": [
    "def sigmoid(z):\n",
    "    return 1/(1 + np.exp(-z))"
   ]
  },
  {
   "cell_type": "code",
   "execution_count": 160,
   "metadata": {},
   "outputs": [],
   "source": [
    "sample_z = np.linspace(-10, 10, 100)\n",
    "sample_a = sigmoid(sample_z)"
   ]
  },
  {
   "cell_type": "code",
   "execution_count": 161,
   "metadata": {},
   "outputs": [
    {
     "output_type": "execute_result",
     "data": {
      "text/plain": [
       "[<matplotlib.lines.Line2D at 0x23fedc61760>]"
      ]
     },
     "metadata": {},
     "execution_count": 161
    },
    {
     "output_type": "display_data",
     "data": {
      "text/plain": "<Figure size 432x288 with 1 Axes>",
      "image/svg+xml": "<?xml version=\"1.0\" encoding=\"utf-8\" standalone=\"no\"?>\r\n<!DOCTYPE svg PUBLIC \"-//W3C//DTD SVG 1.1//EN\"\r\n  \"http://www.w3.org/Graphics/SVG/1.1/DTD/svg11.dtd\">\r\n<!-- Created with matplotlib (https://matplotlib.org/) -->\r\n<svg height=\"248.518125pt\" version=\"1.1\" viewBox=\"0 0 372.103125 248.518125\" width=\"372.103125pt\" xmlns=\"http://www.w3.org/2000/svg\" xmlns:xlink=\"http://www.w3.org/1999/xlink\">\r\n <metadata>\r\n  <rdf:RDF xmlns:cc=\"http://creativecommons.org/ns#\" xmlns:dc=\"http://purl.org/dc/elements/1.1/\" xmlns:rdf=\"http://www.w3.org/1999/02/22-rdf-syntax-ns#\">\r\n   <cc:Work>\r\n    <dc:type rdf:resource=\"http://purl.org/dc/dcmitype/StillImage\"/>\r\n    <dc:date>2021-05-08T18:01:27.046141</dc:date>\r\n    <dc:format>image/svg+xml</dc:format>\r\n    <dc:creator>\r\n     <cc:Agent>\r\n      <dc:title>Matplotlib v3.3.4, https://matplotlib.org/</dc:title>\r\n     </cc:Agent>\r\n    </dc:creator>\r\n   </cc:Work>\r\n  </rdf:RDF>\r\n </metadata>\r\n <defs>\r\n  <style type=\"text/css\">*{stroke-linecap:butt;stroke-linejoin:round;}</style>\r\n </defs>\r\n <g id=\"figure_1\">\r\n  <g id=\"patch_1\">\r\n   <path d=\"M 0 248.518125 \r\nL 372.103125 248.518125 \r\nL 372.103125 0 \r\nL 0 0 \r\nz\r\n\" style=\"fill:none;\"/>\r\n  </g>\r\n  <g id=\"axes_1\">\r\n   <g id=\"patch_2\">\r\n    <path d=\"M 30.103125 224.64 \r\nL 364.903125 224.64 \r\nL 364.903125 7.2 \r\nL 30.103125 7.2 \r\nz\r\n\" style=\"fill:#ffffff;\"/>\r\n   </g>\r\n   <g id=\"matplotlib.axis_1\">\r\n    <g id=\"xtick_1\">\r\n     <g id=\"line2d_1\">\r\n      <defs>\r\n       <path d=\"M 0 0 \r\nL 0 3.5 \r\n\" id=\"md339c9c31c\" style=\"stroke:#000000;stroke-width:0.8;\"/>\r\n      </defs>\r\n      <g>\r\n       <use style=\"stroke:#000000;stroke-width:0.8;\" x=\"45.321307\" xlink:href=\"#md339c9c31c\" y=\"224.64\"/>\r\n      </g>\r\n     </g>\r\n     <g id=\"text_1\">\r\n      <!-- −10.0 -->\r\n      <g transform=\"translate(29.998651 239.238437)scale(0.1 -0.1)\">\r\n       <defs>\r\n        <path d=\"M 10.59375 35.5 \r\nL 73.1875 35.5 \r\nL 73.1875 27.203125 \r\nL 10.59375 27.203125 \r\nz\r\n\" id=\"DejaVuSans-8722\"/>\r\n        <path d=\"M 12.40625 8.296875 \r\nL 28.515625 8.296875 \r\nL 28.515625 63.921875 \r\nL 10.984375 60.40625 \r\nL 10.984375 69.390625 \r\nL 28.421875 72.90625 \r\nL 38.28125 72.90625 \r\nL 38.28125 8.296875 \r\nL 54.390625 8.296875 \r\nL 54.390625 0 \r\nL 12.40625 0 \r\nz\r\n\" id=\"DejaVuSans-49\"/>\r\n        <path d=\"M 31.78125 66.40625 \r\nQ 24.171875 66.40625 20.328125 58.90625 \r\nQ 16.5 51.421875 16.5 36.375 \r\nQ 16.5 21.390625 20.328125 13.890625 \r\nQ 24.171875 6.390625 31.78125 6.390625 \r\nQ 39.453125 6.390625 43.28125 13.890625 \r\nQ 47.125 21.390625 47.125 36.375 \r\nQ 47.125 51.421875 43.28125 58.90625 \r\nQ 39.453125 66.40625 31.78125 66.40625 \r\nz\r\nM 31.78125 74.21875 \r\nQ 44.046875 74.21875 50.515625 64.515625 \r\nQ 56.984375 54.828125 56.984375 36.375 \r\nQ 56.984375 17.96875 50.515625 8.265625 \r\nQ 44.046875 -1.421875 31.78125 -1.421875 \r\nQ 19.53125 -1.421875 13.0625 8.265625 \r\nQ 6.59375 17.96875 6.59375 36.375 \r\nQ 6.59375 54.828125 13.0625 64.515625 \r\nQ 19.53125 74.21875 31.78125 74.21875 \r\nz\r\n\" id=\"DejaVuSans-48\"/>\r\n        <path d=\"M 10.6875 12.40625 \r\nL 21 12.40625 \r\nL 21 0 \r\nL 10.6875 0 \r\nz\r\n\" id=\"DejaVuSans-46\"/>\r\n       </defs>\r\n       <use xlink:href=\"#DejaVuSans-8722\"/>\r\n       <use x=\"83.789062\" xlink:href=\"#DejaVuSans-49\"/>\r\n       <use x=\"147.412109\" xlink:href=\"#DejaVuSans-48\"/>\r\n       <use x=\"211.035156\" xlink:href=\"#DejaVuSans-46\"/>\r\n       <use x=\"242.822266\" xlink:href=\"#DejaVuSans-48\"/>\r\n      </g>\r\n     </g>\r\n    </g>\r\n    <g id=\"xtick_2\">\r\n     <g id=\"line2d_2\">\r\n      <g>\r\n       <use style=\"stroke:#000000;stroke-width:0.8;\" x=\"83.366761\" xlink:href=\"#md339c9c31c\" y=\"224.64\"/>\r\n      </g>\r\n     </g>\r\n     <g id=\"text_2\">\r\n      <!-- −7.5 -->\r\n      <g transform=\"translate(71.225355 239.238437)scale(0.1 -0.1)\">\r\n       <defs>\r\n        <path d=\"M 8.203125 72.90625 \r\nL 55.078125 72.90625 \r\nL 55.078125 68.703125 \r\nL 28.609375 0 \r\nL 18.3125 0 \r\nL 43.21875 64.59375 \r\nL 8.203125 64.59375 \r\nz\r\n\" id=\"DejaVuSans-55\"/>\r\n        <path d=\"M 10.796875 72.90625 \r\nL 49.515625 72.90625 \r\nL 49.515625 64.59375 \r\nL 19.828125 64.59375 \r\nL 19.828125 46.734375 \r\nQ 21.96875 47.46875 24.109375 47.828125 \r\nQ 26.265625 48.1875 28.421875 48.1875 \r\nQ 40.625 48.1875 47.75 41.5 \r\nQ 54.890625 34.8125 54.890625 23.390625 \r\nQ 54.890625 11.625 47.5625 5.09375 \r\nQ 40.234375 -1.421875 26.90625 -1.421875 \r\nQ 22.3125 -1.421875 17.546875 -0.640625 \r\nQ 12.796875 0.140625 7.71875 1.703125 \r\nL 7.71875 11.625 \r\nQ 12.109375 9.234375 16.796875 8.0625 \r\nQ 21.484375 6.890625 26.703125 6.890625 \r\nQ 35.15625 6.890625 40.078125 11.328125 \r\nQ 45.015625 15.765625 45.015625 23.390625 \r\nQ 45.015625 31 40.078125 35.4375 \r\nQ 35.15625 39.890625 26.703125 39.890625 \r\nQ 22.75 39.890625 18.8125 39.015625 \r\nQ 14.890625 38.140625 10.796875 36.28125 \r\nz\r\n\" id=\"DejaVuSans-53\"/>\r\n       </defs>\r\n       <use xlink:href=\"#DejaVuSans-8722\"/>\r\n       <use x=\"83.789062\" xlink:href=\"#DejaVuSans-55\"/>\r\n       <use x=\"147.412109\" xlink:href=\"#DejaVuSans-46\"/>\r\n       <use x=\"179.199219\" xlink:href=\"#DejaVuSans-53\"/>\r\n      </g>\r\n     </g>\r\n    </g>\r\n    <g id=\"xtick_3\">\r\n     <g id=\"line2d_3\">\r\n      <g>\r\n       <use style=\"stroke:#000000;stroke-width:0.8;\" x=\"121.412216\" xlink:href=\"#md339c9c31c\" y=\"224.64\"/>\r\n      </g>\r\n     </g>\r\n     <g id=\"text_3\">\r\n      <!-- −5.0 -->\r\n      <g transform=\"translate(109.27081 239.238437)scale(0.1 -0.1)\">\r\n       <use xlink:href=\"#DejaVuSans-8722\"/>\r\n       <use x=\"83.789062\" xlink:href=\"#DejaVuSans-53\"/>\r\n       <use x=\"147.412109\" xlink:href=\"#DejaVuSans-46\"/>\r\n       <use x=\"179.199219\" xlink:href=\"#DejaVuSans-48\"/>\r\n      </g>\r\n     </g>\r\n    </g>\r\n    <g id=\"xtick_4\">\r\n     <g id=\"line2d_4\">\r\n      <g>\r\n       <use style=\"stroke:#000000;stroke-width:0.8;\" x=\"159.45767\" xlink:href=\"#md339c9c31c\" y=\"224.64\"/>\r\n      </g>\r\n     </g>\r\n     <g id=\"text_4\">\r\n      <!-- −2.5 -->\r\n      <g transform=\"translate(147.316264 239.238437)scale(0.1 -0.1)\">\r\n       <defs>\r\n        <path d=\"M 19.1875 8.296875 \r\nL 53.609375 8.296875 \r\nL 53.609375 0 \r\nL 7.328125 0 \r\nL 7.328125 8.296875 \r\nQ 12.9375 14.109375 22.625 23.890625 \r\nQ 32.328125 33.6875 34.8125 36.53125 \r\nQ 39.546875 41.84375 41.421875 45.53125 \r\nQ 43.3125 49.21875 43.3125 52.78125 \r\nQ 43.3125 58.59375 39.234375 62.25 \r\nQ 35.15625 65.921875 28.609375 65.921875 \r\nQ 23.96875 65.921875 18.8125 64.3125 \r\nQ 13.671875 62.703125 7.8125 59.421875 \r\nL 7.8125 69.390625 \r\nQ 13.765625 71.78125 18.9375 73 \r\nQ 24.125 74.21875 28.421875 74.21875 \r\nQ 39.75 74.21875 46.484375 68.546875 \r\nQ 53.21875 62.890625 53.21875 53.421875 \r\nQ 53.21875 48.921875 51.53125 44.890625 \r\nQ 49.859375 40.875 45.40625 35.40625 \r\nQ 44.1875 33.984375 37.640625 27.21875 \r\nQ 31.109375 20.453125 19.1875 8.296875 \r\nz\r\n\" id=\"DejaVuSans-50\"/>\r\n       </defs>\r\n       <use xlink:href=\"#DejaVuSans-8722\"/>\r\n       <use x=\"83.789062\" xlink:href=\"#DejaVuSans-50\"/>\r\n       <use x=\"147.412109\" xlink:href=\"#DejaVuSans-46\"/>\r\n       <use x=\"179.199219\" xlink:href=\"#DejaVuSans-53\"/>\r\n      </g>\r\n     </g>\r\n    </g>\r\n    <g id=\"xtick_5\">\r\n     <g id=\"line2d_5\">\r\n      <g>\r\n       <use style=\"stroke:#000000;stroke-width:0.8;\" x=\"197.503125\" xlink:href=\"#md339c9c31c\" y=\"224.64\"/>\r\n      </g>\r\n     </g>\r\n     <g id=\"text_5\">\r\n      <!-- 0.0 -->\r\n      <g transform=\"translate(189.551563 239.238437)scale(0.1 -0.1)\">\r\n       <use xlink:href=\"#DejaVuSans-48\"/>\r\n       <use x=\"63.623047\" xlink:href=\"#DejaVuSans-46\"/>\r\n       <use x=\"95.410156\" xlink:href=\"#DejaVuSans-48\"/>\r\n      </g>\r\n     </g>\r\n    </g>\r\n    <g id=\"xtick_6\">\r\n     <g id=\"line2d_6\">\r\n      <g>\r\n       <use style=\"stroke:#000000;stroke-width:0.8;\" x=\"235.54858\" xlink:href=\"#md339c9c31c\" y=\"224.64\"/>\r\n      </g>\r\n     </g>\r\n     <g id=\"text_6\">\r\n      <!-- 2.5 -->\r\n      <g transform=\"translate(227.597017 239.238437)scale(0.1 -0.1)\">\r\n       <use xlink:href=\"#DejaVuSans-50\"/>\r\n       <use x=\"63.623047\" xlink:href=\"#DejaVuSans-46\"/>\r\n       <use x=\"95.410156\" xlink:href=\"#DejaVuSans-53\"/>\r\n      </g>\r\n     </g>\r\n    </g>\r\n    <g id=\"xtick_7\">\r\n     <g id=\"line2d_7\">\r\n      <g>\r\n       <use style=\"stroke:#000000;stroke-width:0.8;\" x=\"273.594034\" xlink:href=\"#md339c9c31c\" y=\"224.64\"/>\r\n      </g>\r\n     </g>\r\n     <g id=\"text_7\">\r\n      <!-- 5.0 -->\r\n      <g transform=\"translate(265.642472 239.238437)scale(0.1 -0.1)\">\r\n       <use xlink:href=\"#DejaVuSans-53\"/>\r\n       <use x=\"63.623047\" xlink:href=\"#DejaVuSans-46\"/>\r\n       <use x=\"95.410156\" xlink:href=\"#DejaVuSans-48\"/>\r\n      </g>\r\n     </g>\r\n    </g>\r\n    <g id=\"xtick_8\">\r\n     <g id=\"line2d_8\">\r\n      <g>\r\n       <use style=\"stroke:#000000;stroke-width:0.8;\" x=\"311.639489\" xlink:href=\"#md339c9c31c\" y=\"224.64\"/>\r\n      </g>\r\n     </g>\r\n     <g id=\"text_8\">\r\n      <!-- 7.5 -->\r\n      <g transform=\"translate(303.687926 239.238437)scale(0.1 -0.1)\">\r\n       <use xlink:href=\"#DejaVuSans-55\"/>\r\n       <use x=\"63.623047\" xlink:href=\"#DejaVuSans-46\"/>\r\n       <use x=\"95.410156\" xlink:href=\"#DejaVuSans-53\"/>\r\n      </g>\r\n     </g>\r\n    </g>\r\n    <g id=\"xtick_9\">\r\n     <g id=\"line2d_9\">\r\n      <g>\r\n       <use style=\"stroke:#000000;stroke-width:0.8;\" x=\"349.684943\" xlink:href=\"#md339c9c31c\" y=\"224.64\"/>\r\n      </g>\r\n     </g>\r\n     <g id=\"text_9\">\r\n      <!-- 10.0 -->\r\n      <g transform=\"translate(338.552131 239.238437)scale(0.1 -0.1)\">\r\n       <use xlink:href=\"#DejaVuSans-49\"/>\r\n       <use x=\"63.623047\" xlink:href=\"#DejaVuSans-48\"/>\r\n       <use x=\"127.246094\" xlink:href=\"#DejaVuSans-46\"/>\r\n       <use x=\"159.033203\" xlink:href=\"#DejaVuSans-48\"/>\r\n      </g>\r\n     </g>\r\n    </g>\r\n   </g>\r\n   <g id=\"matplotlib.axis_2\">\r\n    <g id=\"ytick_1\">\r\n     <g id=\"line2d_10\">\r\n      <defs>\r\n       <path d=\"M 0 0 \r\nL -3.5 0 \r\n\" id=\"mbd6dc5a49d\" style=\"stroke:#000000;stroke-width:0.8;\"/>\r\n      </defs>\r\n      <g>\r\n       <use style=\"stroke:#000000;stroke-width:0.8;\" x=\"30.103125\" xlink:href=\"#mbd6dc5a49d\" y=\"214.765338\"/>\r\n      </g>\r\n     </g>\r\n     <g id=\"text_10\">\r\n      <!-- 0.0 -->\r\n      <g transform=\"translate(7.2 218.564557)scale(0.1 -0.1)\">\r\n       <use xlink:href=\"#DejaVuSans-48\"/>\r\n       <use x=\"63.623047\" xlink:href=\"#DejaVuSans-46\"/>\r\n       <use x=\"95.410156\" xlink:href=\"#DejaVuSans-48\"/>\r\n      </g>\r\n     </g>\r\n    </g>\r\n    <g id=\"ytick_2\">\r\n     <g id=\"line2d_11\">\r\n      <g>\r\n       <use style=\"stroke:#000000;stroke-width:0.8;\" x=\"30.103125\" xlink:href=\"#mbd6dc5a49d\" y=\"175.227203\"/>\r\n      </g>\r\n     </g>\r\n     <g id=\"text_11\">\r\n      <!-- 0.2 -->\r\n      <g transform=\"translate(7.2 179.026422)scale(0.1 -0.1)\">\r\n       <use xlink:href=\"#DejaVuSans-48\"/>\r\n       <use x=\"63.623047\" xlink:href=\"#DejaVuSans-46\"/>\r\n       <use x=\"95.410156\" xlink:href=\"#DejaVuSans-50\"/>\r\n      </g>\r\n     </g>\r\n    </g>\r\n    <g id=\"ytick_3\">\r\n     <g id=\"line2d_12\">\r\n      <g>\r\n       <use style=\"stroke:#000000;stroke-width:0.8;\" x=\"30.103125\" xlink:href=\"#mbd6dc5a49d\" y=\"135.689068\"/>\r\n      </g>\r\n     </g>\r\n     <g id=\"text_12\">\r\n      <!-- 0.4 -->\r\n      <g transform=\"translate(7.2 139.488286)scale(0.1 -0.1)\">\r\n       <defs>\r\n        <path d=\"M 37.796875 64.3125 \r\nL 12.890625 25.390625 \r\nL 37.796875 25.390625 \r\nz\r\nM 35.203125 72.90625 \r\nL 47.609375 72.90625 \r\nL 47.609375 25.390625 \r\nL 58.015625 25.390625 \r\nL 58.015625 17.1875 \r\nL 47.609375 17.1875 \r\nL 47.609375 0 \r\nL 37.796875 0 \r\nL 37.796875 17.1875 \r\nL 4.890625 17.1875 \r\nL 4.890625 26.703125 \r\nz\r\n\" id=\"DejaVuSans-52\"/>\r\n       </defs>\r\n       <use xlink:href=\"#DejaVuSans-48\"/>\r\n       <use x=\"63.623047\" xlink:href=\"#DejaVuSans-46\"/>\r\n       <use x=\"95.410156\" xlink:href=\"#DejaVuSans-52\"/>\r\n      </g>\r\n     </g>\r\n    </g>\r\n    <g id=\"ytick_4\">\r\n     <g id=\"line2d_13\">\r\n      <g>\r\n       <use style=\"stroke:#000000;stroke-width:0.8;\" x=\"30.103125\" xlink:href=\"#mbd6dc5a49d\" y=\"96.150932\"/>\r\n      </g>\r\n     </g>\r\n     <g id=\"text_13\">\r\n      <!-- 0.6 -->\r\n      <g transform=\"translate(7.2 99.950151)scale(0.1 -0.1)\">\r\n       <defs>\r\n        <path d=\"M 33.015625 40.375 \r\nQ 26.375 40.375 22.484375 35.828125 \r\nQ 18.609375 31.296875 18.609375 23.390625 \r\nQ 18.609375 15.53125 22.484375 10.953125 \r\nQ 26.375 6.390625 33.015625 6.390625 \r\nQ 39.65625 6.390625 43.53125 10.953125 \r\nQ 47.40625 15.53125 47.40625 23.390625 \r\nQ 47.40625 31.296875 43.53125 35.828125 \r\nQ 39.65625 40.375 33.015625 40.375 \r\nz\r\nM 52.59375 71.296875 \r\nL 52.59375 62.3125 \r\nQ 48.875 64.0625 45.09375 64.984375 \r\nQ 41.3125 65.921875 37.59375 65.921875 \r\nQ 27.828125 65.921875 22.671875 59.328125 \r\nQ 17.53125 52.734375 16.796875 39.40625 \r\nQ 19.671875 43.65625 24.015625 45.921875 \r\nQ 28.375 48.1875 33.59375 48.1875 \r\nQ 44.578125 48.1875 50.953125 41.515625 \r\nQ 57.328125 34.859375 57.328125 23.390625 \r\nQ 57.328125 12.15625 50.6875 5.359375 \r\nQ 44.046875 -1.421875 33.015625 -1.421875 \r\nQ 20.359375 -1.421875 13.671875 8.265625 \r\nQ 6.984375 17.96875 6.984375 36.375 \r\nQ 6.984375 53.65625 15.1875 63.9375 \r\nQ 23.390625 74.21875 37.203125 74.21875 \r\nQ 40.921875 74.21875 44.703125 73.484375 \r\nQ 48.484375 72.75 52.59375 71.296875 \r\nz\r\n\" id=\"DejaVuSans-54\"/>\r\n       </defs>\r\n       <use xlink:href=\"#DejaVuSans-48\"/>\r\n       <use x=\"63.623047\" xlink:href=\"#DejaVuSans-46\"/>\r\n       <use x=\"95.410156\" xlink:href=\"#DejaVuSans-54\"/>\r\n      </g>\r\n     </g>\r\n    </g>\r\n    <g id=\"ytick_5\">\r\n     <g id=\"line2d_14\">\r\n      <g>\r\n       <use style=\"stroke:#000000;stroke-width:0.8;\" x=\"30.103125\" xlink:href=\"#mbd6dc5a49d\" y=\"56.612797\"/>\r\n      </g>\r\n     </g>\r\n     <g id=\"text_14\">\r\n      <!-- 0.8 -->\r\n      <g transform=\"translate(7.2 60.412016)scale(0.1 -0.1)\">\r\n       <defs>\r\n        <path d=\"M 31.78125 34.625 \r\nQ 24.75 34.625 20.71875 30.859375 \r\nQ 16.703125 27.09375 16.703125 20.515625 \r\nQ 16.703125 13.921875 20.71875 10.15625 \r\nQ 24.75 6.390625 31.78125 6.390625 \r\nQ 38.8125 6.390625 42.859375 10.171875 \r\nQ 46.921875 13.96875 46.921875 20.515625 \r\nQ 46.921875 27.09375 42.890625 30.859375 \r\nQ 38.875 34.625 31.78125 34.625 \r\nz\r\nM 21.921875 38.8125 \r\nQ 15.578125 40.375 12.03125 44.71875 \r\nQ 8.5 49.078125 8.5 55.328125 \r\nQ 8.5 64.0625 14.71875 69.140625 \r\nQ 20.953125 74.21875 31.78125 74.21875 \r\nQ 42.671875 74.21875 48.875 69.140625 \r\nQ 55.078125 64.0625 55.078125 55.328125 \r\nQ 55.078125 49.078125 51.53125 44.71875 \r\nQ 48 40.375 41.703125 38.8125 \r\nQ 48.828125 37.15625 52.796875 32.3125 \r\nQ 56.78125 27.484375 56.78125 20.515625 \r\nQ 56.78125 9.90625 50.3125 4.234375 \r\nQ 43.84375 -1.421875 31.78125 -1.421875 \r\nQ 19.734375 -1.421875 13.25 4.234375 \r\nQ 6.78125 9.90625 6.78125 20.515625 \r\nQ 6.78125 27.484375 10.78125 32.3125 \r\nQ 14.796875 37.15625 21.921875 38.8125 \r\nz\r\nM 18.3125 54.390625 \r\nQ 18.3125 48.734375 21.84375 45.5625 \r\nQ 25.390625 42.390625 31.78125 42.390625 \r\nQ 38.140625 42.390625 41.71875 45.5625 \r\nQ 45.3125 48.734375 45.3125 54.390625 \r\nQ 45.3125 60.0625 41.71875 63.234375 \r\nQ 38.140625 66.40625 31.78125 66.40625 \r\nQ 25.390625 66.40625 21.84375 63.234375 \r\nQ 18.3125 60.0625 18.3125 54.390625 \r\nz\r\n\" id=\"DejaVuSans-56\"/>\r\n       </defs>\r\n       <use xlink:href=\"#DejaVuSans-48\"/>\r\n       <use x=\"63.623047\" xlink:href=\"#DejaVuSans-46\"/>\r\n       <use x=\"95.410156\" xlink:href=\"#DejaVuSans-56\"/>\r\n      </g>\r\n     </g>\r\n    </g>\r\n    <g id=\"ytick_6\">\r\n     <g id=\"line2d_15\">\r\n      <g>\r\n       <use style=\"stroke:#000000;stroke-width:0.8;\" x=\"30.103125\" xlink:href=\"#mbd6dc5a49d\" y=\"17.074662\"/>\r\n      </g>\r\n     </g>\r\n     <g id=\"text_15\">\r\n      <!-- 1.0 -->\r\n      <g transform=\"translate(7.2 20.87388)scale(0.1 -0.1)\">\r\n       <use xlink:href=\"#DejaVuSans-49\"/>\r\n       <use x=\"63.623047\" xlink:href=\"#DejaVuSans-46\"/>\r\n       <use x=\"95.410156\" xlink:href=\"#DejaVuSans-48\"/>\r\n      </g>\r\n     </g>\r\n    </g>\r\n   </g>\r\n   <g id=\"line2d_16\">\r\n    <path clip-path=\"url(#p4a55099738)\" d=\"M 45.321307 214.756364 \r\nL 48.395687 214.754355 \r\nL 51.470067 214.751896 \r\nL 54.544447 214.748887 \r\nL 57.618827 214.745204 \r\nL 60.693208 214.740697 \r\nL 63.767588 214.735181 \r\nL 66.841968 214.728431 \r\nL 69.916348 214.72017 \r\nL 72.990728 214.710061 \r\nL 76.065108 214.69769 \r\nL 79.139489 214.682552 \r\nL 82.213869 214.664028 \r\nL 85.288249 214.641362 \r\nL 88.362629 214.613628 \r\nL 91.437009 214.579696 \r\nL 94.511389 214.538183 \r\nL 97.58577 214.487401 \r\nL 100.66015 214.425286 \r\nL 103.73453 214.349317 \r\nL 106.80891 214.256421 \r\nL 109.88329 214.142847 \r\nL 112.95767 214.004025 \r\nL 116.032051 213.834391 \r\nL 119.106431 213.627177 \r\nL 122.180811 213.374166 \r\nL 125.255191 213.065399 \r\nL 128.329571 212.688826 \r\nL 131.403951 212.229914 \r\nL 134.478332 211.671185 \r\nL 137.552712 210.991712 \r\nL 140.627092 210.166552 \r\nL 143.701472 209.166169 \r\nL 146.775852 207.955844 \r\nL 149.850232 206.495158 \r\nL 152.924613 204.737605 \r\nL 155.998993 202.63047 \r\nL 159.073373 200.115128 \r\nL 162.147753 197.127957 \r\nL 165.222133 193.602127 \r\nL 168.296513 189.470479 \r\nL 171.370894 184.669735 \r\nL 174.445274 179.146106 \r\nL 177.519654 172.862163 \r\nL 180.594034 165.804514 \r\nL 183.668414 157.991363 \r\nL 186.742794 149.478698 \r\nL 189.817175 140.363559 \r\nL 192.891555 130.783004 \r\nL 195.965935 120.907949 \r\nL 199.040315 110.932051 \r\nL 202.114695 101.056996 \r\nL 205.189075 91.476441 \r\nL 208.263456 82.361302 \r\nL 211.337836 73.848637 \r\nL 214.412216 66.035486 \r\nL 217.486596 58.977837 \r\nL 220.560976 52.693894 \r\nL 223.635356 47.170265 \r\nL 226.709737 42.369521 \r\nL 229.784117 38.237873 \r\nL 232.858497 34.712043 \r\nL 235.932877 31.724872 \r\nL 239.007257 29.20953 \r\nL 242.081637 27.102395 \r\nL 245.156018 25.344842 \r\nL 248.230398 23.884156 \r\nL 251.304778 22.673831 \r\nL 254.379158 21.673448 \r\nL 257.453538 20.848288 \r\nL 260.527918 20.168815 \r\nL 263.602299 19.610086 \r\nL 266.676679 19.151174 \r\nL 269.751059 18.774601 \r\nL 272.825439 18.465834 \r\nL 275.899819 18.212823 \r\nL 278.974199 18.005609 \r\nL 282.04858 17.835975 \r\nL 285.12296 17.697153 \r\nL 288.19734 17.583579 \r\nL 291.27172 17.490683 \r\nL 294.3461 17.414714 \r\nL 297.42048 17.352599 \r\nL 300.494861 17.301817 \r\nL 303.569241 17.260304 \r\nL 306.643621 17.226372 \r\nL 309.718001 17.198638 \r\nL 312.792381 17.175972 \r\nL 315.866761 17.157448 \r\nL 318.941142 17.14231 \r\nL 322.015522 17.129939 \r\nL 325.089902 17.11983 \r\nL 328.164282 17.111569 \r\nL 331.238662 17.104819 \r\nL 334.313042 17.099303 \r\nL 337.387423 17.094796 \r\nL 340.461803 17.091113 \r\nL 343.536183 17.088104 \r\nL 346.610563 17.085645 \r\nL 349.684943 17.083636 \r\n\" style=\"fill:none;stroke:#1f77b4;stroke-linecap:square;stroke-width:1.5;\"/>\r\n   </g>\r\n   <g id=\"patch_3\">\r\n    <path d=\"M 30.103125 224.64 \r\nL 30.103125 7.2 \r\n\" style=\"fill:none;stroke:#000000;stroke-linecap:square;stroke-linejoin:miter;stroke-width:0.8;\"/>\r\n   </g>\r\n   <g id=\"patch_4\">\r\n    <path d=\"M 364.903125 224.64 \r\nL 364.903125 7.2 \r\n\" style=\"fill:none;stroke:#000000;stroke-linecap:square;stroke-linejoin:miter;stroke-width:0.8;\"/>\r\n   </g>\r\n   <g id=\"patch_5\">\r\n    <path d=\"M 30.103125 224.64 \r\nL 364.903125 224.64 \r\n\" style=\"fill:none;stroke:#000000;stroke-linecap:square;stroke-linejoin:miter;stroke-width:0.8;\"/>\r\n   </g>\r\n   <g id=\"patch_6\">\r\n    <path d=\"M 30.103125 7.2 \r\nL 364.903125 7.2 \r\n\" style=\"fill:none;stroke:#000000;stroke-linecap:square;stroke-linejoin:miter;stroke-width:0.8;\"/>\r\n   </g>\r\n  </g>\r\n </g>\r\n <defs>\r\n  <clipPath id=\"p4a55099738\">\r\n   <rect height=\"217.44\" width=\"334.8\" x=\"30.103125\" y=\"7.2\"/>\r\n  </clipPath>\r\n </defs>\r\n</svg>\r\n",
      "image/png": "[encoded data removed]"
     },
     "metadata": {
      "needs_background": "light"
     }
    }
   ],
   "source": [
    "plt.plot(sample_z, sample_a)"
   ]
  },
  {
   "cell_type": "code",
   "execution_count": 170,
   "metadata": {},
   "outputs": [],
   "source": [
    "class Sigmoid(Operation):\n",
    "    def __init__(self, z):\n",
    "        super().__init__([z])\n",
    "\n",
    "    def compute(self, z):\n",
    "        return 1/(1 + np.exp(-z))"
   ]
  },
  {
   "cell_type": "code",
   "execution_count": 171,
   "metadata": {},
   "outputs": [
    {
     "output_type": "execute_result",
     "data": {
      "text/plain": [
       "(array([[-7.29030698,  0.89024309],\n",
       "        [-6.23385974,  2.51245556],\n",
       "        [-2.13678539, -3.18590044],\n",
       "        [-2.19372718, -3.20881509],\n",
       "        [-5.75792742,  1.20271907],\n",
       "        [-6.20662974,  0.47626167],\n",
       "        [-7.20273216,  0.38530803],\n",
       "        [-6.48829871, -0.11186216],\n",
       "        [-0.95455454, -1.58281197],\n",
       "        [-5.60376567,  1.28950654],\n",
       "        [-6.64328582,  0.0922546 ],\n",
       "        [-7.07184237, -0.58837282],\n",
       "        [-0.9717782 , -3.62990083],\n",
       "        [-0.9701922 , -2.00182251],\n",
       "        [-6.99119721, -0.3376277 ],\n",
       "        [-2.75317518, -3.55476089],\n",
       "        [-1.97039472, -3.09640383],\n",
       "        [-1.71903075, -1.39401259],\n",
       "        [-2.00240992, -4.36899237],\n",
       "        [-1.69071586, -1.58019708],\n",
       "        [-4.73854522,  1.72516572],\n",
       "        [-5.16721977, -1.18436727],\n",
       "        [-1.01331309, -3.41267112],\n",
       "        [-5.44930758, -0.14006887],\n",
       "        [-7.62649575,  1.68081825],\n",
       "        [-0.98657843, -2.36427764],\n",
       "        [-5.66103281, -0.61108816],\n",
       "        [-6.95244756, -0.03048464],\n",
       "        [-8.0975115 ,  0.13319409],\n",
       "        [-1.45113712, -2.2020938 ],\n",
       "        [-3.06731921, -4.41062961],\n",
       "        [-1.26811416, -1.91844853],\n",
       "        [-2.07682444, -3.1772371 ],\n",
       "        [-0.83332233, -2.00748681],\n",
       "        [-0.53332746, -2.12067997],\n",
       "        [-6.98673713, -1.12116   ],\n",
       "        [-2.49980611, -3.26439575],\n",
       "        [-6.21534669,  0.38104496],\n",
       "        [-1.47610334, -3.15667141],\n",
       "        [-6.39633475, -0.10860277],\n",
       "        [-1.73256015, -4.19621655],\n",
       "        [-7.84453941,  1.9601756 ],\n",
       "        [-0.91878547, -2.54968061],\n",
       "        [-5.97436171,  0.33563708],\n",
       "        [-2.3772109 , -0.22674248],\n",
       "        [-1.9808446 , -0.94300643],\n",
       "        [-7.34378055, -1.55659614],\n",
       "        [-4.82983848,  1.219641  ],\n",
       "        [-3.15990336, -2.96688797],\n",
       "        [-5.73419306,  0.41686459]]),\n",
       " array([1, 1, 0, 0, 1, 1, 1, 1, 0, 1, 1, 1, 0, 0, 1, 0, 0, 0, 0, 0, 1, 1,\n",
       "        0, 1, 1, 0, 1, 1, 1, 0, 0, 0, 0, 0, 0, 1, 0, 1, 0, 1, 0, 1, 0, 1,\n",
       "        0, 0, 1, 1, 0, 1]))"
      ]
     },
     "metadata": {},
     "execution_count": 171
    }
   ],
   "source": [
    "from sklearn.datasets import make_blobs\n",
    "data = make_blobs(n_samples=50, n_features=2, centers=2, random_state=54)\n",
    "data"
   ]
  },
  {
   "cell_type": "code",
   "execution_count": 172,
   "metadata": {},
   "outputs": [
    {
     "output_type": "execute_result",
     "data": {
      "text/plain": [
       "<matplotlib.collections.PathCollection at 0x23ff258bf70>"
      ]
     },
     "metadata": {},
     "execution_count": 172
    },
    {
     "output_type": "display_data",
     "data": {
      "text/plain": "<Figure size 432x288 with 1 Axes>",
      "image/svg+xml": "<?xml version=\"1.0\" encoding=\"utf-8\" standalone=\"no\"?>\r\n<!DOCTYPE svg PUBLIC \"-//W3C//DTD SVG 1.1//EN\"\r\n  \"http://www.w3.org/Graphics/SVG/1.1/DTD/svg11.dtd\">\r\n<!-- Created with matplotlib (https://matplotlib.org/) -->\r\n<svg height=\"248.518125pt\" version=\"1.1\" viewBox=\"0 0 370.942187 248.518125\" width=\"370.942187pt\" xmlns=\"http://www.w3.org/2000/svg\" xmlns:xlink=\"http://www.w3.org/1999/xlink\">\r\n <metadata>\r\n  <rdf:RDF xmlns:cc=\"http://creativecommons.org/ns#\" xmlns:dc=\"http://purl.org/dc/elements/1.1/\" xmlns:rdf=\"http://www.w3.org/1999/02/22-rdf-syntax-ns#\">\r\n   <cc:Work>\r\n    <dc:type rdf:resource=\"http://purl.org/dc/dcmitype/StillImage\"/>\r\n    <dc:date>2021-05-08T18:02:01.596957</dc:date>\r\n    <dc:format>image/svg+xml</dc:format>\r\n    <dc:creator>\r\n     <cc:Agent>\r\n      <dc:title>Matplotlib v3.3.4, https://matplotlib.org/</dc:title>\r\n     </cc:Agent>\r\n    </dc:creator>\r\n   </cc:Work>\r\n  </rdf:RDF>\r\n </metadata>\r\n <defs>\r\n  <style type=\"text/css\">*{stroke-linecap:butt;stroke-linejoin:round;}</style>\r\n </defs>\r\n <g id=\"figure_1\">\r\n  <g id=\"patch_1\">\r\n   <path d=\"M 0 248.518125 \r\nL 370.942187 248.518125 \r\nL 370.942187 0 \r\nL 0 0 \r\nz\r\n\" style=\"fill:none;\"/>\r\n  </g>\r\n  <g id=\"axes_1\">\r\n   <g id=\"patch_2\">\r\n    <path d=\"M 28.942188 224.64 \r\nL 363.742188 224.64 \r\nL 363.742188 7.2 \r\nL 28.942188 7.2 \r\nz\r\n\" style=\"fill:#ffffff;\"/>\r\n   </g>\r\n   <g id=\"PathCollection_1\">\r\n    <defs>\r\n     <path d=\"M 0 3 \r\nC 0.795609 3 1.55874 2.683901 2.12132 2.12132 \r\nC 2.683901 1.55874 3 0.795609 3 -0 \r\nC 3 -0.795609 2.683901 -1.55874 2.12132 -2.12132 \r\nC 1.55874 -2.683901 0.795609 -3 0 -3 \r\nC -0.795609 -3 -1.55874 -2.683901 -2.12132 -2.12132 \r\nC -2.683901 -1.55874 -3 -0.795609 -3 0 \r\nC -3 0.795609 -2.683901 1.55874 -2.12132 2.12132 \r\nC -1.55874 2.683901 -0.795609 3 0 3 \r\nz\r\n\" id=\"C0_0_4c399d50c3\"/>\r\n    </defs>\r\n    <g clip-path=\"url(#p74c06faa2f)\">\r\n     <use style=\"fill:#b40426;stroke:#b40426;\" x=\"76.640238\" xlink:href=\"#C0_0_4c399d50c3\" y=\"63.402171\"/>\r\n    </g>\r\n    <g clip-path=\"url(#p74c06faa2f)\">\r\n     <use style=\"fill:#b40426;stroke:#b40426;\" x=\"119.149003\" xlink:href=\"#C0_0_4c399d50c3\" y=\"17.083636\"/>\r\n    </g>\r\n    <g clip-path=\"url(#p74c06faa2f)\">\r\n     <use style=\"fill:#3b4cc0;stroke:#3b4cc0;\" x=\"284.004914\" xlink:href=\"#C0_0_4c399d50c3\" y=\"179.787047\"/>\r\n    </g>\r\n    <g clip-path=\"url(#p74c06faa2f)\">\r\n     <use style=\"fill:#3b4cc0;stroke:#3b4cc0;\" x=\"281.71372\" xlink:href=\"#C0_0_4c399d50c3\" y=\"180.441322\"/>\r\n    </g>\r\n    <g clip-path=\"url(#p74c06faa2f)\">\r\n     <use style=\"fill:#b40426;stroke:#b40426;\" x=\"138.299316\" xlink:href=\"#C0_0_4c399d50c3\" y=\"54.48014\"/>\r\n    </g>\r\n    <g clip-path=\"url(#p74c06faa2f)\">\r\n     <use style=\"fill:#b40426;stroke:#b40426;\" x=\"120.244669\" xlink:href=\"#C0_0_4c399d50c3\" y=\"75.222456\"/>\r\n    </g>\r\n    <g clip-path=\"url(#p74c06faa2f)\">\r\n     <use style=\"fill:#b40426;stroke:#b40426;\" x=\"80.164027\" xlink:href=\"#C0_0_4c399d50c3\" y=\"77.819427\"/>\r\n    </g>\r\n    <g clip-path=\"url(#p74c06faa2f)\">\r\n     <use style=\"fill:#b40426;stroke:#b40426;\" x=\"108.911022\" xlink:href=\"#C0_0_4c399d50c3\" y=\"92.014975\"/>\r\n    </g>\r\n    <g clip-path=\"url(#p74c06faa2f)\">\r\n     <use style=\"fill:#3b4cc0;stroke:#3b4cc0;\" x=\"331.574893\" xlink:href=\"#C0_0_4c399d50c3\" y=\"134.014554\"/>\r\n    </g>\r\n    <g clip-path=\"url(#p74c06faa2f)\">\r\n     <use style=\"fill:#b40426;stroke:#b40426;\" x=\"144.502395\" xlink:href=\"#C0_0_4c399d50c3\" y=\"52.002125\"/>\r\n    </g>\r\n    <g clip-path=\"url(#p74c06faa2f)\">\r\n     <use style=\"fill:#b40426;stroke:#b40426;\" x=\"102.674733\" xlink:href=\"#C0_0_4c399d50c3\" y=\"86.186892\"/>\r\n    </g>\r\n    <g clip-path=\"url(#p74c06faa2f)\">\r\n     <use style=\"fill:#b40426;stroke:#b40426;\" x=\"85.430701\" xlink:href=\"#C0_0_4c399d50c3\" y=\"105.620638\"/>\r\n    </g>\r\n    <g clip-path=\"url(#p74c06faa2f)\">\r\n     <use style=\"fill:#3b4cc0;stroke:#3b4cc0;\" x=\"330.881857\" xlink:href=\"#C0_0_4c399d50c3\" y=\"192.464454\"/>\r\n    </g>\r\n    <g clip-path=\"url(#p74c06faa2f)\">\r\n     <use style=\"fill:#3b4cc0;stroke:#3b4cc0;\" x=\"330.945674\" xlink:href=\"#C0_0_4c399d50c3\" y=\"145.978433\"/>\r\n    </g>\r\n    <g clip-path=\"url(#p74c06faa2f)\">\r\n     <use style=\"fill:#b40426;stroke:#b40426;\" x=\"88.675659\" xlink:href=\"#C0_0_4c399d50c3\" y=\"98.46119\"/>\r\n    </g>\r\n    <g clip-path=\"url(#p74c06faa2f)\">\r\n     <use style=\"fill:#3b4cc0;stroke:#3b4cc0;\" x=\"259.202948\" xlink:href=\"#C0_0_4c399d50c3\" y=\"190.319006\"/>\r\n    </g>\r\n    <g clip-path=\"url(#p74c06faa2f)\">\r\n     <use style=\"fill:#3b4cc0;stroke:#3b4cc0;\" x=\"290.700053\" xlink:href=\"#C0_0_4c399d50c3\" y=\"177.231678\"/>\r\n    </g>\r\n    <g clip-path=\"url(#p74c06faa2f)\">\r\n     <use style=\"fill:#3b4cc0;stroke:#3b4cc0;\" x=\"300.814304\" xlink:href=\"#C0_0_4c399d50c3\" y=\"128.623823\"/>\r\n    </g>\r\n    <g clip-path=\"url(#p74c06faa2f)\">\r\n     <use style=\"fill:#3b4cc0;stroke:#3b4cc0;\" x=\"289.411843\" xlink:href=\"#C0_0_4c399d50c3\" y=\"213.567508\"/>\r\n    </g>\r\n    <g clip-path=\"url(#p74c06faa2f)\">\r\n     <use style=\"fill:#3b4cc0;stroke:#3b4cc0;\" x=\"301.953624\" xlink:href=\"#C0_0_4c399d50c3\" y=\"133.939892\"/>\r\n    </g>\r\n    <g clip-path=\"url(#p74c06faa2f)\">\r\n     <use style=\"fill:#b40426;stroke:#b40426;\" x=\"179.316678\" xlink:href=\"#C0_0_4c399d50c3\" y=\"39.562882\"/>\r\n    </g>\r\n    <g clip-path=\"url(#p74c06faa2f)\">\r\n     <use style=\"fill:#b40426;stroke:#b40426;\" x=\"162.067898\" xlink:href=\"#C0_0_4c399d50c3\" y=\"122.637885\"/>\r\n    </g>\r\n    <g clip-path=\"url(#p74c06faa2f)\">\r\n     <use style=\"fill:#3b4cc0;stroke:#3b4cc0;\" x=\"329.210598\" xlink:href=\"#C0_0_4c399d50c3\" y=\"186.261961\"/>\r\n    </g>\r\n    <g clip-path=\"url(#p74c06faa2f)\">\r\n     <use style=\"fill:#b40426;stroke:#b40426;\" x=\"150.717398\" xlink:href=\"#C0_0_4c399d50c3\" y=\"92.820353\"/>\r\n    </g>\r\n    <g clip-path=\"url(#p74c06faa2f)\">\r\n     <use style=\"fill:#b40426;stroke:#b40426;\" x=\"63.112852\" xlink:href=\"#C0_0_4c399d50c3\" y=\"40.829121\"/>\r\n    </g>\r\n    <g clip-path=\"url(#p74c06faa2f)\">\r\n     <use style=\"fill:#3b4cc0;stroke:#3b4cc0;\" x=\"330.286333\" xlink:href=\"#C0_0_4c399d50c3\" y=\"156.327503\"/>\r\n    </g>\r\n    <g clip-path=\"url(#p74c06faa2f)\">\r\n     <use style=\"fill:#b40426;stroke:#b40426;\" x=\"142.19811\" xlink:href=\"#C0_0_4c399d50c3\" y=\"106.269222\"/>\r\n    </g>\r\n    <g clip-path=\"url(#p74c06faa2f)\">\r\n     <use style=\"fill:#b40426;stroke:#b40426;\" x=\"90.234847\" xlink:href=\"#C0_0_4c399d50c3\" y=\"89.691428\"/>\r\n    </g>\r\n    <g clip-path=\"url(#p74c06faa2f)\">\r\n     <use style=\"fill:#b40426;stroke:#b40426;\" x=\"44.160369\" xlink:href=\"#C0_0_4c399d50c3\" y=\"85.017959\"/>\r\n    </g>\r\n    <g clip-path=\"url(#p74c06faa2f)\">\r\n     <use style=\"fill:#3b4cc0;stroke:#3b4cc0;\" x=\"311.593666\" xlink:href=\"#C0_0_4c399d50c3\" y=\"151.696718\"/>\r\n    </g>\r\n    <g clip-path=\"url(#p74c06faa2f)\">\r\n     <use style=\"fill:#3b4cc0;stroke:#3b4cc0;\" x=\"246.562586\" xlink:href=\"#C0_0_4c399d50c3\" y=\"214.756364\"/>\r\n    </g>\r\n    <g clip-path=\"url(#p74c06faa2f)\">\r\n     <use style=\"fill:#3b4cc0;stroke:#3b4cc0;\" x=\"318.958047\" xlink:href=\"#C0_0_4c399d50c3\" y=\"143.597882\"/>\r\n    </g>\r\n    <g clip-path=\"url(#p74c06faa2f)\">\r\n     <use style=\"fill:#3b4cc0;stroke:#3b4cc0;\" x=\"286.417591\" xlink:href=\"#C0_0_4c399d50c3\" y=\"179.539685\"/>\r\n    </g>\r\n    <g clip-path=\"url(#p74c06faa2f)\">\r\n     <use style=\"fill:#3b4cc0;stroke:#3b4cc0;\" x=\"336.452971\" xlink:href=\"#C0_0_4c399d50c3\" y=\"146.140164\"/>\r\n    </g>\r\n    <g clip-path=\"url(#p74c06faa2f)\">\r\n     <use style=\"fill:#3b4cc0;stroke:#3b4cc0;\" x=\"348.524006\" xlink:href=\"#C0_0_4c399d50c3\" y=\"149.372134\"/>\r\n    </g>\r\n    <g clip-path=\"url(#p74c06faa2f)\">\r\n     <use style=\"fill:#b40426;stroke:#b40426;\" x=\"88.855121\" xlink:href=\"#C0_0_4c399d50c3\" y=\"120.833147\"/>\r\n    </g>\r\n    <g clip-path=\"url(#p74c06faa2f)\">\r\n     <use style=\"fill:#3b4cc0;stroke:#3b4cc0;\" x=\"269.397878\" xlink:href=\"#C0_0_4c399d50c3\" y=\"182.0283\"/>\r\n    </g>\r\n    <g clip-path=\"url(#p74c06faa2f)\">\r\n     <use style=\"fill:#b40426;stroke:#b40426;\" x=\"119.893921\" xlink:href=\"#C0_0_4c399d50c3\" y=\"77.941149\"/>\r\n    </g>\r\n    <g clip-path=\"url(#p74c06faa2f)\">\r\n     <use style=\"fill:#3b4cc0;stroke:#3b4cc0;\" x=\"310.589089\" xlink:href=\"#C0_0_4c399d50c3\" y=\"178.95248\"/>\r\n    </g>\r\n    <g clip-path=\"url(#p74c06faa2f)\">\r\n     <use style=\"fill:#b40426;stroke:#b40426;\" x=\"112.61142\" xlink:href=\"#C0_0_4c399d50c3\" y=\"91.921911\"/>\r\n    </g>\r\n    <g clip-path=\"url(#p74c06faa2f)\">\r\n     <use style=\"fill:#3b4cc0;stroke:#3b4cc0;\" x=\"300.269915\" xlink:href=\"#C0_0_4c399d50c3\" y=\"208.634293\"/>\r\n    </g>\r\n    <g clip-path=\"url(#p74c06faa2f)\">\r\n     <use style=\"fill:#b40426;stroke:#b40426;\" x=\"54.339326\" xlink:href=\"#C0_0_4c399d50c3\" y=\"32.852717\"/>\r\n    </g>\r\n    <g clip-path=\"url(#p74c06faa2f)\">\r\n     <use style=\"fill:#3b4cc0;stroke:#3b4cc0;\" x=\"333.01415\" xlink:href=\"#C0_0_4c399d50c3\" y=\"161.621258\"/>\r\n    </g>\r\n    <g clip-path=\"url(#p74c06faa2f)\">\r\n     <use style=\"fill:#b40426;stroke:#b40426;\" x=\"129.590548\" xlink:href=\"#C0_0_4c399d50c3\" y=\"79.237667\"/>\r\n    </g>\r\n    <g clip-path=\"url(#p74c06faa2f)\">\r\n     <use style=\"fill:#3b4cc0;stroke:#3b4cc0;\" x=\"274.330799\" xlink:href=\"#C0_0_4c399d50c3\" y=\"95.295118\"/>\r\n    </g>\r\n    <g clip-path=\"url(#p74c06faa2f)\">\r\n     <use style=\"fill:#3b4cc0;stroke:#3b4cc0;\" x=\"290.279577\" xlink:href=\"#C0_0_4c399d50c3\" y=\"115.746383\"/>\r\n    </g>\r\n    <g clip-path=\"url(#p74c06faa2f)\">\r\n     <use style=\"fill:#b40426;stroke:#b40426;\" x=\"74.488597\" xlink:href=\"#C0_0_4c399d50c3\" y=\"133.266021\"/>\r\n    </g>\r\n    <g clip-path=\"url(#p74c06faa2f)\">\r\n     <use style=\"fill:#b40426;stroke:#b40426;\" x=\"175.643268\" xlink:href=\"#C0_0_4c399d50c3\" y=\"53.996974\"/>\r\n    </g>\r\n    <g clip-path=\"url(#p74c06faa2f)\">\r\n     <use style=\"fill:#3b4cc0;stroke:#3b4cc0;\" x=\"242.837234\" xlink:href=\"#C0_0_4c399d50c3\" y=\"173.533651\"/>\r\n    </g>\r\n    <g clip-path=\"url(#p74c06faa2f)\">\r\n     <use style=\"fill:#b40426;stroke:#b40426;\" x=\"139.254327\" xlink:href=\"#C0_0_4c399d50c3\" y=\"76.918402\"/>\r\n    </g>\r\n   </g>\r\n   <g id=\"matplotlib.axis_1\">\r\n    <g id=\"xtick_1\">\r\n     <g id=\"line2d_1\">\r\n      <defs>\r\n       <path d=\"M 0 0 \r\nL 0 3.5 \r\n\" id=\"m49e7a29703\" style=\"stroke:#000000;stroke-width:0.8;\"/>\r\n      </defs>\r\n      <g>\r\n       <use style=\"stroke:#000000;stroke-width:0.8;\" x=\"48.083985\" xlink:href=\"#m49e7a29703\" y=\"224.64\"/>\r\n      </g>\r\n     </g>\r\n     <g id=\"text_1\">\r\n      <!-- −8 -->\r\n      <g transform=\"translate(40.712892 239.238438)scale(0.1 -0.1)\">\r\n       <defs>\r\n        <path d=\"M 10.59375 35.5 \r\nL 73.1875 35.5 \r\nL 73.1875 27.203125 \r\nL 10.59375 27.203125 \r\nz\r\n\" id=\"DejaVuSans-8722\"/>\r\n        <path d=\"M 31.78125 34.625 \r\nQ 24.75 34.625 20.71875 30.859375 \r\nQ 16.703125 27.09375 16.703125 20.515625 \r\nQ 16.703125 13.921875 20.71875 10.15625 \r\nQ 24.75 6.390625 31.78125 6.390625 \r\nQ 38.8125 6.390625 42.859375 10.171875 \r\nQ 46.921875 13.96875 46.921875 20.515625 \r\nQ 46.921875 27.09375 42.890625 30.859375 \r\nQ 38.875 34.625 31.78125 34.625 \r\nz\r\nM 21.921875 38.8125 \r\nQ 15.578125 40.375 12.03125 44.71875 \r\nQ 8.5 49.078125 8.5 55.328125 \r\nQ 8.5 64.0625 14.71875 69.140625 \r\nQ 20.953125 74.21875 31.78125 74.21875 \r\nQ 42.671875 74.21875 48.875 69.140625 \r\nQ 55.078125 64.0625 55.078125 55.328125 \r\nQ 55.078125 49.078125 51.53125 44.71875 \r\nQ 48 40.375 41.703125 38.8125 \r\nQ 48.828125 37.15625 52.796875 32.3125 \r\nQ 56.78125 27.484375 56.78125 20.515625 \r\nQ 56.78125 9.90625 50.3125 4.234375 \r\nQ 43.84375 -1.421875 31.78125 -1.421875 \r\nQ 19.734375 -1.421875 13.25 4.234375 \r\nQ 6.78125 9.90625 6.78125 20.515625 \r\nQ 6.78125 27.484375 10.78125 32.3125 \r\nQ 14.796875 37.15625 21.921875 38.8125 \r\nz\r\nM 18.3125 54.390625 \r\nQ 18.3125 48.734375 21.84375 45.5625 \r\nQ 25.390625 42.390625 31.78125 42.390625 \r\nQ 38.140625 42.390625 41.71875 45.5625 \r\nQ 45.3125 48.734375 45.3125 54.390625 \r\nQ 45.3125 60.0625 41.71875 63.234375 \r\nQ 38.140625 66.40625 31.78125 66.40625 \r\nQ 25.390625 66.40625 21.84375 63.234375 \r\nQ 18.3125 60.0625 18.3125 54.390625 \r\nz\r\n\" id=\"DejaVuSans-56\"/>\r\n       </defs>\r\n       <use xlink:href=\"#DejaVuSans-8722\"/>\r\n       <use x=\"83.789062\" xlink:href=\"#DejaVuSans-56\"/>\r\n      </g>\r\n     </g>\r\n    </g>\r\n    <g id=\"xtick_2\">\r\n     <g id=\"line2d_2\">\r\n      <g>\r\n       <use style=\"stroke:#000000;stroke-width:0.8;\" x=\"88.321456\" xlink:href=\"#m49e7a29703\" y=\"224.64\"/>\r\n      </g>\r\n     </g>\r\n     <g id=\"text_2\">\r\n      <!-- −7 -->\r\n      <g transform=\"translate(80.950363 239.238438)scale(0.1 -0.1)\">\r\n       <defs>\r\n        <path d=\"M 8.203125 72.90625 \r\nL 55.078125 72.90625 \r\nL 55.078125 68.703125 \r\nL 28.609375 0 \r\nL 18.3125 0 \r\nL 43.21875 64.59375 \r\nL 8.203125 64.59375 \r\nz\r\n\" id=\"DejaVuSans-55\"/>\r\n       </defs>\r\n       <use xlink:href=\"#DejaVuSans-8722\"/>\r\n       <use x=\"83.789062\" xlink:href=\"#DejaVuSans-55\"/>\r\n      </g>\r\n     </g>\r\n    </g>\r\n    <g id=\"xtick_3\">\r\n     <g id=\"line2d_3\">\r\n      <g>\r\n       <use style=\"stroke:#000000;stroke-width:0.8;\" x=\"128.558928\" xlink:href=\"#m49e7a29703\" y=\"224.64\"/>\r\n      </g>\r\n     </g>\r\n     <g id=\"text_3\">\r\n      <!-- −6 -->\r\n      <g transform=\"translate(121.187834 239.238438)scale(0.1 -0.1)\">\r\n       <defs>\r\n        <path d=\"M 33.015625 40.375 \r\nQ 26.375 40.375 22.484375 35.828125 \r\nQ 18.609375 31.296875 18.609375 23.390625 \r\nQ 18.609375 15.53125 22.484375 10.953125 \r\nQ 26.375 6.390625 33.015625 6.390625 \r\nQ 39.65625 6.390625 43.53125 10.953125 \r\nQ 47.40625 15.53125 47.40625 23.390625 \r\nQ 47.40625 31.296875 43.53125 35.828125 \r\nQ 39.65625 40.375 33.015625 40.375 \r\nz\r\nM 52.59375 71.296875 \r\nL 52.59375 62.3125 \r\nQ 48.875 64.0625 45.09375 64.984375 \r\nQ 41.3125 65.921875 37.59375 65.921875 \r\nQ 27.828125 65.921875 22.671875 59.328125 \r\nQ 17.53125 52.734375 16.796875 39.40625 \r\nQ 19.671875 43.65625 24.015625 45.921875 \r\nQ 28.375 48.1875 33.59375 48.1875 \r\nQ 44.578125 48.1875 50.953125 41.515625 \r\nQ 57.328125 34.859375 57.328125 23.390625 \r\nQ 57.328125 12.15625 50.6875 5.359375 \r\nQ 44.046875 -1.421875 33.015625 -1.421875 \r\nQ 20.359375 -1.421875 13.671875 8.265625 \r\nQ 6.984375 17.96875 6.984375 36.375 \r\nQ 6.984375 53.65625 15.1875 63.9375 \r\nQ 23.390625 74.21875 37.203125 74.21875 \r\nQ 40.921875 74.21875 44.703125 73.484375 \r\nQ 48.484375 72.75 52.59375 71.296875 \r\nz\r\n\" id=\"DejaVuSans-54\"/>\r\n       </defs>\r\n       <use xlink:href=\"#DejaVuSans-8722\"/>\r\n       <use x=\"83.789062\" xlink:href=\"#DejaVuSans-54\"/>\r\n      </g>\r\n     </g>\r\n    </g>\r\n    <g id=\"xtick_4\">\r\n     <g id=\"line2d_4\">\r\n      <g>\r\n       <use style=\"stroke:#000000;stroke-width:0.8;\" x=\"168.796399\" xlink:href=\"#m49e7a29703\" y=\"224.64\"/>\r\n      </g>\r\n     </g>\r\n     <g id=\"text_4\">\r\n      <!-- −5 -->\r\n      <g transform=\"translate(161.425305 239.238438)scale(0.1 -0.1)\">\r\n       <defs>\r\n        <path d=\"M 10.796875 72.90625 \r\nL 49.515625 72.90625 \r\nL 49.515625 64.59375 \r\nL 19.828125 64.59375 \r\nL 19.828125 46.734375 \r\nQ 21.96875 47.46875 24.109375 47.828125 \r\nQ 26.265625 48.1875 28.421875 48.1875 \r\nQ 40.625 48.1875 47.75 41.5 \r\nQ 54.890625 34.8125 54.890625 23.390625 \r\nQ 54.890625 11.625 47.5625 5.09375 \r\nQ 40.234375 -1.421875 26.90625 -1.421875 \r\nQ 22.3125 -1.421875 17.546875 -0.640625 \r\nQ 12.796875 0.140625 7.71875 1.703125 \r\nL 7.71875 11.625 \r\nQ 12.109375 9.234375 16.796875 8.0625 \r\nQ 21.484375 6.890625 26.703125 6.890625 \r\nQ 35.15625 6.890625 40.078125 11.328125 \r\nQ 45.015625 15.765625 45.015625 23.390625 \r\nQ 45.015625 31 40.078125 35.4375 \r\nQ 35.15625 39.890625 26.703125 39.890625 \r\nQ 22.75 39.890625 18.8125 39.015625 \r\nQ 14.890625 38.140625 10.796875 36.28125 \r\nz\r\n\" id=\"DejaVuSans-53\"/>\r\n       </defs>\r\n       <use xlink:href=\"#DejaVuSans-8722\"/>\r\n       <use x=\"83.789062\" xlink:href=\"#DejaVuSans-53\"/>\r\n      </g>\r\n     </g>\r\n    </g>\r\n    <g id=\"xtick_5\">\r\n     <g id=\"line2d_5\">\r\n      <g>\r\n       <use style=\"stroke:#000000;stroke-width:0.8;\" x=\"209.03387\" xlink:href=\"#m49e7a29703\" y=\"224.64\"/>\r\n      </g>\r\n     </g>\r\n     <g id=\"text_5\">\r\n      <!-- −4 -->\r\n      <g transform=\"translate(201.662776 239.238438)scale(0.1 -0.1)\">\r\n       <defs>\r\n        <path d=\"M 37.796875 64.3125 \r\nL 12.890625 25.390625 \r\nL 37.796875 25.390625 \r\nz\r\nM 35.203125 72.90625 \r\nL 47.609375 72.90625 \r\nL 47.609375 25.390625 \r\nL 58.015625 25.390625 \r\nL 58.015625 17.1875 \r\nL 47.609375 17.1875 \r\nL 47.609375 0 \r\nL 37.796875 0 \r\nL 37.796875 17.1875 \r\nL 4.890625 17.1875 \r\nL 4.890625 26.703125 \r\nz\r\n\" id=\"DejaVuSans-52\"/>\r\n       </defs>\r\n       <use xlink:href=\"#DejaVuSans-8722\"/>\r\n       <use x=\"83.789062\" xlink:href=\"#DejaVuSans-52\"/>\r\n      </g>\r\n     </g>\r\n    </g>\r\n    <g id=\"xtick_6\">\r\n     <g id=\"line2d_6\">\r\n      <g>\r\n       <use style=\"stroke:#000000;stroke-width:0.8;\" x=\"249.271341\" xlink:href=\"#m49e7a29703\" y=\"224.64\"/>\r\n      </g>\r\n     </g>\r\n     <g id=\"text_6\">\r\n      <!-- −3 -->\r\n      <g transform=\"translate(241.900247 239.238438)scale(0.1 -0.1)\">\r\n       <defs>\r\n        <path d=\"M 40.578125 39.3125 \r\nQ 47.65625 37.796875 51.625 33 \r\nQ 55.609375 28.21875 55.609375 21.1875 \r\nQ 55.609375 10.40625 48.1875 4.484375 \r\nQ 40.765625 -1.421875 27.09375 -1.421875 \r\nQ 22.515625 -1.421875 17.65625 -0.515625 \r\nQ 12.796875 0.390625 7.625 2.203125 \r\nL 7.625 11.71875 \r\nQ 11.71875 9.328125 16.59375 8.109375 \r\nQ 21.484375 6.890625 26.8125 6.890625 \r\nQ 36.078125 6.890625 40.9375 10.546875 \r\nQ 45.796875 14.203125 45.796875 21.1875 \r\nQ 45.796875 27.640625 41.28125 31.265625 \r\nQ 36.765625 34.90625 28.71875 34.90625 \r\nL 20.21875 34.90625 \r\nL 20.21875 43.015625 \r\nL 29.109375 43.015625 \r\nQ 36.375 43.015625 40.234375 45.921875 \r\nQ 44.09375 48.828125 44.09375 54.296875 \r\nQ 44.09375 59.90625 40.109375 62.90625 \r\nQ 36.140625 65.921875 28.71875 65.921875 \r\nQ 24.65625 65.921875 20.015625 65.03125 \r\nQ 15.375 64.15625 9.8125 62.3125 \r\nL 9.8125 71.09375 \r\nQ 15.4375 72.65625 20.34375 73.4375 \r\nQ 25.25 74.21875 29.59375 74.21875 \r\nQ 40.828125 74.21875 47.359375 69.109375 \r\nQ 53.90625 64.015625 53.90625 55.328125 \r\nQ 53.90625 49.265625 50.4375 45.09375 \r\nQ 46.96875 40.921875 40.578125 39.3125 \r\nz\r\n\" id=\"DejaVuSans-51\"/>\r\n       </defs>\r\n       <use xlink:href=\"#DejaVuSans-8722\"/>\r\n       <use x=\"83.789062\" xlink:href=\"#DejaVuSans-51\"/>\r\n      </g>\r\n     </g>\r\n    </g>\r\n    <g id=\"xtick_7\">\r\n     <g id=\"line2d_7\">\r\n      <g>\r\n       <use style=\"stroke:#000000;stroke-width:0.8;\" x=\"289.508812\" xlink:href=\"#m49e7a29703\" y=\"224.64\"/>\r\n      </g>\r\n     </g>\r\n     <g id=\"text_7\">\r\n      <!-- −2 -->\r\n      <g transform=\"translate(282.137718 239.238438)scale(0.1 -0.1)\">\r\n       <defs>\r\n        <path d=\"M 19.1875 8.296875 \r\nL 53.609375 8.296875 \r\nL 53.609375 0 \r\nL 7.328125 0 \r\nL 7.328125 8.296875 \r\nQ 12.9375 14.109375 22.625 23.890625 \r\nQ 32.328125 33.6875 34.8125 36.53125 \r\nQ 39.546875 41.84375 41.421875 45.53125 \r\nQ 43.3125 49.21875 43.3125 52.78125 \r\nQ 43.3125 58.59375 39.234375 62.25 \r\nQ 35.15625 65.921875 28.609375 65.921875 \r\nQ 23.96875 65.921875 18.8125 64.3125 \r\nQ 13.671875 62.703125 7.8125 59.421875 \r\nL 7.8125 69.390625 \r\nQ 13.765625 71.78125 18.9375 73 \r\nQ 24.125 74.21875 28.421875 74.21875 \r\nQ 39.75 74.21875 46.484375 68.546875 \r\nQ 53.21875 62.890625 53.21875 53.421875 \r\nQ 53.21875 48.921875 51.53125 44.890625 \r\nQ 49.859375 40.875 45.40625 35.40625 \r\nQ 44.1875 33.984375 37.640625 27.21875 \r\nQ 31.109375 20.453125 19.1875 8.296875 \r\nz\r\n\" id=\"DejaVuSans-50\"/>\r\n       </defs>\r\n       <use xlink:href=\"#DejaVuSans-8722\"/>\r\n       <use x=\"83.789062\" xlink:href=\"#DejaVuSans-50\"/>\r\n      </g>\r\n     </g>\r\n    </g>\r\n    <g id=\"xtick_8\">\r\n     <g id=\"line2d_8\">\r\n      <g>\r\n       <use style=\"stroke:#000000;stroke-width:0.8;\" x=\"329.746283\" xlink:href=\"#m49e7a29703\" y=\"224.64\"/>\r\n      </g>\r\n     </g>\r\n     <g id=\"text_8\">\r\n      <!-- −1 -->\r\n      <g transform=\"translate(322.375189 239.238438)scale(0.1 -0.1)\">\r\n       <defs>\r\n        <path d=\"M 12.40625 8.296875 \r\nL 28.515625 8.296875 \r\nL 28.515625 63.921875 \r\nL 10.984375 60.40625 \r\nL 10.984375 69.390625 \r\nL 28.421875 72.90625 \r\nL 38.28125 72.90625 \r\nL 38.28125 8.296875 \r\nL 54.390625 8.296875 \r\nL 54.390625 0 \r\nL 12.40625 0 \r\nz\r\n\" id=\"DejaVuSans-49\"/>\r\n       </defs>\r\n       <use xlink:href=\"#DejaVuSans-8722\"/>\r\n       <use x=\"83.789062\" xlink:href=\"#DejaVuSans-49\"/>\r\n      </g>\r\n     </g>\r\n    </g>\r\n   </g>\r\n   <g id=\"matplotlib.axis_2\">\r\n    <g id=\"ytick_1\">\r\n     <g id=\"line2d_9\">\r\n      <defs>\r\n       <path d=\"M 0 0 \r\nL -3.5 0 \r\n\" id=\"m3c558a3168\" style=\"stroke:#000000;stroke-width:0.8;\"/>\r\n      </defs>\r\n      <g>\r\n       <use style=\"stroke:#000000;stroke-width:0.8;\" x=\"28.942188\" xlink:href=\"#m3c558a3168\" y=\"203.031782\"/>\r\n      </g>\r\n     </g>\r\n     <g id=\"text_9\">\r\n      <!-- −4 -->\r\n      <g transform=\"translate(7.2 206.831001)scale(0.1 -0.1)\">\r\n       <use xlink:href=\"#DejaVuSans-8722\"/>\r\n       <use x=\"83.789062\" xlink:href=\"#DejaVuSans-52\"/>\r\n      </g>\r\n     </g>\r\n    </g>\r\n    <g id=\"ytick_2\">\r\n     <g id=\"line2d_10\">\r\n      <g>\r\n       <use style=\"stroke:#000000;stroke-width:0.8;\" x=\"28.942188\" xlink:href=\"#m3c558a3168\" y=\"174.479089\"/>\r\n      </g>\r\n     </g>\r\n     <g id=\"text_10\">\r\n      <!-- −3 -->\r\n      <g transform=\"translate(7.2 178.278308)scale(0.1 -0.1)\">\r\n       <use xlink:href=\"#DejaVuSans-8722\"/>\r\n       <use x=\"83.789062\" xlink:href=\"#DejaVuSans-51\"/>\r\n      </g>\r\n     </g>\r\n    </g>\r\n    <g id=\"ytick_3\">\r\n     <g id=\"line2d_11\">\r\n      <g>\r\n       <use style=\"stroke:#000000;stroke-width:0.8;\" x=\"28.942188\" xlink:href=\"#m3c558a3168\" y=\"145.926396\"/>\r\n      </g>\r\n     </g>\r\n     <g id=\"text_11\">\r\n      <!-- −2 -->\r\n      <g transform=\"translate(7.2 149.725615)scale(0.1 -0.1)\">\r\n       <use xlink:href=\"#DejaVuSans-8722\"/>\r\n       <use x=\"83.789062\" xlink:href=\"#DejaVuSans-50\"/>\r\n      </g>\r\n     </g>\r\n    </g>\r\n    <g id=\"ytick_4\">\r\n     <g id=\"line2d_12\">\r\n      <g>\r\n       <use style=\"stroke:#000000;stroke-width:0.8;\" x=\"28.942188\" xlink:href=\"#m3c558a3168\" y=\"117.373703\"/>\r\n      </g>\r\n     </g>\r\n     <g id=\"text_12\">\r\n      <!-- −1 -->\r\n      <g transform=\"translate(7.2 121.172921)scale(0.1 -0.1)\">\r\n       <use xlink:href=\"#DejaVuSans-8722\"/>\r\n       <use x=\"83.789062\" xlink:href=\"#DejaVuSans-49\"/>\r\n      </g>\r\n     </g>\r\n    </g>\r\n    <g id=\"ytick_5\">\r\n     <g id=\"line2d_13\">\r\n      <g>\r\n       <use style=\"stroke:#000000;stroke-width:0.8;\" x=\"28.942188\" xlink:href=\"#m3c558a3168\" y=\"88.821009\"/>\r\n      </g>\r\n     </g>\r\n     <g id=\"text_13\">\r\n      <!-- 0 -->\r\n      <g transform=\"translate(15.579688 92.620228)scale(0.1 -0.1)\">\r\n       <defs>\r\n        <path d=\"M 31.78125 66.40625 \r\nQ 24.171875 66.40625 20.328125 58.90625 \r\nQ 16.5 51.421875 16.5 36.375 \r\nQ 16.5 21.390625 20.328125 13.890625 \r\nQ 24.171875 6.390625 31.78125 6.390625 \r\nQ 39.453125 6.390625 43.28125 13.890625 \r\nQ 47.125 21.390625 47.125 36.375 \r\nQ 47.125 51.421875 43.28125 58.90625 \r\nQ 39.453125 66.40625 31.78125 66.40625 \r\nz\r\nM 31.78125 74.21875 \r\nQ 44.046875 74.21875 50.515625 64.515625 \r\nQ 56.984375 54.828125 56.984375 36.375 \r\nQ 56.984375 17.96875 50.515625 8.265625 \r\nQ 44.046875 -1.421875 31.78125 -1.421875 \r\nQ 19.53125 -1.421875 13.0625 8.265625 \r\nQ 6.59375 17.96875 6.59375 36.375 \r\nQ 6.59375 54.828125 13.0625 64.515625 \r\nQ 19.53125 74.21875 31.78125 74.21875 \r\nz\r\n\" id=\"DejaVuSans-48\"/>\r\n       </defs>\r\n       <use xlink:href=\"#DejaVuSans-48\"/>\r\n      </g>\r\n     </g>\r\n    </g>\r\n    <g id=\"ytick_6\">\r\n     <g id=\"line2d_14\">\r\n      <g>\r\n       <use style=\"stroke:#000000;stroke-width:0.8;\" x=\"28.942188\" xlink:href=\"#m3c558a3168\" y=\"60.268316\"/>\r\n      </g>\r\n     </g>\r\n     <g id=\"text_14\">\r\n      <!-- 1 -->\r\n      <g transform=\"translate(15.579688 64.067535)scale(0.1 -0.1)\">\r\n       <use xlink:href=\"#DejaVuSans-49\"/>\r\n      </g>\r\n     </g>\r\n    </g>\r\n    <g id=\"ytick_7\">\r\n     <g id=\"line2d_15\">\r\n      <g>\r\n       <use style=\"stroke:#000000;stroke-width:0.8;\" x=\"28.942188\" xlink:href=\"#m3c558a3168\" y=\"31.715623\"/>\r\n      </g>\r\n     </g>\r\n     <g id=\"text_15\">\r\n      <!-- 2 -->\r\n      <g transform=\"translate(15.579688 35.514841)scale(0.1 -0.1)\">\r\n       <use xlink:href=\"#DejaVuSans-50\"/>\r\n      </g>\r\n     </g>\r\n    </g>\r\n   </g>\r\n   <g id=\"patch_3\">\r\n    <path d=\"M 28.942188 224.64 \r\nL 28.942188 7.2 \r\n\" style=\"fill:none;stroke:#000000;stroke-linecap:square;stroke-linejoin:miter;stroke-width:0.8;\"/>\r\n   </g>\r\n   <g id=\"patch_4\">\r\n    <path d=\"M 363.742188 224.64 \r\nL 363.742188 7.2 \r\n\" style=\"fill:none;stroke:#000000;stroke-linecap:square;stroke-linejoin:miter;stroke-width:0.8;\"/>\r\n   </g>\r\n   <g id=\"patch_5\">\r\n    <path d=\"M 28.942187 224.64 \r\nL 363.742188 224.64 \r\n\" style=\"fill:none;stroke:#000000;stroke-linecap:square;stroke-linejoin:miter;stroke-width:0.8;\"/>\r\n   </g>\r\n   <g id=\"patch_6\">\r\n    <path d=\"M 28.942187 7.2 \r\nL 363.742188 7.2 \r\n\" style=\"fill:none;stroke:#000000;stroke-linecap:square;stroke-linejoin:miter;stroke-width:0.8;\"/>\r\n   </g>\r\n  </g>\r\n </g>\r\n <defs>\r\n  <clipPath id=\"p74c06faa2f\">\r\n   <rect height=\"217.44\" width=\"334.8\" x=\"28.942188\" y=\"7.2\"/>\r\n  </clipPath>\r\n </defs>\r\n</svg>\r\n",
      "image/png": "[encoded data removed]"
     },
     "metadata": {
      "needs_background": "light"
     }
    }
   ],
   "source": [
    "features = data[0]\n",
    "labels = data[1]\n",
    "plt.scatter(features[:,0], features[:,1], c=labels, cmap='coolwarm')"
   ]
  },
  {
   "cell_type": "code",
   "execution_count": 173,
   "metadata": {},
   "outputs": [
    {
     "output_type": "execute_result",
     "data": {
      "text/plain": [
       "[<matplotlib.lines.Line2D at 0x23ff251e430>]"
      ]
     },
     "metadata": {},
     "execution_count": 173
    },
    {
     "output_type": "display_data",
     "data": {
      "text/plain": "<Figure size 432x288 with 1 Axes>",
      "image/svg+xml": "<?xml version=\"1.0\" encoding=\"utf-8\" standalone=\"no\"?>\r\n<!DOCTYPE svg PUBLIC \"-//W3C//DTD SVG 1.1//EN\"\r\n  \"http://www.w3.org/Graphics/SVG/1.1/DTD/svg11.dtd\">\r\n<!-- Created with matplotlib (https://matplotlib.org/) -->\r\n<svg height=\"248.518125pt\" version=\"1.1\" viewBox=\"0 0 370.942187 248.518125\" width=\"370.942187pt\" xmlns=\"http://www.w3.org/2000/svg\" xmlns:xlink=\"http://www.w3.org/1999/xlink\">\r\n <metadata>\r\n  <rdf:RDF xmlns:cc=\"http://creativecommons.org/ns#\" xmlns:dc=\"http://purl.org/dc/elements/1.1/\" xmlns:rdf=\"http://www.w3.org/1999/02/22-rdf-syntax-ns#\">\r\n   <cc:Work>\r\n    <dc:type rdf:resource=\"http://purl.org/dc/dcmitype/StillImage\"/>\r\n    <dc:date>2021-05-08T18:02:01.762957</dc:date>\r\n    <dc:format>image/svg+xml</dc:format>\r\n    <dc:creator>\r\n     <cc:Agent>\r\n      <dc:title>Matplotlib v3.3.4, https://matplotlib.org/</dc:title>\r\n     </cc:Agent>\r\n    </dc:creator>\r\n   </cc:Work>\r\n  </rdf:RDF>\r\n </metadata>\r\n <defs>\r\n  <style type=\"text/css\">*{stroke-linecap:butt;stroke-linejoin:round;}</style>\r\n </defs>\r\n <g id=\"figure_1\">\r\n  <g id=\"patch_1\">\r\n   <path d=\"M 0 248.518125 \r\nL 370.942187 248.518125 \r\nL 370.942187 0 \r\nL 0 0 \r\nz\r\n\" style=\"fill:none;\"/>\r\n  </g>\r\n  <g id=\"axes_1\">\r\n   <g id=\"patch_2\">\r\n    <path d=\"M 28.942188 224.64 \r\nL 363.742188 224.64 \r\nL 363.742188 7.2 \r\nL 28.942188 7.2 \r\nz\r\n\" style=\"fill:#ffffff;\"/>\r\n   </g>\r\n   <g id=\"PathCollection_1\">\r\n    <defs>\r\n     <path d=\"M 0 3 \r\nC 0.795609 3 1.55874 2.683901 2.12132 2.12132 \r\nC 2.683901 1.55874 3 0.795609 3 -0 \r\nC 3 -0.795609 2.683901 -1.55874 2.12132 -2.12132 \r\nC 1.55874 -2.683901 0.795609 -3 0 -3 \r\nC -0.795609 -3 -1.55874 -2.683901 -2.12132 -2.12132 \r\nC -2.683901 -1.55874 -3 -0.795609 -3 0 \r\nC -3 0.795609 -2.683901 1.55874 -2.12132 2.12132 \r\nC -1.55874 2.683901 -0.795609 3 0 3 \r\nz\r\n\" id=\"C0_0_7a620540e5\"/>\r\n    </defs>\r\n    <g clip-path=\"url(#pa4d447cfc7)\">\r\n     <use style=\"fill:#b40426;stroke:#b40426;\" x=\"62.918414\" xlink:href=\"#C0_0_7a620540e5\" y=\"165.816282\"/>\r\n    </g>\r\n    <g clip-path=\"url(#pa4d447cfc7)\">\r\n     <use style=\"fill:#b40426;stroke:#b40426;\" x=\"87.46843\" xlink:href=\"#C0_0_7a620540e5\" y=\"150.839274\"/>\r\n    </g>\r\n    <g clip-path=\"url(#pa4d447cfc7)\">\r\n     <use style=\"fill:#3b4cc0;stroke:#3b4cc0;\" x=\"182.67739\" xlink:href=\"#C0_0_7a620540e5\" y=\"203.449104\"/>\r\n    </g>\r\n    <g clip-path=\"url(#pa4d447cfc7)\">\r\n     <use style=\"fill:#3b4cc0;stroke:#3b4cc0;\" x=\"181.354161\" xlink:href=\"#C0_0_7a620540e5\" y=\"203.660662\"/>\r\n    </g>\r\n    <g clip-path=\"url(#pa4d447cfc7)\">\r\n     <use style=\"fill:#b40426;stroke:#b40426;\" x=\"98.528279\" xlink:href=\"#C0_0_7a620540e5\" y=\"162.931361\"/>\r\n    </g>\r\n    <g clip-path=\"url(#pa4d447cfc7)\">\r\n     <use style=\"fill:#b40426;stroke:#b40426;\" x=\"88.101209\" xlink:href=\"#C0_0_7a620540e5\" y=\"169.638348\"/>\r\n    </g>\r\n    <g clip-path=\"url(#pa4d447cfc7)\">\r\n     <use style=\"fill:#b40426;stroke:#b40426;\" x=\"64.953502\" xlink:href=\"#C0_0_7a620540e5\" y=\"170.478073\"/>\r\n    </g>\r\n    <g clip-path=\"url(#pa4d447cfc7)\">\r\n     <use style=\"fill:#b40426;stroke:#b40426;\" x=\"81.555706\" xlink:href=\"#C0_0_7a620540e5\" y=\"175.068176\"/>\r\n    </g>\r\n    <g clip-path=\"url(#pa4d447cfc7)\">\r\n     <use style=\"fill:#3b4cc0;stroke:#3b4cc0;\" x=\"210.150401\" xlink:href=\"#C0_0_7a620540e5\" y=\"188.648658\"/>\r\n    </g>\r\n    <g clip-path=\"url(#pa4d447cfc7)\">\r\n     <use style=\"fill:#b40426;stroke:#b40426;\" x=\"102.110732\" xlink:href=\"#C0_0_7a620540e5\" y=\"162.130099\"/>\r\n    </g>\r\n    <g clip-path=\"url(#pa4d447cfc7)\">\r\n     <use style=\"fill:#b40426;stroke:#b40426;\" x=\"77.954072\" xlink:href=\"#C0_0_7a620540e5\" y=\"173.183677\"/>\r\n    </g>\r\n    <g clip-path=\"url(#pa4d447cfc7)\">\r\n     <use style=\"fill:#b40426;stroke:#b40426;\" x=\"67.995155\" xlink:href=\"#C0_0_7a620540e5\" y=\"179.46754\"/>\r\n    </g>\r\n    <g clip-path=\"url(#pa4d447cfc7)\">\r\n     <use style=\"fill:#3b4cc0;stroke:#3b4cc0;\" x=\"209.750153\" xlink:href=\"#C0_0_7a620540e5\" y=\"207.548318\"/>\r\n    </g>\r\n    <g clip-path=\"url(#pa4d447cfc7)\">\r\n     <use style=\"fill:#3b4cc0;stroke:#3b4cc0;\" x=\"209.787009\" xlink:href=\"#C0_0_7a620540e5\" y=\"192.517155\"/>\r\n    </g>\r\n    <g clip-path=\"url(#pa4d447cfc7)\">\r\n     <use style=\"fill:#b40426;stroke:#b40426;\" x=\"69.86921\" xlink:href=\"#C0_0_7a620540e5\" y=\"177.152547\"/>\r\n    </g>\r\n    <g clip-path=\"url(#pa4d447cfc7)\">\r\n     <use style=\"fill:#3b4cc0;stroke:#3b4cc0;\" x=\"168.353552\" xlink:href=\"#C0_0_7a620540e5\" y=\"206.854592\"/>\r\n    </g>\r\n    <g clip-path=\"url(#pa4d447cfc7)\">\r\n     <use style=\"fill:#3b4cc0;stroke:#3b4cc0;\" x=\"186.544023\" xlink:href=\"#C0_0_7a620540e5\" y=\"202.62283\"/>\r\n    </g>\r\n    <g clip-path=\"url(#pa4d447cfc7)\">\r\n     <use style=\"fill:#3b4cc0;stroke:#3b4cc0;\" x=\"192.385289\" xlink:href=\"#C0_0_7a620540e5\" y=\"186.905575\"/>\r\n    </g>\r\n    <g clip-path=\"url(#pa4d447cfc7)\">\r\n     <use style=\"fill:#3b4cc0;stroke:#3b4cc0;\" x=\"185.800045\" xlink:href=\"#C0_0_7a620540e5\" y=\"214.37195\"/>\r\n    </g>\r\n    <g clip-path=\"url(#pa4d447cfc7)\">\r\n     <use style=\"fill:#3b4cc0;stroke:#3b4cc0;\" x=\"193.043279\" xlink:href=\"#C0_0_7a620540e5\" y=\"188.624516\"/>\r\n    </g>\r\n    <g clip-path=\"url(#pa4d447cfc7)\">\r\n     <use style=\"fill:#b40426;stroke:#b40426;\" x=\"122.216967\" xlink:href=\"#C0_0_7a620540e5\" y=\"158.107894\"/>\r\n    </g>\r\n    <g clip-path=\"url(#pa4d447cfc7)\">\r\n     <use style=\"fill:#b40426;stroke:#b40426;\" x=\"112.255308\" xlink:href=\"#C0_0_7a620540e5\" y=\"184.970034\"/>\r\n    </g>\r\n    <g clip-path=\"url(#pa4d447cfc7)\">\r\n     <use style=\"fill:#3b4cc0;stroke:#3b4cc0;\" x=\"208.784954\" xlink:href=\"#C0_0_7a620540e5\" y=\"205.542754\"/>\r\n    </g>\r\n    <g clip-path=\"url(#pa4d447cfc7)\">\r\n     <use style=\"fill:#b40426;stroke:#b40426;\" x=\"105.700073\" xlink:href=\"#C0_0_7a620540e5\" y=\"175.328593\"/>\r\n    </g>\r\n    <g clip-path=\"url(#pa4d447cfc7)\">\r\n     <use style=\"fill:#b40426;stroke:#b40426;\" x=\"55.105965\" xlink:href=\"#C0_0_7a620540e5\" y=\"158.51733\"/>\r\n    </g>\r\n    <g clip-path=\"url(#pa4d447cfc7)\">\r\n     <use style=\"fill:#3b4cc0;stroke:#3b4cc0;\" x=\"209.406221\" xlink:href=\"#C0_0_7a620540e5\" y=\"195.863506\"/>\r\n    </g>\r\n    <g clip-path=\"url(#pa4d447cfc7)\">\r\n     <use style=\"fill:#b40426;stroke:#b40426;\" x=\"100.779943\" xlink:href=\"#C0_0_7a620540e5\" y=\"179.677259\"/>\r\n    </g>\r\n    <g clip-path=\"url(#pa4d447cfc7)\">\r\n     <use style=\"fill:#b40426;stroke:#b40426;\" x=\"70.769686\" xlink:href=\"#C0_0_7a620540e5\" y=\"174.316861\"/>\r\n    </g>\r\n    <g clip-path=\"url(#pa4d447cfc7)\">\r\n     <use style=\"fill:#b40426;stroke:#b40426;\" x=\"44.160369\" xlink:href=\"#C0_0_7a620540e5\" y=\"172.805705\"/>\r\n    </g>\r\n    <g clip-path=\"url(#pa4d447cfc7)\">\r\n     <use style=\"fill:#3b4cc0;stroke:#3b4cc0;\" x=\"198.610676\" xlink:href=\"#C0_0_7a620540e5\" y=\"194.366151\"/>\r\n    </g>\r\n    <g clip-path=\"url(#pa4d447cfc7)\">\r\n     <use style=\"fill:#3b4cc0;stroke:#3b4cc0;\" x=\"161.053385\" xlink:href=\"#C0_0_7a620540e5\" y=\"214.756364\"/>\r\n    </g>\r\n    <g clip-path=\"url(#pa4d447cfc7)\">\r\n     <use style=\"fill:#3b4cc0;stroke:#3b4cc0;\" x=\"202.863815\" xlink:href=\"#C0_0_7a620540e5\" y=\"191.747408\"/>\r\n    </g>\r\n    <g clip-path=\"url(#pa4d447cfc7)\">\r\n     <use style=\"fill:#3b4cc0;stroke:#3b4cc0;\" x=\"184.07078\" xlink:href=\"#C0_0_7a620540e5\" y=\"203.36912\"/>\r\n    </g>\r\n    <g clip-path=\"url(#pa4d447cfc7)\">\r\n     <use style=\"fill:#3b4cc0;stroke:#3b4cc0;\" x=\"212.967629\" xlink:href=\"#C0_0_7a620540e5\" y=\"192.56945\"/>\r\n    </g>\r\n    <g clip-path=\"url(#pa4d447cfc7)\">\r\n     <use style=\"fill:#3b4cc0;stroke:#3b4cc0;\" x=\"219.938994\" xlink:href=\"#C0_0_7a620540e5\" y=\"193.614501\"/>\r\n    </g>\r\n    <g clip-path=\"url(#pa4d447cfc7)\">\r\n     <use style=\"fill:#b40426;stroke:#b40426;\" x=\"69.972855\" xlink:href=\"#C0_0_7a620540e5\" y=\"184.386475\"/>\r\n    </g>\r\n    <g clip-path=\"url(#pa4d447cfc7)\">\r\n     <use style=\"fill:#3b4cc0;stroke:#3b4cc0;\" x=\"174.241413\" xlink:href=\"#C0_0_7a620540e5\" y=\"204.173808\"/>\r\n    </g>\r\n    <g clip-path=\"url(#pa4d447cfc7)\">\r\n     <use style=\"fill:#b40426;stroke:#b40426;\" x=\"87.898642\" xlink:href=\"#C0_0_7a620540e5\" y=\"170.517432\"/>\r\n    </g>\r\n    <g clip-path=\"url(#pa4d447cfc7)\">\r\n     <use style=\"fill:#3b4cc0;stroke:#3b4cc0;\" x=\"198.030505\" xlink:href=\"#C0_0_7a620540e5\" y=\"203.179248\"/>\r\n    </g>\r\n    <g clip-path=\"url(#pa4d447cfc7)\">\r\n     <use style=\"fill:#b40426;stroke:#b40426;\" x=\"83.692791\" xlink:href=\"#C0_0_7a620540e5\" y=\"175.038084\"/>\r\n    </g>\r\n    <g clip-path=\"url(#pa4d447cfc7)\">\r\n     <use style=\"fill:#3b4cc0;stroke:#3b4cc0;\" x=\"192.070889\" xlink:href=\"#C0_0_7a620540e5\" y=\"212.776804\"/>\r\n    </g>\r\n    <g clip-path=\"url(#pa4d447cfc7)\">\r\n     <use style=\"fill:#b40426;stroke:#b40426;\" x=\"50.039005\" xlink:href=\"#C0_0_7a620540e5\" y=\"155.938175\"/>\r\n    </g>\r\n    <g clip-path=\"url(#pa4d447cfc7)\">\r\n     <use style=\"fill:#3b4cc0;stroke:#3b4cc0;\" x=\"210.981613\" xlink:href=\"#C0_0_7a620540e5\" y=\"197.575231\"/>\r\n    </g>\r\n    <g clip-path=\"url(#pa4d447cfc7)\">\r\n     <use style=\"fill:#b40426;stroke:#b40426;\" x=\"93.498718\" xlink:href=\"#C0_0_7a620540e5\" y=\"170.936658\"/>\r\n    </g>\r\n    <g clip-path=\"url(#pa4d447cfc7)\">\r\n     <use style=\"fill:#3b4cc0;stroke:#3b4cc0;\" x=\"177.090315\" xlink:href=\"#C0_0_7a620540e5\" y=\"176.128804\"/>\r\n    </g>\r\n    <g clip-path=\"url(#pa4d447cfc7)\">\r\n     <use style=\"fill:#3b4cc0;stroke:#3b4cc0;\" x=\"186.301186\" xlink:href=\"#C0_0_7a620540e5\" y=\"182.74168\"/>\r\n    </g>\r\n    <g clip-path=\"url(#pa4d447cfc7)\">\r\n     <use style=\"fill:#b40426;stroke:#b40426;\" x=\"61.67578\" xlink:href=\"#C0_0_7a620540e5\" y=\"188.406621\"/>\r\n    </g>\r\n    <g clip-path=\"url(#pa4d447cfc7)\">\r\n     <use style=\"fill:#b40426;stroke:#b40426;\" x=\"120.095469\" xlink:href=\"#C0_0_7a620540e5\" y=\"162.77513\"/>\r\n    </g>\r\n    <g clip-path=\"url(#pa4d447cfc7)\">\r\n     <use style=\"fill:#3b4cc0;stroke:#3b4cc0;\" x=\"158.901889\" xlink:href=\"#C0_0_7a620540e5\" y=\"201.42708\"/>\r\n    </g>\r\n    <g clip-path=\"url(#pa4d447cfc7)\">\r\n     <use style=\"fill:#b40426;stroke:#b40426;\" x=\"99.079824\" xlink:href=\"#C0_0_7a620540e5\" y=\"170.186729\"/>\r\n    </g>\r\n   </g>\r\n   <g id=\"matplotlib.axis_1\">\r\n    <g id=\"xtick_1\">\r\n     <g id=\"line2d_1\">\r\n      <defs>\r\n       <path d=\"M 0 0 \r\nL 0 3.5 \r\n\" id=\"mb9bec9961f\" style=\"stroke:#000000;stroke-width:0.8;\"/>\r\n      </defs>\r\n      <g>\r\n       <use style=\"stroke:#000000;stroke-width:0.8;\" x=\"46.426369\" xlink:href=\"#mb9bec9961f\" y=\"224.64\"/>\r\n      </g>\r\n     </g>\r\n     <g id=\"text_1\">\r\n      <!-- −8 -->\r\n      <g transform=\"translate(39.055275 239.238437)scale(0.1 -0.1)\">\r\n       <defs>\r\n        <path d=\"M 10.59375 35.5 \r\nL 73.1875 35.5 \r\nL 73.1875 27.203125 \r\nL 10.59375 27.203125 \r\nz\r\n\" id=\"DejaVuSans-8722\"/>\r\n        <path d=\"M 31.78125 34.625 \r\nQ 24.75 34.625 20.71875 30.859375 \r\nQ 16.703125 27.09375 16.703125 20.515625 \r\nQ 16.703125 13.921875 20.71875 10.15625 \r\nQ 24.75 6.390625 31.78125 6.390625 \r\nQ 38.8125 6.390625 42.859375 10.171875 \r\nQ 46.921875 13.96875 46.921875 20.515625 \r\nQ 46.921875 27.09375 42.890625 30.859375 \r\nQ 38.875 34.625 31.78125 34.625 \r\nz\r\nM 21.921875 38.8125 \r\nQ 15.578125 40.375 12.03125 44.71875 \r\nQ 8.5 49.078125 8.5 55.328125 \r\nQ 8.5 64.0625 14.71875 69.140625 \r\nQ 20.953125 74.21875 31.78125 74.21875 \r\nQ 42.671875 74.21875 48.875 69.140625 \r\nQ 55.078125 64.0625 55.078125 55.328125 \r\nQ 55.078125 49.078125 51.53125 44.71875 \r\nQ 48 40.375 41.703125 38.8125 \r\nQ 48.828125 37.15625 52.796875 32.3125 \r\nQ 56.78125 27.484375 56.78125 20.515625 \r\nQ 56.78125 9.90625 50.3125 4.234375 \r\nQ 43.84375 -1.421875 31.78125 -1.421875 \r\nQ 19.734375 -1.421875 13.25 4.234375 \r\nQ 6.78125 9.90625 6.78125 20.515625 \r\nQ 6.78125 27.484375 10.78125 32.3125 \r\nQ 14.796875 37.15625 21.921875 38.8125 \r\nz\r\nM 18.3125 54.390625 \r\nQ 18.3125 48.734375 21.84375 45.5625 \r\nQ 25.390625 42.390625 31.78125 42.390625 \r\nQ 38.140625 42.390625 41.71875 45.5625 \r\nQ 45.3125 48.734375 45.3125 54.390625 \r\nQ 45.3125 60.0625 41.71875 63.234375 \r\nQ 38.140625 66.40625 31.78125 66.40625 \r\nQ 25.390625 66.40625 21.84375 63.234375 \r\nQ 18.3125 60.0625 18.3125 54.390625 \r\nz\r\n\" id=\"DejaVuSans-56\"/>\r\n       </defs>\r\n       <use xlink:href=\"#DejaVuSans-8722\"/>\r\n       <use x=\"83.789062\" xlink:href=\"#DejaVuSans-56\"/>\r\n      </g>\r\n     </g>\r\n    </g>\r\n    <g id=\"xtick_2\">\r\n     <g id=\"line2d_2\">\r\n      <g>\r\n       <use style=\"stroke:#000000;stroke-width:0.8;\" x=\"92.902928\" xlink:href=\"#mb9bec9961f\" y=\"224.64\"/>\r\n      </g>\r\n     </g>\r\n     <g id=\"text_2\">\r\n      <!-- −6 -->\r\n      <g transform=\"translate(85.531835 239.238437)scale(0.1 -0.1)\">\r\n       <defs>\r\n        <path d=\"M 33.015625 40.375 \r\nQ 26.375 40.375 22.484375 35.828125 \r\nQ 18.609375 31.296875 18.609375 23.390625 \r\nQ 18.609375 15.53125 22.484375 10.953125 \r\nQ 26.375 6.390625 33.015625 6.390625 \r\nQ 39.65625 6.390625 43.53125 10.953125 \r\nQ 47.40625 15.53125 47.40625 23.390625 \r\nQ 47.40625 31.296875 43.53125 35.828125 \r\nQ 39.65625 40.375 33.015625 40.375 \r\nz\r\nM 52.59375 71.296875 \r\nL 52.59375 62.3125 \r\nQ 48.875 64.0625 45.09375 64.984375 \r\nQ 41.3125 65.921875 37.59375 65.921875 \r\nQ 27.828125 65.921875 22.671875 59.328125 \r\nQ 17.53125 52.734375 16.796875 39.40625 \r\nQ 19.671875 43.65625 24.015625 45.921875 \r\nQ 28.375 48.1875 33.59375 48.1875 \r\nQ 44.578125 48.1875 50.953125 41.515625 \r\nQ 57.328125 34.859375 57.328125 23.390625 \r\nQ 57.328125 12.15625 50.6875 5.359375 \r\nQ 44.046875 -1.421875 33.015625 -1.421875 \r\nQ 20.359375 -1.421875 13.671875 8.265625 \r\nQ 6.984375 17.96875 6.984375 36.375 \r\nQ 6.984375 53.65625 15.1875 63.9375 \r\nQ 23.390625 74.21875 37.203125 74.21875 \r\nQ 40.921875 74.21875 44.703125 73.484375 \r\nQ 48.484375 72.75 52.59375 71.296875 \r\nz\r\n\" id=\"DejaVuSans-54\"/>\r\n       </defs>\r\n       <use xlink:href=\"#DejaVuSans-8722\"/>\r\n       <use x=\"83.789062\" xlink:href=\"#DejaVuSans-54\"/>\r\n      </g>\r\n     </g>\r\n    </g>\r\n    <g id=\"xtick_3\">\r\n     <g id=\"line2d_3\">\r\n      <g>\r\n       <use style=\"stroke:#000000;stroke-width:0.8;\" x=\"139.379488\" xlink:href=\"#mb9bec9961f\" y=\"224.64\"/>\r\n      </g>\r\n     </g>\r\n     <g id=\"text_3\">\r\n      <!-- −4 -->\r\n      <g transform=\"translate(132.008394 239.238437)scale(0.1 -0.1)\">\r\n       <defs>\r\n        <path d=\"M 37.796875 64.3125 \r\nL 12.890625 25.390625 \r\nL 37.796875 25.390625 \r\nz\r\nM 35.203125 72.90625 \r\nL 47.609375 72.90625 \r\nL 47.609375 25.390625 \r\nL 58.015625 25.390625 \r\nL 58.015625 17.1875 \r\nL 47.609375 17.1875 \r\nL 47.609375 0 \r\nL 37.796875 0 \r\nL 37.796875 17.1875 \r\nL 4.890625 17.1875 \r\nL 4.890625 26.703125 \r\nz\r\n\" id=\"DejaVuSans-52\"/>\r\n       </defs>\r\n       <use xlink:href=\"#DejaVuSans-8722\"/>\r\n       <use x=\"83.789062\" xlink:href=\"#DejaVuSans-52\"/>\r\n      </g>\r\n     </g>\r\n    </g>\r\n    <g id=\"xtick_4\">\r\n     <g id=\"line2d_4\">\r\n      <g>\r\n       <use style=\"stroke:#000000;stroke-width:0.8;\" x=\"185.856047\" xlink:href=\"#mb9bec9961f\" y=\"224.64\"/>\r\n      </g>\r\n     </g>\r\n     <g id=\"text_4\">\r\n      <!-- −2 -->\r\n      <g transform=\"translate(178.484954 239.238437)scale(0.1 -0.1)\">\r\n       <defs>\r\n        <path d=\"M 19.1875 8.296875 \r\nL 53.609375 8.296875 \r\nL 53.609375 0 \r\nL 7.328125 0 \r\nL 7.328125 8.296875 \r\nQ 12.9375 14.109375 22.625 23.890625 \r\nQ 32.328125 33.6875 34.8125 36.53125 \r\nQ 39.546875 41.84375 41.421875 45.53125 \r\nQ 43.3125 49.21875 43.3125 52.78125 \r\nQ 43.3125 58.59375 39.234375 62.25 \r\nQ 35.15625 65.921875 28.609375 65.921875 \r\nQ 23.96875 65.921875 18.8125 64.3125 \r\nQ 13.671875 62.703125 7.8125 59.421875 \r\nL 7.8125 69.390625 \r\nQ 13.765625 71.78125 18.9375 73 \r\nQ 24.125 74.21875 28.421875 74.21875 \r\nQ 39.75 74.21875 46.484375 68.546875 \r\nQ 53.21875 62.890625 53.21875 53.421875 \r\nQ 53.21875 48.921875 51.53125 44.890625 \r\nQ 49.859375 40.875 45.40625 35.40625 \r\nQ 44.1875 33.984375 37.640625 27.21875 \r\nQ 31.109375 20.453125 19.1875 8.296875 \r\nz\r\n\" id=\"DejaVuSans-50\"/>\r\n       </defs>\r\n       <use xlink:href=\"#DejaVuSans-8722\"/>\r\n       <use x=\"83.789062\" xlink:href=\"#DejaVuSans-50\"/>\r\n      </g>\r\n     </g>\r\n    </g>\r\n    <g id=\"xtick_5\">\r\n     <g id=\"line2d_5\">\r\n      <g>\r\n       <use style=\"stroke:#000000;stroke-width:0.8;\" x=\"232.332607\" xlink:href=\"#mb9bec9961f\" y=\"224.64\"/>\r\n      </g>\r\n     </g>\r\n     <g id=\"text_5\">\r\n      <!-- 0 -->\r\n      <g transform=\"translate(229.151357 239.238437)scale(0.1 -0.1)\">\r\n       <defs>\r\n        <path d=\"M 31.78125 66.40625 \r\nQ 24.171875 66.40625 20.328125 58.90625 \r\nQ 16.5 51.421875 16.5 36.375 \r\nQ 16.5 21.390625 20.328125 13.890625 \r\nQ 24.171875 6.390625 31.78125 6.390625 \r\nQ 39.453125 6.390625 43.28125 13.890625 \r\nQ 47.125 21.390625 47.125 36.375 \r\nQ 47.125 51.421875 43.28125 58.90625 \r\nQ 39.453125 66.40625 31.78125 66.40625 \r\nz\r\nM 31.78125 74.21875 \r\nQ 44.046875 74.21875 50.515625 64.515625 \r\nQ 56.984375 54.828125 56.984375 36.375 \r\nQ 56.984375 17.96875 50.515625 8.265625 \r\nQ 44.046875 -1.421875 31.78125 -1.421875 \r\nQ 19.53125 -1.421875 13.0625 8.265625 \r\nQ 6.59375 17.96875 6.59375 36.375 \r\nQ 6.59375 54.828125 13.0625 64.515625 \r\nQ 19.53125 74.21875 31.78125 74.21875 \r\nz\r\n\" id=\"DejaVuSans-48\"/>\r\n       </defs>\r\n       <use xlink:href=\"#DejaVuSans-48\"/>\r\n      </g>\r\n     </g>\r\n    </g>\r\n    <g id=\"xtick_6\">\r\n     <g id=\"line2d_6\">\r\n      <g>\r\n       <use style=\"stroke:#000000;stroke-width:0.8;\" x=\"278.809166\" xlink:href=\"#mb9bec9961f\" y=\"224.64\"/>\r\n      </g>\r\n     </g>\r\n     <g id=\"text_6\">\r\n      <!-- 2 -->\r\n      <g transform=\"translate(275.627916 239.238437)scale(0.1 -0.1)\">\r\n       <use xlink:href=\"#DejaVuSans-50\"/>\r\n      </g>\r\n     </g>\r\n    </g>\r\n    <g id=\"xtick_7\">\r\n     <g id=\"line2d_7\">\r\n      <g>\r\n       <use style=\"stroke:#000000;stroke-width:0.8;\" x=\"325.285726\" xlink:href=\"#mb9bec9961f\" y=\"224.64\"/>\r\n      </g>\r\n     </g>\r\n     <g id=\"text_7\">\r\n      <!-- 4 -->\r\n      <g transform=\"translate(322.104476 239.238437)scale(0.1 -0.1)\">\r\n       <use xlink:href=\"#DejaVuSans-52\"/>\r\n      </g>\r\n     </g>\r\n    </g>\r\n   </g>\r\n   <g id=\"matplotlib.axis_2\">\r\n    <g id=\"ytick_1\">\r\n     <g id=\"line2d_8\">\r\n      <defs>\r\n       <path d=\"M 0 0 \r\nL -3.5 0 \r\n\" id=\"mcf1abb9b31\" style=\"stroke:#000000;stroke-width:0.8;\"/>\r\n      </defs>\r\n      <g>\r\n       <use style=\"stroke:#000000;stroke-width:0.8;\" x=\"28.942188\" xlink:href=\"#mcf1abb9b31\" y=\"220.197701\"/>\r\n      </g>\r\n     </g>\r\n     <g id=\"text_8\">\r\n      <!-- −5 -->\r\n      <g transform=\"translate(7.2 223.996919)scale(0.1 -0.1)\">\r\n       <defs>\r\n        <path d=\"M 10.796875 72.90625 \r\nL 49.515625 72.90625 \r\nL 49.515625 64.59375 \r\nL 19.828125 64.59375 \r\nL 19.828125 46.734375 \r\nQ 21.96875 47.46875 24.109375 47.828125 \r\nQ 26.265625 48.1875 28.421875 48.1875 \r\nQ 40.625 48.1875 47.75 41.5 \r\nQ 54.890625 34.8125 54.890625 23.390625 \r\nQ 54.890625 11.625 47.5625 5.09375 \r\nQ 40.234375 -1.421875 26.90625 -1.421875 \r\nQ 22.3125 -1.421875 17.546875 -0.640625 \r\nQ 12.796875 0.140625 7.71875 1.703125 \r\nL 7.71875 11.625 \r\nQ 12.109375 9.234375 16.796875 8.0625 \r\nQ 21.484375 6.890625 26.703125 6.890625 \r\nQ 35.15625 6.890625 40.078125 11.328125 \r\nQ 45.015625 15.765625 45.015625 23.390625 \r\nQ 45.015625 31 40.078125 35.4375 \r\nQ 35.15625 39.890625 26.703125 39.890625 \r\nQ 22.75 39.890625 18.8125 39.015625 \r\nQ 14.890625 38.140625 10.796875 36.28125 \r\nz\r\n\" id=\"DejaVuSans-53\"/>\r\n       </defs>\r\n       <use xlink:href=\"#DejaVuSans-8722\"/>\r\n       <use x=\"83.789062\" xlink:href=\"#DejaVuSans-53\"/>\r\n      </g>\r\n     </g>\r\n    </g>\r\n    <g id=\"ytick_2\">\r\n     <g id=\"line2d_9\">\r\n      <g>\r\n       <use style=\"stroke:#000000;stroke-width:0.8;\" x=\"28.942188\" xlink:href=\"#mcf1abb9b31\" y=\"174.035413\"/>\r\n      </g>\r\n     </g>\r\n     <g id=\"text_9\">\r\n      <!-- 0 -->\r\n      <g transform=\"translate(15.579688 177.834632)scale(0.1 -0.1)\">\r\n       <use xlink:href=\"#DejaVuSans-48\"/>\r\n      </g>\r\n     </g>\r\n    </g>\r\n    <g id=\"ytick_3\">\r\n     <g id=\"line2d_10\">\r\n      <g>\r\n       <use style=\"stroke:#000000;stroke-width:0.8;\" x=\"28.942188\" xlink:href=\"#mcf1abb9b31\" y=\"127.873126\"/>\r\n      </g>\r\n     </g>\r\n     <g id=\"text_10\">\r\n      <!-- 5 -->\r\n      <g transform=\"translate(15.579688 131.672345)scale(0.1 -0.1)\">\r\n       <use xlink:href=\"#DejaVuSans-53\"/>\r\n      </g>\r\n     </g>\r\n    </g>\r\n    <g id=\"ytick_4\">\r\n     <g id=\"line2d_11\">\r\n      <g>\r\n       <use style=\"stroke:#000000;stroke-width:0.8;\" x=\"28.942188\" xlink:href=\"#mcf1abb9b31\" y=\"81.710839\"/>\r\n      </g>\r\n     </g>\r\n     <g id=\"text_11\">\r\n      <!-- 10 -->\r\n      <g transform=\"translate(9.217188 85.510057)scale(0.1 -0.1)\">\r\n       <defs>\r\n        <path d=\"M 12.40625 8.296875 \r\nL 28.515625 8.296875 \r\nL 28.515625 63.921875 \r\nL 10.984375 60.40625 \r\nL 10.984375 69.390625 \r\nL 28.421875 72.90625 \r\nL 38.28125 72.90625 \r\nL 38.28125 8.296875 \r\nL 54.390625 8.296875 \r\nL 54.390625 0 \r\nL 12.40625 0 \r\nz\r\n\" id=\"DejaVuSans-49\"/>\r\n       </defs>\r\n       <use xlink:href=\"#DejaVuSans-49\"/>\r\n       <use x=\"63.623047\" xlink:href=\"#DejaVuSans-48\"/>\r\n      </g>\r\n     </g>\r\n    </g>\r\n    <g id=\"ytick_5\">\r\n     <g id=\"line2d_12\">\r\n      <g>\r\n       <use style=\"stroke:#000000;stroke-width:0.8;\" x=\"28.942188\" xlink:href=\"#mcf1abb9b31\" y=\"35.548551\"/>\r\n      </g>\r\n     </g>\r\n     <g id=\"text_12\">\r\n      <!-- 15 -->\r\n      <g transform=\"translate(9.217188 39.34777)scale(0.1 -0.1)\">\r\n       <use xlink:href=\"#DejaVuSans-49\"/>\r\n       <use x=\"63.623047\" xlink:href=\"#DejaVuSans-53\"/>\r\n      </g>\r\n     </g>\r\n    </g>\r\n   </g>\r\n   <g id=\"line2d_13\">\r\n    <path clip-path=\"url(#pa4d447cfc7)\" d=\"M 116.141208 201.732786 \r\nL 141.961519 181.216214 \r\nL 167.78183 160.699641 \r\nL 193.602141 140.183069 \r\nL 219.422451 119.666497 \r\nL 245.242762 99.149925 \r\nL 271.063073 78.633353 \r\nL 296.883384 58.116781 \r\nL 322.703695 37.600209 \r\nL 348.524006 17.083636 \r\n\" style=\"fill:none;stroke:#1f77b4;stroke-linecap:square;stroke-width:1.5;\"/>\r\n   </g>\r\n   <g id=\"patch_3\">\r\n    <path d=\"M 28.942188 224.64 \r\nL 28.942188 7.2 \r\n\" style=\"fill:none;stroke:#000000;stroke-linecap:square;stroke-linejoin:miter;stroke-width:0.8;\"/>\r\n   </g>\r\n   <g id=\"patch_4\">\r\n    <path d=\"M 363.742188 224.64 \r\nL 363.742188 7.2 \r\n\" style=\"fill:none;stroke:#000000;stroke-linecap:square;stroke-linejoin:miter;stroke-width:0.8;\"/>\r\n   </g>\r\n   <g id=\"patch_5\">\r\n    <path d=\"M 28.942187 224.64 \r\nL 363.742188 224.64 \r\n\" style=\"fill:none;stroke:#000000;stroke-linecap:square;stroke-linejoin:miter;stroke-width:0.8;\"/>\r\n   </g>\r\n   <g id=\"patch_6\">\r\n    <path d=\"M 28.942187 7.2 \r\nL 363.742188 7.2 \r\n\" style=\"fill:none;stroke:#000000;stroke-linecap:square;stroke-linejoin:miter;stroke-width:0.8;\"/>\r\n   </g>\r\n  </g>\r\n </g>\r\n <defs>\r\n  <clipPath id=\"pa4d447cfc7\">\r\n   <rect height=\"217.44\" width=\"334.8\" x=\"28.942188\" y=\"7.2\"/>\r\n  </clipPath>\r\n </defs>\r\n</svg>\r\n",
      "image/png": "[encoded data removed]"
     },
     "metadata": {
      "needs_background": "light"
     }
    }
   ],
   "source": [
    "x = np.linspace(-5, 5, 10)\n",
    "y = x*2 + 7\n",
    "plt.scatter(features[:,0], features[:,1], c=labels, cmap='coolwarm')\n",
    "plt.plot(x, y)"
   ]
  },
  {
   "source": [
    "y = mx + B\n",
    "\n",
    "y = 2 * x + 4\n",
    "\n",
    "both y and x are features!\n",
    "\n",
    "f1 = 2 * f2 + 4\n",
    "\n",
    "f1 + f2 + 2 = 0\n",
    "\n",
    "FeatureMatrix[1, 1] + 2 = 0"
   ],
   "cell_type": "markdown",
   "metadata": {}
  },
  {
   "cell_type": "code",
   "execution_count": 174,
   "metadata": {},
   "outputs": [
    {
     "output_type": "execute_result",
     "data": {
      "text/plain": [
       "array([4])"
      ]
     },
     "metadata": {},
     "execution_count": 174
    }
   ],
   "source": [
    "np.array([1, 1]).dot(np.array([[-6], [3]])) + 7"
   ]
  },
  {
   "cell_type": "code",
   "execution_count": 175,
   "metadata": {},
   "outputs": [
    {
     "output_type": "execute_result",
     "data": {
      "text/plain": [
       "array([3])"
      ]
     },
     "metadata": {},
     "execution_count": 175
    }
   ],
   "source": [
    "np.array([1, 1]).dot(np.array([[-1], [-3]])) + 7"
   ]
  },
  {
   "cell_type": "code",
   "execution_count": 176,
   "metadata": {},
   "outputs": [],
   "source": [
    "g = Graph()\n",
    "g.set_as_default()\n",
    "x = Placeholder()\n",
    "w = Variable([1, 1])\n",
    "b = Variable(-5)\n",
    "z = Add(MatMul(w, x), b)\n",
    "a = Sigmoid(z)"
   ]
  },
  {
   "cell_type": "code",
   "execution_count": 183,
   "metadata": {},
   "outputs": [
    {
     "output_type": "execute_result",
     "data": {
      "text/plain": [
       "0.11920292202211755"
      ]
     },
     "metadata": {},
     "execution_count": 183
    }
   ],
   "source": [
    "session = Session()\n",
    "session.run(operation=a, feed_dict={x:[1,2]})"
   ]
  },
  {
   "cell_type": "code",
   "execution_count": 178,
   "metadata": {},
   "outputs": [
    {
     "output_type": "execute_result",
     "data": {
      "text/plain": [
       "1.670142184809518e-05"
      ]
     },
     "metadata": {},
     "execution_count": 178
    }
   ],
   "source": [
    "session.run(operation=a, feed_dict={x:[-2,-4]})"
   ]
  },
  {
   "cell_type": "code",
   "execution_count": null,
   "metadata": {},
   "outputs": [],
   "source": []
  }
 ]
}